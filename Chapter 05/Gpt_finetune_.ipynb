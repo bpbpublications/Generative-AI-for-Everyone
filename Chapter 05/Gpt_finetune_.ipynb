{
  "nbformat": 4,
  "nbformat_minor": 0,
  "metadata": {
    "colab": {
      "provenance": [],
      "collapsed_sections": [
        "ngQjZZH5BJ9o",
        "PZhy1hNlBIHc",
        "_czqwsCZxLr1",
        "Q01AJR1FC74h"
      ],
      "machine_shape": "hm",
      "gpuType": "A100"
    },
    "kernelspec": {
      "name": "python3",
      "display_name": "Python 3"
    },
    "language_info": {
      "name": "python"
    },
    "accelerator": "GPU",
    "widgets": {
      "application/vnd.jupyter.widget-state+json": {
        "4b51c722ce7a41e2b49ea0eb654106a5": {
          "model_module": "@jupyter-widgets/controls",
          "model_name": "HBoxModel",
          "model_module_version": "1.5.0",
          "state": {
            "_dom_classes": [],
            "_model_module": "@jupyter-widgets/controls",
            "_model_module_version": "1.5.0",
            "_model_name": "HBoxModel",
            "_view_count": null,
            "_view_module": "@jupyter-widgets/controls",
            "_view_module_version": "1.5.0",
            "_view_name": "HBoxView",
            "box_style": "",
            "children": [
              "IPY_MODEL_6a64fc168b8c4570ad6f387e3b0ea19c",
              "IPY_MODEL_0d391a847c1f45b6934803868d84ae18",
              "IPY_MODEL_e9ad53fcf8b94bc8a44acc4d9c32ec3c"
            ],
            "layout": "IPY_MODEL_1aac282577be4f038fa1980592ab13cf"
          }
        },
        "6a64fc168b8c4570ad6f387e3b0ea19c": {
          "model_module": "@jupyter-widgets/controls",
          "model_name": "HTMLModel",
          "model_module_version": "1.5.0",
          "state": {
            "_dom_classes": [],
            "_model_module": "@jupyter-widgets/controls",
            "_model_module_version": "1.5.0",
            "_model_name": "HTMLModel",
            "_view_count": null,
            "_view_module": "@jupyter-widgets/controls",
            "_view_module_version": "1.5.0",
            "_view_name": "HTMLView",
            "description": "",
            "description_tooltip": null,
            "layout": "IPY_MODEL_33d764bee64f4f19ad244108543ffbd6",
            "placeholder": "​",
            "style": "IPY_MODEL_dbdd360b2d0c499e9bf626c2f9360a08",
            "value": "config.json: 100%"
          }
        },
        "0d391a847c1f45b6934803868d84ae18": {
          "model_module": "@jupyter-widgets/controls",
          "model_name": "FloatProgressModel",
          "model_module_version": "1.5.0",
          "state": {
            "_dom_classes": [],
            "_model_module": "@jupyter-widgets/controls",
            "_model_module_version": "1.5.0",
            "_model_name": "FloatProgressModel",
            "_view_count": null,
            "_view_module": "@jupyter-widgets/controls",
            "_view_module_version": "1.5.0",
            "_view_name": "ProgressView",
            "bar_style": "success",
            "description": "",
            "description_tooltip": null,
            "layout": "IPY_MODEL_640b8772f6b349f68ade2a7666bcca26",
            "max": 665,
            "min": 0,
            "orientation": "horizontal",
            "style": "IPY_MODEL_2dc21a5ad66f4b91b045180a116afa54",
            "value": 665
          }
        },
        "e9ad53fcf8b94bc8a44acc4d9c32ec3c": {
          "model_module": "@jupyter-widgets/controls",
          "model_name": "HTMLModel",
          "model_module_version": "1.5.0",
          "state": {
            "_dom_classes": [],
            "_model_module": "@jupyter-widgets/controls",
            "_model_module_version": "1.5.0",
            "_model_name": "HTMLModel",
            "_view_count": null,
            "_view_module": "@jupyter-widgets/controls",
            "_view_module_version": "1.5.0",
            "_view_name": "HTMLView",
            "description": "",
            "description_tooltip": null,
            "layout": "IPY_MODEL_cfa41ce92f6948648f02f3b5df3a4d39",
            "placeholder": "​",
            "style": "IPY_MODEL_e0643bafd6614830b980926e0ff16c8b",
            "value": " 665/665 [00:00&lt;00:00, 56.7kB/s]"
          }
        },
        "1aac282577be4f038fa1980592ab13cf": {
          "model_module": "@jupyter-widgets/base",
          "model_name": "LayoutModel",
          "model_module_version": "1.2.0",
          "state": {
            "_model_module": "@jupyter-widgets/base",
            "_model_module_version": "1.2.0",
            "_model_name": "LayoutModel",
            "_view_count": null,
            "_view_module": "@jupyter-widgets/base",
            "_view_module_version": "1.2.0",
            "_view_name": "LayoutView",
            "align_content": null,
            "align_items": null,
            "align_self": null,
            "border": null,
            "bottom": null,
            "display": null,
            "flex": null,
            "flex_flow": null,
            "grid_area": null,
            "grid_auto_columns": null,
            "grid_auto_flow": null,
            "grid_auto_rows": null,
            "grid_column": null,
            "grid_gap": null,
            "grid_row": null,
            "grid_template_areas": null,
            "grid_template_columns": null,
            "grid_template_rows": null,
            "height": null,
            "justify_content": null,
            "justify_items": null,
            "left": null,
            "margin": null,
            "max_height": null,
            "max_width": null,
            "min_height": null,
            "min_width": null,
            "object_fit": null,
            "object_position": null,
            "order": null,
            "overflow": null,
            "overflow_x": null,
            "overflow_y": null,
            "padding": null,
            "right": null,
            "top": null,
            "visibility": null,
            "width": null
          }
        },
        "33d764bee64f4f19ad244108543ffbd6": {
          "model_module": "@jupyter-widgets/base",
          "model_name": "LayoutModel",
          "model_module_version": "1.2.0",
          "state": {
            "_model_module": "@jupyter-widgets/base",
            "_model_module_version": "1.2.0",
            "_model_name": "LayoutModel",
            "_view_count": null,
            "_view_module": "@jupyter-widgets/base",
            "_view_module_version": "1.2.0",
            "_view_name": "LayoutView",
            "align_content": null,
            "align_items": null,
            "align_self": null,
            "border": null,
            "bottom": null,
            "display": null,
            "flex": null,
            "flex_flow": null,
            "grid_area": null,
            "grid_auto_columns": null,
            "grid_auto_flow": null,
            "grid_auto_rows": null,
            "grid_column": null,
            "grid_gap": null,
            "grid_row": null,
            "grid_template_areas": null,
            "grid_template_columns": null,
            "grid_template_rows": null,
            "height": null,
            "justify_content": null,
            "justify_items": null,
            "left": null,
            "margin": null,
            "max_height": null,
            "max_width": null,
            "min_height": null,
            "min_width": null,
            "object_fit": null,
            "object_position": null,
            "order": null,
            "overflow": null,
            "overflow_x": null,
            "overflow_y": null,
            "padding": null,
            "right": null,
            "top": null,
            "visibility": null,
            "width": null
          }
        },
        "dbdd360b2d0c499e9bf626c2f9360a08": {
          "model_module": "@jupyter-widgets/controls",
          "model_name": "DescriptionStyleModel",
          "model_module_version": "1.5.0",
          "state": {
            "_model_module": "@jupyter-widgets/controls",
            "_model_module_version": "1.5.0",
            "_model_name": "DescriptionStyleModel",
            "_view_count": null,
            "_view_module": "@jupyter-widgets/base",
            "_view_module_version": "1.2.0",
            "_view_name": "StyleView",
            "description_width": ""
          }
        },
        "640b8772f6b349f68ade2a7666bcca26": {
          "model_module": "@jupyter-widgets/base",
          "model_name": "LayoutModel",
          "model_module_version": "1.2.0",
          "state": {
            "_model_module": "@jupyter-widgets/base",
            "_model_module_version": "1.2.0",
            "_model_name": "LayoutModel",
            "_view_count": null,
            "_view_module": "@jupyter-widgets/base",
            "_view_module_version": "1.2.0",
            "_view_name": "LayoutView",
            "align_content": null,
            "align_items": null,
            "align_self": null,
            "border": null,
            "bottom": null,
            "display": null,
            "flex": null,
            "flex_flow": null,
            "grid_area": null,
            "grid_auto_columns": null,
            "grid_auto_flow": null,
            "grid_auto_rows": null,
            "grid_column": null,
            "grid_gap": null,
            "grid_row": null,
            "grid_template_areas": null,
            "grid_template_columns": null,
            "grid_template_rows": null,
            "height": null,
            "justify_content": null,
            "justify_items": null,
            "left": null,
            "margin": null,
            "max_height": null,
            "max_width": null,
            "min_height": null,
            "min_width": null,
            "object_fit": null,
            "object_position": null,
            "order": null,
            "overflow": null,
            "overflow_x": null,
            "overflow_y": null,
            "padding": null,
            "right": null,
            "top": null,
            "visibility": null,
            "width": null
          }
        },
        "2dc21a5ad66f4b91b045180a116afa54": {
          "model_module": "@jupyter-widgets/controls",
          "model_name": "ProgressStyleModel",
          "model_module_version": "1.5.0",
          "state": {
            "_model_module": "@jupyter-widgets/controls",
            "_model_module_version": "1.5.0",
            "_model_name": "ProgressStyleModel",
            "_view_count": null,
            "_view_module": "@jupyter-widgets/base",
            "_view_module_version": "1.2.0",
            "_view_name": "StyleView",
            "bar_color": null,
            "description_width": ""
          }
        },
        "cfa41ce92f6948648f02f3b5df3a4d39": {
          "model_module": "@jupyter-widgets/base",
          "model_name": "LayoutModel",
          "model_module_version": "1.2.0",
          "state": {
            "_model_module": "@jupyter-widgets/base",
            "_model_module_version": "1.2.0",
            "_model_name": "LayoutModel",
            "_view_count": null,
            "_view_module": "@jupyter-widgets/base",
            "_view_module_version": "1.2.0",
            "_view_name": "LayoutView",
            "align_content": null,
            "align_items": null,
            "align_self": null,
            "border": null,
            "bottom": null,
            "display": null,
            "flex": null,
            "flex_flow": null,
            "grid_area": null,
            "grid_auto_columns": null,
            "grid_auto_flow": null,
            "grid_auto_rows": null,
            "grid_column": null,
            "grid_gap": null,
            "grid_row": null,
            "grid_template_areas": null,
            "grid_template_columns": null,
            "grid_template_rows": null,
            "height": null,
            "justify_content": null,
            "justify_items": null,
            "left": null,
            "margin": null,
            "max_height": null,
            "max_width": null,
            "min_height": null,
            "min_width": null,
            "object_fit": null,
            "object_position": null,
            "order": null,
            "overflow": null,
            "overflow_x": null,
            "overflow_y": null,
            "padding": null,
            "right": null,
            "top": null,
            "visibility": null,
            "width": null
          }
        },
        "e0643bafd6614830b980926e0ff16c8b": {
          "model_module": "@jupyter-widgets/controls",
          "model_name": "DescriptionStyleModel",
          "model_module_version": "1.5.0",
          "state": {
            "_model_module": "@jupyter-widgets/controls",
            "_model_module_version": "1.5.0",
            "_model_name": "DescriptionStyleModel",
            "_view_count": null,
            "_view_module": "@jupyter-widgets/base",
            "_view_module_version": "1.2.0",
            "_view_name": "StyleView",
            "description_width": ""
          }
        },
        "d55cf07cc1e54483aef146e37eb22a2f": {
          "model_module": "@jupyter-widgets/controls",
          "model_name": "HBoxModel",
          "model_module_version": "1.5.0",
          "state": {
            "_dom_classes": [],
            "_model_module": "@jupyter-widgets/controls",
            "_model_module_version": "1.5.0",
            "_model_name": "HBoxModel",
            "_view_count": null,
            "_view_module": "@jupyter-widgets/controls",
            "_view_module_version": "1.5.0",
            "_view_name": "HBoxView",
            "box_style": "",
            "children": [
              "IPY_MODEL_8ef83e336817413a8a0fd547fbfc8e4b",
              "IPY_MODEL_b8afc519e03c4924b9bc953fe67ec14e",
              "IPY_MODEL_ad60da9d590b4ecbb45193db4e691ca0"
            ],
            "layout": "IPY_MODEL_cae2f79c0d304b67b342985a9660655d"
          }
        },
        "8ef83e336817413a8a0fd547fbfc8e4b": {
          "model_module": "@jupyter-widgets/controls",
          "model_name": "HTMLModel",
          "model_module_version": "1.5.0",
          "state": {
            "_dom_classes": [],
            "_model_module": "@jupyter-widgets/controls",
            "_model_module_version": "1.5.0",
            "_model_name": "HTMLModel",
            "_view_count": null,
            "_view_module": "@jupyter-widgets/controls",
            "_view_module_version": "1.5.0",
            "_view_name": "HTMLView",
            "description": "",
            "description_tooltip": null,
            "layout": "IPY_MODEL_eaa7910cebb24e3eab546cf33c641030",
            "placeholder": "​",
            "style": "IPY_MODEL_eb7dd7d8d68841e0ae766eef5cc0df86",
            "value": "model.safetensors: 100%"
          }
        },
        "b8afc519e03c4924b9bc953fe67ec14e": {
          "model_module": "@jupyter-widgets/controls",
          "model_name": "FloatProgressModel",
          "model_module_version": "1.5.0",
          "state": {
            "_dom_classes": [],
            "_model_module": "@jupyter-widgets/controls",
            "_model_module_version": "1.5.0",
            "_model_name": "FloatProgressModel",
            "_view_count": null,
            "_view_module": "@jupyter-widgets/controls",
            "_view_module_version": "1.5.0",
            "_view_name": "ProgressView",
            "bar_style": "success",
            "description": "",
            "description_tooltip": null,
            "layout": "IPY_MODEL_dc7b5a1d53f8479d99db28ff57424d65",
            "max": 548105171,
            "min": 0,
            "orientation": "horizontal",
            "style": "IPY_MODEL_5c606ae91c6442f7b4c7f953c7b9cbb3",
            "value": 548105171
          }
        },
        "ad60da9d590b4ecbb45193db4e691ca0": {
          "model_module": "@jupyter-widgets/controls",
          "model_name": "HTMLModel",
          "model_module_version": "1.5.0",
          "state": {
            "_dom_classes": [],
            "_model_module": "@jupyter-widgets/controls",
            "_model_module_version": "1.5.0",
            "_model_name": "HTMLModel",
            "_view_count": null,
            "_view_module": "@jupyter-widgets/controls",
            "_view_module_version": "1.5.0",
            "_view_name": "HTMLView",
            "description": "",
            "description_tooltip": null,
            "layout": "IPY_MODEL_8c36aede3b4a4e84b86aa268bc25e5ae",
            "placeholder": "​",
            "style": "IPY_MODEL_927c37a8f73749fb837ba6570c95abf9",
            "value": " 548M/548M [00:01&lt;00:00, 342MB/s]"
          }
        },
        "cae2f79c0d304b67b342985a9660655d": {
          "model_module": "@jupyter-widgets/base",
          "model_name": "LayoutModel",
          "model_module_version": "1.2.0",
          "state": {
            "_model_module": "@jupyter-widgets/base",
            "_model_module_version": "1.2.0",
            "_model_name": "LayoutModel",
            "_view_count": null,
            "_view_module": "@jupyter-widgets/base",
            "_view_module_version": "1.2.0",
            "_view_name": "LayoutView",
            "align_content": null,
            "align_items": null,
            "align_self": null,
            "border": null,
            "bottom": null,
            "display": null,
            "flex": null,
            "flex_flow": null,
            "grid_area": null,
            "grid_auto_columns": null,
            "grid_auto_flow": null,
            "grid_auto_rows": null,
            "grid_column": null,
            "grid_gap": null,
            "grid_row": null,
            "grid_template_areas": null,
            "grid_template_columns": null,
            "grid_template_rows": null,
            "height": null,
            "justify_content": null,
            "justify_items": null,
            "left": null,
            "margin": null,
            "max_height": null,
            "max_width": null,
            "min_height": null,
            "min_width": null,
            "object_fit": null,
            "object_position": null,
            "order": null,
            "overflow": null,
            "overflow_x": null,
            "overflow_y": null,
            "padding": null,
            "right": null,
            "top": null,
            "visibility": null,
            "width": null
          }
        },
        "eaa7910cebb24e3eab546cf33c641030": {
          "model_module": "@jupyter-widgets/base",
          "model_name": "LayoutModel",
          "model_module_version": "1.2.0",
          "state": {
            "_model_module": "@jupyter-widgets/base",
            "_model_module_version": "1.2.0",
            "_model_name": "LayoutModel",
            "_view_count": null,
            "_view_module": "@jupyter-widgets/base",
            "_view_module_version": "1.2.0",
            "_view_name": "LayoutView",
            "align_content": null,
            "align_items": null,
            "align_self": null,
            "border": null,
            "bottom": null,
            "display": null,
            "flex": null,
            "flex_flow": null,
            "grid_area": null,
            "grid_auto_columns": null,
            "grid_auto_flow": null,
            "grid_auto_rows": null,
            "grid_column": null,
            "grid_gap": null,
            "grid_row": null,
            "grid_template_areas": null,
            "grid_template_columns": null,
            "grid_template_rows": null,
            "height": null,
            "justify_content": null,
            "justify_items": null,
            "left": null,
            "margin": null,
            "max_height": null,
            "max_width": null,
            "min_height": null,
            "min_width": null,
            "object_fit": null,
            "object_position": null,
            "order": null,
            "overflow": null,
            "overflow_x": null,
            "overflow_y": null,
            "padding": null,
            "right": null,
            "top": null,
            "visibility": null,
            "width": null
          }
        },
        "eb7dd7d8d68841e0ae766eef5cc0df86": {
          "model_module": "@jupyter-widgets/controls",
          "model_name": "DescriptionStyleModel",
          "model_module_version": "1.5.0",
          "state": {
            "_model_module": "@jupyter-widgets/controls",
            "_model_module_version": "1.5.0",
            "_model_name": "DescriptionStyleModel",
            "_view_count": null,
            "_view_module": "@jupyter-widgets/base",
            "_view_module_version": "1.2.0",
            "_view_name": "StyleView",
            "description_width": ""
          }
        },
        "dc7b5a1d53f8479d99db28ff57424d65": {
          "model_module": "@jupyter-widgets/base",
          "model_name": "LayoutModel",
          "model_module_version": "1.2.0",
          "state": {
            "_model_module": "@jupyter-widgets/base",
            "_model_module_version": "1.2.0",
            "_model_name": "LayoutModel",
            "_view_count": null,
            "_view_module": "@jupyter-widgets/base",
            "_view_module_version": "1.2.0",
            "_view_name": "LayoutView",
            "align_content": null,
            "align_items": null,
            "align_self": null,
            "border": null,
            "bottom": null,
            "display": null,
            "flex": null,
            "flex_flow": null,
            "grid_area": null,
            "grid_auto_columns": null,
            "grid_auto_flow": null,
            "grid_auto_rows": null,
            "grid_column": null,
            "grid_gap": null,
            "grid_row": null,
            "grid_template_areas": null,
            "grid_template_columns": null,
            "grid_template_rows": null,
            "height": null,
            "justify_content": null,
            "justify_items": null,
            "left": null,
            "margin": null,
            "max_height": null,
            "max_width": null,
            "min_height": null,
            "min_width": null,
            "object_fit": null,
            "object_position": null,
            "order": null,
            "overflow": null,
            "overflow_x": null,
            "overflow_y": null,
            "padding": null,
            "right": null,
            "top": null,
            "visibility": null,
            "width": null
          }
        },
        "5c606ae91c6442f7b4c7f953c7b9cbb3": {
          "model_module": "@jupyter-widgets/controls",
          "model_name": "ProgressStyleModel",
          "model_module_version": "1.5.0",
          "state": {
            "_model_module": "@jupyter-widgets/controls",
            "_model_module_version": "1.5.0",
            "_model_name": "ProgressStyleModel",
            "_view_count": null,
            "_view_module": "@jupyter-widgets/base",
            "_view_module_version": "1.2.0",
            "_view_name": "StyleView",
            "bar_color": null,
            "description_width": ""
          }
        },
        "8c36aede3b4a4e84b86aa268bc25e5ae": {
          "model_module": "@jupyter-widgets/base",
          "model_name": "LayoutModel",
          "model_module_version": "1.2.0",
          "state": {
            "_model_module": "@jupyter-widgets/base",
            "_model_module_version": "1.2.0",
            "_model_name": "LayoutModel",
            "_view_count": null,
            "_view_module": "@jupyter-widgets/base",
            "_view_module_version": "1.2.0",
            "_view_name": "LayoutView",
            "align_content": null,
            "align_items": null,
            "align_self": null,
            "border": null,
            "bottom": null,
            "display": null,
            "flex": null,
            "flex_flow": null,
            "grid_area": null,
            "grid_auto_columns": null,
            "grid_auto_flow": null,
            "grid_auto_rows": null,
            "grid_column": null,
            "grid_gap": null,
            "grid_row": null,
            "grid_template_areas": null,
            "grid_template_columns": null,
            "grid_template_rows": null,
            "height": null,
            "justify_content": null,
            "justify_items": null,
            "left": null,
            "margin": null,
            "max_height": null,
            "max_width": null,
            "min_height": null,
            "min_width": null,
            "object_fit": null,
            "object_position": null,
            "order": null,
            "overflow": null,
            "overflow_x": null,
            "overflow_y": null,
            "padding": null,
            "right": null,
            "top": null,
            "visibility": null,
            "width": null
          }
        },
        "927c37a8f73749fb837ba6570c95abf9": {
          "model_module": "@jupyter-widgets/controls",
          "model_name": "DescriptionStyleModel",
          "model_module_version": "1.5.0",
          "state": {
            "_model_module": "@jupyter-widgets/controls",
            "_model_module_version": "1.5.0",
            "_model_name": "DescriptionStyleModel",
            "_view_count": null,
            "_view_module": "@jupyter-widgets/base",
            "_view_module_version": "1.2.0",
            "_view_name": "StyleView",
            "description_width": ""
          }
        },
        "a5d2af8cfae146de90672c48cb656082": {
          "model_module": "@jupyter-widgets/controls",
          "model_name": "HBoxModel",
          "model_module_version": "1.5.0",
          "state": {
            "_dom_classes": [],
            "_model_module": "@jupyter-widgets/controls",
            "_model_module_version": "1.5.0",
            "_model_name": "HBoxModel",
            "_view_count": null,
            "_view_module": "@jupyter-widgets/controls",
            "_view_module_version": "1.5.0",
            "_view_name": "HBoxView",
            "box_style": "",
            "children": [
              "IPY_MODEL_976390e245b94ab7b2657e0d0ca2ca83",
              "IPY_MODEL_b6df4698bc5941fc9179612749cb1b88",
              "IPY_MODEL_8a89397464394e4d8ca932b714079cdb"
            ],
            "layout": "IPY_MODEL_46d5d14cc8534e40bc3347cd6f04c123"
          }
        },
        "976390e245b94ab7b2657e0d0ca2ca83": {
          "model_module": "@jupyter-widgets/controls",
          "model_name": "HTMLModel",
          "model_module_version": "1.5.0",
          "state": {
            "_dom_classes": [],
            "_model_module": "@jupyter-widgets/controls",
            "_model_module_version": "1.5.0",
            "_model_name": "HTMLModel",
            "_view_count": null,
            "_view_module": "@jupyter-widgets/controls",
            "_view_module_version": "1.5.0",
            "_view_name": "HTMLView",
            "description": "",
            "description_tooltip": null,
            "layout": "IPY_MODEL_ea7bc7c324b642719b5abb3137eaf1a6",
            "placeholder": "​",
            "style": "IPY_MODEL_6008a744d75641b48fa98892029d5199",
            "value": "generation_config.json: 100%"
          }
        },
        "b6df4698bc5941fc9179612749cb1b88": {
          "model_module": "@jupyter-widgets/controls",
          "model_name": "FloatProgressModel",
          "model_module_version": "1.5.0",
          "state": {
            "_dom_classes": [],
            "_model_module": "@jupyter-widgets/controls",
            "_model_module_version": "1.5.0",
            "_model_name": "FloatProgressModel",
            "_view_count": null,
            "_view_module": "@jupyter-widgets/controls",
            "_view_module_version": "1.5.0",
            "_view_name": "ProgressView",
            "bar_style": "success",
            "description": "",
            "description_tooltip": null,
            "layout": "IPY_MODEL_e1c866ae553442e4afe9451cfa040137",
            "max": 124,
            "min": 0,
            "orientation": "horizontal",
            "style": "IPY_MODEL_56ae7be2a1d74e31acf7dddc114b6334",
            "value": 124
          }
        },
        "8a89397464394e4d8ca932b714079cdb": {
          "model_module": "@jupyter-widgets/controls",
          "model_name": "HTMLModel",
          "model_module_version": "1.5.0",
          "state": {
            "_dom_classes": [],
            "_model_module": "@jupyter-widgets/controls",
            "_model_module_version": "1.5.0",
            "_model_name": "HTMLModel",
            "_view_count": null,
            "_view_module": "@jupyter-widgets/controls",
            "_view_module_version": "1.5.0",
            "_view_name": "HTMLView",
            "description": "",
            "description_tooltip": null,
            "layout": "IPY_MODEL_b9bf21f3c4a94ffdae6f6dbc8e6aada6",
            "placeholder": "​",
            "style": "IPY_MODEL_5e7e78fbb9a649939eab901a903faf64",
            "value": " 124/124 [00:00&lt;00:00, 9.97kB/s]"
          }
        },
        "46d5d14cc8534e40bc3347cd6f04c123": {
          "model_module": "@jupyter-widgets/base",
          "model_name": "LayoutModel",
          "model_module_version": "1.2.0",
          "state": {
            "_model_module": "@jupyter-widgets/base",
            "_model_module_version": "1.2.0",
            "_model_name": "LayoutModel",
            "_view_count": null,
            "_view_module": "@jupyter-widgets/base",
            "_view_module_version": "1.2.0",
            "_view_name": "LayoutView",
            "align_content": null,
            "align_items": null,
            "align_self": null,
            "border": null,
            "bottom": null,
            "display": null,
            "flex": null,
            "flex_flow": null,
            "grid_area": null,
            "grid_auto_columns": null,
            "grid_auto_flow": null,
            "grid_auto_rows": null,
            "grid_column": null,
            "grid_gap": null,
            "grid_row": null,
            "grid_template_areas": null,
            "grid_template_columns": null,
            "grid_template_rows": null,
            "height": null,
            "justify_content": null,
            "justify_items": null,
            "left": null,
            "margin": null,
            "max_height": null,
            "max_width": null,
            "min_height": null,
            "min_width": null,
            "object_fit": null,
            "object_position": null,
            "order": null,
            "overflow": null,
            "overflow_x": null,
            "overflow_y": null,
            "padding": null,
            "right": null,
            "top": null,
            "visibility": null,
            "width": null
          }
        },
        "ea7bc7c324b642719b5abb3137eaf1a6": {
          "model_module": "@jupyter-widgets/base",
          "model_name": "LayoutModel",
          "model_module_version": "1.2.0",
          "state": {
            "_model_module": "@jupyter-widgets/base",
            "_model_module_version": "1.2.0",
            "_model_name": "LayoutModel",
            "_view_count": null,
            "_view_module": "@jupyter-widgets/base",
            "_view_module_version": "1.2.0",
            "_view_name": "LayoutView",
            "align_content": null,
            "align_items": null,
            "align_self": null,
            "border": null,
            "bottom": null,
            "display": null,
            "flex": null,
            "flex_flow": null,
            "grid_area": null,
            "grid_auto_columns": null,
            "grid_auto_flow": null,
            "grid_auto_rows": null,
            "grid_column": null,
            "grid_gap": null,
            "grid_row": null,
            "grid_template_areas": null,
            "grid_template_columns": null,
            "grid_template_rows": null,
            "height": null,
            "justify_content": null,
            "justify_items": null,
            "left": null,
            "margin": null,
            "max_height": null,
            "max_width": null,
            "min_height": null,
            "min_width": null,
            "object_fit": null,
            "object_position": null,
            "order": null,
            "overflow": null,
            "overflow_x": null,
            "overflow_y": null,
            "padding": null,
            "right": null,
            "top": null,
            "visibility": null,
            "width": null
          }
        },
        "6008a744d75641b48fa98892029d5199": {
          "model_module": "@jupyter-widgets/controls",
          "model_name": "DescriptionStyleModel",
          "model_module_version": "1.5.0",
          "state": {
            "_model_module": "@jupyter-widgets/controls",
            "_model_module_version": "1.5.0",
            "_model_name": "DescriptionStyleModel",
            "_view_count": null,
            "_view_module": "@jupyter-widgets/base",
            "_view_module_version": "1.2.0",
            "_view_name": "StyleView",
            "description_width": ""
          }
        },
        "e1c866ae553442e4afe9451cfa040137": {
          "model_module": "@jupyter-widgets/base",
          "model_name": "LayoutModel",
          "model_module_version": "1.2.0",
          "state": {
            "_model_module": "@jupyter-widgets/base",
            "_model_module_version": "1.2.0",
            "_model_name": "LayoutModel",
            "_view_count": null,
            "_view_module": "@jupyter-widgets/base",
            "_view_module_version": "1.2.0",
            "_view_name": "LayoutView",
            "align_content": null,
            "align_items": null,
            "align_self": null,
            "border": null,
            "bottom": null,
            "display": null,
            "flex": null,
            "flex_flow": null,
            "grid_area": null,
            "grid_auto_columns": null,
            "grid_auto_flow": null,
            "grid_auto_rows": null,
            "grid_column": null,
            "grid_gap": null,
            "grid_row": null,
            "grid_template_areas": null,
            "grid_template_columns": null,
            "grid_template_rows": null,
            "height": null,
            "justify_content": null,
            "justify_items": null,
            "left": null,
            "margin": null,
            "max_height": null,
            "max_width": null,
            "min_height": null,
            "min_width": null,
            "object_fit": null,
            "object_position": null,
            "order": null,
            "overflow": null,
            "overflow_x": null,
            "overflow_y": null,
            "padding": null,
            "right": null,
            "top": null,
            "visibility": null,
            "width": null
          }
        },
        "56ae7be2a1d74e31acf7dddc114b6334": {
          "model_module": "@jupyter-widgets/controls",
          "model_name": "ProgressStyleModel",
          "model_module_version": "1.5.0",
          "state": {
            "_model_module": "@jupyter-widgets/controls",
            "_model_module_version": "1.5.0",
            "_model_name": "ProgressStyleModel",
            "_view_count": null,
            "_view_module": "@jupyter-widgets/base",
            "_view_module_version": "1.2.0",
            "_view_name": "StyleView",
            "bar_color": null,
            "description_width": ""
          }
        },
        "b9bf21f3c4a94ffdae6f6dbc8e6aada6": {
          "model_module": "@jupyter-widgets/base",
          "model_name": "LayoutModel",
          "model_module_version": "1.2.0",
          "state": {
            "_model_module": "@jupyter-widgets/base",
            "_model_module_version": "1.2.0",
            "_model_name": "LayoutModel",
            "_view_count": null,
            "_view_module": "@jupyter-widgets/base",
            "_view_module_version": "1.2.0",
            "_view_name": "LayoutView",
            "align_content": null,
            "align_items": null,
            "align_self": null,
            "border": null,
            "bottom": null,
            "display": null,
            "flex": null,
            "flex_flow": null,
            "grid_area": null,
            "grid_auto_columns": null,
            "grid_auto_flow": null,
            "grid_auto_rows": null,
            "grid_column": null,
            "grid_gap": null,
            "grid_row": null,
            "grid_template_areas": null,
            "grid_template_columns": null,
            "grid_template_rows": null,
            "height": null,
            "justify_content": null,
            "justify_items": null,
            "left": null,
            "margin": null,
            "max_height": null,
            "max_width": null,
            "min_height": null,
            "min_width": null,
            "object_fit": null,
            "object_position": null,
            "order": null,
            "overflow": null,
            "overflow_x": null,
            "overflow_y": null,
            "padding": null,
            "right": null,
            "top": null,
            "visibility": null,
            "width": null
          }
        },
        "5e7e78fbb9a649939eab901a903faf64": {
          "model_module": "@jupyter-widgets/controls",
          "model_name": "DescriptionStyleModel",
          "model_module_version": "1.5.0",
          "state": {
            "_model_module": "@jupyter-widgets/controls",
            "_model_module_version": "1.5.0",
            "_model_name": "DescriptionStyleModel",
            "_view_count": null,
            "_view_module": "@jupyter-widgets/base",
            "_view_module_version": "1.2.0",
            "_view_name": "StyleView",
            "description_width": ""
          }
        },
        "eab7b5573f3246bf93383b9fd6dd77f9": {
          "model_module": "@jupyter-widgets/controls",
          "model_name": "HBoxModel",
          "model_module_version": "1.5.0",
          "state": {
            "_dom_classes": [],
            "_model_module": "@jupyter-widgets/controls",
            "_model_module_version": "1.5.0",
            "_model_name": "HBoxModel",
            "_view_count": null,
            "_view_module": "@jupyter-widgets/controls",
            "_view_module_version": "1.5.0",
            "_view_name": "HBoxView",
            "box_style": "",
            "children": [
              "IPY_MODEL_e8dc28d2247243908b221c86ca7775b0",
              "IPY_MODEL_cbac93a549e24988a4da4de56bd9fdc7",
              "IPY_MODEL_0834decad26f472b91c912881996b3da"
            ],
            "layout": "IPY_MODEL_7a3a71290fce4495bf59d14bc9b17b9c"
          }
        },
        "e8dc28d2247243908b221c86ca7775b0": {
          "model_module": "@jupyter-widgets/controls",
          "model_name": "HTMLModel",
          "model_module_version": "1.5.0",
          "state": {
            "_dom_classes": [],
            "_model_module": "@jupyter-widgets/controls",
            "_model_module_version": "1.5.0",
            "_model_name": "HTMLModel",
            "_view_count": null,
            "_view_module": "@jupyter-widgets/controls",
            "_view_module_version": "1.5.0",
            "_view_name": "HTMLView",
            "description": "",
            "description_tooltip": null,
            "layout": "IPY_MODEL_05533e74579142c9bbfbb72ded11e28f",
            "placeholder": "​",
            "style": "IPY_MODEL_8a8c5ebb5953471d8a74ef3f93762874",
            "value": "tokenizer_config.json: 100%"
          }
        },
        "cbac93a549e24988a4da4de56bd9fdc7": {
          "model_module": "@jupyter-widgets/controls",
          "model_name": "FloatProgressModel",
          "model_module_version": "1.5.0",
          "state": {
            "_dom_classes": [],
            "_model_module": "@jupyter-widgets/controls",
            "_model_module_version": "1.5.0",
            "_model_name": "FloatProgressModel",
            "_view_count": null,
            "_view_module": "@jupyter-widgets/controls",
            "_view_module_version": "1.5.0",
            "_view_name": "ProgressView",
            "bar_style": "success",
            "description": "",
            "description_tooltip": null,
            "layout": "IPY_MODEL_97bc6a5aae07460791febb4a6ec47588",
            "max": 26,
            "min": 0,
            "orientation": "horizontal",
            "style": "IPY_MODEL_d86360888fcc44088786fb294038bb6c",
            "value": 26
          }
        },
        "0834decad26f472b91c912881996b3da": {
          "model_module": "@jupyter-widgets/controls",
          "model_name": "HTMLModel",
          "model_module_version": "1.5.0",
          "state": {
            "_dom_classes": [],
            "_model_module": "@jupyter-widgets/controls",
            "_model_module_version": "1.5.0",
            "_model_name": "HTMLModel",
            "_view_count": null,
            "_view_module": "@jupyter-widgets/controls",
            "_view_module_version": "1.5.0",
            "_view_name": "HTMLView",
            "description": "",
            "description_tooltip": null,
            "layout": "IPY_MODEL_1a0366c78f63488a89fd48616687d8ce",
            "placeholder": "​",
            "style": "IPY_MODEL_89063a8bd50f4f6287200ca9753a65f8",
            "value": " 26.0/26.0 [00:00&lt;00:00, 2.43kB/s]"
          }
        },
        "7a3a71290fce4495bf59d14bc9b17b9c": {
          "model_module": "@jupyter-widgets/base",
          "model_name": "LayoutModel",
          "model_module_version": "1.2.0",
          "state": {
            "_model_module": "@jupyter-widgets/base",
            "_model_module_version": "1.2.0",
            "_model_name": "LayoutModel",
            "_view_count": null,
            "_view_module": "@jupyter-widgets/base",
            "_view_module_version": "1.2.0",
            "_view_name": "LayoutView",
            "align_content": null,
            "align_items": null,
            "align_self": null,
            "border": null,
            "bottom": null,
            "display": null,
            "flex": null,
            "flex_flow": null,
            "grid_area": null,
            "grid_auto_columns": null,
            "grid_auto_flow": null,
            "grid_auto_rows": null,
            "grid_column": null,
            "grid_gap": null,
            "grid_row": null,
            "grid_template_areas": null,
            "grid_template_columns": null,
            "grid_template_rows": null,
            "height": null,
            "justify_content": null,
            "justify_items": null,
            "left": null,
            "margin": null,
            "max_height": null,
            "max_width": null,
            "min_height": null,
            "min_width": null,
            "object_fit": null,
            "object_position": null,
            "order": null,
            "overflow": null,
            "overflow_x": null,
            "overflow_y": null,
            "padding": null,
            "right": null,
            "top": null,
            "visibility": null,
            "width": null
          }
        },
        "05533e74579142c9bbfbb72ded11e28f": {
          "model_module": "@jupyter-widgets/base",
          "model_name": "LayoutModel",
          "model_module_version": "1.2.0",
          "state": {
            "_model_module": "@jupyter-widgets/base",
            "_model_module_version": "1.2.0",
            "_model_name": "LayoutModel",
            "_view_count": null,
            "_view_module": "@jupyter-widgets/base",
            "_view_module_version": "1.2.0",
            "_view_name": "LayoutView",
            "align_content": null,
            "align_items": null,
            "align_self": null,
            "border": null,
            "bottom": null,
            "display": null,
            "flex": null,
            "flex_flow": null,
            "grid_area": null,
            "grid_auto_columns": null,
            "grid_auto_flow": null,
            "grid_auto_rows": null,
            "grid_column": null,
            "grid_gap": null,
            "grid_row": null,
            "grid_template_areas": null,
            "grid_template_columns": null,
            "grid_template_rows": null,
            "height": null,
            "justify_content": null,
            "justify_items": null,
            "left": null,
            "margin": null,
            "max_height": null,
            "max_width": null,
            "min_height": null,
            "min_width": null,
            "object_fit": null,
            "object_position": null,
            "order": null,
            "overflow": null,
            "overflow_x": null,
            "overflow_y": null,
            "padding": null,
            "right": null,
            "top": null,
            "visibility": null,
            "width": null
          }
        },
        "8a8c5ebb5953471d8a74ef3f93762874": {
          "model_module": "@jupyter-widgets/controls",
          "model_name": "DescriptionStyleModel",
          "model_module_version": "1.5.0",
          "state": {
            "_model_module": "@jupyter-widgets/controls",
            "_model_module_version": "1.5.0",
            "_model_name": "DescriptionStyleModel",
            "_view_count": null,
            "_view_module": "@jupyter-widgets/base",
            "_view_module_version": "1.2.0",
            "_view_name": "StyleView",
            "description_width": ""
          }
        },
        "97bc6a5aae07460791febb4a6ec47588": {
          "model_module": "@jupyter-widgets/base",
          "model_name": "LayoutModel",
          "model_module_version": "1.2.0",
          "state": {
            "_model_module": "@jupyter-widgets/base",
            "_model_module_version": "1.2.0",
            "_model_name": "LayoutModel",
            "_view_count": null,
            "_view_module": "@jupyter-widgets/base",
            "_view_module_version": "1.2.0",
            "_view_name": "LayoutView",
            "align_content": null,
            "align_items": null,
            "align_self": null,
            "border": null,
            "bottom": null,
            "display": null,
            "flex": null,
            "flex_flow": null,
            "grid_area": null,
            "grid_auto_columns": null,
            "grid_auto_flow": null,
            "grid_auto_rows": null,
            "grid_column": null,
            "grid_gap": null,
            "grid_row": null,
            "grid_template_areas": null,
            "grid_template_columns": null,
            "grid_template_rows": null,
            "height": null,
            "justify_content": null,
            "justify_items": null,
            "left": null,
            "margin": null,
            "max_height": null,
            "max_width": null,
            "min_height": null,
            "min_width": null,
            "object_fit": null,
            "object_position": null,
            "order": null,
            "overflow": null,
            "overflow_x": null,
            "overflow_y": null,
            "padding": null,
            "right": null,
            "top": null,
            "visibility": null,
            "width": null
          }
        },
        "d86360888fcc44088786fb294038bb6c": {
          "model_module": "@jupyter-widgets/controls",
          "model_name": "ProgressStyleModel",
          "model_module_version": "1.5.0",
          "state": {
            "_model_module": "@jupyter-widgets/controls",
            "_model_module_version": "1.5.0",
            "_model_name": "ProgressStyleModel",
            "_view_count": null,
            "_view_module": "@jupyter-widgets/base",
            "_view_module_version": "1.2.0",
            "_view_name": "StyleView",
            "bar_color": null,
            "description_width": ""
          }
        },
        "1a0366c78f63488a89fd48616687d8ce": {
          "model_module": "@jupyter-widgets/base",
          "model_name": "LayoutModel",
          "model_module_version": "1.2.0",
          "state": {
            "_model_module": "@jupyter-widgets/base",
            "_model_module_version": "1.2.0",
            "_model_name": "LayoutModel",
            "_view_count": null,
            "_view_module": "@jupyter-widgets/base",
            "_view_module_version": "1.2.0",
            "_view_name": "LayoutView",
            "align_content": null,
            "align_items": null,
            "align_self": null,
            "border": null,
            "bottom": null,
            "display": null,
            "flex": null,
            "flex_flow": null,
            "grid_area": null,
            "grid_auto_columns": null,
            "grid_auto_flow": null,
            "grid_auto_rows": null,
            "grid_column": null,
            "grid_gap": null,
            "grid_row": null,
            "grid_template_areas": null,
            "grid_template_columns": null,
            "grid_template_rows": null,
            "height": null,
            "justify_content": null,
            "justify_items": null,
            "left": null,
            "margin": null,
            "max_height": null,
            "max_width": null,
            "min_height": null,
            "min_width": null,
            "object_fit": null,
            "object_position": null,
            "order": null,
            "overflow": null,
            "overflow_x": null,
            "overflow_y": null,
            "padding": null,
            "right": null,
            "top": null,
            "visibility": null,
            "width": null
          }
        },
        "89063a8bd50f4f6287200ca9753a65f8": {
          "model_module": "@jupyter-widgets/controls",
          "model_name": "DescriptionStyleModel",
          "model_module_version": "1.5.0",
          "state": {
            "_model_module": "@jupyter-widgets/controls",
            "_model_module_version": "1.5.0",
            "_model_name": "DescriptionStyleModel",
            "_view_count": null,
            "_view_module": "@jupyter-widgets/base",
            "_view_module_version": "1.2.0",
            "_view_name": "StyleView",
            "description_width": ""
          }
        },
        "dad5abe2f86f4b1296346017367195e5": {
          "model_module": "@jupyter-widgets/controls",
          "model_name": "HBoxModel",
          "model_module_version": "1.5.0",
          "state": {
            "_dom_classes": [],
            "_model_module": "@jupyter-widgets/controls",
            "_model_module_version": "1.5.0",
            "_model_name": "HBoxModel",
            "_view_count": null,
            "_view_module": "@jupyter-widgets/controls",
            "_view_module_version": "1.5.0",
            "_view_name": "HBoxView",
            "box_style": "",
            "children": [
              "IPY_MODEL_72a556fd2ee14c01b3ee3f20b2450303",
              "IPY_MODEL_8209e6f1d1cf45ca96b7f07bc1f6aac6",
              "IPY_MODEL_81282848102b4d449106695ceb2d84b0"
            ],
            "layout": "IPY_MODEL_560afca806d74c768ff0c176ed4e8f55"
          }
        },
        "72a556fd2ee14c01b3ee3f20b2450303": {
          "model_module": "@jupyter-widgets/controls",
          "model_name": "HTMLModel",
          "model_module_version": "1.5.0",
          "state": {
            "_dom_classes": [],
            "_model_module": "@jupyter-widgets/controls",
            "_model_module_version": "1.5.0",
            "_model_name": "HTMLModel",
            "_view_count": null,
            "_view_module": "@jupyter-widgets/controls",
            "_view_module_version": "1.5.0",
            "_view_name": "HTMLView",
            "description": "",
            "description_tooltip": null,
            "layout": "IPY_MODEL_f5d4d6a5e76e49fb9d1e4c7f084c2ceb",
            "placeholder": "​",
            "style": "IPY_MODEL_7b51f303fda64cc9a6c1c5dc6023506c",
            "value": "vocab.json: 100%"
          }
        },
        "8209e6f1d1cf45ca96b7f07bc1f6aac6": {
          "model_module": "@jupyter-widgets/controls",
          "model_name": "FloatProgressModel",
          "model_module_version": "1.5.0",
          "state": {
            "_dom_classes": [],
            "_model_module": "@jupyter-widgets/controls",
            "_model_module_version": "1.5.0",
            "_model_name": "FloatProgressModel",
            "_view_count": null,
            "_view_module": "@jupyter-widgets/controls",
            "_view_module_version": "1.5.0",
            "_view_name": "ProgressView",
            "bar_style": "success",
            "description": "",
            "description_tooltip": null,
            "layout": "IPY_MODEL_8482c0fad11d4c2f8cac93aec3dc5575",
            "max": 1042301,
            "min": 0,
            "orientation": "horizontal",
            "style": "IPY_MODEL_8d8b329c46a741c291dffcec929addf0",
            "value": 1042301
          }
        },
        "81282848102b4d449106695ceb2d84b0": {
          "model_module": "@jupyter-widgets/controls",
          "model_name": "HTMLModel",
          "model_module_version": "1.5.0",
          "state": {
            "_dom_classes": [],
            "_model_module": "@jupyter-widgets/controls",
            "_model_module_version": "1.5.0",
            "_model_name": "HTMLModel",
            "_view_count": null,
            "_view_module": "@jupyter-widgets/controls",
            "_view_module_version": "1.5.0",
            "_view_name": "HTMLView",
            "description": "",
            "description_tooltip": null,
            "layout": "IPY_MODEL_60eec5ba1fbf4e3397ef08373e3e10a8",
            "placeholder": "​",
            "style": "IPY_MODEL_6bdc5062de574f9dad518caecae9134d",
            "value": " 1.04M/1.04M [00:00&lt;00:00, 1.82MB/s]"
          }
        },
        "560afca806d74c768ff0c176ed4e8f55": {
          "model_module": "@jupyter-widgets/base",
          "model_name": "LayoutModel",
          "model_module_version": "1.2.0",
          "state": {
            "_model_module": "@jupyter-widgets/base",
            "_model_module_version": "1.2.0",
            "_model_name": "LayoutModel",
            "_view_count": null,
            "_view_module": "@jupyter-widgets/base",
            "_view_module_version": "1.2.0",
            "_view_name": "LayoutView",
            "align_content": null,
            "align_items": null,
            "align_self": null,
            "border": null,
            "bottom": null,
            "display": null,
            "flex": null,
            "flex_flow": null,
            "grid_area": null,
            "grid_auto_columns": null,
            "grid_auto_flow": null,
            "grid_auto_rows": null,
            "grid_column": null,
            "grid_gap": null,
            "grid_row": null,
            "grid_template_areas": null,
            "grid_template_columns": null,
            "grid_template_rows": null,
            "height": null,
            "justify_content": null,
            "justify_items": null,
            "left": null,
            "margin": null,
            "max_height": null,
            "max_width": null,
            "min_height": null,
            "min_width": null,
            "object_fit": null,
            "object_position": null,
            "order": null,
            "overflow": null,
            "overflow_x": null,
            "overflow_y": null,
            "padding": null,
            "right": null,
            "top": null,
            "visibility": null,
            "width": null
          }
        },
        "f5d4d6a5e76e49fb9d1e4c7f084c2ceb": {
          "model_module": "@jupyter-widgets/base",
          "model_name": "LayoutModel",
          "model_module_version": "1.2.0",
          "state": {
            "_model_module": "@jupyter-widgets/base",
            "_model_module_version": "1.2.0",
            "_model_name": "LayoutModel",
            "_view_count": null,
            "_view_module": "@jupyter-widgets/base",
            "_view_module_version": "1.2.0",
            "_view_name": "LayoutView",
            "align_content": null,
            "align_items": null,
            "align_self": null,
            "border": null,
            "bottom": null,
            "display": null,
            "flex": null,
            "flex_flow": null,
            "grid_area": null,
            "grid_auto_columns": null,
            "grid_auto_flow": null,
            "grid_auto_rows": null,
            "grid_column": null,
            "grid_gap": null,
            "grid_row": null,
            "grid_template_areas": null,
            "grid_template_columns": null,
            "grid_template_rows": null,
            "height": null,
            "justify_content": null,
            "justify_items": null,
            "left": null,
            "margin": null,
            "max_height": null,
            "max_width": null,
            "min_height": null,
            "min_width": null,
            "object_fit": null,
            "object_position": null,
            "order": null,
            "overflow": null,
            "overflow_x": null,
            "overflow_y": null,
            "padding": null,
            "right": null,
            "top": null,
            "visibility": null,
            "width": null
          }
        },
        "7b51f303fda64cc9a6c1c5dc6023506c": {
          "model_module": "@jupyter-widgets/controls",
          "model_name": "DescriptionStyleModel",
          "model_module_version": "1.5.0",
          "state": {
            "_model_module": "@jupyter-widgets/controls",
            "_model_module_version": "1.5.0",
            "_model_name": "DescriptionStyleModel",
            "_view_count": null,
            "_view_module": "@jupyter-widgets/base",
            "_view_module_version": "1.2.0",
            "_view_name": "StyleView",
            "description_width": ""
          }
        },
        "8482c0fad11d4c2f8cac93aec3dc5575": {
          "model_module": "@jupyter-widgets/base",
          "model_name": "LayoutModel",
          "model_module_version": "1.2.0",
          "state": {
            "_model_module": "@jupyter-widgets/base",
            "_model_module_version": "1.2.0",
            "_model_name": "LayoutModel",
            "_view_count": null,
            "_view_module": "@jupyter-widgets/base",
            "_view_module_version": "1.2.0",
            "_view_name": "LayoutView",
            "align_content": null,
            "align_items": null,
            "align_self": null,
            "border": null,
            "bottom": null,
            "display": null,
            "flex": null,
            "flex_flow": null,
            "grid_area": null,
            "grid_auto_columns": null,
            "grid_auto_flow": null,
            "grid_auto_rows": null,
            "grid_column": null,
            "grid_gap": null,
            "grid_row": null,
            "grid_template_areas": null,
            "grid_template_columns": null,
            "grid_template_rows": null,
            "height": null,
            "justify_content": null,
            "justify_items": null,
            "left": null,
            "margin": null,
            "max_height": null,
            "max_width": null,
            "min_height": null,
            "min_width": null,
            "object_fit": null,
            "object_position": null,
            "order": null,
            "overflow": null,
            "overflow_x": null,
            "overflow_y": null,
            "padding": null,
            "right": null,
            "top": null,
            "visibility": null,
            "width": null
          }
        },
        "8d8b329c46a741c291dffcec929addf0": {
          "model_module": "@jupyter-widgets/controls",
          "model_name": "ProgressStyleModel",
          "model_module_version": "1.5.0",
          "state": {
            "_model_module": "@jupyter-widgets/controls",
            "_model_module_version": "1.5.0",
            "_model_name": "ProgressStyleModel",
            "_view_count": null,
            "_view_module": "@jupyter-widgets/base",
            "_view_module_version": "1.2.0",
            "_view_name": "StyleView",
            "bar_color": null,
            "description_width": ""
          }
        },
        "60eec5ba1fbf4e3397ef08373e3e10a8": {
          "model_module": "@jupyter-widgets/base",
          "model_name": "LayoutModel",
          "model_module_version": "1.2.0",
          "state": {
            "_model_module": "@jupyter-widgets/base",
            "_model_module_version": "1.2.0",
            "_model_name": "LayoutModel",
            "_view_count": null,
            "_view_module": "@jupyter-widgets/base",
            "_view_module_version": "1.2.0",
            "_view_name": "LayoutView",
            "align_content": null,
            "align_items": null,
            "align_self": null,
            "border": null,
            "bottom": null,
            "display": null,
            "flex": null,
            "flex_flow": null,
            "grid_area": null,
            "grid_auto_columns": null,
            "grid_auto_flow": null,
            "grid_auto_rows": null,
            "grid_column": null,
            "grid_gap": null,
            "grid_row": null,
            "grid_template_areas": null,
            "grid_template_columns": null,
            "grid_template_rows": null,
            "height": null,
            "justify_content": null,
            "justify_items": null,
            "left": null,
            "margin": null,
            "max_height": null,
            "max_width": null,
            "min_height": null,
            "min_width": null,
            "object_fit": null,
            "object_position": null,
            "order": null,
            "overflow": null,
            "overflow_x": null,
            "overflow_y": null,
            "padding": null,
            "right": null,
            "top": null,
            "visibility": null,
            "width": null
          }
        },
        "6bdc5062de574f9dad518caecae9134d": {
          "model_module": "@jupyter-widgets/controls",
          "model_name": "DescriptionStyleModel",
          "model_module_version": "1.5.0",
          "state": {
            "_model_module": "@jupyter-widgets/controls",
            "_model_module_version": "1.5.0",
            "_model_name": "DescriptionStyleModel",
            "_view_count": null,
            "_view_module": "@jupyter-widgets/base",
            "_view_module_version": "1.2.0",
            "_view_name": "StyleView",
            "description_width": ""
          }
        },
        "a11ae57aa4d0460685da194593f3f6c3": {
          "model_module": "@jupyter-widgets/controls",
          "model_name": "HBoxModel",
          "model_module_version": "1.5.0",
          "state": {
            "_dom_classes": [],
            "_model_module": "@jupyter-widgets/controls",
            "_model_module_version": "1.5.0",
            "_model_name": "HBoxModel",
            "_view_count": null,
            "_view_module": "@jupyter-widgets/controls",
            "_view_module_version": "1.5.0",
            "_view_name": "HBoxView",
            "box_style": "",
            "children": [
              "IPY_MODEL_5ac7ce7c08e249e9b5d9ec0963e446b6",
              "IPY_MODEL_13b14ef466674122af3a687c155d7d40",
              "IPY_MODEL_e07ce63d06fa47eb9e40487010ca95c6"
            ],
            "layout": "IPY_MODEL_6298638b923e4adbb1cb0b3d80a29c85"
          }
        },
        "5ac7ce7c08e249e9b5d9ec0963e446b6": {
          "model_module": "@jupyter-widgets/controls",
          "model_name": "HTMLModel",
          "model_module_version": "1.5.0",
          "state": {
            "_dom_classes": [],
            "_model_module": "@jupyter-widgets/controls",
            "_model_module_version": "1.5.0",
            "_model_name": "HTMLModel",
            "_view_count": null,
            "_view_module": "@jupyter-widgets/controls",
            "_view_module_version": "1.5.0",
            "_view_name": "HTMLView",
            "description": "",
            "description_tooltip": null,
            "layout": "IPY_MODEL_0e206e23e9f647a1906569029068fab0",
            "placeholder": "​",
            "style": "IPY_MODEL_6890b561590640d5b917b46ac0a1563e",
            "value": "merges.txt: 100%"
          }
        },
        "13b14ef466674122af3a687c155d7d40": {
          "model_module": "@jupyter-widgets/controls",
          "model_name": "FloatProgressModel",
          "model_module_version": "1.5.0",
          "state": {
            "_dom_classes": [],
            "_model_module": "@jupyter-widgets/controls",
            "_model_module_version": "1.5.0",
            "_model_name": "FloatProgressModel",
            "_view_count": null,
            "_view_module": "@jupyter-widgets/controls",
            "_view_module_version": "1.5.0",
            "_view_name": "ProgressView",
            "bar_style": "success",
            "description": "",
            "description_tooltip": null,
            "layout": "IPY_MODEL_223ee0db2a8540c09c72d445928ff0ad",
            "max": 456318,
            "min": 0,
            "orientation": "horizontal",
            "style": "IPY_MODEL_f28ebc63b6d748c4b1bdc7ce09c544f5",
            "value": 456318
          }
        },
        "e07ce63d06fa47eb9e40487010ca95c6": {
          "model_module": "@jupyter-widgets/controls",
          "model_name": "HTMLModel",
          "model_module_version": "1.5.0",
          "state": {
            "_dom_classes": [],
            "_model_module": "@jupyter-widgets/controls",
            "_model_module_version": "1.5.0",
            "_model_name": "HTMLModel",
            "_view_count": null,
            "_view_module": "@jupyter-widgets/controls",
            "_view_module_version": "1.5.0",
            "_view_name": "HTMLView",
            "description": "",
            "description_tooltip": null,
            "layout": "IPY_MODEL_9d0e3570dcd64d92a8e5f0b26a702a44",
            "placeholder": "​",
            "style": "IPY_MODEL_c6843ac2471a49159b8593f21cecad0c",
            "value": " 456k/456k [00:00&lt;00:00, 617kB/s]"
          }
        },
        "6298638b923e4adbb1cb0b3d80a29c85": {
          "model_module": "@jupyter-widgets/base",
          "model_name": "LayoutModel",
          "model_module_version": "1.2.0",
          "state": {
            "_model_module": "@jupyter-widgets/base",
            "_model_module_version": "1.2.0",
            "_model_name": "LayoutModel",
            "_view_count": null,
            "_view_module": "@jupyter-widgets/base",
            "_view_module_version": "1.2.0",
            "_view_name": "LayoutView",
            "align_content": null,
            "align_items": null,
            "align_self": null,
            "border": null,
            "bottom": null,
            "display": null,
            "flex": null,
            "flex_flow": null,
            "grid_area": null,
            "grid_auto_columns": null,
            "grid_auto_flow": null,
            "grid_auto_rows": null,
            "grid_column": null,
            "grid_gap": null,
            "grid_row": null,
            "grid_template_areas": null,
            "grid_template_columns": null,
            "grid_template_rows": null,
            "height": null,
            "justify_content": null,
            "justify_items": null,
            "left": null,
            "margin": null,
            "max_height": null,
            "max_width": null,
            "min_height": null,
            "min_width": null,
            "object_fit": null,
            "object_position": null,
            "order": null,
            "overflow": null,
            "overflow_x": null,
            "overflow_y": null,
            "padding": null,
            "right": null,
            "top": null,
            "visibility": null,
            "width": null
          }
        },
        "0e206e23e9f647a1906569029068fab0": {
          "model_module": "@jupyter-widgets/base",
          "model_name": "LayoutModel",
          "model_module_version": "1.2.0",
          "state": {
            "_model_module": "@jupyter-widgets/base",
            "_model_module_version": "1.2.0",
            "_model_name": "LayoutModel",
            "_view_count": null,
            "_view_module": "@jupyter-widgets/base",
            "_view_module_version": "1.2.0",
            "_view_name": "LayoutView",
            "align_content": null,
            "align_items": null,
            "align_self": null,
            "border": null,
            "bottom": null,
            "display": null,
            "flex": null,
            "flex_flow": null,
            "grid_area": null,
            "grid_auto_columns": null,
            "grid_auto_flow": null,
            "grid_auto_rows": null,
            "grid_column": null,
            "grid_gap": null,
            "grid_row": null,
            "grid_template_areas": null,
            "grid_template_columns": null,
            "grid_template_rows": null,
            "height": null,
            "justify_content": null,
            "justify_items": null,
            "left": null,
            "margin": null,
            "max_height": null,
            "max_width": null,
            "min_height": null,
            "min_width": null,
            "object_fit": null,
            "object_position": null,
            "order": null,
            "overflow": null,
            "overflow_x": null,
            "overflow_y": null,
            "padding": null,
            "right": null,
            "top": null,
            "visibility": null,
            "width": null
          }
        },
        "6890b561590640d5b917b46ac0a1563e": {
          "model_module": "@jupyter-widgets/controls",
          "model_name": "DescriptionStyleModel",
          "model_module_version": "1.5.0",
          "state": {
            "_model_module": "@jupyter-widgets/controls",
            "_model_module_version": "1.5.0",
            "_model_name": "DescriptionStyleModel",
            "_view_count": null,
            "_view_module": "@jupyter-widgets/base",
            "_view_module_version": "1.2.0",
            "_view_name": "StyleView",
            "description_width": ""
          }
        },
        "223ee0db2a8540c09c72d445928ff0ad": {
          "model_module": "@jupyter-widgets/base",
          "model_name": "LayoutModel",
          "model_module_version": "1.2.0",
          "state": {
            "_model_module": "@jupyter-widgets/base",
            "_model_module_version": "1.2.0",
            "_model_name": "LayoutModel",
            "_view_count": null,
            "_view_module": "@jupyter-widgets/base",
            "_view_module_version": "1.2.0",
            "_view_name": "LayoutView",
            "align_content": null,
            "align_items": null,
            "align_self": null,
            "border": null,
            "bottom": null,
            "display": null,
            "flex": null,
            "flex_flow": null,
            "grid_area": null,
            "grid_auto_columns": null,
            "grid_auto_flow": null,
            "grid_auto_rows": null,
            "grid_column": null,
            "grid_gap": null,
            "grid_row": null,
            "grid_template_areas": null,
            "grid_template_columns": null,
            "grid_template_rows": null,
            "height": null,
            "justify_content": null,
            "justify_items": null,
            "left": null,
            "margin": null,
            "max_height": null,
            "max_width": null,
            "min_height": null,
            "min_width": null,
            "object_fit": null,
            "object_position": null,
            "order": null,
            "overflow": null,
            "overflow_x": null,
            "overflow_y": null,
            "padding": null,
            "right": null,
            "top": null,
            "visibility": null,
            "width": null
          }
        },
        "f28ebc63b6d748c4b1bdc7ce09c544f5": {
          "model_module": "@jupyter-widgets/controls",
          "model_name": "ProgressStyleModel",
          "model_module_version": "1.5.0",
          "state": {
            "_model_module": "@jupyter-widgets/controls",
            "_model_module_version": "1.5.0",
            "_model_name": "ProgressStyleModel",
            "_view_count": null,
            "_view_module": "@jupyter-widgets/base",
            "_view_module_version": "1.2.0",
            "_view_name": "StyleView",
            "bar_color": null,
            "description_width": ""
          }
        },
        "9d0e3570dcd64d92a8e5f0b26a702a44": {
          "model_module": "@jupyter-widgets/base",
          "model_name": "LayoutModel",
          "model_module_version": "1.2.0",
          "state": {
            "_model_module": "@jupyter-widgets/base",
            "_model_module_version": "1.2.0",
            "_model_name": "LayoutModel",
            "_view_count": null,
            "_view_module": "@jupyter-widgets/base",
            "_view_module_version": "1.2.0",
            "_view_name": "LayoutView",
            "align_content": null,
            "align_items": null,
            "align_self": null,
            "border": null,
            "bottom": null,
            "display": null,
            "flex": null,
            "flex_flow": null,
            "grid_area": null,
            "grid_auto_columns": null,
            "grid_auto_flow": null,
            "grid_auto_rows": null,
            "grid_column": null,
            "grid_gap": null,
            "grid_row": null,
            "grid_template_areas": null,
            "grid_template_columns": null,
            "grid_template_rows": null,
            "height": null,
            "justify_content": null,
            "justify_items": null,
            "left": null,
            "margin": null,
            "max_height": null,
            "max_width": null,
            "min_height": null,
            "min_width": null,
            "object_fit": null,
            "object_position": null,
            "order": null,
            "overflow": null,
            "overflow_x": null,
            "overflow_y": null,
            "padding": null,
            "right": null,
            "top": null,
            "visibility": null,
            "width": null
          }
        },
        "c6843ac2471a49159b8593f21cecad0c": {
          "model_module": "@jupyter-widgets/controls",
          "model_name": "DescriptionStyleModel",
          "model_module_version": "1.5.0",
          "state": {
            "_model_module": "@jupyter-widgets/controls",
            "_model_module_version": "1.5.0",
            "_model_name": "DescriptionStyleModel",
            "_view_count": null,
            "_view_module": "@jupyter-widgets/base",
            "_view_module_version": "1.2.0",
            "_view_name": "StyleView",
            "description_width": ""
          }
        },
        "8f65526b0afe4d729cab9b16c93d9faa": {
          "model_module": "@jupyter-widgets/controls",
          "model_name": "HBoxModel",
          "model_module_version": "1.5.0",
          "state": {
            "_dom_classes": [],
            "_model_module": "@jupyter-widgets/controls",
            "_model_module_version": "1.5.0",
            "_model_name": "HBoxModel",
            "_view_count": null,
            "_view_module": "@jupyter-widgets/controls",
            "_view_module_version": "1.5.0",
            "_view_name": "HBoxView",
            "box_style": "",
            "children": [
              "IPY_MODEL_5eb1595c9b0b494691ed8afaecf47d2a",
              "IPY_MODEL_de449a887e964a9eb53aeb774ddb07f7",
              "IPY_MODEL_e432730f6fbc459ca927dc2d54e6afa3"
            ],
            "layout": "IPY_MODEL_08dac30df8af4608871b61307ca87f6f"
          }
        },
        "5eb1595c9b0b494691ed8afaecf47d2a": {
          "model_module": "@jupyter-widgets/controls",
          "model_name": "HTMLModel",
          "model_module_version": "1.5.0",
          "state": {
            "_dom_classes": [],
            "_model_module": "@jupyter-widgets/controls",
            "_model_module_version": "1.5.0",
            "_model_name": "HTMLModel",
            "_view_count": null,
            "_view_module": "@jupyter-widgets/controls",
            "_view_module_version": "1.5.0",
            "_view_name": "HTMLView",
            "description": "",
            "description_tooltip": null,
            "layout": "IPY_MODEL_bfde4935f868423c9b503501d3272c71",
            "placeholder": "​",
            "style": "IPY_MODEL_c660ce1b7b59446ea660f4192810a7ef",
            "value": "tokenizer.json: 100%"
          }
        },
        "de449a887e964a9eb53aeb774ddb07f7": {
          "model_module": "@jupyter-widgets/controls",
          "model_name": "FloatProgressModel",
          "model_module_version": "1.5.0",
          "state": {
            "_dom_classes": [],
            "_model_module": "@jupyter-widgets/controls",
            "_model_module_version": "1.5.0",
            "_model_name": "FloatProgressModel",
            "_view_count": null,
            "_view_module": "@jupyter-widgets/controls",
            "_view_module_version": "1.5.0",
            "_view_name": "ProgressView",
            "bar_style": "success",
            "description": "",
            "description_tooltip": null,
            "layout": "IPY_MODEL_9e61c0a69f534f2899dcf923042c0f2d",
            "max": 1355256,
            "min": 0,
            "orientation": "horizontal",
            "style": "IPY_MODEL_1d64eb507f8c42b5808b7ef8164891a2",
            "value": 1355256
          }
        },
        "e432730f6fbc459ca927dc2d54e6afa3": {
          "model_module": "@jupyter-widgets/controls",
          "model_name": "HTMLModel",
          "model_module_version": "1.5.0",
          "state": {
            "_dom_classes": [],
            "_model_module": "@jupyter-widgets/controls",
            "_model_module_version": "1.5.0",
            "_model_name": "HTMLModel",
            "_view_count": null,
            "_view_module": "@jupyter-widgets/controls",
            "_view_module_version": "1.5.0",
            "_view_name": "HTMLView",
            "description": "",
            "description_tooltip": null,
            "layout": "IPY_MODEL_a38975c32103406eae8f8ceb4f42acc8",
            "placeholder": "​",
            "style": "IPY_MODEL_ffcb8fa280844fc28d8de2b022fad9cc",
            "value": " 1.36M/1.36M [00:00&lt;00:00, 2.58MB/s]"
          }
        },
        "08dac30df8af4608871b61307ca87f6f": {
          "model_module": "@jupyter-widgets/base",
          "model_name": "LayoutModel",
          "model_module_version": "1.2.0",
          "state": {
            "_model_module": "@jupyter-widgets/base",
            "_model_module_version": "1.2.0",
            "_model_name": "LayoutModel",
            "_view_count": null,
            "_view_module": "@jupyter-widgets/base",
            "_view_module_version": "1.2.0",
            "_view_name": "LayoutView",
            "align_content": null,
            "align_items": null,
            "align_self": null,
            "border": null,
            "bottom": null,
            "display": null,
            "flex": null,
            "flex_flow": null,
            "grid_area": null,
            "grid_auto_columns": null,
            "grid_auto_flow": null,
            "grid_auto_rows": null,
            "grid_column": null,
            "grid_gap": null,
            "grid_row": null,
            "grid_template_areas": null,
            "grid_template_columns": null,
            "grid_template_rows": null,
            "height": null,
            "justify_content": null,
            "justify_items": null,
            "left": null,
            "margin": null,
            "max_height": null,
            "max_width": null,
            "min_height": null,
            "min_width": null,
            "object_fit": null,
            "object_position": null,
            "order": null,
            "overflow": null,
            "overflow_x": null,
            "overflow_y": null,
            "padding": null,
            "right": null,
            "top": null,
            "visibility": null,
            "width": null
          }
        },
        "bfde4935f868423c9b503501d3272c71": {
          "model_module": "@jupyter-widgets/base",
          "model_name": "LayoutModel",
          "model_module_version": "1.2.0",
          "state": {
            "_model_module": "@jupyter-widgets/base",
            "_model_module_version": "1.2.0",
            "_model_name": "LayoutModel",
            "_view_count": null,
            "_view_module": "@jupyter-widgets/base",
            "_view_module_version": "1.2.0",
            "_view_name": "LayoutView",
            "align_content": null,
            "align_items": null,
            "align_self": null,
            "border": null,
            "bottom": null,
            "display": null,
            "flex": null,
            "flex_flow": null,
            "grid_area": null,
            "grid_auto_columns": null,
            "grid_auto_flow": null,
            "grid_auto_rows": null,
            "grid_column": null,
            "grid_gap": null,
            "grid_row": null,
            "grid_template_areas": null,
            "grid_template_columns": null,
            "grid_template_rows": null,
            "height": null,
            "justify_content": null,
            "justify_items": null,
            "left": null,
            "margin": null,
            "max_height": null,
            "max_width": null,
            "min_height": null,
            "min_width": null,
            "object_fit": null,
            "object_position": null,
            "order": null,
            "overflow": null,
            "overflow_x": null,
            "overflow_y": null,
            "padding": null,
            "right": null,
            "top": null,
            "visibility": null,
            "width": null
          }
        },
        "c660ce1b7b59446ea660f4192810a7ef": {
          "model_module": "@jupyter-widgets/controls",
          "model_name": "DescriptionStyleModel",
          "model_module_version": "1.5.0",
          "state": {
            "_model_module": "@jupyter-widgets/controls",
            "_model_module_version": "1.5.0",
            "_model_name": "DescriptionStyleModel",
            "_view_count": null,
            "_view_module": "@jupyter-widgets/base",
            "_view_module_version": "1.2.0",
            "_view_name": "StyleView",
            "description_width": ""
          }
        },
        "9e61c0a69f534f2899dcf923042c0f2d": {
          "model_module": "@jupyter-widgets/base",
          "model_name": "LayoutModel",
          "model_module_version": "1.2.0",
          "state": {
            "_model_module": "@jupyter-widgets/base",
            "_model_module_version": "1.2.0",
            "_model_name": "LayoutModel",
            "_view_count": null,
            "_view_module": "@jupyter-widgets/base",
            "_view_module_version": "1.2.0",
            "_view_name": "LayoutView",
            "align_content": null,
            "align_items": null,
            "align_self": null,
            "border": null,
            "bottom": null,
            "display": null,
            "flex": null,
            "flex_flow": null,
            "grid_area": null,
            "grid_auto_columns": null,
            "grid_auto_flow": null,
            "grid_auto_rows": null,
            "grid_column": null,
            "grid_gap": null,
            "grid_row": null,
            "grid_template_areas": null,
            "grid_template_columns": null,
            "grid_template_rows": null,
            "height": null,
            "justify_content": null,
            "justify_items": null,
            "left": null,
            "margin": null,
            "max_height": null,
            "max_width": null,
            "min_height": null,
            "min_width": null,
            "object_fit": null,
            "object_position": null,
            "order": null,
            "overflow": null,
            "overflow_x": null,
            "overflow_y": null,
            "padding": null,
            "right": null,
            "top": null,
            "visibility": null,
            "width": null
          }
        },
        "1d64eb507f8c42b5808b7ef8164891a2": {
          "model_module": "@jupyter-widgets/controls",
          "model_name": "ProgressStyleModel",
          "model_module_version": "1.5.0",
          "state": {
            "_model_module": "@jupyter-widgets/controls",
            "_model_module_version": "1.5.0",
            "_model_name": "ProgressStyleModel",
            "_view_count": null,
            "_view_module": "@jupyter-widgets/base",
            "_view_module_version": "1.2.0",
            "_view_name": "StyleView",
            "bar_color": null,
            "description_width": ""
          }
        },
        "a38975c32103406eae8f8ceb4f42acc8": {
          "model_module": "@jupyter-widgets/base",
          "model_name": "LayoutModel",
          "model_module_version": "1.2.0",
          "state": {
            "_model_module": "@jupyter-widgets/base",
            "_model_module_version": "1.2.0",
            "_model_name": "LayoutModel",
            "_view_count": null,
            "_view_module": "@jupyter-widgets/base",
            "_view_module_version": "1.2.0",
            "_view_name": "LayoutView",
            "align_content": null,
            "align_items": null,
            "align_self": null,
            "border": null,
            "bottom": null,
            "display": null,
            "flex": null,
            "flex_flow": null,
            "grid_area": null,
            "grid_auto_columns": null,
            "grid_auto_flow": null,
            "grid_auto_rows": null,
            "grid_column": null,
            "grid_gap": null,
            "grid_row": null,
            "grid_template_areas": null,
            "grid_template_columns": null,
            "grid_template_rows": null,
            "height": null,
            "justify_content": null,
            "justify_items": null,
            "left": null,
            "margin": null,
            "max_height": null,
            "max_width": null,
            "min_height": null,
            "min_width": null,
            "object_fit": null,
            "object_position": null,
            "order": null,
            "overflow": null,
            "overflow_x": null,
            "overflow_y": null,
            "padding": null,
            "right": null,
            "top": null,
            "visibility": null,
            "width": null
          }
        },
        "ffcb8fa280844fc28d8de2b022fad9cc": {
          "model_module": "@jupyter-widgets/controls",
          "model_name": "DescriptionStyleModel",
          "model_module_version": "1.5.0",
          "state": {
            "_model_module": "@jupyter-widgets/controls",
            "_model_module_version": "1.5.0",
            "_model_name": "DescriptionStyleModel",
            "_view_count": null,
            "_view_module": "@jupyter-widgets/base",
            "_view_module_version": "1.2.0",
            "_view_name": "StyleView",
            "description_width": ""
          }
        },
        "4f2e64e34ae14370805dd92fdeb4fae7": {
          "model_module": "@jupyter-widgets/controls",
          "model_name": "HBoxModel",
          "model_module_version": "1.5.0",
          "state": {
            "_dom_classes": [],
            "_model_module": "@jupyter-widgets/controls",
            "_model_module_version": "1.5.0",
            "_model_name": "HBoxModel",
            "_view_count": null,
            "_view_module": "@jupyter-widgets/controls",
            "_view_module_version": "1.5.0",
            "_view_name": "HBoxView",
            "box_style": "",
            "children": [
              "IPY_MODEL_9d2a8b6c01094b9ebc37352003a8058a",
              "IPY_MODEL_22623c0a4c7a4e5da7e5925524a5d512",
              "IPY_MODEL_36426019fdc24393888aed5467d7cf34"
            ],
            "layout": "IPY_MODEL_3eee576475b84a8b87838e205aa75c17"
          }
        },
        "9d2a8b6c01094b9ebc37352003a8058a": {
          "model_module": "@jupyter-widgets/controls",
          "model_name": "HTMLModel",
          "model_module_version": "1.5.0",
          "state": {
            "_dom_classes": [],
            "_model_module": "@jupyter-widgets/controls",
            "_model_module_version": "1.5.0",
            "_model_name": "HTMLModel",
            "_view_count": null,
            "_view_module": "@jupyter-widgets/controls",
            "_view_module_version": "1.5.0",
            "_view_name": "HTMLView",
            "description": "",
            "description_tooltip": null,
            "layout": "IPY_MODEL_9d1091a1b8784ae99bf6a6fc7a38392e",
            "placeholder": "​",
            "style": "IPY_MODEL_f70f494d3f844bb9b07b7aade0a5ed29",
            "value": "tokenizer_config.json: 100%"
          }
        },
        "22623c0a4c7a4e5da7e5925524a5d512": {
          "model_module": "@jupyter-widgets/controls",
          "model_name": "FloatProgressModel",
          "model_module_version": "1.5.0",
          "state": {
            "_dom_classes": [],
            "_model_module": "@jupyter-widgets/controls",
            "_model_module_version": "1.5.0",
            "_model_name": "FloatProgressModel",
            "_view_count": null,
            "_view_module": "@jupyter-widgets/controls",
            "_view_module_version": "1.5.0",
            "_view_name": "ProgressView",
            "bar_style": "success",
            "description": "",
            "description_tooltip": null,
            "layout": "IPY_MODEL_4f78fd0335904b91b2d948dfa303d148",
            "max": 26,
            "min": 0,
            "orientation": "horizontal",
            "style": "IPY_MODEL_0fd0dfcb82d946239fbb773a61ba3391",
            "value": 26
          }
        },
        "36426019fdc24393888aed5467d7cf34": {
          "model_module": "@jupyter-widgets/controls",
          "model_name": "HTMLModel",
          "model_module_version": "1.5.0",
          "state": {
            "_dom_classes": [],
            "_model_module": "@jupyter-widgets/controls",
            "_model_module_version": "1.5.0",
            "_model_name": "HTMLModel",
            "_view_count": null,
            "_view_module": "@jupyter-widgets/controls",
            "_view_module_version": "1.5.0",
            "_view_name": "HTMLView",
            "description": "",
            "description_tooltip": null,
            "layout": "IPY_MODEL_06c8e6a5f7f54edd9aa276a0b822dc0a",
            "placeholder": "​",
            "style": "IPY_MODEL_92f1fe8acade4d039196f0625736be2e",
            "value": " 26.0/26.0 [00:00&lt;00:00, 836B/s]"
          }
        },
        "3eee576475b84a8b87838e205aa75c17": {
          "model_module": "@jupyter-widgets/base",
          "model_name": "LayoutModel",
          "model_module_version": "1.2.0",
          "state": {
            "_model_module": "@jupyter-widgets/base",
            "_model_module_version": "1.2.0",
            "_model_name": "LayoutModel",
            "_view_count": null,
            "_view_module": "@jupyter-widgets/base",
            "_view_module_version": "1.2.0",
            "_view_name": "LayoutView",
            "align_content": null,
            "align_items": null,
            "align_self": null,
            "border": null,
            "bottom": null,
            "display": null,
            "flex": null,
            "flex_flow": null,
            "grid_area": null,
            "grid_auto_columns": null,
            "grid_auto_flow": null,
            "grid_auto_rows": null,
            "grid_column": null,
            "grid_gap": null,
            "grid_row": null,
            "grid_template_areas": null,
            "grid_template_columns": null,
            "grid_template_rows": null,
            "height": null,
            "justify_content": null,
            "justify_items": null,
            "left": null,
            "margin": null,
            "max_height": null,
            "max_width": null,
            "min_height": null,
            "min_width": null,
            "object_fit": null,
            "object_position": null,
            "order": null,
            "overflow": null,
            "overflow_x": null,
            "overflow_y": null,
            "padding": null,
            "right": null,
            "top": null,
            "visibility": null,
            "width": null
          }
        },
        "9d1091a1b8784ae99bf6a6fc7a38392e": {
          "model_module": "@jupyter-widgets/base",
          "model_name": "LayoutModel",
          "model_module_version": "1.2.0",
          "state": {
            "_model_module": "@jupyter-widgets/base",
            "_model_module_version": "1.2.0",
            "_model_name": "LayoutModel",
            "_view_count": null,
            "_view_module": "@jupyter-widgets/base",
            "_view_module_version": "1.2.0",
            "_view_name": "LayoutView",
            "align_content": null,
            "align_items": null,
            "align_self": null,
            "border": null,
            "bottom": null,
            "display": null,
            "flex": null,
            "flex_flow": null,
            "grid_area": null,
            "grid_auto_columns": null,
            "grid_auto_flow": null,
            "grid_auto_rows": null,
            "grid_column": null,
            "grid_gap": null,
            "grid_row": null,
            "grid_template_areas": null,
            "grid_template_columns": null,
            "grid_template_rows": null,
            "height": null,
            "justify_content": null,
            "justify_items": null,
            "left": null,
            "margin": null,
            "max_height": null,
            "max_width": null,
            "min_height": null,
            "min_width": null,
            "object_fit": null,
            "object_position": null,
            "order": null,
            "overflow": null,
            "overflow_x": null,
            "overflow_y": null,
            "padding": null,
            "right": null,
            "top": null,
            "visibility": null,
            "width": null
          }
        },
        "f70f494d3f844bb9b07b7aade0a5ed29": {
          "model_module": "@jupyter-widgets/controls",
          "model_name": "DescriptionStyleModel",
          "model_module_version": "1.5.0",
          "state": {
            "_model_module": "@jupyter-widgets/controls",
            "_model_module_version": "1.5.0",
            "_model_name": "DescriptionStyleModel",
            "_view_count": null,
            "_view_module": "@jupyter-widgets/base",
            "_view_module_version": "1.2.0",
            "_view_name": "StyleView",
            "description_width": ""
          }
        },
        "4f78fd0335904b91b2d948dfa303d148": {
          "model_module": "@jupyter-widgets/base",
          "model_name": "LayoutModel",
          "model_module_version": "1.2.0",
          "state": {
            "_model_module": "@jupyter-widgets/base",
            "_model_module_version": "1.2.0",
            "_model_name": "LayoutModel",
            "_view_count": null,
            "_view_module": "@jupyter-widgets/base",
            "_view_module_version": "1.2.0",
            "_view_name": "LayoutView",
            "align_content": null,
            "align_items": null,
            "align_self": null,
            "border": null,
            "bottom": null,
            "display": null,
            "flex": null,
            "flex_flow": null,
            "grid_area": null,
            "grid_auto_columns": null,
            "grid_auto_flow": null,
            "grid_auto_rows": null,
            "grid_column": null,
            "grid_gap": null,
            "grid_row": null,
            "grid_template_areas": null,
            "grid_template_columns": null,
            "grid_template_rows": null,
            "height": null,
            "justify_content": null,
            "justify_items": null,
            "left": null,
            "margin": null,
            "max_height": null,
            "max_width": null,
            "min_height": null,
            "min_width": null,
            "object_fit": null,
            "object_position": null,
            "order": null,
            "overflow": null,
            "overflow_x": null,
            "overflow_y": null,
            "padding": null,
            "right": null,
            "top": null,
            "visibility": null,
            "width": null
          }
        },
        "0fd0dfcb82d946239fbb773a61ba3391": {
          "model_module": "@jupyter-widgets/controls",
          "model_name": "ProgressStyleModel",
          "model_module_version": "1.5.0",
          "state": {
            "_model_module": "@jupyter-widgets/controls",
            "_model_module_version": "1.5.0",
            "_model_name": "ProgressStyleModel",
            "_view_count": null,
            "_view_module": "@jupyter-widgets/base",
            "_view_module_version": "1.2.0",
            "_view_name": "StyleView",
            "bar_color": null,
            "description_width": ""
          }
        },
        "06c8e6a5f7f54edd9aa276a0b822dc0a": {
          "model_module": "@jupyter-widgets/base",
          "model_name": "LayoutModel",
          "model_module_version": "1.2.0",
          "state": {
            "_model_module": "@jupyter-widgets/base",
            "_model_module_version": "1.2.0",
            "_model_name": "LayoutModel",
            "_view_count": null,
            "_view_module": "@jupyter-widgets/base",
            "_view_module_version": "1.2.0",
            "_view_name": "LayoutView",
            "align_content": null,
            "align_items": null,
            "align_self": null,
            "border": null,
            "bottom": null,
            "display": null,
            "flex": null,
            "flex_flow": null,
            "grid_area": null,
            "grid_auto_columns": null,
            "grid_auto_flow": null,
            "grid_auto_rows": null,
            "grid_column": null,
            "grid_gap": null,
            "grid_row": null,
            "grid_template_areas": null,
            "grid_template_columns": null,
            "grid_template_rows": null,
            "height": null,
            "justify_content": null,
            "justify_items": null,
            "left": null,
            "margin": null,
            "max_height": null,
            "max_width": null,
            "min_height": null,
            "min_width": null,
            "object_fit": null,
            "object_position": null,
            "order": null,
            "overflow": null,
            "overflow_x": null,
            "overflow_y": null,
            "padding": null,
            "right": null,
            "top": null,
            "visibility": null,
            "width": null
          }
        },
        "92f1fe8acade4d039196f0625736be2e": {
          "model_module": "@jupyter-widgets/controls",
          "model_name": "DescriptionStyleModel",
          "model_module_version": "1.5.0",
          "state": {
            "_model_module": "@jupyter-widgets/controls",
            "_model_module_version": "1.5.0",
            "_model_name": "DescriptionStyleModel",
            "_view_count": null,
            "_view_module": "@jupyter-widgets/base",
            "_view_module_version": "1.2.0",
            "_view_name": "StyleView",
            "description_width": ""
          }
        },
        "9477a685feb14dec9044c3783b8e1d6a": {
          "model_module": "@jupyter-widgets/controls",
          "model_name": "HBoxModel",
          "model_module_version": "1.5.0",
          "state": {
            "_dom_classes": [],
            "_model_module": "@jupyter-widgets/controls",
            "_model_module_version": "1.5.0",
            "_model_name": "HBoxModel",
            "_view_count": null,
            "_view_module": "@jupyter-widgets/controls",
            "_view_module_version": "1.5.0",
            "_view_name": "HBoxView",
            "box_style": "",
            "children": [
              "IPY_MODEL_178ec27f592b4ea78d5e2c3c2fd6d8c8",
              "IPY_MODEL_5824b00573514ca5be5f55cd926889d3",
              "IPY_MODEL_c7c6b9cd350f44ed88284730a15b70f8"
            ],
            "layout": "IPY_MODEL_241ac62dc02840fe846764898cda3849"
          }
        },
        "178ec27f592b4ea78d5e2c3c2fd6d8c8": {
          "model_module": "@jupyter-widgets/controls",
          "model_name": "HTMLModel",
          "model_module_version": "1.5.0",
          "state": {
            "_dom_classes": [],
            "_model_module": "@jupyter-widgets/controls",
            "_model_module_version": "1.5.0",
            "_model_name": "HTMLModel",
            "_view_count": null,
            "_view_module": "@jupyter-widgets/controls",
            "_view_module_version": "1.5.0",
            "_view_name": "HTMLView",
            "description": "",
            "description_tooltip": null,
            "layout": "IPY_MODEL_215679b354a349ef800b53897b00e2b1",
            "placeholder": "​",
            "style": "IPY_MODEL_24875e3e394a4b648289fa188d3f7967",
            "value": "vocab.json: 100%"
          }
        },
        "5824b00573514ca5be5f55cd926889d3": {
          "model_module": "@jupyter-widgets/controls",
          "model_name": "FloatProgressModel",
          "model_module_version": "1.5.0",
          "state": {
            "_dom_classes": [],
            "_model_module": "@jupyter-widgets/controls",
            "_model_module_version": "1.5.0",
            "_model_name": "FloatProgressModel",
            "_view_count": null,
            "_view_module": "@jupyter-widgets/controls",
            "_view_module_version": "1.5.0",
            "_view_name": "ProgressView",
            "bar_style": "success",
            "description": "",
            "description_tooltip": null,
            "layout": "IPY_MODEL_293ceb2c5aad490e89ccee6c534992be",
            "max": 1042301,
            "min": 0,
            "orientation": "horizontal",
            "style": "IPY_MODEL_899d6173d2b648f4ac15a2fa4e8d4af7",
            "value": 1042301
          }
        },
        "c7c6b9cd350f44ed88284730a15b70f8": {
          "model_module": "@jupyter-widgets/controls",
          "model_name": "HTMLModel",
          "model_module_version": "1.5.0",
          "state": {
            "_dom_classes": [],
            "_model_module": "@jupyter-widgets/controls",
            "_model_module_version": "1.5.0",
            "_model_name": "HTMLModel",
            "_view_count": null,
            "_view_module": "@jupyter-widgets/controls",
            "_view_module_version": "1.5.0",
            "_view_name": "HTMLView",
            "description": "",
            "description_tooltip": null,
            "layout": "IPY_MODEL_eaf1a01f8fb54484b60fe56b4c88dfa0",
            "placeholder": "​",
            "style": "IPY_MODEL_9aab2a365e2e497eb3c1b8693c7d72eb",
            "value": " 1.04M/1.04M [00:00&lt;00:00, 1.89MB/s]"
          }
        },
        "241ac62dc02840fe846764898cda3849": {
          "model_module": "@jupyter-widgets/base",
          "model_name": "LayoutModel",
          "model_module_version": "1.2.0",
          "state": {
            "_model_module": "@jupyter-widgets/base",
            "_model_module_version": "1.2.0",
            "_model_name": "LayoutModel",
            "_view_count": null,
            "_view_module": "@jupyter-widgets/base",
            "_view_module_version": "1.2.0",
            "_view_name": "LayoutView",
            "align_content": null,
            "align_items": null,
            "align_self": null,
            "border": null,
            "bottom": null,
            "display": null,
            "flex": null,
            "flex_flow": null,
            "grid_area": null,
            "grid_auto_columns": null,
            "grid_auto_flow": null,
            "grid_auto_rows": null,
            "grid_column": null,
            "grid_gap": null,
            "grid_row": null,
            "grid_template_areas": null,
            "grid_template_columns": null,
            "grid_template_rows": null,
            "height": null,
            "justify_content": null,
            "justify_items": null,
            "left": null,
            "margin": null,
            "max_height": null,
            "max_width": null,
            "min_height": null,
            "min_width": null,
            "object_fit": null,
            "object_position": null,
            "order": null,
            "overflow": null,
            "overflow_x": null,
            "overflow_y": null,
            "padding": null,
            "right": null,
            "top": null,
            "visibility": null,
            "width": null
          }
        },
        "215679b354a349ef800b53897b00e2b1": {
          "model_module": "@jupyter-widgets/base",
          "model_name": "LayoutModel",
          "model_module_version": "1.2.0",
          "state": {
            "_model_module": "@jupyter-widgets/base",
            "_model_module_version": "1.2.0",
            "_model_name": "LayoutModel",
            "_view_count": null,
            "_view_module": "@jupyter-widgets/base",
            "_view_module_version": "1.2.0",
            "_view_name": "LayoutView",
            "align_content": null,
            "align_items": null,
            "align_self": null,
            "border": null,
            "bottom": null,
            "display": null,
            "flex": null,
            "flex_flow": null,
            "grid_area": null,
            "grid_auto_columns": null,
            "grid_auto_flow": null,
            "grid_auto_rows": null,
            "grid_column": null,
            "grid_gap": null,
            "grid_row": null,
            "grid_template_areas": null,
            "grid_template_columns": null,
            "grid_template_rows": null,
            "height": null,
            "justify_content": null,
            "justify_items": null,
            "left": null,
            "margin": null,
            "max_height": null,
            "max_width": null,
            "min_height": null,
            "min_width": null,
            "object_fit": null,
            "object_position": null,
            "order": null,
            "overflow": null,
            "overflow_x": null,
            "overflow_y": null,
            "padding": null,
            "right": null,
            "top": null,
            "visibility": null,
            "width": null
          }
        },
        "24875e3e394a4b648289fa188d3f7967": {
          "model_module": "@jupyter-widgets/controls",
          "model_name": "DescriptionStyleModel",
          "model_module_version": "1.5.0",
          "state": {
            "_model_module": "@jupyter-widgets/controls",
            "_model_module_version": "1.5.0",
            "_model_name": "DescriptionStyleModel",
            "_view_count": null,
            "_view_module": "@jupyter-widgets/base",
            "_view_module_version": "1.2.0",
            "_view_name": "StyleView",
            "description_width": ""
          }
        },
        "293ceb2c5aad490e89ccee6c534992be": {
          "model_module": "@jupyter-widgets/base",
          "model_name": "LayoutModel",
          "model_module_version": "1.2.0",
          "state": {
            "_model_module": "@jupyter-widgets/base",
            "_model_module_version": "1.2.0",
            "_model_name": "LayoutModel",
            "_view_count": null,
            "_view_module": "@jupyter-widgets/base",
            "_view_module_version": "1.2.0",
            "_view_name": "LayoutView",
            "align_content": null,
            "align_items": null,
            "align_self": null,
            "border": null,
            "bottom": null,
            "display": null,
            "flex": null,
            "flex_flow": null,
            "grid_area": null,
            "grid_auto_columns": null,
            "grid_auto_flow": null,
            "grid_auto_rows": null,
            "grid_column": null,
            "grid_gap": null,
            "grid_row": null,
            "grid_template_areas": null,
            "grid_template_columns": null,
            "grid_template_rows": null,
            "height": null,
            "justify_content": null,
            "justify_items": null,
            "left": null,
            "margin": null,
            "max_height": null,
            "max_width": null,
            "min_height": null,
            "min_width": null,
            "object_fit": null,
            "object_position": null,
            "order": null,
            "overflow": null,
            "overflow_x": null,
            "overflow_y": null,
            "padding": null,
            "right": null,
            "top": null,
            "visibility": null,
            "width": null
          }
        },
        "899d6173d2b648f4ac15a2fa4e8d4af7": {
          "model_module": "@jupyter-widgets/controls",
          "model_name": "ProgressStyleModel",
          "model_module_version": "1.5.0",
          "state": {
            "_model_module": "@jupyter-widgets/controls",
            "_model_module_version": "1.5.0",
            "_model_name": "ProgressStyleModel",
            "_view_count": null,
            "_view_module": "@jupyter-widgets/base",
            "_view_module_version": "1.2.0",
            "_view_name": "StyleView",
            "bar_color": null,
            "description_width": ""
          }
        },
        "eaf1a01f8fb54484b60fe56b4c88dfa0": {
          "model_module": "@jupyter-widgets/base",
          "model_name": "LayoutModel",
          "model_module_version": "1.2.0",
          "state": {
            "_model_module": "@jupyter-widgets/base",
            "_model_module_version": "1.2.0",
            "_model_name": "LayoutModel",
            "_view_count": null,
            "_view_module": "@jupyter-widgets/base",
            "_view_module_version": "1.2.0",
            "_view_name": "LayoutView",
            "align_content": null,
            "align_items": null,
            "align_self": null,
            "border": null,
            "bottom": null,
            "display": null,
            "flex": null,
            "flex_flow": null,
            "grid_area": null,
            "grid_auto_columns": null,
            "grid_auto_flow": null,
            "grid_auto_rows": null,
            "grid_column": null,
            "grid_gap": null,
            "grid_row": null,
            "grid_template_areas": null,
            "grid_template_columns": null,
            "grid_template_rows": null,
            "height": null,
            "justify_content": null,
            "justify_items": null,
            "left": null,
            "margin": null,
            "max_height": null,
            "max_width": null,
            "min_height": null,
            "min_width": null,
            "object_fit": null,
            "object_position": null,
            "order": null,
            "overflow": null,
            "overflow_x": null,
            "overflow_y": null,
            "padding": null,
            "right": null,
            "top": null,
            "visibility": null,
            "width": null
          }
        },
        "9aab2a365e2e497eb3c1b8693c7d72eb": {
          "model_module": "@jupyter-widgets/controls",
          "model_name": "DescriptionStyleModel",
          "model_module_version": "1.5.0",
          "state": {
            "_model_module": "@jupyter-widgets/controls",
            "_model_module_version": "1.5.0",
            "_model_name": "DescriptionStyleModel",
            "_view_count": null,
            "_view_module": "@jupyter-widgets/base",
            "_view_module_version": "1.2.0",
            "_view_name": "StyleView",
            "description_width": ""
          }
        },
        "8a84431bfa374c5a829d2e1cce7099fa": {
          "model_module": "@jupyter-widgets/controls",
          "model_name": "HBoxModel",
          "model_module_version": "1.5.0",
          "state": {
            "_dom_classes": [],
            "_model_module": "@jupyter-widgets/controls",
            "_model_module_version": "1.5.0",
            "_model_name": "HBoxModel",
            "_view_count": null,
            "_view_module": "@jupyter-widgets/controls",
            "_view_module_version": "1.5.0",
            "_view_name": "HBoxView",
            "box_style": "",
            "children": [
              "IPY_MODEL_4c68fafa13b146d1a7fe2572e19ba1b4",
              "IPY_MODEL_b748065d37f844e0a3e0ed93f4145b8d",
              "IPY_MODEL_824f7d81ea6447509d8df7df21fde732"
            ],
            "layout": "IPY_MODEL_758ce5cfa5f74397a3213bc51f18bef1"
          }
        },
        "4c68fafa13b146d1a7fe2572e19ba1b4": {
          "model_module": "@jupyter-widgets/controls",
          "model_name": "HTMLModel",
          "model_module_version": "1.5.0",
          "state": {
            "_dom_classes": [],
            "_model_module": "@jupyter-widgets/controls",
            "_model_module_version": "1.5.0",
            "_model_name": "HTMLModel",
            "_view_count": null,
            "_view_module": "@jupyter-widgets/controls",
            "_view_module_version": "1.5.0",
            "_view_name": "HTMLView",
            "description": "",
            "description_tooltip": null,
            "layout": "IPY_MODEL_1b314feb085946c897949f864913973b",
            "placeholder": "​",
            "style": "IPY_MODEL_cca00899e6dd429093c605f36c2be888",
            "value": "merges.txt: 100%"
          }
        },
        "b748065d37f844e0a3e0ed93f4145b8d": {
          "model_module": "@jupyter-widgets/controls",
          "model_name": "FloatProgressModel",
          "model_module_version": "1.5.0",
          "state": {
            "_dom_classes": [],
            "_model_module": "@jupyter-widgets/controls",
            "_model_module_version": "1.5.0",
            "_model_name": "FloatProgressModel",
            "_view_count": null,
            "_view_module": "@jupyter-widgets/controls",
            "_view_module_version": "1.5.0",
            "_view_name": "ProgressView",
            "bar_style": "success",
            "description": "",
            "description_tooltip": null,
            "layout": "IPY_MODEL_bfc65cb6012543039addee7f8e5bcd17",
            "max": 456318,
            "min": 0,
            "orientation": "horizontal",
            "style": "IPY_MODEL_180754de2e7e475b858e2722645e888a",
            "value": 456318
          }
        },
        "824f7d81ea6447509d8df7df21fde732": {
          "model_module": "@jupyter-widgets/controls",
          "model_name": "HTMLModel",
          "model_module_version": "1.5.0",
          "state": {
            "_dom_classes": [],
            "_model_module": "@jupyter-widgets/controls",
            "_model_module_version": "1.5.0",
            "_model_name": "HTMLModel",
            "_view_count": null,
            "_view_module": "@jupyter-widgets/controls",
            "_view_module_version": "1.5.0",
            "_view_name": "HTMLView",
            "description": "",
            "description_tooltip": null,
            "layout": "IPY_MODEL_eae14d8a1b9b4cb79cd7b721067543d8",
            "placeholder": "​",
            "style": "IPY_MODEL_8766f45d80cc4005a25f4176704780df",
            "value": " 456k/456k [00:00&lt;00:00, 3.28MB/s]"
          }
        },
        "758ce5cfa5f74397a3213bc51f18bef1": {
          "model_module": "@jupyter-widgets/base",
          "model_name": "LayoutModel",
          "model_module_version": "1.2.0",
          "state": {
            "_model_module": "@jupyter-widgets/base",
            "_model_module_version": "1.2.0",
            "_model_name": "LayoutModel",
            "_view_count": null,
            "_view_module": "@jupyter-widgets/base",
            "_view_module_version": "1.2.0",
            "_view_name": "LayoutView",
            "align_content": null,
            "align_items": null,
            "align_self": null,
            "border": null,
            "bottom": null,
            "display": null,
            "flex": null,
            "flex_flow": null,
            "grid_area": null,
            "grid_auto_columns": null,
            "grid_auto_flow": null,
            "grid_auto_rows": null,
            "grid_column": null,
            "grid_gap": null,
            "grid_row": null,
            "grid_template_areas": null,
            "grid_template_columns": null,
            "grid_template_rows": null,
            "height": null,
            "justify_content": null,
            "justify_items": null,
            "left": null,
            "margin": null,
            "max_height": null,
            "max_width": null,
            "min_height": null,
            "min_width": null,
            "object_fit": null,
            "object_position": null,
            "order": null,
            "overflow": null,
            "overflow_x": null,
            "overflow_y": null,
            "padding": null,
            "right": null,
            "top": null,
            "visibility": null,
            "width": null
          }
        },
        "1b314feb085946c897949f864913973b": {
          "model_module": "@jupyter-widgets/base",
          "model_name": "LayoutModel",
          "model_module_version": "1.2.0",
          "state": {
            "_model_module": "@jupyter-widgets/base",
            "_model_module_version": "1.2.0",
            "_model_name": "LayoutModel",
            "_view_count": null,
            "_view_module": "@jupyter-widgets/base",
            "_view_module_version": "1.2.0",
            "_view_name": "LayoutView",
            "align_content": null,
            "align_items": null,
            "align_self": null,
            "border": null,
            "bottom": null,
            "display": null,
            "flex": null,
            "flex_flow": null,
            "grid_area": null,
            "grid_auto_columns": null,
            "grid_auto_flow": null,
            "grid_auto_rows": null,
            "grid_column": null,
            "grid_gap": null,
            "grid_row": null,
            "grid_template_areas": null,
            "grid_template_columns": null,
            "grid_template_rows": null,
            "height": null,
            "justify_content": null,
            "justify_items": null,
            "left": null,
            "margin": null,
            "max_height": null,
            "max_width": null,
            "min_height": null,
            "min_width": null,
            "object_fit": null,
            "object_position": null,
            "order": null,
            "overflow": null,
            "overflow_x": null,
            "overflow_y": null,
            "padding": null,
            "right": null,
            "top": null,
            "visibility": null,
            "width": null
          }
        },
        "cca00899e6dd429093c605f36c2be888": {
          "model_module": "@jupyter-widgets/controls",
          "model_name": "DescriptionStyleModel",
          "model_module_version": "1.5.0",
          "state": {
            "_model_module": "@jupyter-widgets/controls",
            "_model_module_version": "1.5.0",
            "_model_name": "DescriptionStyleModel",
            "_view_count": null,
            "_view_module": "@jupyter-widgets/base",
            "_view_module_version": "1.2.0",
            "_view_name": "StyleView",
            "description_width": ""
          }
        },
        "bfc65cb6012543039addee7f8e5bcd17": {
          "model_module": "@jupyter-widgets/base",
          "model_name": "LayoutModel",
          "model_module_version": "1.2.0",
          "state": {
            "_model_module": "@jupyter-widgets/base",
            "_model_module_version": "1.2.0",
            "_model_name": "LayoutModel",
            "_view_count": null,
            "_view_module": "@jupyter-widgets/base",
            "_view_module_version": "1.2.0",
            "_view_name": "LayoutView",
            "align_content": null,
            "align_items": null,
            "align_self": null,
            "border": null,
            "bottom": null,
            "display": null,
            "flex": null,
            "flex_flow": null,
            "grid_area": null,
            "grid_auto_columns": null,
            "grid_auto_flow": null,
            "grid_auto_rows": null,
            "grid_column": null,
            "grid_gap": null,
            "grid_row": null,
            "grid_template_areas": null,
            "grid_template_columns": null,
            "grid_template_rows": null,
            "height": null,
            "justify_content": null,
            "justify_items": null,
            "left": null,
            "margin": null,
            "max_height": null,
            "max_width": null,
            "min_height": null,
            "min_width": null,
            "object_fit": null,
            "object_position": null,
            "order": null,
            "overflow": null,
            "overflow_x": null,
            "overflow_y": null,
            "padding": null,
            "right": null,
            "top": null,
            "visibility": null,
            "width": null
          }
        },
        "180754de2e7e475b858e2722645e888a": {
          "model_module": "@jupyter-widgets/controls",
          "model_name": "ProgressStyleModel",
          "model_module_version": "1.5.0",
          "state": {
            "_model_module": "@jupyter-widgets/controls",
            "_model_module_version": "1.5.0",
            "_model_name": "ProgressStyleModel",
            "_view_count": null,
            "_view_module": "@jupyter-widgets/base",
            "_view_module_version": "1.2.0",
            "_view_name": "StyleView",
            "bar_color": null,
            "description_width": ""
          }
        },
        "eae14d8a1b9b4cb79cd7b721067543d8": {
          "model_module": "@jupyter-widgets/base",
          "model_name": "LayoutModel",
          "model_module_version": "1.2.0",
          "state": {
            "_model_module": "@jupyter-widgets/base",
            "_model_module_version": "1.2.0",
            "_model_name": "LayoutModel",
            "_view_count": null,
            "_view_module": "@jupyter-widgets/base",
            "_view_module_version": "1.2.0",
            "_view_name": "LayoutView",
            "align_content": null,
            "align_items": null,
            "align_self": null,
            "border": null,
            "bottom": null,
            "display": null,
            "flex": null,
            "flex_flow": null,
            "grid_area": null,
            "grid_auto_columns": null,
            "grid_auto_flow": null,
            "grid_auto_rows": null,
            "grid_column": null,
            "grid_gap": null,
            "grid_row": null,
            "grid_template_areas": null,
            "grid_template_columns": null,
            "grid_template_rows": null,
            "height": null,
            "justify_content": null,
            "justify_items": null,
            "left": null,
            "margin": null,
            "max_height": null,
            "max_width": null,
            "min_height": null,
            "min_width": null,
            "object_fit": null,
            "object_position": null,
            "order": null,
            "overflow": null,
            "overflow_x": null,
            "overflow_y": null,
            "padding": null,
            "right": null,
            "top": null,
            "visibility": null,
            "width": null
          }
        },
        "8766f45d80cc4005a25f4176704780df": {
          "model_module": "@jupyter-widgets/controls",
          "model_name": "DescriptionStyleModel",
          "model_module_version": "1.5.0",
          "state": {
            "_model_module": "@jupyter-widgets/controls",
            "_model_module_version": "1.5.0",
            "_model_name": "DescriptionStyleModel",
            "_view_count": null,
            "_view_module": "@jupyter-widgets/base",
            "_view_module_version": "1.2.0",
            "_view_name": "StyleView",
            "description_width": ""
          }
        },
        "525c520c7c804d5ca8371e0f8236be14": {
          "model_module": "@jupyter-widgets/controls",
          "model_name": "HBoxModel",
          "model_module_version": "1.5.0",
          "state": {
            "_dom_classes": [],
            "_model_module": "@jupyter-widgets/controls",
            "_model_module_version": "1.5.0",
            "_model_name": "HBoxModel",
            "_view_count": null,
            "_view_module": "@jupyter-widgets/controls",
            "_view_module_version": "1.5.0",
            "_view_name": "HBoxView",
            "box_style": "",
            "children": [
              "IPY_MODEL_b9fffede175442d68c89fa9535ab6348",
              "IPY_MODEL_02f4ab81d64e411283983d27c723eb1c",
              "IPY_MODEL_e65fcd3cc4ca40c980db85229130df13"
            ],
            "layout": "IPY_MODEL_fdb4f7dab7054ee9a96113d190fef03e"
          }
        },
        "b9fffede175442d68c89fa9535ab6348": {
          "model_module": "@jupyter-widgets/controls",
          "model_name": "HTMLModel",
          "model_module_version": "1.5.0",
          "state": {
            "_dom_classes": [],
            "_model_module": "@jupyter-widgets/controls",
            "_model_module_version": "1.5.0",
            "_model_name": "HTMLModel",
            "_view_count": null,
            "_view_module": "@jupyter-widgets/controls",
            "_view_module_version": "1.5.0",
            "_view_name": "HTMLView",
            "description": "",
            "description_tooltip": null,
            "layout": "IPY_MODEL_908e4a411c9d46e08d7e32b872dabcd5",
            "placeholder": "​",
            "style": "IPY_MODEL_ccaf408a746740e8bc36ef1982281ef2",
            "value": "tokenizer.json: 100%"
          }
        },
        "02f4ab81d64e411283983d27c723eb1c": {
          "model_module": "@jupyter-widgets/controls",
          "model_name": "FloatProgressModel",
          "model_module_version": "1.5.0",
          "state": {
            "_dom_classes": [],
            "_model_module": "@jupyter-widgets/controls",
            "_model_module_version": "1.5.0",
            "_model_name": "FloatProgressModel",
            "_view_count": null,
            "_view_module": "@jupyter-widgets/controls",
            "_view_module_version": "1.5.0",
            "_view_name": "ProgressView",
            "bar_style": "success",
            "description": "",
            "description_tooltip": null,
            "layout": "IPY_MODEL_058fb48ce7034111b83ecc807a3c8498",
            "max": 1355256,
            "min": 0,
            "orientation": "horizontal",
            "style": "IPY_MODEL_6f32bb054b6e441ead230cf3d00da340",
            "value": 1355256
          }
        },
        "e65fcd3cc4ca40c980db85229130df13": {
          "model_module": "@jupyter-widgets/controls",
          "model_name": "HTMLModel",
          "model_module_version": "1.5.0",
          "state": {
            "_dom_classes": [],
            "_model_module": "@jupyter-widgets/controls",
            "_model_module_version": "1.5.0",
            "_model_name": "HTMLModel",
            "_view_count": null,
            "_view_module": "@jupyter-widgets/controls",
            "_view_module_version": "1.5.0",
            "_view_name": "HTMLView",
            "description": "",
            "description_tooltip": null,
            "layout": "IPY_MODEL_3d7767b832f74229933bcd8c143bf294",
            "placeholder": "​",
            "style": "IPY_MODEL_a5e9b12b6a8e43299c4bee88ed40ff23",
            "value": " 1.36M/1.36M [00:00&lt;00:00, 6.65MB/s]"
          }
        },
        "fdb4f7dab7054ee9a96113d190fef03e": {
          "model_module": "@jupyter-widgets/base",
          "model_name": "LayoutModel",
          "model_module_version": "1.2.0",
          "state": {
            "_model_module": "@jupyter-widgets/base",
            "_model_module_version": "1.2.0",
            "_model_name": "LayoutModel",
            "_view_count": null,
            "_view_module": "@jupyter-widgets/base",
            "_view_module_version": "1.2.0",
            "_view_name": "LayoutView",
            "align_content": null,
            "align_items": null,
            "align_self": null,
            "border": null,
            "bottom": null,
            "display": null,
            "flex": null,
            "flex_flow": null,
            "grid_area": null,
            "grid_auto_columns": null,
            "grid_auto_flow": null,
            "grid_auto_rows": null,
            "grid_column": null,
            "grid_gap": null,
            "grid_row": null,
            "grid_template_areas": null,
            "grid_template_columns": null,
            "grid_template_rows": null,
            "height": null,
            "justify_content": null,
            "justify_items": null,
            "left": null,
            "margin": null,
            "max_height": null,
            "max_width": null,
            "min_height": null,
            "min_width": null,
            "object_fit": null,
            "object_position": null,
            "order": null,
            "overflow": null,
            "overflow_x": null,
            "overflow_y": null,
            "padding": null,
            "right": null,
            "top": null,
            "visibility": null,
            "width": null
          }
        },
        "908e4a411c9d46e08d7e32b872dabcd5": {
          "model_module": "@jupyter-widgets/base",
          "model_name": "LayoutModel",
          "model_module_version": "1.2.0",
          "state": {
            "_model_module": "@jupyter-widgets/base",
            "_model_module_version": "1.2.0",
            "_model_name": "LayoutModel",
            "_view_count": null,
            "_view_module": "@jupyter-widgets/base",
            "_view_module_version": "1.2.0",
            "_view_name": "LayoutView",
            "align_content": null,
            "align_items": null,
            "align_self": null,
            "border": null,
            "bottom": null,
            "display": null,
            "flex": null,
            "flex_flow": null,
            "grid_area": null,
            "grid_auto_columns": null,
            "grid_auto_flow": null,
            "grid_auto_rows": null,
            "grid_column": null,
            "grid_gap": null,
            "grid_row": null,
            "grid_template_areas": null,
            "grid_template_columns": null,
            "grid_template_rows": null,
            "height": null,
            "justify_content": null,
            "justify_items": null,
            "left": null,
            "margin": null,
            "max_height": null,
            "max_width": null,
            "min_height": null,
            "min_width": null,
            "object_fit": null,
            "object_position": null,
            "order": null,
            "overflow": null,
            "overflow_x": null,
            "overflow_y": null,
            "padding": null,
            "right": null,
            "top": null,
            "visibility": null,
            "width": null
          }
        },
        "ccaf408a746740e8bc36ef1982281ef2": {
          "model_module": "@jupyter-widgets/controls",
          "model_name": "DescriptionStyleModel",
          "model_module_version": "1.5.0",
          "state": {
            "_model_module": "@jupyter-widgets/controls",
            "_model_module_version": "1.5.0",
            "_model_name": "DescriptionStyleModel",
            "_view_count": null,
            "_view_module": "@jupyter-widgets/base",
            "_view_module_version": "1.2.0",
            "_view_name": "StyleView",
            "description_width": ""
          }
        },
        "058fb48ce7034111b83ecc807a3c8498": {
          "model_module": "@jupyter-widgets/base",
          "model_name": "LayoutModel",
          "model_module_version": "1.2.0",
          "state": {
            "_model_module": "@jupyter-widgets/base",
            "_model_module_version": "1.2.0",
            "_model_name": "LayoutModel",
            "_view_count": null,
            "_view_module": "@jupyter-widgets/base",
            "_view_module_version": "1.2.0",
            "_view_name": "LayoutView",
            "align_content": null,
            "align_items": null,
            "align_self": null,
            "border": null,
            "bottom": null,
            "display": null,
            "flex": null,
            "flex_flow": null,
            "grid_area": null,
            "grid_auto_columns": null,
            "grid_auto_flow": null,
            "grid_auto_rows": null,
            "grid_column": null,
            "grid_gap": null,
            "grid_row": null,
            "grid_template_areas": null,
            "grid_template_columns": null,
            "grid_template_rows": null,
            "height": null,
            "justify_content": null,
            "justify_items": null,
            "left": null,
            "margin": null,
            "max_height": null,
            "max_width": null,
            "min_height": null,
            "min_width": null,
            "object_fit": null,
            "object_position": null,
            "order": null,
            "overflow": null,
            "overflow_x": null,
            "overflow_y": null,
            "padding": null,
            "right": null,
            "top": null,
            "visibility": null,
            "width": null
          }
        },
        "6f32bb054b6e441ead230cf3d00da340": {
          "model_module": "@jupyter-widgets/controls",
          "model_name": "ProgressStyleModel",
          "model_module_version": "1.5.0",
          "state": {
            "_model_module": "@jupyter-widgets/controls",
            "_model_module_version": "1.5.0",
            "_model_name": "ProgressStyleModel",
            "_view_count": null,
            "_view_module": "@jupyter-widgets/base",
            "_view_module_version": "1.2.0",
            "_view_name": "StyleView",
            "bar_color": null,
            "description_width": ""
          }
        },
        "3d7767b832f74229933bcd8c143bf294": {
          "model_module": "@jupyter-widgets/base",
          "model_name": "LayoutModel",
          "model_module_version": "1.2.0",
          "state": {
            "_model_module": "@jupyter-widgets/base",
            "_model_module_version": "1.2.0",
            "_model_name": "LayoutModel",
            "_view_count": null,
            "_view_module": "@jupyter-widgets/base",
            "_view_module_version": "1.2.0",
            "_view_name": "LayoutView",
            "align_content": null,
            "align_items": null,
            "align_self": null,
            "border": null,
            "bottom": null,
            "display": null,
            "flex": null,
            "flex_flow": null,
            "grid_area": null,
            "grid_auto_columns": null,
            "grid_auto_flow": null,
            "grid_auto_rows": null,
            "grid_column": null,
            "grid_gap": null,
            "grid_row": null,
            "grid_template_areas": null,
            "grid_template_columns": null,
            "grid_template_rows": null,
            "height": null,
            "justify_content": null,
            "justify_items": null,
            "left": null,
            "margin": null,
            "max_height": null,
            "max_width": null,
            "min_height": null,
            "min_width": null,
            "object_fit": null,
            "object_position": null,
            "order": null,
            "overflow": null,
            "overflow_x": null,
            "overflow_y": null,
            "padding": null,
            "right": null,
            "top": null,
            "visibility": null,
            "width": null
          }
        },
        "a5e9b12b6a8e43299c4bee88ed40ff23": {
          "model_module": "@jupyter-widgets/controls",
          "model_name": "DescriptionStyleModel",
          "model_module_version": "1.5.0",
          "state": {
            "_model_module": "@jupyter-widgets/controls",
            "_model_module_version": "1.5.0",
            "_model_name": "DescriptionStyleModel",
            "_view_count": null,
            "_view_module": "@jupyter-widgets/base",
            "_view_module_version": "1.2.0",
            "_view_name": "StyleView",
            "description_width": ""
          }
        },
        "ce1afad8fb634d889afcb75f2f0ff96f": {
          "model_module": "@jupyter-widgets/controls",
          "model_name": "HBoxModel",
          "model_module_version": "1.5.0",
          "state": {
            "_dom_classes": [],
            "_model_module": "@jupyter-widgets/controls",
            "_model_module_version": "1.5.0",
            "_model_name": "HBoxModel",
            "_view_count": null,
            "_view_module": "@jupyter-widgets/controls",
            "_view_module_version": "1.5.0",
            "_view_name": "HBoxView",
            "box_style": "",
            "children": [
              "IPY_MODEL_b77b3ef2088a47749bcfde3b7a42634b",
              "IPY_MODEL_7818b8c146b6499c9aadafce55826b1e",
              "IPY_MODEL_78a79a7de8434ef9a4442caef196f07f"
            ],
            "layout": "IPY_MODEL_cc8034f4930e416fbbdcf872a3e9e4fb"
          }
        },
        "b77b3ef2088a47749bcfde3b7a42634b": {
          "model_module": "@jupyter-widgets/controls",
          "model_name": "HTMLModel",
          "model_module_version": "1.5.0",
          "state": {
            "_dom_classes": [],
            "_model_module": "@jupyter-widgets/controls",
            "_model_module_version": "1.5.0",
            "_model_name": "HTMLModel",
            "_view_count": null,
            "_view_module": "@jupyter-widgets/controls",
            "_view_module_version": "1.5.0",
            "_view_name": "HTMLView",
            "description": "",
            "description_tooltip": null,
            "layout": "IPY_MODEL_3d625fa057b9490f8b53452c2b833be5",
            "placeholder": "​",
            "style": "IPY_MODEL_d572b8fa94c74fbca9cd12883681a979",
            "value": "config.json: 100%"
          }
        },
        "7818b8c146b6499c9aadafce55826b1e": {
          "model_module": "@jupyter-widgets/controls",
          "model_name": "FloatProgressModel",
          "model_module_version": "1.5.0",
          "state": {
            "_dom_classes": [],
            "_model_module": "@jupyter-widgets/controls",
            "_model_module_version": "1.5.0",
            "_model_name": "FloatProgressModel",
            "_view_count": null,
            "_view_module": "@jupyter-widgets/controls",
            "_view_module_version": "1.5.0",
            "_view_name": "ProgressView",
            "bar_style": "success",
            "description": "",
            "description_tooltip": null,
            "layout": "IPY_MODEL_5ad458df85014544aa33b8be5e4a42fe",
            "max": 665,
            "min": 0,
            "orientation": "horizontal",
            "style": "IPY_MODEL_1d5acdc25e7b4ab09d27d184cdb2330f",
            "value": 665
          }
        },
        "78a79a7de8434ef9a4442caef196f07f": {
          "model_module": "@jupyter-widgets/controls",
          "model_name": "HTMLModel",
          "model_module_version": "1.5.0",
          "state": {
            "_dom_classes": [],
            "_model_module": "@jupyter-widgets/controls",
            "_model_module_version": "1.5.0",
            "_model_name": "HTMLModel",
            "_view_count": null,
            "_view_module": "@jupyter-widgets/controls",
            "_view_module_version": "1.5.0",
            "_view_name": "HTMLView",
            "description": "",
            "description_tooltip": null,
            "layout": "IPY_MODEL_d24cdf30a1c84b58923b0a0b20f0d27e",
            "placeholder": "​",
            "style": "IPY_MODEL_20f1b65ca4e649149248464cb52a36b6",
            "value": " 665/665 [00:00&lt;00:00, 15.7kB/s]"
          }
        },
        "cc8034f4930e416fbbdcf872a3e9e4fb": {
          "model_module": "@jupyter-widgets/base",
          "model_name": "LayoutModel",
          "model_module_version": "1.2.0",
          "state": {
            "_model_module": "@jupyter-widgets/base",
            "_model_module_version": "1.2.0",
            "_model_name": "LayoutModel",
            "_view_count": null,
            "_view_module": "@jupyter-widgets/base",
            "_view_module_version": "1.2.0",
            "_view_name": "LayoutView",
            "align_content": null,
            "align_items": null,
            "align_self": null,
            "border": null,
            "bottom": null,
            "display": null,
            "flex": null,
            "flex_flow": null,
            "grid_area": null,
            "grid_auto_columns": null,
            "grid_auto_flow": null,
            "grid_auto_rows": null,
            "grid_column": null,
            "grid_gap": null,
            "grid_row": null,
            "grid_template_areas": null,
            "grid_template_columns": null,
            "grid_template_rows": null,
            "height": null,
            "justify_content": null,
            "justify_items": null,
            "left": null,
            "margin": null,
            "max_height": null,
            "max_width": null,
            "min_height": null,
            "min_width": null,
            "object_fit": null,
            "object_position": null,
            "order": null,
            "overflow": null,
            "overflow_x": null,
            "overflow_y": null,
            "padding": null,
            "right": null,
            "top": null,
            "visibility": null,
            "width": null
          }
        },
        "3d625fa057b9490f8b53452c2b833be5": {
          "model_module": "@jupyter-widgets/base",
          "model_name": "LayoutModel",
          "model_module_version": "1.2.0",
          "state": {
            "_model_module": "@jupyter-widgets/base",
            "_model_module_version": "1.2.0",
            "_model_name": "LayoutModel",
            "_view_count": null,
            "_view_module": "@jupyter-widgets/base",
            "_view_module_version": "1.2.0",
            "_view_name": "LayoutView",
            "align_content": null,
            "align_items": null,
            "align_self": null,
            "border": null,
            "bottom": null,
            "display": null,
            "flex": null,
            "flex_flow": null,
            "grid_area": null,
            "grid_auto_columns": null,
            "grid_auto_flow": null,
            "grid_auto_rows": null,
            "grid_column": null,
            "grid_gap": null,
            "grid_row": null,
            "grid_template_areas": null,
            "grid_template_columns": null,
            "grid_template_rows": null,
            "height": null,
            "justify_content": null,
            "justify_items": null,
            "left": null,
            "margin": null,
            "max_height": null,
            "max_width": null,
            "min_height": null,
            "min_width": null,
            "object_fit": null,
            "object_position": null,
            "order": null,
            "overflow": null,
            "overflow_x": null,
            "overflow_y": null,
            "padding": null,
            "right": null,
            "top": null,
            "visibility": null,
            "width": null
          }
        },
        "d572b8fa94c74fbca9cd12883681a979": {
          "model_module": "@jupyter-widgets/controls",
          "model_name": "DescriptionStyleModel",
          "model_module_version": "1.5.0",
          "state": {
            "_model_module": "@jupyter-widgets/controls",
            "_model_module_version": "1.5.0",
            "_model_name": "DescriptionStyleModel",
            "_view_count": null,
            "_view_module": "@jupyter-widgets/base",
            "_view_module_version": "1.2.0",
            "_view_name": "StyleView",
            "description_width": ""
          }
        },
        "5ad458df85014544aa33b8be5e4a42fe": {
          "model_module": "@jupyter-widgets/base",
          "model_name": "LayoutModel",
          "model_module_version": "1.2.0",
          "state": {
            "_model_module": "@jupyter-widgets/base",
            "_model_module_version": "1.2.0",
            "_model_name": "LayoutModel",
            "_view_count": null,
            "_view_module": "@jupyter-widgets/base",
            "_view_module_version": "1.2.0",
            "_view_name": "LayoutView",
            "align_content": null,
            "align_items": null,
            "align_self": null,
            "border": null,
            "bottom": null,
            "display": null,
            "flex": null,
            "flex_flow": null,
            "grid_area": null,
            "grid_auto_columns": null,
            "grid_auto_flow": null,
            "grid_auto_rows": null,
            "grid_column": null,
            "grid_gap": null,
            "grid_row": null,
            "grid_template_areas": null,
            "grid_template_columns": null,
            "grid_template_rows": null,
            "height": null,
            "justify_content": null,
            "justify_items": null,
            "left": null,
            "margin": null,
            "max_height": null,
            "max_width": null,
            "min_height": null,
            "min_width": null,
            "object_fit": null,
            "object_position": null,
            "order": null,
            "overflow": null,
            "overflow_x": null,
            "overflow_y": null,
            "padding": null,
            "right": null,
            "top": null,
            "visibility": null,
            "width": null
          }
        },
        "1d5acdc25e7b4ab09d27d184cdb2330f": {
          "model_module": "@jupyter-widgets/controls",
          "model_name": "ProgressStyleModel",
          "model_module_version": "1.5.0",
          "state": {
            "_model_module": "@jupyter-widgets/controls",
            "_model_module_version": "1.5.0",
            "_model_name": "ProgressStyleModel",
            "_view_count": null,
            "_view_module": "@jupyter-widgets/base",
            "_view_module_version": "1.2.0",
            "_view_name": "StyleView",
            "bar_color": null,
            "description_width": ""
          }
        },
        "d24cdf30a1c84b58923b0a0b20f0d27e": {
          "model_module": "@jupyter-widgets/base",
          "model_name": "LayoutModel",
          "model_module_version": "1.2.0",
          "state": {
            "_model_module": "@jupyter-widgets/base",
            "_model_module_version": "1.2.0",
            "_model_name": "LayoutModel",
            "_view_count": null,
            "_view_module": "@jupyter-widgets/base",
            "_view_module_version": "1.2.0",
            "_view_name": "LayoutView",
            "align_content": null,
            "align_items": null,
            "align_self": null,
            "border": null,
            "bottom": null,
            "display": null,
            "flex": null,
            "flex_flow": null,
            "grid_area": null,
            "grid_auto_columns": null,
            "grid_auto_flow": null,
            "grid_auto_rows": null,
            "grid_column": null,
            "grid_gap": null,
            "grid_row": null,
            "grid_template_areas": null,
            "grid_template_columns": null,
            "grid_template_rows": null,
            "height": null,
            "justify_content": null,
            "justify_items": null,
            "left": null,
            "margin": null,
            "max_height": null,
            "max_width": null,
            "min_height": null,
            "min_width": null,
            "object_fit": null,
            "object_position": null,
            "order": null,
            "overflow": null,
            "overflow_x": null,
            "overflow_y": null,
            "padding": null,
            "right": null,
            "top": null,
            "visibility": null,
            "width": null
          }
        },
        "20f1b65ca4e649149248464cb52a36b6": {
          "model_module": "@jupyter-widgets/controls",
          "model_name": "DescriptionStyleModel",
          "model_module_version": "1.5.0",
          "state": {
            "_model_module": "@jupyter-widgets/controls",
            "_model_module_version": "1.5.0",
            "_model_name": "DescriptionStyleModel",
            "_view_count": null,
            "_view_module": "@jupyter-widgets/base",
            "_view_module_version": "1.2.0",
            "_view_name": "StyleView",
            "description_width": ""
          }
        },
        "1508c1fe85c143f1ac3758c9ecbb1355": {
          "model_module": "@jupyter-widgets/controls",
          "model_name": "HBoxModel",
          "model_module_version": "1.5.0",
          "state": {
            "_dom_classes": [],
            "_model_module": "@jupyter-widgets/controls",
            "_model_module_version": "1.5.0",
            "_model_name": "HBoxModel",
            "_view_count": null,
            "_view_module": "@jupyter-widgets/controls",
            "_view_module_version": "1.5.0",
            "_view_name": "HBoxView",
            "box_style": "",
            "children": [
              "IPY_MODEL_cc3bfcf7f55d485cbfa63ac7814c3885",
              "IPY_MODEL_3bf51a94c01248da9ecb93f9f4e2ac1e",
              "IPY_MODEL_c3f21aa5545341528bc502b52ed66dfe"
            ],
            "layout": "IPY_MODEL_508337631be04512b1c38db584594d57"
          }
        },
        "cc3bfcf7f55d485cbfa63ac7814c3885": {
          "model_module": "@jupyter-widgets/controls",
          "model_name": "HTMLModel",
          "model_module_version": "1.5.0",
          "state": {
            "_dom_classes": [],
            "_model_module": "@jupyter-widgets/controls",
            "_model_module_version": "1.5.0",
            "_model_name": "HTMLModel",
            "_view_count": null,
            "_view_module": "@jupyter-widgets/controls",
            "_view_module_version": "1.5.0",
            "_view_name": "HTMLView",
            "description": "",
            "description_tooltip": null,
            "layout": "IPY_MODEL_a38697d6e3174f969a74328f3284c83e",
            "placeholder": "​",
            "style": "IPY_MODEL_51e0a4b5db884a6fb2b730a3ad11210c",
            "value": "model.safetensors: 100%"
          }
        },
        "3bf51a94c01248da9ecb93f9f4e2ac1e": {
          "model_module": "@jupyter-widgets/controls",
          "model_name": "FloatProgressModel",
          "model_module_version": "1.5.0",
          "state": {
            "_dom_classes": [],
            "_model_module": "@jupyter-widgets/controls",
            "_model_module_version": "1.5.0",
            "_model_name": "FloatProgressModel",
            "_view_count": null,
            "_view_module": "@jupyter-widgets/controls",
            "_view_module_version": "1.5.0",
            "_view_name": "ProgressView",
            "bar_style": "success",
            "description": "",
            "description_tooltip": null,
            "layout": "IPY_MODEL_4a1bc2ebe93f49a392f330dff91cfb17",
            "max": 548105171,
            "min": 0,
            "orientation": "horizontal",
            "style": "IPY_MODEL_c7de3d03b0e749e1bd7ad58ea7f7b8d1",
            "value": 548105171
          }
        },
        "c3f21aa5545341528bc502b52ed66dfe": {
          "model_module": "@jupyter-widgets/controls",
          "model_name": "HTMLModel",
          "model_module_version": "1.5.0",
          "state": {
            "_dom_classes": [],
            "_model_module": "@jupyter-widgets/controls",
            "_model_module_version": "1.5.0",
            "_model_name": "HTMLModel",
            "_view_count": null,
            "_view_module": "@jupyter-widgets/controls",
            "_view_module_version": "1.5.0",
            "_view_name": "HTMLView",
            "description": "",
            "description_tooltip": null,
            "layout": "IPY_MODEL_a59fd48b9035430c9d036cd0b1c83613",
            "placeholder": "​",
            "style": "IPY_MODEL_4aa2d260b7854685bbb64d99b7753bcc",
            "value": " 548M/548M [00:03&lt;00:00, 169MB/s]"
          }
        },
        "508337631be04512b1c38db584594d57": {
          "model_module": "@jupyter-widgets/base",
          "model_name": "LayoutModel",
          "model_module_version": "1.2.0",
          "state": {
            "_model_module": "@jupyter-widgets/base",
            "_model_module_version": "1.2.0",
            "_model_name": "LayoutModel",
            "_view_count": null,
            "_view_module": "@jupyter-widgets/base",
            "_view_module_version": "1.2.0",
            "_view_name": "LayoutView",
            "align_content": null,
            "align_items": null,
            "align_self": null,
            "border": null,
            "bottom": null,
            "display": null,
            "flex": null,
            "flex_flow": null,
            "grid_area": null,
            "grid_auto_columns": null,
            "grid_auto_flow": null,
            "grid_auto_rows": null,
            "grid_column": null,
            "grid_gap": null,
            "grid_row": null,
            "grid_template_areas": null,
            "grid_template_columns": null,
            "grid_template_rows": null,
            "height": null,
            "justify_content": null,
            "justify_items": null,
            "left": null,
            "margin": null,
            "max_height": null,
            "max_width": null,
            "min_height": null,
            "min_width": null,
            "object_fit": null,
            "object_position": null,
            "order": null,
            "overflow": null,
            "overflow_x": null,
            "overflow_y": null,
            "padding": null,
            "right": null,
            "top": null,
            "visibility": null,
            "width": null
          }
        },
        "a38697d6e3174f969a74328f3284c83e": {
          "model_module": "@jupyter-widgets/base",
          "model_name": "LayoutModel",
          "model_module_version": "1.2.0",
          "state": {
            "_model_module": "@jupyter-widgets/base",
            "_model_module_version": "1.2.0",
            "_model_name": "LayoutModel",
            "_view_count": null,
            "_view_module": "@jupyter-widgets/base",
            "_view_module_version": "1.2.0",
            "_view_name": "LayoutView",
            "align_content": null,
            "align_items": null,
            "align_self": null,
            "border": null,
            "bottom": null,
            "display": null,
            "flex": null,
            "flex_flow": null,
            "grid_area": null,
            "grid_auto_columns": null,
            "grid_auto_flow": null,
            "grid_auto_rows": null,
            "grid_column": null,
            "grid_gap": null,
            "grid_row": null,
            "grid_template_areas": null,
            "grid_template_columns": null,
            "grid_template_rows": null,
            "height": null,
            "justify_content": null,
            "justify_items": null,
            "left": null,
            "margin": null,
            "max_height": null,
            "max_width": null,
            "min_height": null,
            "min_width": null,
            "object_fit": null,
            "object_position": null,
            "order": null,
            "overflow": null,
            "overflow_x": null,
            "overflow_y": null,
            "padding": null,
            "right": null,
            "top": null,
            "visibility": null,
            "width": null
          }
        },
        "51e0a4b5db884a6fb2b730a3ad11210c": {
          "model_module": "@jupyter-widgets/controls",
          "model_name": "DescriptionStyleModel",
          "model_module_version": "1.5.0",
          "state": {
            "_model_module": "@jupyter-widgets/controls",
            "_model_module_version": "1.5.0",
            "_model_name": "DescriptionStyleModel",
            "_view_count": null,
            "_view_module": "@jupyter-widgets/base",
            "_view_module_version": "1.2.0",
            "_view_name": "StyleView",
            "description_width": ""
          }
        },
        "4a1bc2ebe93f49a392f330dff91cfb17": {
          "model_module": "@jupyter-widgets/base",
          "model_name": "LayoutModel",
          "model_module_version": "1.2.0",
          "state": {
            "_model_module": "@jupyter-widgets/base",
            "_model_module_version": "1.2.0",
            "_model_name": "LayoutModel",
            "_view_count": null,
            "_view_module": "@jupyter-widgets/base",
            "_view_module_version": "1.2.0",
            "_view_name": "LayoutView",
            "align_content": null,
            "align_items": null,
            "align_self": null,
            "border": null,
            "bottom": null,
            "display": null,
            "flex": null,
            "flex_flow": null,
            "grid_area": null,
            "grid_auto_columns": null,
            "grid_auto_flow": null,
            "grid_auto_rows": null,
            "grid_column": null,
            "grid_gap": null,
            "grid_row": null,
            "grid_template_areas": null,
            "grid_template_columns": null,
            "grid_template_rows": null,
            "height": null,
            "justify_content": null,
            "justify_items": null,
            "left": null,
            "margin": null,
            "max_height": null,
            "max_width": null,
            "min_height": null,
            "min_width": null,
            "object_fit": null,
            "object_position": null,
            "order": null,
            "overflow": null,
            "overflow_x": null,
            "overflow_y": null,
            "padding": null,
            "right": null,
            "top": null,
            "visibility": null,
            "width": null
          }
        },
        "c7de3d03b0e749e1bd7ad58ea7f7b8d1": {
          "model_module": "@jupyter-widgets/controls",
          "model_name": "ProgressStyleModel",
          "model_module_version": "1.5.0",
          "state": {
            "_model_module": "@jupyter-widgets/controls",
            "_model_module_version": "1.5.0",
            "_model_name": "ProgressStyleModel",
            "_view_count": null,
            "_view_module": "@jupyter-widgets/base",
            "_view_module_version": "1.2.0",
            "_view_name": "StyleView",
            "bar_color": null,
            "description_width": ""
          }
        },
        "a59fd48b9035430c9d036cd0b1c83613": {
          "model_module": "@jupyter-widgets/base",
          "model_name": "LayoutModel",
          "model_module_version": "1.2.0",
          "state": {
            "_model_module": "@jupyter-widgets/base",
            "_model_module_version": "1.2.0",
            "_model_name": "LayoutModel",
            "_view_count": null,
            "_view_module": "@jupyter-widgets/base",
            "_view_module_version": "1.2.0",
            "_view_name": "LayoutView",
            "align_content": null,
            "align_items": null,
            "align_self": null,
            "border": null,
            "bottom": null,
            "display": null,
            "flex": null,
            "flex_flow": null,
            "grid_area": null,
            "grid_auto_columns": null,
            "grid_auto_flow": null,
            "grid_auto_rows": null,
            "grid_column": null,
            "grid_gap": null,
            "grid_row": null,
            "grid_template_areas": null,
            "grid_template_columns": null,
            "grid_template_rows": null,
            "height": null,
            "justify_content": null,
            "justify_items": null,
            "left": null,
            "margin": null,
            "max_height": null,
            "max_width": null,
            "min_height": null,
            "min_width": null,
            "object_fit": null,
            "object_position": null,
            "order": null,
            "overflow": null,
            "overflow_x": null,
            "overflow_y": null,
            "padding": null,
            "right": null,
            "top": null,
            "visibility": null,
            "width": null
          }
        },
        "4aa2d260b7854685bbb64d99b7753bcc": {
          "model_module": "@jupyter-widgets/controls",
          "model_name": "DescriptionStyleModel",
          "model_module_version": "1.5.0",
          "state": {
            "_model_module": "@jupyter-widgets/controls",
            "_model_module_version": "1.5.0",
            "_model_name": "DescriptionStyleModel",
            "_view_count": null,
            "_view_module": "@jupyter-widgets/base",
            "_view_module_version": "1.2.0",
            "_view_name": "StyleView",
            "description_width": ""
          }
        },
        "073e639ef34049d8bd08325a128d5899": {
          "model_module": "@jupyter-widgets/controls",
          "model_name": "HBoxModel",
          "model_module_version": "1.5.0",
          "state": {
            "_dom_classes": [],
            "_model_module": "@jupyter-widgets/controls",
            "_model_module_version": "1.5.0",
            "_model_name": "HBoxModel",
            "_view_count": null,
            "_view_module": "@jupyter-widgets/controls",
            "_view_module_version": "1.5.0",
            "_view_name": "HBoxView",
            "box_style": "",
            "children": [
              "IPY_MODEL_2ca5d1bb1c194eaba8728e9256c31bb7",
              "IPY_MODEL_f02a73c7a7e74d668b83b7d0c1c173c4",
              "IPY_MODEL_0791cda1f47c4be6b060adb9ad53c8af"
            ],
            "layout": "IPY_MODEL_4cd210b11b5f4360b1cc43f70d62c39f"
          }
        },
        "2ca5d1bb1c194eaba8728e9256c31bb7": {
          "model_module": "@jupyter-widgets/controls",
          "model_name": "HTMLModel",
          "model_module_version": "1.5.0",
          "state": {
            "_dom_classes": [],
            "_model_module": "@jupyter-widgets/controls",
            "_model_module_version": "1.5.0",
            "_model_name": "HTMLModel",
            "_view_count": null,
            "_view_module": "@jupyter-widgets/controls",
            "_view_module_version": "1.5.0",
            "_view_name": "HTMLView",
            "description": "",
            "description_tooltip": null,
            "layout": "IPY_MODEL_8d9560ecfcee423c8bf6d0dadfc767c7",
            "placeholder": "​",
            "style": "IPY_MODEL_a2109a40a76b4bb580900ef0ff371ca6",
            "value": "generation_config.json: 100%"
          }
        },
        "f02a73c7a7e74d668b83b7d0c1c173c4": {
          "model_module": "@jupyter-widgets/controls",
          "model_name": "FloatProgressModel",
          "model_module_version": "1.5.0",
          "state": {
            "_dom_classes": [],
            "_model_module": "@jupyter-widgets/controls",
            "_model_module_version": "1.5.0",
            "_model_name": "FloatProgressModel",
            "_view_count": null,
            "_view_module": "@jupyter-widgets/controls",
            "_view_module_version": "1.5.0",
            "_view_name": "ProgressView",
            "bar_style": "success",
            "description": "",
            "description_tooltip": null,
            "layout": "IPY_MODEL_0bf54e7a32b74ee28ebb0a73e0048e8a",
            "max": 124,
            "min": 0,
            "orientation": "horizontal",
            "style": "IPY_MODEL_5faa15397e054cb1981ae53cc744db4c",
            "value": 124
          }
        },
        "0791cda1f47c4be6b060adb9ad53c8af": {
          "model_module": "@jupyter-widgets/controls",
          "model_name": "HTMLModel",
          "model_module_version": "1.5.0",
          "state": {
            "_dom_classes": [],
            "_model_module": "@jupyter-widgets/controls",
            "_model_module_version": "1.5.0",
            "_model_name": "HTMLModel",
            "_view_count": null,
            "_view_module": "@jupyter-widgets/controls",
            "_view_module_version": "1.5.0",
            "_view_name": "HTMLView",
            "description": "",
            "description_tooltip": null,
            "layout": "IPY_MODEL_244d8c1db2e74d58bd16c466004e0af4",
            "placeholder": "​",
            "style": "IPY_MODEL_e0462ac41bf149b292fea474589e729d",
            "value": " 124/124 [00:00&lt;00:00, 3.84kB/s]"
          }
        },
        "4cd210b11b5f4360b1cc43f70d62c39f": {
          "model_module": "@jupyter-widgets/base",
          "model_name": "LayoutModel",
          "model_module_version": "1.2.0",
          "state": {
            "_model_module": "@jupyter-widgets/base",
            "_model_module_version": "1.2.0",
            "_model_name": "LayoutModel",
            "_view_count": null,
            "_view_module": "@jupyter-widgets/base",
            "_view_module_version": "1.2.0",
            "_view_name": "LayoutView",
            "align_content": null,
            "align_items": null,
            "align_self": null,
            "border": null,
            "bottom": null,
            "display": null,
            "flex": null,
            "flex_flow": null,
            "grid_area": null,
            "grid_auto_columns": null,
            "grid_auto_flow": null,
            "grid_auto_rows": null,
            "grid_column": null,
            "grid_gap": null,
            "grid_row": null,
            "grid_template_areas": null,
            "grid_template_columns": null,
            "grid_template_rows": null,
            "height": null,
            "justify_content": null,
            "justify_items": null,
            "left": null,
            "margin": null,
            "max_height": null,
            "max_width": null,
            "min_height": null,
            "min_width": null,
            "object_fit": null,
            "object_position": null,
            "order": null,
            "overflow": null,
            "overflow_x": null,
            "overflow_y": null,
            "padding": null,
            "right": null,
            "top": null,
            "visibility": null,
            "width": null
          }
        },
        "8d9560ecfcee423c8bf6d0dadfc767c7": {
          "model_module": "@jupyter-widgets/base",
          "model_name": "LayoutModel",
          "model_module_version": "1.2.0",
          "state": {
            "_model_module": "@jupyter-widgets/base",
            "_model_module_version": "1.2.0",
            "_model_name": "LayoutModel",
            "_view_count": null,
            "_view_module": "@jupyter-widgets/base",
            "_view_module_version": "1.2.0",
            "_view_name": "LayoutView",
            "align_content": null,
            "align_items": null,
            "align_self": null,
            "border": null,
            "bottom": null,
            "display": null,
            "flex": null,
            "flex_flow": null,
            "grid_area": null,
            "grid_auto_columns": null,
            "grid_auto_flow": null,
            "grid_auto_rows": null,
            "grid_column": null,
            "grid_gap": null,
            "grid_row": null,
            "grid_template_areas": null,
            "grid_template_columns": null,
            "grid_template_rows": null,
            "height": null,
            "justify_content": null,
            "justify_items": null,
            "left": null,
            "margin": null,
            "max_height": null,
            "max_width": null,
            "min_height": null,
            "min_width": null,
            "object_fit": null,
            "object_position": null,
            "order": null,
            "overflow": null,
            "overflow_x": null,
            "overflow_y": null,
            "padding": null,
            "right": null,
            "top": null,
            "visibility": null,
            "width": null
          }
        },
        "a2109a40a76b4bb580900ef0ff371ca6": {
          "model_module": "@jupyter-widgets/controls",
          "model_name": "DescriptionStyleModel",
          "model_module_version": "1.5.0",
          "state": {
            "_model_module": "@jupyter-widgets/controls",
            "_model_module_version": "1.5.0",
            "_model_name": "DescriptionStyleModel",
            "_view_count": null,
            "_view_module": "@jupyter-widgets/base",
            "_view_module_version": "1.2.0",
            "_view_name": "StyleView",
            "description_width": ""
          }
        },
        "0bf54e7a32b74ee28ebb0a73e0048e8a": {
          "model_module": "@jupyter-widgets/base",
          "model_name": "LayoutModel",
          "model_module_version": "1.2.0",
          "state": {
            "_model_module": "@jupyter-widgets/base",
            "_model_module_version": "1.2.0",
            "_model_name": "LayoutModel",
            "_view_count": null,
            "_view_module": "@jupyter-widgets/base",
            "_view_module_version": "1.2.0",
            "_view_name": "LayoutView",
            "align_content": null,
            "align_items": null,
            "align_self": null,
            "border": null,
            "bottom": null,
            "display": null,
            "flex": null,
            "flex_flow": null,
            "grid_area": null,
            "grid_auto_columns": null,
            "grid_auto_flow": null,
            "grid_auto_rows": null,
            "grid_column": null,
            "grid_gap": null,
            "grid_row": null,
            "grid_template_areas": null,
            "grid_template_columns": null,
            "grid_template_rows": null,
            "height": null,
            "justify_content": null,
            "justify_items": null,
            "left": null,
            "margin": null,
            "max_height": null,
            "max_width": null,
            "min_height": null,
            "min_width": null,
            "object_fit": null,
            "object_position": null,
            "order": null,
            "overflow": null,
            "overflow_x": null,
            "overflow_y": null,
            "padding": null,
            "right": null,
            "top": null,
            "visibility": null,
            "width": null
          }
        },
        "5faa15397e054cb1981ae53cc744db4c": {
          "model_module": "@jupyter-widgets/controls",
          "model_name": "ProgressStyleModel",
          "model_module_version": "1.5.0",
          "state": {
            "_model_module": "@jupyter-widgets/controls",
            "_model_module_version": "1.5.0",
            "_model_name": "ProgressStyleModel",
            "_view_count": null,
            "_view_module": "@jupyter-widgets/base",
            "_view_module_version": "1.2.0",
            "_view_name": "StyleView",
            "bar_color": null,
            "description_width": ""
          }
        },
        "244d8c1db2e74d58bd16c466004e0af4": {
          "model_module": "@jupyter-widgets/base",
          "model_name": "LayoutModel",
          "model_module_version": "1.2.0",
          "state": {
            "_model_module": "@jupyter-widgets/base",
            "_model_module_version": "1.2.0",
            "_model_name": "LayoutModel",
            "_view_count": null,
            "_view_module": "@jupyter-widgets/base",
            "_view_module_version": "1.2.0",
            "_view_name": "LayoutView",
            "align_content": null,
            "align_items": null,
            "align_self": null,
            "border": null,
            "bottom": null,
            "display": null,
            "flex": null,
            "flex_flow": null,
            "grid_area": null,
            "grid_auto_columns": null,
            "grid_auto_flow": null,
            "grid_auto_rows": null,
            "grid_column": null,
            "grid_gap": null,
            "grid_row": null,
            "grid_template_areas": null,
            "grid_template_columns": null,
            "grid_template_rows": null,
            "height": null,
            "justify_content": null,
            "justify_items": null,
            "left": null,
            "margin": null,
            "max_height": null,
            "max_width": null,
            "min_height": null,
            "min_width": null,
            "object_fit": null,
            "object_position": null,
            "order": null,
            "overflow": null,
            "overflow_x": null,
            "overflow_y": null,
            "padding": null,
            "right": null,
            "top": null,
            "visibility": null,
            "width": null
          }
        },
        "e0462ac41bf149b292fea474589e729d": {
          "model_module": "@jupyter-widgets/controls",
          "model_name": "DescriptionStyleModel",
          "model_module_version": "1.5.0",
          "state": {
            "_model_module": "@jupyter-widgets/controls",
            "_model_module_version": "1.5.0",
            "_model_name": "DescriptionStyleModel",
            "_view_count": null,
            "_view_module": "@jupyter-widgets/base",
            "_view_module_version": "1.2.0",
            "_view_name": "StyleView",
            "description_width": ""
          }
        },
        "fb010aaec0be4223b8d75271bc049358": {
          "model_module": "@jupyter-widgets/controls",
          "model_name": "HBoxModel",
          "model_module_version": "1.5.0",
          "state": {
            "_dom_classes": [],
            "_model_module": "@jupyter-widgets/controls",
            "_model_module_version": "1.5.0",
            "_model_name": "HBoxModel",
            "_view_count": null,
            "_view_module": "@jupyter-widgets/controls",
            "_view_module_version": "1.5.0",
            "_view_name": "HBoxView",
            "box_style": "",
            "children": [
              "IPY_MODEL_d5470f4c0a654dd8a7f12b890b46a556",
              "IPY_MODEL_c77827abea4147bcb2de6f6ade7733af",
              "IPY_MODEL_95aa20a89e86406c8440787b8c3b70f0"
            ],
            "layout": "IPY_MODEL_b299505d291f4be9ab1b231b51d3583c"
          }
        },
        "d5470f4c0a654dd8a7f12b890b46a556": {
          "model_module": "@jupyter-widgets/controls",
          "model_name": "HTMLModel",
          "model_module_version": "1.5.0",
          "state": {
            "_dom_classes": [],
            "_model_module": "@jupyter-widgets/controls",
            "_model_module_version": "1.5.0",
            "_model_name": "HTMLModel",
            "_view_count": null,
            "_view_module": "@jupyter-widgets/controls",
            "_view_module_version": "1.5.0",
            "_view_name": "HTMLView",
            "description": "",
            "description_tooltip": null,
            "layout": "IPY_MODEL_8161172d138049b98ecf2b4ed6a81f72",
            "placeholder": "​",
            "style": "IPY_MODEL_09ea6f5f9e904896a986b5a3de33b21f",
            "value": "Map: 100%"
          }
        },
        "c77827abea4147bcb2de6f6ade7733af": {
          "model_module": "@jupyter-widgets/controls",
          "model_name": "FloatProgressModel",
          "model_module_version": "1.5.0",
          "state": {
            "_dom_classes": [],
            "_model_module": "@jupyter-widgets/controls",
            "_model_module_version": "1.5.0",
            "_model_name": "FloatProgressModel",
            "_view_count": null,
            "_view_module": "@jupyter-widgets/controls",
            "_view_module_version": "1.5.0",
            "_view_name": "ProgressView",
            "bar_style": "success",
            "description": "",
            "description_tooltip": null,
            "layout": "IPY_MODEL_c79e0289542e4c71befff6d7e800dc94",
            "max": 94,
            "min": 0,
            "orientation": "horizontal",
            "style": "IPY_MODEL_c433869b2ec94287b0dacbd737c5343e",
            "value": 94
          }
        },
        "95aa20a89e86406c8440787b8c3b70f0": {
          "model_module": "@jupyter-widgets/controls",
          "model_name": "HTMLModel",
          "model_module_version": "1.5.0",
          "state": {
            "_dom_classes": [],
            "_model_module": "@jupyter-widgets/controls",
            "_model_module_version": "1.5.0",
            "_model_name": "HTMLModel",
            "_view_count": null,
            "_view_module": "@jupyter-widgets/controls",
            "_view_module_version": "1.5.0",
            "_view_name": "HTMLView",
            "description": "",
            "description_tooltip": null,
            "layout": "IPY_MODEL_d5834ae905294c7ebc46ebca2b76785b",
            "placeholder": "​",
            "style": "IPY_MODEL_73e249accb09400482f906b2d19df699",
            "value": " 94/94 [00:00&lt;00:00, 1230.37 examples/s]"
          }
        },
        "b299505d291f4be9ab1b231b51d3583c": {
          "model_module": "@jupyter-widgets/base",
          "model_name": "LayoutModel",
          "model_module_version": "1.2.0",
          "state": {
            "_model_module": "@jupyter-widgets/base",
            "_model_module_version": "1.2.0",
            "_model_name": "LayoutModel",
            "_view_count": null,
            "_view_module": "@jupyter-widgets/base",
            "_view_module_version": "1.2.0",
            "_view_name": "LayoutView",
            "align_content": null,
            "align_items": null,
            "align_self": null,
            "border": null,
            "bottom": null,
            "display": null,
            "flex": null,
            "flex_flow": null,
            "grid_area": null,
            "grid_auto_columns": null,
            "grid_auto_flow": null,
            "grid_auto_rows": null,
            "grid_column": null,
            "grid_gap": null,
            "grid_row": null,
            "grid_template_areas": null,
            "grid_template_columns": null,
            "grid_template_rows": null,
            "height": null,
            "justify_content": null,
            "justify_items": null,
            "left": null,
            "margin": null,
            "max_height": null,
            "max_width": null,
            "min_height": null,
            "min_width": null,
            "object_fit": null,
            "object_position": null,
            "order": null,
            "overflow": null,
            "overflow_x": null,
            "overflow_y": null,
            "padding": null,
            "right": null,
            "top": null,
            "visibility": null,
            "width": null
          }
        },
        "8161172d138049b98ecf2b4ed6a81f72": {
          "model_module": "@jupyter-widgets/base",
          "model_name": "LayoutModel",
          "model_module_version": "1.2.0",
          "state": {
            "_model_module": "@jupyter-widgets/base",
            "_model_module_version": "1.2.0",
            "_model_name": "LayoutModel",
            "_view_count": null,
            "_view_module": "@jupyter-widgets/base",
            "_view_module_version": "1.2.0",
            "_view_name": "LayoutView",
            "align_content": null,
            "align_items": null,
            "align_self": null,
            "border": null,
            "bottom": null,
            "display": null,
            "flex": null,
            "flex_flow": null,
            "grid_area": null,
            "grid_auto_columns": null,
            "grid_auto_flow": null,
            "grid_auto_rows": null,
            "grid_column": null,
            "grid_gap": null,
            "grid_row": null,
            "grid_template_areas": null,
            "grid_template_columns": null,
            "grid_template_rows": null,
            "height": null,
            "justify_content": null,
            "justify_items": null,
            "left": null,
            "margin": null,
            "max_height": null,
            "max_width": null,
            "min_height": null,
            "min_width": null,
            "object_fit": null,
            "object_position": null,
            "order": null,
            "overflow": null,
            "overflow_x": null,
            "overflow_y": null,
            "padding": null,
            "right": null,
            "top": null,
            "visibility": null,
            "width": null
          }
        },
        "09ea6f5f9e904896a986b5a3de33b21f": {
          "model_module": "@jupyter-widgets/controls",
          "model_name": "DescriptionStyleModel",
          "model_module_version": "1.5.0",
          "state": {
            "_model_module": "@jupyter-widgets/controls",
            "_model_module_version": "1.5.0",
            "_model_name": "DescriptionStyleModel",
            "_view_count": null,
            "_view_module": "@jupyter-widgets/base",
            "_view_module_version": "1.2.0",
            "_view_name": "StyleView",
            "description_width": ""
          }
        },
        "c79e0289542e4c71befff6d7e800dc94": {
          "model_module": "@jupyter-widgets/base",
          "model_name": "LayoutModel",
          "model_module_version": "1.2.0",
          "state": {
            "_model_module": "@jupyter-widgets/base",
            "_model_module_version": "1.2.0",
            "_model_name": "LayoutModel",
            "_view_count": null,
            "_view_module": "@jupyter-widgets/base",
            "_view_module_version": "1.2.0",
            "_view_name": "LayoutView",
            "align_content": null,
            "align_items": null,
            "align_self": null,
            "border": null,
            "bottom": null,
            "display": null,
            "flex": null,
            "flex_flow": null,
            "grid_area": null,
            "grid_auto_columns": null,
            "grid_auto_flow": null,
            "grid_auto_rows": null,
            "grid_column": null,
            "grid_gap": null,
            "grid_row": null,
            "grid_template_areas": null,
            "grid_template_columns": null,
            "grid_template_rows": null,
            "height": null,
            "justify_content": null,
            "justify_items": null,
            "left": null,
            "margin": null,
            "max_height": null,
            "max_width": null,
            "min_height": null,
            "min_width": null,
            "object_fit": null,
            "object_position": null,
            "order": null,
            "overflow": null,
            "overflow_x": null,
            "overflow_y": null,
            "padding": null,
            "right": null,
            "top": null,
            "visibility": null,
            "width": null
          }
        },
        "c433869b2ec94287b0dacbd737c5343e": {
          "model_module": "@jupyter-widgets/controls",
          "model_name": "ProgressStyleModel",
          "model_module_version": "1.5.0",
          "state": {
            "_model_module": "@jupyter-widgets/controls",
            "_model_module_version": "1.5.0",
            "_model_name": "ProgressStyleModel",
            "_view_count": null,
            "_view_module": "@jupyter-widgets/base",
            "_view_module_version": "1.2.0",
            "_view_name": "StyleView",
            "bar_color": null,
            "description_width": ""
          }
        },
        "d5834ae905294c7ebc46ebca2b76785b": {
          "model_module": "@jupyter-widgets/base",
          "model_name": "LayoutModel",
          "model_module_version": "1.2.0",
          "state": {
            "_model_module": "@jupyter-widgets/base",
            "_model_module_version": "1.2.0",
            "_model_name": "LayoutModel",
            "_view_count": null,
            "_view_module": "@jupyter-widgets/base",
            "_view_module_version": "1.2.0",
            "_view_name": "LayoutView",
            "align_content": null,
            "align_items": null,
            "align_self": null,
            "border": null,
            "bottom": null,
            "display": null,
            "flex": null,
            "flex_flow": null,
            "grid_area": null,
            "grid_auto_columns": null,
            "grid_auto_flow": null,
            "grid_auto_rows": null,
            "grid_column": null,
            "grid_gap": null,
            "grid_row": null,
            "grid_template_areas": null,
            "grid_template_columns": null,
            "grid_template_rows": null,
            "height": null,
            "justify_content": null,
            "justify_items": null,
            "left": null,
            "margin": null,
            "max_height": null,
            "max_width": null,
            "min_height": null,
            "min_width": null,
            "object_fit": null,
            "object_position": null,
            "order": null,
            "overflow": null,
            "overflow_x": null,
            "overflow_y": null,
            "padding": null,
            "right": null,
            "top": null,
            "visibility": null,
            "width": null
          }
        },
        "73e249accb09400482f906b2d19df699": {
          "model_module": "@jupyter-widgets/controls",
          "model_name": "DescriptionStyleModel",
          "model_module_version": "1.5.0",
          "state": {
            "_model_module": "@jupyter-widgets/controls",
            "_model_module_version": "1.5.0",
            "_model_name": "DescriptionStyleModel",
            "_view_count": null,
            "_view_module": "@jupyter-widgets/base",
            "_view_module_version": "1.2.0",
            "_view_name": "StyleView",
            "description_width": ""
          }
        }
      }
    }
  },
  "cells": [
    {
      "cell_type": "code",
      "source": [
        "!pip install -U transformers # Hugging face transformer\n",
        "!pip install -U accelerate # GPU Accelerate\n",
        "!pip install -U datasets # Hugging face dataset\n",
        "!pip install evaluate # Model evaulation\n",
        "!pip install bertviz # Bert Visualizer\n",
        "!pip install PyPDF2  # PDF parsing"
      ],
      "metadata": {
        "id": "8x38njADL8dx",
        "colab": {
          "base_uri": "https://localhost:8080/"
        },
        "outputId": "b1d3a680-b117-454d-97f9-1b314d811008"
      },
      "execution_count": 1,
      "outputs": [
        {
          "output_type": "stream",
          "name": "stdout",
          "text": [
            "Requirement already satisfied: transformers in /usr/local/lib/python3.10/dist-packages (4.38.2)\n",
            "Requirement already satisfied: filelock in /usr/local/lib/python3.10/dist-packages (from transformers) (3.13.1)\n",
            "Requirement already satisfied: huggingface-hub<1.0,>=0.19.3 in /usr/local/lib/python3.10/dist-packages (from transformers) (0.20.3)\n",
            "Requirement already satisfied: numpy>=1.17 in /usr/local/lib/python3.10/dist-packages (from transformers) (1.25.2)\n",
            "Requirement already satisfied: packaging>=20.0 in /usr/local/lib/python3.10/dist-packages (from transformers) (24.0)\n",
            "Requirement already satisfied: pyyaml>=5.1 in /usr/local/lib/python3.10/dist-packages (from transformers) (6.0.1)\n",
            "Requirement already satisfied: regex!=2019.12.17 in /usr/local/lib/python3.10/dist-packages (from transformers) (2023.12.25)\n",
            "Requirement already satisfied: requests in /usr/local/lib/python3.10/dist-packages (from transformers) (2.31.0)\n",
            "Requirement already satisfied: tokenizers<0.19,>=0.14 in /usr/local/lib/python3.10/dist-packages (from transformers) (0.15.2)\n",
            "Requirement already satisfied: safetensors>=0.4.1 in /usr/local/lib/python3.10/dist-packages (from transformers) (0.4.2)\n",
            "Requirement already satisfied: tqdm>=4.27 in /usr/local/lib/python3.10/dist-packages (from transformers) (4.66.2)\n",
            "Requirement already satisfied: fsspec>=2023.5.0 in /usr/local/lib/python3.10/dist-packages (from huggingface-hub<1.0,>=0.19.3->transformers) (2023.6.0)\n",
            "Requirement already satisfied: typing-extensions>=3.7.4.3 in /usr/local/lib/python3.10/dist-packages (from huggingface-hub<1.0,>=0.19.3->transformers) (4.10.0)\n",
            "Requirement already satisfied: charset-normalizer<4,>=2 in /usr/local/lib/python3.10/dist-packages (from requests->transformers) (3.3.2)\n",
            "Requirement already satisfied: idna<4,>=2.5 in /usr/local/lib/python3.10/dist-packages (from requests->transformers) (3.6)\n",
            "Requirement already satisfied: urllib3<3,>=1.21.1 in /usr/local/lib/python3.10/dist-packages (from requests->transformers) (2.0.7)\n",
            "Requirement already satisfied: certifi>=2017.4.17 in /usr/local/lib/python3.10/dist-packages (from requests->transformers) (2024.2.2)\n",
            "Collecting accelerate\n",
            "  Downloading accelerate-0.28.0-py3-none-any.whl (290 kB)\n",
            "\u001b[2K     \u001b[90m━━━━━━━━━━━━━━━━━━━━━━━━━━━━━━━━━━━━━━━━\u001b[0m \u001b[32m290.1/290.1 kB\u001b[0m \u001b[31m6.4 MB/s\u001b[0m eta \u001b[36m0:00:00\u001b[0m\n",
            "\u001b[?25hRequirement already satisfied: numpy>=1.17 in /usr/local/lib/python3.10/dist-packages (from accelerate) (1.25.2)\n",
            "Requirement already satisfied: packaging>=20.0 in /usr/local/lib/python3.10/dist-packages (from accelerate) (24.0)\n",
            "Requirement already satisfied: psutil in /usr/local/lib/python3.10/dist-packages (from accelerate) (5.9.5)\n",
            "Requirement already satisfied: pyyaml in /usr/local/lib/python3.10/dist-packages (from accelerate) (6.0.1)\n",
            "Requirement already satisfied: torch>=1.10.0 in /usr/local/lib/python3.10/dist-packages (from accelerate) (2.2.1+cu121)\n",
            "Requirement already satisfied: huggingface-hub in /usr/local/lib/python3.10/dist-packages (from accelerate) (0.20.3)\n",
            "Requirement already satisfied: safetensors>=0.3.1 in /usr/local/lib/python3.10/dist-packages (from accelerate) (0.4.2)\n",
            "Requirement already satisfied: filelock in /usr/local/lib/python3.10/dist-packages (from torch>=1.10.0->accelerate) (3.13.1)\n",
            "Requirement already satisfied: typing-extensions>=4.8.0 in /usr/local/lib/python3.10/dist-packages (from torch>=1.10.0->accelerate) (4.10.0)\n",
            "Requirement already satisfied: sympy in /usr/local/lib/python3.10/dist-packages (from torch>=1.10.0->accelerate) (1.12)\n",
            "Requirement already satisfied: networkx in /usr/local/lib/python3.10/dist-packages (from torch>=1.10.0->accelerate) (3.2.1)\n",
            "Requirement already satisfied: jinja2 in /usr/local/lib/python3.10/dist-packages (from torch>=1.10.0->accelerate) (3.1.3)\n",
            "Requirement already satisfied: fsspec in /usr/local/lib/python3.10/dist-packages (from torch>=1.10.0->accelerate) (2023.6.0)\n",
            "Collecting nvidia-cuda-nvrtc-cu12==12.1.105 (from torch>=1.10.0->accelerate)\n",
            "  Downloading nvidia_cuda_nvrtc_cu12-12.1.105-py3-none-manylinux1_x86_64.whl (23.7 MB)\n",
            "\u001b[2K     \u001b[90m━━━━━━━━━━━━━━━━━━━━━━━━━━━━━━━━━━━━━━━━\u001b[0m \u001b[32m23.7/23.7 MB\u001b[0m \u001b[31m69.5 MB/s\u001b[0m eta \u001b[36m0:00:00\u001b[0m\n",
            "\u001b[?25hCollecting nvidia-cuda-runtime-cu12==12.1.105 (from torch>=1.10.0->accelerate)\n",
            "  Downloading nvidia_cuda_runtime_cu12-12.1.105-py3-none-manylinux1_x86_64.whl (823 kB)\n",
            "\u001b[2K     \u001b[90m━━━━━━━━━━━━━━━━━━━━━━━━━━━━━━━━━━━━━━━━\u001b[0m \u001b[32m823.6/823.6 kB\u001b[0m \u001b[31m65.7 MB/s\u001b[0m eta \u001b[36m0:00:00\u001b[0m\n",
            "\u001b[?25hCollecting nvidia-cuda-cupti-cu12==12.1.105 (from torch>=1.10.0->accelerate)\n",
            "  Downloading nvidia_cuda_cupti_cu12-12.1.105-py3-none-manylinux1_x86_64.whl (14.1 MB)\n",
            "\u001b[2K     \u001b[90m━━━━━━━━━━━━━━━━━━━━━━━━━━━━━━━━━━━━━━━━\u001b[0m \u001b[32m14.1/14.1 MB\u001b[0m \u001b[31m51.4 MB/s\u001b[0m eta \u001b[36m0:00:00\u001b[0m\n",
            "\u001b[?25hCollecting nvidia-cudnn-cu12==8.9.2.26 (from torch>=1.10.0->accelerate)\n",
            "  Downloading nvidia_cudnn_cu12-8.9.2.26-py3-none-manylinux1_x86_64.whl (731.7 MB)\n",
            "\u001b[2K     \u001b[90m━━━━━━━━━━━━━━━━━━━━━━━━━━━━━━━━━━━━━━━━\u001b[0m \u001b[32m731.7/731.7 MB\u001b[0m \u001b[31m1.4 MB/s\u001b[0m eta \u001b[36m0:00:00\u001b[0m\n",
            "\u001b[?25hCollecting nvidia-cublas-cu12==12.1.3.1 (from torch>=1.10.0->accelerate)\n",
            "  Downloading nvidia_cublas_cu12-12.1.3.1-py3-none-manylinux1_x86_64.whl (410.6 MB)\n",
            "\u001b[2K     \u001b[90m━━━━━━━━━━━━━━━━━━━━━━━━━━━━━━━━━━━━━━━━\u001b[0m \u001b[32m410.6/410.6 MB\u001b[0m \u001b[31m2.7 MB/s\u001b[0m eta \u001b[36m0:00:00\u001b[0m\n",
            "\u001b[?25hCollecting nvidia-cufft-cu12==11.0.2.54 (from torch>=1.10.0->accelerate)\n",
            "  Downloading nvidia_cufft_cu12-11.0.2.54-py3-none-manylinux1_x86_64.whl (121.6 MB)\n",
            "\u001b[2K     \u001b[90m━━━━━━━━━━━━━━━━━━━━━━━━━━━━━━━━━━━━━━━━\u001b[0m \u001b[32m121.6/121.6 MB\u001b[0m \u001b[31m13.9 MB/s\u001b[0m eta \u001b[36m0:00:00\u001b[0m\n",
            "\u001b[?25hCollecting nvidia-curand-cu12==10.3.2.106 (from torch>=1.10.0->accelerate)\n",
            "  Downloading nvidia_curand_cu12-10.3.2.106-py3-none-manylinux1_x86_64.whl (56.5 MB)\n",
            "\u001b[2K     \u001b[90m━━━━━━━━━━━━━━━━━━━━━━━━━━━━━━━━━━━━━━━━\u001b[0m \u001b[32m56.5/56.5 MB\u001b[0m \u001b[31m29.0 MB/s\u001b[0m eta \u001b[36m0:00:00\u001b[0m\n",
            "\u001b[?25hCollecting nvidia-cusolver-cu12==11.4.5.107 (from torch>=1.10.0->accelerate)\n",
            "  Downloading nvidia_cusolver_cu12-11.4.5.107-py3-none-manylinux1_x86_64.whl (124.2 MB)\n",
            "\u001b[2K     \u001b[90m━━━━━━━━━━━━━━━━━━━━━━━━━━━━━━━━━━━━━━━━\u001b[0m \u001b[32m124.2/124.2 MB\u001b[0m \u001b[31m11.1 MB/s\u001b[0m eta \u001b[36m0:00:00\u001b[0m\n",
            "\u001b[?25hCollecting nvidia-cusparse-cu12==12.1.0.106 (from torch>=1.10.0->accelerate)\n",
            "  Downloading nvidia_cusparse_cu12-12.1.0.106-py3-none-manylinux1_x86_64.whl (196.0 MB)\n",
            "\u001b[2K     \u001b[90m━━━━━━━━━━━━━━━━━━━━━━━━━━━━━━━━━━━━━━━━\u001b[0m \u001b[32m196.0/196.0 MB\u001b[0m \u001b[31m5.7 MB/s\u001b[0m eta \u001b[36m0:00:00\u001b[0m\n",
            "\u001b[?25hCollecting nvidia-nccl-cu12==2.19.3 (from torch>=1.10.0->accelerate)\n",
            "  Downloading nvidia_nccl_cu12-2.19.3-py3-none-manylinux1_x86_64.whl (166.0 MB)\n",
            "\u001b[2K     \u001b[90m━━━━━━━━━━━━━━━━━━━━━━━━━━━━━━━━━━━━━━━━\u001b[0m \u001b[32m166.0/166.0 MB\u001b[0m \u001b[31m10.3 MB/s\u001b[0m eta \u001b[36m0:00:00\u001b[0m\n",
            "\u001b[?25hCollecting nvidia-nvtx-cu12==12.1.105 (from torch>=1.10.0->accelerate)\n",
            "  Downloading nvidia_nvtx_cu12-12.1.105-py3-none-manylinux1_x86_64.whl (99 kB)\n",
            "\u001b[2K     \u001b[90m━━━━━━━━━━━━━━━━━━━━━━━━━━━━━━━━━━━━━━━━\u001b[0m \u001b[32m99.1/99.1 kB\u001b[0m \u001b[31m14.1 MB/s\u001b[0m eta \u001b[36m0:00:00\u001b[0m\n",
            "\u001b[?25hRequirement already satisfied: triton==2.2.0 in /usr/local/lib/python3.10/dist-packages (from torch>=1.10.0->accelerate) (2.2.0)\n",
            "Collecting nvidia-nvjitlink-cu12 (from nvidia-cusolver-cu12==11.4.5.107->torch>=1.10.0->accelerate)\n",
            "  Downloading nvidia_nvjitlink_cu12-12.4.99-py3-none-manylinux2014_x86_64.whl (21.1 MB)\n",
            "\u001b[2K     \u001b[90m━━━━━━━━━━━━━━━━━━━━━━━━━━━━━━━━━━━━━━━━\u001b[0m \u001b[32m21.1/21.1 MB\u001b[0m \u001b[31m83.1 MB/s\u001b[0m eta \u001b[36m0:00:00\u001b[0m\n",
            "\u001b[?25hRequirement already satisfied: requests in /usr/local/lib/python3.10/dist-packages (from huggingface-hub->accelerate) (2.31.0)\n",
            "Requirement already satisfied: tqdm>=4.42.1 in /usr/local/lib/python3.10/dist-packages (from huggingface-hub->accelerate) (4.66.2)\n",
            "Requirement already satisfied: MarkupSafe>=2.0 in /usr/local/lib/python3.10/dist-packages (from jinja2->torch>=1.10.0->accelerate) (2.1.5)\n",
            "Requirement already satisfied: charset-normalizer<4,>=2 in /usr/local/lib/python3.10/dist-packages (from requests->huggingface-hub->accelerate) (3.3.2)\n",
            "Requirement already satisfied: idna<4,>=2.5 in /usr/local/lib/python3.10/dist-packages (from requests->huggingface-hub->accelerate) (3.6)\n",
            "Requirement already satisfied: urllib3<3,>=1.21.1 in /usr/local/lib/python3.10/dist-packages (from requests->huggingface-hub->accelerate) (2.0.7)\n",
            "Requirement already satisfied: certifi>=2017.4.17 in /usr/local/lib/python3.10/dist-packages (from requests->huggingface-hub->accelerate) (2024.2.2)\n",
            "Requirement already satisfied: mpmath>=0.19 in /usr/local/lib/python3.10/dist-packages (from sympy->torch>=1.10.0->accelerate) (1.3.0)\n",
            "Installing collected packages: nvidia-nvtx-cu12, nvidia-nvjitlink-cu12, nvidia-nccl-cu12, nvidia-curand-cu12, nvidia-cufft-cu12, nvidia-cuda-runtime-cu12, nvidia-cuda-nvrtc-cu12, nvidia-cuda-cupti-cu12, nvidia-cublas-cu12, nvidia-cusparse-cu12, nvidia-cudnn-cu12, nvidia-cusolver-cu12, accelerate\n",
            "Successfully installed accelerate-0.28.0 nvidia-cublas-cu12-12.1.3.1 nvidia-cuda-cupti-cu12-12.1.105 nvidia-cuda-nvrtc-cu12-12.1.105 nvidia-cuda-runtime-cu12-12.1.105 nvidia-cudnn-cu12-8.9.2.26 nvidia-cufft-cu12-11.0.2.54 nvidia-curand-cu12-10.3.2.106 nvidia-cusolver-cu12-11.4.5.107 nvidia-cusparse-cu12-12.1.0.106 nvidia-nccl-cu12-2.19.3 nvidia-nvjitlink-cu12-12.4.99 nvidia-nvtx-cu12-12.1.105\n",
            "Collecting datasets\n",
            "  Downloading datasets-2.18.0-py3-none-any.whl (510 kB)\n",
            "\u001b[2K     \u001b[90m━━━━━━━━━━━━━━━━━━━━━━━━━━━━━━━━━━━━━━━━\u001b[0m \u001b[32m510.5/510.5 kB\u001b[0m \u001b[31m11.8 MB/s\u001b[0m eta \u001b[36m0:00:00\u001b[0m\n",
            "\u001b[?25hRequirement already satisfied: filelock in /usr/local/lib/python3.10/dist-packages (from datasets) (3.13.1)\n",
            "Requirement already satisfied: numpy>=1.17 in /usr/local/lib/python3.10/dist-packages (from datasets) (1.25.2)\n",
            "Requirement already satisfied: pyarrow>=12.0.0 in /usr/local/lib/python3.10/dist-packages (from datasets) (14.0.2)\n",
            "Requirement already satisfied: pyarrow-hotfix in /usr/local/lib/python3.10/dist-packages (from datasets) (0.6)\n",
            "Collecting dill<0.3.9,>=0.3.0 (from datasets)\n",
            "  Downloading dill-0.3.8-py3-none-any.whl (116 kB)\n",
            "\u001b[2K     \u001b[90m━━━━━━━━━━━━━━━━━━━━━━━━━━━━━━━━━━━━━━━━\u001b[0m \u001b[32m116.3/116.3 kB\u001b[0m \u001b[31m18.8 MB/s\u001b[0m eta \u001b[36m0:00:00\u001b[0m\n",
            "\u001b[?25hRequirement already satisfied: pandas in /usr/local/lib/python3.10/dist-packages (from datasets) (1.5.3)\n",
            "Requirement already satisfied: requests>=2.19.0 in /usr/local/lib/python3.10/dist-packages (from datasets) (2.31.0)\n",
            "Requirement already satisfied: tqdm>=4.62.1 in /usr/local/lib/python3.10/dist-packages (from datasets) (4.66.2)\n",
            "Collecting xxhash (from datasets)\n",
            "  Downloading xxhash-3.4.1-cp310-cp310-manylinux_2_17_x86_64.manylinux2014_x86_64.whl (194 kB)\n",
            "\u001b[2K     \u001b[90m━━━━━━━━━━━━━━━━━━━━━━━━━━━━━━━━━━━━━━━━\u001b[0m \u001b[32m194.1/194.1 kB\u001b[0m \u001b[31m26.6 MB/s\u001b[0m eta \u001b[36m0:00:00\u001b[0m\n",
            "\u001b[?25hCollecting multiprocess (from datasets)\n",
            "  Downloading multiprocess-0.70.16-py310-none-any.whl (134 kB)\n",
            "\u001b[2K     \u001b[90m━━━━━━━━━━━━━━━━━━━━━━━━━━━━━━━━━━━━━━━━\u001b[0m \u001b[32m134.8/134.8 kB\u001b[0m \u001b[31m22.2 MB/s\u001b[0m eta \u001b[36m0:00:00\u001b[0m\n",
            "\u001b[?25hRequirement already satisfied: fsspec[http]<=2024.2.0,>=2023.1.0 in /usr/local/lib/python3.10/dist-packages (from datasets) (2023.6.0)\n",
            "Requirement already satisfied: aiohttp in /usr/local/lib/python3.10/dist-packages (from datasets) (3.9.3)\n",
            "Requirement already satisfied: huggingface-hub>=0.19.4 in /usr/local/lib/python3.10/dist-packages (from datasets) (0.20.3)\n",
            "Requirement already satisfied: packaging in /usr/local/lib/python3.10/dist-packages (from datasets) (24.0)\n",
            "Requirement already satisfied: pyyaml>=5.1 in /usr/local/lib/python3.10/dist-packages (from datasets) (6.0.1)\n",
            "Requirement already satisfied: aiosignal>=1.1.2 in /usr/local/lib/python3.10/dist-packages (from aiohttp->datasets) (1.3.1)\n",
            "Requirement already satisfied: attrs>=17.3.0 in /usr/local/lib/python3.10/dist-packages (from aiohttp->datasets) (23.2.0)\n",
            "Requirement already satisfied: frozenlist>=1.1.1 in /usr/local/lib/python3.10/dist-packages (from aiohttp->datasets) (1.4.1)\n",
            "Requirement already satisfied: multidict<7.0,>=4.5 in /usr/local/lib/python3.10/dist-packages (from aiohttp->datasets) (6.0.5)\n",
            "Requirement already satisfied: yarl<2.0,>=1.0 in /usr/local/lib/python3.10/dist-packages (from aiohttp->datasets) (1.9.4)\n",
            "Requirement already satisfied: async-timeout<5.0,>=4.0 in /usr/local/lib/python3.10/dist-packages (from aiohttp->datasets) (4.0.3)\n",
            "Requirement already satisfied: typing-extensions>=3.7.4.3 in /usr/local/lib/python3.10/dist-packages (from huggingface-hub>=0.19.4->datasets) (4.10.0)\n",
            "Requirement already satisfied: charset-normalizer<4,>=2 in /usr/local/lib/python3.10/dist-packages (from requests>=2.19.0->datasets) (3.3.2)\n",
            "Requirement already satisfied: idna<4,>=2.5 in /usr/local/lib/python3.10/dist-packages (from requests>=2.19.0->datasets) (3.6)\n",
            "Requirement already satisfied: urllib3<3,>=1.21.1 in /usr/local/lib/python3.10/dist-packages (from requests>=2.19.0->datasets) (2.0.7)\n",
            "Requirement already satisfied: certifi>=2017.4.17 in /usr/local/lib/python3.10/dist-packages (from requests>=2.19.0->datasets) (2024.2.2)\n",
            "Requirement already satisfied: python-dateutil>=2.8.1 in /usr/local/lib/python3.10/dist-packages (from pandas->datasets) (2.8.2)\n",
            "Requirement already satisfied: pytz>=2020.1 in /usr/local/lib/python3.10/dist-packages (from pandas->datasets) (2023.4)\n",
            "Requirement already satisfied: six>=1.5 in /usr/local/lib/python3.10/dist-packages (from python-dateutil>=2.8.1->pandas->datasets) (1.16.0)\n",
            "Installing collected packages: xxhash, dill, multiprocess, datasets\n",
            "Successfully installed datasets-2.18.0 dill-0.3.8 multiprocess-0.70.16 xxhash-3.4.1\n",
            "Collecting evaluate\n",
            "  Downloading evaluate-0.4.1-py3-none-any.whl (84 kB)\n",
            "\u001b[2K     \u001b[90m━━━━━━━━━━━━━━━━━━━━━━━━━━━━━━━━━━━━━━━━\u001b[0m \u001b[32m84.1/84.1 kB\u001b[0m \u001b[31m2.7 MB/s\u001b[0m eta \u001b[36m0:00:00\u001b[0m\n",
            "\u001b[?25hRequirement already satisfied: datasets>=2.0.0 in /usr/local/lib/python3.10/dist-packages (from evaluate) (2.18.0)\n",
            "Requirement already satisfied: numpy>=1.17 in /usr/local/lib/python3.10/dist-packages (from evaluate) (1.25.2)\n",
            "Requirement already satisfied: dill in /usr/local/lib/python3.10/dist-packages (from evaluate) (0.3.8)\n",
            "Requirement already satisfied: pandas in /usr/local/lib/python3.10/dist-packages (from evaluate) (1.5.3)\n",
            "Requirement already satisfied: requests>=2.19.0 in /usr/local/lib/python3.10/dist-packages (from evaluate) (2.31.0)\n",
            "Requirement already satisfied: tqdm>=4.62.1 in /usr/local/lib/python3.10/dist-packages (from evaluate) (4.66.2)\n",
            "Requirement already satisfied: xxhash in /usr/local/lib/python3.10/dist-packages (from evaluate) (3.4.1)\n",
            "Requirement already satisfied: multiprocess in /usr/local/lib/python3.10/dist-packages (from evaluate) (0.70.16)\n",
            "Requirement already satisfied: fsspec[http]>=2021.05.0 in /usr/local/lib/python3.10/dist-packages (from evaluate) (2023.6.0)\n",
            "Requirement already satisfied: huggingface-hub>=0.7.0 in /usr/local/lib/python3.10/dist-packages (from evaluate) (0.20.3)\n",
            "Requirement already satisfied: packaging in /usr/local/lib/python3.10/dist-packages (from evaluate) (24.0)\n",
            "Collecting responses<0.19 (from evaluate)\n",
            "  Downloading responses-0.18.0-py3-none-any.whl (38 kB)\n",
            "Requirement already satisfied: filelock in /usr/local/lib/python3.10/dist-packages (from datasets>=2.0.0->evaluate) (3.13.1)\n",
            "Requirement already satisfied: pyarrow>=12.0.0 in /usr/local/lib/python3.10/dist-packages (from datasets>=2.0.0->evaluate) (14.0.2)\n",
            "Requirement already satisfied: pyarrow-hotfix in /usr/local/lib/python3.10/dist-packages (from datasets>=2.0.0->evaluate) (0.6)\n",
            "Requirement already satisfied: aiohttp in /usr/local/lib/python3.10/dist-packages (from datasets>=2.0.0->evaluate) (3.9.3)\n",
            "Requirement already satisfied: pyyaml>=5.1 in /usr/local/lib/python3.10/dist-packages (from datasets>=2.0.0->evaluate) (6.0.1)\n",
            "Requirement already satisfied: typing-extensions>=3.7.4.3 in /usr/local/lib/python3.10/dist-packages (from huggingface-hub>=0.7.0->evaluate) (4.10.0)\n",
            "Requirement already satisfied: charset-normalizer<4,>=2 in /usr/local/lib/python3.10/dist-packages (from requests>=2.19.0->evaluate) (3.3.2)\n",
            "Requirement already satisfied: idna<4,>=2.5 in /usr/local/lib/python3.10/dist-packages (from requests>=2.19.0->evaluate) (3.6)\n",
            "Requirement already satisfied: urllib3<3,>=1.21.1 in /usr/local/lib/python3.10/dist-packages (from requests>=2.19.0->evaluate) (2.0.7)\n",
            "Requirement already satisfied: certifi>=2017.4.17 in /usr/local/lib/python3.10/dist-packages (from requests>=2.19.0->evaluate) (2024.2.2)\n",
            "Requirement already satisfied: python-dateutil>=2.8.1 in /usr/local/lib/python3.10/dist-packages (from pandas->evaluate) (2.8.2)\n",
            "Requirement already satisfied: pytz>=2020.1 in /usr/local/lib/python3.10/dist-packages (from pandas->evaluate) (2023.4)\n",
            "Requirement already satisfied: aiosignal>=1.1.2 in /usr/local/lib/python3.10/dist-packages (from aiohttp->datasets>=2.0.0->evaluate) (1.3.1)\n",
            "Requirement already satisfied: attrs>=17.3.0 in /usr/local/lib/python3.10/dist-packages (from aiohttp->datasets>=2.0.0->evaluate) (23.2.0)\n",
            "Requirement already satisfied: frozenlist>=1.1.1 in /usr/local/lib/python3.10/dist-packages (from aiohttp->datasets>=2.0.0->evaluate) (1.4.1)\n",
            "Requirement already satisfied: multidict<7.0,>=4.5 in /usr/local/lib/python3.10/dist-packages (from aiohttp->datasets>=2.0.0->evaluate) (6.0.5)\n",
            "Requirement already satisfied: yarl<2.0,>=1.0 in /usr/local/lib/python3.10/dist-packages (from aiohttp->datasets>=2.0.0->evaluate) (1.9.4)\n",
            "Requirement already satisfied: async-timeout<5.0,>=4.0 in /usr/local/lib/python3.10/dist-packages (from aiohttp->datasets>=2.0.0->evaluate) (4.0.3)\n",
            "Requirement already satisfied: six>=1.5 in /usr/local/lib/python3.10/dist-packages (from python-dateutil>=2.8.1->pandas->evaluate) (1.16.0)\n",
            "Installing collected packages: responses, evaluate\n",
            "Successfully installed evaluate-0.4.1 responses-0.18.0\n",
            "Collecting bertviz\n",
            "  Downloading bertviz-1.4.0-py3-none-any.whl (157 kB)\n",
            "\u001b[2K     \u001b[90m━━━━━━━━━━━━━━━━━━━━━━━━━━━━━━━━━━━━━━━━\u001b[0m \u001b[32m157.6/157.6 kB\u001b[0m \u001b[31m4.1 MB/s\u001b[0m eta \u001b[36m0:00:00\u001b[0m\n",
            "\u001b[?25hRequirement already satisfied: transformers>=2.0 in /usr/local/lib/python3.10/dist-packages (from bertviz) (4.38.2)\n",
            "Requirement already satisfied: torch>=1.0 in /usr/local/lib/python3.10/dist-packages (from bertviz) (2.2.1+cu121)\n",
            "Requirement already satisfied: tqdm in /usr/local/lib/python3.10/dist-packages (from bertviz) (4.66.2)\n",
            "Collecting boto3 (from bertviz)\n",
            "  Downloading boto3-1.34.64-py3-none-any.whl (139 kB)\n",
            "\u001b[2K     \u001b[90m━━━━━━━━━━━━━━━━━━━━━━━━━━━━━━━━━━━━━━━━\u001b[0m \u001b[32m139.3/139.3 kB\u001b[0m \u001b[31m20.9 MB/s\u001b[0m eta \u001b[36m0:00:00\u001b[0m\n",
            "\u001b[?25hRequirement already satisfied: requests in /usr/local/lib/python3.10/dist-packages (from bertviz) (2.31.0)\n",
            "Requirement already satisfied: regex in /usr/local/lib/python3.10/dist-packages (from bertviz) (2023.12.25)\n",
            "Requirement already satisfied: sentencepiece in /usr/local/lib/python3.10/dist-packages (from bertviz) (0.1.99)\n",
            "Requirement already satisfied: filelock in /usr/local/lib/python3.10/dist-packages (from torch>=1.0->bertviz) (3.13.1)\n",
            "Requirement already satisfied: typing-extensions>=4.8.0 in /usr/local/lib/python3.10/dist-packages (from torch>=1.0->bertviz) (4.10.0)\n",
            "Requirement already satisfied: sympy in /usr/local/lib/python3.10/dist-packages (from torch>=1.0->bertviz) (1.12)\n",
            "Requirement already satisfied: networkx in /usr/local/lib/python3.10/dist-packages (from torch>=1.0->bertviz) (3.2.1)\n",
            "Requirement already satisfied: jinja2 in /usr/local/lib/python3.10/dist-packages (from torch>=1.0->bertviz) (3.1.3)\n",
            "Requirement already satisfied: fsspec in /usr/local/lib/python3.10/dist-packages (from torch>=1.0->bertviz) (2023.6.0)\n",
            "Requirement already satisfied: nvidia-cuda-nvrtc-cu12==12.1.105 in /usr/local/lib/python3.10/dist-packages (from torch>=1.0->bertviz) (12.1.105)\n",
            "Requirement already satisfied: nvidia-cuda-runtime-cu12==12.1.105 in /usr/local/lib/python3.10/dist-packages (from torch>=1.0->bertviz) (12.1.105)\n",
            "Requirement already satisfied: nvidia-cuda-cupti-cu12==12.1.105 in /usr/local/lib/python3.10/dist-packages (from torch>=1.0->bertviz) (12.1.105)\n",
            "Requirement already satisfied: nvidia-cudnn-cu12==8.9.2.26 in /usr/local/lib/python3.10/dist-packages (from torch>=1.0->bertviz) (8.9.2.26)\n",
            "Requirement already satisfied: nvidia-cublas-cu12==12.1.3.1 in /usr/local/lib/python3.10/dist-packages (from torch>=1.0->bertviz) (12.1.3.1)\n",
            "Requirement already satisfied: nvidia-cufft-cu12==11.0.2.54 in /usr/local/lib/python3.10/dist-packages (from torch>=1.0->bertviz) (11.0.2.54)\n",
            "Requirement already satisfied: nvidia-curand-cu12==10.3.2.106 in /usr/local/lib/python3.10/dist-packages (from torch>=1.0->bertviz) (10.3.2.106)\n",
            "Requirement already satisfied: nvidia-cusolver-cu12==11.4.5.107 in /usr/local/lib/python3.10/dist-packages (from torch>=1.0->bertviz) (11.4.5.107)\n",
            "Requirement already satisfied: nvidia-cusparse-cu12==12.1.0.106 in /usr/local/lib/python3.10/dist-packages (from torch>=1.0->bertviz) (12.1.0.106)\n",
            "Requirement already satisfied: nvidia-nccl-cu12==2.19.3 in /usr/local/lib/python3.10/dist-packages (from torch>=1.0->bertviz) (2.19.3)\n",
            "Requirement already satisfied: nvidia-nvtx-cu12==12.1.105 in /usr/local/lib/python3.10/dist-packages (from torch>=1.0->bertviz) (12.1.105)\n",
            "Requirement already satisfied: triton==2.2.0 in /usr/local/lib/python3.10/dist-packages (from torch>=1.0->bertviz) (2.2.0)\n",
            "Requirement already satisfied: nvidia-nvjitlink-cu12 in /usr/local/lib/python3.10/dist-packages (from nvidia-cusolver-cu12==11.4.5.107->torch>=1.0->bertviz) (12.4.99)\n",
            "Requirement already satisfied: huggingface-hub<1.0,>=0.19.3 in /usr/local/lib/python3.10/dist-packages (from transformers>=2.0->bertviz) (0.20.3)\n",
            "Requirement already satisfied: numpy>=1.17 in /usr/local/lib/python3.10/dist-packages (from transformers>=2.0->bertviz) (1.25.2)\n",
            "Requirement already satisfied: packaging>=20.0 in /usr/local/lib/python3.10/dist-packages (from transformers>=2.0->bertviz) (24.0)\n",
            "Requirement already satisfied: pyyaml>=5.1 in /usr/local/lib/python3.10/dist-packages (from transformers>=2.0->bertviz) (6.0.1)\n",
            "Requirement already satisfied: tokenizers<0.19,>=0.14 in /usr/local/lib/python3.10/dist-packages (from transformers>=2.0->bertviz) (0.15.2)\n",
            "Requirement already satisfied: safetensors>=0.4.1 in /usr/local/lib/python3.10/dist-packages (from transformers>=2.0->bertviz) (0.4.2)\n",
            "Collecting botocore<1.35.0,>=1.34.64 (from boto3->bertviz)\n",
            "  Downloading botocore-1.34.64-py3-none-any.whl (12.0 MB)\n",
            "\u001b[2K     \u001b[90m━━━━━━━━━━━━━━━━━━━━━━━━━━━━━━━━━━━━━━━━\u001b[0m \u001b[32m12.0/12.0 MB\u001b[0m \u001b[31m95.7 MB/s\u001b[0m eta \u001b[36m0:00:00\u001b[0m\n",
            "\u001b[?25hCollecting jmespath<2.0.0,>=0.7.1 (from boto3->bertviz)\n",
            "  Downloading jmespath-1.0.1-py3-none-any.whl (20 kB)\n",
            "Collecting s3transfer<0.11.0,>=0.10.0 (from boto3->bertviz)\n",
            "  Downloading s3transfer-0.10.1-py3-none-any.whl (82 kB)\n",
            "\u001b[2K     \u001b[90m━━━━━━━━━━━━━━━━━━━━━━━━━━━━━━━━━━━━━━━━\u001b[0m \u001b[32m82.2/82.2 kB\u001b[0m \u001b[31m13.6 MB/s\u001b[0m eta \u001b[36m0:00:00\u001b[0m\n",
            "\u001b[?25hRequirement already satisfied: charset-normalizer<4,>=2 in /usr/local/lib/python3.10/dist-packages (from requests->bertviz) (3.3.2)\n",
            "Requirement already satisfied: idna<4,>=2.5 in /usr/local/lib/python3.10/dist-packages (from requests->bertviz) (3.6)\n",
            "Requirement already satisfied: urllib3<3,>=1.21.1 in /usr/local/lib/python3.10/dist-packages (from requests->bertviz) (2.0.7)\n",
            "Requirement already satisfied: certifi>=2017.4.17 in /usr/local/lib/python3.10/dist-packages (from requests->bertviz) (2024.2.2)\n",
            "Requirement already satisfied: python-dateutil<3.0.0,>=2.1 in /usr/local/lib/python3.10/dist-packages (from botocore<1.35.0,>=1.34.64->boto3->bertviz) (2.8.2)\n",
            "Requirement already satisfied: MarkupSafe>=2.0 in /usr/local/lib/python3.10/dist-packages (from jinja2->torch>=1.0->bertviz) (2.1.5)\n",
            "Requirement already satisfied: mpmath>=0.19 in /usr/local/lib/python3.10/dist-packages (from sympy->torch>=1.0->bertviz) (1.3.0)\n",
            "Requirement already satisfied: six>=1.5 in /usr/local/lib/python3.10/dist-packages (from python-dateutil<3.0.0,>=2.1->botocore<1.35.0,>=1.34.64->boto3->bertviz) (1.16.0)\n",
            "Installing collected packages: jmespath, botocore, s3transfer, boto3, bertviz\n",
            "Successfully installed bertviz-1.4.0 boto3-1.34.64 botocore-1.34.64 jmespath-1.0.1 s3transfer-0.10.1\n",
            "Collecting PyPDF2\n",
            "  Downloading pypdf2-3.0.1-py3-none-any.whl (232 kB)\n",
            "\u001b[2K     \u001b[90m━━━━━━━━━━━━━━━━━━━━━━━━━━━━━━━━━━━━━━━━\u001b[0m \u001b[32m232.6/232.6 kB\u001b[0m \u001b[31m6.2 MB/s\u001b[0m eta \u001b[36m0:00:00\u001b[0m\n",
            "\u001b[?25hInstalling collected packages: PyPDF2\n",
            "Successfully installed PyPDF2-3.0.1\n"
          ]
        }
      ]
    },
    {
      "cell_type": "code",
      "execution_count": 2,
      "metadata": {
        "id": "hlb4leSvCcbX"
      },
      "outputs": [],
      "source": [
        "from transformers import pipeline, set_seed, GPT2Tokenizer, GPT2LMHeadModel,IntervalStrategy,EvalPrediction , DataCollatorForLanguageModeling,pipeline,TrainingArguments, Trainer,TextDataset\n",
        "from torch import tensor, numel # Returns the total number of elements in the input tensor.,\n",
        "from bertviz import model_view # For viewing self attention\n",
        "import pandas as pd\n",
        "set_seed(20)\n"
      ]
    },
    {
      "cell_type": "code",
      "source": [
        "generator = pipeline ('text-generation',model='gpt2')\n",
        "generator(\"Cypher query to create a customer node \", max_length=60, num_return_sequences=3, do_sample=True)\n"
      ],
      "metadata": {
        "id": "2BHArCwyLvQl",
        "colab": {
          "base_uri": "https://localhost:8080/",
          "height": 504,
          "referenced_widgets": [
            "4b51c722ce7a41e2b49ea0eb654106a5",
            "6a64fc168b8c4570ad6f387e3b0ea19c",
            "0d391a847c1f45b6934803868d84ae18",
            "e9ad53fcf8b94bc8a44acc4d9c32ec3c",
            "1aac282577be4f038fa1980592ab13cf",
            "33d764bee64f4f19ad244108543ffbd6",
            "dbdd360b2d0c499e9bf626c2f9360a08",
            "640b8772f6b349f68ade2a7666bcca26",
            "2dc21a5ad66f4b91b045180a116afa54",
            "cfa41ce92f6948648f02f3b5df3a4d39",
            "e0643bafd6614830b980926e0ff16c8b",
            "d55cf07cc1e54483aef146e37eb22a2f",
            "8ef83e336817413a8a0fd547fbfc8e4b",
            "b8afc519e03c4924b9bc953fe67ec14e",
            "ad60da9d590b4ecbb45193db4e691ca0",
            "cae2f79c0d304b67b342985a9660655d",
            "eaa7910cebb24e3eab546cf33c641030",
            "eb7dd7d8d68841e0ae766eef5cc0df86",
            "dc7b5a1d53f8479d99db28ff57424d65",
            "5c606ae91c6442f7b4c7f953c7b9cbb3",
            "8c36aede3b4a4e84b86aa268bc25e5ae",
            "927c37a8f73749fb837ba6570c95abf9",
            "a5d2af8cfae146de90672c48cb656082",
            "976390e245b94ab7b2657e0d0ca2ca83",
            "b6df4698bc5941fc9179612749cb1b88",
            "8a89397464394e4d8ca932b714079cdb",
            "46d5d14cc8534e40bc3347cd6f04c123",
            "ea7bc7c324b642719b5abb3137eaf1a6",
            "6008a744d75641b48fa98892029d5199",
            "e1c866ae553442e4afe9451cfa040137",
            "56ae7be2a1d74e31acf7dddc114b6334",
            "b9bf21f3c4a94ffdae6f6dbc8e6aada6",
            "5e7e78fbb9a649939eab901a903faf64",
            "eab7b5573f3246bf93383b9fd6dd77f9",
            "e8dc28d2247243908b221c86ca7775b0",
            "cbac93a549e24988a4da4de56bd9fdc7",
            "0834decad26f472b91c912881996b3da",
            "7a3a71290fce4495bf59d14bc9b17b9c",
            "05533e74579142c9bbfbb72ded11e28f",
            "8a8c5ebb5953471d8a74ef3f93762874",
            "97bc6a5aae07460791febb4a6ec47588",
            "d86360888fcc44088786fb294038bb6c",
            "1a0366c78f63488a89fd48616687d8ce",
            "89063a8bd50f4f6287200ca9753a65f8",
            "dad5abe2f86f4b1296346017367195e5",
            "72a556fd2ee14c01b3ee3f20b2450303",
            "8209e6f1d1cf45ca96b7f07bc1f6aac6",
            "81282848102b4d449106695ceb2d84b0",
            "560afca806d74c768ff0c176ed4e8f55",
            "f5d4d6a5e76e49fb9d1e4c7f084c2ceb",
            "7b51f303fda64cc9a6c1c5dc6023506c",
            "8482c0fad11d4c2f8cac93aec3dc5575",
            "8d8b329c46a741c291dffcec929addf0",
            "60eec5ba1fbf4e3397ef08373e3e10a8",
            "6bdc5062de574f9dad518caecae9134d",
            "a11ae57aa4d0460685da194593f3f6c3",
            "5ac7ce7c08e249e9b5d9ec0963e446b6",
            "13b14ef466674122af3a687c155d7d40",
            "e07ce63d06fa47eb9e40487010ca95c6",
            "6298638b923e4adbb1cb0b3d80a29c85",
            "0e206e23e9f647a1906569029068fab0",
            "6890b561590640d5b917b46ac0a1563e",
            "223ee0db2a8540c09c72d445928ff0ad",
            "f28ebc63b6d748c4b1bdc7ce09c544f5",
            "9d0e3570dcd64d92a8e5f0b26a702a44",
            "c6843ac2471a49159b8593f21cecad0c",
            "8f65526b0afe4d729cab9b16c93d9faa",
            "5eb1595c9b0b494691ed8afaecf47d2a",
            "de449a887e964a9eb53aeb774ddb07f7",
            "e432730f6fbc459ca927dc2d54e6afa3",
            "08dac30df8af4608871b61307ca87f6f",
            "bfde4935f868423c9b503501d3272c71",
            "c660ce1b7b59446ea660f4192810a7ef",
            "9e61c0a69f534f2899dcf923042c0f2d",
            "1d64eb507f8c42b5808b7ef8164891a2",
            "a38975c32103406eae8f8ceb4f42acc8",
            "ffcb8fa280844fc28d8de2b022fad9cc"
          ]
        },
        "outputId": "b2272e4a-b60c-48f8-d37b-5c5b37020eaf"
      },
      "execution_count": 3,
      "outputs": [
        {
          "output_type": "stream",
          "name": "stderr",
          "text": [
            "/usr/local/lib/python3.10/dist-packages/huggingface_hub/utils/_token.py:88: UserWarning: \n",
            "The secret `HF_TOKEN` does not exist in your Colab secrets.\n",
            "To authenticate with the Hugging Face Hub, create a token in your settings tab (https://huggingface.co/settings/tokens), set it as secret in your Google Colab and restart your session.\n",
            "You will be able to reuse this secret in all of your notebooks.\n",
            "Please note that authentication is recommended but still optional to access public models or datasets.\n",
            "  warnings.warn(\n"
          ]
        },
        {
          "output_type": "display_data",
          "data": {
            "text/plain": [
              "config.json:   0%|          | 0.00/665 [00:00<?, ?B/s]"
            ],
            "application/vnd.jupyter.widget-view+json": {
              "version_major": 2,
              "version_minor": 0,
              "model_id": "4b51c722ce7a41e2b49ea0eb654106a5"
            }
          },
          "metadata": {}
        },
        {
          "output_type": "display_data",
          "data": {
            "text/plain": [
              "model.safetensors:   0%|          | 0.00/548M [00:00<?, ?B/s]"
            ],
            "application/vnd.jupyter.widget-view+json": {
              "version_major": 2,
              "version_minor": 0,
              "model_id": "d55cf07cc1e54483aef146e37eb22a2f"
            }
          },
          "metadata": {}
        },
        {
          "output_type": "display_data",
          "data": {
            "text/plain": [
              "generation_config.json:   0%|          | 0.00/124 [00:00<?, ?B/s]"
            ],
            "application/vnd.jupyter.widget-view+json": {
              "version_major": 2,
              "version_minor": 0,
              "model_id": "a5d2af8cfae146de90672c48cb656082"
            }
          },
          "metadata": {}
        },
        {
          "output_type": "display_data",
          "data": {
            "text/plain": [
              "tokenizer_config.json:   0%|          | 0.00/26.0 [00:00<?, ?B/s]"
            ],
            "application/vnd.jupyter.widget-view+json": {
              "version_major": 2,
              "version_minor": 0,
              "model_id": "eab7b5573f3246bf93383b9fd6dd77f9"
            }
          },
          "metadata": {}
        },
        {
          "output_type": "display_data",
          "data": {
            "text/plain": [
              "vocab.json:   0%|          | 0.00/1.04M [00:00<?, ?B/s]"
            ],
            "application/vnd.jupyter.widget-view+json": {
              "version_major": 2,
              "version_minor": 0,
              "model_id": "dad5abe2f86f4b1296346017367195e5"
            }
          },
          "metadata": {}
        },
        {
          "output_type": "display_data",
          "data": {
            "text/plain": [
              "merges.txt:   0%|          | 0.00/456k [00:00<?, ?B/s]"
            ],
            "application/vnd.jupyter.widget-view+json": {
              "version_major": 2,
              "version_minor": 0,
              "model_id": "a11ae57aa4d0460685da194593f3f6c3"
            }
          },
          "metadata": {}
        },
        {
          "output_type": "display_data",
          "data": {
            "text/plain": [
              "tokenizer.json:   0%|          | 0.00/1.36M [00:00<?, ?B/s]"
            ],
            "application/vnd.jupyter.widget-view+json": {
              "version_major": 2,
              "version_minor": 0,
              "model_id": "8f65526b0afe4d729cab9b16c93d9faa"
            }
          },
          "metadata": {}
        },
        {
          "output_type": "stream",
          "name": "stderr",
          "text": [
            "Truncation was not explicitly activated but `max_length` is provided a specific value, please use `truncation=True` to explicitly truncate examples to max length. Defaulting to 'longest_first' truncation strategy. If you encode pairs of sequences (GLUE-style) with the tokenizer you can select this strategy more precisely by providing a specific strategy to `truncation`.\n",
            "Setting `pad_token_id` to `eos_token_id`:50256 for open-end generation.\n"
          ]
        },
        {
          "output_type": "execute_result",
          "data": {
            "text/plain": [
              "[{'generated_text': \"Cypher query to create a customer node \\xa0(not in the context I defined in our example), but not in an implementation (I don't actually ever make this type explicit, or in a post-structured approach). So the first step is to put this data in one of our\"},\n",
              " {'generated_text': \"Cypher query to create a customer node !! This is the server. It's very similar to the one you're using httpd though you don't have to use it in production either, it's the same server in the beginning.\\n\\nNow make sure you check that all the fields\"},\n",
              " {'generated_text': 'Cypher query to create a customer node \\xa0- (if it was used a few days ago to create a single blog in order to start a new blog post)\\nWe decided to create an instance of\\xa0 a\\xa0 Customer \\xa0which you can see is in the code\\xa0 at http'}]"
            ]
          },
          "metadata": {},
          "execution_count": 3
        }
      ]
    },
    {
      "cell_type": "markdown",
      "source": [
        "# Tokenization"
      ],
      "metadata": {
        "id": "ngQjZZH5BJ9o"
      }
    },
    {
      "cell_type": "code",
      "source": [
        "#generator(\"Write cypher query for creating a node with name India \", max_length=30, num_return_sequences=3, do_sample=False)"
      ],
      "metadata": {
        "colab": {
          "base_uri": "https://localhost:8080/"
        },
        "id": "5nQKg7jDq83C",
        "outputId": "f70a5ecc-6043-480a-9af3-41708f5cf916"
      },
      "execution_count": 65,
      "outputs": [
        {
          "output_type": "stream",
          "name": "stderr",
          "text": [
            "Setting `pad_token_id` to `eos_token_id`:50256 for open-end generation.\n"
          ]
        },
        {
          "output_type": "execute_result",
          "data": {
            "text/plain": [
              "[{'generated_text': 'Write cypher query for creating a node with name India -------------------------- Name of the node (N:0)\\\\[A:0:0:'},\n",
              " {'generated_text': \"Write cypher query for creating a node with name India iavn the nse. By using my script, I'm able to determine the\"},\n",
              " {'generated_text': 'Write cypher query for creating a node with name India ຈಽಽ ས\\u0d0d�'}]"
            ]
          },
          "metadata": {},
          "execution_count": 65
        }
      ]
    },
    {
      "cell_type": "code",
      "source": [
        "tokenizer=GPT2Tokenizer.from_pretrained('gpt2')\n",
        "tokenizer.convert_ids_to_tokens(tokenizer.encode('India is a great Country'))"
      ],
      "metadata": {
        "colab": {
          "base_uri": "https://localhost:8080/"
        },
        "id": "vs5cR8anMH0r",
        "outputId": "39ba66c9-7260-451b-99de-6989391d8cf2"
      },
      "execution_count": 40,
      "outputs": [
        {
          "output_type": "execute_result",
          "data": {
            "text/plain": [
              "['India', 'Ġis', 'Ġa', 'Ġgreat', 'ĠCountry']"
            ]
          },
          "metadata": {},
          "execution_count": 40
        }
      ]
    },
    {
      "cell_type": "code",
      "source": [
        "encoded_query = tokenizer('India is a great Country',return_tensors='pt')\n",
        "encoded_query"
      ],
      "metadata": {
        "colab": {
          "base_uri": "https://localhost:8080/"
        },
        "id": "8VY3v2sDRgwq",
        "outputId": "ac637430-3f63-452e-b346-9ce7072b9644"
      },
      "execution_count": 41,
      "outputs": [
        {
          "output_type": "execute_result",
          "data": {
            "text/plain": [
              "{'input_ids': tensor([[21569,   318,   257,  1049, 12946]]), 'attention_mask': tensor([[1, 1, 1, 1, 1]])}"
            ]
          },
          "metadata": {},
          "execution_count": 41
        }
      ]
    },
    {
      "cell_type": "code",
      "source": [
        "#from transformers import pipeline, set_seed, GPT2Tokenizer, GPT2LMHeadModel\n",
        "#from torch import tensor, numel\n",
        "tokenizer = GPT2Tokenizer.from_pretrained('gpt2')\n",
        "model = GPT2LMHeadModel.from_pretrained('gpt2')\n",
        "model"
      ],
      "metadata": {
        "colab": {
          "base_uri": "https://localhost:8080/",
          "height": 834,
          "referenced_widgets": [
            "4f2e64e34ae14370805dd92fdeb4fae7",
            "9d2a8b6c01094b9ebc37352003a8058a",
            "22623c0a4c7a4e5da7e5925524a5d512",
            "36426019fdc24393888aed5467d7cf34",
            "3eee576475b84a8b87838e205aa75c17",
            "9d1091a1b8784ae99bf6a6fc7a38392e",
            "f70f494d3f844bb9b07b7aade0a5ed29",
            "4f78fd0335904b91b2d948dfa303d148",
            "0fd0dfcb82d946239fbb773a61ba3391",
            "06c8e6a5f7f54edd9aa276a0b822dc0a",
            "92f1fe8acade4d039196f0625736be2e",
            "9477a685feb14dec9044c3783b8e1d6a",
            "178ec27f592b4ea78d5e2c3c2fd6d8c8",
            "5824b00573514ca5be5f55cd926889d3",
            "c7c6b9cd350f44ed88284730a15b70f8",
            "241ac62dc02840fe846764898cda3849",
            "215679b354a349ef800b53897b00e2b1",
            "24875e3e394a4b648289fa188d3f7967",
            "293ceb2c5aad490e89ccee6c534992be",
            "899d6173d2b648f4ac15a2fa4e8d4af7",
            "eaf1a01f8fb54484b60fe56b4c88dfa0",
            "9aab2a365e2e497eb3c1b8693c7d72eb",
            "8a84431bfa374c5a829d2e1cce7099fa",
            "4c68fafa13b146d1a7fe2572e19ba1b4",
            "b748065d37f844e0a3e0ed93f4145b8d",
            "824f7d81ea6447509d8df7df21fde732",
            "758ce5cfa5f74397a3213bc51f18bef1",
            "1b314feb085946c897949f864913973b",
            "cca00899e6dd429093c605f36c2be888",
            "bfc65cb6012543039addee7f8e5bcd17",
            "180754de2e7e475b858e2722645e888a",
            "eae14d8a1b9b4cb79cd7b721067543d8",
            "8766f45d80cc4005a25f4176704780df",
            "525c520c7c804d5ca8371e0f8236be14",
            "b9fffede175442d68c89fa9535ab6348",
            "02f4ab81d64e411283983d27c723eb1c",
            "e65fcd3cc4ca40c980db85229130df13",
            "fdb4f7dab7054ee9a96113d190fef03e",
            "908e4a411c9d46e08d7e32b872dabcd5",
            "ccaf408a746740e8bc36ef1982281ef2",
            "058fb48ce7034111b83ecc807a3c8498",
            "6f32bb054b6e441ead230cf3d00da340",
            "3d7767b832f74229933bcd8c143bf294",
            "a5e9b12b6a8e43299c4bee88ed40ff23",
            "ce1afad8fb634d889afcb75f2f0ff96f",
            "b77b3ef2088a47749bcfde3b7a42634b",
            "7818b8c146b6499c9aadafce55826b1e",
            "78a79a7de8434ef9a4442caef196f07f",
            "cc8034f4930e416fbbdcf872a3e9e4fb",
            "3d625fa057b9490f8b53452c2b833be5",
            "d572b8fa94c74fbca9cd12883681a979",
            "5ad458df85014544aa33b8be5e4a42fe",
            "1d5acdc25e7b4ab09d27d184cdb2330f",
            "d24cdf30a1c84b58923b0a0b20f0d27e",
            "20f1b65ca4e649149248464cb52a36b6",
            "1508c1fe85c143f1ac3758c9ecbb1355",
            "cc3bfcf7f55d485cbfa63ac7814c3885",
            "3bf51a94c01248da9ecb93f9f4e2ac1e",
            "c3f21aa5545341528bc502b52ed66dfe",
            "508337631be04512b1c38db584594d57",
            "a38697d6e3174f969a74328f3284c83e",
            "51e0a4b5db884a6fb2b730a3ad11210c",
            "4a1bc2ebe93f49a392f330dff91cfb17",
            "c7de3d03b0e749e1bd7ad58ea7f7b8d1",
            "a59fd48b9035430c9d036cd0b1c83613",
            "4aa2d260b7854685bbb64d99b7753bcc",
            "073e639ef34049d8bd08325a128d5899",
            "2ca5d1bb1c194eaba8728e9256c31bb7",
            "f02a73c7a7e74d668b83b7d0c1c173c4",
            "0791cda1f47c4be6b060adb9ad53c8af",
            "4cd210b11b5f4360b1cc43f70d62c39f",
            "8d9560ecfcee423c8bf6d0dadfc767c7",
            "a2109a40a76b4bb580900ef0ff371ca6",
            "0bf54e7a32b74ee28ebb0a73e0048e8a",
            "5faa15397e054cb1981ae53cc744db4c",
            "244d8c1db2e74d58bd16c466004e0af4",
            "e0462ac41bf149b292fea474589e729d"
          ]
        },
        "id": "9-_3tHKkSv54",
        "outputId": "92da2f11-9504-4af8-ed83-ab4232e27322"
      },
      "execution_count": 2,
      "outputs": [
        {
          "output_type": "stream",
          "name": "stderr",
          "text": [
            "/usr/local/lib/python3.10/dist-packages/huggingface_hub/utils/_token.py:88: UserWarning: \n",
            "The secret `HF_TOKEN` does not exist in your Colab secrets.\n",
            "To authenticate with the Hugging Face Hub, create a token in your settings tab (https://huggingface.co/settings/tokens), set it as secret in your Google Colab and restart your session.\n",
            "You will be able to reuse this secret in all of your notebooks.\n",
            "Please note that authentication is recommended but still optional to access public models or datasets.\n",
            "  warnings.warn(\n"
          ]
        },
        {
          "output_type": "display_data",
          "data": {
            "text/plain": [
              "tokenizer_config.json:   0%|          | 0.00/26.0 [00:00<?, ?B/s]"
            ],
            "application/vnd.jupyter.widget-view+json": {
              "version_major": 2,
              "version_minor": 0,
              "model_id": "4f2e64e34ae14370805dd92fdeb4fae7"
            }
          },
          "metadata": {}
        },
        {
          "output_type": "display_data",
          "data": {
            "text/plain": [
              "vocab.json:   0%|          | 0.00/1.04M [00:00<?, ?B/s]"
            ],
            "application/vnd.jupyter.widget-view+json": {
              "version_major": 2,
              "version_minor": 0,
              "model_id": "9477a685feb14dec9044c3783b8e1d6a"
            }
          },
          "metadata": {}
        },
        {
          "output_type": "display_data",
          "data": {
            "text/plain": [
              "merges.txt:   0%|          | 0.00/456k [00:00<?, ?B/s]"
            ],
            "application/vnd.jupyter.widget-view+json": {
              "version_major": 2,
              "version_minor": 0,
              "model_id": "8a84431bfa374c5a829d2e1cce7099fa"
            }
          },
          "metadata": {}
        },
        {
          "output_type": "display_data",
          "data": {
            "text/plain": [
              "tokenizer.json:   0%|          | 0.00/1.36M [00:00<?, ?B/s]"
            ],
            "application/vnd.jupyter.widget-view+json": {
              "version_major": 2,
              "version_minor": 0,
              "model_id": "525c520c7c804d5ca8371e0f8236be14"
            }
          },
          "metadata": {}
        },
        {
          "output_type": "display_data",
          "data": {
            "text/plain": [
              "config.json:   0%|          | 0.00/665 [00:00<?, ?B/s]"
            ],
            "application/vnd.jupyter.widget-view+json": {
              "version_major": 2,
              "version_minor": 0,
              "model_id": "ce1afad8fb634d889afcb75f2f0ff96f"
            }
          },
          "metadata": {}
        },
        {
          "output_type": "display_data",
          "data": {
            "text/plain": [
              "model.safetensors:   0%|          | 0.00/548M [00:00<?, ?B/s]"
            ],
            "application/vnd.jupyter.widget-view+json": {
              "version_major": 2,
              "version_minor": 0,
              "model_id": "1508c1fe85c143f1ac3758c9ecbb1355"
            }
          },
          "metadata": {}
        },
        {
          "output_type": "display_data",
          "data": {
            "text/plain": [
              "generation_config.json:   0%|          | 0.00/124 [00:00<?, ?B/s]"
            ],
            "application/vnd.jupyter.widget-view+json": {
              "version_major": 2,
              "version_minor": 0,
              "model_id": "073e639ef34049d8bd08325a128d5899"
            }
          },
          "metadata": {}
        },
        {
          "output_type": "execute_result",
          "data": {
            "text/plain": [
              "GPT2LMHeadModel(\n",
              "  (transformer): GPT2Model(\n",
              "    (wte): Embedding(50257, 768)\n",
              "    (wpe): Embedding(1024, 768)\n",
              "    (drop): Dropout(p=0.1, inplace=False)\n",
              "    (h): ModuleList(\n",
              "      (0-11): 12 x GPT2Block(\n",
              "        (ln_1): LayerNorm((768,), eps=1e-05, elementwise_affine=True)\n",
              "        (attn): GPT2Attention(\n",
              "          (c_attn): Conv1D()\n",
              "          (c_proj): Conv1D()\n",
              "          (attn_dropout): Dropout(p=0.1, inplace=False)\n",
              "          (resid_dropout): Dropout(p=0.1, inplace=False)\n",
              "        )\n",
              "        (ln_2): LayerNorm((768,), eps=1e-05, elementwise_affine=True)\n",
              "        (mlp): GPT2MLP(\n",
              "          (c_fc): Conv1D()\n",
              "          (c_proj): Conv1D()\n",
              "          (act): NewGELUActivation()\n",
              "          (dropout): Dropout(p=0.1, inplace=False)\n",
              "        )\n",
              "      )\n",
              "    )\n",
              "    (ln_f): LayerNorm((768,), eps=1e-05, elementwise_affine=True)\n",
              "  )\n",
              "  (lm_head): Linear(in_features=768, out_features=50257, bias=False)\n",
              ")"
            ]
          },
          "metadata": {},
          "execution_count": 2
        }
      ]
    },
    {
      "cell_type": "code",
      "source": [
        "params=0\n",
        "for parameters in model.parameters():\n",
        "  params+=numel(parameters)\n",
        "\n",
        "print(f'Total number of  paramerter in GPT2\" {params:,}')"
      ],
      "metadata": {
        "colab": {
          "base_uri": "https://localhost:8080/"
        },
        "id": "e1RVnznOSv2V",
        "outputId": "0f1c6eed-8962-4fca-f8f0-b50fd345aa14"
      },
      "execution_count": 3,
      "outputs": [
        {
          "output_type": "stream",
          "name": "stdout",
          "text": [
            "Total param in GPT2\" 124,439,808\n"
          ]
        }
      ]
    },
    {
      "cell_type": "code",
      "source": [
        "tokens = tokenizer.convert_ids_to_tokens(encoded_query['input_ids'][0])"
      ],
      "metadata": {
        "id": "QoLDlbgcnwTC"
      },
      "execution_count": 44,
      "outputs": []
    },
    {
      "cell_type": "code",
      "source": [
        "import pandas as pd\n",
        "import torch\n",
        "response = model(**encoded_query, output_attentions=True, output_hidden_states =True)\n",
        "array= response.attentions[10][0][0]\n",
        "n=3\n",
        "att_df = pd.DataFrame((torch.round(array*10**n)/(10**n)).detach()).applymap(float)\n",
        "att_df.columns=tokens\n",
        "att_df.index=tokens\n",
        "att_df"
      ],
      "metadata": {
        "colab": {
          "base_uri": "https://localhost:8080/",
          "height": 206
        },
        "id": "E86QSXONml5E",
        "outputId": "28393760-46fb-4a30-8dce-0aa08f037b41"
      },
      "execution_count": 52,
      "outputs": [
        {
          "output_type": "execute_result",
          "data": {
            "text/plain": [
              "          India    Ġis     Ġa  Ġgreat  ĠCountry\n",
              "India     1.000  0.000  0.000   0.000     0.000\n",
              "Ġis       0.979  0.021  0.000   0.000     0.000\n",
              "Ġa        0.926  0.063  0.011   0.000     0.000\n",
              "Ġgreat    0.899  0.072  0.010   0.019     0.000\n",
              "ĠCountry  0.986  0.006  0.001   0.001     0.006"
            ],
            "text/html": [
              "\n",
              "  <div id=\"df-175fc33f-8de0-4f0a-a7bf-693137c72e1d\" class=\"colab-df-container\">\n",
              "    <div>\n",
              "<style scoped>\n",
              "    .dataframe tbody tr th:only-of-type {\n",
              "        vertical-align: middle;\n",
              "    }\n",
              "\n",
              "    .dataframe tbody tr th {\n",
              "        vertical-align: top;\n",
              "    }\n",
              "\n",
              "    .dataframe thead th {\n",
              "        text-align: right;\n",
              "    }\n",
              "</style>\n",
              "<table border=\"1\" class=\"dataframe\">\n",
              "  <thead>\n",
              "    <tr style=\"text-align: right;\">\n",
              "      <th></th>\n",
              "      <th>India</th>\n",
              "      <th>Ġis</th>\n",
              "      <th>Ġa</th>\n",
              "      <th>Ġgreat</th>\n",
              "      <th>ĠCountry</th>\n",
              "    </tr>\n",
              "  </thead>\n",
              "  <tbody>\n",
              "    <tr>\n",
              "      <th>India</th>\n",
              "      <td>1.000</td>\n",
              "      <td>0.000</td>\n",
              "      <td>0.000</td>\n",
              "      <td>0.000</td>\n",
              "      <td>0.000</td>\n",
              "    </tr>\n",
              "    <tr>\n",
              "      <th>Ġis</th>\n",
              "      <td>0.979</td>\n",
              "      <td>0.021</td>\n",
              "      <td>0.000</td>\n",
              "      <td>0.000</td>\n",
              "      <td>0.000</td>\n",
              "    </tr>\n",
              "    <tr>\n",
              "      <th>Ġa</th>\n",
              "      <td>0.926</td>\n",
              "      <td>0.063</td>\n",
              "      <td>0.011</td>\n",
              "      <td>0.000</td>\n",
              "      <td>0.000</td>\n",
              "    </tr>\n",
              "    <tr>\n",
              "      <th>Ġgreat</th>\n",
              "      <td>0.899</td>\n",
              "      <td>0.072</td>\n",
              "      <td>0.010</td>\n",
              "      <td>0.019</td>\n",
              "      <td>0.000</td>\n",
              "    </tr>\n",
              "    <tr>\n",
              "      <th>ĠCountry</th>\n",
              "      <td>0.986</td>\n",
              "      <td>0.006</td>\n",
              "      <td>0.001</td>\n",
              "      <td>0.001</td>\n",
              "      <td>0.006</td>\n",
              "    </tr>\n",
              "  </tbody>\n",
              "</table>\n",
              "</div>\n",
              "    <div class=\"colab-df-buttons\">\n",
              "\n",
              "  <div class=\"colab-df-container\">\n",
              "    <button class=\"colab-df-convert\" onclick=\"convertToInteractive('df-175fc33f-8de0-4f0a-a7bf-693137c72e1d')\"\n",
              "            title=\"Convert this dataframe to an interactive table.\"\n",
              "            style=\"display:none;\">\n",
              "\n",
              "  <svg xmlns=\"http://www.w3.org/2000/svg\" height=\"24px\" viewBox=\"0 -960 960 960\">\n",
              "    <path d=\"M120-120v-720h720v720H120Zm60-500h600v-160H180v160Zm220 220h160v-160H400v160Zm0 220h160v-160H400v160ZM180-400h160v-160H180v160Zm440 0h160v-160H620v160ZM180-180h160v-160H180v160Zm440 0h160v-160H620v160Z\"/>\n",
              "  </svg>\n",
              "    </button>\n",
              "\n",
              "  <style>\n",
              "    .colab-df-container {\n",
              "      display:flex;\n",
              "      gap: 12px;\n",
              "    }\n",
              "\n",
              "    .colab-df-convert {\n",
              "      background-color: #E8F0FE;\n",
              "      border: none;\n",
              "      border-radius: 50%;\n",
              "      cursor: pointer;\n",
              "      display: none;\n",
              "      fill: #1967D2;\n",
              "      height: 32px;\n",
              "      padding: 0 0 0 0;\n",
              "      width: 32px;\n",
              "    }\n",
              "\n",
              "    .colab-df-convert:hover {\n",
              "      background-color: #E2EBFA;\n",
              "      box-shadow: 0px 1px 2px rgba(60, 64, 67, 0.3), 0px 1px 3px 1px rgba(60, 64, 67, 0.15);\n",
              "      fill: #174EA6;\n",
              "    }\n",
              "\n",
              "    .colab-df-buttons div {\n",
              "      margin-bottom: 4px;\n",
              "    }\n",
              "\n",
              "    [theme=dark] .colab-df-convert {\n",
              "      background-color: #3B4455;\n",
              "      fill: #D2E3FC;\n",
              "    }\n",
              "\n",
              "    [theme=dark] .colab-df-convert:hover {\n",
              "      background-color: #434B5C;\n",
              "      box-shadow: 0px 1px 3px 1px rgba(0, 0, 0, 0.15);\n",
              "      filter: drop-shadow(0px 1px 2px rgba(0, 0, 0, 0.3));\n",
              "      fill: #FFFFFF;\n",
              "    }\n",
              "  </style>\n",
              "\n",
              "    <script>\n",
              "      const buttonEl =\n",
              "        document.querySelector('#df-175fc33f-8de0-4f0a-a7bf-693137c72e1d button.colab-df-convert');\n",
              "      buttonEl.style.display =\n",
              "        google.colab.kernel.accessAllowed ? 'block' : 'none';\n",
              "\n",
              "      async function convertToInteractive(key) {\n",
              "        const element = document.querySelector('#df-175fc33f-8de0-4f0a-a7bf-693137c72e1d');\n",
              "        const dataTable =\n",
              "          await google.colab.kernel.invokeFunction('convertToInteractive',\n",
              "                                                    [key], {});\n",
              "        if (!dataTable) return;\n",
              "\n",
              "        const docLinkHtml = 'Like what you see? Visit the ' +\n",
              "          '<a target=\"_blank\" href=https://colab.research.google.com/notebooks/data_table.ipynb>data table notebook</a>'\n",
              "          + ' to learn more about interactive tables.';\n",
              "        element.innerHTML = '';\n",
              "        dataTable['output_type'] = 'display_data';\n",
              "        await google.colab.output.renderOutput(dataTable, element);\n",
              "        const docLink = document.createElement('div');\n",
              "        docLink.innerHTML = docLinkHtml;\n",
              "        element.appendChild(docLink);\n",
              "      }\n",
              "    </script>\n",
              "  </div>\n",
              "\n",
              "\n",
              "<div id=\"df-0fce6cfb-51ea-49c5-969b-443c4088b4f3\">\n",
              "  <button class=\"colab-df-quickchart\" onclick=\"quickchart('df-0fce6cfb-51ea-49c5-969b-443c4088b4f3')\"\n",
              "            title=\"Suggest charts\"\n",
              "            style=\"display:none;\">\n",
              "\n",
              "<svg xmlns=\"http://www.w3.org/2000/svg\" height=\"24px\"viewBox=\"0 0 24 24\"\n",
              "     width=\"24px\">\n",
              "    <g>\n",
              "        <path d=\"M19 3H5c-1.1 0-2 .9-2 2v14c0 1.1.9 2 2 2h14c1.1 0 2-.9 2-2V5c0-1.1-.9-2-2-2zM9 17H7v-7h2v7zm4 0h-2V7h2v10zm4 0h-2v-4h2v4z\"/>\n",
              "    </g>\n",
              "</svg>\n",
              "  </button>\n",
              "\n",
              "<style>\n",
              "  .colab-df-quickchart {\n",
              "      --bg-color: #E8F0FE;\n",
              "      --fill-color: #1967D2;\n",
              "      --hover-bg-color: #E2EBFA;\n",
              "      --hover-fill-color: #174EA6;\n",
              "      --disabled-fill-color: #AAA;\n",
              "      --disabled-bg-color: #DDD;\n",
              "  }\n",
              "\n",
              "  [theme=dark] .colab-df-quickchart {\n",
              "      --bg-color: #3B4455;\n",
              "      --fill-color: #D2E3FC;\n",
              "      --hover-bg-color: #434B5C;\n",
              "      --hover-fill-color: #FFFFFF;\n",
              "      --disabled-bg-color: #3B4455;\n",
              "      --disabled-fill-color: #666;\n",
              "  }\n",
              "\n",
              "  .colab-df-quickchart {\n",
              "    background-color: var(--bg-color);\n",
              "    border: none;\n",
              "    border-radius: 50%;\n",
              "    cursor: pointer;\n",
              "    display: none;\n",
              "    fill: var(--fill-color);\n",
              "    height: 32px;\n",
              "    padding: 0;\n",
              "    width: 32px;\n",
              "  }\n",
              "\n",
              "  .colab-df-quickchart:hover {\n",
              "    background-color: var(--hover-bg-color);\n",
              "    box-shadow: 0 1px 2px rgba(60, 64, 67, 0.3), 0 1px 3px 1px rgba(60, 64, 67, 0.15);\n",
              "    fill: var(--button-hover-fill-color);\n",
              "  }\n",
              "\n",
              "  .colab-df-quickchart-complete:disabled,\n",
              "  .colab-df-quickchart-complete:disabled:hover {\n",
              "    background-color: var(--disabled-bg-color);\n",
              "    fill: var(--disabled-fill-color);\n",
              "    box-shadow: none;\n",
              "  }\n",
              "\n",
              "  .colab-df-spinner {\n",
              "    border: 2px solid var(--fill-color);\n",
              "    border-color: transparent;\n",
              "    border-bottom-color: var(--fill-color);\n",
              "    animation:\n",
              "      spin 1s steps(1) infinite;\n",
              "  }\n",
              "\n",
              "  @keyframes spin {\n",
              "    0% {\n",
              "      border-color: transparent;\n",
              "      border-bottom-color: var(--fill-color);\n",
              "      border-left-color: var(--fill-color);\n",
              "    }\n",
              "    20% {\n",
              "      border-color: transparent;\n",
              "      border-left-color: var(--fill-color);\n",
              "      border-top-color: var(--fill-color);\n",
              "    }\n",
              "    30% {\n",
              "      border-color: transparent;\n",
              "      border-left-color: var(--fill-color);\n",
              "      border-top-color: var(--fill-color);\n",
              "      border-right-color: var(--fill-color);\n",
              "    }\n",
              "    40% {\n",
              "      border-color: transparent;\n",
              "      border-right-color: var(--fill-color);\n",
              "      border-top-color: var(--fill-color);\n",
              "    }\n",
              "    60% {\n",
              "      border-color: transparent;\n",
              "      border-right-color: var(--fill-color);\n",
              "    }\n",
              "    80% {\n",
              "      border-color: transparent;\n",
              "      border-right-color: var(--fill-color);\n",
              "      border-bottom-color: var(--fill-color);\n",
              "    }\n",
              "    90% {\n",
              "      border-color: transparent;\n",
              "      border-bottom-color: var(--fill-color);\n",
              "    }\n",
              "  }\n",
              "</style>\n",
              "\n",
              "  <script>\n",
              "    async function quickchart(key) {\n",
              "      const quickchartButtonEl =\n",
              "        document.querySelector('#' + key + ' button');\n",
              "      quickchartButtonEl.disabled = true;  // To prevent multiple clicks.\n",
              "      quickchartButtonEl.classList.add('colab-df-spinner');\n",
              "      try {\n",
              "        const charts = await google.colab.kernel.invokeFunction(\n",
              "            'suggestCharts', [key], {});\n",
              "      } catch (error) {\n",
              "        console.error('Error during call to suggestCharts:', error);\n",
              "      }\n",
              "      quickchartButtonEl.classList.remove('colab-df-spinner');\n",
              "      quickchartButtonEl.classList.add('colab-df-quickchart-complete');\n",
              "    }\n",
              "    (() => {\n",
              "      let quickchartButtonEl =\n",
              "        document.querySelector('#df-0fce6cfb-51ea-49c5-969b-443c4088b4f3 button');\n",
              "      quickchartButtonEl.style.display =\n",
              "        google.colab.kernel.accessAllowed ? 'block' : 'none';\n",
              "    })();\n",
              "  </script>\n",
              "</div>\n",
              "\n",
              "  <div id=\"id_2e821002-97bd-4207-8ccb-755ca420991f\">\n",
              "    <style>\n",
              "      .colab-df-generate {\n",
              "        background-color: #E8F0FE;\n",
              "        border: none;\n",
              "        border-radius: 50%;\n",
              "        cursor: pointer;\n",
              "        display: none;\n",
              "        fill: #1967D2;\n",
              "        height: 32px;\n",
              "        padding: 0 0 0 0;\n",
              "        width: 32px;\n",
              "      }\n",
              "\n",
              "      .colab-df-generate:hover {\n",
              "        background-color: #E2EBFA;\n",
              "        box-shadow: 0px 1px 2px rgba(60, 64, 67, 0.3), 0px 1px 3px 1px rgba(60, 64, 67, 0.15);\n",
              "        fill: #174EA6;\n",
              "      }\n",
              "\n",
              "      [theme=dark] .colab-df-generate {\n",
              "        background-color: #3B4455;\n",
              "        fill: #D2E3FC;\n",
              "      }\n",
              "\n",
              "      [theme=dark] .colab-df-generate:hover {\n",
              "        background-color: #434B5C;\n",
              "        box-shadow: 0px 1px 3px 1px rgba(0, 0, 0, 0.15);\n",
              "        filter: drop-shadow(0px 1px 2px rgba(0, 0, 0, 0.3));\n",
              "        fill: #FFFFFF;\n",
              "      }\n",
              "    </style>\n",
              "    <button class=\"colab-df-generate\" onclick=\"generateWithVariable('att_df')\"\n",
              "            title=\"Generate code using this dataframe.\"\n",
              "            style=\"display:none;\">\n",
              "\n",
              "  <svg xmlns=\"http://www.w3.org/2000/svg\" height=\"24px\"viewBox=\"0 0 24 24\"\n",
              "       width=\"24px\">\n",
              "    <path d=\"M7,19H8.4L18.45,9,17,7.55,7,17.6ZM5,21V16.75L18.45,3.32a2,2,0,0,1,2.83,0l1.4,1.43a1.91,1.91,0,0,1,.58,1.4,1.91,1.91,0,0,1-.58,1.4L9.25,21ZM18.45,9,17,7.55Zm-12,3A5.31,5.31,0,0,0,4.9,8.1,5.31,5.31,0,0,0,1,6.5,5.31,5.31,0,0,0,4.9,4.9,5.31,5.31,0,0,0,6.5,1,5.31,5.31,0,0,0,8.1,4.9,5.31,5.31,0,0,0,12,6.5,5.46,5.46,0,0,0,6.5,12Z\"/>\n",
              "  </svg>\n",
              "    </button>\n",
              "    <script>\n",
              "      (() => {\n",
              "      const buttonEl =\n",
              "        document.querySelector('#id_2e821002-97bd-4207-8ccb-755ca420991f button.colab-df-generate');\n",
              "      buttonEl.style.display =\n",
              "        google.colab.kernel.accessAllowed ? 'block' : 'none';\n",
              "\n",
              "      buttonEl.onclick = () => {\n",
              "        google.colab.notebook.generateWithVariable('att_df');\n",
              "      }\n",
              "      })();\n",
              "    </script>\n",
              "  </div>\n",
              "\n",
              "    </div>\n",
              "  </div>\n"
            ],
            "application/vnd.google.colaboratory.intrinsic+json": {
              "type": "dataframe",
              "variable_name": "att_df",
              "summary": "{\n  \"name\": \"att_df\",\n  \"rows\": 5,\n  \"fields\": [\n    {\n      \"column\": \"India\",\n      \"properties\": {\n        \"dtype\": \"number\",\n        \"std\": 0.04328394700609317,\n        \"min\": 0.8989999890327454,\n        \"max\": 1.0,\n        \"num_unique_values\": 5,\n        \"samples\": [\n          0.9789999723434448,\n          0.9860000014305115,\n          0.9259999990463257\n        ],\n        \"semantic_type\": \"\",\n        \"description\": \"\"\n      }\n    },\n    {\n      \"column\": \"\\u0120is\",\n      \"properties\": {\n        \"dtype\": \"number\",\n        \"std\": 0.03309531621029765,\n        \"min\": 0.0,\n        \"max\": 0.07199999690055847,\n        \"num_unique_values\": 5,\n        \"samples\": [\n          0.020999999716877937,\n          0.006000000052154064,\n          0.06300000101327896\n        ],\n        \"semantic_type\": \"\",\n        \"description\": \"\"\n      }\n    },\n    {\n      \"column\": \"\\u0120a\",\n      \"properties\": {\n        \"dtype\": \"number\",\n        \"std\": 0.005594640211551611,\n        \"min\": 0.0,\n        \"max\": 0.010999999940395355,\n        \"num_unique_values\": 4,\n        \"samples\": [\n          0.010999999940395355,\n          0.0010000000474974513,\n          0.0\n        ],\n        \"semantic_type\": \"\",\n        \"description\": \"\"\n      }\n    },\n    {\n      \"column\": \"\\u0120great\",\n      \"properties\": {\n        \"dtype\": \"number\",\n        \"std\": 0.00839642753477018,\n        \"min\": 0.0,\n        \"max\": 0.01899999938905239,\n        \"num_unique_values\": 3,\n        \"samples\": [\n          0.0,\n          0.01899999938905239,\n          0.0010000000474974513\n        ],\n        \"semantic_type\": \"\",\n        \"description\": \"\"\n      }\n    },\n    {\n      \"column\": \"\\u0120Country\",\n      \"properties\": {\n        \"dtype\": \"number\",\n        \"std\": 0.002683281596323754,\n        \"min\": 0.0,\n        \"max\": 0.006000000052154064,\n        \"num_unique_values\": 2,\n        \"samples\": [\n          0.006000000052154064,\n          0.0\n        ],\n        \"semantic_type\": \"\",\n        \"description\": \"\"\n      }\n    }\n  ]\n}"
            }
          },
          "metadata": {},
          "execution_count": 52
        }
      ]
    },
    {
      "cell_type": "code",
      "source": [
        "tokens = tokenizer.convert_ids_to_tokens(encoded_query['input_ids'][0])\n",
        "model_view(response.attentions, tokens)"
      ],
      "metadata": {
        "colab": {
          "base_uri": "https://localhost:8080/",
          "height": 600
        },
        "id": "eT0dJS82mb3V",
        "outputId": "c63d9916-057d-484f-b8ae-44b95aa32d98"
      },
      "execution_count": 55,
      "outputs": [
        {
          "output_type": "display_data",
          "data": {
            "text/plain": [
              "<IPython.core.display.HTML object>"
            ],
            "text/html": [
              "<script src=\"https://cdnjs.cloudflare.com/ajax/libs/require.js/2.3.6/require.min.js\"></script>"
            ]
          },
          "metadata": {}
        },
        {
          "output_type": "display_data",
          "data": {
            "text/plain": [
              "<IPython.core.display.HTML object>"
            ],
            "text/html": [
              "      \n",
              "        <div id=\"bertviz-bdbf3612a18d4904a742aadabd36e5e7\" style=\"font-family:'Helvetica Neue', Helvetica, Arial, sans-serif;\">\n",
              "            <span style=\"user-select:none\">\n",
              "                \n",
              "            </span>\n",
              "            <div id='vis'></div>\n",
              "        </div>\n",
              "    "
            ]
          },
          "metadata": {}
        },
        {
          "output_type": "display_data",
          "data": {
            "text/plain": [
              "<IPython.core.display.Javascript object>"
            ],
            "application/javascript": [
              "/**\n",
              " * @fileoverview Transformer Visualization D3 javascript code.\n",
              " *\n",
              " * Based on: https://github.com/tensorflow/tensor2tensor/blob/master/tensor2tensor/visualization/attention.js\n",
              " *\n",
              " * Change log:\n",
              " *\n",
              " * 02/01/19  Jesse Vig   Initial implementation\n",
              " * 12/31/20  Jesse Vig   Support multiple visualizations in single notebook.\n",
              " * 01/19/21  Jesse Vig   Support light/dark modes\n",
              " * 02/06/21  Jesse Vig   Move require config from separate jupyter notebook step\n",
              " * 05/03/21  Jesse Vig   Adjust visualization height dynamically\n",
              " * 03/23/22  Daniel SC   Update requirement URLs for d3 and jQuery (source of bug not allowing end result to be displayed on browsers)\n",
              " **/\n",
              "\n",
              "require.config({\n",
              "  paths: {\n",
              "      d3: 'https://cdnjs.cloudflare.com/ajax/libs/d3/5.7.0/d3.min',\n",
              "    jquery: 'https://cdnjs.cloudflare.com/ajax/libs/jquery/2.0.0/jquery.min',\n",
              "  }\n",
              "});\n",
              "\n",
              "requirejs(['jquery', 'd3'], function($, d3) {\n",
              "\n",
              "        const params = {\"attention\": [{\"name\": null, \"attn\": [[[[1.0, 0.0, 0.0, 0.0, 0.0], [0.9314970374107361, 0.06850293278694153, 0.0, 0.0, 0.0], [0.7735617160797119, 0.15032027661800385, 0.07611793279647827, 0.0, 0.0], [0.6327985525131226, 0.14604946970939636, 0.1181209608912468, 0.1030309647321701, 0.0], [0.48397958278656006, 0.12581458687782288, 0.19246378540992737, 0.07333438098430634, 0.12440764904022217]], [[1.0, 0.0, 0.0, 0.0, 0.0], [0.005524531006813049, 0.9944754242897034, 0.0, 0.0, 0.0], [0.0008501465199515224, 0.003736163256689906, 0.9954137206077576, 0.0, 0.0], [0.0004929049173370004, 0.000890064868144691, 0.0018746941350400448, 0.996742308139801, 0.0], [0.001635312451981008, 0.0003353282227180898, 0.00027844050782732666, 0.00013447525270748883, 0.9976165294647217]], [[1.0, 0.0, 0.0, 0.0, 0.0], [0.8215767741203308, 0.178423210978508, 0.0, 0.0, 0.0], [0.6831080913543701, 0.2339867502450943, 0.08290515840053558, 0.0, 0.0], [0.6280577182769775, 0.15270309150218964, 0.12683068215847015, 0.09240854531526566, 0.0], [0.5079553127288818, 0.15650612115859985, 0.15667656064033508, 0.10029785335063934, 0.07856418937444687]], [[1.0, 0.0, 0.0, 0.0, 0.0], [0.49006888270378113, 0.5099310874938965, 0.0, 0.0, 0.0], [0.1425812840461731, 0.21102629601955414, 0.6463924050331116, 0.0, 0.0], [0.012902564369142056, 0.0008299057371914387, 0.0020182726439088583, 0.9842492938041687, 0.0], [0.024493716657161713, 0.00039934826781973243, 0.000434975721873343, 0.010687384754419327, 0.9639845490455627]], [[1.0, 0.0, 0.0, 0.0, 0.0], [0.9684445858001709, 0.031555406749248505, 0.0, 0.0, 0.0], [0.5087681412696838, 0.2861602306365967, 0.2050715684890747, 0.0, 0.0], [0.23873615264892578, 0.049243684858083725, 0.05267329886555672, 0.659346878528595, 0.0], [0.34745532274246216, 0.004146520514041185, 0.007011852692812681, 0.044412508606910706, 0.596973717212677]], [[1.0, 0.0, 0.0, 0.0, 0.0], [0.20778164267539978, 0.7922183871269226, 0.0, 0.0, 0.0], [0.12846806645393372, 0.11196671426296234, 0.7595652341842651, 0.0, 0.0], [0.06763464212417603, 0.00020328586106188595, 0.0001777794532245025, 0.9319843053817749, 0.0], [0.12758997082710266, 5.402039732871344e-06, 2.9671480206161505e-06, 1.2501788660301827e-05, 0.8723891377449036]], [[1.0, 0.0, 0.0, 0.0, 0.0], [0.979850709438324, 0.020149214193224907, 0.0, 0.0, 0.0], [0.9158893823623657, 0.06301918625831604, 0.021091440692543983, 0.0, 0.0], [0.7145859003067017, 0.060205910354852676, 0.04046480357646942, 0.1847434788942337, 0.0], [0.7444183826446533, 0.03927422687411308, 0.0688536986708641, 0.04388643428683281, 0.10356730967760086]], [[1.0, 0.0, 0.0, 0.0, 0.0], [0.9450804591178894, 0.054919518530368805, 0.0, 0.0, 0.0], [0.4235289394855499, 0.36568114161491394, 0.21078996360301971, 0.0, 0.0], [0.3207867443561554, 0.264219731092453, 0.289641797542572, 0.12535180151462555, 0.0], [0.3304987847805023, 0.19913350045681, 0.1939345896244049, 0.17826849222183228, 0.0981646478176117]], [[1.0, 0.0, 0.0, 0.0, 0.0], [0.35587698221206665, 0.6441230177879333, 0.0, 0.0, 0.0], [0.056039851158857346, 0.2944324314594269, 0.6495277285575867, 0.0, 0.0], [0.16832034289836884, 0.33530277013778687, 0.4250240623950958, 0.07135282456874847, 0.0], [0.30277204513549805, 0.1687849909067154, 0.19825291633605957, 0.23040936887264252, 0.09978073835372925]], [[1.0, 0.0, 0.0, 0.0, 0.0], [0.6966164708137512, 0.3033834993839264, 0.0, 0.0, 0.0], [0.4969775378704071, 0.2440987378358841, 0.25892373919487, 0.0, 0.0], [0.3993378281593323, 0.22860835492610931, 0.23708908259868622, 0.13496476411819458, 0.0], [0.4293574392795563, 0.19629299640655518, 0.20089098811149597, 0.13396002352237701, 0.03949856385588646]], [[1.0, 0.0, 0.0, 0.0, 0.0], [0.6031072735786438, 0.396892786026001, 0.0, 0.0, 0.0], [0.42501911520957947, 0.21913021802902222, 0.3558507263660431, 0.0, 0.0], [0.349791944026947, 0.16019567847251892, 0.17016489803791046, 0.3198474943637848, 0.0], [0.4067686200141907, 0.12630075216293335, 0.13958200812339783, 0.07781664282083511, 0.24953190982341766]], [[1.0, 0.0, 0.0, 0.0, 0.0], [0.6698073148727417, 0.3301927149295807, 0.0, 0.0, 0.0], [0.5597485899925232, 0.23635996878147125, 0.20389138162136078, 0.0, 0.0], [0.6472850441932678, 0.10351178050041199, 0.08920180797576904, 0.16000127792358398, 0.0], [0.44871196150779724, 0.14376290142536163, 0.10104916989803314, 0.1400846540927887, 0.16639137268066406]]], [[[1.0, 0.0, 0.0, 0.0, 0.0], [0.9858139157295227, 0.014186063781380653, 0.0, 0.0, 0.0], [0.6232442259788513, 0.2645981013774872, 0.1121576651930809, 0.0, 0.0], [0.2770072817802429, 0.16822049021720886, 0.44462457299232483, 0.11014765501022339, 0.0], [0.33624714612960815, 0.1297377347946167, 0.22291670739650726, 0.1911645382642746, 0.11993386596441269]], [[1.0, 0.0, 0.0, 0.0, 0.0], [0.945072591304779, 0.054927412420511246, 0.0, 0.0, 0.0], [0.63279128074646, 0.24857035279273987, 0.11863836646080017, 0.0, 0.0], [0.4736942946910858, 0.23251786828041077, 0.1981140673160553, 0.09567379206418991, 0.0], [0.4156421422958374, 0.1906278133392334, 0.15170417726039886, 0.14368359744548798, 0.0983421728014946]], [[1.0, 0.0, 0.0, 0.0, 0.0], [0.9708918929100037, 0.029108094051480293, 0.0, 0.0, 0.0], [0.6929373145103455, 0.06384460628032684, 0.2432180792093277, 0.0, 0.0], [0.544383704662323, 0.07124128937721252, 0.2261342853307724, 0.15824072062969208, 0.0], [0.4333871603012085, 0.07560458034276962, 0.21789781749248505, 0.13956399261951447, 0.13354645669460297]], [[1.0, 0.0, 0.0, 0.0, 0.0], [0.5783824920654297, 0.4216175079345703, 0.0, 0.0, 0.0], [0.5751909017562866, 0.21293681859970093, 0.21187229454517365, 0.0, 0.0], [0.5887136459350586, 0.1352057009935379, 0.13642792403697968, 0.1396527886390686, 0.0], [0.5154822468757629, 0.1193343922495842, 0.11552109569311142, 0.11684902012348175, 0.13281314074993134]], [[1.0, 0.0, 0.0, 0.0, 0.0], [0.9324203133583069, 0.06757969409227371, 0.0, 0.0, 0.0], [0.8211411237716675, 0.08615073561668396, 0.09270808100700378, 0.0, 0.0], [0.7467411756515503, 0.07934105396270752, 0.07670199126005173, 0.09721586108207703, 0.0], [0.6637581586837769, 0.08057867735624313, 0.07116086781024933, 0.0778772383928299, 0.10662508010864258]], [[1.0, 0.0, 0.0, 0.0, 0.0], [0.816625714302063, 0.18337424099445343, 0.0, 0.0, 0.0], [0.7275235056877136, 0.17683610320091248, 0.09564041346311569, 0.0, 0.0], [0.48182788491249084, 0.19665741920471191, 0.16423974931240082, 0.1572750210762024, 0.0], [0.5505788326263428, 0.12182921171188354, 0.16344065964221954, 0.0459701269865036, 0.11818119883537292]], [[1.0, 0.0, 0.0, 0.0, 0.0], [0.9865819215774536, 0.013418132439255714, 0.0, 0.0, 0.0], [0.8673278093338013, 0.060638491064310074, 0.07203377038240433, 0.0, 0.0], [0.8024295568466187, 0.07571195811033249, 0.05318005755543709, 0.06867841631174088, 0.0], [0.8436864614486694, 0.07994477450847626, 0.040207892656326294, 0.020632928237318993, 0.015528049319982529]], [[1.0, 0.0, 0.0, 0.0, 0.0], [0.9769996404647827, 0.023000340908765793, 0.0, 0.0, 0.0], [0.866909384727478, 0.05180545151233673, 0.08128519356250763, 0.0, 0.0], [0.7967742085456848, 0.056772567331790924, 0.05793798342347145, 0.08851522207260132, 0.0], [0.7260745763778687, 0.0668284222483635, 0.0628705620765686, 0.0839296504855156, 0.06029679626226425]], [[1.0, 0.0, 0.0, 0.0, 0.0], [0.8308724761009216, 0.16912756860256195, 0.0, 0.0, 0.0], [0.6991808414459229, 0.15286946296691895, 0.14794975519180298, 0.0, 0.0], [0.6090408563613892, 0.16072267293930054, 0.16035448014736176, 0.06988193839788437, 0.0], [0.49890485405921936, 0.1887882798910141, 0.15848684310913086, 0.07958367466926575, 0.07423637807369232]], [[1.0, 0.0, 0.0, 0.0, 0.0], [0.8777244091033936, 0.12227558344602585, 0.0, 0.0, 0.0], [0.7012527585029602, 0.15124377608299255, 0.14750343561172485, 0.0, 0.0], [0.6206315159797668, 0.14778853952884674, 0.18721821904182434, 0.044361721724271774, 0.0], [0.5939894914627075, 0.17308658361434937, 0.1283898502588272, 0.07486769556999207, 0.02966638281941414]], [[1.0, 0.0, 0.0, 0.0, 0.0], [0.00021961012680549175, 0.9997803568840027, 0.0, 0.0, 0.0], [0.0007343346369452775, 0.5728797316551208, 0.42638590931892395, 0.0, 0.0], [0.0007523265085183084, 0.3728030323982239, 0.2772420048713684, 0.3492026925086975, 0.0], [0.0007575854542665184, 0.2646121084690094, 0.19796425104141235, 0.24206824600696564, 0.294597864151001]], [[1.0, 0.0, 0.0, 0.0, 0.0], [0.5674086213111877, 0.43259137868881226, 0.0, 0.0, 0.0], [0.1740359216928482, 0.01878875121474266, 0.8071752786636353, 0.0, 0.0], [0.07125518471002579, 0.01719956286251545, 0.011713536456227303, 0.8998317122459412, 0.0], [0.1748582422733307, 0.018323436379432678, 0.004001493565738201, 0.003574025584384799, 0.7992427945137024]]], [[[1.0, 0.0, 0.0, 0.0, 0.0], [0.9385062456130981, 0.06149375066161156, 0.0, 0.0, 0.0], [0.8313171863555908, 0.07635167241096497, 0.0923311859369278, 0.0, 0.0], [0.6626035571098328, 0.10435152053833008, 0.09078065305948257, 0.1422642171382904, 0.0], [0.4828358292579651, 0.12637776136398315, 0.10059535503387451, 0.20681491494178772, 0.0833762139081955]], [[1.0, 0.0, 0.0, 0.0, 0.0], [0.9976378679275513, 0.002362113445997238, 0.0, 0.0, 0.0], [0.972345232963562, 0.004629582166671753, 0.023025278002023697, 0.0, 0.0], [0.9754291772842407, 0.003480138024315238, 0.013973056338727474, 0.007117652799934149, 0.0], [0.8898910880088806, 0.015810737386345863, 0.06431863456964493, 0.021066009998321533, 0.008913528174161911]], [[1.0, 0.0, 0.0, 0.0, 0.0], [0.995613694190979, 0.004386333283036947, 0.0, 0.0, 0.0], [0.1969875991344452, 0.7543004155158997, 0.048711977899074554, 0.0, 0.0], [0.1706627756357193, 0.28606516122817993, 0.44343435764312744, 0.09983774274587631, 0.0], [0.1498628407716751, 0.3242799937725067, 0.19022737443447113, 0.24435722827911377, 0.09127248823642731]], [[1.0, 0.0, 0.0, 0.0, 0.0], [0.9851250648498535, 0.014874964952468872, 0.0, 0.0, 0.0], [0.7048370242118835, 0.12012600898742676, 0.1750369369983673, 0.0, 0.0], [0.32465752959251404, 0.08213470876216888, 0.4759621322154999, 0.11724556237459183, 0.0], [0.18835873901844025, 0.08248536288738251, 0.2713216543197632, 0.40075141191482544, 0.0570828951895237]], [[1.0, 0.0, 0.0, 0.0, 0.0], [0.9822931885719299, 0.017706824466586113, 0.0, 0.0, 0.0], [0.5682594180107117, 0.35339853167533875, 0.0783420205116272, 0.0, 0.0], [0.5190126299858093, 0.26456695795059204, 0.17790576815605164, 0.03851458057761192, 0.0], [0.5598583817481995, 0.13412030041217804, 0.21233636140823364, 0.07335320115089417, 0.020331738516688347]], [[1.0, 0.0, 0.0, 0.0, 0.0], [0.96181720495224, 0.03818277269601822, 0.0, 0.0, 0.0], [0.5418679118156433, 0.38792410492897034, 0.07020804286003113, 0.0, 0.0], [0.46825313568115234, 0.34118810296058655, 0.15366391837596893, 0.0368947833776474, 0.0], [0.3196079134941101, 0.2701168656349182, 0.21916033327579498, 0.1047426164150238, 0.08637220412492752]], [[1.0, 0.0, 0.0, 0.0, 0.0], [0.9716516733169556, 0.028348375111818314, 0.0, 0.0, 0.0], [0.889674961566925, 0.04633518308401108, 0.06398989260196686, 0.0, 0.0], [0.8540332913398743, 0.03595016151666641, 0.05985693633556366, 0.050159577280282974, 0.0], [0.8311740159988403, 0.03668005019426346, 0.062129657715559006, 0.04929698631167412, 0.02071927860379219]], [[1.0, 0.0, 0.0, 0.0, 0.0], [0.784643292427063, 0.21535669267177582, 0.0, 0.0, 0.0], [0.6111958622932434, 0.09701979160308838, 0.2917843163013458, 0.0, 0.0], [0.49012529850006104, 0.059808675199747086, 0.16166968643665314, 0.28839632868766785, 0.0], [0.3245253264904022, 0.04605673626065254, 0.10160806775093079, 0.17000284790992737, 0.3578070402145386]], [[1.0, 0.0, 0.0, 0.0, 0.0], [0.9084987640380859, 0.09150118380784988, 0.0, 0.0, 0.0], [0.44531115889549255, 0.5094339847564697, 0.04525481536984444, 0.0, 0.0], [0.3214479088783264, 0.4837445318698883, 0.1487346887588501, 0.04607293754816055, 0.0], [0.2305348962545395, 0.2519959509372711, 0.13137276470661163, 0.3265228867530823, 0.05957361310720444]], [[1.0, 0.0, 0.0, 0.0, 0.0], [0.9974046349525452, 0.002595386002212763, 0.0, 0.0, 0.0], [0.9410036206245422, 0.03778308629989624, 0.021213235333561897, 0.0, 0.0], [0.6777194738388062, 0.06116452068090439, 0.07017477601766586, 0.1909412294626236, 0.0], [0.17218312621116638, 0.05309019610285759, 0.03879319503903389, 0.5280145406723022, 0.2079189121723175]], [[1.0, 0.0, 0.0, 0.0, 0.0], [0.8950594067573547, 0.10494052618741989, 0.0, 0.0, 0.0], [0.7931686639785767, 0.10704260319471359, 0.09978879243135452, 0.0, 0.0], [0.6836857795715332, 0.08404690027236938, 0.07881822437047958, 0.15344899892807007, 0.0], [0.4972858130931854, 0.09083180129528046, 0.07737991958856583, 0.1366271823644638, 0.19787530601024628]], [[1.0, 0.0, 0.0, 0.0, 0.0], [0.9568899273872375, 0.043110109865665436, 0.0, 0.0, 0.0], [0.8824918866157532, 0.05237056314945221, 0.06513756513595581, 0.0, 0.0], [0.8456559777259827, 0.037726037204265594, 0.04756077751517296, 0.0690571665763855, 0.0], [0.7923400402069092, 0.03444049879908562, 0.03881877660751343, 0.05300145223736763, 0.08139920234680176]]], [[[1.0, 0.0, 0.0, 0.0, 0.0], [0.9914970993995667, 0.008502904325723648, 0.0, 0.0, 0.0], [0.9794747829437256, 0.009341908618807793, 0.011183296330273151, 0.0, 0.0], [0.9576793909072876, 0.0029061101377010345, 0.003340976545587182, 0.036073364317417145, 0.0], [0.819072961807251, 0.01357999350875616, 0.007247727829962969, 0.00012365190195851028, 0.15997572243213654]], [[1.0, 0.0, 0.0, 0.0, 0.0], [0.9471339583396912, 0.05286603420972824, 0.0, 0.0, 0.0], [0.8317363262176514, 0.11450578272342682, 0.05375788360834122, 0.0, 0.0], [0.8168941140174866, 0.0751349925994873, 0.08948192745447159, 0.01848900504410267, 0.0], [0.4904133677482605, 0.15603289008140564, 0.22442784905433655, 0.061759889125823975, 0.06736607104539871]], [[1.0, 0.0, 0.0, 0.0, 0.0], [0.917635977268219, 0.08236405998468399, 0.0, 0.0, 0.0], [0.19939133524894714, 0.6687461733818054, 0.13186250627040863, 0.0, 0.0], [0.2052014023065567, 0.2530120015144348, 0.4917945861816406, 0.049992069602012634, 0.0], [0.14207527041435242, 0.12033171206712723, 0.5861611366271973, 0.11734195053577423, 0.0340898223221302]], [[1.0, 0.0, 0.0, 0.0, 0.0], [0.9894019961357117, 0.010598033666610718, 0.0, 0.0, 0.0], [0.7212564945220947, 0.1844106912612915, 0.09433284401893616, 0.0, 0.0], [0.7072129249572754, 0.06374674290418625, 0.19157619774341583, 0.037464141845703125, 0.0], [0.6633005142211914, 0.08169729262590408, 0.04970191791653633, 0.1825234442949295, 0.022776754572987556]], [[1.0, 0.0, 0.0, 0.0, 0.0], [0.9828065633773804, 0.017193470150232315, 0.0, 0.0, 0.0], [0.9596646428108215, 0.02893553487956524, 0.01139980461448431, 0.0, 0.0], [0.9529534578323364, 0.025059692561626434, 0.01213215570896864, 0.009854746982455254, 0.0], [0.8967634439468384, 0.04955416917800903, 0.019496846944093704, 0.005250876769423485, 0.028934627771377563]], [[1.0, 0.0, 0.0, 0.0, 0.0], [0.9809343218803406, 0.01906563527882099, 0.0, 0.0, 0.0], [0.8268190026283264, 0.09988756477832794, 0.07329349964857101, 0.0, 0.0], [0.8100382089614868, 0.0821668803691864, 0.08803237229585648, 0.019762566313147545, 0.0], [0.7134275436401367, 0.07608414441347122, 0.11497940123081207, 0.05103207752108574, 0.044476889073848724]], [[1.0, 0.0, 0.0, 0.0, 0.0], [0.9630342721939087, 0.036965809762477875, 0.0, 0.0, 0.0], [0.665534257888794, 0.2865700125694275, 0.04789579287171364, 0.0, 0.0], [0.4130164682865143, 0.20954157412052155, 0.17272770404815674, 0.20471425354480743, 0.0], [0.31350192427635193, 0.19456511735916138, 0.1559027135372162, 0.11588811129331589, 0.2201421856880188]], [[1.0, 0.0, 0.0, 0.0, 0.0], [0.9786257743835449, 0.021374166011810303, 0.0, 0.0, 0.0], [0.7424216866493225, 0.15546569228172302, 0.10211259126663208, 0.0, 0.0], [0.6415841579437256, 0.16142866015434265, 0.11996953934431076, 0.07701759785413742, 0.0], [0.19237208366394043, 0.07647648453712463, 0.05561443045735359, 0.5556693077087402, 0.11986774206161499]], [[1.0, 0.0, 0.0, 0.0, 0.0], [0.8125039339065552, 0.1874961405992508, 0.0, 0.0, 0.0], [0.4789270758628845, 0.46741968393325806, 0.05365324765443802, 0.0, 0.0], [0.49861079454421997, 0.35212868452072144, 0.07485568523406982, 0.07440486550331116, 0.0], [0.23621074855327606, 0.15844447910785675, 0.33646100759506226, 0.2588399350643158, 0.010043839924037457]], [[1.0, 0.0, 0.0, 0.0, 0.0], [0.9663172960281372, 0.033682722598314285, 0.0, 0.0, 0.0], [0.5905873775482178, 0.3271510899066925, 0.08226150274276733, 0.0, 0.0], [0.37612494826316833, 0.4346282184123993, 0.17237967252731323, 0.016867224127054214, 0.0], [0.5801442861557007, 0.10315541177988052, 0.21747322380542755, 0.0335828997194767, 0.06564413756132126]], [[1.0, 0.0, 0.0, 0.0, 0.0], [0.9927651286125183, 0.0072348592802882195, 0.0, 0.0, 0.0], [0.9333576560020447, 0.01155391987413168, 0.05508832260966301, 0.0, 0.0], [0.8197305798530579, 0.010554129257798195, 0.02501573972404003, 0.1446995735168457, 0.0], [0.7380537986755371, 0.030465982854366302, 0.02422448806464672, 0.0787624940276146, 0.12849320471286774]], [[1.0, 0.0, 0.0, 0.0, 0.0], [0.9820393919944763, 0.01796065829694271, 0.0, 0.0, 0.0], [0.8179248571395874, 0.08087176829576492, 0.10120333731174469, 0.0, 0.0], [0.5181639790534973, 0.1076226681470871, 0.11430568248033524, 0.25990766286849976, 0.0], [0.10437928885221481, 0.03424612432718277, 0.07318495959043503, 0.7627317309379578, 0.025457894429564476]]], [[[1.0, 0.0, 0.0, 0.0, 0.0], [0.975753128528595, 0.024246923625469208, 0.0, 0.0, 0.0], [0.568945586681366, 0.19765034317970276, 0.23340407013893127, 0.0, 0.0], [0.11135311424732208, 0.2546147406101227, 0.5970618724822998, 0.03697024658322334, 0.0], [0.14748118817806244, 0.30857646465301514, 0.4631687104701996, 0.05661259591579437, 0.024161003530025482]], [[1.0, 0.0, 0.0, 0.0, 0.0], [0.9818816781044006, 0.018118353560566902, 0.0, 0.0, 0.0], [0.7641651034355164, 0.21291697025299072, 0.022917918860912323, 0.0, 0.0], [0.7103517055511475, 0.16696330904960632, 0.09261655807495117, 0.03006848134100437, 0.0], [0.3634088635444641, 0.10612282902002335, 0.39736172556877136, 0.10399454832077026, 0.029112109914422035]], [[1.0, 0.0, 0.0, 0.0, 0.0], [0.9825044274330139, 0.017495550215244293, 0.0, 0.0, 0.0], [0.9030691981315613, 0.06086656078696251, 0.03606424853205681, 0.0, 0.0], [0.9376885890960693, 0.030858881771564484, 0.012813413515686989, 0.018639175221323967, 0.0], [0.8374911546707153, 0.028793495148420334, 0.048993948847055435, 0.054336342960596085, 0.030385039746761322]], [[1.0, 0.0, 0.0, 0.0, 0.0], [0.9468716979026794, 0.05312831327319145, 0.0, 0.0, 0.0], [0.5994351506233215, 0.37780943512916565, 0.022755440324544907, 0.0, 0.0], [0.4645691215991974, 0.49297821521759033, 0.03010898269712925, 0.012343657203018665, 0.0], [0.650721549987793, 0.0971280187368393, 0.03672228008508682, 0.0514800138771534, 0.1639481633901596]], [[1.0, 0.0, 0.0, 0.0, 0.0], [0.9530444741249084, 0.046955473721027374, 0.0, 0.0, 0.0], [0.8564093708992004, 0.05968554690480232, 0.08390513062477112, 0.0, 0.0], [0.8219773769378662, 0.04917187616229057, 0.08082462102174759, 0.048026081174612045, 0.0], [0.7922700047492981, 0.0514339916408062, 0.06818899512290955, 0.043181274086236954, 0.04492568224668503]], [[1.0, 0.0, 0.0, 0.0, 0.0], [0.9459723234176636, 0.05402764678001404, 0.0, 0.0, 0.0], [0.8863168358802795, 0.06701112538576126, 0.046671994030475616, 0.0, 0.0], [0.8527753353118896, 0.05487274006009102, 0.0425172820687294, 0.049834687262773514, 0.0], [0.5698708891868591, 0.08394379913806915, 0.15714289247989655, 0.14311540126800537, 0.04592705890536308]], [[1.0, 0.0, 0.0, 0.0, 0.0], [0.9588817358016968, 0.04111833497881889, 0.0, 0.0, 0.0], [0.7610076665878296, 0.18025141954421997, 0.05874095484614372, 0.0, 0.0], [0.742971658706665, 0.13297349214553833, 0.06735843420028687, 0.056696366518735886, 0.0], [0.6103684902191162, 0.09138213098049164, 0.08161983639001846, 0.17276914417743683, 0.043860360980033875]], [[1.0, 0.0, 0.0, 0.0, 0.0], [0.9971067309379578, 0.0028932238928973675, 0.0, 0.0, 0.0], [0.7067546844482422, 0.005089040845632553, 0.2881562411785126, 0.0, 0.0], [0.4436349868774414, 0.010812119580805302, 0.1277795135974884, 0.41777336597442627, 0.0], [0.17082101106643677, 0.003539805533364415, 0.02155502326786518, 0.12917013466358185, 0.6749140620231628]], [[1.0, 0.0, 0.0, 0.0, 0.0], [0.9948306679725647, 0.005169341806322336, 0.0, 0.0, 0.0], [0.9587817788124084, 0.021033834666013718, 0.020184345543384552, 0.0, 0.0], [0.859360933303833, 0.020549068227410316, 0.05637066438794136, 0.06371931731700897, 0.0], [0.8599112629890442, 0.009680896066129208, 0.01806952804327011, 0.030690990388393402, 0.08164728432893753]], [[1.0, 0.0, 0.0, 0.0, 0.0], [0.9836604595184326, 0.016339607536792755, 0.0, 0.0, 0.0], [0.8379257321357727, 0.09503290057182312, 0.0670412927865982, 0.0, 0.0], [0.6194424033164978, 0.07449617981910706, 0.25129926204681396, 0.05476208031177521, 0.0], [0.5966930389404297, 0.05119108408689499, 0.1906982660293579, 0.1387978047132492, 0.022619759663939476]], [[1.0, 0.0, 0.0, 0.0, 0.0], [0.9885790348052979, 0.011421026661992073, 0.0, 0.0, 0.0], [0.9481443762779236, 0.012450292706489563, 0.03940526768565178, 0.0, 0.0], [0.926639199256897, 0.011349555104970932, 0.04054083302617073, 0.02147047407925129, 0.0], [0.8642382025718689, 0.03877275064587593, 0.04460865259170532, 0.010670308955013752, 0.04171011596918106]], [[1.0, 0.0, 0.0, 0.0, 0.0], [0.9999996423721313, 3.050687098493654e-07, 0.0, 0.0, 0.0], [1.577596958668437e-05, 0.9997019171714783, 0.00028232557815499604, 0.0, 0.0], [3.817839822062297e-09, 4.085193359060213e-05, 0.9998894929885864, 6.956401921343058e-05, 0.0], [1.0505075920264062e-07, 5.642918354809012e-10, 5.813011738631246e-10, 0.9999568462371826, 4.2993742681574076e-05]]], [[[1.0, 0.0, 0.0, 0.0, 0.0], [0.9836832880973816, 0.016316676512360573, 0.0, 0.0, 0.0], [0.9732821583747864, 0.0040794359520077705, 0.02263847179710865, 0.0, 0.0], [0.9674786925315857, 0.00021669635316357017, 0.001748382463119924, 0.03055618517100811, 0.0], [0.9787111878395081, 0.004376138560473919, 0.0022045301739126444, 0.0029948658775538206, 0.011713359504938126]], [[1.0, 0.0, 0.0, 0.0, 0.0], [0.9997276663780212, 0.0002723612415138632, 0.0, 0.0, 0.0], [0.9991911053657532, 5.527845587494085e-06, 0.000803399074357003, 0.0, 0.0], [0.9994975328445435, 6.485445283033187e-07, 1.7345511196253938e-06, 0.0005000390228815377, 0.0], [0.99888676404953, 9.210551070282236e-05, 1.4208330867404584e-05, 4.4767570216208696e-05, 0.0009622983052395284]], [[1.0, 0.0, 0.0, 0.0, 0.0], [0.8004128932952881, 0.19958709180355072, 0.0, 0.0, 0.0], [0.7201178073883057, 0.25629597902297974, 0.02358616143465042, 0.0, 0.0], [0.3889026939868927, 0.250113308429718, 0.3417827785015106, 0.019201168790459633, 0.0], [0.24915707111358643, 0.171937495470047, 0.3882167935371399, 0.1811000108718872, 0.00958865974098444]], [[1.0, 0.0, 0.0, 0.0, 0.0], [0.9177306890487671, 0.0822693333029747, 0.0, 0.0, 0.0], [0.8001005053520203, 0.1494387686252594, 0.05046076327562332, 0.0, 0.0], [0.7057600021362305, 0.15847398340702057, 0.10703974217176437, 0.028726311400532722, 0.0], [0.6025810241699219, 0.095303475856781, 0.10276675969362259, 0.15616081655025482, 0.0431879498064518]], [[1.0, 0.0, 0.0, 0.0, 0.0], [0.9700430035591125, 0.029957041144371033, 0.0, 0.0, 0.0], [0.8428822755813599, 0.12549854815006256, 0.031619179993867874, 0.0, 0.0], [0.7115257978439331, 0.1730223000049591, 0.09304080903530121, 0.02241114340722561, 0.0], [0.4289621114730835, 0.035009440034627914, 0.09470081329345703, 0.26073676347732544, 0.1805908977985382]], [[1.0, 0.0, 0.0, 0.0, 0.0], [0.9429055452346802, 0.0570945106446743, 0.0, 0.0, 0.0], [0.9423513412475586, 0.019694892689585686, 0.0379536971449852, 0.0, 0.0], [0.9894009232521057, 0.0005487827002070844, 0.005179456900805235, 0.004870802629739046, 0.0], [0.7225804328918457, 0.1387540102005005, 0.12735362350940704, 0.007248165085911751, 0.004063813015818596]], [[1.0, 0.0, 0.0, 0.0, 0.0], [0.856898844242096, 0.14310111105442047, 0.0, 0.0, 0.0], [0.56448894739151, 0.39586374163627625, 0.039647359400987625, 0.0, 0.0], [0.6297622323036194, 0.18815898895263672, 0.15394015610218048, 0.028138592839241028, 0.0], [0.807406485080719, 0.001411875244230032, 0.0017629701178520918, 0.14334718883037567, 0.04607139155268669]], [[1.0, 0.0, 0.0, 0.0, 0.0], [0.9806318283081055, 0.019368212670087814, 0.0, 0.0, 0.0], [0.96773761510849, 0.017257696017622948, 0.015004744753241539, 0.0, 0.0], [0.9296615123748779, 0.020724449306726456, 0.020324787124991417, 0.02928924560546875, 0.0], [0.8292751908302307, 0.002997369272634387, 0.008929012343287468, 0.13078553974628448, 0.02801291085779667]], [[1.0, 0.0, 0.0, 0.0, 0.0], [0.9687640070915222, 0.031235985457897186, 0.0, 0.0, 0.0], [0.9286782741546631, 0.04320347309112549, 0.028118250891566277, 0.0, 0.0], [0.9437368512153625, 0.014038690365850925, 0.005900335032492876, 0.036324162036180496, 0.0], [0.5553589463233948, 0.3116820752620697, 0.10374889522790909, 0.01890587992966175, 0.010304274968802929]], [[1.0, 0.0, 0.0, 0.0, 0.0], [0.9698410034179688, 0.03015902079641819, 0.0, 0.0, 0.0], [0.9014405012130737, 0.06694534420967102, 0.03161407262086868, 0.0, 0.0], [0.8925496935844421, 0.05761168152093887, 0.04496477544307709, 0.004873852711170912, 0.0], [0.9013084769248962, 0.07432438433170319, 0.01557749044150114, 0.003683308372274041, 0.005106262397021055]], [[1.0, 0.0, 0.0, 0.0, 0.0], [0.8312650322914124, 0.16873492300510406, 0.0, 0.0, 0.0], [0.5102297067642212, 0.4666700065135956, 0.023100286722183228, 0.0, 0.0], [0.7489738464355469, 0.22419854998588562, 0.017141034826636314, 0.009686592034995556, 0.0], [0.5085662603378296, 0.3855685889720917, 0.024188706651329994, 0.007892482914030552, 0.07378391176462173]], [[1.0, 0.0, 0.0, 0.0, 0.0], [0.9544218182563782, 0.045578163117170334, 0.0, 0.0, 0.0], [0.8771545886993408, 0.02963513880968094, 0.09321022778749466, 0.0, 0.0], [0.8447613716125488, 0.020405147224664688, 0.04774006828665733, 0.08709346503019333, 0.0], [0.7846994400024414, 0.06871119886636734, 0.06698991358280182, 0.01780535839498043, 0.06179405003786087]]], [[[1.0, 0.0, 0.0, 0.0, 0.0], [0.8468533158302307, 0.1531466543674469, 0.0, 0.0, 0.0], [0.370696485042572, 0.6038038730621338, 0.025499675422906876, 0.0, 0.0], [0.27661505341529846, 0.549902617931366, 0.1559523493051529, 0.017529934644699097, 0.0], [0.26140639185905457, 0.2251424342393875, 0.2917476296424866, 0.19079731404781342, 0.030906176194548607]], [[1.0, 0.0, 0.0, 0.0, 0.0], [0.9606695771217346, 0.03933045640587807, 0.0, 0.0, 0.0], [0.9611020088195801, 0.030322253704071045, 0.008575739338994026, 0.0, 0.0], [0.9535456299781799, 0.021680347621440887, 0.005075517576187849, 0.019698457792401314, 0.0], [0.8407858610153198, 0.04180774837732315, 0.006420364137738943, 0.06340768933296204, 0.04757832735776901]], [[1.0, 0.0, 0.0, 0.0, 0.0], [0.9769715666770935, 0.02302849479019642, 0.0, 0.0, 0.0], [0.9302843809127808, 0.032495494931936264, 0.037220075726509094, 0.0, 0.0], [0.8824054002761841, 0.05073195695877075, 0.038589924573898315, 0.028272734954953194, 0.0], [0.870850145816803, 0.03720169886946678, 0.05095675215125084, 0.032577063888311386, 0.008414275012910366]], [[1.0, 0.0, 0.0, 0.0, 0.0], [0.9856926202774048, 0.014307371340692043, 0.0, 0.0, 0.0], [0.952265739440918, 0.019891824573278427, 0.027842408046126366, 0.0, 0.0], [0.9354839324951172, 0.021605905145406723, 0.024793045595288277, 0.018117014318704605, 0.0], [0.8661490678787231, 0.03815986588597298, 0.036745402961969376, 0.03077075630426407, 0.02817494049668312]], [[1.0, 0.0, 0.0, 0.0, 0.0], [0.8327184319496155, 0.16728155314922333, 0.0, 0.0, 0.0], [0.828853964805603, 0.12615886330604553, 0.04498712345957756, 0.0, 0.0], [0.8237867951393127, 0.08124567568302155, 0.030080324038863182, 0.06488730013370514, 0.0], [0.8475348353385925, 0.05368927866220474, 0.027655567973852158, 0.035639602690935135, 0.03548074886202812]], [[1.0, 0.0, 0.0, 0.0, 0.0], [0.9704310894012451, 0.029568925499916077, 0.0, 0.0, 0.0], [0.9023797512054443, 0.06107725948095322, 0.036542948335409164, 0.0, 0.0], [0.9040399789810181, 0.03155800700187683, 0.023853246122598648, 0.04054873809218407, 0.0], [0.8712518811225891, 0.025072241201996803, 0.018454020842909813, 0.03441988676786423, 0.05080205574631691]], [[1.0, 0.0, 0.0, 0.0, 0.0], [0.890549898147583, 0.10945011675357819, 0.0, 0.0, 0.0], [0.8668851852416992, 0.0530252680182457, 0.08008947968482971, 0.0, 0.0], [0.8764569759368896, 0.030783554539084435, 0.046999890357255936, 0.04575955495238304, 0.0], [0.8232724070549011, 0.07631617784500122, 0.05694006010890007, 0.009740696288645267, 0.03373069688677788]], [[1.0, 0.0, 0.0, 0.0, 0.0], [0.9438251852989197, 0.05617475137114525, 0.0, 0.0, 0.0], [0.828809916973114, 0.1570286601781845, 0.014161466620862484, 0.0, 0.0], [0.6400915384292603, 0.3048626184463501, 0.03694650158286095, 0.01809934712946415, 0.0], [0.6608825325965881, 0.12915247678756714, 0.047724492847919464, 0.09942540526390076, 0.06281495094299316]], [[1.0, 0.0, 0.0, 0.0, 0.0], [0.9728361964225769, 0.02716381847858429, 0.0, 0.0, 0.0], [0.6471172571182251, 0.34039658308029175, 0.012486168183386326, 0.0, 0.0], [0.5528537631034851, 0.2692108750343323, 0.15023691952228546, 0.02769843488931656, 0.0], [0.5719283223152161, 0.05097665265202522, 0.12303246557712555, 0.22267131507396698, 0.03139125183224678]], [[1.0, 0.0, 0.0, 0.0, 0.0], [0.9834226369857788, 0.01657734252512455, 0.0, 0.0, 0.0], [0.997557520866394, 0.000721569755114615, 0.0017209138022735715, 0.0, 0.0], [0.9983395338058472, 2.5898842068272643e-05, 7.375902350759134e-05, 0.0015606755623593926, 0.0], [0.9972422122955322, 0.00032229520729742944, 0.0004562936373986304, 0.00015690182044636458, 0.0018223109655082226]], [[1.0, 0.0, 0.0, 0.0, 0.0], [0.9928783774375916, 0.007121644448488951, 0.0, 0.0, 0.0], [0.986107587814331, 0.003870900021865964, 0.010021514259278774, 0.0, 0.0], [0.9343574643135071, 0.0053470563143491745, 0.010101704858243465, 0.05019368231296539, 0.0], [0.9234764575958252, 0.014925161376595497, 0.009647144004702568, 0.008812226355075836, 0.04313904047012329]], [[1.0, 0.0, 0.0, 0.0, 0.0], [0.9607515335083008, 0.03924844413995743, 0.0, 0.0, 0.0], [0.8126780390739441, 0.1601186841726303, 0.027203269302845, 0.0, 0.0], [0.7085802555084229, 0.15710271894931793, 0.07768929749727249, 0.056627750396728516, 0.0], [0.5926302075386047, 0.03753681480884552, 0.10277865082025528, 0.23788850009441376, 0.029165953397750854]]], [[[1.0, 0.0, 0.0, 0.0, 0.0], [0.9649326205253601, 0.035067372024059296, 0.0, 0.0, 0.0], [0.8518738746643066, 0.1304117739200592, 0.01771443709731102, 0.0, 0.0], [0.5700733065605164, 0.16298215091228485, 0.24368460476398468, 0.023259971290826797, 0.0], [0.3537623882293701, 0.04523202031850815, 0.08869797736406326, 0.46934711933135986, 0.0429605208337307]], [[1.0, 0.0, 0.0, 0.0, 0.0], [0.9931204319000244, 0.006879566702991724, 0.0, 0.0, 0.0], [0.9728305339813232, 0.021675484254956245, 0.005494005512446165, 0.0, 0.0], [0.933803915977478, 0.04371033236384392, 0.006872812286019325, 0.01561290118843317, 0.0], [0.9392113089561462, 0.022070009261369705, 0.004828355740755796, 0.004886847920715809, 0.02900351583957672]], [[1.0, 0.0, 0.0, 0.0, 0.0], [0.9981558918952942, 0.00184412463568151, 0.0, 0.0, 0.0], [0.9954804182052612, 0.001149781164713204, 0.0033697434701025486, 0.0, 0.0], [0.9861661195755005, 0.00022931932471692562, 0.0001743652974255383, 0.013430147431790829, 0.0], [0.9973391890525818, 0.00021199924231041223, 0.00011592252121772617, 0.0002467035374138504, 0.002086219610646367]], [[1.0, 0.0, 0.0, 0.0, 0.0], [0.9600179195404053, 0.03998209536075592, 0.0, 0.0, 0.0], [0.859421968460083, 0.11881779879331589, 0.02176019921898842, 0.0, 0.0], [0.7639829516410828, 0.149470716714859, 0.05206329748034477, 0.03448307141661644, 0.0], [0.7645736932754517, 0.10562790930271149, 0.03435232490301132, 0.024598119780421257, 0.0708480253815651]], [[1.0, 0.0, 0.0, 0.0, 0.0], [0.9722528457641602, 0.027747182175517082, 0.0, 0.0, 0.0], [0.923480749130249, 0.06862080842256546, 0.007898496463894844, 0.0, 0.0], [0.9460278749465942, 0.03857105225324631, 0.009476838633418083, 0.005924185272306204, 0.0], [0.6469101905822754, 0.07328207045793533, 0.07163996249437332, 0.18623271584510803, 0.021935028955340385]], [[1.0, 0.0, 0.0, 0.0, 0.0], [0.973785400390625, 0.02621462009847164, 0.0, 0.0, 0.0], [0.8813447952270508, 0.08870574831962585, 0.029949462041258812, 0.0, 0.0], [0.8824735283851624, 0.08031950145959854, 0.023727696388959885, 0.013479361310601234, 0.0], [0.8366826772689819, 0.0494379848241806, 0.030659647658467293, 0.051616448909044266, 0.03160326927900314]], [[1.0, 0.0, 0.0, 0.0, 0.0], [0.9757182598114014, 0.02428172156214714, 0.0, 0.0, 0.0], [0.9647267460823059, 0.026710664853453636, 0.0085624810308218, 0.0, 0.0], [0.9345174431800842, 0.03244318440556526, 0.011670488864183426, 0.0213689636439085, 0.0], [0.9333253502845764, 0.018182426691055298, 0.006417361553758383, 0.012846123427152634, 0.029228873550891876]], [[1.0, 0.0, 0.0, 0.0, 0.0], [0.9896019101142883, 0.010398038662970066, 0.0, 0.0, 0.0], [0.9930813908576965, 0.004165345802903175, 0.002753324806690216, 0.0, 0.0], [0.9889715313911438, 0.002288305666297674, 0.002119476441293955, 0.006620642729103565, 0.0], [0.9652247428894043, 0.006534021347761154, 0.004151979461312294, 0.006392541341483593, 0.01769666001200676]], [[1.0, 0.0, 0.0, 0.0, 0.0], [0.8802857398986816, 0.11971427500247955, 0.0, 0.0, 0.0], [0.3803192675113678, 0.6070948243141174, 0.012585925869643688, 0.0, 0.0], [0.2656138837337494, 0.6842885613441467, 0.043010205030441284, 0.007087368983775377, 0.0], [0.8428810238838196, 0.04931484907865524, 0.031284768134355545, 0.035600386559963226, 0.04091895744204521]], [[1.0, 0.0, 0.0, 0.0, 0.0], [0.9743626713752747, 0.025637289509177208, 0.0, 0.0, 0.0], [0.9303520917892456, 0.05510098487138748, 0.01454697921872139, 0.0, 0.0], [0.9236541986465454, 0.04575907438993454, 0.01742480881512165, 0.013161863200366497, 0.0], [0.8660440444946289, 0.04585547745227814, 0.02868366241455078, 0.020383240655064583, 0.039033595472574234]], [[1.0, 0.0, 0.0, 0.0, 0.0], [0.9880984425544739, 0.011901522055268288, 0.0, 0.0, 0.0], [0.990835428237915, 0.004963180515915155, 0.0042014229111373425, 0.0, 0.0], [0.9202949404716492, 0.0019141687080264091, 0.0011399461654946208, 0.0766509398818016, 0.0], [0.9831529259681702, 0.0021825984586030245, 0.0010894836159422994, 0.003744719782844186, 0.009830272756516933]], [[1.0, 0.0, 0.0, 0.0, 0.0], [0.9401660561561584, 0.05983391031622887, 0.0, 0.0, 0.0], [0.9869999289512634, 0.007112497463822365, 0.005887533538043499, 0.0, 0.0], [0.9877661466598511, 0.002644652035087347, 0.001209117821417749, 0.008380039595067501, 0.0], [0.9838416576385498, 0.009630299173295498, 0.0028791273944079876, 0.00018612750864122063, 0.0034626517444849014]]], [[[1.0, 0.0, 0.0, 0.0, 0.0], [0.8573893308639526, 0.14261062443256378, 0.0, 0.0, 0.0], [0.883830189704895, 0.08041713386774063, 0.03575273975729942, 0.0, 0.0], [0.9040691256523132, 0.04829297959804535, 0.02676834538578987, 0.020869579166173935, 0.0], [0.9253754615783691, 0.040548838675022125, 0.005897867027670145, 0.004669409245252609, 0.02350827492773533]], [[1.0, 0.0, 0.0, 0.0, 0.0], [0.9731050133705139, 0.02689504064619541, 0.0, 0.0, 0.0], [0.9932617545127869, 0.0038307674694806337, 0.0029074677731841803, 0.0, 0.0], [0.9691131114959717, 0.003977459389716387, 0.0017255025450140238, 0.025183873251080513, 0.0], [0.9551217555999756, 0.0165115874260664, 0.013864386826753616, 0.009503687731921673, 0.004998538643121719]], [[1.0, 0.0, 0.0, 0.0, 0.0], [0.9685812592506409, 0.03141878545284271, 0.0, 0.0, 0.0], [0.9012659788131714, 0.06855589151382446, 0.030178071931004524, 0.0, 0.0], [0.8250759840011597, 0.05479080602526665, 0.03613107651472092, 0.08400212228298187, 0.0], [0.8023989796638489, 0.044477012008428574, 0.06096882000565529, 0.03241528943181038, 0.059739865362644196]], [[1.0, 0.0, 0.0, 0.0, 0.0], [0.9777806401252747, 0.022219352424144745, 0.0, 0.0, 0.0], [0.7267677783966064, 0.1759926825761795, 0.09723954647779465, 0.0, 0.0], [0.6520370841026306, 0.2004871666431427, 0.10405127704143524, 0.04342440888285637, 0.0], [0.6311922669410706, 0.1785375028848648, 0.1120857521891594, 0.030573030933737755, 0.047611456364393234]], [[1.0, 0.0, 0.0, 0.0, 0.0], [0.9501135945320129, 0.04988643527030945, 0.0, 0.0, 0.0], [0.8853363394737244, 0.09520922601222992, 0.01945442147552967, 0.0, 0.0], [0.8270757794380188, 0.07919708639383316, 0.05456066504120827, 0.039166443049907684, 0.0], [0.6772161722183228, 0.021383011713624, 0.04911038652062416, 0.21510416269302368, 0.03718623146414757]], [[1.0, 0.0, 0.0, 0.0, 0.0], [0.9231355786323547, 0.07686436921358109, 0.0, 0.0, 0.0], [0.7202306985855103, 0.2384726107120514, 0.04129676893353462, 0.0, 0.0], [0.7131077647209167, 0.17986547946929932, 0.07255159318447113, 0.034475211054086685, 0.0], [0.6876529455184937, 0.09091900289058685, 0.0559789203107357, 0.11273124814033508, 0.052717916667461395]], [[1.0, 0.0, 0.0, 0.0, 0.0], [0.9420658946037292, 0.057934075593948364, 0.0, 0.0, 0.0], [0.975774347782135, 0.01672949269413948, 0.007496229838579893, 0.0, 0.0], [0.9618893265724182, 0.023939326405525208, 0.005091976374387741, 0.009079329669475555, 0.0], [0.8919549584388733, 0.02189232036471367, 0.013280960731208324, 0.005683019291609526, 0.06718869507312775]], [[1.0, 0.0, 0.0, 0.0, 0.0], [0.8433352112770081, 0.15666477382183075, 0.0, 0.0, 0.0], [0.33688825368881226, 0.5627221465110779, 0.10038958489894867, 0.0, 0.0], [0.23359514772891998, 0.4807016849517822, 0.25712573528289795, 0.028577400371432304, 0.0], [0.29912886023521423, 0.09724244475364685, 0.18103201687335968, 0.3683772087097168, 0.05421933904290199]], [[1.0, 0.0, 0.0, 0.0, 0.0], [0.8902478814125061, 0.10975217819213867, 0.0, 0.0, 0.0], [0.4961661100387573, 0.4739895761013031, 0.029844392091035843, 0.0, 0.0], [0.45766887068748474, 0.4817512333393097, 0.047160763293504715, 0.013419141992926598, 0.0], [0.7119248509407043, 0.17546428740024567, 0.04331149160861969, 0.02910652384161949, 0.040192849934101105]], [[1.0, 0.0, 0.0, 0.0, 0.0], [0.9041771292686462, 0.09582284092903137, 0.0, 0.0, 0.0], [0.7554335594177246, 0.20191970467567444, 0.04264669865369797, 0.0, 0.0], [0.6555288434028625, 0.2192021608352661, 0.06466244161128998, 0.06060656160116196, 0.0], [0.8006479740142822, 0.07738612592220306, 0.025693440809845924, 0.03133251890540123, 0.064939945936203]], [[1.0, 0.0, 0.0, 0.0, 0.0], [0.9274864196777344, 0.07251361012458801, 0.0, 0.0, 0.0], [0.8129482269287109, 0.11466115713119507, 0.07239057868719101, 0.0, 0.0], [0.8261751532554626, 0.10529503971338272, 0.0386127308011055, 0.02991708554327488, 0.0], [0.8203845024108887, 0.07159827649593353, 0.04084649682044983, 0.023468341678380966, 0.04370235279202461]], [[1.0, 0.0, 0.0, 0.0, 0.0], [0.9481301307678223, 0.051869846880435944, 0.0, 0.0, 0.0], [0.8483737111091614, 0.13328419625759125, 0.018342088907957077, 0.0, 0.0], [0.7431288361549377, 0.2086755931377411, 0.03711233288049698, 0.011083208955824375, 0.0], [0.8301868438720703, 0.11660192906856537, 0.01882602460682392, 0.015477494336664677, 0.018907712772488594]]], [[[1.0, 0.0, 0.0, 0.0, 0.0], [0.9274095892906189, 0.07259036600589752, 0.0, 0.0, 0.0], [0.7683780789375305, 0.21293656527996063, 0.01868528127670288, 0.0, 0.0], [0.7226498126983643, 0.25732606649398804, 0.01622241735458374, 0.003801746526733041, 0.0], [0.950088381767273, 0.030007848516106606, 0.003137340536341071, 0.0022733353544026613, 0.014493065886199474]], [[1.0, 0.0, 0.0, 0.0, 0.0], [0.9580482244491577, 0.04195178300142288, 0.0, 0.0, 0.0], [0.9580554366111755, 0.014392522163689137, 0.027552027255296707, 0.0, 0.0], [0.9749485850334167, 0.005129402503371239, 0.0009443867020308971, 0.018977534025907516, 0.0], [0.9553824067115784, 0.015839360654354095, 0.006534166634082794, 0.017181439325213432, 0.005062739830464125]], [[1.0, 0.0, 0.0, 0.0, 0.0], [0.9223943948745728, 0.07760555297136307, 0.0, 0.0, 0.0], [0.8335541486740112, 0.14451144635677338, 0.021934496238827705, 0.0, 0.0], [0.6396661400794983, 0.304258793592453, 0.0352315828204155, 0.020843505859375, 0.0], [0.9277280569076538, 0.03626459836959839, 0.0072002112865448, 0.010143960826098919, 0.01866312511265278]], [[1.0, 0.0, 0.0, 0.0, 0.0], [0.9408829212188721, 0.059117089956998825, 0.0, 0.0, 0.0], [0.7273691296577454, 0.251137375831604, 0.021493475884199142, 0.0, 0.0], [0.6648203134536743, 0.14750073850154877, 0.13385073840618134, 0.05382834002375603, 0.0], [0.45851653814315796, 0.10771568864583969, 0.09923075884580612, 0.2851966321468353, 0.04934040457010269]], [[1.0, 0.0, 0.0, 0.0, 0.0], [0.9888398051261902, 0.011160135269165039, 0.0, 0.0, 0.0], [0.996694803237915, 0.0026747938245534897, 0.0006304033449850976, 0.0, 0.0], [0.9957569241523743, 0.0014511732151731849, 0.0002803786192089319, 0.0025115187745541334, 0.0], [0.9760137796401978, 0.004562446381896734, 0.0009614402079023421, 0.0028676583897322416, 0.01559475064277649]], [[1.0, 0.0, 0.0, 0.0, 0.0], [0.9542525410652161, 0.045747485011816025, 0.0, 0.0, 0.0], [0.8917574286460876, 0.07512959092855453, 0.03311296924948692, 0.0, 0.0], [0.9124845266342163, 0.04458920285105705, 0.01803496666252613, 0.024891352280974388, 0.0], [0.8622344136238098, 0.06868088990449905, 0.018408818170428276, 0.010041087865829468, 0.04063475504517555]], [[1.0, 0.0, 0.0, 0.0, 0.0], [0.9869390726089478, 0.013060941360890865, 0.0, 0.0, 0.0], [0.9809642434120178, 0.011028414592146873, 0.008007408119738102, 0.0, 0.0], [0.9797260165214539, 0.007256091106683016, 0.001144532347097993, 0.011873382143676281, 0.0], [0.9707465171813965, 0.008589500561356544, 0.0030996459536254406, 0.0042062015272676945, 0.013358238153159618]], [[1.0, 0.0, 0.0, 0.0, 0.0], [0.9508935809135437, 0.04910648241639137, 0.0, 0.0, 0.0], [0.9348779916763306, 0.044874727725982666, 0.020247286185622215, 0.0, 0.0], [0.88984215259552, 0.05384412780404091, 0.02755160816013813, 0.028762001544237137, 0.0], [0.8603777885437012, 0.07688553631305695, 0.025288138538599014, 0.016254808753728867, 0.021193740889430046]], [[1.0, 0.0, 0.0, 0.0, 0.0], [0.8562493324279785, 0.14375071227550507, 0.0, 0.0, 0.0], [0.6466721892356873, 0.31960752606391907, 0.03372037410736084, 0.0, 0.0], [0.588433027267456, 0.3467332720756531, 0.048125263303518295, 0.016708502545952797, 0.0], [0.870267927646637, 0.09734266996383667, 0.01004153210669756, 0.006613376084715128, 0.015734542161226273]], [[1.0, 0.0, 0.0, 0.0, 0.0], [0.9956509470939636, 0.00434905057772994, 0.0, 0.0, 0.0], [0.9905121922492981, 0.003617302980273962, 0.005870501510798931, 0.0, 0.0], [0.9891892671585083, 0.0018145152134820819, 0.0013037333264946938, 0.007692382670938969, 0.0], [0.9838167428970337, 0.002385124797001481, 0.001468447968363762, 0.003991748671978712, 0.0083379577845335]], [[1.0, 0.0, 0.0, 0.0, 0.0], [0.8880722522735596, 0.11192771792411804, 0.0, 0.0, 0.0], [0.819313645362854, 0.13137184083461761, 0.04931456595659256, 0.0, 0.0], [0.7226003408432007, 0.1129145398736, 0.1209673061966896, 0.043517742305994034, 0.0], [0.34574374556541443, 0.030201122164726257, 0.15948466956615448, 0.3973880708217621, 0.0671822801232338]], [[1.0, 0.0, 0.0, 0.0, 0.0], [0.9790549278259277, 0.020945092663168907, 0.0, 0.0, 0.0], [0.9876396059989929, 0.007888173684477806, 0.004472160711884499, 0.0, 0.0], [0.9844388365745544, 0.004520198330283165, 0.0030267275869846344, 0.008014269173145294, 0.0], [0.9504570960998535, 0.019121617078781128, 0.015397293493151665, 0.0035038329660892487, 0.011520224623382092]]], [[[1.0, 0.0, 0.0, 0.0, 0.0], [0.9794504046440125, 0.020549528300762177, 0.0, 0.0, 0.0], [0.9258963465690613, 0.06306595355272293, 0.011037667281925678, 0.0, 0.0], [0.8991977572441101, 0.0716303288936615, 0.009809611365199089, 0.019362259656190872, 0.0], [0.9855131506919861, 0.006484895013272762, 0.0008135408279486, 0.0012740559177473187, 0.005914260167628527]], [[1.0, 0.0, 0.0, 0.0, 0.0], [0.9838152527809143, 0.016184760257601738, 0.0, 0.0, 0.0], [0.9633738994598389, 0.01766739785671234, 0.018958760425448418, 0.0, 0.0], [0.9596419930458069, 0.01017927099019289, 0.003492217045277357, 0.026686519384384155, 0.0], [0.9520713090896606, 0.00898758228868246, 0.0031689873430877924, 0.01395175140351057, 0.021820226684212685]], [[1.0, 0.0, 0.0, 0.0, 0.0], [0.9811055064201355, 0.018894478678703308, 0.0, 0.0, 0.0], [0.9749625325202942, 0.01749175414443016, 0.00754562858492136, 0.0, 0.0], [0.9665427207946777, 0.016880113631486893, 0.0050293998792767525, 0.011547829955816269, 0.0], [0.9250785112380981, 0.021388791501522064, 0.0030717209447175264, 0.008651054464280605, 0.04180999845266342]], [[1.0, 0.0, 0.0, 0.0, 0.0], [0.8931072354316711, 0.10689277201890945, 0.0, 0.0, 0.0], [0.7312297821044922, 0.1941111981868744, 0.07465903460979462, 0.0, 0.0], [0.5839610695838928, 0.29917606711387634, 0.06998410820960999, 0.04687870293855667, 0.0], [0.8502596616744995, 0.0862625241279602, 0.02328096702694893, 0.006438427604734898, 0.03375834599137306]], [[1.0, 0.0, 0.0, 0.0, 0.0], [0.8789576292037964, 0.1210424154996872, 0.0, 0.0, 0.0], [0.7294014096260071, 0.16517218947410583, 0.10542638599872589, 0.0, 0.0], [0.7377753257751465, 0.14988958835601807, 0.08859405666589737, 0.023741083219647408, 0.0], [0.9216709136962891, 0.035650834441185, 0.018945034593343735, 0.010008960962295532, 0.01372422743588686]], [[1.0, 0.0, 0.0, 0.0, 0.0], [0.9633682370185852, 0.036631789058446884, 0.0, 0.0, 0.0], [0.9821997880935669, 0.0141943683847785, 0.0036058237310498953, 0.0, 0.0], [0.9929714798927307, 0.0032616937533020973, 0.0019258507527410984, 0.001840907265432179, 0.0], [0.5085664391517639, 0.08114811778068542, 0.10911048203706741, 0.23074541985988617, 0.07042960822582245]], [[1.0, 0.0, 0.0, 0.0, 0.0], [0.9565289616584778, 0.04347097873687744, 0.0, 0.0, 0.0], [0.8013885021209717, 0.16633282601833344, 0.032278649508953094, 0.0, 0.0], [0.6601993441581726, 0.25677070021629333, 0.046922631561756134, 0.03610728681087494, 0.0], [0.9455917477607727, 0.015832675620913506, 0.0037066135555505753, 0.004981737118214369, 0.02988738752901554]], [[1.0, 0.0, 0.0, 0.0, 0.0], [0.9057514667510986, 0.09424854815006256, 0.0, 0.0, 0.0], [0.7959216833114624, 0.1482986956834793, 0.05577964335680008, 0.0, 0.0], [0.7803954482078552, 0.1265089362859726, 0.03264903649687767, 0.060446545481681824, 0.0], [0.9113597273826599, 0.0474468395113945, 0.008562718518078327, 0.003759116865694523, 0.02887151576578617]], [[1.0, 0.0, 0.0, 0.0, 0.0], [0.9849536418914795, 0.015046395361423492, 0.0, 0.0, 0.0], [0.9815192222595215, 0.010799610055983067, 0.007681187242269516, 0.0, 0.0], [0.972976565361023, 0.012042916379868984, 0.0035963328555226326, 0.011384152807295322, 0.0], [0.9538324475288391, 0.01447152066975832, 0.013123122043907642, 0.004848785232752562, 0.01372421346604824]], [[1.0, 0.0, 0.0, 0.0, 0.0], [0.9512909054756165, 0.04870903864502907, 0.0, 0.0, 0.0], [0.8727709054946899, 0.10588813573122025, 0.021340981125831604, 0.0, 0.0], [0.8251475691795349, 0.06063614785671234, 0.08467002213001251, 0.029546208679676056, 0.0], [0.38222822546958923, 0.026114478707313538, 0.05951922759413719, 0.36976462602615356, 0.1623734086751938]], [[1.0, 0.0, 0.0, 0.0, 0.0], [0.9912732243537903, 0.00872671976685524, 0.0, 0.0, 0.0], [0.9727447032928467, 0.017109181731939316, 0.010146009735763073, 0.0, 0.0], [0.9641433358192444, 0.02156459540128708, 0.006706709507852793, 0.007585400715470314, 0.0], [0.9776602983474731, 0.008287006057798862, 0.005659108050167561, 0.0024393675848841667, 0.005954238120466471]], [[1.0, 0.0, 0.0, 0.0, 0.0], [0.9397925734519958, 0.06020741909742355, 0.0, 0.0, 0.0], [0.32701584696769714, 0.6192271113395691, 0.05375710874795914, 0.0, 0.0], [0.2144603282213211, 0.3980265259742737, 0.3178189992904663, 0.06969422847032547, 0.0], [0.7714373469352722, 0.10072489082813263, 0.06589724868535995, 0.042082931846380234, 0.01985767111182213]]], [[[1.0, 0.0, 0.0, 0.0, 0.0], [0.3891037702560425, 0.6108962297439575, 0.0, 0.0, 0.0], [0.2863761782646179, 0.49085333943367004, 0.22277049720287323, 0.0, 0.0], [0.3994160294532776, 0.35589879751205444, 0.1662224531173706, 0.07846282422542572, 0.0], [0.2687455415725708, 0.3965717554092407, 0.1211727187037468, 0.12494251132011414, 0.08856742829084396]], [[1.0, 0.0, 0.0, 0.0, 0.0], [0.9448790550231934, 0.055120982229709625, 0.0, 0.0, 0.0], [0.8717938661575317, 0.07700125128030777, 0.051204949617385864, 0.0, 0.0], [0.8916941285133362, 0.06446275115013123, 0.03619106486439705, 0.007652056869119406, 0.0], [0.8926389217376709, 0.046396613121032715, 0.029883036389946938, 0.009433011524379253, 0.02164842002093792]], [[1.0, 0.0, 0.0, 0.0, 0.0], [0.93218594789505, 0.06781407445669174, 0.0, 0.0, 0.0], [0.9211958050727844, 0.05468885228037834, 0.024115433916449547, 0.0, 0.0], [0.9212440848350525, 0.049526397138834, 0.018561651930212975, 0.010667841881513596, 0.0], [0.9500924944877625, 0.027901124209165573, 0.007612098939716816, 0.002898020204156637, 0.01149633340537548]], [[1.0, 0.0, 0.0, 0.0, 0.0], [0.8177467584609985, 0.18225330114364624, 0.0, 0.0, 0.0], [0.5426865816116333, 0.38573917746543884, 0.07157419621944427, 0.0, 0.0], [0.4875006377696991, 0.306700199842453, 0.1677965670824051, 0.03800264745950699, 0.0], [0.5748488903045654, 0.20117728412151337, 0.12809009850025177, 0.07692596316337585, 0.018957678228616714]], [[1.0, 0.0, 0.0, 0.0, 0.0], [0.8216904997825623, 0.17830947041511536, 0.0, 0.0, 0.0], [0.7657909393310547, 0.17522679269313812, 0.05898227170109749, 0.0, 0.0], [0.793968677520752, 0.15186038613319397, 0.03907700255513191, 0.015093857422471046, 0.0], [0.7417377829551697, 0.16905266046524048, 0.058234430849552155, 0.01169260498136282, 0.019282516092061996]], [[1.0, 0.0, 0.0, 0.0, 0.0], [0.9658175110816956, 0.03418253734707832, 0.0, 0.0, 0.0], [0.9682075381278992, 0.014878418296575546, 0.016913961619138718, 0.0, 0.0], [0.9651470184326172, 0.011683831922709942, 0.006792211439460516, 0.016377020627260208, 0.0], [0.9013552069664001, 0.04042864963412285, 0.018353821709752083, 0.024700529873371124, 0.015161809511482716]], [[1.0, 0.0, 0.0, 0.0, 0.0], [0.976956307888031, 0.023043693974614143, 0.0, 0.0, 0.0], [0.9687007069587708, 0.01731487549841404, 0.013984393328428268, 0.0, 0.0], [0.977097749710083, 0.01126274187117815, 0.007480370346456766, 0.004159161355346441, 0.0], [0.9496300220489502, 0.019927915185689926, 0.006016777828335762, 0.0038128101732581854, 0.020612414926290512]], [[1.0, 0.0, 0.0, 0.0, 0.0], [0.9235656261444092, 0.07643437385559082, 0.0, 0.0, 0.0], [0.880193293094635, 0.06817710399627686, 0.051629647612571716, 0.0, 0.0], [0.8995909094810486, 0.04675513505935669, 0.035652272403240204, 0.018001681193709373, 0.0], [0.870464563369751, 0.0848359540104866, 0.014971243217587471, 0.004652611445635557, 0.0250756423920393]], [[1.0, 0.0, 0.0, 0.0, 0.0], [0.0009165093069896102, 0.9990835189819336, 0.0, 0.0, 0.0], [0.00017424517136532813, 0.8398101925849915, 0.16001559793949127, 0.0, 0.0], [0.00014839971845503896, 0.5703630447387695, 0.3242156505584717, 0.10527292639017105, 0.0], [4.7706802433822304e-05, 0.33511173725128174, 0.08190013468265533, 0.16952075064182281, 0.41341960430145264]], [[1.0, 0.0, 0.0, 0.0, 0.0], [0.9471677541732788, 0.052832312881946564, 0.0, 0.0, 0.0], [0.9586907029151917, 0.030949406325817108, 0.010359938256442547, 0.0, 0.0], [0.9654526114463806, 0.018750641494989395, 0.006555445492267609, 0.009241309948265553, 0.0], [0.9167534112930298, 0.03880665823817253, 0.015499016270041466, 0.016730280593037605, 0.01221072394400835]], [[1.0, 0.0, 0.0, 0.0, 0.0], [0.8059414625167847, 0.19405855238437653, 0.0, 0.0, 0.0], [0.6673126816749573, 0.27614825963974, 0.05653912574052811, 0.0, 0.0], [0.532996416091919, 0.1948392391204834, 0.20651665329933167, 0.06564769148826599, 0.0], [0.7030923962593079, 0.0829893946647644, 0.0858306810259819, 0.06273237615823746, 0.06535521894693375]], [[1.0, 0.0, 0.0, 0.0, 0.0], [0.822390615940094, 0.1776093989610672, 0.0, 0.0, 0.0], [0.7795277237892151, 0.1790507286787033, 0.04142149165272713, 0.0, 0.0], [0.7119808793067932, 0.13073118031024933, 0.12880133092403412, 0.028486620634794235, 0.0], [0.6404447555541992, 0.1703394055366516, 0.059368908405303955, 0.08610586076974869, 0.043741051107645035]]]], \"left_text\": [\"India\", \" is\", \" a\", \" great\", \" Country\"], \"right_text\": [\"India\", \" is\", \" a\", \" great\", \" Country\"]}], \"default_filter\": \"0\", \"display_mode\": \"dark\", \"root_div_id\": \"bertviz-bdbf3612a18d4904a742aadabd36e5e7\", \"include_layers\": [0, 1, 2, 3, 4, 5, 6, 7, 8, 9, 10, 11], \"include_heads\": [0, 1, 2, 3, 4, 5, 6, 7, 8, 9, 10, 11], \"total_heads\": 12}; // HACK: {\"attention\": [{\"name\": null, \"attn\": [[[[1.0, 0.0, 0.0, 0.0, 0.0], [0.9314970374107361, 0.06850293278694153, 0.0, 0.0, 0.0], [0.7735617160797119, 0.15032027661800385, 0.07611793279647827, 0.0, 0.0], [0.6327985525131226, 0.14604946970939636, 0.1181209608912468, 0.1030309647321701, 0.0], [0.48397958278656006, 0.12581458687782288, 0.19246378540992737, 0.07333438098430634, 0.12440764904022217]], [[1.0, 0.0, 0.0, 0.0, 0.0], [0.005524531006813049, 0.9944754242897034, 0.0, 0.0, 0.0], [0.0008501465199515224, 0.003736163256689906, 0.9954137206077576, 0.0, 0.0], [0.0004929049173370004, 0.000890064868144691, 0.0018746941350400448, 0.996742308139801, 0.0], [0.001635312451981008, 0.0003353282227180898, 0.00027844050782732666, 0.00013447525270748883, 0.9976165294647217]], [[1.0, 0.0, 0.0, 0.0, 0.0], [0.8215767741203308, 0.178423210978508, 0.0, 0.0, 0.0], [0.6831080913543701, 0.2339867502450943, 0.08290515840053558, 0.0, 0.0], [0.6280577182769775, 0.15270309150218964, 0.12683068215847015, 0.09240854531526566, 0.0], [0.5079553127288818, 0.15650612115859985, 0.15667656064033508, 0.10029785335063934, 0.07856418937444687]], [[1.0, 0.0, 0.0, 0.0, 0.0], [0.49006888270378113, 0.5099310874938965, 0.0, 0.0, 0.0], [0.1425812840461731, 0.21102629601955414, 0.6463924050331116, 0.0, 0.0], [0.012902564369142056, 0.0008299057371914387, 0.0020182726439088583, 0.9842492938041687, 0.0], [0.024493716657161713, 0.00039934826781973243, 0.000434975721873343, 0.010687384754419327, 0.9639845490455627]], [[1.0, 0.0, 0.0, 0.0, 0.0], [0.9684445858001709, 0.031555406749248505, 0.0, 0.0, 0.0], [0.5087681412696838, 0.2861602306365967, 0.2050715684890747, 0.0, 0.0], [0.23873615264892578, 0.049243684858083725, 0.05267329886555672, 0.659346878528595, 0.0], [0.34745532274246216, 0.004146520514041185, 0.007011852692812681, 0.044412508606910706, 0.596973717212677]], [[1.0, 0.0, 0.0, 0.0, 0.0], [0.20778164267539978, 0.7922183871269226, 0.0, 0.0, 0.0], [0.12846806645393372, 0.11196671426296234, 0.7595652341842651, 0.0, 0.0], [0.06763464212417603, 0.00020328586106188595, 0.0001777794532245025, 0.9319843053817749, 0.0], [0.12758997082710266, 5.402039732871344e-06, 2.9671480206161505e-06, 1.2501788660301827e-05, 0.8723891377449036]], [[1.0, 0.0, 0.0, 0.0, 0.0], [0.979850709438324, 0.020149214193224907, 0.0, 0.0, 0.0], [0.9158893823623657, 0.06301918625831604, 0.021091440692543983, 0.0, 0.0], [0.7145859003067017, 0.060205910354852676, 0.04046480357646942, 0.1847434788942337, 0.0], [0.7444183826446533, 0.03927422687411308, 0.0688536986708641, 0.04388643428683281, 0.10356730967760086]], [[1.0, 0.0, 0.0, 0.0, 0.0], [0.9450804591178894, 0.054919518530368805, 0.0, 0.0, 0.0], [0.4235289394855499, 0.36568114161491394, 0.21078996360301971, 0.0, 0.0], [0.3207867443561554, 0.264219731092453, 0.289641797542572, 0.12535180151462555, 0.0], [0.3304987847805023, 0.19913350045681, 0.1939345896244049, 0.17826849222183228, 0.0981646478176117]], [[1.0, 0.0, 0.0, 0.0, 0.0], [0.35587698221206665, 0.6441230177879333, 0.0, 0.0, 0.0], [0.056039851158857346, 0.2944324314594269, 0.6495277285575867, 0.0, 0.0], [0.16832034289836884, 0.33530277013778687, 0.4250240623950958, 0.07135282456874847, 0.0], [0.30277204513549805, 0.1687849909067154, 0.19825291633605957, 0.23040936887264252, 0.09978073835372925]], [[1.0, 0.0, 0.0, 0.0, 0.0], [0.6966164708137512, 0.3033834993839264, 0.0, 0.0, 0.0], [0.4969775378704071, 0.2440987378358841, 0.25892373919487, 0.0, 0.0], [0.3993378281593323, 0.22860835492610931, 0.23708908259868622, 0.13496476411819458, 0.0], [0.4293574392795563, 0.19629299640655518, 0.20089098811149597, 0.13396002352237701, 0.03949856385588646]], [[1.0, 0.0, 0.0, 0.0, 0.0], [0.6031072735786438, 0.396892786026001, 0.0, 0.0, 0.0], [0.42501911520957947, 0.21913021802902222, 0.3558507263660431, 0.0, 0.0], [0.349791944026947, 0.16019567847251892, 0.17016489803791046, 0.3198474943637848, 0.0], [0.4067686200141907, 0.12630075216293335, 0.13958200812339783, 0.07781664282083511, 0.24953190982341766]], [[1.0, 0.0, 0.0, 0.0, 0.0], [0.6698073148727417, 0.3301927149295807, 0.0, 0.0, 0.0], [0.5597485899925232, 0.23635996878147125, 0.20389138162136078, 0.0, 0.0], [0.6472850441932678, 0.10351178050041199, 0.08920180797576904, 0.16000127792358398, 0.0], [0.44871196150779724, 0.14376290142536163, 0.10104916989803314, 0.1400846540927887, 0.16639137268066406]]], [[[1.0, 0.0, 0.0, 0.0, 0.0], [0.9858139157295227, 0.014186063781380653, 0.0, 0.0, 0.0], [0.6232442259788513, 0.2645981013774872, 0.1121576651930809, 0.0, 0.0], [0.2770072817802429, 0.16822049021720886, 0.44462457299232483, 0.11014765501022339, 0.0], [0.33624714612960815, 0.1297377347946167, 0.22291670739650726, 0.1911645382642746, 0.11993386596441269]], [[1.0, 0.0, 0.0, 0.0, 0.0], [0.945072591304779, 0.054927412420511246, 0.0, 0.0, 0.0], [0.63279128074646, 0.24857035279273987, 0.11863836646080017, 0.0, 0.0], [0.4736942946910858, 0.23251786828041077, 0.1981140673160553, 0.09567379206418991, 0.0], [0.4156421422958374, 0.1906278133392334, 0.15170417726039886, 0.14368359744548798, 0.0983421728014946]], [[1.0, 0.0, 0.0, 0.0, 0.0], [0.9708918929100037, 0.029108094051480293, 0.0, 0.0, 0.0], [0.6929373145103455, 0.06384460628032684, 0.2432180792093277, 0.0, 0.0], [0.544383704662323, 0.07124128937721252, 0.2261342853307724, 0.15824072062969208, 0.0], [0.4333871603012085, 0.07560458034276962, 0.21789781749248505, 0.13956399261951447, 0.13354645669460297]], [[1.0, 0.0, 0.0, 0.0, 0.0], [0.5783824920654297, 0.4216175079345703, 0.0, 0.0, 0.0], [0.5751909017562866, 0.21293681859970093, 0.21187229454517365, 0.0, 0.0], [0.5887136459350586, 0.1352057009935379, 0.13642792403697968, 0.1396527886390686, 0.0], [0.5154822468757629, 0.1193343922495842, 0.11552109569311142, 0.11684902012348175, 0.13281314074993134]], [[1.0, 0.0, 0.0, 0.0, 0.0], [0.9324203133583069, 0.06757969409227371, 0.0, 0.0, 0.0], [0.8211411237716675, 0.08615073561668396, 0.09270808100700378, 0.0, 0.0], [0.7467411756515503, 0.07934105396270752, 0.07670199126005173, 0.09721586108207703, 0.0], [0.6637581586837769, 0.08057867735624313, 0.07116086781024933, 0.0778772383928299, 0.10662508010864258]], [[1.0, 0.0, 0.0, 0.0, 0.0], [0.816625714302063, 0.18337424099445343, 0.0, 0.0, 0.0], [0.7275235056877136, 0.17683610320091248, 0.09564041346311569, 0.0, 0.0], [0.48182788491249084, 0.19665741920471191, 0.16423974931240082, 0.1572750210762024, 0.0], [0.5505788326263428, 0.12182921171188354, 0.16344065964221954, 0.0459701269865036, 0.11818119883537292]], [[1.0, 0.0, 0.0, 0.0, 0.0], [0.9865819215774536, 0.013418132439255714, 0.0, 0.0, 0.0], [0.8673278093338013, 0.060638491064310074, 0.07203377038240433, 0.0, 0.0], [0.8024295568466187, 0.07571195811033249, 0.05318005755543709, 0.06867841631174088, 0.0], [0.8436864614486694, 0.07994477450847626, 0.040207892656326294, 0.020632928237318993, 0.015528049319982529]], [[1.0, 0.0, 0.0, 0.0, 0.0], [0.9769996404647827, 0.023000340908765793, 0.0, 0.0, 0.0], [0.866909384727478, 0.05180545151233673, 0.08128519356250763, 0.0, 0.0], [0.7967742085456848, 0.056772567331790924, 0.05793798342347145, 0.08851522207260132, 0.0], [0.7260745763778687, 0.0668284222483635, 0.0628705620765686, 0.0839296504855156, 0.06029679626226425]], [[1.0, 0.0, 0.0, 0.0, 0.0], [0.8308724761009216, 0.16912756860256195, 0.0, 0.0, 0.0], [0.6991808414459229, 0.15286946296691895, 0.14794975519180298, 0.0, 0.0], [0.6090408563613892, 0.16072267293930054, 0.16035448014736176, 0.06988193839788437, 0.0], [0.49890485405921936, 0.1887882798910141, 0.15848684310913086, 0.07958367466926575, 0.07423637807369232]], [[1.0, 0.0, 0.0, 0.0, 0.0], [0.8777244091033936, 0.12227558344602585, 0.0, 0.0, 0.0], [0.7012527585029602, 0.15124377608299255, 0.14750343561172485, 0.0, 0.0], [0.6206315159797668, 0.14778853952884674, 0.18721821904182434, 0.044361721724271774, 0.0], [0.5939894914627075, 0.17308658361434937, 0.1283898502588272, 0.07486769556999207, 0.02966638281941414]], [[1.0, 0.0, 0.0, 0.0, 0.0], [0.00021961012680549175, 0.9997803568840027, 0.0, 0.0, 0.0], [0.0007343346369452775, 0.5728797316551208, 0.42638590931892395, 0.0, 0.0], [0.0007523265085183084, 0.3728030323982239, 0.2772420048713684, 0.3492026925086975, 0.0], [0.0007575854542665184, 0.2646121084690094, 0.19796425104141235, 0.24206824600696564, 0.294597864151001]], [[1.0, 0.0, 0.0, 0.0, 0.0], [0.5674086213111877, 0.43259137868881226, 0.0, 0.0, 0.0], [0.1740359216928482, 0.01878875121474266, 0.8071752786636353, 0.0, 0.0], [0.07125518471002579, 0.01719956286251545, 0.011713536456227303, 0.8998317122459412, 0.0], [0.1748582422733307, 0.018323436379432678, 0.004001493565738201, 0.003574025584384799, 0.7992427945137024]]], [[[1.0, 0.0, 0.0, 0.0, 0.0], [0.9385062456130981, 0.06149375066161156, 0.0, 0.0, 0.0], [0.8313171863555908, 0.07635167241096497, 0.0923311859369278, 0.0, 0.0], [0.6626035571098328, 0.10435152053833008, 0.09078065305948257, 0.1422642171382904, 0.0], [0.4828358292579651, 0.12637776136398315, 0.10059535503387451, 0.20681491494178772, 0.0833762139081955]], [[1.0, 0.0, 0.0, 0.0, 0.0], [0.9976378679275513, 0.002362113445997238, 0.0, 0.0, 0.0], [0.972345232963562, 0.004629582166671753, 0.023025278002023697, 0.0, 0.0], [0.9754291772842407, 0.003480138024315238, 0.013973056338727474, 0.007117652799934149, 0.0], [0.8898910880088806, 0.015810737386345863, 0.06431863456964493, 0.021066009998321533, 0.008913528174161911]], [[1.0, 0.0, 0.0, 0.0, 0.0], [0.995613694190979, 0.004386333283036947, 0.0, 0.0, 0.0], [0.1969875991344452, 0.7543004155158997, 0.048711977899074554, 0.0, 0.0], [0.1706627756357193, 0.28606516122817993, 0.44343435764312744, 0.09983774274587631, 0.0], [0.1498628407716751, 0.3242799937725067, 0.19022737443447113, 0.24435722827911377, 0.09127248823642731]], [[1.0, 0.0, 0.0, 0.0, 0.0], [0.9851250648498535, 0.014874964952468872, 0.0, 0.0, 0.0], [0.7048370242118835, 0.12012600898742676, 0.1750369369983673, 0.0, 0.0], [0.32465752959251404, 0.08213470876216888, 0.4759621322154999, 0.11724556237459183, 0.0], [0.18835873901844025, 0.08248536288738251, 0.2713216543197632, 0.40075141191482544, 0.0570828951895237]], [[1.0, 0.0, 0.0, 0.0, 0.0], [0.9822931885719299, 0.017706824466586113, 0.0, 0.0, 0.0], [0.5682594180107117, 0.35339853167533875, 0.0783420205116272, 0.0, 0.0], [0.5190126299858093, 0.26456695795059204, 0.17790576815605164, 0.03851458057761192, 0.0], [0.5598583817481995, 0.13412030041217804, 0.21233636140823364, 0.07335320115089417, 0.020331738516688347]], [[1.0, 0.0, 0.0, 0.0, 0.0], [0.96181720495224, 0.03818277269601822, 0.0, 0.0, 0.0], [0.5418679118156433, 0.38792410492897034, 0.07020804286003113, 0.0, 0.0], [0.46825313568115234, 0.34118810296058655, 0.15366391837596893, 0.0368947833776474, 0.0], [0.3196079134941101, 0.2701168656349182, 0.21916033327579498, 0.1047426164150238, 0.08637220412492752]], [[1.0, 0.0, 0.0, 0.0, 0.0], [0.9716516733169556, 0.028348375111818314, 0.0, 0.0, 0.0], [0.889674961566925, 0.04633518308401108, 0.06398989260196686, 0.0, 0.0], [0.8540332913398743, 0.03595016151666641, 0.05985693633556366, 0.050159577280282974, 0.0], [0.8311740159988403, 0.03668005019426346, 0.062129657715559006, 0.04929698631167412, 0.02071927860379219]], [[1.0, 0.0, 0.0, 0.0, 0.0], [0.784643292427063, 0.21535669267177582, 0.0, 0.0, 0.0], [0.6111958622932434, 0.09701979160308838, 0.2917843163013458, 0.0, 0.0], [0.49012529850006104, 0.059808675199747086, 0.16166968643665314, 0.28839632868766785, 0.0], [0.3245253264904022, 0.04605673626065254, 0.10160806775093079, 0.17000284790992737, 0.3578070402145386]], [[1.0, 0.0, 0.0, 0.0, 0.0], [0.9084987640380859, 0.09150118380784988, 0.0, 0.0, 0.0], [0.44531115889549255, 0.5094339847564697, 0.04525481536984444, 0.0, 0.0], [0.3214479088783264, 0.4837445318698883, 0.1487346887588501, 0.04607293754816055, 0.0], [0.2305348962545395, 0.2519959509372711, 0.13137276470661163, 0.3265228867530823, 0.05957361310720444]], [[1.0, 0.0, 0.0, 0.0, 0.0], [0.9974046349525452, 0.002595386002212763, 0.0, 0.0, 0.0], [0.9410036206245422, 0.03778308629989624, 0.021213235333561897, 0.0, 0.0], [0.6777194738388062, 0.06116452068090439, 0.07017477601766586, 0.1909412294626236, 0.0], [0.17218312621116638, 0.05309019610285759, 0.03879319503903389, 0.5280145406723022, 0.2079189121723175]], [[1.0, 0.0, 0.0, 0.0, 0.0], [0.8950594067573547, 0.10494052618741989, 0.0, 0.0, 0.0], [0.7931686639785767, 0.10704260319471359, 0.09978879243135452, 0.0, 0.0], [0.6836857795715332, 0.08404690027236938, 0.07881822437047958, 0.15344899892807007, 0.0], [0.4972858130931854, 0.09083180129528046, 0.07737991958856583, 0.1366271823644638, 0.19787530601024628]], [[1.0, 0.0, 0.0, 0.0, 0.0], [0.9568899273872375, 0.043110109865665436, 0.0, 0.0, 0.0], [0.8824918866157532, 0.05237056314945221, 0.06513756513595581, 0.0, 0.0], [0.8456559777259827, 0.037726037204265594, 0.04756077751517296, 0.0690571665763855, 0.0], [0.7923400402069092, 0.03444049879908562, 0.03881877660751343, 0.05300145223736763, 0.08139920234680176]]], [[[1.0, 0.0, 0.0, 0.0, 0.0], [0.9914970993995667, 0.008502904325723648, 0.0, 0.0, 0.0], [0.9794747829437256, 0.009341908618807793, 0.011183296330273151, 0.0, 0.0], [0.9576793909072876, 0.0029061101377010345, 0.003340976545587182, 0.036073364317417145, 0.0], [0.819072961807251, 0.01357999350875616, 0.007247727829962969, 0.00012365190195851028, 0.15997572243213654]], [[1.0, 0.0, 0.0, 0.0, 0.0], [0.9471339583396912, 0.05286603420972824, 0.0, 0.0, 0.0], [0.8317363262176514, 0.11450578272342682, 0.05375788360834122, 0.0, 0.0], [0.8168941140174866, 0.0751349925994873, 0.08948192745447159, 0.01848900504410267, 0.0], [0.4904133677482605, 0.15603289008140564, 0.22442784905433655, 0.061759889125823975, 0.06736607104539871]], [[1.0, 0.0, 0.0, 0.0, 0.0], [0.917635977268219, 0.08236405998468399, 0.0, 0.0, 0.0], [0.19939133524894714, 0.6687461733818054, 0.13186250627040863, 0.0, 0.0], [0.2052014023065567, 0.2530120015144348, 0.4917945861816406, 0.049992069602012634, 0.0], [0.14207527041435242, 0.12033171206712723, 0.5861611366271973, 0.11734195053577423, 0.0340898223221302]], [[1.0, 0.0, 0.0, 0.0, 0.0], [0.9894019961357117, 0.010598033666610718, 0.0, 0.0, 0.0], [0.7212564945220947, 0.1844106912612915, 0.09433284401893616, 0.0, 0.0], [0.7072129249572754, 0.06374674290418625, 0.19157619774341583, 0.037464141845703125, 0.0], [0.6633005142211914, 0.08169729262590408, 0.04970191791653633, 0.1825234442949295, 0.022776754572987556]], [[1.0, 0.0, 0.0, 0.0, 0.0], [0.9828065633773804, 0.017193470150232315, 0.0, 0.0, 0.0], [0.9596646428108215, 0.02893553487956524, 0.01139980461448431, 0.0, 0.0], [0.9529534578323364, 0.025059692561626434, 0.01213215570896864, 0.009854746982455254, 0.0], [0.8967634439468384, 0.04955416917800903, 0.019496846944093704, 0.005250876769423485, 0.028934627771377563]], [[1.0, 0.0, 0.0, 0.0, 0.0], [0.9809343218803406, 0.01906563527882099, 0.0, 0.0, 0.0], [0.8268190026283264, 0.09988756477832794, 0.07329349964857101, 0.0, 0.0], [0.8100382089614868, 0.0821668803691864, 0.08803237229585648, 0.019762566313147545, 0.0], [0.7134275436401367, 0.07608414441347122, 0.11497940123081207, 0.05103207752108574, 0.044476889073848724]], [[1.0, 0.0, 0.0, 0.0, 0.0], [0.9630342721939087, 0.036965809762477875, 0.0, 0.0, 0.0], [0.665534257888794, 0.2865700125694275, 0.04789579287171364, 0.0, 0.0], [0.4130164682865143, 0.20954157412052155, 0.17272770404815674, 0.20471425354480743, 0.0], [0.31350192427635193, 0.19456511735916138, 0.1559027135372162, 0.11588811129331589, 0.2201421856880188]], [[1.0, 0.0, 0.0, 0.0, 0.0], [0.9786257743835449, 0.021374166011810303, 0.0, 0.0, 0.0], [0.7424216866493225, 0.15546569228172302, 0.10211259126663208, 0.0, 0.0], [0.6415841579437256, 0.16142866015434265, 0.11996953934431076, 0.07701759785413742, 0.0], [0.19237208366394043, 0.07647648453712463, 0.05561443045735359, 0.5556693077087402, 0.11986774206161499]], [[1.0, 0.0, 0.0, 0.0, 0.0], [0.8125039339065552, 0.1874961405992508, 0.0, 0.0, 0.0], [0.4789270758628845, 0.46741968393325806, 0.05365324765443802, 0.0, 0.0], [0.49861079454421997, 0.35212868452072144, 0.07485568523406982, 0.07440486550331116, 0.0], [0.23621074855327606, 0.15844447910785675, 0.33646100759506226, 0.2588399350643158, 0.010043839924037457]], [[1.0, 0.0, 0.0, 0.0, 0.0], [0.9663172960281372, 0.033682722598314285, 0.0, 0.0, 0.0], [0.5905873775482178, 0.3271510899066925, 0.08226150274276733, 0.0, 0.0], [0.37612494826316833, 0.4346282184123993, 0.17237967252731323, 0.016867224127054214, 0.0], [0.5801442861557007, 0.10315541177988052, 0.21747322380542755, 0.0335828997194767, 0.06564413756132126]], [[1.0, 0.0, 0.0, 0.0, 0.0], [0.9927651286125183, 0.0072348592802882195, 0.0, 0.0, 0.0], [0.9333576560020447, 0.01155391987413168, 0.05508832260966301, 0.0, 0.0], [0.8197305798530579, 0.010554129257798195, 0.02501573972404003, 0.1446995735168457, 0.0], [0.7380537986755371, 0.030465982854366302, 0.02422448806464672, 0.0787624940276146, 0.12849320471286774]], [[1.0, 0.0, 0.0, 0.0, 0.0], [0.9820393919944763, 0.01796065829694271, 0.0, 0.0, 0.0], [0.8179248571395874, 0.08087176829576492, 0.10120333731174469, 0.0, 0.0], [0.5181639790534973, 0.1076226681470871, 0.11430568248033524, 0.25990766286849976, 0.0], [0.10437928885221481, 0.03424612432718277, 0.07318495959043503, 0.7627317309379578, 0.025457894429564476]]], [[[1.0, 0.0, 0.0, 0.0, 0.0], [0.975753128528595, 0.024246923625469208, 0.0, 0.0, 0.0], [0.568945586681366, 0.19765034317970276, 0.23340407013893127, 0.0, 0.0], [0.11135311424732208, 0.2546147406101227, 0.5970618724822998, 0.03697024658322334, 0.0], [0.14748118817806244, 0.30857646465301514, 0.4631687104701996, 0.05661259591579437, 0.024161003530025482]], [[1.0, 0.0, 0.0, 0.0, 0.0], [0.9818816781044006, 0.018118353560566902, 0.0, 0.0, 0.0], [0.7641651034355164, 0.21291697025299072, 0.022917918860912323, 0.0, 0.0], [0.7103517055511475, 0.16696330904960632, 0.09261655807495117, 0.03006848134100437, 0.0], [0.3634088635444641, 0.10612282902002335, 0.39736172556877136, 0.10399454832077026, 0.029112109914422035]], [[1.0, 0.0, 0.0, 0.0, 0.0], [0.9825044274330139, 0.017495550215244293, 0.0, 0.0, 0.0], [0.9030691981315613, 0.06086656078696251, 0.03606424853205681, 0.0, 0.0], [0.9376885890960693, 0.030858881771564484, 0.012813413515686989, 0.018639175221323967, 0.0], [0.8374911546707153, 0.028793495148420334, 0.048993948847055435, 0.054336342960596085, 0.030385039746761322]], [[1.0, 0.0, 0.0, 0.0, 0.0], [0.9468716979026794, 0.05312831327319145, 0.0, 0.0, 0.0], [0.5994351506233215, 0.37780943512916565, 0.022755440324544907, 0.0, 0.0], [0.4645691215991974, 0.49297821521759033, 0.03010898269712925, 0.012343657203018665, 0.0], [0.650721549987793, 0.0971280187368393, 0.03672228008508682, 0.0514800138771534, 0.1639481633901596]], [[1.0, 0.0, 0.0, 0.0, 0.0], [0.9530444741249084, 0.046955473721027374, 0.0, 0.0, 0.0], [0.8564093708992004, 0.05968554690480232, 0.08390513062477112, 0.0, 0.0], [0.8219773769378662, 0.04917187616229057, 0.08082462102174759, 0.048026081174612045, 0.0], [0.7922700047492981, 0.0514339916408062, 0.06818899512290955, 0.043181274086236954, 0.04492568224668503]], [[1.0, 0.0, 0.0, 0.0, 0.0], [0.9459723234176636, 0.05402764678001404, 0.0, 0.0, 0.0], [0.8863168358802795, 0.06701112538576126, 0.046671994030475616, 0.0, 0.0], [0.8527753353118896, 0.05487274006009102, 0.0425172820687294, 0.049834687262773514, 0.0], [0.5698708891868591, 0.08394379913806915, 0.15714289247989655, 0.14311540126800537, 0.04592705890536308]], [[1.0, 0.0, 0.0, 0.0, 0.0], [0.9588817358016968, 0.04111833497881889, 0.0, 0.0, 0.0], [0.7610076665878296, 0.18025141954421997, 0.05874095484614372, 0.0, 0.0], [0.742971658706665, 0.13297349214553833, 0.06735843420028687, 0.056696366518735886, 0.0], [0.6103684902191162, 0.09138213098049164, 0.08161983639001846, 0.17276914417743683, 0.043860360980033875]], [[1.0, 0.0, 0.0, 0.0, 0.0], [0.9971067309379578, 0.0028932238928973675, 0.0, 0.0, 0.0], [0.7067546844482422, 0.005089040845632553, 0.2881562411785126, 0.0, 0.0], [0.4436349868774414, 0.010812119580805302, 0.1277795135974884, 0.41777336597442627, 0.0], [0.17082101106643677, 0.003539805533364415, 0.02155502326786518, 0.12917013466358185, 0.6749140620231628]], [[1.0, 0.0, 0.0, 0.0, 0.0], [0.9948306679725647, 0.005169341806322336, 0.0, 0.0, 0.0], [0.9587817788124084, 0.021033834666013718, 0.020184345543384552, 0.0, 0.0], [0.859360933303833, 0.020549068227410316, 0.05637066438794136, 0.06371931731700897, 0.0], [0.8599112629890442, 0.009680896066129208, 0.01806952804327011, 0.030690990388393402, 0.08164728432893753]], [[1.0, 0.0, 0.0, 0.0, 0.0], [0.9836604595184326, 0.016339607536792755, 0.0, 0.0, 0.0], [0.8379257321357727, 0.09503290057182312, 0.0670412927865982, 0.0, 0.0], [0.6194424033164978, 0.07449617981910706, 0.25129926204681396, 0.05476208031177521, 0.0], [0.5966930389404297, 0.05119108408689499, 0.1906982660293579, 0.1387978047132492, 0.022619759663939476]], [[1.0, 0.0, 0.0, 0.0, 0.0], [0.9885790348052979, 0.011421026661992073, 0.0, 0.0, 0.0], [0.9481443762779236, 0.012450292706489563, 0.03940526768565178, 0.0, 0.0], [0.926639199256897, 0.011349555104970932, 0.04054083302617073, 0.02147047407925129, 0.0], [0.8642382025718689, 0.03877275064587593, 0.04460865259170532, 0.010670308955013752, 0.04171011596918106]], [[1.0, 0.0, 0.0, 0.0, 0.0], [0.9999996423721313, 3.050687098493654e-07, 0.0, 0.0, 0.0], [1.577596958668437e-05, 0.9997019171714783, 0.00028232557815499604, 0.0, 0.0], [3.817839822062297e-09, 4.085193359060213e-05, 0.9998894929885864, 6.956401921343058e-05, 0.0], [1.0505075920264062e-07, 5.642918354809012e-10, 5.813011738631246e-10, 0.9999568462371826, 4.2993742681574076e-05]]], [[[1.0, 0.0, 0.0, 0.0, 0.0], [0.9836832880973816, 0.016316676512360573, 0.0, 0.0, 0.0], [0.9732821583747864, 0.0040794359520077705, 0.02263847179710865, 0.0, 0.0], [0.9674786925315857, 0.00021669635316357017, 0.001748382463119924, 0.03055618517100811, 0.0], [0.9787111878395081, 0.004376138560473919, 0.0022045301739126444, 0.0029948658775538206, 0.011713359504938126]], [[1.0, 0.0, 0.0, 0.0, 0.0], [0.9997276663780212, 0.0002723612415138632, 0.0, 0.0, 0.0], [0.9991911053657532, 5.527845587494085e-06, 0.000803399074357003, 0.0, 0.0], [0.9994975328445435, 6.485445283033187e-07, 1.7345511196253938e-06, 0.0005000390228815377, 0.0], [0.99888676404953, 9.210551070282236e-05, 1.4208330867404584e-05, 4.4767570216208696e-05, 0.0009622983052395284]], [[1.0, 0.0, 0.0, 0.0, 0.0], [0.8004128932952881, 0.19958709180355072, 0.0, 0.0, 0.0], [0.7201178073883057, 0.25629597902297974, 0.02358616143465042, 0.0, 0.0], [0.3889026939868927, 0.250113308429718, 0.3417827785015106, 0.019201168790459633, 0.0], [0.24915707111358643, 0.171937495470047, 0.3882167935371399, 0.1811000108718872, 0.00958865974098444]], [[1.0, 0.0, 0.0, 0.0, 0.0], [0.9177306890487671, 0.0822693333029747, 0.0, 0.0, 0.0], [0.8001005053520203, 0.1494387686252594, 0.05046076327562332, 0.0, 0.0], [0.7057600021362305, 0.15847398340702057, 0.10703974217176437, 0.028726311400532722, 0.0], [0.6025810241699219, 0.095303475856781, 0.10276675969362259, 0.15616081655025482, 0.0431879498064518]], [[1.0, 0.0, 0.0, 0.0, 0.0], [0.9700430035591125, 0.029957041144371033, 0.0, 0.0, 0.0], [0.8428822755813599, 0.12549854815006256, 0.031619179993867874, 0.0, 0.0], [0.7115257978439331, 0.1730223000049591, 0.09304080903530121, 0.02241114340722561, 0.0], [0.4289621114730835, 0.035009440034627914, 0.09470081329345703, 0.26073676347732544, 0.1805908977985382]], [[1.0, 0.0, 0.0, 0.0, 0.0], [0.9429055452346802, 0.0570945106446743, 0.0, 0.0, 0.0], [0.9423513412475586, 0.019694892689585686, 0.0379536971449852, 0.0, 0.0], [0.9894009232521057, 0.0005487827002070844, 0.005179456900805235, 0.004870802629739046, 0.0], [0.7225804328918457, 0.1387540102005005, 0.12735362350940704, 0.007248165085911751, 0.004063813015818596]], [[1.0, 0.0, 0.0, 0.0, 0.0], [0.856898844242096, 0.14310111105442047, 0.0, 0.0, 0.0], [0.56448894739151, 0.39586374163627625, 0.039647359400987625, 0.0, 0.0], [0.6297622323036194, 0.18815898895263672, 0.15394015610218048, 0.028138592839241028, 0.0], [0.807406485080719, 0.001411875244230032, 0.0017629701178520918, 0.14334718883037567, 0.04607139155268669]], [[1.0, 0.0, 0.0, 0.0, 0.0], [0.9806318283081055, 0.019368212670087814, 0.0, 0.0, 0.0], [0.96773761510849, 0.017257696017622948, 0.015004744753241539, 0.0, 0.0], [0.9296615123748779, 0.020724449306726456, 0.020324787124991417, 0.02928924560546875, 0.0], [0.8292751908302307, 0.002997369272634387, 0.008929012343287468, 0.13078553974628448, 0.02801291085779667]], [[1.0, 0.0, 0.0, 0.0, 0.0], [0.9687640070915222, 0.031235985457897186, 0.0, 0.0, 0.0], [0.9286782741546631, 0.04320347309112549, 0.028118250891566277, 0.0, 0.0], [0.9437368512153625, 0.014038690365850925, 0.005900335032492876, 0.036324162036180496, 0.0], [0.5553589463233948, 0.3116820752620697, 0.10374889522790909, 0.01890587992966175, 0.010304274968802929]], [[1.0, 0.0, 0.0, 0.0, 0.0], [0.9698410034179688, 0.03015902079641819, 0.0, 0.0, 0.0], [0.9014405012130737, 0.06694534420967102, 0.03161407262086868, 0.0, 0.0], [0.8925496935844421, 0.05761168152093887, 0.04496477544307709, 0.004873852711170912, 0.0], [0.9013084769248962, 0.07432438433170319, 0.01557749044150114, 0.003683308372274041, 0.005106262397021055]], [[1.0, 0.0, 0.0, 0.0, 0.0], [0.8312650322914124, 0.16873492300510406, 0.0, 0.0, 0.0], [0.5102297067642212, 0.4666700065135956, 0.023100286722183228, 0.0, 0.0], [0.7489738464355469, 0.22419854998588562, 0.017141034826636314, 0.009686592034995556, 0.0], [0.5085662603378296, 0.3855685889720917, 0.024188706651329994, 0.007892482914030552, 0.07378391176462173]], [[1.0, 0.0, 0.0, 0.0, 0.0], [0.9544218182563782, 0.045578163117170334, 0.0, 0.0, 0.0], [0.8771545886993408, 0.02963513880968094, 0.09321022778749466, 0.0, 0.0], [0.8447613716125488, 0.020405147224664688, 0.04774006828665733, 0.08709346503019333, 0.0], [0.7846994400024414, 0.06871119886636734, 0.06698991358280182, 0.01780535839498043, 0.06179405003786087]]], [[[1.0, 0.0, 0.0, 0.0, 0.0], [0.8468533158302307, 0.1531466543674469, 0.0, 0.0, 0.0], [0.370696485042572, 0.6038038730621338, 0.025499675422906876, 0.0, 0.0], [0.27661505341529846, 0.549902617931366, 0.1559523493051529, 0.017529934644699097, 0.0], [0.26140639185905457, 0.2251424342393875, 0.2917476296424866, 0.19079731404781342, 0.030906176194548607]], [[1.0, 0.0, 0.0, 0.0, 0.0], [0.9606695771217346, 0.03933045640587807, 0.0, 0.0, 0.0], [0.9611020088195801, 0.030322253704071045, 0.008575739338994026, 0.0, 0.0], [0.9535456299781799, 0.021680347621440887, 0.005075517576187849, 0.019698457792401314, 0.0], [0.8407858610153198, 0.04180774837732315, 0.006420364137738943, 0.06340768933296204, 0.04757832735776901]], [[1.0, 0.0, 0.0, 0.0, 0.0], [0.9769715666770935, 0.02302849479019642, 0.0, 0.0, 0.0], [0.9302843809127808, 0.032495494931936264, 0.037220075726509094, 0.0, 0.0], [0.8824054002761841, 0.05073195695877075, 0.038589924573898315, 0.028272734954953194, 0.0], [0.870850145816803, 0.03720169886946678, 0.05095675215125084, 0.032577063888311386, 0.008414275012910366]], [[1.0, 0.0, 0.0, 0.0, 0.0], [0.9856926202774048, 0.014307371340692043, 0.0, 0.0, 0.0], [0.952265739440918, 0.019891824573278427, 0.027842408046126366, 0.0, 0.0], [0.9354839324951172, 0.021605905145406723, 0.024793045595288277, 0.018117014318704605, 0.0], [0.8661490678787231, 0.03815986588597298, 0.036745402961969376, 0.03077075630426407, 0.02817494049668312]], [[1.0, 0.0, 0.0, 0.0, 0.0], [0.8327184319496155, 0.16728155314922333, 0.0, 0.0, 0.0], [0.828853964805603, 0.12615886330604553, 0.04498712345957756, 0.0, 0.0], [0.8237867951393127, 0.08124567568302155, 0.030080324038863182, 0.06488730013370514, 0.0], [0.8475348353385925, 0.05368927866220474, 0.027655567973852158, 0.035639602690935135, 0.03548074886202812]], [[1.0, 0.0, 0.0, 0.0, 0.0], [0.9704310894012451, 0.029568925499916077, 0.0, 0.0, 0.0], [0.9023797512054443, 0.06107725948095322, 0.036542948335409164, 0.0, 0.0], [0.9040399789810181, 0.03155800700187683, 0.023853246122598648, 0.04054873809218407, 0.0], [0.8712518811225891, 0.025072241201996803, 0.018454020842909813, 0.03441988676786423, 0.05080205574631691]], [[1.0, 0.0, 0.0, 0.0, 0.0], [0.890549898147583, 0.10945011675357819, 0.0, 0.0, 0.0], [0.8668851852416992, 0.0530252680182457, 0.08008947968482971, 0.0, 0.0], [0.8764569759368896, 0.030783554539084435, 0.046999890357255936, 0.04575955495238304, 0.0], [0.8232724070549011, 0.07631617784500122, 0.05694006010890007, 0.009740696288645267, 0.03373069688677788]], [[1.0, 0.0, 0.0, 0.0, 0.0], [0.9438251852989197, 0.05617475137114525, 0.0, 0.0, 0.0], [0.828809916973114, 0.1570286601781845, 0.014161466620862484, 0.0, 0.0], [0.6400915384292603, 0.3048626184463501, 0.03694650158286095, 0.01809934712946415, 0.0], [0.6608825325965881, 0.12915247678756714, 0.047724492847919464, 0.09942540526390076, 0.06281495094299316]], [[1.0, 0.0, 0.0, 0.0, 0.0], [0.9728361964225769, 0.02716381847858429, 0.0, 0.0, 0.0], [0.6471172571182251, 0.34039658308029175, 0.012486168183386326, 0.0, 0.0], [0.5528537631034851, 0.2692108750343323, 0.15023691952228546, 0.02769843488931656, 0.0], [0.5719283223152161, 0.05097665265202522, 0.12303246557712555, 0.22267131507396698, 0.03139125183224678]], [[1.0, 0.0, 0.0, 0.0, 0.0], [0.9834226369857788, 0.01657734252512455, 0.0, 0.0, 0.0], [0.997557520866394, 0.000721569755114615, 0.0017209138022735715, 0.0, 0.0], [0.9983395338058472, 2.5898842068272643e-05, 7.375902350759134e-05, 0.0015606755623593926, 0.0], [0.9972422122955322, 0.00032229520729742944, 0.0004562936373986304, 0.00015690182044636458, 0.0018223109655082226]], [[1.0, 0.0, 0.0, 0.0, 0.0], [0.9928783774375916, 0.007121644448488951, 0.0, 0.0, 0.0], [0.986107587814331, 0.003870900021865964, 0.010021514259278774, 0.0, 0.0], [0.9343574643135071, 0.0053470563143491745, 0.010101704858243465, 0.05019368231296539, 0.0], [0.9234764575958252, 0.014925161376595497, 0.009647144004702568, 0.008812226355075836, 0.04313904047012329]], [[1.0, 0.0, 0.0, 0.0, 0.0], [0.9607515335083008, 0.03924844413995743, 0.0, 0.0, 0.0], [0.8126780390739441, 0.1601186841726303, 0.027203269302845, 0.0, 0.0], [0.7085802555084229, 0.15710271894931793, 0.07768929749727249, 0.056627750396728516, 0.0], [0.5926302075386047, 0.03753681480884552, 0.10277865082025528, 0.23788850009441376, 0.029165953397750854]]], [[[1.0, 0.0, 0.0, 0.0, 0.0], [0.9649326205253601, 0.035067372024059296, 0.0, 0.0, 0.0], [0.8518738746643066, 0.1304117739200592, 0.01771443709731102, 0.0, 0.0], [0.5700733065605164, 0.16298215091228485, 0.24368460476398468, 0.023259971290826797, 0.0], [0.3537623882293701, 0.04523202031850815, 0.08869797736406326, 0.46934711933135986, 0.0429605208337307]], [[1.0, 0.0, 0.0, 0.0, 0.0], [0.9931204319000244, 0.006879566702991724, 0.0, 0.0, 0.0], [0.9728305339813232, 0.021675484254956245, 0.005494005512446165, 0.0, 0.0], [0.933803915977478, 0.04371033236384392, 0.006872812286019325, 0.01561290118843317, 0.0], [0.9392113089561462, 0.022070009261369705, 0.004828355740755796, 0.004886847920715809, 0.02900351583957672]], [[1.0, 0.0, 0.0, 0.0, 0.0], [0.9981558918952942, 0.00184412463568151, 0.0, 0.0, 0.0], [0.9954804182052612, 0.001149781164713204, 0.0033697434701025486, 0.0, 0.0], [0.9861661195755005, 0.00022931932471692562, 0.0001743652974255383, 0.013430147431790829, 0.0], [0.9973391890525818, 0.00021199924231041223, 0.00011592252121772617, 0.0002467035374138504, 0.002086219610646367]], [[1.0, 0.0, 0.0, 0.0, 0.0], [0.9600179195404053, 0.03998209536075592, 0.0, 0.0, 0.0], [0.859421968460083, 0.11881779879331589, 0.02176019921898842, 0.0, 0.0], [0.7639829516410828, 0.149470716714859, 0.05206329748034477, 0.03448307141661644, 0.0], [0.7645736932754517, 0.10562790930271149, 0.03435232490301132, 0.024598119780421257, 0.0708480253815651]], [[1.0, 0.0, 0.0, 0.0, 0.0], [0.9722528457641602, 0.027747182175517082, 0.0, 0.0, 0.0], [0.923480749130249, 0.06862080842256546, 0.007898496463894844, 0.0, 0.0], [0.9460278749465942, 0.03857105225324631, 0.009476838633418083, 0.005924185272306204, 0.0], [0.6469101905822754, 0.07328207045793533, 0.07163996249437332, 0.18623271584510803, 0.021935028955340385]], [[1.0, 0.0, 0.0, 0.0, 0.0], [0.973785400390625, 0.02621462009847164, 0.0, 0.0, 0.0], [0.8813447952270508, 0.08870574831962585, 0.029949462041258812, 0.0, 0.0], [0.8824735283851624, 0.08031950145959854, 0.023727696388959885, 0.013479361310601234, 0.0], [0.8366826772689819, 0.0494379848241806, 0.030659647658467293, 0.051616448909044266, 0.03160326927900314]], [[1.0, 0.0, 0.0, 0.0, 0.0], [0.9757182598114014, 0.02428172156214714, 0.0, 0.0, 0.0], [0.9647267460823059, 0.026710664853453636, 0.0085624810308218, 0.0, 0.0], [0.9345174431800842, 0.03244318440556526, 0.011670488864183426, 0.0213689636439085, 0.0], [0.9333253502845764, 0.018182426691055298, 0.006417361553758383, 0.012846123427152634, 0.029228873550891876]], [[1.0, 0.0, 0.0, 0.0, 0.0], [0.9896019101142883, 0.010398038662970066, 0.0, 0.0, 0.0], [0.9930813908576965, 0.004165345802903175, 0.002753324806690216, 0.0, 0.0], [0.9889715313911438, 0.002288305666297674, 0.002119476441293955, 0.006620642729103565, 0.0], [0.9652247428894043, 0.006534021347761154, 0.004151979461312294, 0.006392541341483593, 0.01769666001200676]], [[1.0, 0.0, 0.0, 0.0, 0.0], [0.8802857398986816, 0.11971427500247955, 0.0, 0.0, 0.0], [0.3803192675113678, 0.6070948243141174, 0.012585925869643688, 0.0, 0.0], [0.2656138837337494, 0.6842885613441467, 0.043010205030441284, 0.007087368983775377, 0.0], [0.8428810238838196, 0.04931484907865524, 0.031284768134355545, 0.035600386559963226, 0.04091895744204521]], [[1.0, 0.0, 0.0, 0.0, 0.0], [0.9743626713752747, 0.025637289509177208, 0.0, 0.0, 0.0], [0.9303520917892456, 0.05510098487138748, 0.01454697921872139, 0.0, 0.0], [0.9236541986465454, 0.04575907438993454, 0.01742480881512165, 0.013161863200366497, 0.0], [0.8660440444946289, 0.04585547745227814, 0.02868366241455078, 0.020383240655064583, 0.039033595472574234]], [[1.0, 0.0, 0.0, 0.0, 0.0], [0.9880984425544739, 0.011901522055268288, 0.0, 0.0, 0.0], [0.990835428237915, 0.004963180515915155, 0.0042014229111373425, 0.0, 0.0], [0.9202949404716492, 0.0019141687080264091, 0.0011399461654946208, 0.0766509398818016, 0.0], [0.9831529259681702, 0.0021825984586030245, 0.0010894836159422994, 0.003744719782844186, 0.009830272756516933]], [[1.0, 0.0, 0.0, 0.0, 0.0], [0.9401660561561584, 0.05983391031622887, 0.0, 0.0, 0.0], [0.9869999289512634, 0.007112497463822365, 0.005887533538043499, 0.0, 0.0], [0.9877661466598511, 0.002644652035087347, 0.001209117821417749, 0.008380039595067501, 0.0], [0.9838416576385498, 0.009630299173295498, 0.0028791273944079876, 0.00018612750864122063, 0.0034626517444849014]]], [[[1.0, 0.0, 0.0, 0.0, 0.0], [0.8573893308639526, 0.14261062443256378, 0.0, 0.0, 0.0], [0.883830189704895, 0.08041713386774063, 0.03575273975729942, 0.0, 0.0], [0.9040691256523132, 0.04829297959804535, 0.02676834538578987, 0.020869579166173935, 0.0], [0.9253754615783691, 0.040548838675022125, 0.005897867027670145, 0.004669409245252609, 0.02350827492773533]], [[1.0, 0.0, 0.0, 0.0, 0.0], [0.9731050133705139, 0.02689504064619541, 0.0, 0.0, 0.0], [0.9932617545127869, 0.0038307674694806337, 0.0029074677731841803, 0.0, 0.0], [0.9691131114959717, 0.003977459389716387, 0.0017255025450140238, 0.025183873251080513, 0.0], [0.9551217555999756, 0.0165115874260664, 0.013864386826753616, 0.009503687731921673, 0.004998538643121719]], [[1.0, 0.0, 0.0, 0.0, 0.0], [0.9685812592506409, 0.03141878545284271, 0.0, 0.0, 0.0], [0.9012659788131714, 0.06855589151382446, 0.030178071931004524, 0.0, 0.0], [0.8250759840011597, 0.05479080602526665, 0.03613107651472092, 0.08400212228298187, 0.0], [0.8023989796638489, 0.044477012008428574, 0.06096882000565529, 0.03241528943181038, 0.059739865362644196]], [[1.0, 0.0, 0.0, 0.0, 0.0], [0.9777806401252747, 0.022219352424144745, 0.0, 0.0, 0.0], [0.7267677783966064, 0.1759926825761795, 0.09723954647779465, 0.0, 0.0], [0.6520370841026306, 0.2004871666431427, 0.10405127704143524, 0.04342440888285637, 0.0], [0.6311922669410706, 0.1785375028848648, 0.1120857521891594, 0.030573030933737755, 0.047611456364393234]], [[1.0, 0.0, 0.0, 0.0, 0.0], [0.9501135945320129, 0.04988643527030945, 0.0, 0.0, 0.0], [0.8853363394737244, 0.09520922601222992, 0.01945442147552967, 0.0, 0.0], [0.8270757794380188, 0.07919708639383316, 0.05456066504120827, 0.039166443049907684, 0.0], [0.6772161722183228, 0.021383011713624, 0.04911038652062416, 0.21510416269302368, 0.03718623146414757]], [[1.0, 0.0, 0.0, 0.0, 0.0], [0.9231355786323547, 0.07686436921358109, 0.0, 0.0, 0.0], [0.7202306985855103, 0.2384726107120514, 0.04129676893353462, 0.0, 0.0], [0.7131077647209167, 0.17986547946929932, 0.07255159318447113, 0.034475211054086685, 0.0], [0.6876529455184937, 0.09091900289058685, 0.0559789203107357, 0.11273124814033508, 0.052717916667461395]], [[1.0, 0.0, 0.0, 0.0, 0.0], [0.9420658946037292, 0.057934075593948364, 0.0, 0.0, 0.0], [0.975774347782135, 0.01672949269413948, 0.007496229838579893, 0.0, 0.0], [0.9618893265724182, 0.023939326405525208, 0.005091976374387741, 0.009079329669475555, 0.0], [0.8919549584388733, 0.02189232036471367, 0.013280960731208324, 0.005683019291609526, 0.06718869507312775]], [[1.0, 0.0, 0.0, 0.0, 0.0], [0.8433352112770081, 0.15666477382183075, 0.0, 0.0, 0.0], [0.33688825368881226, 0.5627221465110779, 0.10038958489894867, 0.0, 0.0], [0.23359514772891998, 0.4807016849517822, 0.25712573528289795, 0.028577400371432304, 0.0], [0.29912886023521423, 0.09724244475364685, 0.18103201687335968, 0.3683772087097168, 0.05421933904290199]], [[1.0, 0.0, 0.0, 0.0, 0.0], [0.8902478814125061, 0.10975217819213867, 0.0, 0.0, 0.0], [0.4961661100387573, 0.4739895761013031, 0.029844392091035843, 0.0, 0.0], [0.45766887068748474, 0.4817512333393097, 0.047160763293504715, 0.013419141992926598, 0.0], [0.7119248509407043, 0.17546428740024567, 0.04331149160861969, 0.02910652384161949, 0.040192849934101105]], [[1.0, 0.0, 0.0, 0.0, 0.0], [0.9041771292686462, 0.09582284092903137, 0.0, 0.0, 0.0], [0.7554335594177246, 0.20191970467567444, 0.04264669865369797, 0.0, 0.0], [0.6555288434028625, 0.2192021608352661, 0.06466244161128998, 0.06060656160116196, 0.0], [0.8006479740142822, 0.07738612592220306, 0.025693440809845924, 0.03133251890540123, 0.064939945936203]], [[1.0, 0.0, 0.0, 0.0, 0.0], [0.9274864196777344, 0.07251361012458801, 0.0, 0.0, 0.0], [0.8129482269287109, 0.11466115713119507, 0.07239057868719101, 0.0, 0.0], [0.8261751532554626, 0.10529503971338272, 0.0386127308011055, 0.02991708554327488, 0.0], [0.8203845024108887, 0.07159827649593353, 0.04084649682044983, 0.023468341678380966, 0.04370235279202461]], [[1.0, 0.0, 0.0, 0.0, 0.0], [0.9481301307678223, 0.051869846880435944, 0.0, 0.0, 0.0], [0.8483737111091614, 0.13328419625759125, 0.018342088907957077, 0.0, 0.0], [0.7431288361549377, 0.2086755931377411, 0.03711233288049698, 0.011083208955824375, 0.0], [0.8301868438720703, 0.11660192906856537, 0.01882602460682392, 0.015477494336664677, 0.018907712772488594]]], [[[1.0, 0.0, 0.0, 0.0, 0.0], [0.9274095892906189, 0.07259036600589752, 0.0, 0.0, 0.0], [0.7683780789375305, 0.21293656527996063, 0.01868528127670288, 0.0, 0.0], [0.7226498126983643, 0.25732606649398804, 0.01622241735458374, 0.003801746526733041, 0.0], [0.950088381767273, 0.030007848516106606, 0.003137340536341071, 0.0022733353544026613, 0.014493065886199474]], [[1.0, 0.0, 0.0, 0.0, 0.0], [0.9580482244491577, 0.04195178300142288, 0.0, 0.0, 0.0], [0.9580554366111755, 0.014392522163689137, 0.027552027255296707, 0.0, 0.0], [0.9749485850334167, 0.005129402503371239, 0.0009443867020308971, 0.018977534025907516, 0.0], [0.9553824067115784, 0.015839360654354095, 0.006534166634082794, 0.017181439325213432, 0.005062739830464125]], [[1.0, 0.0, 0.0, 0.0, 0.0], [0.9223943948745728, 0.07760555297136307, 0.0, 0.0, 0.0], [0.8335541486740112, 0.14451144635677338, 0.021934496238827705, 0.0, 0.0], [0.6396661400794983, 0.304258793592453, 0.0352315828204155, 0.020843505859375, 0.0], [0.9277280569076538, 0.03626459836959839, 0.0072002112865448, 0.010143960826098919, 0.01866312511265278]], [[1.0, 0.0, 0.0, 0.0, 0.0], [0.9408829212188721, 0.059117089956998825, 0.0, 0.0, 0.0], [0.7273691296577454, 0.251137375831604, 0.021493475884199142, 0.0, 0.0], [0.6648203134536743, 0.14750073850154877, 0.13385073840618134, 0.05382834002375603, 0.0], [0.45851653814315796, 0.10771568864583969, 0.09923075884580612, 0.2851966321468353, 0.04934040457010269]], [[1.0, 0.0, 0.0, 0.0, 0.0], [0.9888398051261902, 0.011160135269165039, 0.0, 0.0, 0.0], [0.996694803237915, 0.0026747938245534897, 0.0006304033449850976, 0.0, 0.0], [0.9957569241523743, 0.0014511732151731849, 0.0002803786192089319, 0.0025115187745541334, 0.0], [0.9760137796401978, 0.004562446381896734, 0.0009614402079023421, 0.0028676583897322416, 0.01559475064277649]], [[1.0, 0.0, 0.0, 0.0, 0.0], [0.9542525410652161, 0.045747485011816025, 0.0, 0.0, 0.0], [0.8917574286460876, 0.07512959092855453, 0.03311296924948692, 0.0, 0.0], [0.9124845266342163, 0.04458920285105705, 0.01803496666252613, 0.024891352280974388, 0.0], [0.8622344136238098, 0.06868088990449905, 0.018408818170428276, 0.010041087865829468, 0.04063475504517555]], [[1.0, 0.0, 0.0, 0.0, 0.0], [0.9869390726089478, 0.013060941360890865, 0.0, 0.0, 0.0], [0.9809642434120178, 0.011028414592146873, 0.008007408119738102, 0.0, 0.0], [0.9797260165214539, 0.007256091106683016, 0.001144532347097993, 0.011873382143676281, 0.0], [0.9707465171813965, 0.008589500561356544, 0.0030996459536254406, 0.0042062015272676945, 0.013358238153159618]], [[1.0, 0.0, 0.0, 0.0, 0.0], [0.9508935809135437, 0.04910648241639137, 0.0, 0.0, 0.0], [0.9348779916763306, 0.044874727725982666, 0.020247286185622215, 0.0, 0.0], [0.88984215259552, 0.05384412780404091, 0.02755160816013813, 0.028762001544237137, 0.0], [0.8603777885437012, 0.07688553631305695, 0.025288138538599014, 0.016254808753728867, 0.021193740889430046]], [[1.0, 0.0, 0.0, 0.0, 0.0], [0.8562493324279785, 0.14375071227550507, 0.0, 0.0, 0.0], [0.6466721892356873, 0.31960752606391907, 0.03372037410736084, 0.0, 0.0], [0.588433027267456, 0.3467332720756531, 0.048125263303518295, 0.016708502545952797, 0.0], [0.870267927646637, 0.09734266996383667, 0.01004153210669756, 0.006613376084715128, 0.015734542161226273]], [[1.0, 0.0, 0.0, 0.0, 0.0], [0.9956509470939636, 0.00434905057772994, 0.0, 0.0, 0.0], [0.9905121922492981, 0.003617302980273962, 0.005870501510798931, 0.0, 0.0], [0.9891892671585083, 0.0018145152134820819, 0.0013037333264946938, 0.007692382670938969, 0.0], [0.9838167428970337, 0.002385124797001481, 0.001468447968363762, 0.003991748671978712, 0.0083379577845335]], [[1.0, 0.0, 0.0, 0.0, 0.0], [0.8880722522735596, 0.11192771792411804, 0.0, 0.0, 0.0], [0.819313645362854, 0.13137184083461761, 0.04931456595659256, 0.0, 0.0], [0.7226003408432007, 0.1129145398736, 0.1209673061966896, 0.043517742305994034, 0.0], [0.34574374556541443, 0.030201122164726257, 0.15948466956615448, 0.3973880708217621, 0.0671822801232338]], [[1.0, 0.0, 0.0, 0.0, 0.0], [0.9790549278259277, 0.020945092663168907, 0.0, 0.0, 0.0], [0.9876396059989929, 0.007888173684477806, 0.004472160711884499, 0.0, 0.0], [0.9844388365745544, 0.004520198330283165, 0.0030267275869846344, 0.008014269173145294, 0.0], [0.9504570960998535, 0.019121617078781128, 0.015397293493151665, 0.0035038329660892487, 0.011520224623382092]]], [[[1.0, 0.0, 0.0, 0.0, 0.0], [0.9794504046440125, 0.020549528300762177, 0.0, 0.0, 0.0], [0.9258963465690613, 0.06306595355272293, 0.011037667281925678, 0.0, 0.0], [0.8991977572441101, 0.0716303288936615, 0.009809611365199089, 0.019362259656190872, 0.0], [0.9855131506919861, 0.006484895013272762, 0.0008135408279486, 0.0012740559177473187, 0.005914260167628527]], [[1.0, 0.0, 0.0, 0.0, 0.0], [0.9838152527809143, 0.016184760257601738, 0.0, 0.0, 0.0], [0.9633738994598389, 0.01766739785671234, 0.018958760425448418, 0.0, 0.0], [0.9596419930458069, 0.01017927099019289, 0.003492217045277357, 0.026686519384384155, 0.0], [0.9520713090896606, 0.00898758228868246, 0.0031689873430877924, 0.01395175140351057, 0.021820226684212685]], [[1.0, 0.0, 0.0, 0.0, 0.0], [0.9811055064201355, 0.018894478678703308, 0.0, 0.0, 0.0], [0.9749625325202942, 0.01749175414443016, 0.00754562858492136, 0.0, 0.0], [0.9665427207946777, 0.016880113631486893, 0.0050293998792767525, 0.011547829955816269, 0.0], [0.9250785112380981, 0.021388791501522064, 0.0030717209447175264, 0.008651054464280605, 0.04180999845266342]], [[1.0, 0.0, 0.0, 0.0, 0.0], [0.8931072354316711, 0.10689277201890945, 0.0, 0.0, 0.0], [0.7312297821044922, 0.1941111981868744, 0.07465903460979462, 0.0, 0.0], [0.5839610695838928, 0.29917606711387634, 0.06998410820960999, 0.04687870293855667, 0.0], [0.8502596616744995, 0.0862625241279602, 0.02328096702694893, 0.006438427604734898, 0.03375834599137306]], [[1.0, 0.0, 0.0, 0.0, 0.0], [0.8789576292037964, 0.1210424154996872, 0.0, 0.0, 0.0], [0.7294014096260071, 0.16517218947410583, 0.10542638599872589, 0.0, 0.0], [0.7377753257751465, 0.14988958835601807, 0.08859405666589737, 0.023741083219647408, 0.0], [0.9216709136962891, 0.035650834441185, 0.018945034593343735, 0.010008960962295532, 0.01372422743588686]], [[1.0, 0.0, 0.0, 0.0, 0.0], [0.9633682370185852, 0.036631789058446884, 0.0, 0.0, 0.0], [0.9821997880935669, 0.0141943683847785, 0.0036058237310498953, 0.0, 0.0], [0.9929714798927307, 0.0032616937533020973, 0.0019258507527410984, 0.001840907265432179, 0.0], [0.5085664391517639, 0.08114811778068542, 0.10911048203706741, 0.23074541985988617, 0.07042960822582245]], [[1.0, 0.0, 0.0, 0.0, 0.0], [0.9565289616584778, 0.04347097873687744, 0.0, 0.0, 0.0], [0.8013885021209717, 0.16633282601833344, 0.032278649508953094, 0.0, 0.0], [0.6601993441581726, 0.25677070021629333, 0.046922631561756134, 0.03610728681087494, 0.0], [0.9455917477607727, 0.015832675620913506, 0.0037066135555505753, 0.004981737118214369, 0.02988738752901554]], [[1.0, 0.0, 0.0, 0.0, 0.0], [0.9057514667510986, 0.09424854815006256, 0.0, 0.0, 0.0], [0.7959216833114624, 0.1482986956834793, 0.05577964335680008, 0.0, 0.0], [0.7803954482078552, 0.1265089362859726, 0.03264903649687767, 0.060446545481681824, 0.0], [0.9113597273826599, 0.0474468395113945, 0.008562718518078327, 0.003759116865694523, 0.02887151576578617]], [[1.0, 0.0, 0.0, 0.0, 0.0], [0.9849536418914795, 0.015046395361423492, 0.0, 0.0, 0.0], [0.9815192222595215, 0.010799610055983067, 0.007681187242269516, 0.0, 0.0], [0.972976565361023, 0.012042916379868984, 0.0035963328555226326, 0.011384152807295322, 0.0], [0.9538324475288391, 0.01447152066975832, 0.013123122043907642, 0.004848785232752562, 0.01372421346604824]], [[1.0, 0.0, 0.0, 0.0, 0.0], [0.9512909054756165, 0.04870903864502907, 0.0, 0.0, 0.0], [0.8727709054946899, 0.10588813573122025, 0.021340981125831604, 0.0, 0.0], [0.8251475691795349, 0.06063614785671234, 0.08467002213001251, 0.029546208679676056, 0.0], [0.38222822546958923, 0.026114478707313538, 0.05951922759413719, 0.36976462602615356, 0.1623734086751938]], [[1.0, 0.0, 0.0, 0.0, 0.0], [0.9912732243537903, 0.00872671976685524, 0.0, 0.0, 0.0], [0.9727447032928467, 0.017109181731939316, 0.010146009735763073, 0.0, 0.0], [0.9641433358192444, 0.02156459540128708, 0.006706709507852793, 0.007585400715470314, 0.0], [0.9776602983474731, 0.008287006057798862, 0.005659108050167561, 0.0024393675848841667, 0.005954238120466471]], [[1.0, 0.0, 0.0, 0.0, 0.0], [0.9397925734519958, 0.06020741909742355, 0.0, 0.0, 0.0], [0.32701584696769714, 0.6192271113395691, 0.05375710874795914, 0.0, 0.0], [0.2144603282213211, 0.3980265259742737, 0.3178189992904663, 0.06969422847032547, 0.0], [0.7714373469352722, 0.10072489082813263, 0.06589724868535995, 0.042082931846380234, 0.01985767111182213]]], [[[1.0, 0.0, 0.0, 0.0, 0.0], [0.3891037702560425, 0.6108962297439575, 0.0, 0.0, 0.0], [0.2863761782646179, 0.49085333943367004, 0.22277049720287323, 0.0, 0.0], [0.3994160294532776, 0.35589879751205444, 0.1662224531173706, 0.07846282422542572, 0.0], [0.2687455415725708, 0.3965717554092407, 0.1211727187037468, 0.12494251132011414, 0.08856742829084396]], [[1.0, 0.0, 0.0, 0.0, 0.0], [0.9448790550231934, 0.055120982229709625, 0.0, 0.0, 0.0], [0.8717938661575317, 0.07700125128030777, 0.051204949617385864, 0.0, 0.0], [0.8916941285133362, 0.06446275115013123, 0.03619106486439705, 0.007652056869119406, 0.0], [0.8926389217376709, 0.046396613121032715, 0.029883036389946938, 0.009433011524379253, 0.02164842002093792]], [[1.0, 0.0, 0.0, 0.0, 0.0], [0.93218594789505, 0.06781407445669174, 0.0, 0.0, 0.0], [0.9211958050727844, 0.05468885228037834, 0.024115433916449547, 0.0, 0.0], [0.9212440848350525, 0.049526397138834, 0.018561651930212975, 0.010667841881513596, 0.0], [0.9500924944877625, 0.027901124209165573, 0.007612098939716816, 0.002898020204156637, 0.01149633340537548]], [[1.0, 0.0, 0.0, 0.0, 0.0], [0.8177467584609985, 0.18225330114364624, 0.0, 0.0, 0.0], [0.5426865816116333, 0.38573917746543884, 0.07157419621944427, 0.0, 0.0], [0.4875006377696991, 0.306700199842453, 0.1677965670824051, 0.03800264745950699, 0.0], [0.5748488903045654, 0.20117728412151337, 0.12809009850025177, 0.07692596316337585, 0.018957678228616714]], [[1.0, 0.0, 0.0, 0.0, 0.0], [0.8216904997825623, 0.17830947041511536, 0.0, 0.0, 0.0], [0.7657909393310547, 0.17522679269313812, 0.05898227170109749, 0.0, 0.0], [0.793968677520752, 0.15186038613319397, 0.03907700255513191, 0.015093857422471046, 0.0], [0.7417377829551697, 0.16905266046524048, 0.058234430849552155, 0.01169260498136282, 0.019282516092061996]], [[1.0, 0.0, 0.0, 0.0, 0.0], [0.9658175110816956, 0.03418253734707832, 0.0, 0.0, 0.0], [0.9682075381278992, 0.014878418296575546, 0.016913961619138718, 0.0, 0.0], [0.9651470184326172, 0.011683831922709942, 0.006792211439460516, 0.016377020627260208, 0.0], [0.9013552069664001, 0.04042864963412285, 0.018353821709752083, 0.024700529873371124, 0.015161809511482716]], [[1.0, 0.0, 0.0, 0.0, 0.0], [0.976956307888031, 0.023043693974614143, 0.0, 0.0, 0.0], [0.9687007069587708, 0.01731487549841404, 0.013984393328428268, 0.0, 0.0], [0.977097749710083, 0.01126274187117815, 0.007480370346456766, 0.004159161355346441, 0.0], [0.9496300220489502, 0.019927915185689926, 0.006016777828335762, 0.0038128101732581854, 0.020612414926290512]], [[1.0, 0.0, 0.0, 0.0, 0.0], [0.9235656261444092, 0.07643437385559082, 0.0, 0.0, 0.0], [0.880193293094635, 0.06817710399627686, 0.051629647612571716, 0.0, 0.0], [0.8995909094810486, 0.04675513505935669, 0.035652272403240204, 0.018001681193709373, 0.0], [0.870464563369751, 0.0848359540104866, 0.014971243217587471, 0.004652611445635557, 0.0250756423920393]], [[1.0, 0.0, 0.0, 0.0, 0.0], [0.0009165093069896102, 0.9990835189819336, 0.0, 0.0, 0.0], [0.00017424517136532813, 0.8398101925849915, 0.16001559793949127, 0.0, 0.0], [0.00014839971845503896, 0.5703630447387695, 0.3242156505584717, 0.10527292639017105, 0.0], [4.7706802433822304e-05, 0.33511173725128174, 0.08190013468265533, 0.16952075064182281, 0.41341960430145264]], [[1.0, 0.0, 0.0, 0.0, 0.0], [0.9471677541732788, 0.052832312881946564, 0.0, 0.0, 0.0], [0.9586907029151917, 0.030949406325817108, 0.010359938256442547, 0.0, 0.0], [0.9654526114463806, 0.018750641494989395, 0.006555445492267609, 0.009241309948265553, 0.0], [0.9167534112930298, 0.03880665823817253, 0.015499016270041466, 0.016730280593037605, 0.01221072394400835]], [[1.0, 0.0, 0.0, 0.0, 0.0], [0.8059414625167847, 0.19405855238437653, 0.0, 0.0, 0.0], [0.6673126816749573, 0.27614825963974, 0.05653912574052811, 0.0, 0.0], [0.532996416091919, 0.1948392391204834, 0.20651665329933167, 0.06564769148826599, 0.0], [0.7030923962593079, 0.0829893946647644, 0.0858306810259819, 0.06273237615823746, 0.06535521894693375]], [[1.0, 0.0, 0.0, 0.0, 0.0], [0.822390615940094, 0.1776093989610672, 0.0, 0.0, 0.0], [0.7795277237892151, 0.1790507286787033, 0.04142149165272713, 0.0, 0.0], [0.7119808793067932, 0.13073118031024933, 0.12880133092403412, 0.028486620634794235, 0.0], [0.6404447555541992, 0.1703394055366516, 0.059368908405303955, 0.08610586076974869, 0.043741051107645035]]]], \"left_text\": [\"India\", \" is\", \" a\", \" great\", \" Country\"], \"right_text\": [\"India\", \" is\", \" a\", \" great\", \" Country\"]}], \"default_filter\": \"0\", \"display_mode\": \"dark\", \"root_div_id\": \"bertviz-bdbf3612a18d4904a742aadabd36e5e7\", \"include_layers\": [0, 1, 2, 3, 4, 5, 6, 7, 8, 9, 10, 11], \"include_heads\": [0, 1, 2, 3, 4, 5, 6, 7, 8, 9, 10, 11], \"total_heads\": 12} is a template marker that is replaced by actual params.\n",
              "        const config = {};\n",
              "\n",
              "        const MIN_X = 0;\n",
              "        const MIN_Y = 0;\n",
              "        const DIV_WIDTH = 970;\n",
              "        const THUMBNAIL_PADDING = 5;\n",
              "        const DETAIL_WIDTH = 300;\n",
              "        const DETAIL_ATTENTION_WIDTH = 140;\n",
              "        const DETAIL_BOX_WIDTH = 80;\n",
              "        const DETAIL_BOX_HEIGHT = 18;\n",
              "        const DETAIL_PADDING = 15;\n",
              "        const ATTN_PADDING = 0;\n",
              "        const DETAIL_HEADING_HEIGHT = 25;\n",
              "        const HEADING_TEXT_SIZE = 15;\n",
              "        const HEADING_PADDING = 5;\n",
              "        const TEXT_SIZE = 13;\n",
              "        const TEXT_PADDING = 5;\n",
              "        const LAYER_COLORS = d3.schemeCategory10;\n",
              "        const PALETTE = {\n",
              "            'light': {\n",
              "                'text': 'black',\n",
              "                'background': 'white',\n",
              "                'highlight': '#F5F5F5'\n",
              "            },\n",
              "            'dark': {\n",
              "                'text': '#ccc',\n",
              "                'background': 'black',\n",
              "                'highlight': '#222'\n",
              "            }\n",
              "        }\n",
              "\n",
              "        function render() {\n",
              "\n",
              "            // Set global state variables\n",
              "\n",
              "            var attData = config.attention[config.filter];\n",
              "            config.leftText = attData.left_text;\n",
              "            config.rightText = attData.right_text;\n",
              "            config.attn = attData.attn;\n",
              "            config.numLayers = config.attn.length;\n",
              "            config.numHeads = config.attn[0].length;\n",
              "            config.thumbnailBoxHeight = 7 * (12 / config.totalHeads);\n",
              "            const axisSize = HEADING_TEXT_SIZE + HEADING_PADDING + TEXT_SIZE + TEXT_PADDING;\n",
              "            config.thumbnailHeight = Math.max(config.leftText.length, config.rightText.length) * config.thumbnailBoxHeight + 2 * THUMBNAIL_PADDING;\n",
              "            config.thumbnailWidth = (DIV_WIDTH - axisSize) / config.totalHeads;\n",
              "            config.detailHeight = Math.max(config.leftText.length, config.rightText.length) * DETAIL_BOX_HEIGHT + 2 * DETAIL_PADDING + DETAIL_HEADING_HEIGHT;\n",
              "            config.divHeight = Math.max(config.numLayers * config.thumbnailHeight + axisSize, config.detailHeight);\n",
              "\n",
              "            const vis = $(`#${config.rootDivId} #vis`)\n",
              "            vis.empty();\n",
              "            vis.attr(\"height\", config.divHeight);\n",
              "            config.svg = d3.select(`#${config.rootDivId} #vis`)\n",
              "                .append('svg')\n",
              "                .attr(\"width\", DIV_WIDTH)\n",
              "                .attr(\"height\", config.divHeight)\n",
              "                .attr(\"fill\", getBackgroundColor());\n",
              "\n",
              "            renderAxisLabels();\n",
              "\n",
              "            var i;\n",
              "            var j;\n",
              "            for (i = 0; i < config.numLayers; i++) {\n",
              "                for (j = 0; j < config.numHeads; j++) {\n",
              "                    renderThumbnail(i, j);\n",
              "                }\n",
              "            }\n",
              "        }\n",
              "\n",
              "        function renderAxisLabels() {\n",
              "            const axisSize = HEADING_TEXT_SIZE + HEADING_PADDING + TEXT_SIZE + TEXT_PADDING;\n",
              "            const tableWidth = config.thumbnailWidth * config.heads.length;\n",
              "            config.svg.append(\"text\")\n",
              "                .text(\"Heads\")\n",
              "                .attr(\"fill\", \"black\")\n",
              "                .attr(\"font-weight\", \"bold\")\n",
              "                .attr(\"font-size\", HEADING_TEXT_SIZE + \"px\")\n",
              "                .attr(\"x\", axisSize + tableWidth / 2)\n",
              "                .attr(\"text-anchor\", \"middle\")\n",
              "                .attr(\"y\", 0)\n",
              "                .attr(\"dy\", HEADING_TEXT_SIZE);\n",
              "            for (let i = 0; i < config.numHeads; i++) {\n",
              "                config.svg.append(\"text\")\n",
              "                    .text(config.heads[i])\n",
              "                    .attr(\"fill\", \"black\")\n",
              "                    .attr(\"font-size\", TEXT_SIZE + \"px\")\n",
              "                    .attr(\"x\", axisSize + (i + .5) * config.thumbnailWidth)\n",
              "                    .attr(\"text-anchor\", \"middle\")\n",
              "                    .attr(\"y\", HEADING_TEXT_SIZE + HEADING_PADDING)\n",
              "                    .attr(\"dy\", TEXT_SIZE);\n",
              "            }\n",
              "            let x = 0;\n",
              "            let y = axisSize + config.thumbnailHeight * config.layers.length / 2;\n",
              "            console.log(\"x\", x, y)\n",
              "            config.svg.append(\"text\")\n",
              "                .text(\"Layers\")\n",
              "                .attr(\"fill\", \"black\")\n",
              "                .attr(\"font-weight\", \"bold\")\n",
              "                .attr(\"transform\", \"rotate(270, \" + x  + \", \" + y + \")\")\n",
              "                .attr(\"font-size\", HEADING_TEXT_SIZE + \"px\")\n",
              "                .attr(\"x\", x)\n",
              "                .attr(\"text-anchor\", \"middle\")\n",
              "                .attr(\"y\", y)\n",
              "                .attr(\"dy\", HEADING_TEXT_SIZE);\n",
              "            for (let i = 0; i < config.numLayers; i++) {\n",
              "                x = HEADING_TEXT_SIZE + HEADING_PADDING + TEXT_SIZE; // HACK\n",
              "                y = axisSize + (i + .5) * config.thumbnailHeight;\n",
              "                config.svg.append(\"text\")\n",
              "                    .text(config.layers[i])\n",
              "                    .attr(\"fill\", \"black\")\n",
              "                    .attr(\"font-size\", TEXT_SIZE + \"px\")\n",
              "                    .attr(\"x\", x)\n",
              "                    .attr(\"text-anchor\", \"end\")\n",
              "                    .attr(\"y\", y)\n",
              "                    .attr(\"dy\", TEXT_SIZE / 2);\n",
              "            }\n",
              "        }\n",
              "\n",
              "\n",
              "        function renderThumbnail(layerIndex, headIndex) {\n",
              "            const axisSize = HEADING_TEXT_SIZE + HEADING_PADDING + TEXT_SIZE + TEXT_PADDING\n",
              "            const x = headIndex * config.thumbnailWidth + axisSize;\n",
              "            const y = layerIndex * config.thumbnailHeight + axisSize;\n",
              "            renderThumbnailAttn(x, y, config.attn[layerIndex][headIndex], layerIndex, headIndex);\n",
              "        }\n",
              "\n",
              "        function renderDetail(att, layerIndex, headIndex) {\n",
              "            const axisSize = TEXT_SIZE + HEADING_PADDING + TEXT_SIZE + TEXT_PADDING;\n",
              "            var xOffset = .8 * config.thumbnailWidth;\n",
              "            var maxX = DIV_WIDTH;\n",
              "            var maxY = config.divHeight - 3;\n",
              "            var leftPos = axisSize + headIndex * config.thumbnailWidth;\n",
              "            var x = leftPos + THUMBNAIL_PADDING + xOffset;\n",
              "            if (x < MIN_X) {\n",
              "                x = MIN_X;\n",
              "            } else if (x + DETAIL_WIDTH > maxX) {\n",
              "                x = leftPos + THUMBNAIL_PADDING - DETAIL_WIDTH + 8;\n",
              "            }\n",
              "            var posLeftText = x;\n",
              "            var posAttention = posLeftText + DETAIL_BOX_WIDTH;\n",
              "            var posRightText = posAttention + DETAIL_ATTENTION_WIDTH;\n",
              "            var thumbnailHeight = Math.max(config.leftText.length, config.rightText.length) * config.thumbnailBoxHeight + 2 * THUMBNAIL_PADDING;\n",
              "            var yOffset = 20;\n",
              "            var y = layerIndex * thumbnailHeight + THUMBNAIL_PADDING + yOffset;\n",
              "            if (y < MIN_Y) {\n",
              "                y = MIN_Y;\n",
              "            } else if (y + config.detailHeight > maxY) {\n",
              "                y = maxY - config.detailHeight;\n",
              "            }\n",
              "            renderDetailFrame(x, y, layerIndex);\n",
              "            y = y + DETAIL_PADDING;\n",
              "            renderDetailHeading(x, y, layerIndex, headIndex);\n",
              "            y = y + DETAIL_HEADING_HEIGHT;\n",
              "            renderDetailText(config.leftText, \"leftText\", posLeftText, y , layerIndex);\n",
              "            renderDetailAttn(posAttention, y, att, layerIndex, headIndex);\n",
              "            renderDetailText(config.rightText, \"rightText\", posRightText, y, layerIndex);\n",
              "        }\n",
              "\n",
              "        function renderDetailHeading(x, y, layerIndex, headIndex) {\n",
              "            var fillColor = getTextColor();\n",
              "            config.svg.append(\"text\")\n",
              "                .classed(\"detail\", true)\n",
              "                .text('Layer ' + config.layers[layerIndex] + \", Head \" + config.heads[headIndex])\n",
              "                .attr(\"font-size\", TEXT_SIZE + \"px\")\n",
              "                .attr(\"font-weight\", \"bold\")\n",
              "                .style(\"cursor\", \"default\")\n",
              "                .style(\"-webkit-user-select\", \"none\")\n",
              "                .attr(\"fill\", fillColor)\n",
              "                .attr(\"x\", x + DETAIL_WIDTH / 2)\n",
              "                .attr(\"text-anchor\", \"middle\")\n",
              "                .attr(\"y\", y)\n",
              "                .attr(\"height\", DETAIL_HEADING_HEIGHT)\n",
              "                .attr(\"width\", DETAIL_WIDTH)\n",
              "                .attr(\"dy\", HEADING_TEXT_SIZE);\n",
              "        }\n",
              "\n",
              "        function renderDetailText(text, id, x, y, layerIndex) {\n",
              "            var tokenContainer = config.svg.append(\"svg:g\")\n",
              "                .classed(\"detail\", true)\n",
              "                .selectAll(\"g\")\n",
              "                .data(text)\n",
              "                .enter()\n",
              "                .append(\"g\");\n",
              "\n",
              "            var fillColor = getTextColor();\n",
              "\n",
              "            tokenContainer.append(\"rect\")\n",
              "                .classed(\"highlight\", true)\n",
              "                .attr(\"fill\", fillColor)\n",
              "                .style(\"opacity\", 0.0)\n",
              "                .attr(\"height\", DETAIL_BOX_HEIGHT)\n",
              "                .attr(\"width\", DETAIL_BOX_WIDTH)\n",
              "                .attr(\"x\", x)\n",
              "                .attr(\"y\", function (d, i) {\n",
              "                    return y + i * DETAIL_BOX_HEIGHT;\n",
              "                });\n",
              "\n",
              "            var textContainer = tokenContainer.append(\"text\")\n",
              "                .classed(\"token\", true)\n",
              "                .text(function (d) {\n",
              "                    return d;\n",
              "                })\n",
              "                .attr(\"font-size\", TEXT_SIZE + \"px\")\n",
              "                .style(\"cursor\", \"default\")\n",
              "                .style(\"-webkit-user-select\", \"none\")\n",
              "                .attr(\"fill\", fillColor)\n",
              "                .attr(\"x\", x)\n",
              "                .attr(\"y\", function (d, i) {\n",
              "                    return i * DETAIL_BOX_HEIGHT + y;\n",
              "                })\n",
              "                .attr(\"height\", DETAIL_BOX_HEIGHT)\n",
              "                .attr(\"width\", DETAIL_BOX_WIDTH)\n",
              "                .attr(\"dy\", TEXT_SIZE);\n",
              "\n",
              "            if (id == \"leftText\") {\n",
              "                textContainer.style(\"text-anchor\", \"end\")\n",
              "                    .attr(\"dx\", DETAIL_BOX_WIDTH - 2);\n",
              "                tokenContainer.on(\"mouseover\", function (d, index) {\n",
              "                    highlightSelection(index);\n",
              "                });\n",
              "                tokenContainer.on(\"mouseleave\", function () {\n",
              "                    unhighlightSelection();\n",
              "                });\n",
              "            }\n",
              "        }\n",
              "\n",
              "        function highlightSelection(index) {\n",
              "            config.svg.select(\"#leftText\")\n",
              "                .selectAll(\".highlight\")\n",
              "                .style(\"opacity\", function (d, i) {\n",
              "                    return i == index ? 1.0 : 0.0;\n",
              "                });\n",
              "            config.svg.selectAll(\".attn-line-group\")\n",
              "                .style(\"opacity\", function (d, i) {\n",
              "                    return i == index ? 1.0 : 0.0;\n",
              "                });\n",
              "        }\n",
              "\n",
              "        function unhighlightSelection() {\n",
              "            config.svg.select(\"#leftText\")\n",
              "                .selectAll(\".highlight\")\n",
              "                .style(\"opacity\", 0.0);\n",
              "            config.svg.selectAll(\".attn-line-group\")\n",
              "                .style(\"opacity\", 1);\n",
              "        }\n",
              "\n",
              "        function renderThumbnailAttn(x, y, att, layerIndex, headIndex) {\n",
              "\n",
              "            var attnContainer = config.svg.append(\"svg:g\");\n",
              "\n",
              "            var attnBackground = attnContainer.append(\"rect\")\n",
              "                .attr(\"id\", 'attn_background_' + layerIndex + \"_\" + headIndex)\n",
              "                .classed(\"attn_background\", true)\n",
              "                .attr(\"x\", x)\n",
              "                .attr(\"y\", y)\n",
              "                .attr(\"height\", config.thumbnailHeight)\n",
              "                .attr(\"width\", config.thumbnailWidth)\n",
              "                .attr(\"stroke-width\", 2)\n",
              "                .attr(\"stroke\", getLayerColor(layerIndex))\n",
              "                .attr(\"stroke-opacity\", 0)\n",
              "                .attr(\"fill\", getBackgroundColor());\n",
              "            var x1 = x + THUMBNAIL_PADDING;\n",
              "            var x2 = x1 + config.thumbnailWidth - 14;\n",
              "            var y1 = y + THUMBNAIL_PADDING;\n",
              "\n",
              "            attnContainer.selectAll(\"g\")\n",
              "                .data(att)\n",
              "                .enter()\n",
              "                .append(\"g\") // Add group for each source token\n",
              "                .attr(\"source-index\", function (d, i) { // Save index of source token\n",
              "                    return i;\n",
              "                })\n",
              "                .selectAll(\"line\")\n",
              "                .data(function (d) { // Loop over all target tokens\n",
              "                    return d;\n",
              "                })\n",
              "                .enter() // When entering\n",
              "                .append(\"line\")\n",
              "                .attr(\"x1\", x1)\n",
              "                .attr(\"y1\", function (d) {\n",
              "                    var sourceIndex = +this.parentNode.getAttribute(\"source-index\");\n",
              "                    return y1 + (sourceIndex + .5) * config.thumbnailBoxHeight;\n",
              "                })\n",
              "                .attr(\"x2\", x2)\n",
              "                .attr(\"y2\", function (d, targetIndex) {\n",
              "                    return y1 + (targetIndex + .5) * config.thumbnailBoxHeight;\n",
              "                })\n",
              "                .attr(\"stroke-width\", 2.2)\n",
              "                .attr(\"stroke\", getLayerColor(layerIndex))\n",
              "                .attr(\"stroke-opacity\", function (d) {\n",
              "                    return d;\n",
              "                });\n",
              "\n",
              "            var clickRegion = attnContainer.append(\"rect\")\n",
              "                .attr(\"x\", x)\n",
              "                .attr(\"y\", y)\n",
              "                .attr(\"height\", config.thumbnailHeight)\n",
              "                .attr(\"width\", config.thumbnailWidth)\n",
              "                .style(\"opacity\", 0);\n",
              "\n",
              "            clickRegion.on(\"click\", function (d, index) {\n",
              "                var attnBackgroundOther = config.svg.selectAll(\".attn_background\");\n",
              "                attnBackgroundOther.attr(\"fill\", getBackgroundColor());\n",
              "                attnBackgroundOther.attr(\"stroke-opacity\", 0);\n",
              "\n",
              "                config.svg.selectAll(\".detail\").remove();\n",
              "                if (config.detail_layer != layerIndex || config.detail_head != headIndex) {\n",
              "                    renderDetail(att, layerIndex, headIndex);\n",
              "                    config.detail_layer = layerIndex;\n",
              "                    config.detail_head = headIndex;\n",
              "                    attnBackground.attr(\"fill\", getHighlightColor());\n",
              "                    attnBackground.attr(\"stroke-opacity\", .8);\n",
              "                } else {\n",
              "                    config.detail_layer = null;\n",
              "                    config.detail_head = null;\n",
              "                    attnBackground.attr(\"fill\", getBackgroundColor());\n",
              "                    attnBackground.attr(\"stroke-opacity\", 0);\n",
              "                }\n",
              "            });\n",
              "\n",
              "            clickRegion.on(\"mouseover\", function (d) {\n",
              "                d3.select(this).style(\"cursor\", \"pointer\");\n",
              "            });\n",
              "        }\n",
              "\n",
              "        function renderDetailFrame(x, y, layerIndex) {\n",
              "            var detailFrame = config.svg.append(\"rect\")\n",
              "                .classed(\"detail\", true)\n",
              "                .attr(\"x\", x)\n",
              "                .attr(\"y\", y)\n",
              "                .attr(\"height\", config.detailHeight)\n",
              "                .attr(\"width\", DETAIL_WIDTH)\n",
              "                .style(\"opacity\", 1)\n",
              "                .attr(\"stroke-width\", 1.5)\n",
              "                .attr(\"stroke-opacity\", 0.7)\n",
              "                .attr(\"stroke\", getLayerColor(layerIndex));\n",
              "        }\n",
              "\n",
              "        function renderDetailAttn(x, y, att, layerIndex) {\n",
              "            var attnContainer = config.svg.append(\"svg:g\")\n",
              "                .classed(\"detail\", true)\n",
              "                .attr(\"pointer-events\", \"none\");\n",
              "            attnContainer.selectAll(\"g\")\n",
              "                .data(att)\n",
              "                .enter()\n",
              "                .append(\"g\") // Add group for each source token\n",
              "                .classed('attn-line-group', true)\n",
              "                .attr(\"source-index\", function (d, i) { // Save index of source token\n",
              "                    return i;\n",
              "                })\n",
              "                .selectAll(\"line\")\n",
              "                .data(function (d) { // Loop over all target tokens\n",
              "                    return d;\n",
              "                })\n",
              "                .enter()\n",
              "                .append(\"line\")\n",
              "                .attr(\"x1\", x + ATTN_PADDING)\n",
              "                .attr(\"y1\", function (d) {\n",
              "                    var sourceIndex = +this.parentNode.getAttribute(\"source-index\");\n",
              "                    return y + (sourceIndex + .5) * DETAIL_BOX_HEIGHT;\n",
              "                })\n",
              "                .attr(\"x2\", x + DETAIL_ATTENTION_WIDTH - ATTN_PADDING)\n",
              "                .attr(\"y2\", function (d, targetIndex) {\n",
              "                    return y + (targetIndex + .5) * DETAIL_BOX_HEIGHT;\n",
              "                })\n",
              "                .attr(\"stroke-width\", 2.2)\n",
              "                .attr(\"stroke\", getLayerColor(layerIndex))\n",
              "                .attr(\"stroke-opacity\", function (d) {\n",
              "                    return d;\n",
              "                });\n",
              "        }\n",
              "\n",
              "        function getLayerColor(layer) {\n",
              "          return LAYER_COLORS[config.layers[layer] % 10];\n",
              "        }\n",
              "\n",
              "        function getTextColor() {\n",
              "            return PALETTE[config.mode]['text']\n",
              "        }\n",
              "\n",
              "        function getBackgroundColor() {\n",
              "           return PALETTE[config.mode]['background']\n",
              "        }\n",
              "\n",
              "        function getHighlightColor() {\n",
              "           return PALETTE[config.mode]['highlight']\n",
              "        }\n",
              "\n",
              "        function initialize() {\n",
              "            config.attention = params['attention'];\n",
              "            config.filter = params['default_filter'];\n",
              "            config.mode = params['display_mode'];\n",
              "            config.layers = params['include_layers']\n",
              "            config.heads = params['include_heads']\n",
              "            config.totalHeads = params['total_heads']\n",
              "            config.rootDivId = params['root_div_id'];\n",
              "            $(`#${config.rootDivId} #filter`).on('change', function (e) {\n",
              "                config.filter = e.currentTarget.value;\n",
              "                render();\n",
              "            });\n",
              "        }\n",
              "\n",
              "        initialize();\n",
              "        render();\n",
              "\n",
              "    });"
            ]
          },
          "metadata": {}
        }
      ]
    },
    {
      "cell_type": "code",
      "source": [
        "#Abstractive summarization - Zero Shot using GPT2\n",
        "\n",
        "from transformers import pipeline, set_seed, GPT2Tokenizer, GPT2LMHeadModel\n",
        "generator = pipeline ('text-generation',model='gpt2')\n",
        "\n",
        "text = \"\"\"India accounts for the bulk of the Indian subcontinent, lying atop the Indian tectonic plate, a part of the Indo-Australian Plate.[173] India's defining geological processes began 75 million years ago when the Indian Plate, then part of the southern supercontinent Gondwana, began a north-eastward drift caused by seafloor spreading to its south-west, and later, south and south-east.[173] Simultaneously, the vast Tethyan oceanic crust, to its northeast, began to subduct under the Eurasian Plate.[173] These dual processes, driven by convection in the Earth's mantle, both created the Indian Ocean and caused the Indian continental crust eventually to under-thrust Eurasia and to uplift the Himalayas.[173] Immediately south of the emerging Himalayas, plate movement created a vast crescent-shaped trough that rapidly filled with river-borne sediment[174] and now constitutes the Indo-Gangetic Plain.[175] The original Indian plate makes its first appearance above the sediment in the ancient Aravalli range, which extends from the Delhi Ridge in a southwesterly direction. To the west lies the Thar Desert, the eastern spread of which is checked by the Aravallis.[176][177][178]\n",
        "The remaining Indian Plate survives as peninsular India, the oldest and geologically most stable part of India. It extends as far north as the Satpura and Vindhya ranges in central India. These parallel chains run from the Arabian Sea coast in Gujarat in the west to the coal-rich Chota Nagpur Plateau in Jharkhand in the east.[180] To the south, the remaining peninsular landmass, the Deccan Plateau, is flanked on the west and east by coastal ranges known as the Western and Eastern Ghats;[181] the plateau contains the country's oldest rock formations, some over one billion years old. Constituted in such fashion, India lies to the north of the equator between 6° 44′ and 35° 30′ north latitude[n] and 68° 7′ and 97° 25′ east longitude.[182]\n",
        "India's coastline measures 7,517 kilometres (4,700 mi) in length; of this distance, 5,423 kilometres (3,400 mi) belong to peninsular India and 2,094 kilometres (1,300 mi) to the Andaman, Nicobar, and Lakshadweep island chains.[183] According to the Indian naval hydrographic charts, the mainland coastline consists of the following: 43% sandy beaches; 11% rocky shores, including cliffs; and 46% mudflats or marshy shores.[183]\n",
        "Major Himalayan-origin rivers that substantially flow through India include the Ganges and the Brahmaputra, both of which drain into the Bay of Bengal.[184] Important tributaries of the Ganges include the Yamuna and the Kosi; the latter's extremely low gradient, caused by long-term silt deposition, leads to severe floods and course changes.[185][186] Major peninsular rivers, whose steeper gradients prevent their waters from flooding, include the Godavari, the Mahanadi, the Kaveri, and the Krishna, which also drain into the Bay of Bengal;[187] and the Narmada and the Tapti, which drain into the Arabian Sea.[188] Coastal features include the marshy Rann of Kutch of western India and the alluvial Sundarbans delta of eastern India; the latter is shared with Bangladesh.[189] India has two archipelagos: the Lakshadweep, coral atolls off India's south-western coast; and the Andaman and Nicobar Islands, a volcanic chain in the Andaman Sea.[190]\"\"\"\n",
        "\n",
        "sum_text =f\"\"\" Summarization Task: \\n{text}\\nTL:DR:\"\"\"\n",
        "\n",
        "output=generator(sum_text, max_new_tokens=128 , top_k=2 , temperature=0.7 , no_repeat_ngram_size=3)\n",
        "\n",
        "print(output[0]['generated_text'])\n"
      ],
      "metadata": {
        "colab": {
          "base_uri": "https://localhost:8080/"
        },
        "id": "vOucsF76plSM",
        "outputId": "a00f23d3-1b6a-4785-f20c-8bc9be4bcf9a"
      },
      "execution_count": 14,
      "outputs": [
        {
          "output_type": "stream",
          "name": "stderr",
          "text": [
            "Setting `pad_token_id` to `eos_token_id`:50256 for open-end generation.\n"
          ]
        },
        {
          "output_type": "stream",
          "name": "stdout",
          "text": [
            " Summarization Task: \n",
            "India accounts for the bulk of the Indian subcontinent, lying atop the Indian tectonic plate, a part of the Indo-Australian Plate.[173] India's defining geological processes began 75 million years ago when the Indian Plate, then part of the southern supercontinent Gondwana, began a north-eastward drift caused by seafloor spreading to its south-west, and later, south and south-east.[173] Simultaneously, the vast Tethyan oceanic crust, to its northeast, began to subduct under the Eurasian Plate.[173] These dual processes, driven by convection in the Earth's mantle, both created the Indian Ocean and caused the Indian continental crust eventually to under-thrust Eurasia and to uplift the Himalayas.[173] Immediately south of the emerging Himalayas, plate movement created a vast crescent-shaped trough that rapidly filled with river-borne sediment[174] and now constitutes the Indo-Gangetic Plain.[175] The original Indian plate makes its first appearance above the sediment in the ancient Aravalli range, which extends from the Delhi Ridge in a southwesterly direction. To the west lies the Thar Desert, the eastern spread of which is checked by the Aravallis.[176][177][178]\n",
            "The remaining Indian Plate survives as peninsular India, the oldest and geologically most stable part of India. It extends as far north as the Satpura and Vindhya ranges in central India. These parallel chains run from the Arabian Sea coast in Gujarat in the west to the coal-rich Chota Nagpur Plateau in Jharkhand in the east.[180] To the south, the remaining peninsular landmass, the Deccan Plateau, is flanked on the west and east by coastal ranges known as the Western and Eastern Ghats;[181] the plateau contains the country's oldest rock formations, some over one billion years old. Constituted in such fashion, India lies to the north of the equator between 6° 44′ and 35° 30′ north latitude[n] and 68° 7′ and 97° 25′ east longitude.[182]\n",
            "India's coastline measures 7,517 kilometres (4,700 mi) in length; of this distance, 5,423 kilometres (3,400 mi) belong to peninsular India and 2,094 kilometres (1,300 mi) to the Andaman, Nicobar, and Lakshadweep island chains.[183] According to the Indian naval hydrographic charts, the mainland coastline consists of the following: 43% sandy beaches; 11% rocky shores, including cliffs; and 46% mudflats or marshy shores.[183]\n",
            "Major Himalayan-origin rivers that substantially flow through India include the Ganges and the Brahmaputra, both of which drain into the Bay of Bengal.[184] Important tributaries of the Ganges include the Yamuna and the Kosi; the latter's extremely low gradient, caused by long-term silt deposition, leads to severe floods and course changes.[185][186] Major peninsular rivers, whose steeper gradients prevent their waters from flooding, include the Godavari, the Mahanadi, the Kaveri, and the Krishna, which also drain into the Bay of Bengal;[187] and the Narmada and the Tapti, which drain into the Arabian Sea.[188] Coastal features include the marshy Rann of Kutch of western India and the alluvial Sundarbans delta of eastern India; the latter is shared with Bangladesh.[189] India has two archipelagos: the Lakshadweep, coral atolls off India's south-western coast; and the Andaman and Nicobar Islands, a volcanic chain in the Andaman Sea.[190]\n",
            "TL:DR: The Himalayan coast is a major source of freshwater, and is a key source of water for the Himalayan people.[191]\n",
            "References [ edit ]\n"
          ]
        }
      ]
    },
    {
      "cell_type": "markdown",
      "source": [
        "# GPT2 Pre training on Firstaid Guide"
      ],
      "metadata": {
        "id": "PZhy1hNlBIHc"
      }
    },
    {
      "cell_type": "code",
      "source": [
        "#from transformers import GPT2Tokenizer, TextDataset,DataCollatorForLanguageModeling, GPT2LMHeadModel,pipeline, Trainer, TrainingArguments"
      ],
      "metadata": {
        "id": "3IW91vklpHE1"
      },
      "execution_count": 4,
      "outputs": []
    },
    {
      "cell_type": "code",
      "source": [
        "tokenizer = GPT2Tokenizer.from_pretrained('gpt2')"
      ],
      "metadata": {
        "id": "nsfz9Yz9psl0"
      },
      "execution_count": 4,
      "outputs": []
    },
    {
      "cell_type": "code",
      "source": [
        "model = GPT2LMHeadModel.from_pretrained('gpt2') # model loading"
      ],
      "metadata": {
        "id": "FEV6vBaS5jhS"
      },
      "execution_count": 5,
      "outputs": []
    },
    {
      "cell_type": "code",
      "source": [
        "import os\n",
        "import PyPDF2\n",
        "file_path='/content/'\n",
        "text = ''\n",
        "i=0\n",
        "for file_nm in os.listdir(file_path):\n",
        "    if file_nm.endswith('.pdf'):\n",
        "\n",
        "      with open(file_nm, 'rb') as file:\n",
        "            # Create a PDF reader object\n",
        "            reader = PyPDF2.PdfReader(file)\n",
        "\n",
        "            # Extract text from each page\n",
        "\n",
        "            for page in reader.pages:\n",
        "                i=i+1\n",
        "                text += page.extract_text()\n",
        "\n",
        "print(i)\n",
        "# Save the extracted text as a text file\n",
        "text_file_name = 'pretrain_text'\n",
        "text_file_path = os.path.join( text_file_name)\n",
        "with open(text_file_path, 'w') as text_file:\n",
        "              text_file.write(text)"
      ],
      "metadata": {
        "colab": {
          "base_uri": "https://localhost:8080/"
        },
        "id": "lZuN1cU5trhZ",
        "outputId": "46b90000-40f0-4871-b5e9-42974da850a0"
      },
      "execution_count": 6,
      "outputs": [
        {
          "output_type": "stream",
          "name": "stdout",
          "text": [
            "1582\n"
          ]
        }
      ]
    },
    {
      "cell_type": "code",
      "source": [
        "#org_data = TextDataset(tokenizer=tokenizer , file_path='../content/FirstAid.txt', block_size=32)\n",
        "\n",
        "# block size is the chunk of the text"
      ],
      "metadata": {
        "colab": {
          "base_uri": "https://localhost:8080/"
        },
        "id": "HIWT49iQp1BD",
        "outputId": "bef8067f-b12b-4d78-8ba4-479298018a68"
      },
      "execution_count": 13,
      "outputs": [
        {
          "output_type": "stream",
          "name": "stderr",
          "text": [
            "/usr/local/lib/python3.10/dist-packages/transformers/data/datasets/language_modeling.py:53: FutureWarning: This dataset will be removed from the library soon, preprocessing should be handled with the 🤗 Datasets library. You can have a look at this example script for pointers: https://github.com/huggingface/transformers/blob/main/examples/pytorch/language-modeling/run_mlm.py\n",
            "  warnings.warn(\n"
          ]
        }
      ]
    },
    {
      "cell_type": "code",
      "source": [
        "# Split the dataset into training and validation sets (80% - 20%)\n",
        "# Read the entire dataset into a list\n",
        "with open('/content/pretrain_text', 'r') as f:\n",
        "    data = f.readlines()\n",
        "split_index = int(len(data) * 0.8)\n",
        "train_data = data[:split_index]\n",
        "val_data = data[split_index:]"
      ],
      "metadata": {
        "id": "Y4_gRSmsCmX-"
      },
      "execution_count": 7,
      "outputs": []
    },
    {
      "cell_type": "code",
      "source": [
        "# Save the training and validation sets as separate files\n",
        "with open('train_data.txt', 'w') as f:\n",
        "    f.writelines(train_data)\n",
        "\n",
        "with open('validation_data.txt', 'w') as f:\n",
        "    f.writelines(val_data)"
      ],
      "metadata": {
        "id": "2QGD7NGwX12Q"
      },
      "execution_count": 8,
      "outputs": []
    },
    {
      "cell_type": "code",
      "source": [
        "    # Load training dataset\n",
        "    train_dataset = TextDataset(\n",
        "        tokenizer=tokenizer,\n",
        "        file_path='/content/train_data.txt',\n",
        "        block_size=128)\n",
        "\n",
        "    # Load validation dataset\n",
        "    val_dataset = TextDataset(\n",
        "        tokenizer=tokenizer,\n",
        "        file_path='/content/validation_data.txt',\n",
        "       block_size=128)"
      ],
      "metadata": {
        "colab": {
          "base_uri": "https://localhost:8080/"
        },
        "id": "U23FGo1xYD9n",
        "outputId": "63de9fdf-fb92-4f4d-f098-e72b62133bef"
      },
      "execution_count": 9,
      "outputs": [
        {
          "output_type": "stream",
          "name": "stderr",
          "text": [
            "/usr/local/lib/python3.10/dist-packages/transformers/data/datasets/language_modeling.py:53: FutureWarning: This dataset will be removed from the library soon, preprocessing should be handled with the 🤗 Datasets library. You can have a look at this example script for pointers: https://github.com/huggingface/transformers/blob/main/examples/pytorch/language-modeling/run_mlm.py\n",
            "  warnings.warn(\n"
          ]
        }
      ]
    },
    {
      "cell_type": "code",
      "source": [
        "#print(data[1])\n",
        "#org_data[1].shape"
      ],
      "metadata": {
        "colab": {
          "base_uri": "https://localhost:8080/"
        },
        "id": "dz98bZdoyi_g",
        "outputId": "a8539ae0-0a21-43bc-9925-1c511525d7bf"
      },
      "execution_count": 14,
      "outputs": [
        {
          "output_type": "stream",
          "name": "stdout",
          "text": [
            "Guide\n",
            "\n"
          ]
        },
        {
          "output_type": "execute_result",
          "data": {
            "text/plain": [
              "torch.Size([32])"
            ]
          },
          "metadata": {},
          "execution_count": 14
        }
      ]
    },
    {
      "cell_type": "markdown",
      "source": [],
      "metadata": {
        "id": "-GddiroFbs2p"
      }
    },
    {
      "cell_type": "code",
      "source": [
        "#len(org_data)"
      ],
      "metadata": {
        "colab": {
          "base_uri": "https://localhost:8080/"
        },
        "id": "AvMr2J5KzSoT",
        "outputId": "794b59a4-dea2-40a8-8d5a-33c01231b4f2"
      },
      "execution_count": 15,
      "outputs": [
        {
          "output_type": "execute_result",
          "data": {
            "text/plain": [
              "2722"
            ]
          },
          "metadata": {},
          "execution_count": 15
        }
      ]
    },
    {
      "cell_type": "code",
      "source": [
        "#tokenizer.decode(org_data[106])"
      ],
      "metadata": {
        "colab": {
          "base_uri": "https://localhost:8080/",
          "height": 36
        },
        "id": "6kFhjerCy6RW",
        "outputId": "0c88690b-5e4a-421b-8a71-d3e5ddf3ae18"
      },
      "execution_count": 16,
      "outputs": [
        {
          "output_type": "execute_result",
          "data": {
            "text/plain": [
              "'lish Date Description\\n13.1.0 / 04 AUGUST \\n2023nAdded a new chapter: Chapter 14 Managing vSphere Lifecycle Manager'"
            ],
            "application/vnd.google.colaboratory.intrinsic+json": {
              "type": "string"
            }
          },
          "metadata": {},
          "execution_count": 16
        }
      ]
    },
    {
      "cell_type": "code",
      "source": [
        "collator = DataCollatorForLanguageModeling(tokenizer=tokenizer , mlm=False)\n",
        "collator"
      ],
      "metadata": {
        "colab": {
          "base_uri": "https://localhost:8080/"
        },
        "id": "ezuv8OovziOl",
        "outputId": "11a87962-14da-4697-c9b7-6423223b6a89"
      },
      "execution_count": 12,
      "outputs": [
        {
          "output_type": "execute_result",
          "data": {
            "text/plain": [
              "DataCollatorForLanguageModeling(tokenizer=GPT2Tokenizer(name_or_path='gpt2', vocab_size=50257, model_max_length=1024, is_fast=False, padding_side='right', truncation_side='right', special_tokens={'bos_token': '<|endoftext|>', 'eos_token': '<|endoftext|>', 'unk_token': '<|endoftext|>'}, clean_up_tokenization_spaces=True),  added_tokens_decoder={\n",
              "\t50256: AddedToken(\"<|endoftext|>\", rstrip=False, lstrip=False, single_word=False, normalized=True, special=True),\n",
              "}, mlm=False, mlm_probability=0.15, pad_to_multiple_of=None, tf_experimental_compile=False, return_tensors='pt')"
            ]
          },
          "metadata": {},
          "execution_count": 12
        }
      ]
    },
    {
      "cell_type": "code",
      "source": [
        "#text1= 'Virtualization is software that makes computing environments independent of physical infrastructure'\n",
        "#text2= 'They produce virtualization, networking, and security management tools'\n",
        "\n",
        "#token1= tokenizer(text1)\n",
        "#token2= tokenizer(text2)\n",
        "\n",
        "#print(f'token1 : {token1[\"input_ids\"]}')\n",
        "#print(f'token2 : {token2[\"input_ids\"]}')"
      ],
      "metadata": {
        "colab": {
          "base_uri": "https://localhost:8080/"
        },
        "id": "aGsHzmy-0S1d",
        "outputId": "b1695e6d-407d-4b55-8cd4-1d3dd60602aa"
      },
      "execution_count": 18,
      "outputs": [
        {
          "output_type": "stream",
          "name": "stdout",
          "text": [
            "token1 : [37725, 1634, 318, 3788, 326, 1838, 14492, 12493, 4795, 286, 3518, 6884]\n",
            "token2 : [2990, 4439, 7166, 1634, 11, 19140, 11, 290, 2324, 4542, 4899]\n"
          ]
        }
      ]
    },
    {
      "cell_type": "code",
      "source": [
        "tokenizer.pad_token = tokenizer.eos_token\n",
        "#collator([token1,token2]) # dynamically process data in batches and pad token accordingly\n",
        "# 0 is in attention mask for pad token\n",
        "# input id 50256 is eos token\n",
        "# label -100 is pad token to avoid any loss calculation"
      ],
      "metadata": {
        "id": "tEbNAw_KztAR"
      },
      "execution_count": 41,
      "outputs": []
    },
    {
      "cell_type": "code",
      "source": [
        "#pretrained_generator = pipeline('text-generation', model=model , tokenizer='gpt2', config ={'max_new_token':50, 'do_sample':True ,'top_p':0.9 , 'temperature':0.4, 'top_k':5})"
      ],
      "metadata": {
        "id": "mC8Rn1hb6HLN"
      },
      "execution_count": 21,
      "outputs": []
    },
    {
      "cell_type": "code",
      "source": [
        "#i=0\n",
        "#for generated_sequence in pretrained_generator(\" To connect to a VMware Cloud on AWS server by using the API token, run the following command \" , num_return_sequences=3):\n",
        "  #i=i+1\n",
        "  #print(i)\n",
        "  #print(generated_sequence['generated_text'])"
      ],
      "metadata": {
        "colab": {
          "base_uri": "https://localhost:8080/"
        },
        "id": "LTv6YIcq9Ugj",
        "outputId": "3d0f57b5-30d8-4e89-ebb9-e5d8b995ba63"
      },
      "execution_count": 22,
      "outputs": [
        {
          "output_type": "stream",
          "name": "stderr",
          "text": [
            "Setting `pad_token_id` to `eos_token_id`:50256 for open-end generation.\n"
          ]
        },
        {
          "output_type": "stream",
          "name": "stdout",
          "text": [
            "1\n",
            " To connect to a VMware Cloud on AWS server by using the API token, run the following command  to connect:\n",
            "vSphereHost.connect(username=\"test\") vSphereHost.connect(port=\"1.0″, port=\"\n",
            "2\n",
            " To connect to a VMware Cloud on AWS server by using the API token, run the following command !! This command connects the Cloud Appliance (AWS) to the server with the following parameters:\n",
            "\n",
            "<domain-account> <domain>\n",
            "3\n",
            " To connect to a VMware Cloud on AWS server by using the API token, run the following command  to connect to a VMware Cloud on AWS server:\n",
            "VMWare AWS Server\n",
            "After that, you'll need to reboot your ESXi environment\n"
          ]
        }
      ]
    },
    {
      "cell_type": "code",
      "source": [
        "batch_size = 128\n",
        "output_dir='/content/model_checkpoints_finetuned_cypher'\n",
        "args = TrainingArguments(\n",
        "    output_dir=output_dir,\n",
        "    evaluation_strategy = IntervalStrategy.EPOCH,\n",
        "    learning_rate=2e-5,\n",
        "    per_device_train_batch_size=batch_size,\n",
        "    per_device_eval_batch_size=batch_size,\n",
        "    num_train_epochs=20,\n",
        "    weight_decay=0.01,\n",
        "    fp16=True, # need GPU\n",
        "    logging_steps=1,\n",
        "    save_strategy=IntervalStrategy.EPOCH,\n",
        "    save_total_limit=2,\n",
        "    load_best_model_at_end=True,\n",
        "    warmup_steps = len(train_dataset.examples)//10\n",
        ")\n",
        "  # warm-up refers to the initial phase of training where the learning rate is gradually increased.\n",
        "  # This helps the model converge to optimal parameters more effectively\n"
      ],
      "metadata": {
        "id": "HVU0aoD8-9Ox"
      },
      "execution_count": 10,
      "outputs": []
    },
    {
      "cell_type": "code",
      "source": [
        "'''import numpy as np\n",
        "from scipy.special import softmax\n",
        "from sklearn.metrics import log_loss\n",
        "def compute_metrics(p: EvalPrediction):\n",
        "    logits = p.predictions\n",
        "    labels = p.label_ids\n",
        "    probabilities = softmax(logits, axis=-1)\n",
        "    loss = log_loss(labels.flatten(), probabilities.reshape(-1, probabilities.shape[-1]), labels=[i for i in range(logits.shape[-1])])\n",
        "    perplexity = np.exp(loss)\n",
        "    return {\"perplexity\": perplexity}"
      ],
      "metadata": {
        "colab": {
          "base_uri": "https://localhost:8080/",
          "height": 211
        },
        "id": "z3o20FjHbj5O",
        "outputId": "36af7aaf-158e-4c28-e271-a00909c85f86"
      },
      "execution_count": 46,
      "outputs": [
        {
          "output_type": "error",
          "ename": "NameError",
          "evalue": "name 'EvalPrediction' is not defined",
          "traceback": [
            "\u001b[0;31m---------------------------------------------------------------------------\u001b[0m",
            "\u001b[0;31mNameError\u001b[0m                                 Traceback (most recent call last)",
            "\u001b[0;32m<ipython-input-46-b22f586dd7bc>\u001b[0m in \u001b[0;36m<cell line: 4>\u001b[0;34m()\u001b[0m\n\u001b[1;32m      2\u001b[0m \u001b[0;32mfrom\u001b[0m \u001b[0mscipy\u001b[0m\u001b[0;34m.\u001b[0m\u001b[0mspecial\u001b[0m \u001b[0;32mimport\u001b[0m \u001b[0msoftmax\u001b[0m\u001b[0;34m\u001b[0m\u001b[0;34m\u001b[0m\u001b[0m\n\u001b[1;32m      3\u001b[0m \u001b[0;32mfrom\u001b[0m \u001b[0msklearn\u001b[0m\u001b[0;34m.\u001b[0m\u001b[0mmetrics\u001b[0m \u001b[0;32mimport\u001b[0m \u001b[0mlog_loss\u001b[0m\u001b[0;34m\u001b[0m\u001b[0;34m\u001b[0m\u001b[0m\n\u001b[0;32m----> 4\u001b[0;31m \u001b[0;32mdef\u001b[0m \u001b[0mcompute_metrics\u001b[0m\u001b[0;34m(\u001b[0m\u001b[0mp\u001b[0m\u001b[0;34m:\u001b[0m \u001b[0mEvalPrediction\u001b[0m\u001b[0;34m)\u001b[0m\u001b[0;34m:\u001b[0m\u001b[0;34m\u001b[0m\u001b[0;34m\u001b[0m\u001b[0m\n\u001b[0m\u001b[1;32m      5\u001b[0m     \u001b[0mlogits\u001b[0m \u001b[0;34m=\u001b[0m \u001b[0mp\u001b[0m\u001b[0;34m.\u001b[0m\u001b[0mpredictions\u001b[0m\u001b[0;34m\u001b[0m\u001b[0;34m\u001b[0m\u001b[0m\n\u001b[1;32m      6\u001b[0m     \u001b[0mlabels\u001b[0m \u001b[0;34m=\u001b[0m \u001b[0mp\u001b[0m\u001b[0;34m.\u001b[0m\u001b[0mlabel_ids\u001b[0m\u001b[0;34m\u001b[0m\u001b[0;34m\u001b[0m\u001b[0m\n",
            "\u001b[0;31mNameError\u001b[0m: name 'EvalPrediction' is not defined"
          ]
        }
      ]
    },
    {
      "cell_type": "code",
      "source": [
        "trainer = Trainer(\n",
        "    model,\n",
        "    args,\n",
        "    train_dataset=train_dataset,\n",
        "    eval_dataset=val_dataset,\n",
        "    data_collator=collator,\n",
        "    tokenizer=tokenizer,\n",
        "    #compute_metrics=compute_metrics\n",
        ")"
      ],
      "metadata": {
        "colab": {
          "base_uri": "https://localhost:8080/"
        },
        "id": "5lvi0DGLCX6a",
        "outputId": "30d31157-efd1-48e3-8a6b-cde2969fb446"
      },
      "execution_count": 13,
      "outputs": [
        {
          "output_type": "stream",
          "name": "stderr",
          "text": [
            "/usr/local/lib/python3.10/dist-packages/accelerate/accelerator.py:432: FutureWarning: Passing the following arguments to `Accelerator` is deprecated and will be removed in version 1.0 of Accelerate: dict_keys(['dispatch_batches', 'split_batches', 'even_batches', 'use_seedable_sampler']). Please pass an `accelerate.DataLoaderConfiguration` instead: \n",
            "dataloader_config = DataLoaderConfiguration(dispatch_batches=None, split_batches=False, even_batches=True, use_seedable_sampler=True)\n",
            "  warnings.warn(\n"
          ]
        }
      ]
    },
    {
      "cell_type": "code",
      "source": [
        "'''trainer = Trainer(\n",
        "    model,\n",
        "    args,\n",
        "    train_dataset=org_data.examples[:int(len(org_data.examples)*.8)],\n",
        "    eval_dataset=org_data.examples[int(len(org_data.examples)*.8):],\n",
        "    data_collator=collator,\n",
        "    tokenizer=tokenizer,\n",
        "    #compute_metrics=compute_metrics\n",
        ")"
      ],
      "metadata": {
        "id": "Sruzsy8yh5FC"
      },
      "execution_count": 49,
      "outputs": []
    },
    {
      "cell_type": "code",
      "source": [
        "trainer.train()\n",
        "\n",
        "# Save the fine-tuned model\n",
        "model.save_pretrained(output_dir)\n",
        "tokenizer.save_pretrained(output_dir)"
      ],
      "metadata": {
        "colab": {
          "base_uri": "https://localhost:8080/",
          "height": 843
        },
        "id": "ee1thfRobtWD",
        "outputId": "760882c6-353c-4e0a-b603-fbfc27bfd087"
      },
      "execution_count": 15,
      "outputs": [
        {
          "output_type": "display_data",
          "data": {
            "text/plain": [
              "<IPython.core.display.HTML object>"
            ],
            "text/html": [
              "\n",
              "    <div>\n",
              "      \n",
              "      <progress value='680' max='680' style='width:300px; height:20px; vertical-align: middle;'></progress>\n",
              "      [680/680 05:24, Epoch 20/20]\n",
              "    </div>\n",
              "    <table border=\"1\" class=\"dataframe\">\n",
              "  <thead>\n",
              " <tr style=\"text-align: left;\">\n",
              "      <th>Epoch</th>\n",
              "      <th>Training Loss</th>\n",
              "      <th>Validation Loss</th>\n",
              "    </tr>\n",
              "  </thead>\n",
              "  <tbody>\n",
              "    <tr>\n",
              "      <td>1</td>\n",
              "      <td>1.858900</td>\n",
              "      <td>2.184996</td>\n",
              "    </tr>\n",
              "    <tr>\n",
              "      <td>2</td>\n",
              "      <td>1.915300</td>\n",
              "      <td>2.183656</td>\n",
              "    </tr>\n",
              "    <tr>\n",
              "      <td>3</td>\n",
              "      <td>1.945500</td>\n",
              "      <td>2.182116</td>\n",
              "    </tr>\n",
              "    <tr>\n",
              "      <td>4</td>\n",
              "      <td>1.940000</td>\n",
              "      <td>2.183062</td>\n",
              "    </tr>\n",
              "    <tr>\n",
              "      <td>5</td>\n",
              "      <td>1.925100</td>\n",
              "      <td>2.181204</td>\n",
              "    </tr>\n",
              "    <tr>\n",
              "      <td>6</td>\n",
              "      <td>1.873100</td>\n",
              "      <td>2.177928</td>\n",
              "    </tr>\n",
              "    <tr>\n",
              "      <td>7</td>\n",
              "      <td>1.618100</td>\n",
              "      <td>2.178472</td>\n",
              "    </tr>\n",
              "    <tr>\n",
              "      <td>8</td>\n",
              "      <td>1.826400</td>\n",
              "      <td>2.179643</td>\n",
              "    </tr>\n",
              "    <tr>\n",
              "      <td>9</td>\n",
              "      <td>1.763300</td>\n",
              "      <td>2.179868</td>\n",
              "    </tr>\n",
              "    <tr>\n",
              "      <td>10</td>\n",
              "      <td>1.949000</td>\n",
              "      <td>2.176882</td>\n",
              "    </tr>\n",
              "    <tr>\n",
              "      <td>11</td>\n",
              "      <td>1.685600</td>\n",
              "      <td>2.176407</td>\n",
              "    </tr>\n",
              "    <tr>\n",
              "      <td>12</td>\n",
              "      <td>1.676600</td>\n",
              "      <td>2.170768</td>\n",
              "    </tr>\n",
              "    <tr>\n",
              "      <td>13</td>\n",
              "      <td>1.752200</td>\n",
              "      <td>2.178668</td>\n",
              "    </tr>\n",
              "    <tr>\n",
              "      <td>14</td>\n",
              "      <td>1.720300</td>\n",
              "      <td>2.179235</td>\n",
              "    </tr>\n",
              "    <tr>\n",
              "      <td>15</td>\n",
              "      <td>1.749300</td>\n",
              "      <td>2.178054</td>\n",
              "    </tr>\n",
              "    <tr>\n",
              "      <td>16</td>\n",
              "      <td>1.762700</td>\n",
              "      <td>2.180366</td>\n",
              "    </tr>\n",
              "    <tr>\n",
              "      <td>17</td>\n",
              "      <td>1.761200</td>\n",
              "      <td>2.185697</td>\n",
              "    </tr>\n",
              "    <tr>\n",
              "      <td>18</td>\n",
              "      <td>1.576500</td>\n",
              "      <td>2.181737</td>\n",
              "    </tr>\n",
              "    <tr>\n",
              "      <td>19</td>\n",
              "      <td>1.755900</td>\n",
              "      <td>2.183454</td>\n",
              "    </tr>\n",
              "    <tr>\n",
              "      <td>20</td>\n",
              "      <td>1.591900</td>\n",
              "      <td>2.184772</td>\n",
              "    </tr>\n",
              "  </tbody>\n",
              "</table><p>"
            ]
          },
          "metadata": {}
        },
        {
          "output_type": "stream",
          "name": "stderr",
          "text": [
            "Checkpoint destination directory /content/model_checkpoints_finetuned_cypher/checkpoint-680 already exists and is non-empty. Saving will proceed but saved results may be invalid.\n",
            "There were missing keys in the checkpoint model loaded: ['lm_head.weight'].\n"
          ]
        },
        {
          "output_type": "execute_result",
          "data": {
            "text/plain": [
              "('/content/model_checkpoints_finetuned_cypher/tokenizer_config.json',\n",
              " '/content/model_checkpoints_finetuned_cypher/special_tokens_map.json',\n",
              " '/content/model_checkpoints_finetuned_cypher/vocab.json',\n",
              " '/content/model_checkpoints_finetuned_cypher/merges.txt',\n",
              " '/content/model_checkpoints_finetuned_cypher/added_tokens.json')"
            ]
          },
          "metadata": {},
          "execution_count": 15
        }
      ]
    },
    {
      "cell_type": "code",
      "source": [
        "trainer.evaluate()"
      ],
      "metadata": {
        "colab": {
          "base_uri": "https://localhost:8080/",
          "height": 124
        },
        "id": "PwIq8YeIgENH",
        "outputId": "d2287e7e-19b9-428e-ec96-8b302d5a0e49"
      },
      "execution_count": 16,
      "outputs": [
        {
          "output_type": "display_data",
          "data": {
            "text/plain": [
              "<IPython.core.display.HTML object>"
            ],
            "text/html": [
              "\n",
              "    <div>\n",
              "      \n",
              "      <progress value='10' max='10' style='width:300px; height:20px; vertical-align: middle;'></progress>\n",
              "      [10/10 00:00]\n",
              "    </div>\n",
              "    "
            ]
          },
          "metadata": {}
        },
        {
          "output_type": "execute_result",
          "data": {
            "text/plain": [
              "{'eval_loss': 2.1707682609558105,\n",
              " 'eval_runtime': 1.0665,\n",
              " 'eval_samples_per_second': 1172.082,\n",
              " 'eval_steps_per_second': 9.377,\n",
              " 'epoch': 20.0}"
            ]
          },
          "metadata": {},
          "execution_count": 16
        }
      ]
    },
    {
      "cell_type": "markdown",
      "source": [],
      "metadata": {
        "id": "N7QsvkXPbhaS"
      }
    },
    {
      "cell_type": "code",
      "source": [
        "loaded_model = GPT2LMHeadModel.from_pretrained('/content/model_checkpoints_finetuned_cypher')"
      ],
      "metadata": {
        "id": "2cr1wOvmgObB"
      },
      "execution_count": 18,
      "outputs": []
    },
    {
      "cell_type": "code",
      "source": [
        "tune_generator = pipeline('text-generation', model=loaded_model , tokenizer='gpt2', config ={'max_new_token':60, 'do_sample':True ,'top_p':0.9 , 'temperature':0.0, 'top_k':5})"
      ],
      "metadata": {
        "id": "pOz2_TtOgeyn"
      },
      "execution_count": 19,
      "outputs": []
    },
    {
      "cell_type": "code",
      "source": [
        "i=0\n",
        "for generated_sequence in tune_generator(\"Cypher query to create a customer node \" , num_return_sequences=3):\n",
        "  i=i+1\n",
        "  print(i)\n",
        "  print(generated_sequence['generated_text'])"
      ],
      "metadata": {
        "colab": {
          "base_uri": "https://localhost:8080/"
        },
        "id": "2ggBJpCygxEL",
        "outputId": "b4baf5f5-88bb-4294-a264-be9a05ba4ede"
      },
      "execution_count": 20,
      "outputs": [
        {
          "output_type": "stream",
          "name": "stderr",
          "text": [
            "Setting `pad_token_id` to `eos_token_id`:50256 for open-end generation.\n"
          ]
        },
        {
          "output_type": "stream",
          "name": "stdout",
          "text": [
            "1\n",
            "Cypher query to create a customer node  that has a label\n",
            "'Charlie Sheen' as the first delivery\n",
            "This query performs the following:\n",
            "CREATE (*)  RETURN customers\n",
            "The first one to create and manage customer\n",
            "names\n",
            "2\n",
            "Cypher query to create a customer node \n",
            "with myname  and a business’s address  would read:\n",
            "CREATE (email:Email {username: 'Maria', email: { content: 'email', name: email\n",
            "3\n",
            "Cypher query to create a customer node  with a label-separated relationship to the user\n",
            "name and lastname  node:\n",
            "Cypher will then return a null result.\n",
            "Query\n",
            "RETURN customer\n",
            "This returns an empty\n"
          ]
        }
      ]
    },
    {
      "cell_type": "markdown",
      "source": [
        "# Finetuning"
      ],
      "metadata": {
        "id": "lXDxbEB6A-qN"
      }
    },
    {
      "cell_type": "code",
      "source": [
        "data = pd.read_excel(\"/content/cypher.xlsx\")\n",
        "print(data.shape)\n",
        "data.head(2)"
      ],
      "metadata": {
        "colab": {
          "base_uri": "https://localhost:8080/",
          "height": 129
        },
        "id": "hnv268fCA9w8",
        "outputId": "88a079b9-c5cb-45ab-aed9-9b1f7198a908"
      },
      "execution_count": 21,
      "outputs": [
        {
          "output_type": "stream",
          "name": "stdout",
          "text": [
            "(95, 3)\n"
          ]
        },
        {
          "output_type": "execute_result",
          "data": {
            "text/plain": [
              "   S.No                                          Userquery  \\\n",
              "0   1.0   match all nodes with either the Fremen or Har...   \n",
              "1   2.0  find all nodes with both the Character and Har...   \n",
              "\n",
              "                                           Cypher  \n",
              "0     MATCH (c:Fremen|Harkonnen)\\nRETURN count(*)  \n",
              "1  MATCH (c:Character&Harkonnen)\\nRETURN count(*)  "
            ],
            "text/html": [
              "\n",
              "  <div id=\"df-4f4f77db-959b-441a-b28e-5e4056851c94\" class=\"colab-df-container\">\n",
              "    <div>\n",
              "<style scoped>\n",
              "    .dataframe tbody tr th:only-of-type {\n",
              "        vertical-align: middle;\n",
              "    }\n",
              "\n",
              "    .dataframe tbody tr th {\n",
              "        vertical-align: top;\n",
              "    }\n",
              "\n",
              "    .dataframe thead th {\n",
              "        text-align: right;\n",
              "    }\n",
              "</style>\n",
              "<table border=\"1\" class=\"dataframe\">\n",
              "  <thead>\n",
              "    <tr style=\"text-align: right;\">\n",
              "      <th></th>\n",
              "      <th>S.No</th>\n",
              "      <th>Userquery</th>\n",
              "      <th>Cypher</th>\n",
              "    </tr>\n",
              "  </thead>\n",
              "  <tbody>\n",
              "    <tr>\n",
              "      <th>0</th>\n",
              "      <td>1.0</td>\n",
              "      <td>match all nodes with either the Fremen or Har...</td>\n",
              "      <td>MATCH (c:Fremen|Harkonnen)\\nRETURN count(*)</td>\n",
              "    </tr>\n",
              "    <tr>\n",
              "      <th>1</th>\n",
              "      <td>2.0</td>\n",
              "      <td>find all nodes with both the Character and Har...</td>\n",
              "      <td>MATCH (c:Character&amp;Harkonnen)\\nRETURN count(*)</td>\n",
              "    </tr>\n",
              "  </tbody>\n",
              "</table>\n",
              "</div>\n",
              "    <div class=\"colab-df-buttons\">\n",
              "\n",
              "  <div class=\"colab-df-container\">\n",
              "    <button class=\"colab-df-convert\" onclick=\"convertToInteractive('df-4f4f77db-959b-441a-b28e-5e4056851c94')\"\n",
              "            title=\"Convert this dataframe to an interactive table.\"\n",
              "            style=\"display:none;\">\n",
              "\n",
              "  <svg xmlns=\"http://www.w3.org/2000/svg\" height=\"24px\" viewBox=\"0 -960 960 960\">\n",
              "    <path d=\"M120-120v-720h720v720H120Zm60-500h600v-160H180v160Zm220 220h160v-160H400v160Zm0 220h160v-160H400v160ZM180-400h160v-160H180v160Zm440 0h160v-160H620v160ZM180-180h160v-160H180v160Zm440 0h160v-160H620v160Z\"/>\n",
              "  </svg>\n",
              "    </button>\n",
              "\n",
              "  <style>\n",
              "    .colab-df-container {\n",
              "      display:flex;\n",
              "      gap: 12px;\n",
              "    }\n",
              "\n",
              "    .colab-df-convert {\n",
              "      background-color: #E8F0FE;\n",
              "      border: none;\n",
              "      border-radius: 50%;\n",
              "      cursor: pointer;\n",
              "      display: none;\n",
              "      fill: #1967D2;\n",
              "      height: 32px;\n",
              "      padding: 0 0 0 0;\n",
              "      width: 32px;\n",
              "    }\n",
              "\n",
              "    .colab-df-convert:hover {\n",
              "      background-color: #E2EBFA;\n",
              "      box-shadow: 0px 1px 2px rgba(60, 64, 67, 0.3), 0px 1px 3px 1px rgba(60, 64, 67, 0.15);\n",
              "      fill: #174EA6;\n",
              "    }\n",
              "\n",
              "    .colab-df-buttons div {\n",
              "      margin-bottom: 4px;\n",
              "    }\n",
              "\n",
              "    [theme=dark] .colab-df-convert {\n",
              "      background-color: #3B4455;\n",
              "      fill: #D2E3FC;\n",
              "    }\n",
              "\n",
              "    [theme=dark] .colab-df-convert:hover {\n",
              "      background-color: #434B5C;\n",
              "      box-shadow: 0px 1px 3px 1px rgba(0, 0, 0, 0.15);\n",
              "      filter: drop-shadow(0px 1px 2px rgba(0, 0, 0, 0.3));\n",
              "      fill: #FFFFFF;\n",
              "    }\n",
              "  </style>\n",
              "\n",
              "    <script>\n",
              "      const buttonEl =\n",
              "        document.querySelector('#df-4f4f77db-959b-441a-b28e-5e4056851c94 button.colab-df-convert');\n",
              "      buttonEl.style.display =\n",
              "        google.colab.kernel.accessAllowed ? 'block' : 'none';\n",
              "\n",
              "      async function convertToInteractive(key) {\n",
              "        const element = document.querySelector('#df-4f4f77db-959b-441a-b28e-5e4056851c94');\n",
              "        const dataTable =\n",
              "          await google.colab.kernel.invokeFunction('convertToInteractive',\n",
              "                                                    [key], {});\n",
              "        if (!dataTable) return;\n",
              "\n",
              "        const docLinkHtml = 'Like what you see? Visit the ' +\n",
              "          '<a target=\"_blank\" href=https://colab.research.google.com/notebooks/data_table.ipynb>data table notebook</a>'\n",
              "          + ' to learn more about interactive tables.';\n",
              "        element.innerHTML = '';\n",
              "        dataTable['output_type'] = 'display_data';\n",
              "        await google.colab.output.renderOutput(dataTable, element);\n",
              "        const docLink = document.createElement('div');\n",
              "        docLink.innerHTML = docLinkHtml;\n",
              "        element.appendChild(docLink);\n",
              "      }\n",
              "    </script>\n",
              "  </div>\n",
              "\n",
              "\n",
              "<div id=\"df-1d25db10-dd0a-4e19-b5fd-c0896a01bcfe\">\n",
              "  <button class=\"colab-df-quickchart\" onclick=\"quickchart('df-1d25db10-dd0a-4e19-b5fd-c0896a01bcfe')\"\n",
              "            title=\"Suggest charts\"\n",
              "            style=\"display:none;\">\n",
              "\n",
              "<svg xmlns=\"http://www.w3.org/2000/svg\" height=\"24px\"viewBox=\"0 0 24 24\"\n",
              "     width=\"24px\">\n",
              "    <g>\n",
              "        <path d=\"M19 3H5c-1.1 0-2 .9-2 2v14c0 1.1.9 2 2 2h14c1.1 0 2-.9 2-2V5c0-1.1-.9-2-2-2zM9 17H7v-7h2v7zm4 0h-2V7h2v10zm4 0h-2v-4h2v4z\"/>\n",
              "    </g>\n",
              "</svg>\n",
              "  </button>\n",
              "\n",
              "<style>\n",
              "  .colab-df-quickchart {\n",
              "      --bg-color: #E8F0FE;\n",
              "      --fill-color: #1967D2;\n",
              "      --hover-bg-color: #E2EBFA;\n",
              "      --hover-fill-color: #174EA6;\n",
              "      --disabled-fill-color: #AAA;\n",
              "      --disabled-bg-color: #DDD;\n",
              "  }\n",
              "\n",
              "  [theme=dark] .colab-df-quickchart {\n",
              "      --bg-color: #3B4455;\n",
              "      --fill-color: #D2E3FC;\n",
              "      --hover-bg-color: #434B5C;\n",
              "      --hover-fill-color: #FFFFFF;\n",
              "      --disabled-bg-color: #3B4455;\n",
              "      --disabled-fill-color: #666;\n",
              "  }\n",
              "\n",
              "  .colab-df-quickchart {\n",
              "    background-color: var(--bg-color);\n",
              "    border: none;\n",
              "    border-radius: 50%;\n",
              "    cursor: pointer;\n",
              "    display: none;\n",
              "    fill: var(--fill-color);\n",
              "    height: 32px;\n",
              "    padding: 0;\n",
              "    width: 32px;\n",
              "  }\n",
              "\n",
              "  .colab-df-quickchart:hover {\n",
              "    background-color: var(--hover-bg-color);\n",
              "    box-shadow: 0 1px 2px rgba(60, 64, 67, 0.3), 0 1px 3px 1px rgba(60, 64, 67, 0.15);\n",
              "    fill: var(--button-hover-fill-color);\n",
              "  }\n",
              "\n",
              "  .colab-df-quickchart-complete:disabled,\n",
              "  .colab-df-quickchart-complete:disabled:hover {\n",
              "    background-color: var(--disabled-bg-color);\n",
              "    fill: var(--disabled-fill-color);\n",
              "    box-shadow: none;\n",
              "  }\n",
              "\n",
              "  .colab-df-spinner {\n",
              "    border: 2px solid var(--fill-color);\n",
              "    border-color: transparent;\n",
              "    border-bottom-color: var(--fill-color);\n",
              "    animation:\n",
              "      spin 1s steps(1) infinite;\n",
              "  }\n",
              "\n",
              "  @keyframes spin {\n",
              "    0% {\n",
              "      border-color: transparent;\n",
              "      border-bottom-color: var(--fill-color);\n",
              "      border-left-color: var(--fill-color);\n",
              "    }\n",
              "    20% {\n",
              "      border-color: transparent;\n",
              "      border-left-color: var(--fill-color);\n",
              "      border-top-color: var(--fill-color);\n",
              "    }\n",
              "    30% {\n",
              "      border-color: transparent;\n",
              "      border-left-color: var(--fill-color);\n",
              "      border-top-color: var(--fill-color);\n",
              "      border-right-color: var(--fill-color);\n",
              "    }\n",
              "    40% {\n",
              "      border-color: transparent;\n",
              "      border-right-color: var(--fill-color);\n",
              "      border-top-color: var(--fill-color);\n",
              "    }\n",
              "    60% {\n",
              "      border-color: transparent;\n",
              "      border-right-color: var(--fill-color);\n",
              "    }\n",
              "    80% {\n",
              "      border-color: transparent;\n",
              "      border-right-color: var(--fill-color);\n",
              "      border-bottom-color: var(--fill-color);\n",
              "    }\n",
              "    90% {\n",
              "      border-color: transparent;\n",
              "      border-bottom-color: var(--fill-color);\n",
              "    }\n",
              "  }\n",
              "</style>\n",
              "\n",
              "  <script>\n",
              "    async function quickchart(key) {\n",
              "      const quickchartButtonEl =\n",
              "        document.querySelector('#' + key + ' button');\n",
              "      quickchartButtonEl.disabled = true;  // To prevent multiple clicks.\n",
              "      quickchartButtonEl.classList.add('colab-df-spinner');\n",
              "      try {\n",
              "        const charts = await google.colab.kernel.invokeFunction(\n",
              "            'suggestCharts', [key], {});\n",
              "      } catch (error) {\n",
              "        console.error('Error during call to suggestCharts:', error);\n",
              "      }\n",
              "      quickchartButtonEl.classList.remove('colab-df-spinner');\n",
              "      quickchartButtonEl.classList.add('colab-df-quickchart-complete');\n",
              "    }\n",
              "    (() => {\n",
              "      let quickchartButtonEl =\n",
              "        document.querySelector('#df-1d25db10-dd0a-4e19-b5fd-c0896a01bcfe button');\n",
              "      quickchartButtonEl.style.display =\n",
              "        google.colab.kernel.accessAllowed ? 'block' : 'none';\n",
              "    })();\n",
              "  </script>\n",
              "</div>\n",
              "\n",
              "    </div>\n",
              "  </div>\n"
            ],
            "application/vnd.google.colaboratory.intrinsic+json": {
              "type": "dataframe",
              "variable_name": "data",
              "summary": "{\n  \"name\": \"data\",\n  \"rows\": 95,\n  \"fields\": [\n    {\n      \"column\": \"S.No\",\n      \"properties\": {\n        \"dtype\": \"number\",\n        \"std\": 26.949848352841148,\n        \"min\": 1.0,\n        \"max\": 93.0,\n        \"num_unique_values\": 93,\n        \"samples\": [\n          41.0,\n          23.0,\n          56.0\n        ],\n        \"semantic_type\": \"\",\n        \"description\": \"\"\n      }\n    },\n    {\n      \"column\": \"Userquery\",\n      \"properties\": {\n        \"dtype\": \"string\",\n        \"num_unique_values\": 92,\n        \"samples\": [\n          \"This query creates a book in the database setting the version number as a timestamp. Another query could check whether the version of the book has not changed before updating, and fail if a new version of the book is in the database (an optimistic lock).\\n\",\n          \" Find all distinct customers living in the United States who have purchased at least one book\",\n          \"his query, for each path found, returns a collection with the titles of the books found separated by a hyphen. In case a title is not found, thanks to the COALESCE function, an asterisk is returned instead of a null value. The last line of the query is needed to remove the last dash from the string.\"\n        ],\n        \"semantic_type\": \"\",\n        \"description\": \"\"\n      }\n    },\n    {\n      \"column\": \"Cypher\",\n      \"properties\": {\n        \"dtype\": \"string\",\n        \"num_unique_values\": 94,\n        \"samples\": [\n          \"MATCH (a:ACTOR) WHERE (a.year>= 1965) WITH a,SIZE((a)<-[:PLAY]-(m:MOVIE)) ASmovies RETURN a.name,movies ORDERBYmoviesASC\",\n          \"match (customer:Customer) where customer.country = \\\"United States\\\"   return customer\",\n          \"RETURN FILTER (x IN [1,2,3,4] WHERE x%2 = 0)\"\n        ],\n        \"semantic_type\": \"\",\n        \"description\": \"\"\n      }\n    }\n  ]\n}"
            }
          },
          "metadata": {},
          "execution_count": 21
        }
      ]
    },
    {
      "cell_type": "code",
      "source": [
        "tokenizer = GPT2Tokenizer.from_pretrained('gpt2')\n",
        "tokenizer.pad_token = tokenizer.eos_token"
      ],
      "metadata": {
        "id": "Nf4WaaooCnHK"
      },
      "execution_count": 22,
      "outputs": []
    },
    {
      "cell_type": "code",
      "source": [
        "#prompt1= \"LCT\\n\"\n",
        "#prompt2=\"LaTeX:\"\n",
        "prompt1= \"CPT\\n \"\n",
        "prompt2=\"Cypher: \""
      ],
      "metadata": {
        "id": "l0Z8U8zcCtvi"
      },
      "execution_count": 23,
      "outputs": []
    },
    {
      "cell_type": "code",
      "source": [
        "final_prompt =f'{prompt1}English:' +  data['Userquery'] +'\\n' + prompt2  + '' +data['Cypher'].astype(str)"
      ],
      "metadata": {
        "id": "EqrtuKDTDI9Y"
      },
      "execution_count": 24,
      "outputs": []
    },
    {
      "cell_type": "code",
      "source": [
        "print(final_prompt[0])"
      ],
      "metadata": {
        "colab": {
          "base_uri": "https://localhost:8080/"
        },
        "id": "kNVfiTMGFRCg",
        "outputId": "ab07a60e-ba53-469f-cb91-5b5eefcde0a6"
      },
      "execution_count": 25,
      "outputs": [
        {
          "output_type": "stream",
          "name": "stdout",
          "text": [
            "CPT\n",
            " English: match all nodes with either the Fremen or Harkonnen label, you can use the | expression\n",
            "Cypher: MATCH (c:Fremen|Harkonnen)\n",
            "RETURN count(*)\n"
          ]
        }
      ]
    },
    {
      "cell_type": "code",
      "source": [
        "from datasets import Dataset\n",
        "df = pd.DataFrame({'text':final_prompt})\n",
        "df = df.dropna()\n",
        "df.head(3)"
      ],
      "metadata": {
        "colab": {
          "base_uri": "https://localhost:8080/",
          "height": 143
        },
        "id": "hmXH25xQFUs4",
        "outputId": "c321695d-9c04-4b45-da4e-d38513f40362"
      },
      "execution_count": 26,
      "outputs": [
        {
          "output_type": "execute_result",
          "data": {
            "text/plain": [
              "                                                text\n",
              "0  CPT\\n English: match all nodes with either the...\n",
              "1  CPT\\n English:find all nodes with both the Cha...\n",
              "2  CPT\\n English:you want to match all nodes with..."
            ],
            "text/html": [
              "\n",
              "  <div id=\"df-83713579-067c-4d8f-bb21-0677e959881e\" class=\"colab-df-container\">\n",
              "    <div>\n",
              "<style scoped>\n",
              "    .dataframe tbody tr th:only-of-type {\n",
              "        vertical-align: middle;\n",
              "    }\n",
              "\n",
              "    .dataframe tbody tr th {\n",
              "        vertical-align: top;\n",
              "    }\n",
              "\n",
              "    .dataframe thead th {\n",
              "        text-align: right;\n",
              "    }\n",
              "</style>\n",
              "<table border=\"1\" class=\"dataframe\">\n",
              "  <thead>\n",
              "    <tr style=\"text-align: right;\">\n",
              "      <th></th>\n",
              "      <th>text</th>\n",
              "    </tr>\n",
              "  </thead>\n",
              "  <tbody>\n",
              "    <tr>\n",
              "      <th>0</th>\n",
              "      <td>CPT\\n English: match all nodes with either the...</td>\n",
              "    </tr>\n",
              "    <tr>\n",
              "      <th>1</th>\n",
              "      <td>CPT\\n English:find all nodes with both the Cha...</td>\n",
              "    </tr>\n",
              "    <tr>\n",
              "      <th>2</th>\n",
              "      <td>CPT\\n English:you want to match all nodes with...</td>\n",
              "    </tr>\n",
              "  </tbody>\n",
              "</table>\n",
              "</div>\n",
              "    <div class=\"colab-df-buttons\">\n",
              "\n",
              "  <div class=\"colab-df-container\">\n",
              "    <button class=\"colab-df-convert\" onclick=\"convertToInteractive('df-83713579-067c-4d8f-bb21-0677e959881e')\"\n",
              "            title=\"Convert this dataframe to an interactive table.\"\n",
              "            style=\"display:none;\">\n",
              "\n",
              "  <svg xmlns=\"http://www.w3.org/2000/svg\" height=\"24px\" viewBox=\"0 -960 960 960\">\n",
              "    <path d=\"M120-120v-720h720v720H120Zm60-500h600v-160H180v160Zm220 220h160v-160H400v160Zm0 220h160v-160H400v160ZM180-400h160v-160H180v160Zm440 0h160v-160H620v160ZM180-180h160v-160H180v160Zm440 0h160v-160H620v160Z\"/>\n",
              "  </svg>\n",
              "    </button>\n",
              "\n",
              "  <style>\n",
              "    .colab-df-container {\n",
              "      display:flex;\n",
              "      gap: 12px;\n",
              "    }\n",
              "\n",
              "    .colab-df-convert {\n",
              "      background-color: #E8F0FE;\n",
              "      border: none;\n",
              "      border-radius: 50%;\n",
              "      cursor: pointer;\n",
              "      display: none;\n",
              "      fill: #1967D2;\n",
              "      height: 32px;\n",
              "      padding: 0 0 0 0;\n",
              "      width: 32px;\n",
              "    }\n",
              "\n",
              "    .colab-df-convert:hover {\n",
              "      background-color: #E2EBFA;\n",
              "      box-shadow: 0px 1px 2px rgba(60, 64, 67, 0.3), 0px 1px 3px 1px rgba(60, 64, 67, 0.15);\n",
              "      fill: #174EA6;\n",
              "    }\n",
              "\n",
              "    .colab-df-buttons div {\n",
              "      margin-bottom: 4px;\n",
              "    }\n",
              "\n",
              "    [theme=dark] .colab-df-convert {\n",
              "      background-color: #3B4455;\n",
              "      fill: #D2E3FC;\n",
              "    }\n",
              "\n",
              "    [theme=dark] .colab-df-convert:hover {\n",
              "      background-color: #434B5C;\n",
              "      box-shadow: 0px 1px 3px 1px rgba(0, 0, 0, 0.15);\n",
              "      filter: drop-shadow(0px 1px 2px rgba(0, 0, 0, 0.3));\n",
              "      fill: #FFFFFF;\n",
              "    }\n",
              "  </style>\n",
              "\n",
              "    <script>\n",
              "      const buttonEl =\n",
              "        document.querySelector('#df-83713579-067c-4d8f-bb21-0677e959881e button.colab-df-convert');\n",
              "      buttonEl.style.display =\n",
              "        google.colab.kernel.accessAllowed ? 'block' : 'none';\n",
              "\n",
              "      async function convertToInteractive(key) {\n",
              "        const element = document.querySelector('#df-83713579-067c-4d8f-bb21-0677e959881e');\n",
              "        const dataTable =\n",
              "          await google.colab.kernel.invokeFunction('convertToInteractive',\n",
              "                                                    [key], {});\n",
              "        if (!dataTable) return;\n",
              "\n",
              "        const docLinkHtml = 'Like what you see? Visit the ' +\n",
              "          '<a target=\"_blank\" href=https://colab.research.google.com/notebooks/data_table.ipynb>data table notebook</a>'\n",
              "          + ' to learn more about interactive tables.';\n",
              "        element.innerHTML = '';\n",
              "        dataTable['output_type'] = 'display_data';\n",
              "        await google.colab.output.renderOutput(dataTable, element);\n",
              "        const docLink = document.createElement('div');\n",
              "        docLink.innerHTML = docLinkHtml;\n",
              "        element.appendChild(docLink);\n",
              "      }\n",
              "    </script>\n",
              "  </div>\n",
              "\n",
              "\n",
              "<div id=\"df-af7eb685-9962-4006-9e3c-837d786a5a67\">\n",
              "  <button class=\"colab-df-quickchart\" onclick=\"quickchart('df-af7eb685-9962-4006-9e3c-837d786a5a67')\"\n",
              "            title=\"Suggest charts\"\n",
              "            style=\"display:none;\">\n",
              "\n",
              "<svg xmlns=\"http://www.w3.org/2000/svg\" height=\"24px\"viewBox=\"0 0 24 24\"\n",
              "     width=\"24px\">\n",
              "    <g>\n",
              "        <path d=\"M19 3H5c-1.1 0-2 .9-2 2v14c0 1.1.9 2 2 2h14c1.1 0 2-.9 2-2V5c0-1.1-.9-2-2-2zM9 17H7v-7h2v7zm4 0h-2V7h2v10zm4 0h-2v-4h2v4z\"/>\n",
              "    </g>\n",
              "</svg>\n",
              "  </button>\n",
              "\n",
              "<style>\n",
              "  .colab-df-quickchart {\n",
              "      --bg-color: #E8F0FE;\n",
              "      --fill-color: #1967D2;\n",
              "      --hover-bg-color: #E2EBFA;\n",
              "      --hover-fill-color: #174EA6;\n",
              "      --disabled-fill-color: #AAA;\n",
              "      --disabled-bg-color: #DDD;\n",
              "  }\n",
              "\n",
              "  [theme=dark] .colab-df-quickchart {\n",
              "      --bg-color: #3B4455;\n",
              "      --fill-color: #D2E3FC;\n",
              "      --hover-bg-color: #434B5C;\n",
              "      --hover-fill-color: #FFFFFF;\n",
              "      --disabled-bg-color: #3B4455;\n",
              "      --disabled-fill-color: #666;\n",
              "  }\n",
              "\n",
              "  .colab-df-quickchart {\n",
              "    background-color: var(--bg-color);\n",
              "    border: none;\n",
              "    border-radius: 50%;\n",
              "    cursor: pointer;\n",
              "    display: none;\n",
              "    fill: var(--fill-color);\n",
              "    height: 32px;\n",
              "    padding: 0;\n",
              "    width: 32px;\n",
              "  }\n",
              "\n",
              "  .colab-df-quickchart:hover {\n",
              "    background-color: var(--hover-bg-color);\n",
              "    box-shadow: 0 1px 2px rgba(60, 64, 67, 0.3), 0 1px 3px 1px rgba(60, 64, 67, 0.15);\n",
              "    fill: var(--button-hover-fill-color);\n",
              "  }\n",
              "\n",
              "  .colab-df-quickchart-complete:disabled,\n",
              "  .colab-df-quickchart-complete:disabled:hover {\n",
              "    background-color: var(--disabled-bg-color);\n",
              "    fill: var(--disabled-fill-color);\n",
              "    box-shadow: none;\n",
              "  }\n",
              "\n",
              "  .colab-df-spinner {\n",
              "    border: 2px solid var(--fill-color);\n",
              "    border-color: transparent;\n",
              "    border-bottom-color: var(--fill-color);\n",
              "    animation:\n",
              "      spin 1s steps(1) infinite;\n",
              "  }\n",
              "\n",
              "  @keyframes spin {\n",
              "    0% {\n",
              "      border-color: transparent;\n",
              "      border-bottom-color: var(--fill-color);\n",
              "      border-left-color: var(--fill-color);\n",
              "    }\n",
              "    20% {\n",
              "      border-color: transparent;\n",
              "      border-left-color: var(--fill-color);\n",
              "      border-top-color: var(--fill-color);\n",
              "    }\n",
              "    30% {\n",
              "      border-color: transparent;\n",
              "      border-left-color: var(--fill-color);\n",
              "      border-top-color: var(--fill-color);\n",
              "      border-right-color: var(--fill-color);\n",
              "    }\n",
              "    40% {\n",
              "      border-color: transparent;\n",
              "      border-right-color: var(--fill-color);\n",
              "      border-top-color: var(--fill-color);\n",
              "    }\n",
              "    60% {\n",
              "      border-color: transparent;\n",
              "      border-right-color: var(--fill-color);\n",
              "    }\n",
              "    80% {\n",
              "      border-color: transparent;\n",
              "      border-right-color: var(--fill-color);\n",
              "      border-bottom-color: var(--fill-color);\n",
              "    }\n",
              "    90% {\n",
              "      border-color: transparent;\n",
              "      border-bottom-color: var(--fill-color);\n",
              "    }\n",
              "  }\n",
              "</style>\n",
              "\n",
              "  <script>\n",
              "    async function quickchart(key) {\n",
              "      const quickchartButtonEl =\n",
              "        document.querySelector('#' + key + ' button');\n",
              "      quickchartButtonEl.disabled = true;  // To prevent multiple clicks.\n",
              "      quickchartButtonEl.classList.add('colab-df-spinner');\n",
              "      try {\n",
              "        const charts = await google.colab.kernel.invokeFunction(\n",
              "            'suggestCharts', [key], {});\n",
              "      } catch (error) {\n",
              "        console.error('Error during call to suggestCharts:', error);\n",
              "      }\n",
              "      quickchartButtonEl.classList.remove('colab-df-spinner');\n",
              "      quickchartButtonEl.classList.add('colab-df-quickchart-complete');\n",
              "    }\n",
              "    (() => {\n",
              "      let quickchartButtonEl =\n",
              "        document.querySelector('#df-af7eb685-9962-4006-9e3c-837d786a5a67 button');\n",
              "      quickchartButtonEl.style.display =\n",
              "        google.colab.kernel.accessAllowed ? 'block' : 'none';\n",
              "    })();\n",
              "  </script>\n",
              "</div>\n",
              "\n",
              "    </div>\n",
              "  </div>\n"
            ],
            "application/vnd.google.colaboratory.intrinsic+json": {
              "type": "dataframe",
              "variable_name": "df",
              "summary": "{\n  \"name\": \"df\",\n  \"rows\": 94,\n  \"fields\": [\n    {\n      \"column\": \"text\",\n      \"properties\": {\n        \"dtype\": \"string\",\n        \"num_unique_values\": 94,\n        \"samples\": [\n          \"CPT\\n English:This query returns all books that have novel in their tags, but will return all the books that do not have no tags set as well. In fact, if a book doesn't have the tags property, the COALESCE function will return the collection ['novel']. Therefore, the IN predicate will always succeed.\\n\\nCypher: MATCH (aa:Book) \\nWHERE 'novel' IN COALESCE(aa.tags, ['novel']) \\nRETURN aa.title\",\n          \"CPT\\n English: Find all distinct customers living in the United States who have purchased at least one book\\nCypher: match (customer:Customer)-[:owns]->(books) where customer.country = \\\"United States\\\" return distinct customer\",\n          \"CPT\\n English:This query, for each path that matches the pattern, returns the list of nodes found in the path, but filters only the nodes with the label Book.\\n\\nCypher: MATCH p=(e)-[r]->(a)\\nRETURN FILTER (node IN NODES(p) WHERE node:Book)\"\n        ],\n        \"semantic_type\": \"\",\n        \"description\": \"\"\n      }\n    }\n  ]\n}"
            }
          },
          "metadata": {},
          "execution_count": 26
        }
      ]
    },
    {
      "cell_type": "code",
      "source": [
        "#Tokenization\n",
        "cypher_data=Dataset.from_pandas(df) # turn dataframe into dataset\n",
        "\n",
        "def data_tokenize(data):\n",
        "  #print(data)\n",
        "  return tokenizer(data['text'], truncation = True)\n",
        "\n",
        "cypher_data = cypher_data.map(data_tokenize , batched = True)\n",
        "cypher_data = cypher_data.train_test_split(train_size=0.8)"
      ],
      "metadata": {
        "colab": {
          "base_uri": "https://localhost:8080/",
          "height": 49,
          "referenced_widgets": [
            "fb010aaec0be4223b8d75271bc049358",
            "d5470f4c0a654dd8a7f12b890b46a556",
            "c77827abea4147bcb2de6f6ade7733af",
            "95aa20a89e86406c8440787b8c3b70f0",
            "b299505d291f4be9ab1b231b51d3583c",
            "8161172d138049b98ecf2b4ed6a81f72",
            "09ea6f5f9e904896a986b5a3de33b21f",
            "c79e0289542e4c71befff6d7e800dc94",
            "c433869b2ec94287b0dacbd737c5343e",
            "d5834ae905294c7ebc46ebca2b76785b",
            "73e249accb09400482f906b2d19df699"
          ]
        },
        "id": "RE554HfAF_ow",
        "outputId": "3c1f89d8-398a-4525-a164-6f8455811bda"
      },
      "execution_count": 27,
      "outputs": [
        {
          "output_type": "display_data",
          "data": {
            "text/plain": [
              "Map:   0%|          | 0/94 [00:00<?, ? examples/s]"
            ],
            "application/vnd.jupyter.widget-view+json": {
              "version_major": 2,
              "version_minor": 0,
              "model_id": "fb010aaec0be4223b8d75271bc049358"
            }
          },
          "metadata": {}
        }
      ]
    },
    {
      "cell_type": "code",
      "source": [
        "collator =  DataCollatorForLanguageModeling(tokenizer=tokenizer ,mlm = False)"
      ],
      "metadata": {
        "id": "4RqZM4erGRVW"
      },
      "execution_count": 28,
      "outputs": []
    },
    {
      "cell_type": "code",
      "source": [
        "model = GPT2LMHeadModel.from_pretrained('/content/model_checkpoints_finetuned_cypher')"
      ],
      "metadata": {
        "id": "OFoLLfqiGS4G"
      },
      "execution_count": 29,
      "outputs": []
    },
    {
      "cell_type": "code",
      "source": [
        "batch_size = 8\n",
        "output_dir='/content/model_fine_tune_checkpoints'\n",
        "args = TrainingArguments(\n",
        "    output_dir=output_dir,\n",
        "    evaluation_strategy = \"epoch\",\n",
        "    learning_rate=2e-5,\n",
        "    per_device_train_batch_size=batch_size,\n",
        "    per_device_eval_batch_size=batch_size,\n",
        "    num_train_epochs=30,\n",
        "    weight_decay=0.01,\n",
        "    fp16=True, # need GPU\n",
        "    logging_steps=1,\n",
        "    save_strategy=IntervalStrategy.EPOCH,\n",
        "    save_total_limit=2,\n",
        "    load_best_model_at_end=True,\n",
        ")"
      ],
      "metadata": {
        "id": "sMpryW6aGsh6"
      },
      "execution_count": 30,
      "outputs": []
    },
    {
      "cell_type": "code",
      "source": [
        "trainer = Trainer(\n",
        "    model,\n",
        "    args,\n",
        "    train_dataset=cypher_data['train'],\n",
        "    eval_dataset=cypher_data['test'],\n",
        "    data_collator=collator,\n",
        "    tokenizer=tokenizer,\n",
        ")"
      ],
      "metadata": {
        "colab": {
          "base_uri": "https://localhost:8080/"
        },
        "id": "Fb3VXz5_HA1_",
        "outputId": "04a7dfc5-723d-4455-f804-1d62f8846451"
      },
      "execution_count": 31,
      "outputs": [
        {
          "output_type": "stream",
          "name": "stderr",
          "text": [
            "/usr/local/lib/python3.10/dist-packages/accelerate/accelerator.py:432: FutureWarning: Passing the following arguments to `Accelerator` is deprecated and will be removed in version 1.0 of Accelerate: dict_keys(['dispatch_batches', 'split_batches', 'even_batches', 'use_seedable_sampler']). Please pass an `accelerate.DataLoaderConfiguration` instead: \n",
            "dataloader_config = DataLoaderConfiguration(dispatch_batches=None, split_batches=False, even_batches=True, use_seedable_sampler=True)\n",
            "  warnings.warn(\n"
          ]
        }
      ]
    },
    {
      "cell_type": "code",
      "source": [
        "trainer.evaluate()"
      ],
      "metadata": {
        "colab": {
          "base_uri": "https://localhost:8080/",
          "height": 106
        },
        "id": "nnrSsh3PH7f4",
        "outputId": "8a2adabb-d90e-469f-feca-97af33e71999"
      },
      "execution_count": 32,
      "outputs": [
        {
          "output_type": "display_data",
          "data": {
            "text/plain": [
              "<IPython.core.display.HTML object>"
            ],
            "text/html": [
              "\n",
              "    <div>\n",
              "      \n",
              "      <progress value='3' max='3' style='width:300px; height:20px; vertical-align: middle;'></progress>\n",
              "      [3/3 00:00]\n",
              "    </div>\n",
              "    "
            ]
          },
          "metadata": {}
        },
        {
          "output_type": "execute_result",
          "data": {
            "text/plain": [
              "{'eval_loss': 3.785952091217041,\n",
              " 'eval_runtime': 0.0763,\n",
              " 'eval_samples_per_second': 248.892,\n",
              " 'eval_steps_per_second': 39.299}"
            ]
          },
          "metadata": {},
          "execution_count": 32
        }
      ]
    },
    {
      "cell_type": "code",
      "source": [
        "trainer.train()"
      ],
      "metadata": {
        "colab": {
          "base_uri": "https://localhost:8080/",
          "height": 1000
        },
        "id": "ZvKqD1QHH7cX",
        "outputId": "4cfc2993-e5a1-4cb3-9f3c-93a6eb51f428"
      },
      "execution_count": 33,
      "outputs": [
        {
          "output_type": "display_data",
          "data": {
            "text/plain": [
              "<IPython.core.display.HTML object>"
            ],
            "text/html": [
              "\n",
              "    <div>\n",
              "      \n",
              "      <progress value='300' max='300' style='width:300px; height:20px; vertical-align: middle;'></progress>\n",
              "      [300/300 03:19, Epoch 30/30]\n",
              "    </div>\n",
              "    <table border=\"1\" class=\"dataframe\">\n",
              "  <thead>\n",
              " <tr style=\"text-align: left;\">\n",
              "      <th>Epoch</th>\n",
              "      <th>Training Loss</th>\n",
              "      <th>Validation Loss</th>\n",
              "    </tr>\n",
              "  </thead>\n",
              "  <tbody>\n",
              "    <tr>\n",
              "      <td>1</td>\n",
              "      <td>2.360300</td>\n",
              "      <td>3.133809</td>\n",
              "    </tr>\n",
              "    <tr>\n",
              "      <td>2</td>\n",
              "      <td>3.352800</td>\n",
              "      <td>2.728786</td>\n",
              "    </tr>\n",
              "    <tr>\n",
              "      <td>3</td>\n",
              "      <td>2.115200</td>\n",
              "      <td>2.472129</td>\n",
              "    </tr>\n",
              "    <tr>\n",
              "      <td>4</td>\n",
              "      <td>1.677100</td>\n",
              "      <td>2.321908</td>\n",
              "    </tr>\n",
              "    <tr>\n",
              "      <td>5</td>\n",
              "      <td>1.803000</td>\n",
              "      <td>2.207460</td>\n",
              "    </tr>\n",
              "    <tr>\n",
              "      <td>6</td>\n",
              "      <td>1.636700</td>\n",
              "      <td>2.132188</td>\n",
              "    </tr>\n",
              "    <tr>\n",
              "      <td>7</td>\n",
              "      <td>1.910900</td>\n",
              "      <td>2.083513</td>\n",
              "    </tr>\n",
              "    <tr>\n",
              "      <td>8</td>\n",
              "      <td>1.881600</td>\n",
              "      <td>2.038240</td>\n",
              "    </tr>\n",
              "    <tr>\n",
              "      <td>9</td>\n",
              "      <td>1.585700</td>\n",
              "      <td>2.003116</td>\n",
              "    </tr>\n",
              "    <tr>\n",
              "      <td>10</td>\n",
              "      <td>1.541400</td>\n",
              "      <td>1.969904</td>\n",
              "    </tr>\n",
              "    <tr>\n",
              "      <td>11</td>\n",
              "      <td>1.456000</td>\n",
              "      <td>1.956586</td>\n",
              "    </tr>\n",
              "    <tr>\n",
              "      <td>12</td>\n",
              "      <td>1.317000</td>\n",
              "      <td>1.928412</td>\n",
              "    </tr>\n",
              "    <tr>\n",
              "      <td>13</td>\n",
              "      <td>1.126100</td>\n",
              "      <td>1.932753</td>\n",
              "    </tr>\n",
              "    <tr>\n",
              "      <td>14</td>\n",
              "      <td>1.099300</td>\n",
              "      <td>1.920978</td>\n",
              "    </tr>\n",
              "    <tr>\n",
              "      <td>15</td>\n",
              "      <td>1.065600</td>\n",
              "      <td>1.901737</td>\n",
              "    </tr>\n",
              "    <tr>\n",
              "      <td>16</td>\n",
              "      <td>1.543200</td>\n",
              "      <td>1.907231</td>\n",
              "    </tr>\n",
              "    <tr>\n",
              "      <td>17</td>\n",
              "      <td>1.475500</td>\n",
              "      <td>1.922328</td>\n",
              "    </tr>\n",
              "    <tr>\n",
              "      <td>18</td>\n",
              "      <td>1.043800</td>\n",
              "      <td>1.908241</td>\n",
              "    </tr>\n",
              "    <tr>\n",
              "      <td>19</td>\n",
              "      <td>1.292600</td>\n",
              "      <td>1.901154</td>\n",
              "    </tr>\n",
              "    <tr>\n",
              "      <td>20</td>\n",
              "      <td>0.944000</td>\n",
              "      <td>1.902332</td>\n",
              "    </tr>\n",
              "    <tr>\n",
              "      <td>21</td>\n",
              "      <td>0.948400</td>\n",
              "      <td>1.904037</td>\n",
              "    </tr>\n",
              "    <tr>\n",
              "      <td>22</td>\n",
              "      <td>1.028900</td>\n",
              "      <td>1.902834</td>\n",
              "    </tr>\n",
              "    <tr>\n",
              "      <td>23</td>\n",
              "      <td>0.531000</td>\n",
              "      <td>1.906271</td>\n",
              "    </tr>\n",
              "    <tr>\n",
              "      <td>24</td>\n",
              "      <td>0.872300</td>\n",
              "      <td>1.904188</td>\n",
              "    </tr>\n",
              "    <tr>\n",
              "      <td>25</td>\n",
              "      <td>0.763700</td>\n",
              "      <td>1.906358</td>\n",
              "    </tr>\n",
              "    <tr>\n",
              "      <td>26</td>\n",
              "      <td>1.104300</td>\n",
              "      <td>1.911855</td>\n",
              "    </tr>\n",
              "    <tr>\n",
              "      <td>27</td>\n",
              "      <td>0.952200</td>\n",
              "      <td>1.911225</td>\n",
              "    </tr>\n",
              "    <tr>\n",
              "      <td>28</td>\n",
              "      <td>0.688900</td>\n",
              "      <td>1.913698</td>\n",
              "    </tr>\n",
              "    <tr>\n",
              "      <td>29</td>\n",
              "      <td>0.716900</td>\n",
              "      <td>1.914748</td>\n",
              "    </tr>\n",
              "    <tr>\n",
              "      <td>30</td>\n",
              "      <td>0.988900</td>\n",
              "      <td>1.915841</td>\n",
              "    </tr>\n",
              "  </tbody>\n",
              "</table><p>"
            ]
          },
          "metadata": {}
        },
        {
          "output_type": "display_data",
          "data": {
            "text/plain": [
              "<IPython.core.display.HTML object>"
            ],
            "text/html": [
              "\n",
              "    <div>\n",
              "      \n",
              "      <progress value='6' max='3' style='width:300px; height:20px; vertical-align: middle;'></progress>\n",
              "      [3/3 00:04]\n",
              "    </div>\n",
              "    "
            ]
          },
          "metadata": {}
        },
        {
          "output_type": "stream",
          "name": "stderr",
          "text": [
            "There were missing keys in the checkpoint model loaded: ['lm_head.weight'].\n"
          ]
        },
        {
          "output_type": "execute_result",
          "data": {
            "text/plain": [
              "TrainOutput(global_step=300, training_loss=1.4244356336196264, metrics={'train_runtime': 199.1943, 'train_samples_per_second': 11.296, 'train_steps_per_second': 1.506, 'total_flos': 138678194304000.0, 'train_loss': 1.4244356336196264, 'epoch': 30.0})"
            ]
          },
          "metadata": {},
          "execution_count": 33
        }
      ]
    },
    {
      "cell_type": "code",
      "source": [
        "trainer.save_model()"
      ],
      "metadata": {
        "id": "ExleMJalL6Qk"
      },
      "execution_count": 34,
      "outputs": []
    },
    {
      "cell_type": "code",
      "source": [
        "#loaded_model = GPT2LMHeadModel('/content/model_fine_tune_checkpoints')\n",
        "loaded_model = GPT2LMHeadModel.from_pretrained('/content/model_fine_tune_checkpoints')\n",
        "generator = pipeline('text-generation',model=loaded_model , tokenizer = tokenizer)"
      ],
      "metadata": {
        "id": "oB7I7kp1L0DD"
      },
      "execution_count": 35,
      "outputs": []
    },
    {
      "cell_type": "code",
      "source": [
        "text_sample ='Cypher query to create a customer node '\n",
        "conversion_text_sample =f'{prompt1}English: {text_sample} \\n {prompt2}'\n",
        "print(conversion_text_sample)\n"
      ],
      "metadata": {
        "colab": {
          "base_uri": "https://localhost:8080/"
        },
        "id": "zk0nIZwNMR3J",
        "outputId": "79b79fe1-98ea-457f-8497-c58aede1eb23"
      },
      "execution_count": 36,
      "outputs": [
        {
          "output_type": "stream",
          "name": "stdout",
          "text": [
            "CPT\n",
            " English: Cypher query to create a customer node  \n",
            " Cypher: \n"
          ]
        }
      ]
    },
    {
      "cell_type": "code",
      "source": [
        "print(generator(conversion_text_sample, num_beams=5, early_stopping=True, temperature=0.8,\n",
        "                max_length=len(tokenizer.encode(conversion_text_sample))+20)[0]['generated_text'])"
      ],
      "metadata": {
        "colab": {
          "base_uri": "https://localhost:8080/"
        },
        "id": "tgqnZGpXM0en",
        "outputId": "cbb56a9c-76c8-485c-eb74-e903ae2a6a86"
      },
      "execution_count": 37,
      "outputs": [
        {
          "output_type": "stream",
          "name": "stderr",
          "text": [
            "Truncation was not explicitly activated but `max_length` is provided a specific value, please use `truncation=True` to explicitly truncate examples to max length. Defaulting to 'longest_first' truncation strategy. If you encode pairs of sequences (GLUE-style) with the tokenizer you can select this strategy more precisely by providing a specific strategy to `truncation`.\n",
            "Setting `pad_token_id` to `eos_token_id`:50256 for open-end generation.\n"
          ]
        },
        {
          "output_type": "stream",
          "name": "stdout",
          "text": [
            "CPT\n",
            " English: Cypher query to create a customer node  \n",
            " Cypher:  CREATE (customer {surname:'John Smith'}) \n",
            "RETURN customer,\n"
          ]
        }
      ]
    },
    {
      "cell_type": "markdown",
      "source": [
        "#Semantic Search"
      ],
      "metadata": {
        "id": "_czqwsCZxLr1"
      }
    },
    {
      "cell_type": "code",
      "source": [
        "import requests\n",
        "from bs4 import BeautifulSoup\n",
        "from urllib.request import urlopen\n",
        "import numpy as np\n",
        "from datasets import load_dataset"
      ],
      "metadata": {
        "id": "Zq-vJCtMzO_g"
      },
      "execution_count": null,
      "outputs": []
    },
    {
      "cell_type": "code",
      "source": [
        "from sentence_transformers import SentenceTransformer, util\n",
        "\n",
        "# Library for finetuning biencoders"
      ],
      "metadata": {
        "id": "rjCyWC51zO8B"
      },
      "execution_count": null,
      "outputs": []
    },
    {
      "cell_type": "code",
      "source": [
        "from transformer import pipeline"
      ],
      "metadata": {
        "id": "U2Nq2nWJzO5H"
      },
      "execution_count": null,
      "outputs": []
    },
    {
      "cell_type": "code",
      "source": [
        "from random import sample, seed ,shuffle\n",
        "from sentence_transformers import InputExample, losses , evaluation\n",
        "from torch.utils.data import DataLoader"
      ],
      "metadata": {
        "id": "3sFTXrfOzO2j"
      },
      "execution_count": null,
      "outputs": []
    },
    {
      "cell_type": "code",
      "source": [
        "PERSON = 'Sinan Ozdemir'"
      ],
      "metadata": {
        "id": "JuGB8hHTzuTI"
      },
      "execution_count": null,
      "outputs": []
    },
    {
      "cell_type": "code",
      "source": [
        "documents = list(filter (lambda x: len(x)>100 , text.split('\\r\\n\\r\\n')))\n",
        "documents = np.array(documents)\n",
        "len(documents)"
      ],
      "metadata": {
        "id": "eQ9BSyFG0CiC"
      },
      "execution_count": null,
      "outputs": []
    },
    {
      "cell_type": "code",
      "source": [
        "# This model pre-trained on an asymetric semantic search task\n",
        "# use bi-encoder to encode all the documents , so that we can use it with semantic search\n",
        "bi_encoder = SentenceTransformer('msmarco-distilber-base-v4')\n",
        "bi_encoder. max_seq_length =256\n",
        "bi_encoder"
      ],
      "metadata": {
        "id": "EgNnyz_W4iCN"
      },
      "execution_count": null,
      "outputs": []
    },
    {
      "cell_type": "code",
      "source": [
        "document_embeddings= bi_encoder(documents, convert_to_tensor= True, show_progress_bar=True)\n",
        "document_embeddings.shape"
      ],
      "metadata": {
        "id": "OMcMIvqk5DuF"
      },
      "execution_count": null,
      "outputs": []
    },
    {
      "cell_type": "code",
      "source": [
        "ques = \" How many horns does a flea have ?\"\n",
        "hits = utils.semantic_search(question_embedding, document_embeddings, top_k=3)[0]"
      ],
      "metadata": {
        "id": "aaMq5p-a5qd3"
      },
      "execution_count": null,
      "outputs": []
    },
    {
      "cell_type": "code",
      "source": [
        "for i , hit in enumerate(hits):\n",
        "  print(f'Documetn{i+1} cos_sim {hit [\"score\"]:.3f}\\n\\n{documents[hit[\"corpus_id\"]]}')"
      ],
      "metadata": {
        "id": "gf1WILGK541R"
      },
      "execution_count": null,
      "outputs": []
    },
    {
      "cell_type": "code",
      "source": [
        "npl(QUESTION, str(document[hits[0]['corpus_id']]))"
      ],
      "metadata": {
        "id": "gzfi2zbw5Dqp"
      },
      "execution_count": null,
      "outputs": []
    },
    {
      "cell_type": "code",
      "source": [
        "training_qa = load_dataset('adversarial_qa','adversarialQA', split='train')\n",
        "good_training_data=[]\n",
        "bad_training_data=[]\n",
        "last_example = None\n",
        "for example in training_qa:\n",
        "  if last_example and example['contest']!= last_example['context']:\n",
        "    bad_training_data.append((example ['question'], last_example['context'],0.0))\n",
        "  good_training_data.append((example ['question'], example['context'],1.0))\n",
        "  last_example=example"
      ],
      "metadata": {
        "id": "e3ALD-J-6kZp"
      },
      "execution_count": null,
      "outputs": []
    },
    {
      "cell_type": "code",
      "source": [
        "len(good_training_data), len(bad_training_data)"
      ],
      "metadata": {
        "id": "d8_kpLpr71L-"
      },
      "execution_count": null,
      "outputs": []
    },
    {
      "cell_type": "code",
      "source": [
        "good_training_data[-1]"
      ],
      "metadata": {
        "id": "BoxHQJd579R8"
      },
      "execution_count": null,
      "outputs": []
    },
    {
      "cell_type": "code",
      "source": [
        "bad_training_data[-1]"
      ],
      "metadata": {
        "id": "EsUP0Lnk79jS"
      },
      "execution_count": null,
      "outputs": []
    },
    {
      "cell_type": "code",
      "source": [
        "seed(42)\n",
        "sample_training_data= sample(good_training_data,500) + sample(bad_training_data,500)\n",
        "shuffle(sample_training_data)\n",
        "training_index = int(.8 *  len(sampled_training_data))"
      ],
      "metadata": {
        "id": "4xxT8ZDf8JAH"
      },
      "execution_count": null,
      "outputs": []
    },
    {
      "cell_type": "code",
      "source": [
        "training_examples=[InputExample(texts =t[:2], label=t(2) for t in sampled_training_Data [:training_index])]\n",
        "\n",
        "train_examples[0].__dict__"
      ],
      "metadata": {
        "id": "1oV4_srS8nNR"
      },
      "execution_count": null,
      "outputs": []
    },
    {
      "cell_type": "code",
      "source": [
        "train_dataloader = DataLoader(train_examples, shuffle=True , batch_size=32)\n",
        "train_loss = losses. CosineSimilarityLoss(bi_enocder)"
      ],
      "metadata": {
        "id": "aBEb-qDh9NEl"
      },
      "execution_count": null,
      "outputs": []
    },
    {
      "cell_type": "code",
      "source": [
        "(question_batch , context_batch ),labels = next(iter(train_dataloader))\n",
        "question_batch['input_ids'].shape , contex_batch['input_ids'].shape , label_shpae"
      ],
      "metadata": {
        "id": "PPtXQwMR9jH9"
      },
      "execution_count": null,
      "outputs": []
    },
    {
      "cell_type": "code",
      "source": [
        "sentences1, sentences2 , scores = zip(*sampled_training_Data[trianing_index:])\n",
        "evaluator = evaluation.EmbeddingSimilarityEvaluator(sentences1, sentences2 , scores)"
      ],
      "metadata": {
        "id": "3_CJaME08Qci"
      },
      "execution_count": null,
      "outputs": []
    },
    {
      "cell_type": "code",
      "source": [
        "bi_encoder.evaluate(evaluator)"
      ],
      "metadata": {
        "id": "221MnoUs-QzH"
      },
      "execution_count": null,
      "outputs": []
    },
    {
      "cell_type": "code",
      "source": [
        "bi_encoder.fit(train_objectives =[(train_dataloader, train_loss)],output_path=\"/content/\", epochs=2 , evaluator=evaulator)"
      ],
      "metadata": {
        "id": "oyGNNwgM-Q6U"
      },
      "execution_count": null,
      "outputs": []
    },
    {
      "cell_type": "code",
      "source": [
        "bi_encoder.evaluate(evaluator)"
      ],
      "metadata": {
        "id": "LsGf1y9Y-ybK"
      },
      "execution_count": null,
      "outputs": []
    },
    {
      "cell_type": "code",
      "source": [
        "finetuned_bi_encoder= SentenceTransformer(\"/content/\")"
      ],
      "metadata": {
        "id": "JS5qXE_w-2hM"
      },
      "execution_count": null,
      "outputs": []
    },
    {
      "cell_type": "code",
      "source": [
        "ques = \" How many horns does a flea have ?\"\n",
        "hits = utils.semantic_search(question_embedding, document_embeddings, top_k=3)[0]"
      ],
      "metadata": {
        "id": "Mg1cUxHG-9gr"
      },
      "execution_count": null,
      "outputs": []
    },
    {
      "cell_type": "code",
      "source": [
        "for i , hit in enumerate(hits):\n",
        "  print(f'Documetn{i+1} cos_sim {hit [\"score\"]:.3f}\\n\\n{documents[hit[\"corpus_id\"]]}')\n",
        "  print('\\n')"
      ],
      "metadata": {
        "id": "TWwo6xyY_LHP"
      },
      "execution_count": null,
      "outputs": []
    },
    {
      "cell_type": "code",
      "source": [
        "def gutenberg_to_documents(url,bi_encoder) :\n",
        "  documents = list(filter (lambda x: len(x)>100 , text.split('\\r\\n\\r\\n')))\n",
        "  documents = np.array(documents)\n",
        "  return  documents, bi_encoder.encode(documents)\n",
        "\n",
        "def retrieve_relevant_documents(bi_encoder, query, documents, document_embeddings, hits=3):\n",
        "  query_embedding  = bi_encoder. encoder(query, convert_to_tensor = True)\n",
        "  hits = util.semantic_serach(query_embedding, document_embeddings , top_k=hits)[0]\n",
        "\n",
        "  for i , hit in enumerate(hits):\n",
        "  print(f'Documetn{i+1} cos_sim {hit [\"score\"]:.3f}\\n\\n{documents[hit[\"corpus_id\"]]}')\n",
        "\n",
        "  print(f\"Anser from Top Document:{npl(QUESTION, str(document[hits[0]['corpus_id']]))}\")"
      ],
      "metadata": {
        "id": "6VpJXfkG_REZ"
      },
      "execution_count": null,
      "outputs": []
    },
    {
      "cell_type": "code",
      "source": [
        "docs, doc_embeddings = gutenberg_to_documents(\".txt\", finettuned_bi_encoder)"
      ],
      "metadata": {
        "id": "e1AQZ6jpCUBj"
      },
      "execution_count": null,
      "outputs": []
    },
    {
      "cell_type": "code",
      "source": [
        "retrieve_relevant_documents(finettuned_bi_encoder, \"what is a bnshee/\", docs, doc_embeddings,2)"
      ],
      "metadata": {
        "id": "b6YaLt9qCmo0"
      },
      "execution_count": null,
      "outputs": []
    },
    {
      "cell_type": "markdown",
      "source": [
        "#GPT Multiple Task fine tuning"
      ],
      "metadata": {
        "id": "Q01AJR1FC74h"
      }
    },
    {
      "cell_type": "code",
      "source": [
        "from transformers import GPT2Tokenizer, TextDataset,DataCollatorForLanguageModeling, GPT2LMHeadModel,pipeline, Trainer, TrainingArguments\n",
        "import pandas as pd\n",
        "from datasets import Dataset"
      ],
      "metadata": {
        "id": "6ckAHm4rDH7R"
      },
      "execution_count": null,
      "outputs": []
    },
    {
      "cell_type": "code",
      "source": [
        "reviews = pd.read_csv('reviews.csv')\n",
        "reviews.shape\n",
        "reviews.head(2)"
      ],
      "metadata": {
        "id": "9XWXSOOgDiTj"
      },
      "execution_count": null,
      "outputs": []
    },
    {
      "cell_type": "code",
      "source": [
        "reviews['Text'].str.len().plot(kind='hist' , title 'Histogram for Review Length')"
      ],
      "metadata": {
        "id": "zvLJ6bCWDiPf"
      },
      "execution_count": null,
      "outputs": []
    },
    {
      "cell_type": "code",
      "source": [
        "reviews['Summary'].str.len().plot(kind='hist' , title 'Histogram for Review Length')"
      ],
      "metadata": {
        "id": "VI-CYAK2D5_E"
      },
      "execution_count": null,
      "outputs": []
    },
    {
      "cell_type": "code",
      "source": [
        "reviews = reviews[(reviews['Summary'].str.len()>=10) & (reviews['Summary'].str.len()<25)]\n",
        "reviews['Summary'].str.len().plot(kind='hist',title='Histogram of Summary Length')"
      ],
      "metadata": {
        "id": "rf3__Un_D57e"
      },
      "execution_count": null,
      "outputs": []
    },
    {
      "cell_type": "code",
      "source": [
        "reviews['Sentiment']= reviews['Score'].map(lambda x: 'positive' if x>=4 else 'neutral' if x==3 else 'negative')\n",
        "\n",
        "reviews = reviews.groupby('Sentiment', group_keys=False).apply(lambda x:x.sample(1000))"
      ],
      "metadata": {
        "id": "J7m-a9iCD545"
      },
      "execution_count": null,
      "outputs": []
    },
    {
      "cell_type": "code",
      "source": [
        "reviews['Sentiment'].hist()"
      ],
      "metadata": {
        "id": "22s7m-SuD5wq"
      },
      "execution_count": null,
      "outputs": []
    },
    {
      "cell_type": "code",
      "source": [
        "Model ='distilgpt2'\n",
        "tokenizer = GPT2Tokenizer.from_pretrained(MODEL)\n",
        "tokenizer.pad_token = tokenizer.eos_token"
      ],
      "metadata": {
        "id": "6DHfsejXE3Sg"
      },
      "execution_count": null,
      "outputs": []
    },
    {
      "cell_type": "code",
      "source": [
        "SENTIMENT_PROMPT='Sentiment Task'\n",
        "SUMMARIZE_PROMPT='Summarize Task'\n",
        "SENTIMENT_TOKEN ='\\nSentiment:'\n",
        "SUMMARIZE_TOKEN='\\nSumamrize:'"
      ],
      "metadata": {
        "id": "QEdfJreEE3YG"
      },
      "execution_count": null,
      "outputs": []
    },
    {
      "cell_type": "code",
      "source": [
        "reviews['Sentiment_text'] =f'{SENTIMENT_PROMPT}\\n Review: ' + reviews['Text'] +SENTIMENT_TOKEN +' ' + reviews['Sentiment' ] .astype(str)\n",
        "reviews['Summarize_text'] =f'{SUMMARIZE_PROMPT}\\n Review: ' + reviews['Text'] +SUMMARIZE_TOKEN +' ' + reviews['Summary' ] .astype(str)"
      ],
      "metadata": {
        "id": "sjpmGzkVFXQA"
      },
      "execution_count": null,
      "outputs": []
    },
    {
      "cell_type": "code",
      "source": [
        "reviews['Sentiment_text'].head(2).tolist()"
      ],
      "metadata": {
        "id": "d8QKETamFYAO"
      },
      "execution_count": null,
      "outputs": []
    },
    {
      "cell_type": "code",
      "source": [
        "reviews['Summarize_text'].head(2).tolist()"
      ],
      "metadata": {
        "id": "OjzjdWF9FX8z"
      },
      "execution_count": null,
      "outputs": []
    },
    {
      "cell_type": "code",
      "source": [
        "reviews = reviews.sample(frac=1)\n",
        "training_examples = reviews['summarize_text'].tolist() + reviews['stentiment_text'].tolist()"
      ],
      "metadata": {
        "id": "pF9EmNYFFX59"
      },
      "execution_count": null,
      "outputs": []
    },
    {
      "cell_type": "code",
      "source": [
        "multi_task_df = pd.DataFrame({'text': training_examples})\n",
        "data = Dtaset.from_pandas(multi_task_df)\n",
        "\n",
        "def preprocess(examples):\n",
        "  return tokenizer(examples['text'],truncation = True)\n",
        "\n",
        "data = data.map(preprocess, batched=True)\n",
        "data = data.train_test_split(train_size = 0.8)"
      ],
      "metadata": {
        "id": "IWJx8alcFX27"
      },
      "execution_count": null,
      "outputs": []
    },
    {
      "cell_type": "code",
      "source": [
        "model = GPT2LMHeadModel.from_pretrained(MODEL)"
      ],
      "metadata": {
        "id": "eVqsniBRHiPe"
      },
      "execution_count": null,
      "outputs": []
    },
    {
      "cell_type": "code",
      "source": [
        "collator = DataCollatorForLanguageModeling(tokenizer=tokenizer , mlm = False)"
      ],
      "metadata": {
        "id": "XpsIIdCMHnyo"
      },
      "execution_count": null,
      "outputs": []
    },
    {
      "cell_type": "code",
      "source": [
        "batch_size = 32\n",
        "output_dir='/content/gpt_model_checkpoints'\n",
        "args = TrainingArguments(\n",
        "    output_dir=output_dir,\n",
        "    evaluation_strategy = \"epoch\",\n",
        "    learning_rate=2e-5,\n",
        "    per_device_train_batch_size=batch_size,\n",
        "    per_device_eval_batch_size=batch_size,\n",
        "    num_train_epochs=3,\n",
        "    weight_decay=0.01,\n",
        "    fp16=True, # need GPU\n",
        "    logging_steps=1,\n",
        "    save_strategy=IntervalStrategy.EPOCH,\n",
        "    save_total_limit=2,\n",
        "    load_best_model_at_end=True,\n",
        "    warmup_steps = len(train_dataset.examples)//5\n",
        ")\n",
        "# warm-up refers to the initial phase of training where the learning rate is gradually increased.\n",
        "# This helps the model converge to optimal parameters more effectively"
      ],
      "metadata": {
        "id": "qfhOiLbpHoEg"
      },
      "execution_count": null,
      "outputs": []
    },
    {
      "cell_type": "code",
      "source": [
        "trainer = Trainer(\n",
        "    model,\n",
        "    args,\n",
        "    train_dataset=org_data.examples[:int(len(org_data.examples)*.8)],\n",
        "    eval_dataset=org_data.examples[int(len(org_data.examples)*.8):],\n",
        "    data_collator=collator,\n",
        "    tokenizer=tokenizer,\n",
        "    #compute_metrics=compute_metrics\n",
        ")"
      ],
      "metadata": {
        "id": "HJyvemXPFXzW"
      },
      "execution_count": null,
      "outputs": []
    },
    {
      "cell_type": "code",
      "source": [
        "trainer.evaluate()"
      ],
      "metadata": {
        "id": "Chx1_jjAIHHz"
      },
      "execution_count": null,
      "outputs": []
    },
    {
      "cell_type": "code",
      "source": [
        "trainer.train()"
      ],
      "metadata": {
        "id": "L50WvPKtIHES"
      },
      "execution_count": null,
      "outputs": []
    },
    {
      "cell_type": "code",
      "source": [
        "trainer.saver_model()"
      ],
      "metadata": {
        "id": "AivWIDZVIY-f"
      },
      "execution_count": null,
      "outputs": []
    },
    {
      "cell_type": "code",
      "source": [
        "loaded_model = GPT2LMHeadModel.from_pretrained('/content/model_checkpoints')"
      ],
      "metadata": {
        "id": "LdKVwQ9BIiQs"
      },
      "execution_count": null,
      "outputs": []
    },
    {
      "cell_type": "code",
      "source": [
        "tune_generator = pipeline('text-generation', model=loaded_model , tokenizer='gpt2', config ={'max_new_token':50, 'do_sample':True ,'top_p':0.9 , 'temperature':0.4, 'top_k':5})"
      ],
      "metadata": {
        "id": "93v7MdboIhx9"
      },
      "execution_count": null,
      "outputs": []
    },
    {
      "cell_type": "code",
      "source": [
        "text_sample, score, summary = reviews.sample(1)[['Text', 'Sentiment', 'Summary']].values[0]\n",
        "print(text_sample, score, summary)\n",
        "\n",
        "num_tokens = len(tokenizer(text_sample)['input_ids'])\n",
        "num_tokens"
      ],
      "metadata": {
        "id": "_75sitVuIuiX"
      },
      "execution_count": null,
      "outputs": []
    },
    {
      "cell_type": "code",
      "source": [
        "senexample= f'{SENTIMENT_PROMPT}\\nReview: {text_sample} {SENTIMENT_TOKEN}'\n",
        "summexample= f'{SUMMARIZE_PROMPT}\\nReview: {text_sample} {SUMMARIZE_TOKEN}'"
      ],
      "metadata": {
        "id": "nhp2HUksJX2e"
      },
      "execution_count": null,
      "outputs": []
    },
    {
      "cell_type": "code",
      "source": [
        "for generated_text in generator(senexample, num_return_sequences=1 , manx_length=num_tokens+1):\n",
        "  print(generated_text['generated_text'])"
      ],
      "metadata": {
        "id": "T3TFQ4SSJzlN"
      },
      "execution_count": null,
      "outputs": []
    },
    {
      "cell_type": "code",
      "source": [
        "for generated_text in generator(summexample, num_return_sequences=1 , manx_length=num_tokens+1):\n",
        "  print(generated_text['generated_text'])"
      ],
      "metadata": {
        "id": "UESoBIb_KGWE"
      },
      "execution_count": null,
      "outputs": []
    },
    {
      "cell_type": "markdown",
      "source": [
        "#T5 Model"
      ],
      "metadata": {
        "id": "6mWLkcqDhHL6"
      }
    }
  ]
}