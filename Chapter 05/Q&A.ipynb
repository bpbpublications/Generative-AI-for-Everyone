{
  "cells": [
    {
      "cell_type": "code",
      "execution_count": 1,
      "metadata": {
        "id": "5ZszWDQ4SD1-",
        "colab": {
          "base_uri": "https://localhost:8080/"
        },
        "outputId": "4fbb1d1d-af98-4566-bdda-9b39b837f543"
      },
      "outputs": [
        {
          "output_type": "stream",
          "name": "stdout",
          "text": [
            "Requirement already satisfied: transformers in /usr/local/lib/python3.10/dist-packages (4.38.2)\n",
            "Collecting transformers\n",
            "  Downloading transformers-4.39.1-py3-none-any.whl (8.8 MB)\n",
            "\u001b[2K     \u001b[90m━━━━━━━━━━━━━━━━━━━━━━━━━━━━━━━━━━━━━━━━\u001b[0m \u001b[32m8.8/8.8 MB\u001b[0m \u001b[31m30.8 MB/s\u001b[0m eta \u001b[36m0:00:00\u001b[0m\n",
            "\u001b[?25hRequirement already satisfied: filelock in /usr/local/lib/python3.10/dist-packages (from transformers) (3.13.3)\n",
            "Requirement already satisfied: huggingface-hub<1.0,>=0.19.3 in /usr/local/lib/python3.10/dist-packages (from transformers) (0.20.3)\n",
            "Requirement already satisfied: numpy>=1.17 in /usr/local/lib/python3.10/dist-packages (from transformers) (1.25.2)\n",
            "Requirement already satisfied: packaging>=20.0 in /usr/local/lib/python3.10/dist-packages (from transformers) (24.0)\n",
            "Requirement already satisfied: pyyaml>=5.1 in /usr/local/lib/python3.10/dist-packages (from transformers) (6.0.1)\n",
            "Requirement already satisfied: regex!=2019.12.17 in /usr/local/lib/python3.10/dist-packages (from transformers) (2023.12.25)\n",
            "Requirement already satisfied: requests in /usr/local/lib/python3.10/dist-packages (from transformers) (2.31.0)\n",
            "Requirement already satisfied: tokenizers<0.19,>=0.14 in /usr/local/lib/python3.10/dist-packages (from transformers) (0.15.2)\n",
            "Requirement already satisfied: safetensors>=0.4.1 in /usr/local/lib/python3.10/dist-packages (from transformers) (0.4.2)\n",
            "Requirement already satisfied: tqdm>=4.27 in /usr/local/lib/python3.10/dist-packages (from transformers) (4.66.2)\n",
            "Requirement already satisfied: fsspec>=2023.5.0 in /usr/local/lib/python3.10/dist-packages (from huggingface-hub<1.0,>=0.19.3->transformers) (2023.6.0)\n",
            "Requirement already satisfied: typing-extensions>=3.7.4.3 in /usr/local/lib/python3.10/dist-packages (from huggingface-hub<1.0,>=0.19.3->transformers) (4.10.0)\n",
            "Requirement already satisfied: charset-normalizer<4,>=2 in /usr/local/lib/python3.10/dist-packages (from requests->transformers) (3.3.2)\n",
            "Requirement already satisfied: idna<4,>=2.5 in /usr/local/lib/python3.10/dist-packages (from requests->transformers) (3.6)\n",
            "Requirement already satisfied: urllib3<3,>=1.21.1 in /usr/local/lib/python3.10/dist-packages (from requests->transformers) (2.0.7)\n",
            "Requirement already satisfied: certifi>=2017.4.17 in /usr/local/lib/python3.10/dist-packages (from requests->transformers) (2024.2.2)\n",
            "Installing collected packages: transformers\n",
            "  Attempting uninstall: transformers\n",
            "    Found existing installation: transformers 4.38.2\n",
            "    Uninstalling transformers-4.38.2:\n",
            "      Successfully uninstalled transformers-4.38.2\n",
            "Successfully installed transformers-4.39.1\n",
            "Collecting accelerate\n",
            "  Downloading accelerate-0.28.0-py3-none-any.whl (290 kB)\n",
            "\u001b[2K     \u001b[90m━━━━━━━━━━━━━━━━━━━━━━━━━━━━━━━━━━━━━━━━\u001b[0m \u001b[32m290.1/290.1 kB\u001b[0m \u001b[31m8.5 MB/s\u001b[0m eta \u001b[36m0:00:00\u001b[0m\n",
            "\u001b[?25hRequirement already satisfied: numpy>=1.17 in /usr/local/lib/python3.10/dist-packages (from accelerate) (1.25.2)\n",
            "Requirement already satisfied: packaging>=20.0 in /usr/local/lib/python3.10/dist-packages (from accelerate) (24.0)\n",
            "Requirement already satisfied: psutil in /usr/local/lib/python3.10/dist-packages (from accelerate) (5.9.5)\n",
            "Requirement already satisfied: pyyaml in /usr/local/lib/python3.10/dist-packages (from accelerate) (6.0.1)\n",
            "Requirement already satisfied: torch>=1.10.0 in /usr/local/lib/python3.10/dist-packages (from accelerate) (2.2.1+cu121)\n",
            "Requirement already satisfied: huggingface-hub in /usr/local/lib/python3.10/dist-packages (from accelerate) (0.20.3)\n",
            "Requirement already satisfied: safetensors>=0.3.1 in /usr/local/lib/python3.10/dist-packages (from accelerate) (0.4.2)\n",
            "Requirement already satisfied: filelock in /usr/local/lib/python3.10/dist-packages (from torch>=1.10.0->accelerate) (3.13.3)\n",
            "Requirement already satisfied: typing-extensions>=4.8.0 in /usr/local/lib/python3.10/dist-packages (from torch>=1.10.0->accelerate) (4.10.0)\n",
            "Requirement already satisfied: sympy in /usr/local/lib/python3.10/dist-packages (from torch>=1.10.0->accelerate) (1.12)\n",
            "Requirement already satisfied: networkx in /usr/local/lib/python3.10/dist-packages (from torch>=1.10.0->accelerate) (3.2.1)\n",
            "Requirement already satisfied: jinja2 in /usr/local/lib/python3.10/dist-packages (from torch>=1.10.0->accelerate) (3.1.3)\n",
            "Requirement already satisfied: fsspec in /usr/local/lib/python3.10/dist-packages (from torch>=1.10.0->accelerate) (2023.6.0)\n",
            "Collecting nvidia-cuda-nvrtc-cu12==12.1.105 (from torch>=1.10.0->accelerate)\n",
            "  Downloading nvidia_cuda_nvrtc_cu12-12.1.105-py3-none-manylinux1_x86_64.whl (23.7 MB)\n",
            "\u001b[2K     \u001b[90m━━━━━━━━━━━━━━━━━━━━━━━━━━━━━━━━━━━━━━━━\u001b[0m \u001b[32m23.7/23.7 MB\u001b[0m \u001b[31m64.8 MB/s\u001b[0m eta \u001b[36m0:00:00\u001b[0m\n",
            "\u001b[?25hCollecting nvidia-cuda-runtime-cu12==12.1.105 (from torch>=1.10.0->accelerate)\n",
            "  Downloading nvidia_cuda_runtime_cu12-12.1.105-py3-none-manylinux1_x86_64.whl (823 kB)\n",
            "\u001b[2K     \u001b[90m━━━━━━━━━━━━━━━━━━━━━━━━━━━━━━━━━━━━━━━━\u001b[0m \u001b[32m823.6/823.6 kB\u001b[0m \u001b[31m60.0 MB/s\u001b[0m eta \u001b[36m0:00:00\u001b[0m\n",
            "\u001b[?25hCollecting nvidia-cuda-cupti-cu12==12.1.105 (from torch>=1.10.0->accelerate)\n",
            "  Downloading nvidia_cuda_cupti_cu12-12.1.105-py3-none-manylinux1_x86_64.whl (14.1 MB)\n",
            "\u001b[2K     \u001b[90m━━━━━━━━━━━━━━━━━━━━━━━━━━━━━━━━━━━━━━━━\u001b[0m \u001b[32m14.1/14.1 MB\u001b[0m \u001b[31m90.1 MB/s\u001b[0m eta \u001b[36m0:00:00\u001b[0m\n",
            "\u001b[?25hCollecting nvidia-cudnn-cu12==8.9.2.26 (from torch>=1.10.0->accelerate)\n",
            "  Downloading nvidia_cudnn_cu12-8.9.2.26-py3-none-manylinux1_x86_64.whl (731.7 MB)\n",
            "\u001b[2K     \u001b[90m━━━━━━━━━━━━━━━━━━━━━━━━━━━━━━━━━━━━━━━━\u001b[0m \u001b[32m731.7/731.7 MB\u001b[0m \u001b[31m2.4 MB/s\u001b[0m eta \u001b[36m0:00:00\u001b[0m\n",
            "\u001b[?25hCollecting nvidia-cublas-cu12==12.1.3.1 (from torch>=1.10.0->accelerate)\n",
            "  Downloading nvidia_cublas_cu12-12.1.3.1-py3-none-manylinux1_x86_64.whl (410.6 MB)\n",
            "\u001b[2K     \u001b[90m━━━━━━━━━━━━━━━━━━━━━━━━━━━━━━━━━━━━━━━━\u001b[0m \u001b[32m410.6/410.6 MB\u001b[0m \u001b[31m3.1 MB/s\u001b[0m eta \u001b[36m0:00:00\u001b[0m\n",
            "\u001b[?25hCollecting nvidia-cufft-cu12==11.0.2.54 (from torch>=1.10.0->accelerate)\n",
            "  Downloading nvidia_cufft_cu12-11.0.2.54-py3-none-manylinux1_x86_64.whl (121.6 MB)\n",
            "\u001b[2K     \u001b[90m━━━━━━━━━━━━━━━━━━━━━━━━━━━━━━━━━━━━━━━━\u001b[0m \u001b[32m121.6/121.6 MB\u001b[0m \u001b[31m13.6 MB/s\u001b[0m eta \u001b[36m0:00:00\u001b[0m\n",
            "\u001b[?25hCollecting nvidia-curand-cu12==10.3.2.106 (from torch>=1.10.0->accelerate)\n",
            "  Downloading nvidia_curand_cu12-10.3.2.106-py3-none-manylinux1_x86_64.whl (56.5 MB)\n",
            "\u001b[2K     \u001b[90m━━━━━━━━━━━━━━━━━━━━━━━━━━━━━━━━━━━━━━━━\u001b[0m \u001b[32m56.5/56.5 MB\u001b[0m \u001b[31m28.8 MB/s\u001b[0m eta \u001b[36m0:00:00\u001b[0m\n",
            "\u001b[?25hCollecting nvidia-cusolver-cu12==11.4.5.107 (from torch>=1.10.0->accelerate)\n",
            "  Downloading nvidia_cusolver_cu12-11.4.5.107-py3-none-manylinux1_x86_64.whl (124.2 MB)\n",
            "\u001b[2K     \u001b[90m━━━━━━━━━━━━━━━━━━━━━━━━━━━━━━━━━━━━━━━━\u001b[0m \u001b[32m124.2/124.2 MB\u001b[0m \u001b[31m6.1 MB/s\u001b[0m eta \u001b[36m0:00:00\u001b[0m\n",
            "\u001b[?25hCollecting nvidia-cusparse-cu12==12.1.0.106 (from torch>=1.10.0->accelerate)\n",
            "  Downloading nvidia_cusparse_cu12-12.1.0.106-py3-none-manylinux1_x86_64.whl (196.0 MB)\n",
            "\u001b[2K     \u001b[90m━━━━━━━━━━━━━━━━━━━━━━━━━━━━━━━━━━━━━━━━\u001b[0m \u001b[32m196.0/196.0 MB\u001b[0m \u001b[31m3.9 MB/s\u001b[0m eta \u001b[36m0:00:00\u001b[0m\n",
            "\u001b[?25hCollecting nvidia-nccl-cu12==2.19.3 (from torch>=1.10.0->accelerate)\n",
            "  Downloading nvidia_nccl_cu12-2.19.3-py3-none-manylinux1_x86_64.whl (166.0 MB)\n",
            "\u001b[2K     \u001b[90m━━━━━━━━━━━━━━━━━━━━━━━━━━━━━━━━━━━━━━━━\u001b[0m \u001b[32m166.0/166.0 MB\u001b[0m \u001b[31m10.1 MB/s\u001b[0m eta \u001b[36m0:00:00\u001b[0m\n",
            "\u001b[?25hCollecting nvidia-nvtx-cu12==12.1.105 (from torch>=1.10.0->accelerate)\n",
            "  Downloading nvidia_nvtx_cu12-12.1.105-py3-none-manylinux1_x86_64.whl (99 kB)\n",
            "\u001b[2K     \u001b[90m━━━━━━━━━━━━━━━━━━━━━━━━━━━━━━━━━━━━━━━━\u001b[0m \u001b[32m99.1/99.1 kB\u001b[0m \u001b[31m13.4 MB/s\u001b[0m eta \u001b[36m0:00:00\u001b[0m\n",
            "\u001b[?25hRequirement already satisfied: triton==2.2.0 in /usr/local/lib/python3.10/dist-packages (from torch>=1.10.0->accelerate) (2.2.0)\n",
            "Collecting nvidia-nvjitlink-cu12 (from nvidia-cusolver-cu12==11.4.5.107->torch>=1.10.0->accelerate)\n",
            "  Downloading nvidia_nvjitlink_cu12-12.4.99-py3-none-manylinux2014_x86_64.whl (21.1 MB)\n",
            "\u001b[2K     \u001b[90m━━━━━━━━━━━━━━━━━━━━━━━━━━━━━━━━━━━━━━━━\u001b[0m \u001b[32m21.1/21.1 MB\u001b[0m \u001b[31m78.7 MB/s\u001b[0m eta \u001b[36m0:00:00\u001b[0m\n",
            "\u001b[?25hRequirement already satisfied: requests in /usr/local/lib/python3.10/dist-packages (from huggingface-hub->accelerate) (2.31.0)\n",
            "Requirement already satisfied: tqdm>=4.42.1 in /usr/local/lib/python3.10/dist-packages (from huggingface-hub->accelerate) (4.66.2)\n",
            "Requirement already satisfied: MarkupSafe>=2.0 in /usr/local/lib/python3.10/dist-packages (from jinja2->torch>=1.10.0->accelerate) (2.1.5)\n",
            "Requirement already satisfied: charset-normalizer<4,>=2 in /usr/local/lib/python3.10/dist-packages (from requests->huggingface-hub->accelerate) (3.3.2)\n",
            "Requirement already satisfied: idna<4,>=2.5 in /usr/local/lib/python3.10/dist-packages (from requests->huggingface-hub->accelerate) (3.6)\n",
            "Requirement already satisfied: urllib3<3,>=1.21.1 in /usr/local/lib/python3.10/dist-packages (from requests->huggingface-hub->accelerate) (2.0.7)\n",
            "Requirement already satisfied: certifi>=2017.4.17 in /usr/local/lib/python3.10/dist-packages (from requests->huggingface-hub->accelerate) (2024.2.2)\n",
            "Requirement already satisfied: mpmath>=0.19 in /usr/local/lib/python3.10/dist-packages (from sympy->torch>=1.10.0->accelerate) (1.3.0)\n",
            "Installing collected packages: nvidia-nvtx-cu12, nvidia-nvjitlink-cu12, nvidia-nccl-cu12, nvidia-curand-cu12, nvidia-cufft-cu12, nvidia-cuda-runtime-cu12, nvidia-cuda-nvrtc-cu12, nvidia-cuda-cupti-cu12, nvidia-cublas-cu12, nvidia-cusparse-cu12, nvidia-cudnn-cu12, nvidia-cusolver-cu12, accelerate\n",
            "Successfully installed accelerate-0.28.0 nvidia-cublas-cu12-12.1.3.1 nvidia-cuda-cupti-cu12-12.1.105 nvidia-cuda-nvrtc-cu12-12.1.105 nvidia-cuda-runtime-cu12-12.1.105 nvidia-cudnn-cu12-8.9.2.26 nvidia-cufft-cu12-11.0.2.54 nvidia-curand-cu12-10.3.2.106 nvidia-cusolver-cu12-11.4.5.107 nvidia-cusparse-cu12-12.1.0.106 nvidia-nccl-cu12-2.19.3 nvidia-nvjitlink-cu12-12.4.99 nvidia-nvtx-cu12-12.1.105\n",
            "Collecting datasets\n",
            "  Downloading datasets-2.18.0-py3-none-any.whl (510 kB)\n",
            "\u001b[2K     \u001b[90m━━━━━━━━━━━━━━━━━━━━━━━━━━━━━━━━━━━━━━━━\u001b[0m \u001b[32m510.5/510.5 kB\u001b[0m \u001b[31m9.0 MB/s\u001b[0m eta \u001b[36m0:00:00\u001b[0m\n",
            "\u001b[?25hRequirement already satisfied: filelock in /usr/local/lib/python3.10/dist-packages (from datasets) (3.13.3)\n",
            "Requirement already satisfied: numpy>=1.17 in /usr/local/lib/python3.10/dist-packages (from datasets) (1.25.2)\n",
            "Requirement already satisfied: pyarrow>=12.0.0 in /usr/local/lib/python3.10/dist-packages (from datasets) (14.0.2)\n",
            "Requirement already satisfied: pyarrow-hotfix in /usr/local/lib/python3.10/dist-packages (from datasets) (0.6)\n",
            "Collecting dill<0.3.9,>=0.3.0 (from datasets)\n",
            "  Downloading dill-0.3.8-py3-none-any.whl (116 kB)\n",
            "\u001b[2K     \u001b[90m━━━━━━━━━━━━━━━━━━━━━━━━━━━━━━━━━━━━━━━━\u001b[0m \u001b[32m116.3/116.3 kB\u001b[0m \u001b[31m9.8 MB/s\u001b[0m eta \u001b[36m0:00:00\u001b[0m\n",
            "\u001b[?25hRequirement already satisfied: pandas in /usr/local/lib/python3.10/dist-packages (from datasets) (1.5.3)\n",
            "Requirement already satisfied: requests>=2.19.0 in /usr/local/lib/python3.10/dist-packages (from datasets) (2.31.0)\n",
            "Requirement already satisfied: tqdm>=4.62.1 in /usr/local/lib/python3.10/dist-packages (from datasets) (4.66.2)\n",
            "Collecting xxhash (from datasets)\n",
            "  Downloading xxhash-3.4.1-cp310-cp310-manylinux_2_17_x86_64.manylinux2014_x86_64.whl (194 kB)\n",
            "\u001b[2K     \u001b[90m━━━━━━━━━━━━━━━━━━━━━━━━━━━━━━━━━━━━━━━━\u001b[0m \u001b[32m194.1/194.1 kB\u001b[0m \u001b[31m12.0 MB/s\u001b[0m eta \u001b[36m0:00:00\u001b[0m\n",
            "\u001b[?25hCollecting multiprocess (from datasets)\n",
            "  Downloading multiprocess-0.70.16-py310-none-any.whl (134 kB)\n",
            "\u001b[2K     \u001b[90m━━━━━━━━━━━━━━━━━━━━━━━━━━━━━━━━━━━━━━━━\u001b[0m \u001b[32m134.8/134.8 kB\u001b[0m \u001b[31m11.6 MB/s\u001b[0m eta \u001b[36m0:00:00\u001b[0m\n",
            "\u001b[?25hRequirement already satisfied: fsspec[http]<=2024.2.0,>=2023.1.0 in /usr/local/lib/python3.10/dist-packages (from datasets) (2023.6.0)\n",
            "Requirement already satisfied: aiohttp in /usr/local/lib/python3.10/dist-packages (from datasets) (3.9.3)\n",
            "Requirement already satisfied: huggingface-hub>=0.19.4 in /usr/local/lib/python3.10/dist-packages (from datasets) (0.20.3)\n",
            "Requirement already satisfied: packaging in /usr/local/lib/python3.10/dist-packages (from datasets) (24.0)\n",
            "Requirement already satisfied: pyyaml>=5.1 in /usr/local/lib/python3.10/dist-packages (from datasets) (6.0.1)\n",
            "Requirement already satisfied: aiosignal>=1.1.2 in /usr/local/lib/python3.10/dist-packages (from aiohttp->datasets) (1.3.1)\n",
            "Requirement already satisfied: attrs>=17.3.0 in /usr/local/lib/python3.10/dist-packages (from aiohttp->datasets) (23.2.0)\n",
            "Requirement already satisfied: frozenlist>=1.1.1 in /usr/local/lib/python3.10/dist-packages (from aiohttp->datasets) (1.4.1)\n",
            "Requirement already satisfied: multidict<7.0,>=4.5 in /usr/local/lib/python3.10/dist-packages (from aiohttp->datasets) (6.0.5)\n",
            "Requirement already satisfied: yarl<2.0,>=1.0 in /usr/local/lib/python3.10/dist-packages (from aiohttp->datasets) (1.9.4)\n",
            "Requirement already satisfied: async-timeout<5.0,>=4.0 in /usr/local/lib/python3.10/dist-packages (from aiohttp->datasets) (4.0.3)\n",
            "Requirement already satisfied: typing-extensions>=3.7.4.3 in /usr/local/lib/python3.10/dist-packages (from huggingface-hub>=0.19.4->datasets) (4.10.0)\n",
            "Requirement already satisfied: charset-normalizer<4,>=2 in /usr/local/lib/python3.10/dist-packages (from requests>=2.19.0->datasets) (3.3.2)\n",
            "Requirement already satisfied: idna<4,>=2.5 in /usr/local/lib/python3.10/dist-packages (from requests>=2.19.0->datasets) (3.6)\n",
            "Requirement already satisfied: urllib3<3,>=1.21.1 in /usr/local/lib/python3.10/dist-packages (from requests>=2.19.0->datasets) (2.0.7)\n",
            "Requirement already satisfied: certifi>=2017.4.17 in /usr/local/lib/python3.10/dist-packages (from requests>=2.19.0->datasets) (2024.2.2)\n",
            "Requirement already satisfied: python-dateutil>=2.8.1 in /usr/local/lib/python3.10/dist-packages (from pandas->datasets) (2.8.2)\n",
            "Requirement already satisfied: pytz>=2020.1 in /usr/local/lib/python3.10/dist-packages (from pandas->datasets) (2023.4)\n",
            "Requirement already satisfied: six>=1.5 in /usr/local/lib/python3.10/dist-packages (from python-dateutil>=2.8.1->pandas->datasets) (1.16.0)\n",
            "Installing collected packages: xxhash, dill, multiprocess, datasets\n",
            "Successfully installed datasets-2.18.0 dill-0.3.8 multiprocess-0.70.16 xxhash-3.4.1\n",
            "Collecting evaluate\n",
            "  Downloading evaluate-0.4.1-py3-none-any.whl (84 kB)\n",
            "\u001b[2K     \u001b[90m━━━━━━━━━━━━━━━━━━━━━━━━━━━━━━━━━━━━━━━━\u001b[0m \u001b[32m84.1/84.1 kB\u001b[0m \u001b[31m3.0 MB/s\u001b[0m eta \u001b[36m0:00:00\u001b[0m\n",
            "\u001b[?25hRequirement already satisfied: datasets>=2.0.0 in /usr/local/lib/python3.10/dist-packages (from evaluate) (2.18.0)\n",
            "Requirement already satisfied: numpy>=1.17 in /usr/local/lib/python3.10/dist-packages (from evaluate) (1.25.2)\n",
            "Requirement already satisfied: dill in /usr/local/lib/python3.10/dist-packages (from evaluate) (0.3.8)\n",
            "Requirement already satisfied: pandas in /usr/local/lib/python3.10/dist-packages (from evaluate) (1.5.3)\n",
            "Requirement already satisfied: requests>=2.19.0 in /usr/local/lib/python3.10/dist-packages (from evaluate) (2.31.0)\n",
            "Requirement already satisfied: tqdm>=4.62.1 in /usr/local/lib/python3.10/dist-packages (from evaluate) (4.66.2)\n",
            "Requirement already satisfied: xxhash in /usr/local/lib/python3.10/dist-packages (from evaluate) (3.4.1)\n",
            "Requirement already satisfied: multiprocess in /usr/local/lib/python3.10/dist-packages (from evaluate) (0.70.16)\n",
            "Requirement already satisfied: fsspec[http]>=2021.05.0 in /usr/local/lib/python3.10/dist-packages (from evaluate) (2023.6.0)\n",
            "Requirement already satisfied: huggingface-hub>=0.7.0 in /usr/local/lib/python3.10/dist-packages (from evaluate) (0.20.3)\n",
            "Requirement already satisfied: packaging in /usr/local/lib/python3.10/dist-packages (from evaluate) (24.0)\n",
            "Collecting responses<0.19 (from evaluate)\n",
            "  Downloading responses-0.18.0-py3-none-any.whl (38 kB)\n",
            "Requirement already satisfied: filelock in /usr/local/lib/python3.10/dist-packages (from datasets>=2.0.0->evaluate) (3.13.3)\n",
            "Requirement already satisfied: pyarrow>=12.0.0 in /usr/local/lib/python3.10/dist-packages (from datasets>=2.0.0->evaluate) (14.0.2)\n",
            "Requirement already satisfied: pyarrow-hotfix in /usr/local/lib/python3.10/dist-packages (from datasets>=2.0.0->evaluate) (0.6)\n",
            "Requirement already satisfied: aiohttp in /usr/local/lib/python3.10/dist-packages (from datasets>=2.0.0->evaluate) (3.9.3)\n",
            "Requirement already satisfied: pyyaml>=5.1 in /usr/local/lib/python3.10/dist-packages (from datasets>=2.0.0->evaluate) (6.0.1)\n",
            "Requirement already satisfied: typing-extensions>=3.7.4.3 in /usr/local/lib/python3.10/dist-packages (from huggingface-hub>=0.7.0->evaluate) (4.10.0)\n",
            "Requirement already satisfied: charset-normalizer<4,>=2 in /usr/local/lib/python3.10/dist-packages (from requests>=2.19.0->evaluate) (3.3.2)\n",
            "Requirement already satisfied: idna<4,>=2.5 in /usr/local/lib/python3.10/dist-packages (from requests>=2.19.0->evaluate) (3.6)\n",
            "Requirement already satisfied: urllib3<3,>=1.21.1 in /usr/local/lib/python3.10/dist-packages (from requests>=2.19.0->evaluate) (2.0.7)\n",
            "Requirement already satisfied: certifi>=2017.4.17 in /usr/local/lib/python3.10/dist-packages (from requests>=2.19.0->evaluate) (2024.2.2)\n",
            "Requirement already satisfied: python-dateutil>=2.8.1 in /usr/local/lib/python3.10/dist-packages (from pandas->evaluate) (2.8.2)\n",
            "Requirement already satisfied: pytz>=2020.1 in /usr/local/lib/python3.10/dist-packages (from pandas->evaluate) (2023.4)\n",
            "Requirement already satisfied: aiosignal>=1.1.2 in /usr/local/lib/python3.10/dist-packages (from aiohttp->datasets>=2.0.0->evaluate) (1.3.1)\n",
            "Requirement already satisfied: attrs>=17.3.0 in /usr/local/lib/python3.10/dist-packages (from aiohttp->datasets>=2.0.0->evaluate) (23.2.0)\n",
            "Requirement already satisfied: frozenlist>=1.1.1 in /usr/local/lib/python3.10/dist-packages (from aiohttp->datasets>=2.0.0->evaluate) (1.4.1)\n",
            "Requirement already satisfied: multidict<7.0,>=4.5 in /usr/local/lib/python3.10/dist-packages (from aiohttp->datasets>=2.0.0->evaluate) (6.0.5)\n",
            "Requirement already satisfied: yarl<2.0,>=1.0 in /usr/local/lib/python3.10/dist-packages (from aiohttp->datasets>=2.0.0->evaluate) (1.9.4)\n",
            "Requirement already satisfied: async-timeout<5.0,>=4.0 in /usr/local/lib/python3.10/dist-packages (from aiohttp->datasets>=2.0.0->evaluate) (4.0.3)\n",
            "Requirement already satisfied: six>=1.5 in /usr/local/lib/python3.10/dist-packages (from python-dateutil>=2.8.1->pandas->evaluate) (1.16.0)\n",
            "Installing collected packages: responses, evaluate\n",
            "Successfully installed evaluate-0.4.1 responses-0.18.0\n"
          ]
        }
      ],
      "source": [
        "!pip install -U transformers\n",
        "!pip install -U accelerate\n",
        "!pip install -U datasets\n",
        "!pip install evaluate"
      ]
    },
    {
      "cell_type": "markdown",
      "metadata": {
        "id": "7-naURyFmfK_"
      },
      "source": [
        "# Question and Answering"
      ]
    },
    {
      "cell_type": "code",
      "execution_count": 2,
      "metadata": {
        "id": "oF6qHJXBag1J"
      },
      "outputs": [],
      "source": [
        "from transformers import (\n",
        "    pipeline,\n",
        "    Trainer,\n",
        "    TrainingArguments,\n",
        "    AutoTokenizer,\n",
        "    AutoModelForQuestionAnswering,\n",
        "    DataCollatorWithPadding,\n",
        "    EarlyStoppingCallback,\n",
        "    IntervalStrategy,\n",
        "    default_data_collator\n",
        ")\n",
        "from datasets import load_dataset\n",
        "import torch\n",
        "import os"
      ]
    },
    {
      "cell_type": "code",
      "execution_count": 3,
      "metadata": {
        "id": "SYWc4MkNOcMm"
      },
      "outputs": [],
      "source": [
        "from IPython.display import HTML, display\n",
        "\n",
        "def set_css():\n",
        "  display(HTML('''\n",
        "  <style>\n",
        "    pre {\n",
        "        white-space: pre-wrap;\n",
        "    }\n",
        "  </style>\n",
        "  '''))\n",
        "get_ipython().events.register('pre_run_cell', set_css)"
      ]
    },
    {
      "cell_type": "code",
      "execution_count": null,
      "metadata": {
        "colab": {
          "base_uri": "https://localhost:8080/",
          "height": 17
        },
        "id": "G8ygJMt3ef9B",
        "outputId": "feba14b9-8736-4c86-d2b7-8d9554d6ae79"
      },
      "outputs": [
        {
          "data": {
            "text/html": [
              "\n",
              "  <style>\n",
              "    pre {\n",
              "        white-space: pre-wrap;\n",
              "    }\n",
              "  </style>\n",
              "  "
            ],
            "text/plain": [
              "<IPython.core.display.HTML object>"
            ]
          },
          "metadata": {},
          "output_type": "display_data"
        }
      ],
      "source": [
        "\"\"\"import os\n",
        "import torch\n",
        "import evaluate\n",
        "import datasets\n",
        "import collections\n",
        "import transformers\n",
        "import numpy as np\n",
        "import pandas as pd\n",
        "import torch.nn as nn\n",
        "import torch.nn.functional as F\n",
        "from tqdm.auto import tqdm\n",
        "from time import perf_counter\n",
        "from torch.utils.data import DataLoader\n",
        "from datasets import (\n",
        "    load_dataset,\n",
        "    disable_progress_bar\n",
        ")\"\"\""
      ]
    },
    {
      "cell_type": "code",
      "execution_count": 35,
      "metadata": {
        "colab": {
          "base_uri": "https://localhost:8080/",
          "height": 17
        },
        "id": "wYGpBzgFruyE",
        "outputId": "42ccffa5-0281-47b4-98f5-a4e852c408f4"
      },
      "outputs": [
        {
          "output_type": "display_data",
          "data": {
            "text/plain": [
              "<IPython.core.display.HTML object>"
            ],
            "text/html": [
              "\n",
              "  <style>\n",
              "    pre {\n",
              "        white-space: pre-wrap;\n",
              "    }\n",
              "  </style>\n",
              "  "
            ]
          },
          "metadata": {}
        }
      ],
      "source": [
        "from transformers import AutoTokenizer\n",
        "model_ckpt = \"distilbert-base-uncased\"\n",
        "batch_size = 64\n",
        "tokenizer = AutoTokenizer. from_pretrained(model_ckpt)\n",
        "ds_name = \"covid_qa_deepset\"\n",
        "device = \"cuda\" if torch.cuda.is_available() else \"cpu\"\n",
        "cache_dir = None"
      ]
    },
    {
      "cell_type": "code",
      "execution_count": 5,
      "metadata": {
        "colab": {
          "base_uri": "https://localhost:8080/",
          "height": 81,
          "referenced_widgets": [
            "e1d0971508eb48b986a5cc715e242b1d",
            "5f6708bc4b8a448e8fcd844846dc0d40",
            "816781ecf2234261bd645a0d34e4523e",
            "38a0039301cf4920a23f6d31f72a4abf",
            "515454e034a748808be852c31e4a8a66",
            "a6aebee5c63046c8af7cff9cb8ff2e2f",
            "745ab458cf6c443ebc38a69eb10f5478",
            "439672b8cda8435b93af8869f785a15a",
            "e9a35ffabecf4ac2841ad09b23a7727b",
            "10928e58fe9a4a9b8fa251364406339e",
            "b9e813ee690c45108620735dfa64e111",
            "de1ce2f241a34ef2927b770e9b5b79eb",
            "4af1003a57f246e1bba0bc741240fa36",
            "ca626efdab7d4f42855cc9538e59e1aa",
            "f113d2771023493180e8c2b5e681e10e",
            "edb20b2770ac4618a77d8d7d7abbe879",
            "0bcc8ee033e449b5b81371a319091179",
            "65066424ca24417cb9a921cdafe7434c",
            "0c929057be7b4a2b9e61381c15d595fd",
            "e0d437ab445a416cb10e4f1d04168647",
            "60205dcced3a4998950200f2d84c2445",
            "59c5cfedbe6d402e87b06ea55e284f0a"
          ]
        },
        "id": "hmOxNhiz1NTM",
        "outputId": "5c7a9b61-c4cb-493b-bdb4-156120dad758"
      },
      "outputs": [
        {
          "output_type": "display_data",
          "data": {
            "text/plain": [
              "<IPython.core.display.HTML object>"
            ],
            "text/html": [
              "\n",
              "  <style>\n",
              "    pre {\n",
              "        white-space: pre-wrap;\n",
              "    }\n",
              "  </style>\n",
              "  "
            ]
          },
          "metadata": {}
        },
        {
          "output_type": "display_data",
          "data": {
            "text/plain": [
              "Downloading data:   0%|          | 0.00/2.27M [00:00<?, ?B/s]"
            ],
            "application/vnd.jupyter.widget-view+json": {
              "version_major": 2,
              "version_minor": 0,
              "model_id": "e1d0971508eb48b986a5cc715e242b1d"
            }
          },
          "metadata": {}
        },
        {
          "output_type": "display_data",
          "data": {
            "text/plain": [
              "Generating train split:   0%|          | 0/2019 [00:00<?, ? examples/s]"
            ],
            "application/vnd.jupyter.widget-view+json": {
              "version_major": 2,
              "version_minor": 0,
              "model_id": "de1ce2f241a34ef2927b770e9b5b79eb"
            }
          },
          "metadata": {}
        }
      ],
      "source": [
        "from datasets import load_dataset\n",
        "\n",
        "ds = load_dataset(\"covid_qa_deepset\", split=\"train\")"
      ]
    },
    {
      "cell_type": "markdown",
      "metadata": {
        "id": "U3ydsSrDbiLA"
      },
      "source": [
        "## Data analysis"
      ]
    },
    {
      "cell_type": "code",
      "execution_count": 6,
      "metadata": {
        "colab": {
          "base_uri": "https://localhost:8080/",
          "height": 191
        },
        "id": "OgkRVtphgTlQ",
        "outputId": "ac69bd50-5336-44ef-c537-7f3a9f315f6e"
      },
      "outputs": [
        {
          "output_type": "display_data",
          "data": {
            "text/plain": [
              "<IPython.core.display.HTML object>"
            ],
            "text/html": [
              "\n",
              "  <style>\n",
              "    pre {\n",
              "        white-space: pre-wrap;\n",
              "    }\n",
              "  </style>\n",
              "  "
            ]
          },
          "metadata": {}
        },
        {
          "output_type": "execute_result",
          "data": {
            "text/plain": [
              "DatasetDict({\n",
              "    train: Dataset({\n",
              "        features: ['document_id', 'context', 'question', 'is_impossible', 'id', 'answers'],\n",
              "        num_rows: 1413\n",
              "    })\n",
              "    test: Dataset({\n",
              "        features: ['document_id', 'context', 'question', 'is_impossible', 'id', 'answers'],\n",
              "        num_rows: 606\n",
              "    })\n",
              "})"
            ]
          },
          "metadata": {},
          "execution_count": 6
        }
      ],
      "source": [
        "ds=ds.train_test_split(test_size=0.3)\n",
        "\n",
        "ds"
      ]
    },
    {
      "cell_type": "code",
      "execution_count": null,
      "metadata": {
        "colab": {
          "base_uri": "https://localhost:8080/",
          "height": 1000
        },
        "id": "sDwy8Ukg1gJi",
        "outputId": "e894d0f3-dd71-4064-d2c5-41264b7ae995"
      },
      "outputs": [
        {
          "data": {
            "text/html": [
              "\n",
              "  <style>\n",
              "    pre {\n",
              "        white-space: pre-wrap;\n",
              "    }\n",
              "  </style>\n",
              "  "
            ],
            "text/plain": [
              "<IPython.core.display.HTML object>"
            ]
          },
          "metadata": {},
          "output_type": "display_data"
        },
        {
          "name": "stdout",
          "output_type": "stream",
          "text": [
            "How did  the SARS-CoV gain elevated replication and lung pathogenesis in aged mice ?\n",
            "{'text': ['due to six coding genetic mutations associated with mouse adaptation.'], 'answer_start': [3229]}\n",
            "No credible evidence supporting claims of the laboratory engineering of SARS-CoV-2\n",
            "\n",
            "https://www.ncbi.nlm.nih.gov/pmc/articles/PMC7054935/\n",
            "\n",
            "SHA: 5a9154aee79901dd8fecd58b7bcd9b7351102d24\n",
            "\n",
            "Authors: Liu, Shan-Lu; Saif, Linda J.; Weiss, Susan R.; Su, Lishan\n",
            "Date: 2020-02-26\n",
            "DOI: 10.1080/22221751.2020.1733440\n",
            "License: cc-by\n",
            "\n",
            "Abstract: nan\n",
            "\n",
            "Text: The emergence and outbreak of a newly discovered acute respiratory disease in Wuhan, China, has affected greater than 40,000 people, and killed more than 1,000 as of Feb. 10, 2020. A new human coronavirus, SARS-CoV-2, was quickly identified, and the associated disease is now referred to as coronavirus disease discovered in 2019 (COVID-19) (https://globalbiodefense. com/novel-coronavirus-covid-19-portal/).\n",
            "\n",
            "According to what has been reported [1] [2] [3] , COVID-2019 seems to have similar clinical manifestations to that of the severe acute respiratory syndrome (SARS) caused by SARS-CoV. The SARS-CoV-2 genome sequence also has ∼80% identity with SARS-CoV, but it is most similar to some bat beta-coronaviruses, with the highest being >96% identity [4, 5] .\n",
            "\n",
            "Currently, there are speculations, rumours and conspiracy theories that SARS-CoV-2 is of laboratory origin. Some people have alleged that the human SARS-CoV-2 was leaked directly from a laboratory in Wuhan where a bat CoV (RaTG13) was recently reported, which shared ∼96% homology with the SARS-CoV-2 [4] . However, as we know, the human SARS-CoV and intermediate host palm civet SARSlike CoV shared 99.8% homology, with a total of 202 single-nucleotide (nt) variations (SNVs) identified across the genome [6] . Given that there are greater than 1,100 nt differences between the human SARS-CoV-2 and the bat RaTG13-CoV [4] , which are distributed throughout the genome in a naturally occurring pattern following the evolutionary characteristics typical of CoVs, it is highly unlikely that RaTG13 CoV is the immediate source of SARS-CoV-2. The absence of a logical targeted pattern in the new viral sequences and a close relative in a wildlife species (bats) are the most revealing signs that SARS-CoV-2 evolved by natural evolution. A search for an intermediate animal host between bats and humans is needed to identify animal CoVs more closely related to human SARS-CoV-2. There is speculation that pangolins might carry CoVs closely related to SARS-CoV-2, but the data to substantiate this is not yet published (https:// www.nature.com/articles/d41586-020-00364-2).\n",
            "\n",
            "Another claim in Chinese social media points to a Nature Medicine paper published in 2015 [7] , which reports the construction of a chimeric CoV with a bat CoV S gene (SHC014) in the backbone of a SARS CoV that has adapted to infect mice (MA15) and is capable of infecting human cells [8] . However, this claim lacks any scientific basis and must be discounted because of significant divergence in the genetic sequence of this construct with the new SARS-CoV-2 (>5,000 nucleotides).\n",
            "\n",
            "The mouse-adapted SARS virus (MA15) [9] was generated by serial passage of an infectious wildtype SARS CoV clone in the respiratory tract of BALB/c mice. After 15 passages in mice, the SARS-CoV gained elevated replication and lung pathogenesis in aged mice (hence M15), due to six coding genetic mutations associated with mouse adaptation. It is likely that MA15 is highly attenuated to replicate in human cells or patients due to the mouse adaptation.\n",
            "\n",
            "It was proposed that the S gene from bat-derived CoV, unlike that from human patients-or civetsderived viruses, was unable to use human ACE2 as a receptor for entry into human cells [10, 11] . Civets were proposed to be an intermediate host of the bat-CoVs, capable of spreading SARS CoV to humans [6, 12] . However, in 2013 several novel bat coronaviruses were isolated from Chinese horseshoe bats and the bat SARS-like or SL-CoV-WIV1 was able to use ACE2 from humans, civets and Chinese horseshoe bats for entry [8] . Combined with evolutionary evidence that the bat ACE2 gene has been positively selected at the same contact sites as the human ACE2 gene for interacting with SARS CoV [13] , it was proposed that an intermediate host may not be necessary and that some bat SL-CoVs may be able to directly infect human hosts. To directly address this possibility, the exact S gene from bat coronavirus SL-SHC014 was synthesized and used to generate a chimeric virus in the mouse adapted MA15 SARS-CoV backbone. The resultant SL-SHC014-MA15 virus could indeed efficiently use human ACE2 and replicate in primary human airway cells to similar titres as epidemic strains of SARS-CoV. While SL-SHC014-MA15 can replicate efficiently in young and aged mouse lungs, infection was attenuated, and less virus antigen was present in the airway epithelium as compared to SARS MA15, which causes lethal outcomes in aged mice [7] .\n",
            "\n",
            "Due to the elevated pathogenic activity of the SHC014-MA15 chimeric virus relative to MA15 chimeric virus with the original human SARS S gene in mice, such experiments with SL-SHC014-MA15 chimeric virus were later restricted as gain of function (GOF) studies under the US government-mandated pause policy (https://www.nih.gov/about-nih/who-weare/nih-director/statements/nih-lifts-funding-pausegain-function-research). The current COVID-2019 epidemic has restarted the debate over the risks of constructing such viruses that could have pandemic potential, irrespective of the finding that these bat CoVs already exist in nature. Regardless, upon careful phylogenetic analyses by multiple international groups [5, 14] , the SARS-CoV-2 is undoubtedly distinct from SL-SHC014-MA15, with >6,000 nucleotide differences across the whole genome. Therefore, once again there is no credible evidence to support the claim that the SARS-CoV-2 is derived from the chimeric SL-SHC014-MA15 virus.\n",
            "\n",
            "There are also rumours that the SARS-CoV-2 was artificially, or intentionally, made by humans in the lab, and this is highlighted in one manuscript submitted to BioRxiv (a manuscript sharing site prior to any peer review), claiming that SARS-CoV-2 has HIV sequence in it and was thus likely generated in the laboratory. In a rebuttal paper led by an HIV-1 virologist Dr. Feng Gao, they used careful bioinformatics analyses to demonstrate that the original claim of multiple HIV insertions into the SARS-CoV-2 is not HIV-1 specific but random [15] . Because of the many concerns raised by the international community, the authors who made the initial claim have already withdrawn this report.\n",
            "\n",
            "Evolution is stepwise and accrues mutations gradually over time, whereas synthetic constructs would typically use a known backbone and introduce logical or targeted changes instead of the randomly occurring mutations that are present in naturally isolated viruses such as bat CoV RaTG13. In our view, there is currently no credible evidence to support the claim that SARS-CoV-2 originated from a laboratory-engineered CoV. It is more likely that SARS-CoV-2 is a recombinant CoV generated in nature between a bat CoV and another coronavirus in an intermediate animal host. More studies are needed to explore this possibility and resolve the natural origin of SARS-CoV-2. We should emphasize that, although SARS-CoV-2 shows no evidence of laboratory origin, viruses with such great public health threats must be handled properly in the laboratory and also properly regulated by the scientific community and governments.\n",
            "\n",
            "No potential conflict of interest was reported by the author(s).\n",
            "\n",
            "Susan R. Weiss http://orcid.org/0000-0002-8155-4528\n"
          ]
        }
      ],
      "source": [
        "print(ds[\"train\"][\"question\"][2])\n",
        "print(ds[\"train\"][\"answers\"][2])\n",
        "print(ds[\"train\"][\"context\"][2])"
      ]
    },
    {
      "cell_type": "code",
      "execution_count": 7,
      "metadata": {
        "colab": {
          "base_uri": "https://localhost:8080/",
          "height": 52
        },
        "id": "UhxFR-Ks1gGX",
        "outputId": "a9e01dde-7854-4e68-fa21-d8c285493301"
      },
      "outputs": [
        {
          "output_type": "display_data",
          "data": {
            "text/plain": [
              "<IPython.core.display.HTML object>"
            ],
            "text/html": [
              "\n",
              "  <style>\n",
              "    pre {\n",
              "        white-space: pre-wrap;\n",
              "    }\n",
              "  </style>\n",
              "  "
            ]
          },
          "metadata": {}
        },
        {
          "output_type": "stream",
          "name": "stdout",
          "text": [
            "Number of question in train: 1413\n",
            "Number of question in test: 606\n"
          ]
        }
      ],
      "source": [
        "import pandas as pd\n",
        "df_split={split: dset.to_pandas() for split , dset in ds.flatten().items()}\n",
        "\n",
        "for split ,df in df_split.items():\n",
        "  print(f\"Number of question in {split}: {df['id'].nunique()}\")"
      ]
    },
    {
      "cell_type": "code",
      "execution_count": 8,
      "metadata": {
        "colab": {
          "base_uri": "https://localhost:8080/",
          "height": 536
        },
        "id": "N9y6qQpv9y7b",
        "outputId": "3cd4695c-7765-49ff-ceb7-d9dc053f5dc3"
      },
      "outputs": [
        {
          "output_type": "display_data",
          "data": {
            "text/plain": [
              "<IPython.core.display.HTML object>"
            ],
            "text/html": [
              "\n",
              "  <style>\n",
              "    pre {\n",
              "        white-space: pre-wrap;\n",
              "    }\n",
              "  </style>\n",
              "  "
            ]
          },
          "metadata": {}
        },
        {
          "output_type": "execute_result",
          "data": {
            "text/plain": [
              "      document_id                                           question  \\\n",
              "525          1719    Has AAV been studied as  vectors for influenza?   \n",
              "1082         2504  Why may the  mechanisms of exacerbation vary c...   \n",
              "715          2642     How many cases had no pre-existing conditions?   \n",
              "1356         1719        What is the added protection of NDV vector?   \n",
              "1277         1660  With what have three studies correlated  plasm...   \n",
              "536          1689      What complications are associated with CHIKV?   \n",
              "454          2459             What is the conclusion of this report?   \n",
              "1026         2620  As of 26 January 2020, what countries had spor...   \n",
              "432          1687  How do the authors suggest that ATP1A1 and PHB...   \n",
              "325          2683  What is the key aim of non-pharmaceutical inte...   \n",
              "\n",
              "                                           answers.text answers.answer_start  \\\n",
              "525                         [There are limited studies]              [14703]   \n",
              "1082  [due to the complex interactions between the h...               [3281]   \n",
              "715                                              [five]               [7889]   \n",
              "1356  [providing protection against both the influen...              [24545]   \n",
              "1277         [with disease severity for HCPS and HFRS,]              [15442]   \n",
              "536   [from most common to least common, include res...               [7093]   \n",
              "454   [More studies are needed to explore this possi...               [7082]   \n",
              "1026  [were reported in Thailand, Japan, Republic of...               [2574]   \n",
              "432   [using genetics and pharmacological inhibition...              [34177]   \n",
              "325          [reduce the effective reproduction number]               [6703]   \n",
              "\n",
              "                                                context  \n",
              "525   Virus-Vectored Influenza Virus Vaccines\\n\\nhtt...  \n",
              "1082  Respiratory Viral Infections in Exacerbation o...  \n",
              "715   First cases of coronavirus disease 2019 (COVID...  \n",
              "1356  Virus-Vectored Influenza Virus Vaccines\\n\\nhtt...  \n",
              "1277  Hantaviruses in the Americas and Their Role as...  \n",
              "536   Chikungunya: A Potentially Emerging Epidemic?\\...  \n",
              "454   No credible evidence supporting claims of the ...  \n",
              "1026  Estimating the Unreported Number of Novel Coro...  \n",
              "432   Interactome analysis of the lymphocytic chorio...  \n",
              "325   Estimating the number of infections and the im...  "
            ],
            "text/html": [
              "\n",
              "  <div id=\"df-9088c628-e830-4338-b10b-79e1970ce447\" class=\"colab-df-container\">\n",
              "    <div>\n",
              "<style scoped>\n",
              "    .dataframe tbody tr th:only-of-type {\n",
              "        vertical-align: middle;\n",
              "    }\n",
              "\n",
              "    .dataframe tbody tr th {\n",
              "        vertical-align: top;\n",
              "    }\n",
              "\n",
              "    .dataframe thead th {\n",
              "        text-align: right;\n",
              "    }\n",
              "</style>\n",
              "<table border=\"1\" class=\"dataframe\">\n",
              "  <thead>\n",
              "    <tr style=\"text-align: right;\">\n",
              "      <th></th>\n",
              "      <th>document_id</th>\n",
              "      <th>question</th>\n",
              "      <th>answers.text</th>\n",
              "      <th>answers.answer_start</th>\n",
              "      <th>context</th>\n",
              "    </tr>\n",
              "  </thead>\n",
              "  <tbody>\n",
              "    <tr>\n",
              "      <th>525</th>\n",
              "      <td>1719</td>\n",
              "      <td>Has AAV been studied as  vectors for influenza?</td>\n",
              "      <td>[There are limited studies]</td>\n",
              "      <td>[14703]</td>\n",
              "      <td>Virus-Vectored Influenza Virus Vaccines\\n\\nhtt...</td>\n",
              "    </tr>\n",
              "    <tr>\n",
              "      <th>1082</th>\n",
              "      <td>2504</td>\n",
              "      <td>Why may the  mechanisms of exacerbation vary c...</td>\n",
              "      <td>[due to the complex interactions between the h...</td>\n",
              "      <td>[3281]</td>\n",
              "      <td>Respiratory Viral Infections in Exacerbation o...</td>\n",
              "    </tr>\n",
              "    <tr>\n",
              "      <th>715</th>\n",
              "      <td>2642</td>\n",
              "      <td>How many cases had no pre-existing conditions?</td>\n",
              "      <td>[five]</td>\n",
              "      <td>[7889]</td>\n",
              "      <td>First cases of coronavirus disease 2019 (COVID...</td>\n",
              "    </tr>\n",
              "    <tr>\n",
              "      <th>1356</th>\n",
              "      <td>1719</td>\n",
              "      <td>What is the added protection of NDV vector?</td>\n",
              "      <td>[providing protection against both the influen...</td>\n",
              "      <td>[24545]</td>\n",
              "      <td>Virus-Vectored Influenza Virus Vaccines\\n\\nhtt...</td>\n",
              "    </tr>\n",
              "    <tr>\n",
              "      <th>1277</th>\n",
              "      <td>1660</td>\n",
              "      <td>With what have three studies correlated  plasm...</td>\n",
              "      <td>[with disease severity for HCPS and HFRS,]</td>\n",
              "      <td>[15442]</td>\n",
              "      <td>Hantaviruses in the Americas and Their Role as...</td>\n",
              "    </tr>\n",
              "    <tr>\n",
              "      <th>536</th>\n",
              "      <td>1689</td>\n",
              "      <td>What complications are associated with CHIKV?</td>\n",
              "      <td>[from most common to least common, include res...</td>\n",
              "      <td>[7093]</td>\n",
              "      <td>Chikungunya: A Potentially Emerging Epidemic?\\...</td>\n",
              "    </tr>\n",
              "    <tr>\n",
              "      <th>454</th>\n",
              "      <td>2459</td>\n",
              "      <td>What is the conclusion of this report?</td>\n",
              "      <td>[More studies are needed to explore this possi...</td>\n",
              "      <td>[7082]</td>\n",
              "      <td>No credible evidence supporting claims of the ...</td>\n",
              "    </tr>\n",
              "    <tr>\n",
              "      <th>1026</th>\n",
              "      <td>2620</td>\n",
              "      <td>As of 26 January 2020, what countries had spor...</td>\n",
              "      <td>[were reported in Thailand, Japan, Republic of...</td>\n",
              "      <td>[2574]</td>\n",
              "      <td>Estimating the Unreported Number of Novel Coro...</td>\n",
              "    </tr>\n",
              "    <tr>\n",
              "      <th>432</th>\n",
              "      <td>1687</td>\n",
              "      <td>How do the authors suggest that ATP1A1 and PHB...</td>\n",
              "      <td>[using genetics and pharmacological inhibition...</td>\n",
              "      <td>[34177]</td>\n",
              "      <td>Interactome analysis of the lymphocytic chorio...</td>\n",
              "    </tr>\n",
              "    <tr>\n",
              "      <th>325</th>\n",
              "      <td>2683</td>\n",
              "      <td>What is the key aim of non-pharmaceutical inte...</td>\n",
              "      <td>[reduce the effective reproduction number]</td>\n",
              "      <td>[6703]</td>\n",
              "      <td>Estimating the number of infections and the im...</td>\n",
              "    </tr>\n",
              "  </tbody>\n",
              "</table>\n",
              "</div>\n",
              "    <div class=\"colab-df-buttons\">\n",
              "\n",
              "  <div class=\"colab-df-container\">\n",
              "    <button class=\"colab-df-convert\" onclick=\"convertToInteractive('df-9088c628-e830-4338-b10b-79e1970ce447')\"\n",
              "            title=\"Convert this dataframe to an interactive table.\"\n",
              "            style=\"display:none;\">\n",
              "\n",
              "  <svg xmlns=\"http://www.w3.org/2000/svg\" height=\"24px\" viewBox=\"0 -960 960 960\">\n",
              "    <path d=\"M120-120v-720h720v720H120Zm60-500h600v-160H180v160Zm220 220h160v-160H400v160Zm0 220h160v-160H400v160ZM180-400h160v-160H180v160Zm440 0h160v-160H620v160ZM180-180h160v-160H180v160Zm440 0h160v-160H620v160Z\"/>\n",
              "  </svg>\n",
              "    </button>\n",
              "\n",
              "  <style>\n",
              "    .colab-df-container {\n",
              "      display:flex;\n",
              "      gap: 12px;\n",
              "    }\n",
              "\n",
              "    .colab-df-convert {\n",
              "      background-color: #E8F0FE;\n",
              "      border: none;\n",
              "      border-radius: 50%;\n",
              "      cursor: pointer;\n",
              "      display: none;\n",
              "      fill: #1967D2;\n",
              "      height: 32px;\n",
              "      padding: 0 0 0 0;\n",
              "      width: 32px;\n",
              "    }\n",
              "\n",
              "    .colab-df-convert:hover {\n",
              "      background-color: #E2EBFA;\n",
              "      box-shadow: 0px 1px 2px rgba(60, 64, 67, 0.3), 0px 1px 3px 1px rgba(60, 64, 67, 0.15);\n",
              "      fill: #174EA6;\n",
              "    }\n",
              "\n",
              "    .colab-df-buttons div {\n",
              "      margin-bottom: 4px;\n",
              "    }\n",
              "\n",
              "    [theme=dark] .colab-df-convert {\n",
              "      background-color: #3B4455;\n",
              "      fill: #D2E3FC;\n",
              "    }\n",
              "\n",
              "    [theme=dark] .colab-df-convert:hover {\n",
              "      background-color: #434B5C;\n",
              "      box-shadow: 0px 1px 3px 1px rgba(0, 0, 0, 0.15);\n",
              "      filter: drop-shadow(0px 1px 2px rgba(0, 0, 0, 0.3));\n",
              "      fill: #FFFFFF;\n",
              "    }\n",
              "  </style>\n",
              "\n",
              "    <script>\n",
              "      const buttonEl =\n",
              "        document.querySelector('#df-9088c628-e830-4338-b10b-79e1970ce447 button.colab-df-convert');\n",
              "      buttonEl.style.display =\n",
              "        google.colab.kernel.accessAllowed ? 'block' : 'none';\n",
              "\n",
              "      async function convertToInteractive(key) {\n",
              "        const element = document.querySelector('#df-9088c628-e830-4338-b10b-79e1970ce447');\n",
              "        const dataTable =\n",
              "          await google.colab.kernel.invokeFunction('convertToInteractive',\n",
              "                                                    [key], {});\n",
              "        if (!dataTable) return;\n",
              "\n",
              "        const docLinkHtml = 'Like what you see? Visit the ' +\n",
              "          '<a target=\"_blank\" href=https://colab.research.google.com/notebooks/data_table.ipynb>data table notebook</a>'\n",
              "          + ' to learn more about interactive tables.';\n",
              "        element.innerHTML = '';\n",
              "        dataTable['output_type'] = 'display_data';\n",
              "        await google.colab.output.renderOutput(dataTable, element);\n",
              "        const docLink = document.createElement('div');\n",
              "        docLink.innerHTML = docLinkHtml;\n",
              "        element.appendChild(docLink);\n",
              "      }\n",
              "    </script>\n",
              "  </div>\n",
              "\n",
              "\n",
              "<div id=\"df-52e4683a-c960-473f-b55a-a700251eb9d5\">\n",
              "  <button class=\"colab-df-quickchart\" onclick=\"quickchart('df-52e4683a-c960-473f-b55a-a700251eb9d5')\"\n",
              "            title=\"Suggest charts\"\n",
              "            style=\"display:none;\">\n",
              "\n",
              "<svg xmlns=\"http://www.w3.org/2000/svg\" height=\"24px\"viewBox=\"0 0 24 24\"\n",
              "     width=\"24px\">\n",
              "    <g>\n",
              "        <path d=\"M19 3H5c-1.1 0-2 .9-2 2v14c0 1.1.9 2 2 2h14c1.1 0 2-.9 2-2V5c0-1.1-.9-2-2-2zM9 17H7v-7h2v7zm4 0h-2V7h2v10zm4 0h-2v-4h2v4z\"/>\n",
              "    </g>\n",
              "</svg>\n",
              "  </button>\n",
              "\n",
              "<style>\n",
              "  .colab-df-quickchart {\n",
              "      --bg-color: #E8F0FE;\n",
              "      --fill-color: #1967D2;\n",
              "      --hover-bg-color: #E2EBFA;\n",
              "      --hover-fill-color: #174EA6;\n",
              "      --disabled-fill-color: #AAA;\n",
              "      --disabled-bg-color: #DDD;\n",
              "  }\n",
              "\n",
              "  [theme=dark] .colab-df-quickchart {\n",
              "      --bg-color: #3B4455;\n",
              "      --fill-color: #D2E3FC;\n",
              "      --hover-bg-color: #434B5C;\n",
              "      --hover-fill-color: #FFFFFF;\n",
              "      --disabled-bg-color: #3B4455;\n",
              "      --disabled-fill-color: #666;\n",
              "  }\n",
              "\n",
              "  .colab-df-quickchart {\n",
              "    background-color: var(--bg-color);\n",
              "    border: none;\n",
              "    border-radius: 50%;\n",
              "    cursor: pointer;\n",
              "    display: none;\n",
              "    fill: var(--fill-color);\n",
              "    height: 32px;\n",
              "    padding: 0;\n",
              "    width: 32px;\n",
              "  }\n",
              "\n",
              "  .colab-df-quickchart:hover {\n",
              "    background-color: var(--hover-bg-color);\n",
              "    box-shadow: 0 1px 2px rgba(60, 64, 67, 0.3), 0 1px 3px 1px rgba(60, 64, 67, 0.15);\n",
              "    fill: var(--button-hover-fill-color);\n",
              "  }\n",
              "\n",
              "  .colab-df-quickchart-complete:disabled,\n",
              "  .colab-df-quickchart-complete:disabled:hover {\n",
              "    background-color: var(--disabled-bg-color);\n",
              "    fill: var(--disabled-fill-color);\n",
              "    box-shadow: none;\n",
              "  }\n",
              "\n",
              "  .colab-df-spinner {\n",
              "    border: 2px solid var(--fill-color);\n",
              "    border-color: transparent;\n",
              "    border-bottom-color: var(--fill-color);\n",
              "    animation:\n",
              "      spin 1s steps(1) infinite;\n",
              "  }\n",
              "\n",
              "  @keyframes spin {\n",
              "    0% {\n",
              "      border-color: transparent;\n",
              "      border-bottom-color: var(--fill-color);\n",
              "      border-left-color: var(--fill-color);\n",
              "    }\n",
              "    20% {\n",
              "      border-color: transparent;\n",
              "      border-left-color: var(--fill-color);\n",
              "      border-top-color: var(--fill-color);\n",
              "    }\n",
              "    30% {\n",
              "      border-color: transparent;\n",
              "      border-left-color: var(--fill-color);\n",
              "      border-top-color: var(--fill-color);\n",
              "      border-right-color: var(--fill-color);\n",
              "    }\n",
              "    40% {\n",
              "      border-color: transparent;\n",
              "      border-right-color: var(--fill-color);\n",
              "      border-top-color: var(--fill-color);\n",
              "    }\n",
              "    60% {\n",
              "      border-color: transparent;\n",
              "      border-right-color: var(--fill-color);\n",
              "    }\n",
              "    80% {\n",
              "      border-color: transparent;\n",
              "      border-right-color: var(--fill-color);\n",
              "      border-bottom-color: var(--fill-color);\n",
              "    }\n",
              "    90% {\n",
              "      border-color: transparent;\n",
              "      border-bottom-color: var(--fill-color);\n",
              "    }\n",
              "  }\n",
              "</style>\n",
              "\n",
              "  <script>\n",
              "    async function quickchart(key) {\n",
              "      const quickchartButtonEl =\n",
              "        document.querySelector('#' + key + ' button');\n",
              "      quickchartButtonEl.disabled = true;  // To prevent multiple clicks.\n",
              "      quickchartButtonEl.classList.add('colab-df-spinner');\n",
              "      try {\n",
              "        const charts = await google.colab.kernel.invokeFunction(\n",
              "            'suggestCharts', [key], {});\n",
              "      } catch (error) {\n",
              "        console.error('Error during call to suggestCharts:', error);\n",
              "      }\n",
              "      quickchartButtonEl.classList.remove('colab-df-spinner');\n",
              "      quickchartButtonEl.classList.add('colab-df-quickchart-complete');\n",
              "    }\n",
              "    (() => {\n",
              "      let quickchartButtonEl =\n",
              "        document.querySelector('#df-52e4683a-c960-473f-b55a-a700251eb9d5 button');\n",
              "      quickchartButtonEl.style.display =\n",
              "        google.colab.kernel.accessAllowed ? 'block' : 'none';\n",
              "    })();\n",
              "  </script>\n",
              "</div>\n",
              "    </div>\n",
              "  </div>\n"
            ],
            "application/vnd.google.colaboratory.intrinsic+json": {
              "type": "dataframe",
              "variable_name": "sampledf",
              "summary": "{\n  \"name\": \"sampledf\",\n  \"rows\": 10,\n  \"fields\": [\n    {\n      \"column\": \"document_id\",\n      \"properties\": {\n        \"dtype\": \"int32\",\n        \"num_unique_values\": 9,\n        \"samples\": [\n          1687,\n          2504,\n          2459\n        ],\n        \"semantic_type\": \"\",\n        \"description\": \"\"\n      }\n    },\n    {\n      \"column\": \"question\",\n      \"properties\": {\n        \"dtype\": \"string\",\n        \"num_unique_values\": 10,\n        \"samples\": [\n          \"How do the authors suggest that ATP1A1 and PHB contribute to the efficient multiplication of mammarenaviruses?\",\n          \"Why may the  mechanisms of exacerbation vary considerably?\",\n          \"What complications are associated with CHIKV?\"\n        ],\n        \"semantic_type\": \"\",\n        \"description\": \"\"\n      }\n    },\n    {\n      \"column\": \"answers.text\",\n      \"properties\": {\n        \"dtype\": \"object\",\n        \"semantic_type\": \"\",\n        \"description\": \"\"\n      }\n    },\n    {\n      \"column\": \"answers.answer_start\",\n      \"properties\": {\n        \"dtype\": \"object\",\n        \"semantic_type\": \"\",\n        \"description\": \"\"\n      }\n    },\n    {\n      \"column\": \"context\",\n      \"properties\": {\n        \"dtype\": \"string\",\n        \"num_unique_values\": 9,\n        \"samples\": [\n          \"Interactome analysis of the lymphocytic choriomeningitis virus nucleoprotein in infected cells reveals ATPase Na(+)/K(+) transporting subunit Alpha 1 and prohibitin as host-cell factors involved in the life cycle of mammarenaviruses\\n\\nhttps://www.ncbi.nlm.nih.gov/pmc/articles/PMC5834214/\\n\\nSHA: efbd0dfc426da5dd25ce29411d6fa37571623773\\n\\nAuthors: Iwasaki, Masaharu; Minder, Petra; Ca\\u00ec, Y\\u00edngy\\u00fan; Kuhn, Jens H.; Yates, John R.; Torbett, Bruce E.; de la Torre, Juan C.\\nDate: 2018-02-20\\nDOI: 10.1371/journal.ppat.1006892\\nLicense: cc0\\n\\nAbstract: Several mammalian arenaviruses (mammarenaviruses) cause hemorrhagic fevers in humans and pose serious public health concerns in their endemic regions. Additionally, mounting evidence indicates that the worldwide-distributed, prototypic mammarenavirus, lymphocytic choriomeningitis virus (LCMV), is a neglected human pathogen of clinical significance. Concerns about human-pathogenic mammarenaviruses are exacerbated by of the lack of licensed vaccines, and current anti-mammarenavirus therapy is limited to off-label use of ribavirin that is only partially effective. Detailed understanding of virus/host-cell interactions may facilitate the development of novel anti-mammarenavirus strategies by targeting components of the host-cell machinery that are required for efficient virus multiplication. Here we document the generation of a recombinant LCMV encoding a nucleoprotein (NP) containing an affinity tag (rLCMV/Strep-NP) and its use to capture the NP-interactome in infected cells. Our proteomic approach combined with genetics and pharmacological validation assays identified ATPase Na(+)/K(+) transporting subunit alpha 1 (ATP1A1) and prohibitin (PHB) as pro-viral factors. Cell-based assays revealed that ATP1A1 and PHB are involved in different steps of the virus life cycle. Accordingly, we observed a synergistic inhibitory effect on LCMV multiplication with a combination of ATP1A1 and PHB inhibitors. We show that ATP1A1 inhibitors suppress multiplication of Lassa virus and Candid#1, a live-attenuated vaccine strain of Jun\\u00edn virus, suggesting that the requirement of ATP1A1 in virus multiplication is conserved among genetically distantly related mammarenaviruses. Our findings suggest that clinically approved inhibitors of ATP1A1, like digoxin, could be repurposed to treat infections by mammarenaviruses pathogenic for humans.\\n\\nText: Introduction Mammarenaviruses (Arenaviridae: Mammarenavirus) cause chronic infections of rodents worldwide [1] . Invasion of human dwellings by infected rodents can result in human infections through mucosal exposure to aerosols or by direct contact of abraded skin with infectious material. Several mammarenaviruses cause viral hemorrhagic fevers (VHFs) in humans and pose important public health problems in their endemic areas [2] [3] [4] [5] [6] . Mammarenaviruses are classified into two main groups, Old World (OW) and New World (NW) [1] . The OW Lassa virus (LASV), causative agent of Lassa fever (LF), is the most significant OW mammarenaviral pathogen. LASV is estimated to infect several hundred thousand individuals annually in Western Africa, resulting in a high number of LF cases associated with high morbidity and lethality. Moreover, LASV endemic regions are expanding [7] , and the association of the recently identified mammarenavirus Lujo virus with a VHF outbreak in Southern Africa [8, 9] has raised concerns about the emergence of novel VHF-causing mammarenaviruses. The most significant NW mammarenavirus is Jun\\u00edn virus (JUNV), which causes Argentinian hemorrhagic fever [10] . The worldwide-distributed OW mammarenavirus lymphocytic choriomeningitis virus (LCMV) is a neglected human pathogen of clinical significance especially in congenital infections [11] [12] [13] [14] [15] . Moreover, LCMV poses a particular threat to immunocompromised individuals, as has been illustrated by fatal cases of LCMV infection associated with organ transplants [16, 17] . However, LCMV research can be safely performed at BSL-2 containment, rather than the BSL-4 containment necessary for live LASV or JUNV research [18] .\\n\\nNo US Food and Drug Administration (FDA)-licensed vaccines are available for the treatment of arenavirus infections, although a live attenuated vaccine strain of JUNV, Candid#1, is licensed in Argentina. Likewise, current anti-mammarenavirus therapy is limited to an offlabel use of the nucleoside analogue ribavirin that is only partially effective and can cause significant side effects [19] [20] [21] . Development of effective anti-mammarenavirus drugs has been hampered by the lack of detailed understanding of virus/host-cell interactions required for mammarenavirus multiplication that could represent amenable targets for antiviral therapy. the potential problem that overexpression of a single viral gene product may potentiate PPI interactions that are not relevant during the course of a natural virus infection. To overcome this issue, we designed a recombinant LCMV (rLCMV) encoding a tandem [WSHPQFEK (GGGS) 3 WSHPQFEK] Strep-tag fused to the amino-terminus of NP (rLCMV/Strep-NP) (Fig  1A and 1B) . To facilitate the identification of specific PPI between NP and host cell proteins, we used our mammarenavirus tri-segmented (r3) platform [30] to design an r3LCMV expressing a C-terminus Strep-tag version of enhanced green fluorescent protein (r3LCMV/eGFP-Strep) that we used as a negative control (Fig 1A and 1B) . We rescued rLCMV/Strep-NP and r3LCMV/eGFP-Strep and confirmed the expression of strep-tagged NP and eGFP in rLCMV/ Strep-NP-and r3LCMV/eGFP-Strep-infected cells, respectively (Fig 1C) . Next, we examined the growth properties of rLCMV/Strep-NP and r3LCMV/eGFP-Strep in three different cells lines from hamsters, humans, and nonhuman primates (BHK-21, A549, and Vero E6 cells, respectively) (Fig 1D) . The fitness of rLCMV/Strep-NP and r3LCMV/eGFP-Strep was modestly decreased compared to that observed with wild-type (WT) Armstrong (rLCMV ARM) and Clone 13 (rLCMV Cl-13) strains of LCMV. However, both rLCMV/Strep-NP and r3LCMV/eGFP-Strep had WT-like growth kinetics and reached high titers. As with WT LCMV, infection with rLCMV/Strep-NP prevented production of bioactive IFN-I by cells in response to Sendai virus (SeV) infection as determined using an IFN bioassay based on protection against the cytopathic effect (CPE) induced by infection with vesicular stomatitis virus (VSV) (Fig 1E) . Vero cells treated for 16 h with tissue cultured supernatants (TCS) from A549 cells infected first with WT LCMV or rLCMV/Strep, followed by 24 h infection with SeV, remained fully susceptible to VSV-induced CPE. In contrast, Vero cells treated with TCS from A549 cells infected with rLCMV/NP(D382A), a mutant unable to prevent induction of IFN-I [30] , and subsequently with SeV, were protected against VSV induced CPE.\\n\\nWe selected the human A549 cell line because lung epithelial cells are one of the initial cell targets of humans following inhalation of mammarenavirions. We infected A549 cells (multiplicity of infection [MOI] = 0.1) with either rLCMV/Strep-NP or r3LCMV/eGFP-Strep (Fig 2A) . At 48 h post-inoculation (pi), we prepared total cell lysates for pull-down (PD) assays using a sepharose resin coated with strep-tactin. Aliquots of the protein complexes present in the PD samples were fractionated by sodium dodecyl sulfate-polyacrylamide gel electrophoresis (SDS-PAGE) (Fig 2B) followed by SYPRO Ruby protein gel staining. We compared the pattern of stained protein bands detected between rLCMV/Strep-NP-and r3LCMV/eGFP-Strepinfected samples and confirmed the presence of Strep-NP and eGFP-Strep in pertinent samples (Fig 2B) . Protein complexes in the rest of eluates from the PD samples were concentrated by trichloroacetic acid (TCA) precipitation and subjected to trypsin digestion (Fig 2A) . Digested peptides were subjected to liquid chromatography-tandem mass spectrometry (LC-MS/MS) analysis using a hybrid mass spectrometer consisting of linear quadrupole ion dual cell trap (LTQ) Velos and an Orbitrap analyser.\\n\\nWe classified host-cell proteins identified by LC-MS/MS analysis from two independent biological replicates into two groups: 1) proteins found only in Strep-NP PD samples with at least five spectral counts ( Table 1) , and 2) proteins found in both Strep-NP and eGFP-Strep PD samples with five or higher spectral counts in Strep-NP samples and at least 2-fold higher spectral counts in Strep-NP PD compared to eGFP PD samples ( Table 2) . Filtering the data using these criteria resulted in identification of 139 candidate host-cell proteins as NP-interacting partners. Among 53 proteins found present in both NP-and eGFP-PD samples, 36 had spectral counts in the NP-PD sample that were less than two-fold higher than their corresponding spectral counts in the eGFP-PD sample (Fig 2C and S1 Table) . Based on the criteria we described above, we considered these proteins to be highly unlikely specific NPinteractors with an involvement in the LCMV life cycle, and therefore we did not consider these hits for further analysis. However, we acknowledge that we cannot formally rule out that some of these hits could still play a role on the life cycle of LCMV.\\n\\nThe protein annotation through evolutionary relationship (PANTHER) protein family classification (Biological Process) of the NP-interacting protein candidates revealed that a large number of proteins were involved in metabolic and cellular processes (Fig 2D) . We also analyzed the molecular functions of the NP-interacting protein candidates according to the PAN-THER protein profile classification (Fig 2E) , which revealed diversified biochemical functions enriched for nucleic acid-binding proteins and chaperones.\\n\\nTo initially assess pro-or anti-viral roles of NP-interacting host-cell proteins identified by LC-MS/MS, we examined the effect of small interfering RNA (siRNA)-mediated knockdown (kd) of each of the corresponding genes on multiplication of rLCMV expressing reporter gene ZsGreen (ZsG) in A549 cells (Fig 3A) . The siRNAs we used were from the genome-wide ON TARGET-Plus (OTP) Human siRNA library (18,301 genes, 4 siRNAs/gene). OTPs are latest generation of siRNAs and offer significant advantages over previous generations. Off-target effects are primarily driven by antisense strand microRNA (miR)-like seed activity. In OTPs, the sense strand is modified to favor antisense strand uptake whereas the antisense strand seed region is modified to drastically reduce seed-related off-targeting [33] . In addition, OTPs are designed on the foundation of the SMARTselection algorithm (Dharmacon), widely considered to be the best algorithm for rational siRNA design strategy. Numerous host-cell factors showed an anti-LCMV effect (increased ZsG expression by kd of the genes), including microtubule-associated protein 1B (MAP1B) [ [38] , dengue virus 2 (DENV-2) [39] , and chikungunya virus (CHIKV) [40] .\\n\\nTo begin assessing the potential biological implications of the identified NP-host cell protein interactions, we selected ATP1A1 and PHB given the availability of reagents, existing knowledge about their roles in cell physiology, and evidence of participation in multiplication of other viruses. We confirmed that cells transfected with siRNA specific to ATP1A1 and PHB exhibited the predicted reduced levels in ATP1A1 and PHB protein expression (Fig 3B) . Likewise, we examined whether siRNA-mediated reduced expression levels of ZsGreen correlated with reduced LCMV progeny titers. For this, we transfected A549 cells with siRNA targeting Expression of Strep-tagged proteins. A549 cells seeded (5.0 x 10 5 cells/well) in a 6-well plate and cultured overnight were infected (MOI = 0.1) with the indicated rLCMVs. At 48 h pi, total cell lysates were prepared, and protein expression was analyzed by western blotting. (D) Growth properties of rLCMV expressing Strep-tagged proteins. BHK-21 (1.75 x 10 5 cells/well), A549 (1.25 x 10 5 cells/well), or Vero E6 (1.25 x 10 5 cells/well) cells seeded in 24-well plates and cultured overnight were infected (MOI = 0.01) with the indicated rLCMVs. At the indicated times pi, TCSs were collected and virus titers determined by IFFA. Results represent means \\u00b1 SD of the results of three independent experiments. (E) Lack of induction of IFN-I in cells infected with rLCMV/Strep-NP. A549 cells were infected (MOI = 0.1) with the indicated rLCMV or mock-infected, and 36 h later infected with SeV (MOI = 1). At 24 h pi with SeV, TCS were collected and used, following virus inactivation by U.V., to treat Vero E6 cells for 16 h, followed by infection with rVSV (MOI = 0.1) [rVSV(+)] or mockinfection [rVSV (-) ]. At 24 h pi with rVSV, cells were fixed with 4% PFA and stained with crystal violet to assess rVSV-induced cytopathic effect. We used as control rLCMV/NP(D382A) that contains mutation D382A within NP, which has been shown to abrogate the NP's ability to counteract the induction of IFN-I production.\\n\\nhttps://doi.org/10.1371/journal.ppat.1006892.g001 ATP1A1 or with NC siRNA 72 h prior to infection with rLCMV/ZsG. We found that siRNAmediated kd of ATP1A1 dramatically inhibited ZsGreen expression (Fig 3Ci) , which was associated with a significant reduction of infectious LCMV progeny (Fig 3Cii) . Our attempts to see interaction between NP and ATP1A1 or NP and PHB by co-immunoprecipitation were unsuccessful. Several possibilities could account for this, including interactions of low affinity or high on/off rate or both. Another consideration is that only a minor fraction of NP might be engaged in the interaction with a given host cell protein, and therefore, detection of these interactions would require highly sensitive methods such as LC-MS/MS. To overcome this problem we used confocal microscopy to examine the co-localization of NP with ATP1A1 and PHB in LCMV-infected cells. Weighted co-localization coefficients (CC), determined by taking into consideration the brightness of each channel signal, were significantly higher than non-weighted CC, indicating the presence of brighter pixels in the co-localized regions compared to the non-co-localized regions (Fig 4) .\\n\\nThe cardiac glycoside ouabain is an inhibitor of ATP1A1 that has been used to treat congestive heart failure in European countries [41] . The PHB inhibitor rocaglamide is a flavagline from an Aglaia tree used in traditional Chinese medicine [42] that has potent anticancer activity [43] . To examine whether pharmacological inhibition of ATP1A1 or PHB inhibited LCMV multiplication, we pretreated human (A549 and HEK 293T), nonhuman primate (Vero E6), and rodent (murine L929 and hamster BHK-21) cells with ouabain or rocaglamide and infected them with rLCMV/eGFP (S1 Fig). Ouabain treatment resulted in a strong dosedependent inhibition of eGFP expression in infected human-and nonhuman primate cells, but did not affect eGFP expression intensity in infected rodent cells (S1A Fig) . This finding is consistent with rodents expressing an ATP1A1 allele that is resistant to ouabain inhibition [44] .\\n\\nLikewise, we observed a dose-dependent rocaglamide inhibition of eGFP expression in all cell lines infected with rLCMV/eGFP (S1B Fig) . Consistent with these findings, production of infectious LCMV progeny was reduced by treatment with either ouabain or rocaglamide ( Fig  5A) within a concentration range that had minimal impact on cell viability (Fig 5B) . To examine the correlation between efficacy and cytotoxicity of these compounds, we determined their therapeutic index (TI = CC 50 /IC 50 (Fig 5Bi) ; whereas rocaglamide had TIs of >105 (CC 50 > 1000 nM, IC 50 = 9.51 nM) and 10.3 (CC 50 = 100 nM, IC 50 = 9.75 nM) in A549 and Vero E6 cells, respectively (Fig  5Bii) . Moreover, the ATP1A1 antagonist inhibitor, bufalin, also exhibited robust anti-LCMV activity with TIs of 8.92 (CC 50 Heat shock protein HSP 90-alpha HSP90AA1 P07900 8 10 9\\n\\nEndoplasmin HSP90B1 P14625 9 9 9\\n\\nLarge neutral amino acids transporter small subunit 1 SLC7A5 Q01650 6 12 9\\n\\nKeratin, type II cuticular Hb1 KRT81 Q14533 10 8 9\\n\\nPutative helicase MOV-10 MOV10 Q9HCE1 8 10 9\\n\\nMicrotubule-associated protein 1B MAP1B P46821 6 11 8.5\\n\\nSpectrin beta chain, rocaglamide (100 nM) (Fig 5C) , further supporting a specific anti-LCMV activity of ouabain and rocaglamide that was not due to reduced cell viability.\\n\\nTo gain insights about the mechanisms by which ouabain and rocaglamide exert their anti-LCMV activity, we examined effects of these compounds on distinct steps of the LCMV life cycle. First, we asked whether ouabain and rocaglamide affected cell entry of LCMV. We conducted time-of-addition experiments in which we treated cells with ouabain or rocaglamide prior to virus inoculation (-1.5 h), at the time of inoculation (0 h), or 1.5 h pi (+1.5 h) (Fig 6A) .\\n\\nIn some samples, we used ammonium chloride starting at 4 h pi to block multiple rounds of virus infection. The timing of compound addition did not significantly change the number of eGFP-positive cells, indicating that neither ouabain nor rocaglamide inhibited cell entry of LCMV. The number of eGFP + cells in ouabain-treated cells was reduced at all time-of-addition points compared to vehicle dimethyl sulfoxide (DMSO)-treated cells, but was similar to that observed in ammonium chloride-treated cells. Thus, ouabain did not inhibit LCMV RNA replication and gene expression, but rather a late step of the LCMV life cycle. In contrast, rocaglamide treatment resulted in a negligible number of eGFP + cells, indicating that rocaglamide inhibited virus RNA replication and gene transcription.\\n\\nTo further investigate the effect of ouabain and rocaglamide on virus RNA synthesis, we infected A549 cells with a recombinant single-cycle infectious LCMV expressing eGFP (rLCMV\\u0394GPC/eGFP) and treated cells with either ouabain or rocaglamide. Seventy-two hours later, we determined percent normalized eGFP expression in infected cells (Fig 6B) . Consistent with our results from the time-of-addition experiment, ouabain did not affect reporter eGFP expression. However, rocaglamide reduced eGFP expression, confirming inhibitory effect of rocaglamide on virus RNA synthesis.\\n\\nWe also examined the effect of ouabain and rocaglamide on the late step of the arenavirus life cycle, Z-mediated budding. For this experiment, we transfected cells with Z-Strep-and Z-FLAG (DYKDDDDK epitope)-expressing plasmids from LCMV and LASV, respectively. At 24 h post-transfection, we removed the tissue culture supernatant (TCS) and washed extensively transfected cells to eliminate already budded Z. We cultured the transfected cells in the presence or absence of ouabain or rocaglamide. At 24 h, we determined by WB levels of Z protein in both whole cell lysates and associated with virus-like particles (VLPs) collected from TCS. Treatment with rocaglamide, but not with ouabain, caused a reduction in both LCMV and LASV Z budding efficiency (Fig 6C and 6D) . The reproducibility of these findings was confirmed based on results from four independent experiments (Fig 6E) . We also examined whether ouabain could interfere with a step of assembly of infectious progeny that was not captured by the Z budding assay through two additional experiments. The first experiment involved the use of a newly generated single-cycle infectious recombinant LCMV expressing the reporter gene ZsGreen (scrLCMV/ZsG-P2A-NP) to infect (MOI = 0.1) A549 cells (1 st infection). These cells were subsequently transfected with a plasmid expressing LCMV GPC. After 24 h, we used TCS to infect a fresh cell monolayer (2 nd infection) and identified infected cells based on ZsGreen expression. To assess the effect of ouabain on de novo assembly of infectious progeny we determined normalized ratios (2 nd /1 st infection) of ZsGreen + cells (Fig 6F) . The second experiment involved infection (MOI = 0.1) of cells with WT LCMV, and 48 h later we washed infected cells three times to remove the extracellular infectious progeny produced during the first 48 h of infection. Then, fresh media containing ouabain or DMSO vehicle control were added, and 24 h later we determined virus titers in TCS (Fig 6G) . Results from both experiments consistently showed that ouabain did not inhibit assembly de novo of extracellular infectious virus.\\n\\nCombination therapy can significantly alleviate the problem posed by the rapid emergence of drug-resistant variants commonly observed during monotherapy strategies to control RNA virus infections. Since ouabain and rocaglamide inhibited different steps of the LCMV life cycle, we examined whether their use in combination results in a synergistic anti-LCMV effect. For this experiment, we infected A549 cells with rLCMV/eGFP and treated them with ouabain and rocaglamide using different concentrations and combinations. At 48 h pi, we determined percent eGFP expression (Fig 7) . Combination treatment with ouabain and rocaglamide resulted in synergistic anti-LCMV activity that was enhanced under conditions using higher concentrations of ouabain and lower concentrations of rocaglamide.\\n\\nWe next asked whether the ATP1A1 and PHB host-cell factors contributed also to multiplication of viral hemorrhagic fever-causing LASV. We treated A549 cells with ouabain, bufalin, or rocaglamide and inoculated the treated cells with recombinant LASV expressing eGFP (rLASV/eGFP). eGFP expression was examined 48 h later. Similar to rLCMV infection, LASV multiplication was restricted in ouabain-, bufalin-, or rocaglamide-treated cells at concentrations minimally impacting cell viability, although their IC 50 values were slightly higher than those found with the LCMV infection system (Fig 5B and S2 Fig) as ouabain had IC 50 of 9.34 nM, bufalin had IC 50 of 1.66 nM and rocaglamide had IC 50 of 37.0 nM (Fig 8) . We also tested the effect of compounds targeting ATP1A1 and PHB on multiplication of JUNV. Consistent with our results obtained with LCMV and LASV, ouabain, bufalin, and rocaglamide strongly suppressed JUNV multiplication (S3 Fig). These findings indicate that ATP1A1 and PHB function as pro-viral factors of a range of mammarenaviruses. \\n\\nWe identified ATP1A1 and PHB as novel host-cell proteins that contribute to efficient multiplication of mammarenaviruses. Our approach using a recombinant LCMV expressing NP with an affinity tag facilitated defining the NP interactome in the context of LCMV infection. Recently, using an NP-specific monoclonal antibody (mAb) to precipitate NP and associated cellular protein partners in a mammarenavirus NP interactome, King et al. identified 348 host proteins that associated with LCMV NP [45] . We found 99 common proteins between our filtered LCMV NP interactome of 171 proteins and the LCMV NP interactome documented by King et al. Differences in both experimental conditions and analysis methodologies used to generate the LCMV NP interactome documented by King et al. and ours likely h post-transfection, cells were washed with fresh media to eliminate Z-mediated production of VLPs in the absence of compound treatment, and cultured for another 24 h in fresh media in the presence of ouabain or Roc-A at the indicated concentrations. VLPs present in TCS were collected by ultracentrifugation, and cell lysates were prepared. Z protein expression in VLPs and cell lysates were determined by western blots using antibodies to Strep-tag (C) and FLAG-tag (D). Budding efficiency for each sample was estimated by dividing the signal intensity of the Z protein associated with VLPs by that of Z detected in the cell lysate. Numbers on the bottom of panel C correspond to LCMV Z budding efficiencies determined in a representative experiment. Results shown in panel E correspond to the average and SD from four independent experiments including the one shown in panel D. The mean budding efficiency of DMSO treatedsamples was set to 100%. Data represent mean \\u00b1 SD of four independent experiments. (F) Effect of ouabain on incorporation of viral glycoprotein into virions. 293T cells seeded (4.0 x 10 5 cells/well) in a 12-well plate and cultured overnight were infected (MOI = 0.1) with scrLCMV/ZsG (1 st infection) for 2 h and subsequently transfected with 0.5 \\u03bcg of pC-GPC. At 24 h pi, cells were washed with fresh medium to eliminate infectious virus particle produced in the absence of compound treatment, and cultured for another 24 h in fresh media in the presence of ouabain at 40 nM (OUA). At 48 h pi, TCS was collected and used to infect fresh monolayer of BHK-21 cells (2 nd infection) seeded (4.0 x 10 5 cells/well) in a 12-well plate 1 day before the infection, and 293T cell lysate was prepared. 24 h later, BHK-21 cell lysate was prepared. ZsGreen signal intensity was measured by a fluorescent plate reader. GP-incorporation efficiency was estimated by dividing ZsGreen signal intensity in BHK-21 cell lysate (2 nd ) by that in 293T cell lysate (1 st ). The mean GP-incorporation efficiency of DMSO treated samples was set to 100%. Data represent means \\u00b1 SD from three independent experiments. contributed to the observed differences between data sets. Despite progress in the implementation of global proteomics-based screens to identify virus-host protein-protein interactions, overlap between datasets for the same viral system is usually limited. However, the substantial overlap of 99 of the 171 NP-interacting proteins from both studies supports the overall reliability of both systems. We used results of the eGFP-Strep interactome, determined in r3LCMV/eGFP-Strep-infected cells, as a control to filter out non-specific NP interactions, which may have resulted in a higher degree of stringency than in the study by King et al for selection of NP-interacting candidates. The combined information provided by the NP interactome reported by King et al. and the one we present in this work, will facilitate future studies to further characterize the functional and biological implications of NP-host cell interacting proteins.\\n\\nAll tested mammarenavirus NPs, with exception of the NP from TCRV, blocked IRF-3-dependent IFN-I induction [25, 46] . The anti-IFN activity of NP was mapped to its C-terminal part and linked to the 3'-5' exonuclease domain present with the NP C-terminal part [30] . Inhibitor-B kinase \\u03b5 (IKK\\u03b5) was identified as an NP-binding protein using plasmid-mediated overexpression in transfected cells [47] , and the NP-IKK\\u03b5 binding affinity correlated with NP's ability to inhibit IFN-I induction [47] . We, as well as the work by King et al. [45] , did not detect this NP-IKK\\u03b5 interaction. This discrepancy may have been caused by very low expression of IKK\\u03b5 in LCMV-infected cells, which prevented detection of IKK\\u03b5 by LC-MS/MS. Alternatively, NP-IKK\\u03b5 interaction could possibility be temporarily regulated and take place at early times pi, but could be mostly absent at 48 h pi, the time at which we prepared the cell lysates for our proteomics studies. Future studies comparing the NP interactome at different times during infection will contribute to a better understanding of the dynamics of NP/hostcell protein interactions.\\n\\nNa + /K + -ATPase is a well-characterized membrane ion transporter and is composed of two functional subunits (\\u03b1 and \\u03b2) and one regulatory \\u03b3 subunit [48] . ATP1A1 represents one of four \\u03b1 subunits [49, 50] . Recent evidence has suggested that the Na + /K + -ATPase is involved in multiple cell signaling pathways that are independent of its ion-pumping function [51] . Cardiac glycoside inhibitors of the Na + /K + -ATPase (NKA), so-called cardiotonic steroids (CST; e.g., ouabain, bufalin), have been shown to inhibit multiplication of different viruses including Ebola virus [35], coronaviruses [36], herpes simplex virus 1 [52, 53] , CHIKV [54] , human immunodeficiency virus 1 (HIV-1) [55] , adenovirus [56] and porcine reproductive and respiratory syndrome virus 1 [57] .\\n\\nDifferent mechanisms are likely to contribute to the antiviral activity of CSTs, including altered cell functions modulated by the signaling activity of Na + /K + -ATPase [58] . Thus, a low concentration of ouabain induces a conformational change in ATP1A1 that results in activation and release of proto-oncogene tyrosine protein kinase, Src, from ATP1A1, followed by activation of as yet unknown downstream signaling that inhibits, for instance, cell entry of murine hepatitis virus (MHV) [59] . However, our results indicated that ouabain did not interfere with LCMV cell entry. In addition, treatment with the Src inhibitor 4-amino-5-(4-methylphenyl)-7-(t-butyl)pyrazolo [3,4-d] pyrimidine (PP1) did not counteract the anti-LCMV activity of ouabain (S4 Fig). Nevertheless, ATP1A1-mediated Src signaling could plausibly contribute to the inhibitory effect of ouabain on JUNV multiplication as similarly to that observed with MHV. Moreover, cell entry of JUNV occurs also by clathrin-mediated endocytosis [60] , a process affected by Src signaling. Ouabain has been clinically used in several European countries for the management of congestive heart failure, whereas bufalin has been tested in clinical trials for cancer treatments [61] , and the CST digoxin has been FDA-approved since 1997 to treat heart failure and atrial fibrillation. Hence, opportunities for the repurposing CSTs have potential as therapeutics to treat infections caused by viral hemorrhagic fever-causing arenaviruses.\\n\\nThe PHB inhibitor, rocaglamide, appeared to interfere with LCMV RNA synthesis and budding, but did not affect LCMV cell entry. In contrast, PHB was reported to be a cell entry receptor for DENV-2 [39] and CHIKV [40] . On the other hand, PHB did not act as a virus cell entry receptor for HCV. Rather, PHB contributed to HCV cell entry through binding to cellular RAF (c-Raf; proto-oncogene serine/threonine-protein kinase) and subsequent Harvey rat sarcoma proto-oncogene (HRas) activation that induces a signal transduction pathway required for epidermal growth factor receptor (EGFR)-mediated HCV cell entry [37] . In addition, siRNA-mediated kd of PHB decreased production of H5N1 FLUAV [38] . These findings indicate that PHB is involved in different steps of the life cycle of a variety of viruses, and thereby an attractive target for the development of broad-spectrum antiviral drugs.\\n\\nRocaglate is a group of natural compounds, which includes rocaglamide, that inhibits protein synthesis by targeting the ATP-dependent DEAD-box RNA helicase eukaryotic initiation factor 4A (eIF4A) and exerts anti-tumor activity [62, 63] . The rocaglate compound, silvestrol, inhibits Ebola virus multiplication likely by interfering with the role of eIF4A in viral protein translation [64] .\\n\\nWhile we focused on two host proteins, ATP1A1 and PHB, in this study, our proteomics approach also identified several NP-interacting host-cell proteins whose kd expression via siRNA resulted in increased LCMV multiplication. These proteins, which included MAP1B, might have anti-LCMV activity. MAP1B has been shown to bind to nonstructural proteins 1 (NS1) and 2 (NS2) of human respiratory syncytial virus (HRSV) [34] . NS1 and NS2 of HRSV antagonizes host IFN-I response by reducing the levels of TNF receptor associated factor (TRAF3), IKK\\u03b5 (NS1), and STAT2 (NS2) [65] . NS2-MAP1B interaction interfered with HRSV NS2's ability to reduce levels of STAT2, whereas the role of NS1-MAP1B interaction remains to be determined [34] . Examining the role of NP-MAP1B interaction in modulating NP's ability to inhibit induction of type I IFN is of interest.\\n\\nWe identified among the NP-interacting host cell proteins the RNA helicase Moloney leukemia virus 10 (MOV10), which has been reported to be an antiviral factor for FLUAV [66] , retroviruses [67] [68] [69] [70] [71] , and DENV-2 [72] . We did not observe increased LCMV multiplication in cells subjected to siRNA-mediated kd of MOV10, a finding that would question an anti-LCMV activity of MOV10. However, we consider that LCMV has already optimal multiplication in A549 cells and further increases may occur only under rather unique conditions. MOV10 was shown to enhance IRF-3-mediated IFN-I induction following SeV infection through a tank binding kinase 1 (TBK1)-independent and IKK\\u03b5-dependent manner. This finding was further supported by demonstrating MOV10-IKK\\u03b5 interaction by co-immunoprecipitation studies [73] . We documented that the anti-IFN activity of mammarenavirus NP correlated with its ability to interact with IKK\\u03b5 [47] . Whether NP-MOV10 interaction prevents MOV10 from enhancing IRF-3-mediated IFN-I induction remains to be determined.\\n\\nSeveral members of the mammalian chaperonin-containing T-complex (CCT) were identified as prominent hits in our NP interactome. The mammalian CCT is critical for folding of many proteins with important functions in diverse cellular processes [74] , and may protect complex protein topologies within its central cavity during biosynthesis and folding [75] . The contribution of CCT members to NP assembly into a nucleocapsid structure could account for their presence in the NP, but not eGFP, interactome. Interestingly, members of the CCT have been implicated in multiplication of different viruses including rabies virus [76, 77] , HCV [78] and FLUAV [79] . However, the role of these CCT proteins in virus multiplication remains unknown and may involve functions other than acting as molecular chaperones.\\n\\nPrevious studies documented the presence of several components of the of eIF4F, including 4A, within viral replication-transcription complexes (RTC) detected in cells infected with LCMV [80] and TCRV [81] . These findings, together with the detection of a number of ribosomal proteins in the NP interactome, suggest that translation of viral mRNAs may take place within RTC. However, rocaglamide interference with the activity of eIF4A within the viral RTC might contribute to its anti-LCMV activity.\\n\\nIn this work, we documented the generation of rLCMV/Strep-NP and its use to define the NP-interactome in infected cells. We presented evidence that ATP1A1 and PHB contribute to efficient multiplication of mammarenaviruses using genetics and pharmacological inhibition of the genes. Consistent with our findings, bioinformatic analysis revealed that the protein network associated with ATP1A1 and PHB involves host cell proteins with functions in biological processes that have been implicated in virus multiplication (S5 Fig). The overall experimental approach described here can facilitate the identification of biologically relevant NP-interacting host-cell proteins. Future studies elucidating the roles of pro-and antiviral host-cell factors identified in this study in mammarenavirus multiplication will advance our understanding of the multiple functions of NP and uncover novel cellular targets for the development of antimammarenaviral drugs. In addition, by identifying proviral host-cell factors, drugs that are already approved can be repurposing as therapeutics to combat human pathogenic mammarenavirus infections.\\n\\nBaby hamster kidney BHK-21 (American Type Culture Collection, ATCC, CCL-10), house mouse L929 (ATCC CCL-1), grivet Vero E6 (ATCC CRL-1586), human A549 (ATCC CCL-185), and human HEK 293T (ATCC CRL-3216) cells were grown in Dulbecco's modified Eagle's medium (Thermo Fisher Scientific, Waltham, MA) containing 10% heat-inactivated fetal bovine serum, 2 mM of L-glutamine, 100 mg/ml of streptomycin, and 100 U/ml of penicillin at 37\\u02daC and 5% CO 2 .\\n\\nWT recombinant LCMVs, Armstrong (rLCMV ARM) and clone-13 (rLCMV Cl-13) strains, were generated as described [30, 82, 83] . Generation of rLCMV/NP(D382A) and SeV, strain Cantell, was described [30, 82, 83 ]. An rLCMV lacking GPC and expressing eGFP (rLCMV\\u0394GPC/eGFP) was generated by reverse genetics using procedures previously described [84] . rLCMV/Strep-NP and r3LCMV/eGFP-Strep were generated by reverse genetics using similar procedures to generate WT rLCMV and tri-segmented LCMV (r3LCMV) expressing eGFP [30] . For the generation of these novel rLCMVs, we created pol1S Cl-13 plasmids that directed Pol1-mediated intracellular synthesis of recombinant LCMV S genome RNA species coding for Strep-tagged NP or eGFP, respectively (Fig 1A and 1B) . The rLCMV expressing eGFP (rLCMV/eGFP) was generated as described [85] , and the rLCMV expressing ZsGreen (rLCMV/ZsG) instead of eGFP was generated by reverse genetics using similar procedures to generate rLCMV/eGFP. Generation of rLASV expressing eGFP (rLASV/eGFP) will be described elsewhere. A tri-segmented recombinant live-attenuated Candid #1 strain of JUNV expressing eGFP (r3JUNV/eGFP) was generated as described [86] . For the generation of a novel single cycle rLCMV expressing ZsGreen (scrLCMV/ZsG-P2A-NP), a pol1S plasmid was created by omitting GPC open reading frame (ORF) from pol1S plasmid used for the generation of rLCMV/ZsG. scrLCMV/ZsG-P2A-NP was rescued by reverse genetics using similar procedures to generate rLCMV\\u0394GPC/eGFP [84] .\\n\\nLCMV titers were determined by immunofocus forming assay (IFFA) as described [87] . Briefly, 10-fold serial virus dilutions were used to infect Vero E6 cell monolayers in a 96-well plate, and at 20 h pi, cells were fixed with 4% paraformaldehyde (PFA) in phosphate-buffered saline (PBS). After cell permeabilization by treatment with dilution buffer (DB) (0.3% Triton X-100 in PBS-containing 3% bovine serum albumin [BSA]), cells were stained with a rat mAb to NP (VL-4, Bio X Cell, West Lebanon, NH) conjugated with Alexa Fluor 488 (VL-4-AF488, Protein Labeling Kit, Life Technologies, Carlsbad, CA). VSV titers were determined by a plaque assay.\\n\\nTotal cell lysates were prepared in PD lysis buffer (+) (250 mM of NaCl, 50 mM of Tris-HCl [pH = 7.5], 0.5% TritonX-100, 10% glycerol, 1 mM of MgCl 2 , 1 \\u03bcM of CaCl 2 , 1 \\u03bcM of ZnCl 2 ) and clarified by centrifugation at 21,130 x g at 4\\u02daC for 10 min. Clarified lysates were mixed at a 1:1 ratio with loading buffer (100 mM of Tris [pH 6.8], 20% 2-mercaptoethanol, 4% SDS, 0.2% bromophenol blue, 20% glycerol) and boiled for 5 min. Proteins samples were fractionated by SDS-PAGE using 4-20% gradient polyacrylamide gels (Mini-PROTEAN TGX gels 4-20%, Bio-Rad, Hercules, CA), and proteins were transferred by electroblotting onto polyvinylidene difluoride membranes (Immobilin Transfer Membranes, Millipore, Billerica, MA). To detect Strep-tagged proteins, membranes were reacted with mouse monoclonal antibodies to Strep (QIAGEN, Germantown, MD), eGFP (Takara Bio USA, Mountain View, CA), GP 2 (We33/ 36), ATP1A1 (TehrmoFisher Scientific, Rockford, IL), PHB (Abcam, Cambridge, MA) or rabbit polyclonal antibodies to \\u03b1-tubulin (Cell Signaling Technologies, Danvers, MA) or glyceraldehyde-3-phosphate dehydrogenase (GAPDH, Millipore), respectively, followed by incubation with appropriate horseradish peroxidase-conjugated anti-mouse or anti-rabbit immunoglobulin G (IgG) antibodies (Jackson ImmunoResearch Laboratories, West Grove, PA). SuperSignal West Pico or Femto chemiluminescent substrate (Thermo Fisher Scientific) was used to elicit chemiluminescent signals that were visualized using ImageQuant LAS 4000 Imager (GE Healthcare Bio-Sciences, Pittsburgh, PA).\\n\\nPull down of strep-tagged proteins from infected cell lysate. A549 cells prepared in six 15-cm dishes (approximately 1.0 x 10 8 cells in total) were infected with either rLCMV/Strep-NP or r3LCMV/eGFP at an MOI of 0.1. At 48 h pi, cells were washed three times with ice-cold PBS, scraped into fresh ice-cold PBS, and centrifuged at 400 x g at 4\\u02daC for 10 min. Supernatant was removed, and cells were lysed with 12 ml of PD lysis buffer (+) supplemented with halt protease and phosphatase inhibitor cocktail (Thermo Fisher Scientific) and 5 \\u03bcg/ml of deoxyribonuclease I (Worthington Biochemical Corporation, Lakewood, NJ). Lysate was clarified by centrifugation at 3,900 x g at 4\\u02daC for 30 min to remove cell debris. Clarified cell lysate was then incubated with strep-tactin sepharose resin (QIAGEN) at 4\\u02daC. After 2 h of incubation, the resin was washed three times with PD lysis buffer (+) and once with PD lysis buffer without TritonX-100 (PD lysis buffer [-] ). After the centrifugation at 1,600 x g and 4\\u02daC for 5 min, the last wash buffer was removed, and protein complexes associated with the resin were eluted into 2 ml of PD lysis buffer (-) containing 2.5 mM of desthiobiotin. The eluate was then subjected to TCA precipitation followed by trypsin digestion.\\n\\nMultidimensional protein identification technology microcolumn. A MudPIT microcolumn was prepared by first creating a Kasil frit at one end of an un-deactivated 250-\\u03bcm outside diameter (OD) capillary tube (interior diameter of 360 \\u03bcm)(Agilent Technologies, Inc., Santa Clara, CA). The Kasil frit was prepared by briefly dipping a 20-30-cm capillary tube in 300 \\u03bcl of Kasil 1624 potassium silicate well-mixed solution (PQ Corporation, Malvern, PA) and 100 \\u03bcl of formamide, curing at 100\\u02daC for 4 h, and cutting the frit to a length of %2 mm. Strong cation exchange particles (SCX Luna, 5-\\u03bcm diameter, 125 \\u00c5 pores, Phenomenex, Torrance, CA) were packed in-house from particle slurries in methanol to 2.5 cm. Reversed phase particles (2 cm, C18 Aqua, 3-\\u03bcm diameter, 125 \\u00c5 pores, Phenomenex) were then successively packed onto the capillary tube using the same method as SCX loading.\\n\\nMudPIT analysis. An analytical reversed-phase liquid chromatography column was generated by pulling a 100-\\u03bcm (interior diameter (ID) of 360 \\u03bcm) OD capillary tube (Polymicro Technologies, Phoenix, AZ) to 5-\\u03bcm ID tip. Reversed-phase particles (Luna C18, 3-\\u03bcm diameter, 125 \\u00c5 pores, Phenomenex) were packed directly into the pulled column at 5.5 mPa until 15 cm long. The column was further packed, washed, and equilibrated at 10 mPa with buffer B (80% acetonitrile, 0.1% formic acid) followed by buffer A (5% acetonitrile and 0.1% formic acid). MudPIT and analytical columns were assembled using a zero-dead volume union (Upchurch Scientific, Oak Harbor, WA). LC-MS/MS analysis was performed with an Agilent high-pressure LC pump (Agilent) and linear quadrupole ion dual cell trap Orbitrap Velos (Thermo) using an in-house built electrospray stage. Electrospray was performed directly from the analytical column by applying the electrospray ionization (ESI) voltage at a tee (150 \\u03bcm ID, Upchurch Scientific) directly downstream of a 1:1,000 split flow to reduce the flow rate to 300 nl/min through the columns. MudPIT experiments (10-step) were performed in which each step corresponds to 0, 10, 20, 40, 50, 60, 70, 80, 90 , and 100% buffer C (500 mM of ammonium acetate, 0.1% formic acid, and 5% acetonitrile) and was run for 3 min at the beginning of a 110-min gradient.\\n\\nData analysis. Protein and peptide identification were performed with Integrated Proteomics Pipeline-IP2 (Integrated Proteomics Applications, San Diego, CA. http://www. integratedproteomics.com/) using ProLuCID and DTASelect2 algorithms. DTASelect parameters were-p 2 -y 1-trypstat-pfp .01 -extra-pI-DB-dm-in. Spectrum raw files were extracted into ms2 files from raw files using open source RawExtract 1.9.9 (Scripps Research Institute, La Jolla, CA; http://fields.scripps.edu/downloads.php), and the tandem mass spectra were searched against a human protein database (UniprotKB). To accurately estimate peptide probabilities and false discovery rates, we used a decoy database containing the reversed sequences of all the proteins appended to the target database. Tandem mass spectra were matched to sequences using the ProLuCID algorithm with a 600-ppm peptide mass tolerance. ProLuCID searches were done on an Intel Xeon cluster processor running under the Linux operating system. The search space included half and fully tryptic peptide candidates that fell within the mass tolerance window with no miscleavage constraint. Carbamidomethylation (+57.02146 Da) of cysteine was considered as a static modification. siRNA screening A549 cells (1,000 cells/well) in a 384-well plate were reverse transfected with 0.5 pmol of siRNA pool (S2 Table) targeting each gene using 0.1 \\u03bcl of Lipofectamine RNAiMAX (Thermo Fisher Scientific) (final siRNA concentration was 10 nM), followed by incubation at 37\\u02daC and 5% CO 2 . At 72 h post-transfection, cells were infected (MOI = 0.05) with rLCMV/ZsG. siRNA target host-cell proteins were selected based on availability of validated siRNA sequences. The siRNAs we used to examine the effects on LCMV multiplication of knockdown expression of NP-interacting host cell protein candidate hits corresponded to the Genome-wide ON TAR-GET-Plus (OTP) Human siRNA library (18,301 genes, 4 siRNAs/gene; Dharmacon, Lafayette, CO).\\n\\nA549 cells (3.0 x 10 4 cells/well) were reverse transfected in a 24-well plate with 6 pmol of siRNA pools targeting each gene using 1 \\u03bcl of Lipofectamine RNAiMAX (final siRNA concentration is 10 nM). At 72 h post-transfection, total cell lysate was prepared in modified lysis A buffer (25 mM Tris-HCl [pH = 8.0], 50 mM NaCl, 1%Triton X-100, 1.25% sodium deoxycholate) and clarified by centrifugation at 21,130 x g at 4\\u02daC for 10 min. The total protein concentration of clarified cell lysate was measured by Pierce BCA Protein Assay Kit (Thermo Fisher Scientific). The same amount of protein from each sample was subjected to SDS-PAGE, and the protein expression of siRNA-targeted genes was analyzed by western blots.\\n\\nCells infected with eGFP-or ZsGreen-expressing rLCMV were fixed with 4% PFA in PBS. After cell permeabilization by treatment with DB, cells were stained with 4',6-diamidino-2-phenylindole (DAPI). Green fluorescence (eGFP or ZsGreen) and DAPI signals were measured by a fluorescent plate reader (Synergy H4 Hybrid Multi-Mode Microplate Reader, Bio-Tek, Winooski, VT).\\n\\nMock-and virus-infected cells were fixed with 4% PFA. After cell permeabilization and blocking by treatment with DB containing 1% normal goat serum, cells were incubated with primary mouse anti ATP1A1 or PHB antibody followed by secondary anti-mouse IgG antibody conjugated with Alexa Fluore 568 (anti-mouse IgG-AF568). Subsequently, cells were stained with VL-4-AF488. In some samples, primary antibody against ATP1A1 or PHB was omitted to determine background fluorescence. To visualize nuclei, DAPI Fluoromount-G (SouthernBiotech, Birmingham, AL) was used to mount coverslips on a slide glass. Stained cells were observed under a confocal microscope (LSM 710, Zeiss) and data analyzed by ZEN software (Zeiss). Co-localization analysis was performed on a pixel by pixel basis using Zen software (Zeiss). Eight green (NP-positive) cells were marked and every pixel in the marked area was plotted in the scatter diagram based on its intensity level from each channel. Thresholds for green and red channels were determined using mock-infected cells stained with VL-4-AF488 (anti-NP) and anti-mouse IgG antibody conjugated with Alexa Fluor 568, without using anti-ATP1A1 or -PHB antibodies. Each pixel was assigned a value of 1. Co-localization coefficients (CC) (or non-weighted CC) were determined by dividing the sum of both green-and red-positive pixels by the sum of green positive pixels. This calculation was repeated for eight individual cells. To assess the specificity of co-localization, we determined weighted CC by taking into consideration the brightness of each channel signal. Comparison of non-weighted and weighted CC allowed us to determine whether brighter pixels were present in the co-localized regions compared to the non-co-localized regions. p values were determined by a two-tailed paired t test using GraphPad Prism software.\\n\\nA549 or Vero E6 cells seeded (2.0 x 10 4 cells/well) in a 96-well plate and cultured overnight were treated with 3-fold serial compound dilutions at 37\\u02daC and 5% CO 2 for 2 h, followed by infection with rLCMV/eGFP (MOI = 0.01). Compounds were present to study endpoint. At 48 h pi, cells were fixed with 4% PFA in PBS, and eGFP expression was examined by a fluorescent plate reader (Synergy H4 Hybrid Multi-Mode Microplate Reader, BioTek). Mean values obtained with DMSO-treated and rLCMV/eGFP-infected cells were set to 100%. The IC 50 concentrations were determined using GraphPad Prism.\\n\\nA549 or Vero E6 cells seeded in a 96-well plate (2.0 x 10 4 cells/well) and cultured overnight were treated with 3-fold serial compound dilutions and cultured at 37\\u02daC and 5% CO 2 for 48 h. Then, CellTiter 96 AQ ueous one solution reagent (Promega, Madison, WI) was added. Thereafter, the assay was performed according to the manufacturer's recommendations, and the absorbance (490 nm) was obtained using an enzyme-linked immunosorbent assay (ELISA) reader (SPECTRA max plus 384; Molecular Devices, Sunnyvale, CA). Mean values obtained with DMSO-treated cells were set to 100%. The CC 50 concentrations were determined using GraphPad Prism. \\n\\nA plasmid expressing C-terminus Strep-tagged Z protein (pC-LCMV-Z-Strep) was generated using similar procedure to generate a plasmid expressing C-terminus FLAG-tagged LASV Z protein (pC-LASV-Z-FLAG), and the budding assay was performed as previously described [88] . Cells (HEK 293T) in a 12-well plate were transfected with 0.5 \\u03bcg of empty pCAGGS vector or pC-LCMV-Z-Strep or pC-LASV-Z-FLAG using Lipofectamine 2000. At 5 h post-transfection, media were replaced with fresh media and incubated at 37\\u02daC and 5% CO 2 for 19 h. Then the cells were three times washed with fresh medium. After the removal of the last wash medium, cells were cultured in fresh medium containing ouabain (30 or 40 nM) or rocaglamide (50 or 100 nM) or equivalent concentration of DMSO, and 24 h later, virion-like particle (VLP)-containing TCS and cells were collected. Total cell lysate was prepared by lysing the cells with lysis buffer (1% NP-40, 50 mM of Tris-HCl [pH 8.0], 62.5 mM NaCl, 0.4% sodium deoxycholate). After clarification of TCS from cell debris by centrifugation at 400 x g and 4\\u02daC for 10 min, VLPs were collected by ultracentrifugation at 100,000 x g and 4\\u02daC for 30 min through a 20% sucrose cushion. VLPs were resuspended in PBS, and Z expression in total cell lysate and TCS (containing VLPs) were analyzed by western blots.\\n\\nA549 cells infected with rLCMV/eGFP were harvested using Accutase cell detachment solution (Innovative Cell Technologies, San Diego, CA) and fixed with 4% PFA in PBS. eGFP expression was examined by flow cytometry using a BD LSR II (Becton Dickson), and data were analyzed with FlowJo (Tree Star, Inc., Ashland, OR).\\n\\n293T cells seeded (4.0 x 10 5 cells/well) in a 12-well plate and cultured overnight were infected with scrLCMV/ZsG-P2A-NP for 2 h and subsequently transfected with 0.5 \\u03bcg of pC-GPC. At 24 h pi, cells were three times washed with fresh media to eliminate infectious virus particle produced in the absence of compound treatment, and cultured for another 24 h in fresh media in the presence of 40 nM of ouabain or vehicle control (DMSO). At 48 h pi, TCS was collected and used to infect fresh monolayers of BHK-21 cells seeded (4.0 x 10 5 cells/well) in a 12-well plate 1 day before the infection, and 293T cell lysate was prepared. 24 h later, BHK-21 cell lysate was prepared. Total cell lysate was prepared in cell lysis buffer (150 mM of NaCl, 50 mM of Tris-HCl [pH = 7.5], 0.5% [NP-40], 1 mM of EDTA] and clarified by centrifugation at 21,130 x g at 4\\u02daC for 10 min. ZsGreen signal intensity in clarified cell lysate was measured by a fluorescent plate reader (Synergy H4 Hybrid Multi-Mode Microplate Reader, BioTek).\\n\\nA549 cells seeded (2 x 10 5 cells/well) in a 96-well plate and cultured overnight were treated with combinations of different concentrations of ouabain and rocaglamide for 2 h and then infected (MOI = 0.01) with rLCMV/eGFP. Compounds were present in the culture medium throughout the experiment. At 48 h pi, cells were fixed, permeabilized by treatment with DB, and stained with DAPI. eGFP and DAPI signals were measured by a fluorescent plate reader (Synergy H4 Hybrid Multi-Mode Microplate Reader, BioTek). eGFP readouts were normalized by DAPI readouts, and normalized data were used to analyze synergistic effect of the two compounds by the MacSynergy II program [89] .\\n\\nData were analyzed for p values by a two-tailed unpaired t test using GraphPad Prism software.\",\n          \"Respiratory Viral Infections in Exacerbation of Chronic Airway Inflammatory Diseases: Novel Mechanisms and Insights From the Upper Airway Epithelium\\n\\nhttps://www.ncbi.nlm.nih.gov/pmc/articles/PMC7052386/\\n\\nSHA: 45a566c71056ba4faab425b4f7e9edee6320e4a4\\n\\nAuthors: Tan, Kai Sen; Lim, Rachel Liyu; Liu, Jing; Ong, Hsiao Hui; Tan, Vivian Jiayi; Lim, Hui Fang; Chung, Kian Fan; Adcock, Ian M.; Chow, Vincent T.; Wang, De Yun\\nDate: 2020-02-25\\nDOI: 10.3389/fcell.2020.00099\\nLicense: cc-by\\n\\nAbstract: Respiratory virus infection is one of the major sources of exacerbation of chronic airway inflammatory diseases. These exacerbations are associated with high morbidity and even mortality worldwide. The current understanding on viral-induced exacerbations is that viral infection increases airway inflammation which aggravates disease symptoms. Recent advances in in vitro air-liquid interface 3D cultures, organoid cultures and the use of novel human and animal challenge models have evoked new understandings as to the mechanisms of viral exacerbations. In this review, we will focus on recent novel findings that elucidate how respiratory viral infections alter the epithelial barrier in the airways, the upper airway microbial environment, epigenetic modifications including miRNA modulation, and other changes in immune responses throughout the upper and lower airways. First, we reviewed the prevalence of different respiratory viral infections in causing exacerbations in chronic airway inflammatory diseases. Subsequently we also summarized how recent models have expanded our appreciation of the mechanisms of viral-induced exacerbations. Further we highlighted the importance of the virome within the airway microbiome environment and its impact on subsequent bacterial infection. This review consolidates the understanding of viral induced exacerbation in chronic airway inflammatory diseases and indicates pathways that may be targeted for more effective management of chronic inflammatory diseases.\\n\\nText: The prevalence of chronic airway inflammatory disease is increasing worldwide especially in developed nations (GBD 2015 Chronic Respiratory Disease Collaborators, 2017 Guan et al., 2018) . This disease is characterized by airway inflammation leading to complications such as coughing, wheezing and shortness of breath. The disease can manifest in both the upper airway (such as chronic rhinosinusitis, CRS) and lower airway (such as asthma and chronic obstructive pulmonary disease, COPD) which greatly affect the patients' quality of life (Calus et al., 2012; Bao et al., 2015) . Treatment and management vary greatly in efficacy due to the complexity and heterogeneity of the disease. This is further complicated by the effect of episodic exacerbations of the disease, defined as worsening of disease symptoms including wheeze, cough, breathlessness and chest tightness (Xepapadaki and Papadopoulos, 2010) . Such exacerbations are due to the effect of enhanced acute airway inflammation impacting upon and worsening the symptoms of the existing disease (Hashimoto et al., 2008; Viniol and Vogelmeier, 2018) . These acute exacerbations are the main cause of morbidity and sometimes mortality in patients, as well as resulting in major economic burdens worldwide. However, due to the complex interactions between the host and the exacerbation agents, the mechanisms of exacerbation may vary considerably in different individuals under various triggers. Acute exacerbations are usually due to the presence of environmental factors such as allergens, pollutants, smoke, cold or dry air and pathogenic microbes in the airway (Gautier and Charpin, 2017; Viniol and Vogelmeier, 2018) . These agents elicit an immune response leading to infiltration of activated immune cells that further release inflammatory mediators that cause acute symptoms such as increased mucus production, cough, wheeze and shortness of breath. Among these agents, viral infection is one of the major drivers of asthma exacerbations accounting for up to 80-90% and 45-80% of exacerbations in children and adults respectively (Grissell et al., 2005; Xepapadaki and Papadopoulos, 2010; Jartti and Gern, 2017; Adeli et al., 2019) . Viral involvement in COPD exacerbation is also equally high, having been detected in 30-80% of acute COPD exacerbations (Kherad et al., 2010; Jafarinejad et al., 2017; Stolz et al., 2019) . Whilst the prevalence of viral exacerbations in CRS is still unclear, its prevalence is likely to be high due to the similar inflammatory nature of these diseases (Rowan et al., 2015; Tan et al., 2017) . One of the reasons for the involvement of respiratory viruses' in exacerbations is their ease of transmission and infection (Kutter et al., 2018) . In addition, the high diversity of the respiratory viruses may also contribute to exacerbations of different nature and severity (Busse et al., 2010; Costa et al., 2014; Jartti and Gern, 2017) . Hence, it is important to identify the exact mechanisms underpinning viral exacerbations in susceptible subjects in order to properly manage exacerbations via supplementary treatments that may alleviate the exacerbation symptoms or prevent severe exacerbations.\\n\\nWhile the lower airway is the site of dysregulated inflammation in most chronic airway inflammatory diseases, the upper airway remains the first point of contact with sources of exacerbation. Therefore, their interaction with the exacerbation agents may directly contribute to the subsequent responses in the lower airway, in line with the \\\"United Airway\\\" hypothesis. To elucidate the host airway interaction with viruses leading to exacerbations, we thus focus our review on recent findings of viral interaction with the upper airway. We compiled how viral induced changes to the upper airway may contribute to chronic airway inflammatory disease exacerbations, to provide a unified elucidation of the potential exacerbation mechanisms initiated from predominantly upper airway infections.\\n\\nDespite being a major cause of exacerbation, reports linking respiratory viruses to acute exacerbations only start to emerge in the late 1950s (Pattemore et al., 1992) ; with bacterial infections previously considered as the likely culprit for acute exacerbation (Stevens, 1953; Message and Johnston, 2002) . However, with the advent of PCR technology, more viruses were recovered during acute exacerbations events and reports implicating their role emerged in the late 1980s (Message and Johnston, 2002) . Rhinovirus (RV) and respiratory syncytial virus (RSV) are the predominant viruses linked to the development and exacerbation of chronic airway inflammatory diseases (Jartti and Gern, 2017) . Other viruses such as parainfluenza virus (PIV), influenza virus (IFV) and adenovirus (AdV) have also been implicated in acute exacerbations but to a much lesser extent (Johnston et al., 2005; Oliver et al., 2014; Ko et al., 2019) . More recently, other viruses including bocavirus (BoV), human metapneumovirus (HMPV), certain coronavirus (CoV) strains, a specific enterovirus (EV) strain EV-D68, human cytomegalovirus (hCMV) and herpes simplex virus (HSV) have been reported as contributing to acute exacerbations . The common feature these viruses share is that they can infect both the upper and/or lower airway, further increasing the inflammatory conditions in the diseased airway (Mallia and Johnston, 2006; Britto et al., 2017) .\\n\\nRespiratory viruses primarily infect and replicate within airway epithelial cells . During the replication process, the cells release antiviral factors and cytokines that alter local airway inflammation and airway niche (Busse et al., 2010) . In a healthy airway, the inflammation normally leads to type 1 inflammatory responses consisting of activation of an antiviral state and infiltration of antiviral effector cells. This eventually results in the resolution of the inflammatory response and clearance of the viral infection (Vareille et al., 2011; Braciale et al., 2012) . However, in a chronically inflamed airway, the responses against the virus may be impaired or aberrant, causing sustained inflammation and erroneous infiltration, resulting in the exacerbation of their symptoms (Mallia and Johnston, 2006; Dougherty and Fahy, 2009; Busse et al., 2010; Britto et al., 2017; Linden et al., 2019) . This is usually further compounded by the increased susceptibility of chronic airway inflammatory disease patients toward viral respiratory infections, thereby increasing the frequency of exacerbation as a whole (Dougherty and Fahy, 2009; Busse et al., 2010; Linden et al., 2019) . Furthermore, due to the different replication cycles and response against the myriad of respiratory viruses, each respiratory virus may also contribute to exacerbations via different mechanisms that may alter their severity. Hence, this review will focus on compiling and collating the current known mechanisms of viral-induced exacerbation of chronic airway inflammatory diseases; as well as linking the different viral infection pathogenesis to elucidate other potential ways the infection can exacerbate the disease. The review will serve to provide further understanding of viral induced exacerbation to identify potential pathways and pathogenesis mechanisms that may be targeted as supplementary care for management and prevention of exacerbation. Such an approach may be clinically significant due to the current scarcity of antiviral drugs for the management of viral-induced exacerbations. This will improve the quality of life of patients with chronic airway inflammatory diseases.\\n\\nOnce the link between viral infection and acute exacerbations of chronic airway inflammatory disease was established, there have been many reports on the mechanisms underlying the exacerbation induced by respiratory viral infection. Upon infecting the host, viruses evoke an inflammatory response as a means of counteracting the infection. Generally, infected airway epithelial cells release type I (IFN\\u03b1/\\u03b2) and type III (IFN\\u03bb) interferons, cytokines and chemokines such as IL-6, IL-8, IL-12, RANTES, macrophage inflammatory protein 1\\u03b1 (MIP-1\\u03b1) and monocyte chemotactic protein 1 (MCP-1) (Wark and Gibson, 2006; Matsukura et al., 2013) . These, in turn, enable infiltration of innate immune cells and of professional antigen presenting cells (APCs) that will then in turn release specific mediators to facilitate viral targeting and clearance, including type II interferon (IFN\\u03b3), IL-2, IL-4, IL-5, IL-9, and IL-12 (Wark and Gibson, 2006; Singh et al., 2010; Braciale et al., 2012) . These factors heighten local inflammation and the infiltration of granulocytes, T-cells and B-cells (Wark and Gibson, 2006; Braciale et al., 2012) . The increased inflammation, in turn, worsens the symptoms of airway diseases.\\n\\nAdditionally, in patients with asthma and patients with CRS with nasal polyp (CRSwNP), viral infections such as RV and RSV promote a Type 2-biased immune response (Becker, 2006; Jackson et al., 2014; Jurak et al., 2018) . This amplifies the basal type 2 inflammation resulting in a greater release of IL-4, IL-5, IL-13, RANTES and eotaxin and a further increase in eosinophilia, a key pathological driver of asthma and CRSwNP (Wark and Gibson, 2006; Singh et al., 2010; Chung et al., 2015; Dunican and Fahy, 2015) . Increased eosinophilia, in turn, worsens the classical symptoms of disease and may further lead to life-threatening conditions due to breathing difficulties. On the other hand, patients with COPD and patients with CRS without nasal polyp (CRSsNP) are more neutrophilic in nature due to the expression of neutrophil chemoattractants such as CXCL9, CXCL10, and CXCL11 (Cukic et al., 2012; Brightling and Greening, 2019) . The pathology of these airway diseases is characterized by airway remodeling due to the presence of remodeling factors such as matrix metalloproteinases (MMPs) released from infiltrating neutrophils (Linden et al., 2019) . Viral infections in such conditions will then cause increase neutrophilic activation; worsening the symptoms and airway remodeling in the airway thereby exacerbating COPD, CRSsNP and even CRSwNP in certain cases (Wang et al., 2009; Tacon et al., 2010; Linden et al., 2019) .\\n\\nAn epithelial-centric alarmin pathway around IL-25, IL-33 and thymic stromal lymphopoietin (TSLP), and their interaction with group 2 innate lymphoid cells (ILC2) has also recently been identified (Nagarkar et al., 2012; Hong et al., 2018; Allinne et al., 2019) . IL-25, IL-33 and TSLP are type 2 inflammatory cytokines expressed by the epithelial cells upon injury to the epithelial barrier (Gabryelska et al., 2019; Roan et al., 2019) . ILC2s are a group of lymphoid cells lacking both B and T cell receptors but play a crucial role in secreting type 2 cytokines to perpetuate type 2 inflammation when activated (Scanlon and McKenzie, 2012; Li and Hendriks, 2013) . In the event of viral infection, cell death and injury to the epithelial barrier will also induce the expression of IL-25, IL-33 and TSLP, with heighten expression in an inflamed airway (Allakhverdi et al., 2007; Goldsmith et al., 2012; Byers et al., 2013; Shaw et al., 2013; Beale et al., 2014; Jackson et al., 2014; Uller and Persson, 2018; Ravanetti et al., 2019) . These 3 cytokines then work in concert to activate ILC2s to further secrete type 2 cytokines IL-4, IL-5, and IL-13 which further aggravate the type 2 inflammation in the airway causing acute exacerbation (Camelo et al., 2017) . In the case of COPD, increased ILC2 activation, which retain the capability of differentiating to ILC1, may also further augment the neutrophilic response and further aggravate the exacerbation (Silver et al., 2016) . Interestingly, these factors are not released to any great extent and do not activate an ILC2 response during viral infection in healthy individuals (Yan et al., 2016; Tan et al., 2018a) ; despite augmenting a type 2 exacerbation in chronically inflamed airways (Jurak et al., 2018) . These classical mechanisms of viral induced acute exacerbations are summarized in Figure 1 .\\n\\nAs integration of the virology, microbiology and immunology of viral infection becomes more interlinked, additional factors and FIGURE 1 | Current understanding of viral induced exacerbation of chronic airway inflammatory diseases. Upon virus infection in the airway, antiviral state will be activated to clear the invading pathogen from the airway. Immune response and injury factors released from the infected epithelium normally would induce a rapid type 1 immunity that facilitates viral clearance. However, in the inflamed airway, the cytokines and chemokines released instead augmented the inflammation present in the chronically inflamed airway, strengthening the neutrophilic infiltration in COPD airway, and eosinophilic infiltration in the asthmatic airway. The effect is also further compounded by the participation of Th1 and ILC1 cells in the COPD airway; and Th2 and ILC2 cells in the asthmatic airway.\\n\\nFrontiers in Cell and Developmental Biology | www.frontiersin.org mechanisms have been implicated in acute exacerbations during and after viral infection (Murray et al., 2006) . Murray et al. (2006) has underlined the synergistic effect of viral infection with other sensitizing agents in causing more severe acute exacerbations in the airway. This is especially true when not all exacerbation events occurred during the viral infection but may also occur well after viral clearance (Kim et al., 2008; Stolz et al., 2019) in particular the late onset of a bacterial infection (Singanayagam et al., 2018 (Singanayagam et al., , 2019a . In addition, viruses do not need to directly infect the lower airway to cause an acute exacerbation, as the nasal epithelium remains the primary site of most infections. Moreover, not all viral infections of the airway will lead to acute exacerbations, suggesting a more complex interplay between the virus and upper airway epithelium which synergize with the local airway environment in line with the \\\"united airway\\\" hypothesis (Kurai et al., 2013) . On the other hand, viral infections or their components persist in patients with chronic airway inflammatory disease (Kling et al., 2005; Wood et al., 2011; Ravi et al., 2019) . Hence, their presence may further alter the local environment and contribute to current and future exacerbations. Future studies should be performed using metagenomics in addition to PCR analysis to determine the contribution of the microbiome and mycobiome to viral infections. In this review, we highlight recent data regarding viral interactions with the airway epithelium that could also contribute to, or further aggravate, acute exacerbations of chronic airway inflammatory diseases.\\n\\nPatients with chronic airway inflammatory diseases have impaired or reduced ability of viral clearance (Hammond et al., 2015; McKendry et al., 2016; Akbarshahi et al., 2018; Gill et al., 2018; Wang et al., 2018; Singanayagam et al., 2019b) . Their impairment stems from a type 2-skewed inflammatory response which deprives the airway of important type 1 responsive CD8 cells that are responsible for the complete clearance of virusinfected cells (Becker, 2006; McKendry et al., 2016) . This is especially evident in weak type 1 inflammation-inducing viruses such as RV and RSV (Kling et al., 2005; Wood et al., 2011; Ravi et al., 2019) . Additionally, there are also evidence of reduced type I (IFN\\u03b2) and III (IFN\\u03bb) interferon production due to type 2-skewed inflammation, which contributes to imperfect clearance of the virus resulting in persistence of viral components, or the live virus in the airway epithelium (Contoli et al., 2006; Hwang et al., 2019; Wark, 2019) . Due to the viral components remaining in the airway, antiviral genes such as type I interferons, inflammasome activating factors and cytokines remained activated resulting in prolong airway inflammation (Wood et al., 2011; Essaidi-Laziosi et al., 2018) . These factors enhance granulocyte infiltration thus prolonging the exacerbation symptoms. Such persistent inflammation may also be found within DNA viruses such as AdV, hCMV and HSV, whose infections generally persist longer (Imperiale and Jiang, 2015) , further contributing to chronic activation of inflammation when they infect the airway (Yang et al., 2008; Morimoto et al., 2009; Imperiale and Jiang, 2015; Lan et al., 2016; Tan et al., 2016; Kowalski et al., 2017) . With that note, human papilloma virus (HPV), a DNA virus highly associated with head and neck cancers and respiratory papillomatosis, is also linked with the chronic inflammation that precedes the malignancies (de Visser et al., 2005; Gillison et al., 2012; Bonomi et al., 2014; Fernandes et al., 2015) . Therefore, the role of HPV infection in causing chronic inflammation in the airway and their association to exacerbations of chronic airway inflammatory diseases, which is scarcely explored, should be investigated in the future. Furthermore, viral persistence which lead to continuous expression of antiviral genes may also lead to the development of steroid resistance, which is seen with RV, RSV, and PIV infection (Chi et al., 2011; Ford et al., 2013; Papi et al., 2013) . The use of steroid to suppress the inflammation may also cause the virus to linger longer in the airway due to the lack of antiviral clearance (Kim et al., 2008; Hammond et al., 2015; Hewitt et al., 2016; McKendry et al., 2016; Singanayagam et al., 2019b) . The concomitant development of steroid resistance together with recurring or prolong viral infection thus added considerable burden to the management of acute exacerbation, which should be the future focus of research to resolve the dual complications arising from viral infection.\\n\\nOn the other end of the spectrum, viruses that induce strong type 1 inflammation and cell death such as IFV (Yan et al., 2016; Guibas et al., 2018) and certain CoV (including the recently emerged COVID-19 virus) (Tao et al., 2013; Yue et al., 2018; Zhu et al., 2020) , may not cause prolonged inflammation due to strong induction of antiviral clearance. These infections, however, cause massive damage and cell death to the epithelial barrier, so much so that areas of the epithelium may be completely absent post infection (Yan et al., 2016; Tan et al., 2019) . Factors such as RANTES and CXCL10, which recruit immune cells to induce apoptosis, are strongly induced from IFV infected epithelium (Ampomah et al., 2018; Tan et al., 2019) . Additionally, necroptotic factors such as RIP3 further compounds the cell deaths in IFV infected epithelium . The massive cell death induced may result in worsening of the acute exacerbation due to the release of their cellular content into the airway, further evoking an inflammatory response in the airway (Guibas et al., 2018) . Moreover, the destruction of the epithelial barrier may cause further contact with other pathogens and allergens in the airway which may then prolong exacerbations or results in new exacerbations. Epithelial destruction may also promote further epithelial remodeling during its regeneration as viral infection induces the expression of remodeling genes such as MMPs and growth factors . Infections that cause massive destruction of the epithelium, such as IFV, usually result in severe acute exacerbations with non-classical symptoms of chronic airway inflammatory diseases. Fortunately, annual vaccines are available to prevent IFV infections (Vasileiou et al., 2017; Zheng et al., 2018) ; and it is recommended that patients with chronic airway inflammatory disease receive their annual influenza vaccination as the best means to prevent severe IFV induced exacerbation.\\n\\nAnother mechanism that viral infections may use to drive acute exacerbations is the induction of vasodilation or tight junction opening factors which may increase the rate of infiltration. Infection with a multitude of respiratory viruses causes disruption of tight junctions with the resulting increased rate of viral infiltration. This also increases the chances of allergens coming into contact with airway immune cells. For example, IFV infection was found to induce oncostatin M (OSM) which causes tight junction opening (Pothoven et al., 2015; Tian et al., 2018) . Similarly, RV and RSV infections usually cause tight junction opening which may also increase the infiltration rate of eosinophils and thus worsening of the classical symptoms of chronic airway inflammatory diseases (Sajjan et al., 2008; Kast et al., 2017; Kim et al., 2018) . In addition, the expression of vasodilating factors and fluid homeostatic factors such as angiopoietin-like 4 (ANGPTL4) and bactericidal/permeabilityincreasing fold-containing family member A1 (BPIFA1) are also associated with viral infections and pneumonia development, which may worsen inflammation in the lower airway Akram et al., 2018) . These factors may serve as targets to prevent viral-induced exacerbations during the management of acute exacerbation of chronic airway inflammatory diseases.\\n\\nAnother recent area of interest is the relationship between asthma and COPD exacerbations and their association with the airway microbiome. The development of chronic airway inflammatory diseases is usually linked to specific bacterial species in the microbiome which may thrive in the inflamed airway environment (Diver et al., 2019) . In the event of a viral infection such as RV infection, the effect induced by the virus may destabilize the equilibrium of the microbiome present (Molyneaux et al., 2013; Kloepfer et al., 2014; Kloepfer et al., 2017; Jubinville et al., 2018; van Rijn et al., 2019) . In addition, viral infection may disrupt biofilm colonies in the upper airway (e.g., Streptococcus pneumoniae) microbiome to be release into the lower airway and worsening the inflammation (Marks et al., 2013; Chao et al., 2014) . Moreover, a viral infection may also alter the nutrient profile in the airway through release of previously inaccessible nutrients that will alter bacterial growth (Siegel et al., 2014; Mallia et al., 2018) . Furthermore, the destabilization is further compounded by impaired bacterial immune response, either from direct viral influences, or use of corticosteroids to suppress the exacerbation symptoms (Singanayagam et al., 2018 (Singanayagam et al., , 2019a Wang et al., 2018; Finney et al., 2019) . All these may gradually lead to more far reaching effect when normal flora is replaced with opportunistic pathogens, altering the inflammatory profiles (Teo et al., 2018) . These changes may in turn result in more severe and frequent acute exacerbations due to the interplay between virus and pathogenic bacteria in exacerbating chronic airway inflammatory diseases (Wark et al., 2013; Singanayagam et al., 2018) . To counteract these effects, microbiome-based therapies are in their infancy but have shown efficacy in the treatments of irritable bowel syndrome by restoring the intestinal microbiome (Bakken et al., 2011) . Further research can be done similarly for the airway microbiome to be able to restore the microbiome following disruption by a viral infection.\\n\\nViral infections can cause the disruption of mucociliary function, an important component of the epithelial barrier. Ciliary proteins FIGURE 2 | Changes in the upper airway epithelium contributing to viral exacerbation in chronic airway inflammatory diseases. The upper airway epithelium is the primary contact/infection site of most respiratory viruses. Therefore, its infection by respiratory viruses may have far reaching consequences in augmenting and synergizing current and future acute exacerbations. The destruction of epithelial barrier, mucociliary function and cell death of the epithelial cells serves to increase contact between environmental triggers with the lower airway and resident immune cells. The opening of tight junction increasing the leakiness further augments the inflammation and exacerbations. In addition, viral infections are usually accompanied with oxidative stress which will further increase the local inflammation in the airway. The dysregulation of inflammation can be further compounded by modulation of miRNAs and epigenetic modification such as DNA methylation and histone modifications that promote dysregulation in inflammation. Finally, the change in the local airway environment and inflammation promotes growth of pathogenic bacteria that may replace the airway microbiome. Furthermore, the inflammatory environment may also disperse upper airway commensals into the lower airway, further causing inflammation and alteration of the lower airway environment, resulting in prolong exacerbation episodes following viral infection. \\n\\nViral specific trait contributing to exacerbation mechanism (with literature evidence) Oxidative stress ROS production (RV, RSV, IFV, HSV)\\n\\nAs RV, RSV, and IFV were the most frequently studied viruses in chronic airway inflammatory diseases, most of the viruses listed are predominantly these viruses. However, the mechanisms stated here may also be applicable to other viruses but may not be listed as they were not implicated in the context of chronic airway inflammatory diseases exacerbation (see text for abbreviations).\\n\\nthat aid in the proper function of the motile cilia in the airways are aberrantly expressed in ciliated airway epithelial cells which are the major target for RV infection (Griggs et al., 2017) . Such form of secondary cilia dyskinesia appears to be present with chronic inflammations in the airway, but the exact mechanisms are still unknown (Peng et al., , 2019 Qiu et al., 2018) . Nevertheless, it was found that in viral infection such as IFV, there can be a change in the metabolism of the cells as well as alteration in the ciliary gene expression, mostly in the form of down-regulation of the genes such as dynein axonemal heavy chain 5 (DNAH5) and multiciliate differentiation And DNA synthesis associated cell cycle protein (MCIDAS) (Tan et al., 2018b . The recently emerged Wuhan CoV was also found to reduce ciliary beating in infected airway epithelial cell model (Zhu et al., 2020) . Furthermore, viral infections such as RSV was shown to directly destroy the cilia of the ciliated cells and almost all respiratory viruses infect the ciliated cells (Jumat et al., 2015; Yan et al., 2016; Tan et al., 2018a) . In addition, mucus overproduction may also disrupt the equilibrium of the mucociliary function following viral infection, resulting in symptoms of acute exacerbation (Zhu et al., 2009) . Hence, the disruption of the ciliary movement during viral infection may cause more foreign material and allergen to enter the airway, aggravating the symptoms of acute exacerbation and making it more difficult to manage. The mechanism of the occurrence of secondary cilia dyskinesia can also therefore be explored as a means to limit the effects of viral induced acute exacerbation.\\n\\nMicroRNAs (miRNAs) are short non-coding RNAs involved in post-transcriptional modulation of biological processes, and implicated in a number of diseases (Tan et al., 2014) . miRNAs are found to be induced by viral infections and may play a role in the modulation of antiviral responses and inflammation (Gutierrez et al., 2016; Deng et al., 2017; Feng et al., 2018) . In the case of chronic airway inflammatory diseases, circulating miRNA changes were found to be linked to exacerbation of the diseases (Wardzynska et al., 2020) . Therefore, it is likely that such miRNA changes originated from the infected epithelium and responding immune cells, which may serve to further dysregulate airway inflammation leading to exacerbations. Both IFV and RSV infections has been shown to increase miR-21 and augmented inflammation in experimental murine asthma models, which is reversed with a combination treatment of anti-miR-21 and corticosteroids (Kim et al., 2017) . IFV infection is also shown to increase miR-125a and b, and miR-132 in COPD epithelium which inhibits A20 and MAVS; and p300 and IRF3, respectively, resulting in increased susceptibility to viral infections (Hsu et al., 2016 (Hsu et al., , 2017 . Conversely, miR-22 was shown to be suppressed in asthmatic epithelium in IFV infection which lead to aberrant epithelial response, contributing to exacerbations (Moheimani et al., 2018) . Other than these direct evidence of miRNA changes in contributing to exacerbations, an increased number of miRNAs and other non-coding RNAs responsible for immune modulation are found to be altered following viral infections (Globinska et al., 2014; Feng et al., 2018; Hasegawa et al., 2018) . Hence non-coding RNAs also presents as targets to modulate viral induced airway changes as a means of managing exacerbation of chronic airway inflammatory diseases. Other than miRNA modulation, other epigenetic modification such as DNA methylation may also play a role in exacerbation of chronic airway inflammatory diseases. Recent epigenetic studies have indicated the association of epigenetic modification and chronic airway inflammatory diseases, and that the nasal methylome was shown to be a sensitive marker for airway inflammatory changes (Cardenas et al., 2019; Gomez, 2019) . At the same time, it was also shown that viral infections such as RV and RSV alters DNA methylation and histone modifications in the airway epithelium which may alter inflammatory responses, driving chronic airway inflammatory diseases and exacerbations (McErlean et al., 2014; Pech et al., 2018; Caixia et al., 2019) . In addition, Spalluto et al. (2017) also showed that antiviral factors such as IFN\\u03b3 epigenetically modifies the viral resistance of epithelial cells. Hence, this may indicate that infections such as RV and RSV that weakly induce antiviral responses may result in an altered inflammatory state contributing to further viral persistence and exacerbation of chronic airway inflammatory diseases (Spalluto et al., 2017) .\\n\\nFinally, viral infection can result in enhanced production of reactive oxygen species (ROS), oxidative stress and mitochondrial dysfunction in the airway epithelium (Kim et al., 2018; Mishra et al., 2018; Wang et al., 2018) . The airway epithelium of patients with chronic airway inflammatory diseases are usually under a state of constant oxidative stress which sustains the inflammation in the airway (Barnes, 2017; van der Vliet et al., 2018) . Viral infections of the respiratory epithelium by viruses such as IFV, RV, RSV and HSV may trigger the further production of ROS as an antiviral mechanism Aizawa et al., 2018; Wang et al., 2018) . Moreover, infiltrating cells in response to the infection such as neutrophils will also trigger respiratory burst as a means of increasing the ROS in the infected region. The increased ROS and oxidative stress in the local environment may serve as a trigger to promote inflammation thereby aggravating the inflammation in the airway (Tiwari et al., 2002) . A summary of potential exacerbation mechanisms and the associated viruses is shown in Figure 2 and Table 1 .\\n\\nWhile the mechanisms underlying the development and acute exacerbation of chronic airway inflammatory disease is extensively studied for ways to manage and control the disease, a viral infection does more than just causing an acute exacerbation in these patients. A viral-induced acute exacerbation not only induced and worsens the symptoms of the disease, but also may alter the management of the disease or confer resistance toward treatments that worked before. Hence, appreciation of the mechanisms of viral-induced acute exacerbations is of clinical significance to devise strategies to correct viral induce changes that may worsen chronic airway inflammatory disease symptoms. Further studies in natural exacerbations and in viral-challenge models using RNA-sequencing (RNA-seq) or single cell RNA-seq on a range of time-points may provide important information regarding viral pathogenesis and changes induced within the airway of chronic airway inflammatory disease patients to identify novel targets and pathway for improved management of the disease. Subsequent analysis of functions may use epithelial cell models such as the air-liquid interface, in vitro airway epithelial model that has been adapted to studying viral infection and the changes it induced in the airway (Yan et al., 2016; Boda et al., 2018; Tan et al., 2018a) . Animal-based diseased models have also been developed to identify systemic mechanisms of acute exacerbation (Shin, 2016; Gubernatorova et al., 2019; Tanner and Single, 2019) . Furthermore, the humanized mouse model that possess human immune cells may also serves to unravel the immune profile of a viral infection in healthy and diseased condition (Ito et al., 2019; Li and Di Santo, 2019) . For milder viruses, controlled in vivo human infections can be performed for the best mode of verification of the associations of the virus with the proposed mechanism of viral induced acute exacerbations . With the advent of suitable diseased models, the verification of the mechanisms will then provide the necessary continuation of improving the management of viral induced acute exacerbations.\\n\\nIn conclusion, viral-induced acute exacerbation of chronic airway inflammatory disease is a significant health and economic burden that needs to be addressed urgently. In view of the scarcity of antiviral-based preventative measures available for only a few viruses and vaccines that are only available for IFV infections, more alternative measures should be explored to improve the management of the disease. Alternative measures targeting novel viral-induced acute exacerbation mechanisms, especially in the upper airway, can serve as supplementary treatments of the currently available management strategies to augment their efficacy. New models including primary human bronchial or nasal epithelial cell cultures, organoids or precision cut lung slices from patients with airways disease rather than healthy subjects can be utilized to define exacerbation mechanisms. These mechanisms can then be validated in small clinical trials in patients with asthma or COPD. Having multiple means of treatment may also reduce the problems that arise from resistance development toward a specific treatment.\",\n          \"No credible evidence supporting claims of the laboratory engineering of SARS-CoV-2\\n\\nhttps://www.ncbi.nlm.nih.gov/pmc/articles/PMC7054935/\\n\\nSHA: 5a9154aee79901dd8fecd58b7bcd9b7351102d24\\n\\nAuthors: Liu, Shan-Lu; Saif, Linda J.; Weiss, Susan R.; Su, Lishan\\nDate: 2020-02-26\\nDOI: 10.1080/22221751.2020.1733440\\nLicense: cc-by\\n\\nAbstract: nan\\n\\nText: The emergence and outbreak of a newly discovered acute respiratory disease in Wuhan, China, has affected greater than 40,000 people, and killed more than 1,000 as of Feb. 10, 2020. A new human coronavirus, SARS-CoV-2, was quickly identified, and the associated disease is now referred to as coronavirus disease discovered in 2019 (COVID-19) (https://globalbiodefense. com/novel-coronavirus-covid-19-portal/).\\n\\nAccording to what has been reported [1] [2] [3] , COVID-2019 seems to have similar clinical manifestations to that of the severe acute respiratory syndrome (SARS) caused by SARS-CoV. The SARS-CoV-2 genome sequence also has \\u223c80% identity with SARS-CoV, but it is most similar to some bat beta-coronaviruses, with the highest being >96% identity [4, 5] .\\n\\nCurrently, there are speculations, rumours and conspiracy theories that SARS-CoV-2 is of laboratory origin. Some people have alleged that the human SARS-CoV-2 was leaked directly from a laboratory in Wuhan where a bat CoV (RaTG13) was recently reported, which shared \\u223c96% homology with the SARS-CoV-2 [4] . However, as we know, the human SARS-CoV and intermediate host palm civet SARSlike CoV shared 99.8% homology, with a total of 202 single-nucleotide (nt) variations (SNVs) identified across the genome [6] . Given that there are greater than 1,100 nt differences between the human SARS-CoV-2 and the bat RaTG13-CoV [4] , which are distributed throughout the genome in a naturally occurring pattern following the evolutionary characteristics typical of CoVs, it is highly unlikely that RaTG13 CoV is the immediate source of SARS-CoV-2. The absence of a logical targeted pattern in the new viral sequences and a close relative in a wildlife species (bats) are the most revealing signs that SARS-CoV-2 evolved by natural evolution. A search for an intermediate animal host between bats and humans is needed to identify animal CoVs more closely related to human SARS-CoV-2. There is speculation that pangolins might carry CoVs closely related to SARS-CoV-2, but the data to substantiate this is not yet published (https:// www.nature.com/articles/d41586-020-00364-2).\\n\\nAnother claim in Chinese social media points to a Nature Medicine paper published in 2015 [7] , which reports the construction of a chimeric CoV with a bat CoV S gene (SHC014) in the backbone of a SARS CoV that has adapted to infect mice (MA15) and is capable of infecting human cells [8] . However, this claim lacks any scientific basis and must be discounted because of significant divergence in the genetic sequence of this construct with the new SARS-CoV-2 (>5,000 nucleotides).\\n\\nThe mouse-adapted SARS virus (MA15) [9] was generated by serial passage of an infectious wildtype SARS CoV clone in the respiratory tract of BALB/c mice. After 15 passages in mice, the SARS-CoV gained elevated replication and lung pathogenesis in aged mice (hence M15), due to six coding genetic mutations associated with mouse adaptation. It is likely that MA15 is highly attenuated to replicate in human cells or patients due to the mouse adaptation.\\n\\nIt was proposed that the S gene from bat-derived CoV, unlike that from human patients-or civetsderived viruses, was unable to use human ACE2 as a receptor for entry into human cells [10, 11] . Civets were proposed to be an intermediate host of the bat-CoVs, capable of spreading SARS CoV to humans [6, 12] . However, in 2013 several novel bat coronaviruses were isolated from Chinese horseshoe bats and the bat SARS-like or SL-CoV-WIV1 was able to use ACE2 from humans, civets and Chinese horseshoe bats for entry [8] . Combined with evolutionary evidence that the bat ACE2 gene has been positively selected at the same contact sites as the human ACE2 gene for interacting with SARS CoV [13] , it was proposed that an intermediate host may not be necessary and that some bat SL-CoVs may be able to directly infect human hosts. To directly address this possibility, the exact S gene from bat coronavirus SL-SHC014 was synthesized and used to generate a chimeric virus in the mouse adapted MA15 SARS-CoV backbone. The resultant SL-SHC014-MA15 virus could indeed efficiently use human ACE2 and replicate in primary human airway cells to similar titres as epidemic strains of SARS-CoV. While SL-SHC014-MA15 can replicate efficiently in young and aged mouse lungs, infection was attenuated, and less virus antigen was present in the airway epithelium as compared to SARS MA15, which causes lethal outcomes in aged mice [7] .\\n\\nDue to the elevated pathogenic activity of the SHC014-MA15 chimeric virus relative to MA15 chimeric virus with the original human SARS S gene in mice, such experiments with SL-SHC014-MA15 chimeric virus were later restricted as gain of function (GOF) studies under the US government-mandated pause policy (https://www.nih.gov/about-nih/who-weare/nih-director/statements/nih-lifts-funding-pausegain-function-research). The current COVID-2019 epidemic has restarted the debate over the risks of constructing such viruses that could have pandemic potential, irrespective of the finding that these bat CoVs already exist in nature. Regardless, upon careful phylogenetic analyses by multiple international groups [5, 14] , the SARS-CoV-2 is undoubtedly distinct from SL-SHC014-MA15, with >6,000 nucleotide differences across the whole genome. Therefore, once again there is no credible evidence to support the claim that the SARS-CoV-2 is derived from the chimeric SL-SHC014-MA15 virus.\\n\\nThere are also rumours that the SARS-CoV-2 was artificially, or intentionally, made by humans in the lab, and this is highlighted in one manuscript submitted to BioRxiv (a manuscript sharing site prior to any peer review), claiming that SARS-CoV-2 has HIV sequence in it and was thus likely generated in the laboratory. In a rebuttal paper led by an HIV-1 virologist Dr. Feng Gao, they used careful bioinformatics analyses to demonstrate that the original claim of multiple HIV insertions into the SARS-CoV-2 is not HIV-1 specific but random [15] . Because of the many concerns raised by the international community, the authors who made the initial claim have already withdrawn this report.\\n\\nEvolution is stepwise and accrues mutations gradually over time, whereas synthetic constructs would typically use a known backbone and introduce logical or targeted changes instead of the randomly occurring mutations that are present in naturally isolated viruses such as bat CoV RaTG13. In our view, there is currently no credible evidence to support the claim that SARS-CoV-2 originated from a laboratory-engineered CoV. It is more likely that SARS-CoV-2 is a recombinant CoV generated in nature between a bat CoV and another coronavirus in an intermediate animal host. More studies are needed to explore this possibility and resolve the natural origin of SARS-CoV-2. We should emphasize that, although SARS-CoV-2 shows no evidence of laboratory origin, viruses with such great public health threats must be handled properly in the laboratory and also properly regulated by the scientific community and governments.\\n\\nNo potential conflict of interest was reported by the author(s).\\n\\nSusan R. Weiss http://orcid.org/0000-0002-8155-4528\"\n        ],\n        \"semantic_type\": \"\",\n        \"description\": \"\"\n      }\n    }\n  ]\n}"
            }
          },
          "metadata": {},
          "execution_count": 8
        }
      ],
      "source": [
        "cols = [\"document_id\",\"question\",\"answers.text\",\"answers.answer_start\",\"context\"]\n",
        "sampledf = df_split[\"train\"][cols].sample(10, random_state=7)\n",
        "sampledf"
      ]
    },
    {
      "cell_type": "code",
      "execution_count": 9,
      "metadata": {
        "colab": {
          "base_uri": "https://localhost:8080/",
          "height": 452
        },
        "id": "JNkOOS5CrqBP",
        "outputId": "e9b68aeb-68f1-4ce7-9a24-08068d061f8b"
      },
      "outputs": [
        {
          "output_type": "display_data",
          "data": {
            "text/plain": [
              "<IPython.core.display.HTML object>"
            ],
            "text/html": [
              "\n",
              "  <style>\n",
              "    pre {\n",
              "        white-space: pre-wrap;\n",
              "    }\n",
              "  </style>\n",
              "  "
            ]
          },
          "metadata": {}
        },
        {
          "output_type": "display_data",
          "data": {
            "text/plain": [
              "<Figure size 640x480 with 1 Axes>"
            ],
            "image/png": "[encoded data removed]"
          },
          "metadata": {}
        }
      ],
      "source": [
        "import matplotlib.pyplot as plt\n",
        "counts ={}\n",
        "question_types = [\"What\",\"How\",\"Where\",\"Why\",\"Which\",\"When\"]\n",
        "for q in question_types:\n",
        "  counts[q]= df_split[\"train\"][\"question\"].str.startswith(q).value_counts(dropna = False)[True]\n",
        "pd.Series(counts).sort_values().plot.barh()\n",
        "plt.title (\"Frequency of Question Types\")\n",
        "plt.show()"
      ]
    },
    {
      "cell_type": "code",
      "execution_count": null,
      "metadata": {
        "colab": {
          "base_uri": "https://localhost:8080/",
          "height": 34
        },
        "id": "hH920I08VbDf",
        "outputId": "15a9d0c0-fb64-422d-fd9d-fb03989d6045"
      },
      "outputs": [
        {
          "data": {
            "text/html": [
              "\n",
              "  <style>\n",
              "    pre {\n",
              "        white-space: pre-wrap;\n",
              "    }\n",
              "  </style>\n",
              "  "
            ],
            "text/plain": [
              "<IPython.core.display.HTML object>"
            ]
          },
          "metadata": {},
          "output_type": "display_data"
        },
        {
          "data": {
            "text/plain": [
              "10823"
            ]
          },
          "execution_count": 25,
          "metadata": {},
          "output_type": "execute_result"
        }
      ],
      "source": [
        "\"\"\"\n",
        "ques =  df_split[\"train\"][\"question\"][12]\n",
        "context = df_split[\"train\"][\"context\"][12]\n",
        "inputs = tokenizer(ques,context, return_tensors=\"pt\")\n",
        "\n",
        "inputs\n",
        "\n",
        "len(inputs [\"input_ids\"][0])\n",
        "\"\"\""
      ]
    },
    {
      "cell_type": "code",
      "execution_count": null,
      "metadata": {
        "id": "ADxHSLX8W2SE"
      },
      "outputs": [],
      "source": [
        "#print(tokenizer.decode (inputs [\"input_ids\"][0]))"
      ]
    },
    {
      "cell_type": "code",
      "execution_count": 10,
      "metadata": {
        "colab": {
          "base_uri": "https://localhost:8080/",
          "height": 674,
          "referenced_widgets": [
            "9534d76b346e4629a20937eb956f477b",
            "ceba056e9e014cb8bfd35827d14afc00",
            "b804570b151046e4a922af4ef8c9f7b4",
            "259ecca82b0e4b1b94996e6f781d2467",
            "d6ae9c50b81843ab936a4361c1061beb",
            "8f9d9e7924274d9aa0edd5a930fd634a",
            "de44dd163ca1412d99685ba17e6c5db8",
            "fc358197d4434097b453317d411fbacb",
            "a1b852887c2945caaf479958b9d816dd",
            "7b69546ec29d4346b1ba8bf1ed740808",
            "fe75759a434244e8999ab5671677f2a6"
          ]
        },
        "id": "Jv8LuaYzco7h",
        "outputId": "e2265cd6-5f3e-466c-fc86-eea2643db463"
      },
      "outputs": [
        {
          "output_type": "display_data",
          "data": {
            "text/plain": [
              "<IPython.core.display.HTML object>"
            ],
            "text/html": [
              "\n",
              "  <style>\n",
              "    pre {\n",
              "        white-space: pre-wrap;\n",
              "    }\n",
              "  </style>\n",
              "  "
            ]
          },
          "metadata": {}
        },
        {
          "output_type": "display_data",
          "data": {
            "text/plain": [
              "model.safetensors:   0%|          | 0.00/268M [00:00<?, ?B/s]"
            ],
            "application/vnd.jupyter.widget-view+json": {
              "version_major": 2,
              "version_minor": 0,
              "model_id": "9534d76b346e4629a20937eb956f477b"
            }
          },
          "metadata": {}
        },
        {
          "output_type": "stream",
          "name": "stderr",
          "text": [
            "Some weights of DistilBertForQuestionAnswering were not initialized from the model checkpoint at distilbert-base-uncased and are newly initialized: ['qa_outputs.bias', 'qa_outputs.weight']\n",
            "You should probably TRAIN this model on a down-stream task to be able to use it for predictions and inference.\n"
          ]
        },
        {
          "output_type": "execute_result",
          "data": {
            "text/plain": [
              "DistilBertForQuestionAnswering(\n",
              "  (distilbert): DistilBertModel(\n",
              "    (embeddings): Embeddings(\n",
              "      (word_embeddings): Embedding(30522, 768, padding_idx=0)\n",
              "      (position_embeddings): Embedding(512, 768)\n",
              "      (LayerNorm): LayerNorm((768,), eps=1e-12, elementwise_affine=True)\n",
              "      (dropout): Dropout(p=0.1, inplace=False)\n",
              "    )\n",
              "    (transformer): Transformer(\n",
              "      (layer): ModuleList(\n",
              "        (0-5): 6 x TransformerBlock(\n",
              "          (attention): MultiHeadSelfAttention(\n",
              "            (dropout): Dropout(p=0.1, inplace=False)\n",
              "            (q_lin): Linear(in_features=768, out_features=768, bias=True)\n",
              "            (k_lin): Linear(in_features=768, out_features=768, bias=True)\n",
              "            (v_lin): Linear(in_features=768, out_features=768, bias=True)\n",
              "            (out_lin): Linear(in_features=768, out_features=768, bias=True)\n",
              "          )\n",
              "          (sa_layer_norm): LayerNorm((768,), eps=1e-12, elementwise_affine=True)\n",
              "          (ffn): FFN(\n",
              "            (dropout): Dropout(p=0.1, inplace=False)\n",
              "            (lin1): Linear(in_features=768, out_features=3072, bias=True)\n",
              "            (lin2): Linear(in_features=3072, out_features=768, bias=True)\n",
              "            (activation): GELUActivation()\n",
              "          )\n",
              "          (output_layer_norm): LayerNorm((768,), eps=1e-12, elementwise_affine=True)\n",
              "        )\n",
              "      )\n",
              "    )\n",
              "  )\n",
              "  (qa_outputs): Linear(in_features=768, out_features=2, bias=True)\n",
              "  (dropout): Dropout(p=0.1, inplace=False)\n",
              ")"
            ]
          },
          "metadata": {},
          "execution_count": 10
        }
      ],
      "source": [
        "from transformers import AutoModelForQuestionAnswering\n",
        "model = AutoModelForQuestionAnswering.from_pretrained(model_ckpt)\n",
        "model\n",
        "\n",
        "#with torch.no_grad(): # disabling gradient for inferencing\n",
        "  #outputs = model(**inputs)\n",
        "\n",
        "#print(outputs)"
      ]
    },
    {
      "cell_type": "code",
      "execution_count": null,
      "metadata": {
        "id": "lSRMTIHLdV4d"
      },
      "outputs": [],
      "source": [
        "#start_logits = outputs. start_logits\n",
        "#end_logits = outputs.end_logits"
      ]
    },
    {
      "cell_type": "code",
      "execution_count": null,
      "metadata": {
        "id": "oEoOo1Kldx6M"
      },
      "outputs": [],
      "source": [
        "#import matplotlib.pyplot as plt\n",
        "#import seaborn as sns\n",
        "\n",
        "# Use plot styling from seaborn.\n",
        "#sns.set(style='darkgrid')\n",
        "\n",
        "# Increase the plot size and font size.\n",
        "#sns.set(font_scale=1.5)\n",
        "#plt.rcParams[\"figure.figsize\"] = (16,8)"
      ]
    },
    {
      "cell_type": "code",
      "execution_count": null,
      "metadata": {
        "id": "2JxunG4agCvY"
      },
      "outputs": [],
      "source": [
        "#input = tokenizer.encode(ques,context)\n",
        "#tokens = tokenizer.convert_ids_to_tokens(input)\n",
        "#print('The input has a total of {:} tokens.'.format(len(input)))\n"
      ]
    },
    {
      "cell_type": "code",
      "execution_count": null,
      "metadata": {
        "id": "QwOrIT9pd9a9"
      },
      "outputs": [],
      "source": [
        "# Pull the scores out of PyTorch Tensors and convert them to 1D numpy arrays.\n",
        "#s_scores = start_logits.detach().numpy().flatten()\n",
        "#e_scores = end_logits.detach().numpy().flatten()\n",
        "\n",
        "# We'll use the tokens as the x-axis labels. In order to do that, they all need\n",
        "# to be unique, so we'll add the token index to the end of each one.\n",
        "\n",
        "#token_labels = []\n",
        "#for (i, token) in enumerate(tokens):\n",
        "    #token_labels.append('{:} - {:>2}'.format(token, i))\n",
        "#print(len(token_labels))"
      ]
    },
    {
      "cell_type": "code",
      "execution_count": null,
      "metadata": {
        "id": "BXLyUAmtekIU"
      },
      "outputs": [],
      "source": [
        "# Create a barplot showing the start word score for all of the tokens.\n",
        "#ax = sns.barplot(x=token_labels, y=s_scores)\n",
        "\n",
        "# Turn the xlabels vertical.\n",
        "#ax.set_xticklabels(ax.get_xticklabels(), rotation=90, ha=\"center\")\n",
        "\n",
        "# Turn on the vertical grid to help align words to scores.\n",
        "#ax.grid(True)\n",
        "\n",
        "#plt.title('Start Word Scores')\n",
        "\n",
        "#plt.show()"
      ]
    },
    {
      "cell_type": "code",
      "execution_count": null,
      "metadata": {
        "id": "P8CSZmZyir8A"
      },
      "outputs": [],
      "source": [
        "# Create a barplot showing the end word score for all of the tokens.\n",
        " #ax = sns.barplot(x=token_labels, y=e_scores)\n",
        "\n",
        "# Turn the xlabels vertical.\n",
        "#ax.set_xticklabels(ax.get_xticklabels(), rotation=90, ha=\"center\")\n",
        "\n",
        "# Turn on the vertical grid to help align words to scores.\n",
        "#ax.grid(True)\n",
        "\n",
        "#plt.title('End Word Scores')\n",
        "\n",
        "#plt.show()"
      ]
    },
    {
      "cell_type": "code",
      "execution_count": null,
      "metadata": {
        "id": "EjxusA2ojSH-"
      },
      "outputs": [],
      "source": [
        "#import torch\n",
        "#start_idx = torch.argmax(start_logits)\n",
        "#end_idx = torch.argmax(end_logits)+1\n",
        "#answer_span = inputs[\"input_ids\"][0][start_idx: end_idx]\n",
        "#answer = tokenizer.decode(answer_span)\n",
        "#print(f\"Question: {ques}\")\n",
        "#print(f\"Answer:  { answer}\")"
      ]
    },
    {
      "cell_type": "code",
      "execution_count": null,
      "metadata": {
        "id": "st94g32-kFZW"
      },
      "outputs": [],
      "source": [
        "#from transformers import pipeline\n",
        "#pipe = pipeline (\"question-answering\", model=model, tokenizer=tokenizer,handle_impossible_answer= True)\n",
        "#pipe(question=ques, context=context , tokp=3)"
      ]
    },
    {
      "cell_type": "markdown",
      "metadata": {
        "id": "uGv7MGOIibru"
      },
      "source": [
        "##Context lenght is more than token"
      ]
    },
    {
      "cell_type": "code",
      "execution_count": null,
      "metadata": {
        "colab": {
          "base_uri": "https://localhost:8080/",
          "height": 17
        },
        "id": "fz02GE9wIALy",
        "outputId": "ff142136-49bb-48f5-a831-954503533e8c"
      },
      "outputs": [
        {
          "data": {
            "text/html": [
              "\n",
              "  <style>\n",
              "    pre {\n",
              "        white-space: pre-wrap;\n",
              "    }\n",
              "  </style>\n",
              "  "
            ],
            "text/plain": [
              "<IPython.core.display.HTML object>"
            ]
          },
          "metadata": {},
          "output_type": "display_data"
        }
      ],
      "source": [
        "#for i, example in enumerate(ds[\"train\"]):\n",
        "    #if len(tokenizer(example[\"question\"], example[\"context\"])[\"input_ids\"]) > 384:\n",
        "        #break\n",
        "#print(i)\n",
        "#example = ds[\"train\"][i]\n",
        "#example"
      ]
    },
    {
      "cell_type": "code",
      "execution_count": null,
      "metadata": {
        "colab": {
          "base_uri": "https://localhost:8080/",
          "height": 52
        },
        "id": "QS2kPfpVJETg",
        "outputId": "cc260b86-e98c-48f5-a8e1-8d633b12b69d"
      },
      "outputs": [
        {
          "data": {
            "text/html": [
              "\n",
              "  <style>\n",
              "    pre {\n",
              "        white-space: pre-wrap;\n",
              "    }\n",
              "  </style>\n",
              "  "
            ],
            "text/plain": [
              "<IPython.core.display.HTML object>"
            ]
          },
          "metadata": {},
          "output_type": "display_data"
        },
        {
          "name": "stdout",
          "output_type": "stream",
          "text": [
            "How many deaths each year are caused by gastroenteritis?\n"
          ]
        },
        {
          "data": {
            "text/plain": [
              "4299"
            ]
          },
          "execution_count": 62,
          "metadata": {},
          "output_type": "execute_result"
        }
      ],
      "source": [
        "example = ds[\"train\"][5]\n",
        "\n",
        "print(example[\"question\"])\n",
        "\n",
        "len(tokenizer(example[\"question\"], example[\"context\"])[\"input_ids\"])"
      ]
    },
    {
      "cell_type": "code",
      "execution_count": null,
      "metadata": {
        "colab": {
          "base_uri": "https://localhost:8080/",
          "height": 17
        },
        "id": "mZ2Jf17TJQzB",
        "outputId": "911af839-2c0b-482c-a111-fb9cbb5a1341"
      },
      "outputs": [
        {
          "data": {
            "text/html": [
              "\n",
              "  <style>\n",
              "    pre {\n",
              "        white-space: pre-wrap;\n",
              "    }\n",
              "  </style>\n",
              "  "
            ],
            "text/plain": [
              "<IPython.core.display.HTML object>"
            ]
          },
          "metadata": {},
          "output_type": "display_data"
        }
      ],
      "source": [
        "max_length = 384 # The maximum length of a feature (question and context)\n",
        "doc_stride = 128 # The authorized overlap between two part of the context when splitting it is needed."
      ]
    },
    {
      "cell_type": "code",
      "execution_count": null,
      "metadata": {
        "colab": {
          "base_uri": "https://localhost:8080/",
          "height": 364
        },
        "id": "eg7zp-vsJM-A",
        "outputId": "ca88e67e-394c-4bc2-d19b-6664d4d00f7d"
      },
      "outputs": [
        {
          "data": {
            "text/html": [
              "\n",
              "  <style>\n",
              "    pre {\n",
              "        white-space: pre-wrap;\n",
              "    }\n",
              "  </style>\n",
              "  "
            ],
            "text/plain": [
              "<IPython.core.display.HTML object>"
            ]
          },
          "metadata": {},
          "output_type": "display_data"
        },
        {
          "name": "stdout",
          "output_type": "stream",
          "text": [
            "{'input_ids': [101, 2129, 2116, 6677, 2169, 2095, 2024, 3303, 2011, 3806, 13181, 29110, 13706, 1029, 102, 18191, 4786, 3806, 13181, 29110, 13706, 1024, 1996, 2124, 1010, 1996, 2047, 1998, 2216, 3458, 16770, 1024, 1013, 1013, 7479, 1012, 13316, 5638, 1012, 17953, 2213, 1012, 9152, 2232, 1012, 18079, 1013, 7610, 2278, 1013, 4790, 1013, 7610, 2278, 22610, 2581, 2575, 16147, 2581, 1013, 21146, 1024, 1042, 2581, 2497, 14142, 4402, 2620, 2683, 2581, 23352, 9818, 2620, 23833, 2692, 2581, 9468, 2575, 9818, 2620, 2581, 7959, 2497, 28154, 22022, 2497, 22610, 2575, 17788, 2546, 6048, 1024, 15068, 3207, 14163, 23500, 8950, 1010, 19021, 1038, 1012, 1025, 3158, 4315, 7570, 5937, 1010, 22393, 3058, 1024, 2355, 1011, 6185, 1011, 2539, 9193, 1024, 2184, 1012, 28977, 2692, 1013, 15754, 2692, 28332, 20958, 6105, 1024, 10507, 1011, 2011, 10061, 1024, 1996, 2862, 1997, 3728, 3603, 3806, 13181, 18447, 19126, 18191, 2003, 9186, 5901, 1012, 3251, 2122, 6074, 2024, 2941, 2920, 1999, 1037, 4295, 2107, 2004, 22939, 12171, 20192, 2003, 1996, 6827, 3160, 1010, 2664, 3697, 2000, 3437, 1012, 1999, 2023, 3319, 1037, 12654, 1997, 2035, 18191, 2179, 1999, 22939, 12171, 20192, 2003, 3591, 1010, 2362, 2007, 1996, 2783, 3716, 2055, 2037, 4434, 2000, 4295, 1012, 3793, 1024, 1996, 3806, 13181, 18447, 19126, 12859, 2003, 1037, 8211, 5812, 2005, 15245, 2004, 2045, 2003, 5377, 3967, 2007, 1996, 2648, 1010, 3701, 3081, 1996, 8700, 2799, 1012, 21733, 1997, 1996, 4308, 1998, 1996, 20014, 4355, 10586, 1006, 3806, 13181, 29110, 13706, 1007, 2064, 3426, 19029, 1010, 24780, 1998, 22939, 12171, 20192, 1012, 3806, 13181, 29110, 13706, 2003, 3625, 2005, 2048, 2000, 2093, 2454, 6677, 2169, 2095, 1010, 2437, 2009, 2028, 1997, 1996, 2087, 2691, 5320, 1997, 13356, 1031, 1015, 1033, 1012, 3701, 2336, 1999, 4975, 3032, 1010, 2021, 2036, 10047, 23041, 2080, 1011, 20419, 3633, 1999, 2764, 3032, 1010, 9015, 2013, 22939, 12171, 20192, 1012, 2096, 17341, 1998, 26045, 3806, 13181, 18447, 19126, 15245, 2024, 13993, 2004, 1037, 2765, 1997, 5372, 13148, 1997, 19873, 1998, 3647, 5948, 2300, 1010, 13434, 3806, 13181, 29110, 13706, 2003, 2025, 13993, 1999, 4975, 3032, 1031, 1016, 1033, 1012, 1999, 1996, 2764, 2088, 1010, 18191, 2024, 2525, 1996, 2087, 2691, 26835, 2015, 4786, 22939, 12171, 20192, 1031, 1017, 1033, 1012, 2348, 18191, 1999, 25969, 2075, 4286, 2018, 2525, 2042, 2649, 2144, 5775, 1031, 1018, 1033, 1998, 18191, 2020, 102], 'attention_mask': [1, 1, 1, 1, 1, 1, 1, 1, 1, 1, 1, 1, 1, 1, 1, 1, 1, 1, 1, 1, 1, 1, 1, 1, 1, 1, 1, 1, 1, 1, 1, 1, 1, 1, 1, 1, 1, 1, 1, 1, 1, 1, 1, 1, 1, 1, 1, 1, 1, 1, 1, 1, 1, 1, 1, 1, 1, 1, 1, 1, 1, 1, 1, 1, 1, 1, 1, 1, 1, 1, 1, 1, 1, 1, 1, 1, 1, 1, 1, 1, 1, 1, 1, 1, 1, 1, 1, 1, 1, 1, 1, 1, 1, 1, 1, 1, 1, 1, 1, 1, 1, 1, 1, 1, 1, 1, 1, 1, 1, 1, 1, 1, 1, 1, 1, 1, 1, 1, 1, 1, 1, 1, 1, 1, 1, 1, 1, 1, 1, 1, 1, 1, 1, 1, 1, 1, 1, 1, 1, 1, 1, 1, 1, 1, 1, 1, 1, 1, 1, 1, 1, 1, 1, 1, 1, 1, 1, 1, 1, 1, 1, 1, 1, 1, 1, 1, 1, 1, 1, 1, 1, 1, 1, 1, 1, 1, 1, 1, 1, 1, 1, 1, 1, 1, 1, 1, 1, 1, 1, 1, 1, 1, 1, 1, 1, 1, 1, 1, 1, 1, 1, 1, 1, 1, 1, 1, 1, 1, 1, 1, 1, 1, 1, 1, 1, 1, 1, 1, 1, 1, 1, 1, 1, 1, 1, 1, 1, 1, 1, 1, 1, 1, 1, 1, 1, 1, 1, 1, 1, 1, 1, 1, 1, 1, 1, 1, 1, 1, 1, 1, 1, 1, 1, 1, 1, 1, 1, 1, 1, 1, 1, 1, 1, 1, 1, 1, 1, 1, 1, 1, 1, 1, 1, 1, 1, 1, 1, 1, 1, 1, 1, 1, 1, 1, 1, 1, 1, 1, 1, 1, 1, 1, 1, 1, 1, 1, 1, 1, 1, 1, 1, 1, 1, 1, 1, 1, 1, 1, 1, 1, 1, 1, 1, 1, 1, 1, 1, 1, 1, 1, 1, 1, 1, 1, 1, 1, 1, 1, 1, 1, 1, 1, 1, 1, 1, 1, 1, 1, 1, 1, 1, 1, 1, 1, 1, 1, 1, 1, 1, 1, 1, 1, 1, 1, 1, 1, 1, 1, 1, 1, 1, 1, 1, 1, 1, 1, 1, 1, 1, 1, 1, 1, 1, 1, 1, 1, 1, 1, 1, 1, 1, 1, 1, 1]}\n"
          ]
        },
        {
          "data": {
            "text/plain": [
              "384"
            ]
          },
          "execution_count": 45,
          "metadata": {},
          "output_type": "execute_result"
        }
      ],
      "source": [
        "tokenized_example = tokenizer(example[\"question\"], example[\"context\"], max_length=max_length, truncation=\"only_second\" ,stride =doc_stride)\n",
        "print(tokenized_example)\n",
        "len(tokenized_example[\"input_ids\"])"
      ]
    },
    {
      "cell_type": "code",
      "execution_count": null,
      "metadata": {
        "colab": {
          "base_uri": "https://localhost:8080/",
          "height": 121
        },
        "id": "reO5tR53mPSg",
        "outputId": "826e71d7-c6d9-4f19-f88b-3d17446b2d84"
      },
      "outputs": [
        {
          "data": {
            "text/html": [
              "\n",
              "  <style>\n",
              "    pre {\n",
              "        white-space: pre-wrap;\n",
              "    }\n",
              "  </style>\n",
              "  "
            ],
            "text/plain": [
              "<IPython.core.display.HTML object>"
            ]
          },
          "metadata": {},
          "output_type": "display_data"
        },
        {
          "name": "stdout",
          "output_type": "stream",
          "text": [
            "[(0, 0), (0, 3), (4, 8), (9, 15), (16, 20), (21, 25), (26, 29), (30, 36), (37, 39), (40, 43), (43, 46), (46, 51), (51, 55), (55, 56), (0, 0), (0, 7), (8, 15), (16, 19), (19, 22), (22, 27), (27, 31), (31, 32), (33, 36), (37, 42), (42, 43), (44, 47), (48, 51), (52, 55), (56, 61), (62, 68), (70, 75), (75, 76), (76, 77), (77, 78), (78, 81), (81, 82), (82, 84), (84, 86), (86, 87), (87, 89), (89, 90), (90, 91), (91, 93), (93, 94), (94, 95), (95, 98), (98, 99), (99, 101), (101, 102), (102, 103), (103, 111), (111, 112), (112, 114), (114, 115), (115, 117), (117, 118), (118, 119), (119, 121), (121, 122), (122, 123), (125, 128), (128, 129), (130, 131), (131, 132), (132, 133), (133, 135), (135, 137), (137, 138), (138, 139), (139, 140), (140, 142), (142, 144), (144, 145), (145, 147), (147, 148), (148, 149), (149, 151), (151, 152), (152, 154), (154, 155), (155, 156), (156, 158), (158, 159), (159, 161), (161, 163), (163, 164), (164, 166), (166, 167), (167, 169), (169, 170), (172, 179), (179, 180), (181, 183), (183, 185), (186, 188), (188, 191), (191, 193), (193, 194), (195, 198), (199, 200)]\n"
          ]
        }
      ],
      "source": [
        "tokenized_example = tokenizer(\n",
        "    example[\"question\"],\n",
        "    example[\"context\"],\n",
        "    max_length=max_length,\n",
        "    truncation=\"only_second\",\n",
        "    return_overflowing_tokens=True,\n",
        "    return_offsets_mapping=True,\n",
        "    stride=doc_stride\n",
        ")\n",
        "print(tokenized_example[\"offset_mapping\"][0][:100])\n",
        "\n",
        "\n",
        "#offsets mapping returned by the tokenizer, which gives us a tuple indicating each sub token's start and end position relative to the original token it was split from. For special tokens, offset mapping's start and end position will both be set to 0.\n"
      ]
    },
    {
      "cell_type": "code",
      "execution_count": null,
      "metadata": {
        "colab": {
          "base_uri": "https://localhost:8080/",
          "height": 329
        },
        "id": "NzI-rt-boNdR",
        "outputId": "4d0b1bd8-effe-42c0-dd62-11f4f08fd448"
      },
      "outputs": [
        {
          "data": {
            "text/html": [
              "\n",
              "  <style>\n",
              "    pre {\n",
              "        white-space: pre-wrap;\n",
              "    }\n",
              "  </style>\n",
              "  "
            ],
            "text/plain": [
              "<IPython.core.display.HTML object>"
            ]
          },
          "metadata": {},
          "output_type": "display_data"
        },
        {
          "data": {
            "text/plain": [
              "[384,\n",
              " 384,\n",
              " 384,\n",
              " 384,\n",
              " 384,\n",
              " 384,\n",
              " 384,\n",
              " 384,\n",
              " 384,\n",
              " 384,\n",
              " 384,\n",
              " 384,\n",
              " 384,\n",
              " 384,\n",
              " 384,\n",
              " 384,\n",
              " 384,\n",
              " 219]"
            ]
          },
          "execution_count": 47,
          "metadata": {},
          "output_type": "execute_result"
        }
      ],
      "source": [
        "[len(x) for x in tokenized_example[\"input_ids\"]]"
      ]
    },
    {
      "cell_type": "code",
      "execution_count": null,
      "metadata": {
        "colab": {
          "base_uri": "https://localhost:8080/",
          "height": 347
        },
        "id": "Cg70QKAAoFcf",
        "outputId": "17b73120-b0b3-48e4-9919-da62efc15dbf"
      },
      "outputs": [
        {
          "data": {
            "text/html": [
              "\n",
              "  <style>\n",
              "    pre {\n",
              "        white-space: pre-wrap;\n",
              "    }\n",
              "  </style>\n",
              "  "
            ],
            "text/plain": [
              "<IPython.core.display.HTML object>"
            ]
          },
          "metadata": {},
          "output_type": "display_data"
        },
        {
          "name": "stdout",
          "output_type": "stream",
          "text": [
            "[CLS] how many deaths each year are caused by gastroenteritis? [SEP] viruses causing gastroenteritis : the known, the new and those beyond https : / / www. ncbi. nlm. nih. gov / pmc / articles / pmc4776197 / sha : f7b30ee89775bc82607cc6bc87feb5934b47625f authors : oude munnink, bas b. ; van der hoek, lia date : 2016 - 02 - 19 doi : 10. 3390 / v8020042 license : cc - by abstract : the list of recently discovered gastrointestinal viruses is expanding rapidly. whether these agents are actually involved in a disease such as diarrhea is the essential question, yet difficult to answer. in this review a summary of all viruses found in diarrhea is presented, together with the current knowledge about their connection to disease. text : the gastrointestinal tract is a vulnerable organ for infections as there is constant contact with the outside, mainly via the oral route. inflammation of the stomach and the intestines ( gastroenteritis ) can cause nausea, vomiting and diarrhea. gastroenteritis is responsible for two to three million deaths each year, making it one of the most common causes of mortality [ 1 ]. mainly children in developing countries, but also immuno - compromised individuals in developed countries, suffer from diarrhea. while bacterial and parasitic gastrointestinal infections are declining as a result of proper disposal of sewage and safe drinking water, viral gastroenteritis is not declining in developing countries [ 2 ]. in the developed world, viruses are already the most common pathogens causing diarrhea [ 3 ]. although viruses infecting humans had already been described since 1901 [ 4 ] and viruses were [SEP]\n",
            "[CLS] how many deaths each year are caused by gastroenteritis? [SEP]itis is responsible for two to three million deaths each year, making it one of the most common causes of mortality [ 1 ]. mainly children in developing countries, but also immuno - compromised individuals in developed countries, suffer from diarrhea. while bacterial and parasitic gastrointestinal infections are declining as a result of proper disposal of sewage and safe drinking water, viral gastroenteritis is not declining in developing countries [ 2 ]. in the developed world, viruses are already the most common pathogens causing diarrhea [ 3 ]. although viruses infecting humans had already been described since 1901 [ 4 ] and viruses were suspected to play a role in diarrhea, it lasted until 1972, when the first virus causing gastroenteritis ( norovirus ) was identified in an outbreak of diarrhea in norwalk ( california, united states ) [ 5 ]. shortly after the discovery of norovirus several other viruses causing gastroenteritis were discovered : rotavirus in epithelial cells of children with gastroenteritis [ 6 ], astrovirus in infantile diarrhea cases [ 7 ], enteric adenoviruses in the feces of children with acute diarrhea [ 8 ], and sapovirus during an outbreak of gastroenteritis in an orphanage in sapporo, japan [ 9 ]. all these viruses spread via the fecal - oral route through person - to - person transmission and are described in more detail below. noroviruses are part of the family caliciviridae and outbreaks of norovirus gastroenteritis have been reported in cruise ships, health care settings, schools, and in the military, but norovirus is also responsible for around 60 % of all sporadic diarrhea cases ( diarrhea cases where [SEP]\n"
          ]
        }
      ],
      "source": [
        "for x in tokenized_example[\"input_ids\"][:2]:\n",
        "    print(tokenizer.decode(x))"
      ]
    },
    {
      "cell_type": "code",
      "execution_count": null,
      "metadata": {
        "colab": {
          "base_uri": "https://localhost:8080/",
          "height": 17
        },
        "id": "qYsYwKYJqAxF",
        "outputId": "94520233-809d-4ddf-a589-fa03ad9e7bee"
      },
      "outputs": [
        {
          "data": {
            "text/html": [
              "\n",
              "  <style>\n",
              "    pre {\n",
              "        white-space: pre-wrap;\n",
              "    }\n",
              "  </style>\n",
              "  "
            ],
            "text/plain": [
              "<IPython.core.display.HTML object>"
            ]
          },
          "metadata": {},
          "output_type": "display_data"
        }
      ],
      "source": [
        "#first_token_id = tokenized_example[\"input_ids\"][0][1]\n",
        "#print(first_token_id)\n",
        "#offsets = tokenized_example[\"offset_mapping\"][0][1]\n",
        "#print(offsets)\n",
        "#print(tokenizer.convert_ids_to_tokens([first_token_id])[0], ques[offsets[0]:offsets[1]])"
      ]
    },
    {
      "cell_type": "code",
      "execution_count": null,
      "metadata": {
        "colab": {
          "base_uri": "https://localhost:8080/",
          "height": 192
        },
        "id": "5kU8v8DJq6Bb",
        "outputId": "9e69fc06-9c4d-42e4-a8d2-1bb24d42c6f0"
      },
      "outputs": [
        {
          "data": {
            "text/html": [
              "\n",
              "  <style>\n",
              "    pre {\n",
              "        white-space: pre-wrap;\n",
              "    }\n",
              "  </style>\n",
              "  "
            ],
            "text/plain": [
              "<IPython.core.display.HTML object>"
            ]
          },
          "metadata": {},
          "output_type": "display_data"
        },
        {
          "name": "stdout",
          "output_type": "stream",
          "text": [
            "[None, 0, 0, 0, 0, 0, 0, 0, 0, 0, 0, 0, 0, 0, None, 1, 1, 1, 1, 1, 1, 1, 1, 1, 1, 1, 1, 1, 1, 1, 1, 1, 1, 1, 1, 1, 1, 1, 1, 1, 1, 1, 1, 1, 1, 1, 1, 1, 1, 1, 1, 1, 1, 1, 1, 1, 1, 1, 1, 1, 1, 1, 1, 1, 1, 1, 1, 1, 1, 1, 1, 1, 1, 1, 1, 1, 1, 1, 1, 1, 1, 1, 1, 1, 1, 1, 1, 1, 1, 1, 1, 1, 1, 1, 1, 1, 1, 1, 1, 1, 1, 1, 1, 1, 1, 1, 1, 1, 1, 1, 1, 1, 1, 1, 1, 1, 1, 1, 1, 1, 1, 1, 1, 1, 1, 1, 1, 1, 1, 1, 1, 1, 1, 1, 1, 1, 1, 1, 1, 1, 1, 1, 1, 1, 1, 1, 1, 1, 1, 1, 1, 1, 1, 1, 1, 1, 1, 1, 1, 1, 1, 1, 1, 1, 1, 1, 1, 1, 1, 1, 1, 1, 1, 1, 1, 1, 1, 1, 1, 1, 1, 1, 1, 1, 1, 1, 1, 1, 1, 1, 1, 1, 1, 1, 1, 1, 1, 1, 1, 1, 1, 1, 1, 1, 1, 1, 1, 1, 1, 1, 1, 1, 1, 1, 1, 1, 1, 1, 1, 1, 1, 1, 1, 1, 1, 1, 1, 1, 1, 1, 1, 1, 1, 1, 1, 1, 1, 1, 1, 1, 1, 1, 1, 1, 1, 1, 1, 1, 1, 1, 1, 1, 1, 1, 1, 1, 1, 1, 1, 1, 1, 1, 1, 1, 1, 1, 1, 1, 1, 1, 1, 1, 1, 1, 1, 1, 1, 1, 1, 1, 1, 1, 1, 1, 1, 1, 1, 1, 1, 1, 1, 1, 1, 1, 1, 1, 1, 1, 1, 1, 1, 1, 1, 1, 1, 1, 1, 1, 1, 1, 1, 1, 1, 1, 1, 1, 1, 1, 1, 1, 1, 1, 1, 1, 1, 1, 1, 1, 1, 1, 1, 1, 1, 1, 1, 1, 1, 1, 1, 1, 1, 1, 1, 1, 1, 1, 1, 1, 1, 1, 1, 1, 1, 1, 1, 1, 1, 1, 1, 1, 1, 1, 1, 1, 1, 1, 1, 1, 1, 1, 1, 1, 1, 1, 1, 1, 1, 1, 1, 1, 1, 1, 1, None]\n"
          ]
        },
        {
          "data": {
            "application/vnd.google.colaboratory.intrinsic+json": {
              "type": "string"
            },
            "text/plain": [
              "\"\\nLast thing we'll mention is the sequence_ids attribute. When feeding pairs of input to a tokenizer, we can use it to distinguish first and second portion of a given sentence. In question and answering this will be helpful for identifying whether the predicted answer's start and end position falls inside context portion of a given document, instead of question portion. If we look at a sample output, we'll notice that special tokens will be mapped to None, whereas our context, which is passed as the second part of our paired input will receive a value of 1.\\n\""
            ]
          },
          "execution_count": 50,
          "metadata": {},
          "output_type": "execute_result"
        }
      ],
      "source": [
        "sequence_ids = tokenized_example.sequence_ids()\n",
        "print(sequence_ids)\n",
        "\n",
        "\"\"\"\n",
        "Last thing we'll mention is the sequence_ids attribute. When feeding pairs of input to a tokenizer, we can use it to distinguish first and second portion of a given sentence. In question and answering this will be helpful for identifying whether the predicted answer's start and end position falls inside context portion of a given document, instead of question portion. If we look at a sample output, we'll notice that special tokens will be mapped to None, whereas our context, which is passed as the second part of our paired input will receive a value of 1.\n",
        "\"\"\""
      ]
    },
    {
      "cell_type": "code",
      "execution_count": null,
      "metadata": {
        "colab": {
          "base_uri": "https://localhost:8080/",
          "height": 86
        },
        "id": "8USBff0zrSYH",
        "outputId": "2a6c6030-b02e-476d-e31c-264317557361"
      },
      "outputs": [
        {
          "data": {
            "text/html": [
              "\n",
              "  <style>\n",
              "    pre {\n",
              "        white-space: pre-wrap;\n",
              "    }\n",
              "  </style>\n",
              "  "
            ],
            "text/plain": [
              "<IPython.core.display.HTML object>"
            ]
          },
          "metadata": {},
          "output_type": "display_data"
        },
        {
          "name": "stdout",
          "output_type": "stream",
          "text": [
            "{'text': ['two to three million'], 'answer_start': [919]}\n",
            "two to three million\n",
            "919\n",
            "939\n"
          ]
        }
      ],
      "source": [
        "answers = example[\"answers\"]\n",
        "start_char = answers[\"answer_start\"][0]\n",
        "end_char = start_char + len(answers[\"text\"][0])\n",
        "\n",
        "print(answers)\n",
        "print(answers[\"text\"][0])\n",
        "print(start_char)\n",
        "print(end_char)"
      ]
    },
    {
      "cell_type": "code",
      "execution_count": null,
      "metadata": {
        "colab": {
          "base_uri": "https://localhost:8080/",
          "height": 34
        },
        "id": "KBvDtZJg_akt",
        "outputId": "7bc99d91-ee26-4671-df87-dfc9545b740f"
      },
      "outputs": [
        {
          "data": {
            "text/html": [
              "\n",
              "  <style>\n",
              "    pre {\n",
              "        white-space: pre-wrap;\n",
              "    }\n",
              "  </style>\n",
              "  "
            ],
            "text/plain": [
              "<IPython.core.display.HTML object>"
            ]
          },
          "metadata": {},
          "output_type": "display_data"
        },
        {
          "name": "stdout",
          "output_type": "stream",
          "text": [
            "15\n"
          ]
        }
      ],
      "source": [
        "# Start token index of the current span in the text.\n",
        "token_start_index = 0\n",
        "while sequence_ids[token_start_index] != 1:\n",
        "    token_start_index += 1\n",
        "print(token_start_index)"
      ]
    },
    {
      "cell_type": "code",
      "execution_count": null,
      "metadata": {
        "colab": {
          "base_uri": "https://localhost:8080/",
          "height": 34
        },
        "id": "L-5y65dI_h-t",
        "outputId": "a759fa6f-0b31-49a0-d4f2-bf4527cad4dd"
      },
      "outputs": [
        {
          "data": {
            "text/html": [
              "\n",
              "  <style>\n",
              "    pre {\n",
              "        white-space: pre-wrap;\n",
              "    }\n",
              "  </style>\n",
              "  "
            ],
            "text/plain": [
              "<IPython.core.display.HTML object>"
            ]
          },
          "metadata": {},
          "output_type": "display_data"
        },
        {
          "name": "stdout",
          "output_type": "stream",
          "text": [
            "382\n"
          ]
        }
      ],
      "source": [
        "# End token index of the current span in the text.\n",
        "token_end_index = len(tokenized_example[\"input_ids\"][0]) - 1\n",
        "while sequence_ids[token_end_index] != 1:\n",
        "    token_end_index -= 1\n",
        "print(token_end_index )"
      ]
    },
    {
      "cell_type": "code",
      "execution_count": null,
      "metadata": {
        "colab": {
          "base_uri": "https://localhost:8080/",
          "height": 34
        },
        "id": "B4FDvraprJNn",
        "outputId": "c373ab5f-1298-4db2-cc04-546c150c045f"
      },
      "outputs": [
        {
          "data": {
            "text/html": [
              "\n",
              "  <style>\n",
              "    pre {\n",
              "        white-space: pre-wrap;\n",
              "    }\n",
              "  </style>\n",
              "  "
            ],
            "text/plain": [
              "<IPython.core.display.HTML object>"
            ]
          },
          "metadata": {},
          "output_type": "display_data"
        },
        {
          "name": "stdout",
          "output_type": "stream",
          "text": [
            "259 262\n"
          ]
        }
      ],
      "source": [
        "# Detect if the answer is out of the span (in which case this feature is labeled with the CLS index).\n",
        "offsets = tokenized_example[\"offset_mapping\"][0]\n",
        "if (offsets[token_start_index][0] <= start_char and offsets[token_end_index][1] >= end_char):\n",
        "    # Move the token_start_index and token_end_index to the two ends of the answer.\n",
        "    # Note: we could go after the last offset if the answer is the last word (edge case).\n",
        "    while token_start_index < len(offsets) and offsets[token_start_index][0] <= start_char:\n",
        "        token_start_index += 1\n",
        "    start_position = token_start_index - 1\n",
        "    while offsets[token_end_index][1] >= end_char:\n",
        "        token_end_index -= 1\n",
        "    end_position = token_end_index + 1\n",
        "    print(start_position, end_position)\n",
        "else:\n",
        "    print(\"The answer is not in this feature.\")"
      ]
    },
    {
      "cell_type": "code",
      "execution_count": null,
      "metadata": {
        "colab": {
          "base_uri": "https://localhost:8080/",
          "height": 17
        },
        "id": "GuCQDHDLAYyv",
        "outputId": "d995ecd7-2617-438d-8504-1d0e459595af"
      },
      "outputs": [
        {
          "data": {
            "text/html": [
              "\n",
              "  <style>\n",
              "    pre {\n",
              "        white-space: pre-wrap;\n",
              "    }\n",
              "  </style>\n",
              "  "
            ],
            "text/plain": [
              "<IPython.core.display.HTML object>"
            ]
          },
          "metadata": {},
          "output_type": "display_data"
        }
      ],
      "source": [
        "#print(tokenizer.decode(tokenized_example[\"input_ids\"][0][start_position: end_position+1]))\n",
        "#print(answers[\"text\"][0])"
      ]
    },
    {
      "cell_type": "code",
      "execution_count": null,
      "metadata": {
        "colab": {
          "base_uri": "https://localhost:8080/",
          "height": 71
        },
        "id": "60K01uhYzkIC",
        "outputId": "6d825893-6dd9-443f-e176-1ad628331f1e"
      },
      "outputs": [
        {
          "data": {
            "text/html": [
              "\n",
              "  <style>\n",
              "    pre {\n",
              "        white-space: pre-wrap;\n",
              "    }\n",
              "  </style>\n",
              "  "
            ],
            "text/plain": [
              "<IPython.core.display.HTML object>"
            ]
          },
          "metadata": {},
          "output_type": "display_data"
        },
        {
          "data": {
            "application/vnd.google.colaboratory.intrinsic+json": {
              "type": "string"
            },
            "text/plain": [
              "'\\nexamples = [    \"We are going to split this sentence\",\\n    \"This sentence is longer, we are also going to split it\"\\n]\\ntokenized = tokenizer(\\n    examples,\\n    truncation=True,\\n    return_overflowing_tokens=True,\\n    max_length=6,\\n    stride=2\\n)\\nprint(\"number of examples: \", len(examples))\\nprint(\"number of tokenized features: \", len(tokenized[\"input_ids\"]))\\ntokenized\\n'"
            ]
          },
          "execution_count": 56,
          "metadata": {},
          "output_type": "execute_result"
        }
      ],
      "source": [
        "\"\"\"\n",
        "examples = [    \"We are going to split this sentence\",\n",
        "    \"This sentence is longer, we are also going to split it\"\n",
        "]\n",
        "tokenized = tokenizer(\n",
        "    examples,\n",
        "    truncation=True,\n",
        "    return_overflowing_tokens=True,\n",
        "    max_length=6,\n",
        "    stride=2\n",
        ")\n",
        "print(\"number of examples: \", len(examples))\n",
        "print(\"number of tokenized features: \", len(tokenized[\"input_ids\"]))\n",
        "tokenized\n",
        "\"\"\""
      ]
    },
    {
      "cell_type": "code",
      "execution_count": null,
      "metadata": {
        "id": "GJlf5x-Yz5cC"
      },
      "outputs": [],
      "source": [
        "# if we print out the batched input ids, we'll see each one\n",
        "# of our sentences has been split to multiple chunks/features\n",
        "#for input_id, sample_mapping in zip(tokenized[\"input_ids\"], tokenized[\"overflow_to_sample_mapping\"]):\n",
        "    #chunk = tokenizer.decode(input_id)\n",
        "    #print(\"Chunk: \", chunk)\n",
        "    #print(\"Orignal input: \", examples[sample_mapping])"
      ]
    },
    {
      "cell_type": "markdown",
      "metadata": {
        "id": "bJE6P_L8b31d"
      },
      "source": [
        "## xyz"
      ]
    },
    {
      "cell_type": "markdown",
      "metadata": {
        "id": "zVw4gSIAaWDy"
      },
      "source": [
        "Upon introducing these advanced tokenizer usages, the next few code cell showcase how to put them in use and creates a function for preprocessing our question answer dataset into a format that's suited for downstream modeling. Note:\n",
        "\n",
        "When performing truncation, we should only truncate the context, never the question. Configured via truncation=\"only_second\"\n",
        "Given that we split a single document into several chunks, it can happen that a given chunk doesn't contain a valid answer, in this case, we will set question answer task's label, start_position and end_position, to index 0 (special token [CLS]'s index).\n",
        "We'll be padding every feature to maximum length, as most of the context will be reaching that threshold, there's no real benefit of performing dynamic padding."
      ]
    },
    {
      "cell_type": "code",
      "execution_count": 11,
      "metadata": {
        "colab": {
          "base_uri": "https://localhost:8080/",
          "height": 17
        },
        "id": "GQvG4VgcCZ8E",
        "outputId": "d912411d-c97e-41c4-d958-51434da9b6b0"
      },
      "outputs": [
        {
          "output_type": "display_data",
          "data": {
            "text/plain": [
              "<IPython.core.display.HTML object>"
            ],
            "text/html": [
              "\n",
              "  <style>\n",
              "    pre {\n",
              "        white-space: pre-wrap;\n",
              "    }\n",
              "  </style>\n",
              "  "
            ]
          },
          "metadata": {}
        }
      ],
      "source": [
        "pad_on_right = tokenizer.padding_side == \"right\"\n",
        "max_length =384\n",
        "doc_stride =128"
      ]
    },
    {
      "cell_type": "code",
      "execution_count": 12,
      "metadata": {
        "colab": {
          "base_uri": "https://localhost:8080/",
          "height": 17
        },
        "id": "Kn-nfdFl2JBq",
        "outputId": "a9a62174-76cc-4637-e587-ccdb3a65e4c6"
      },
      "outputs": [
        {
          "output_type": "display_data",
          "data": {
            "text/plain": [
              "<IPython.core.display.HTML object>"
            ],
            "text/html": [
              "\n",
              "  <style>\n",
              "    pre {\n",
              "        white-space: pre-wrap;\n",
              "    }\n",
              "  </style>\n",
              "  "
            ]
          },
          "metadata": {}
        }
      ],
      "source": [
        "def prepare_qa_train(examples):\n",
        "    \"\"\"Prepare training data, input features plus label for question answering dataset.\"\"\"\n",
        "    answers = examples[\"answers\"]\n",
        "    examples[\"question\"] = [question.strip() for question in examples[\"question\"]]\n",
        "\n",
        "    # Tokenize our examples with truncation and padding, but keep overflows using a stride.\n",
        "    # This results in one example potentially generating several features when a context is\n",
        "    # long, each of those features having a context that overlaps a bit the previous\n",
        "    # feature's context to prevent chopping off answer span.\n",
        "    tokenized_examples = tokenizer(\n",
        "        examples[\"question\"],\n",
        "        examples[\"context\"],\n",
        "        max_length=max_length,\n",
        "        truncation=\"only_second\",\n",
        "        return_overflowing_tokens=True,\n",
        "        return_offsets_mapping=True,\n",
        "        stride=doc_stride,\n",
        "        padding=\"max_length\"\n",
        "    )\n",
        "    sample_mapping = tokenized_examples[\"overflow_to_sample_mapping\"]\n",
        "    offset_mapping = tokenized_examples[\"offset_mapping\"]\n",
        "\n",
        "     # We will label impossible answers with CLS token's index.\n",
        "    cls_index = 0\n",
        "\n",
        "    # start_positions and end_positions will be the labels for extractive question answering\n",
        "    tokenized_examples[\"start_positions\"] = []\n",
        "    tokenized_examples[\"end_positions\"] = []\n",
        "    for i, offset in enumerate(offset_mapping):\n",
        "        input_ids = tokenized_examples[\"input_ids\"][i]\n",
        "\n",
        "        sample_index = sample_mapping[i]\n",
        "        answer = answers[sample_index]\n",
        "\n",
        "        # if no answers are given, set CLS index as answer\n",
        "        if len(answer[\"answer_start\"]) == 0:\n",
        "            tokenized_examples[\"start_positions\"].append(cls_index)\n",
        "            tokenized_examples[\"end_positions\"].append(cls_index)\n",
        "        else:\n",
        "            start_char = answer[\"answer_start\"][0]\n",
        "            end_char = start_char + len(answer[\"text\"][0])\n",
        "\n",
        "            sequence_ids = tokenized_examples.sequence_ids(i)\n",
        "\n",
        "            # find the context's corresponding start and end token index\n",
        "            token_start_index = 0\n",
        "            while sequence_ids[token_start_index] != 1:\n",
        "                token_start_index += 1\n",
        "\n",
        "            token_end_index = len(input_ids) - 1\n",
        "            while sequence_ids[token_end_index] != 1:\n",
        "                token_end_index -= 1\n",
        "\n",
        "            # if answer is within the context offset, move the token_start_index and token_end_index\n",
        "            # to two ends of the answer else label it with cls index\n",
        "            offset_start_char = offset[token_start_index][0]\n",
        "            offset_end_char = offset[token_end_index][1]\n",
        "            if offset_start_char <= start_char and offset_end_char >= end_char:\n",
        "                while token_start_index < len(offset) and offset[token_start_index][0] <= start_char:\n",
        "                    token_start_index += 1\n",
        "                start_position = token_start_index - 1\n",
        "\n",
        "                while offset[token_end_index][1] >= end_char:\n",
        "                    token_end_index -= 1\n",
        "                end_position = token_end_index + 1\n",
        "\n",
        "                tokenized_examples[\"start_positions\"].append(start_position)\n",
        "                tokenized_examples[\"end_positions\"].append(end_position)\n",
        "            else:\n",
        "                tokenized_examples[\"start_positions\"].append(cls_index)\n",
        "                tokenized_examples[\"end_positions\"].append(cls_index)\n",
        "\n",
        "    return tokenized_examples"
      ]
    },
    {
      "cell_type": "code",
      "execution_count": null,
      "metadata": {
        "colab": {
          "base_uri": "https://localhost:8080/",
          "height": 17
        },
        "id": "_ORkVVPejnqL",
        "outputId": "d8531015-edfe-431d-c109-e68d4e4236ee"
      },
      "outputs": [
        {
          "data": {
            "text/html": [
              "\n",
              "  <style>\n",
              "    pre {\n",
              "        white-space: pre-wrap;\n",
              "    }\n",
              "  </style>\n",
              "  "
            ],
            "text/plain": [
              "<IPython.core.display.HTML object>"
            ]
          },
          "metadata": {},
          "output_type": "display_data"
        }
      ],
      "source": [
        "# Ref: https://keras.io/examples/nlp/question_answering/ (Taken the example from)\n",
        "\"\"\"\n",
        "\n",
        "def prepare_ds_features(ds_data):\n",
        "    #Remove left whitespace\n",
        "    ds_data[\"question\"] = [q.lstrip() for q in ds_data[\"question\"]]\n",
        "\n",
        "    # Tokenize our ds_data with truncation and padding, but keep the overflows using a stride. This results\n",
        "    # in one example possible giving several features when a context is long, each of those features having a\n",
        "    # context that overlaps a bit the context of the previous feature.\n",
        "    tokenized_ds_data = tokenizer(\n",
        "        ds_data[\"question\" if pad_on_right else \"context\"],\n",
        "        ds_data[\"context\" if pad_on_right else \"question\"],\n",
        "        truncation=\"only_second\" if pad_on_right else \"only_first\",\n",
        "        max_length=max_length,\n",
        "        stride=doc_stride,\n",
        "        return_overflowing_tokens=True,\n",
        "        return_offsets_mapping=True,\n",
        "        padding=\"max_length\",\n",
        "    )\n",
        "\n",
        "    # Since one example might give us several features if it has a long context, we need a map from a feature to\n",
        "    # its corresponding example. This key gives us just that.\n",
        "    # Looks like [0,1,2,2,2,3,4,5,5...] - Here 2nd input pair has been split in 3 parts\n",
        "\n",
        "    sample_mapping = tokenized_ds_data.pop(\"overflow_to_sample_mapping\")\n",
        "    # The offset mappings will give us a map from token to character position in the original context. This will\n",
        "    # help us compute the start_positions and end_positions.\n",
        "    # Looks like [[(0,0),(0,3),(3,4)...] ] - Contains the actual start indices and end indices for each word in the input.\n",
        "\n",
        "    offset_mapping = tokenized_ds_data.pop(\"offset_mapping\")\n",
        "\n",
        "    # Let's label those ds_data!\n",
        "    tokenized_ds_data[\"start_positions\"] = []\n",
        "    tokenized_ds_data[\"end_positions\"] = []\n",
        "\n",
        "    for i, offsets in enumerate(offset_mapping):\n",
        "        # We will label impossible answers with the index of the CLS token.\n",
        "        input_ids = tokenized_ds_data[\"input_ids\"][i]\n",
        "        print(f\" input ids are {input_ids}\")\n",
        "        cls_index = input_ids.index(tokenizer.cls_token_id)\n",
        "\n",
        "        # Grab the sequence corresponding to that example (to know what is the context and what is the question).\n",
        "        sequence_ids = tokenized_ds_data.sequence_ids(i)\n",
        "        print(f\" sequence ids are {sequence_ids}\")\n",
        "\n",
        "\n",
        "        # One example can give several spans, this is the index of the example containing this span of text.\n",
        "        sample_index = sample_mapping[i]\n",
        "        print(sample_index)\n",
        "        answers = ds_data[\"answers\"][sample_index]\n",
        "\n",
        "        # If no answers are given, set the cls_index as answer.\n",
        "        if len(answers[\"answer_start\"]) == 0:\n",
        "            tokenized_ds_data[\"start_positions\"].append(cls_index)\n",
        "            tokenized_ds_data[\"end_positions\"].append(cls_index)\n",
        "        else:\n",
        "            # Start/end character index of the answer in the text.\n",
        "            start_char = answers[\"answer_start\"][0]\n",
        "            end_char = start_char + len(answers[\"text\"][0])\n",
        "\n",
        "            # Start token index of the current span in the text.\n",
        "            token_start_index = 0\n",
        "            while sequence_ids[token_start_index] != (1 if pad_on_right else 0):\n",
        "                token_start_index += 1\n",
        "\n",
        "            # End token index of the current span in the text.\n",
        "            token_end_index = len(input_ids) - 1\n",
        "            while sequence_ids[token_end_index] != (1 if pad_on_right else 0):\n",
        "                token_end_index -= 1\n",
        "\n",
        "            # Detect if the answer is out of the span (in which case this feature is labeled with the CLS index).\n",
        "            if not (offsets[token_start_index][0] <= start_char and offsets[token_end_index][1] >= end_char):\n",
        "                tokenized_ds_data[\"start_positions\"].append(cls_index)\n",
        "                tokenized_ds_data[\"end_positions\"].append(cls_index)\n",
        "                print(f\"{i} answer out of span\")\n",
        "            else:\n",
        "                # Otherwise move the token_start_index and token_end_index to the two ends of the answer.\n",
        "                # Note: we could go after the last offset if the answer is the last word (edge case).\n",
        "                while token_start_index < len(offsets) and offsets[token_start_index][0] <= start_char:\n",
        "                    token_start_index += 1\n",
        "                tokenized_ds_data[\"start_positions\"].append(token_start_index - 1)\n",
        "                while offsets[token_end_index][1] >= end_char:\n",
        "                    token_end_index -= 1\n",
        "                tokenized_ds_data[\"end_positions\"].append(token_end_index + 1)\n",
        "                print(tokenized_ds_data)\n",
        "    return tokenized_ds_data\n",
        "\n",
        "    \"\"\""
      ]
    },
    {
      "cell_type": "code",
      "execution_count": 14,
      "metadata": {
        "colab": {
          "base_uri": "https://localhost:8080/",
          "height": 36
        },
        "id": "k8w9iXxeBZ_5",
        "outputId": "eee0cca3-1433-4d3e-b76c-b545593db9a4"
      },
      "outputs": [
        {
          "output_type": "display_data",
          "data": {
            "text/plain": [
              "<IPython.core.display.HTML object>"
            ],
            "text/html": [
              "\n",
              "  <style>\n",
              "    pre {\n",
              "        white-space: pre-wrap;\n",
              "    }\n",
              "  </style>\n",
              "  "
            ]
          },
          "metadata": {}
        },
        {
          "output_type": "execute_result",
          "data": {
            "text/plain": [
              "'Western blot'"
            ],
            "application/vnd.google.colaboratory.intrinsic+json": {
              "type": "string"
            }
          },
          "metadata": {},
          "execution_count": 14
        }
      ],
      "source": [
        "examples = ds[\"train\"][50:51]\n",
        "answers = examples[\"answers\"]\n",
        "answers[0][\"text\"][0]"
      ]
    },
    {
      "cell_type": "code",
      "execution_count": 15,
      "metadata": {
        "colab": {
          "base_uri": "https://localhost:8080/",
          "height": 1000
        },
        "id": "Cx_91TuPErHz",
        "outputId": "df3568d7-8c13-43b6-a5d1-3baf076f2e7d"
      },
      "outputs": [
        {
          "output_type": "display_data",
          "data": {
            "text/plain": [
              "<IPython.core.display.HTML object>"
            ],
            "text/html": [
              "\n",
              "  <style>\n",
              "    pre {\n",
              "        white-space: pre-wrap;\n",
              "    }\n",
              "  </style>\n",
              "  "
            ]
          },
          "metadata": {}
        },
        {
          "output_type": "stream",
          "name": "stdout",
          "text": [
            "0\n",
            "[CLS] what laboratory test can be used to monitor protein expression? [SEP] venezuelan equine encephalitis virus induces apoptosis through the unfolded protein response activation of egr1 https : / / www. ncbi. nlm. nih. gov / pmc / articles / pmc4794670 / sha : f4aa788ab898b28b00ee103e4d4ab24a2c684caf authors : baer, alan ; lundberg, lindsay ; swales, danielle ; waybright, nicole ; pinkham, chelsea ; dinman, jonathan d. ; jacobs, jonathan l. ; kehn - hall, kylene date : 2016 - 03 - 11 doi : 10. 1128 / jvi. 02827 - 15 license : cc - by abstract : venezuelan equine encephalitis virus ( veev ) is a previously weaponized arthropod - borne virus responsible for causing acute and fatal encephalitis in animal and human hosts. the increased circulation and spread in the americas of veev and other encephalitic arboviruses, such as eastern equine encephalitis virus and west nile virus, underscore the need for research aimed at characterizing the pathogenesis of viral encephalomyelitis for the development of novel medical countermeasures. the host - pathogen dynamics of veev trinidad donkey - infected human astrocytoma u87mg cells were determined by carrying out rna sequencing ( rna - seq ) of poly ( a ) and mrnas. to identify the critical alterations that take place in the host transcriptome following veev infection, samples were collected at 4, 8, and 16 h postinfection and rna - seq data were acquired using an ion torrent [SEP]\n",
            "1\n",
            "[CLS] what laboratory test can be used to monitor protein expression? [SEP] west nile virus, underscore the need for research aimed at characterizing the pathogenesis of viral encephalomyelitis for the development of novel medical countermeasures. the host - pathogen dynamics of veev trinidad donkey - infected human astrocytoma u87mg cells were determined by carrying out rna sequencing ( rna - seq ) of poly ( a ) and mrnas. to identify the critical alterations that take place in the host transcriptome following veev infection, samples were collected at 4, 8, and 16 h postinfection and rna - seq data were acquired using an ion torrent pgm platform. differential expression of interferon response, stress response factors, and components of the unfolded protein response ( upr ) was observed. the protein kinase rna - like endoplasmic reticulum kinase ( perk ) arm of the upr was activated, as the expression of both activating transcription factor 4 ( atf4 ) and chop ( ddit3 ), critical regulators of the pathway, was altered after infection. expression of the transcription factor early growth response 1 ( egr1 ) was induced in a perk - dependent manner. egr1 ( − / − ) mouse embryonic fibroblasts ( mefs ) demonstrated lower susceptibility to veev - induced cell death than isogenic wild - type mefs, indicating that egr1 modulates proapoptotic pathways following veev infection. the influence of egr1 is of great importance, as neuronal damage can lead to long - term sequelae in individuals who have survived veev infection. importance alphaviruses represent a group of clinically relevant viruses transmitted by mosquitoes to humans. in severe cases, viral spread targets neuronal tissue, resulting in significant and life [SEP]\n",
            "2\n",
            "[CLS] what laboratory test can be used to monitor protein expression? [SEP] egr1 ( − / − ) mouse embryonic fibroblasts ( mefs ) demonstrated lower susceptibility to veev - induced cell death than isogenic wild - type mefs, indicating that egr1 modulates proapoptotic pathways following veev infection. the influence of egr1 is of great importance, as neuronal damage can lead to long - term sequelae in individuals who have survived veev infection. importance alphaviruses represent a group of clinically relevant viruses transmitted by mosquitoes to humans. in severe cases, viral spread targets neuronal tissue, resulting in significant and life - threatening inflammation dependent on a combination of virus - host interactions. currently there are no therapeutics for infections cause by encephalitic alphaviruses due to an incomplete understanding of their molecular pathogenesis. venezuelan equine encephalitis virus ( veev ) is an alphavirus that is prevalent in the americas and that is capable of infecting horses and humans. here we utilized next - generation rna sequencing to identify differential alterations in veev - infected astrocytes. our results indicated that the abundance of transcripts associated with the interferon and the unfolded protein response pathways was altered following infection and demonstrated that early growth response 1 ( egr1 ) contributed to veev - induced cell death. text : v enezuelan equine encephalitis virus ( veev ) is a new world alphavirus in the family togaviridae that is endemic to the americas. veev is a positive - strand rna virus that is transmitted by mosquitoes and that is naturally present in rodent reservoirs ( 1 ). there are six subtypes that are categorized by their geographic range and pathology in equines and humans. the two epizootic strains, [SEP]\n",
            "3\n",
            "[CLS] what laboratory test can be used to monitor protein expression? [SEP] the unfolded protein response pathways was altered following infection and demonstrated that early growth response 1 ( egr1 ) contributed to veev - induced cell death. text : v enezuelan equine encephalitis virus ( veev ) is a new world alphavirus in the family togaviridae that is endemic to the americas. veev is a positive - strand rna virus that is transmitted by mosquitoes and that is naturally present in rodent reservoirs ( 1 ). there are six subtypes that are categorized by their geographic range and pathology in equines and humans. the two epizootic strains, ia / b and ic, arose from mutations among the enzootic strains ( 2 ). the ia / b and ic strains are of particular concern due to increased rates of morbidity and mortality and the risks associated with viral amplification and potential species spillover ( 2 ). in humans, veev causes a febrile illness typified by fever, malaise, and vomiting. in some cases, infection progresses to the central nervous system ( cns ) and neurological symptoms, such as confusion, ataxia, and seizures, manifest. the mortality rate among cases with neurological symptoms can be as high as 35 % in children and 10 % in adults, with long - term neurological deficits often being seen in survivors ( 2 ). in 1995, an outbreak of veev in colombia and venezuela resulted in over 100, 000 human cases ( 3 ). in addition to natural outbreaks, veev is also a concern from a bioterrorism perspective, as it can be grown to high titers, requires a low infectious dose, and contains multiple serotypes. both the former soviet union and the united states previously weaponized the virus, producing large quantities for their now defunct offensive bio [SEP]\n",
            "4\n",
            "[CLS] what laboratory test can be used to monitor protein expression? [SEP] among cases with neurological symptoms can be as high as 35 % in children and 10 % in adults, with long - term neurological deficits often being seen in survivors ( 2 ). in 1995, an outbreak of veev in colombia and venezuela resulted in over 100, 000 human cases ( 3 ). in addition to natural outbreaks, veev is also a concern from a bioterrorism perspective, as it can be grown to high titers, requires a low infectious dose, and contains multiple serotypes. both the former soviet union and the united states previously weaponized the virus, producing large quantities for their now defunct offensive bioweapons programs ( 4 ). currently, vaccine strain tc83 is used in horses and for high - risk personnel ; however, due to the low rate of seroconversion achieved with this vaccine ( 5 ) and its reliance on two single attenuating mutations ( 6 ), it is considered unfit for mass distribution ( 7 ). to date there are no fda - approved therapeutics for veev infection, and further studies are required for clarification of the mechanisms associated with the underlying pathogenesis of veev. viral and host transcriptomic studies can provide a wealth of information on the underlying pathogenic mechanisms and interactions following the course of an infection. the use of highthroughput next - generation sequencing has led to the discovery of previously uncharacterized viruses and the establishment of numerous novel experimental systems redefining virus - host interactions. to date a number of studies have examined the alterations in the host transcriptome following veev infection. a comparative microarray analysis between cells persistently infected with veev and cells able to clear veev resulted in the identification of parp12l as an antiviral factor ( 8 ). a molecular comparison utilizing microarray [SEP]\n",
            "5\n",
            "[CLS] what laboratory test can be used to monitor protein expression? [SEP] provide a wealth of information on the underlying pathogenic mechanisms and interactions following the course of an infection. the use of highthroughput next - generation sequencing has led to the discovery of previously uncharacterized viruses and the establishment of numerous novel experimental systems redefining virus - host interactions. to date a number of studies have examined the alterations in the host transcriptome following veev infection. a comparative microarray analysis between cells persistently infected with veev and cells able to clear veev resulted in the identification of parp12l as an antiviral factor ( 8 ). a molecular comparison utilizing microarrays of host - based responses to the tc83 strain was able to identify biomarkers differentiating between vaccine responder and vaccine nonresponder groups, as well as the involvement of interferon ( ifn ), interferon - induced pathways, toll - like receptor ( tlr ), and interleukin 12 ( il - 12 ) related pathways ( 9 ). a study examining the role of adhesion and inflammatory factors in veev - infected cd - 1 mice found viral modulation of the expression of extracellular matrix and adhesion genes, such as integrins ( [UNK], itg2, 3, and 7 ), cadherins 1 and 2, vascular cell adhesion molecule 1, and intracellular adhesion molecule 1 ( icam - 1 ), in the brains of veev - infected mice ( 10 ). follow - up experiments utilizing icam - 1 - knockout mice demonstrated reduced inflammation in the brain and a subsequent delay in the onset of neurological sequelae ( 10 ). a study by sharma et al. utilized microarrays to analyze gene expression changes in the brain tissue of veev - infected mice over the course of an infection, [SEP]\n",
            "6\n",
            "[CLS] what laboratory test can be used to monitor protein expression? [SEP], such as integrins ( [UNK], itg2, 3, and 7 ), cadherins 1 and 2, vascular cell adhesion molecule 1, and intracellular adhesion molecule 1 ( icam - 1 ), in the brains of veev - infected mice ( 10 ). follow - up experiments utilizing icam - 1 - knockout mice demonstrated reduced inflammation in the brain and a subsequent delay in the onset of neurological sequelae ( 10 ). a study by sharma et al. utilized microarrays to analyze gene expression changes in the brain tissue of veev - infected mice over the course of an infection, discovering numerous immune pathways involved in antigen presentation, inflammation, apoptosis, and the traditional antiviral response ( cxcl10, cxcl11, ccl5, ifr7, ifi27, oas1b, fcerg1, mif, clusterin, and major histocompatibility complex [ mhc ] class ii ) ( 11 ). a second study by the same group identified the regulation of micrornas ( mirnas ) in the brains of veev - infected mice, which enabled the correlation of the mirna changes with earlier mrna expression data ( 11, 12 ). these analyses suggest that veev may be utilizing cellular mirnas in order to regulate downstream mrna, which may correspond with the veev - induced histological changes to the nervous system ( 11, 12 ). in the current study, next - generation rna sequencing ( rna - seq ) was used to identify clinically relevant alterations in the mrna transcriptome of human astrocytes infected with wildtype ( wt ) veev strain trinidad donkey ( trd ). the analysis of host mrnas by rna - seq provides novel insight into how a host responds to a [SEP]\n",
            "7\n",
            "[CLS] what laboratory test can be used to monitor protein expression? [SEP] mirna changes with earlier mrna expression data ( 11, 12 ). these analyses suggest that veev may be utilizing cellular mirnas in order to regulate downstream mrna, which may correspond with the veev - induced histological changes to the nervous system ( 11, 12 ). in the current study, next - generation rna sequencing ( rna - seq ) was used to identify clinically relevant alterations in the mrna transcriptome of human astrocytes infected with wildtype ( wt ) veev strain trinidad donkey ( trd ). the analysis of host mrnas by rna - seq provides novel insight into how a host responds to a viral infection through the identification of a wide and dynamic range of transcripts in an unbiased manner. selective sequencing of mrnas, specifically, polyadenylated [ poly ( a ) ] transcripts, which account for [UNK] % of the entire transcriptome, enhances the detection of the most relevant and low - abundance transcripts ( 13 ). as veev has been shown to productively infect astrocytes both in vitro and in vivo ( 14, 15 ), we chose astrocytes as our model of interest. astrocytes are the most abundant cell in the brain, outnumbering neurons by at least 5 - fold ( 16 ), providing an abundant resource for viral replication within the brain. in addition to their well - described structural role in neuronal tissue, as - trocytes play critical roles in other processes, including the regulation of blood flow and of the blood - brain barrier, synapse transmission, and the response to infection ( 16 ). veev - infected astrocytes have been shown to produce multiple cytokines, including il - 8, il - 17, interferon gamma ( ifn - [UNK] ), and gamma interferon - induced protein 10 [SEP]\n",
            "8\n",
            "[CLS] what laboratory test can be used to monitor protein expression? [SEP] the brain, outnumbering neurons by at least 5 - fold ( 16 ), providing an abundant resource for viral replication within the brain. in addition to their well - described structural role in neuronal tissue, as - trocytes play critical roles in other processes, including the regulation of blood flow and of the blood - brain barrier, synapse transmission, and the response to infection ( 16 ). veev - infected astrocytes have been shown to produce multiple cytokines, including il - 8, il - 17, interferon gamma ( ifn - [UNK] ), and gamma interferon - induced protein 10, all of which were found to be associated with viral attenuation ( 14 ). in order to obtain a dynamic view of the virus - host interactome, rna - seq was used to monitor changes in gene expression in veev trd - infected astrocytes at 4, 8, and 16 h postinfection ( hpi ). by viewing the alterations at multiple early time points using triplicate biological replicates, a robust and dynamic range of information is generated, and this information provides an increase in both the power and the accuracy of detection of differentially expressed transcripts in a highly relevant clinical model ( 17 ). among veev - infected cells, an increase in interferon - regulated genes, including ifit1, ifit2, ifit3, and oasl, was observed. the increased expression of genes involved in the stressinduced unfolded protein response ( upr ) pathway was also noted. interestingly, veev infection resulted in an increase in early growth response protein 1 ( egr1 ), which may serve as a link between the two pathways. the identification of host mrnas whose expression is altered following veev replication, specifically, e [SEP]\n",
            "9\n",
            "[CLS] what laboratory test can be used to monitor protein expression? [SEP] differentially expressed transcripts in a highly relevant clinical model ( 17 ). among veev - infected cells, an increase in interferon - regulated genes, including ifit1, ifit2, ifit3, and oasl, was observed. the increased expression of genes involved in the stressinduced unfolded protein response ( upr ) pathway was also noted. interestingly, veev infection resulted in an increase in early growth response protein 1 ( egr1 ), which may serve as a link between the two pathways. the identification of host mrnas whose expression is altered following veev replication, specifically, egr1 and its interactors up - and downstream, may provide novel host - based therapeutic targets critical for veev replication and a greater understanding of the underlying mechanisms underpinning alphavirus replication. viral infections and plaque assays. veev trd was obtained from bei resources. all experiments with veev trd were performed under biosafety level 3 ( bsl - 3 ) conditions. all work involving select agents is registered with the centers for disease control and prevention and was conducted at george mason university's biomedical research laboratory, which is registered in accordance with federal select agent regulations. for infections, veev was added to supplemented dulbecco modified eagle medium ( dmem ) to achieve a multiplicity of infection ( moi ) of 0. 05, 0. 5, or 5. cells were infected for 1 h at 37°c and rotated every 15 min to ensure adequate coverage. the cells were then washed with phosphatebuffered saline ( pbs ), and complete growth medium was added back to the cells. viral supernatants and cells were collected at various times postinfection for further analysis. plaque assays were performed as previously described ( 18 ). mrna isolation and [SEP]\n",
            "10\n",
            "[CLS] what laboratory test can be used to monitor protein expression? [SEP] federal select agent regulations. for infections, veev was added to supplemented dulbecco modified eagle medium ( dmem ) to achieve a multiplicity of infection ( moi ) of 0. 05, 0. 5, or 5. cells were infected for 1 h at 37°c and rotated every 15 min to ensure adequate coverage. the cells were then washed with phosphatebuffered saline ( pbs ), and complete growth medium was added back to the cells. viral supernatants and cells were collected at various times postinfection for further analysis. plaque assays were performed as previously described ( 18 ). mrna isolation and poly ( a ) library preparation. rna from u87mg cells was purified from both veev trd - infected ( biosafety level 3 ) and mock - infected u87mg cells at 4, 8, and 16 hpi utilizing a mirvana isolation kit ( life technologies ). quality control of purified rna was then performed using an agilent 2100 bioanalyzer, and an rna integrity number ( rin ) cutoff of 8 was utilized for all samples. an external rna controls consortium ( ercc ) rna spike - in control mix was then added to the total rna inputs ( 10 g rna ) before poly ( a ) selection using a life technologies dynabeads mrna direct kit. preparation of a whole - transcriptome rna library from purified mrna was then performed using an ion total rna - seq kit ( v2 ; life technologies ). quality control of the cdna libraries was then performed using the agilent 2100 bioanalyzer along with sterility testing for removal of libraries for sequencing from a bsl - 3 to bsl - 2 laboratory. rna sequencing. library template preparation was performed on a one touch 2 platform ( life technologies [SEP]\n",
            "11\n",
            "[CLS] what laboratory test can be used to monitor protein expression? [SEP] control mix was then added to the total rna inputs ( 10 g rna ) before poly ( a ) selection using a life technologies dynabeads mrna direct kit. preparation of a whole - transcriptome rna library from purified mrna was then performed using an ion total rna - seq kit ( v2 ; life technologies ). quality control of the cdna libraries was then performed using the agilent 2100 bioanalyzer along with sterility testing for removal of libraries for sequencing from a bsl - 3 to bsl - 2 laboratory. rna sequencing. library template preparation was performed on a one touch 2 platform ( life technologies ). next - generation rna sequencing was performed on an ion torrent pgm platform and was carried out for each sample to assess the differential gene expression of infected versus uninfected cells over time. data filtering and rna - seq analysis pipeline. a total of [UNK] million sequencing reads and an average of 6. 6 million reads per sample were used as the input into our analysis pipeline. unless otherwise noted, downstream rna - seq analysis was carried out using the clc bio genomics workbench ( v7 ). raw rna - seq reads were trimmed to remove any residual sequencing adapter fragments that remained on the 5 = or 3 = ends after sequencing. in addition, end trimming of reads was done using the modified mott algorithm with a q20 quality score, and any reads of less than 15 bp were discarded. following read trimming, the reads were mapped to human genome hg19 with the following rna - seq parameters : a 10 - hit limit for multiple mapped positions, a similarity fraction of 0. 8, a length fraction of 0. 8, a mismatch cost of 2, and an indel cost of 3. the expression level of individual genes [SEP]\n",
            "12\n",
            "[CLS] what laboratory test can be used to monitor protein expression? [SEP] trimmed to remove any residual sequencing adapter fragments that remained on the 5 = or 3 = ends after sequencing. in addition, end trimming of reads was done using the modified mott algorithm with a q20 quality score, and any reads of less than 15 bp were discarded. following read trimming, the reads were mapped to human genome hg19 with the following rna - seq parameters : a 10 - hit limit for multiple mapped positions, a similarity fraction of 0. 8, a length fraction of 0. 8, a mismatch cost of 2, and an indel cost of 3. the expression level of individual genes and transcripts was calculated using the number of reads per kilobase of the exon model per million mapped reads ( rpkm ) method of mortazavi et al. ( 19 ). in addition, unmapped reads were also mapped to the ercc92 synthetic rna sequence set ( 20 ), as well as to the veev reference genome ( genbank accession number l01442 ). in all samples, the correlation coefficient ( r 2 ) between the expected and the mapped number of reads for the ercc92 spike - in controls was above 0. 90. a summary of the overall sequencing results is shown in table 1. postmapping filtering of all rna - seq data was carried out next to include only genes with at least one uniquely mapped read ( 26, 230 genes remained across all data sets ) and only those with a nonzero interquartile range across the entire experiment. principal component analysis of the resulting filtered data set ( 13, 906 genes in total ) was carried out using raw counts of uniquely mapped reads ( see fig. 2a ). the remaining rpkm expression values for each gene included in the filtered data set were subjected to [SEP]\n",
            "13\n",
            "[CLS] what laboratory test can be used to monitor protein expression? [SEP] was above 0. 90. a summary of the overall sequencing results is shown in table 1. postmapping filtering of all rna - seq data was carried out next to include only genes with at least one uniquely mapped read ( 26, 230 genes remained across all data sets ) and only those with a nonzero interquartile range across the entire experiment. principal component analysis of the resulting filtered data set ( 13, 906 genes in total ) was carried out using raw counts of uniquely mapped reads ( see fig. 2a ). the remaining rpkm expression values for each gene included in the filtered data set were subjected to quantile normalization with a 5 % cutoff. a box plot of log 2transformed rpkm values for each sample before normalization is shown in fig. 2b. the r 2 value for pairwise sample - to - sample variation within each biological replicate set was observed to range from 0. 89 to 0. 99, indicating that our biological replicates were consistent and showed no strong bias ( data not shown ). differential gene expression analysis. differentially expressed genes ( degs ) were identified using two approaches. first, the empirical analysis of differential gene expression algorithm, part of the edger bioconductor package ( 21 ), was applied to the integrated data set of all 18 experiments using the default parameters and a false discovery rate - corrected p value. at each time point, infected and mock - infected samples were compared, and genes whose expression differed by more than 2 - fold with a significance with a p value of յ0. 05 were provisionally considered to be differentially expressed. in addition to the method described above, an orthogonal statistical test of differential expression was applied to the data using a statistical test developed by baggerly et al. ( 22 ) to count the [SEP]\n",
            "14\n",
            "[CLS] what laboratory test can be used to monitor protein expression? [SEP] gene expression algorithm, part of the edger bioconductor package ( 21 ), was applied to the integrated data set of all 18 experiments using the default parameters and a false discovery rate - corrected p value. at each time point, infected and mock - infected samples were compared, and genes whose expression differed by more than 2 - fold with a significance with a p value of յ0. 05 were provisionally considered to be differentially expressed. in addition to the method described above, an orthogonal statistical test of differential expression was applied to the data using a statistical test developed by baggerly et al. ( 22 ) to count the number of expressed sequence tags associated with individual genes, a common feature of both serial analysis of gene expression ( sage ) data and rna - seq data. when infected and mock - infected samples were compared, individual genes were provisionally considered differentially expressed when their expression differed by more than 2 - fold with a significance with a p value of յ0. 05. differentially expressed genes found to be in the intersection of the sets of genes identified by both of the methods outlined above were considered high - quality candidates and used as the starting point for further investigation. clustering and gsea. filtered, normalized expression data were subjected to k - means clustering using a euclidian distance metric where genes were grouped by means of normalized gene expression ( rpkm ) values for each experimental condition. clustering was fitted to 20 distinct clustering groups, and the individual gene expression profiles clustered were further tested for enrichment of gene ontology ( go ) terms associated with individual genes. gene annotations were obtained from reactome, a database of biological pathway and gene functional annotations ( 23 ). enrichment analysis was performed using two approaches. first, a hypergeometric test on go annota [SEP]\n",
            "15\n",
            "[CLS] what laboratory test can be used to monitor protein expression? [SEP] and gsea. filtered, normalized expression data were subjected to k - means clustering using a euclidian distance metric where genes were grouped by means of normalized gene expression ( rpkm ) values for each experimental condition. clustering was fitted to 20 distinct clustering groups, and the individual gene expression profiles clustered were further tested for enrichment of gene ontology ( go ) terms associated with individual genes. gene annotations were obtained from reactome, a database of biological pathway and gene functional annotations ( 23 ). enrichment analysis was performed using two approaches. first, a hypergeometric test on go annotations was carried out using an implementation of the gostats package on each of the individual clusters obtained from k - means clustering ( 24 ). in addition, gene set enrichment analysis ( gsea ) was carried out on the entire filtered data set using 100, 000 permutations, while duplicates were removed and an analysis of variance was applied. a total of 1, 419 categories passed a minimum feature size of 10 and were used for further investigation. cohorts of genes with shared patterns of expression over time were identified by k - means clustering. those found to be enriched for degs were subsequently subjected to pathway analysis using the genemania system ( 25 ). using an ad hoc manual approach, relevant pathways and the connections between them were identified on the basis of existing data in the literature coupled with the temporal gene expression data obtained from this study. qrt - pcr analysis. purified mrna was converted to cdna using a high - capacity rna - to - cdna kit ( life technologies ) according to the manufacturer's instructions. analysis of the viral copy numbers was performed by quantitative reverse transcription - pcr ( qrt - pcr ) as previously described ( 26 ). [SEP]\n",
            "16\n",
            "[CLS] what laboratory test can be used to monitor protein expression? [SEP] those found to be enriched for degs were subsequently subjected to pathway analysis using the genemania system ( 25 ). using an ad hoc manual approach, relevant pathways and the connections between them were identified on the basis of existing data in the literature coupled with the temporal gene expression data obtained from this study. qrt - pcr analysis. purified mrna was converted to cdna using a high - capacity rna - to - cdna kit ( life technologies ) according to the manufacturer's instructions. analysis of the viral copy numbers was performed by quantitative reverse transcription - pcr ( qrt - pcr ) as previously described ( 26 ). host expression of the following genes was assayed with taqman assays ( indicated in parentheses ) : activating transcription factor 3 ( atf3 ; hs00231069 _ m1 ), atf4 ( hs00909569 _ g1 ), cebpb ( hs00270923 _ s1 ), cebpd ( hs00270931 _ s1 ), ddit3 ( hs00358796 _ g1 ), fos ( hs04194186 _ s1 ), jun ( hs01103582 _ s1 ), egr1 ( hs00152928 _ m1 ), ifi6 ( hs00242571 _ m1 ), ifit1 ( hs01911452 _ s1 ), ifit2 ( hs01922738 _ s1 ), ifit3 ( hs01922738 _ s1 ), isg15 ( hs01921425 _ s1 ), isg20 ( hs00158122 _ m1 ), oasl ( hs0098438 [SEP]\n",
            "17\n",
            "[CLS] what laboratory test can be used to monitor protein expression? [SEP] s1 ), jun ( hs01103582 _ s1 ), egr1 ( hs00152928 _ m1 ), ifi6 ( hs00242571 _ m1 ), ifit1 ( hs01911452 _ s1 ), ifit2 ( hs01922738 _ s1 ), ifit3 ( hs01922738 _ s1 ), isg15 ( hs01921425 _ s1 ), isg20 ( hs00158122 _ m1 ), oasl ( hs00984387 _ m1 ), birc5 ( mm00599749 _ m1 ), and xiap ( mm01311594 _ mh ). assays for 18s rrna ( hs99999901 _ s1 or mm04277571 _ s1 ) were used for normalization. assays were performed according to the manufacturer's instructions using an abi stepone plus instrument. treatment with perki and collection for western blot analysis. u87mg cells were pretreated for 2 h with 10 m the protein kinase rnalike endoplasmic reticulum ( er ) kinase ( perk ) inhibitor ( perki ) gsk2606414 ( catalog number 516535 ; emd millipore ) or dimethyl sulfoxide ( dmso ) in dmem prior to infection with veev trd ( moi, 5 ). after 1 h, the viral inoculum was removed and cells were washed with sterile pbs ( [UNK] ). the medium was replaced with medium containing the inhibitor or dmso. at 16 hpi, the medium was removed, and the cells were [SEP]\n",
            "18\n",
            "[CLS] what laboratory test can be used to monitor protein expression? [SEP] h with 10 m the protein kinase rnalike endoplasmic reticulum ( er ) kinase ( perk ) inhibitor ( perki ) gsk2606414 ( catalog number 516535 ; emd millipore ) or dimethyl sulfoxide ( dmso ) in dmem prior to infection with veev trd ( moi, 5 ). after 1 h, the viral inoculum was removed and cells were washed with sterile pbs ( [UNK] ). the medium was replaced with medium containing the inhibitor or dmso. at 16 hpi, the medium was removed, and the cells were washed with pbs and then collected for western blot analysis. knockdown of egr1 with sirna. u87mg cells seeded at 6. 7 [UNK] 10 4 cells per well in a 12 - well plate were transfected with 50 nm sigenome protein lysate preparation and western blot analysis. protein lysate preparation and western blot analysis were performed as previously described ( 27 ). primary antibodies to the following were used : egr1 ( antibody 44d5 ; catalog number 4154 ; cell signaling ), polyclonal anti - venezuelan equine encephalitis virus tc83 ( subtype ia / b ) capsid protein ( bei resources ), chop ( antibody l63f7 ; catalog number 2895 ; cell signaling ), phosphorylated [UNK] subunit of eukaryotic initiation factor 2 ( p - [UNK] ; ser51 ; antibody d9g8 ; catalog number 3398 ; cell signaling ), atf4 ( antibody d4b8 ; catalog number 11815 ; cell signaling ), activated caspase 3 ( antibody asp175 ; catalog number 9661 ; cell signaling ), and horse [SEP]\n",
            "19\n",
            "[CLS] what laboratory test can be used to monitor protein expression? [SEP] - venezuelan equine encephalitis virus tc83 ( subtype ia / b ) capsid protein ( bei resources ), chop ( antibody l63f7 ; catalog number 2895 ; cell signaling ), phosphorylated [UNK] subunit of eukaryotic initiation factor 2 ( p - [UNK] ; ser51 ; antibody d9g8 ; catalog number 3398 ; cell signaling ), atf4 ( antibody d4b8 ; catalog number 11815 ; cell signaling ), activated caspase 3 ( antibody asp175 ; catalog number 9661 ; cell signaling ), and horseradish peroxidase - conjugated [UNK] - actin ( catalog number ab49900 - 100 ; abcam ). immunofluorescence analysis. u87mg cells were grown on coverslips in a 6 - well plate, infected with veev trd as described above, washed with pbs ( without ca and mg ), and then fixed with 4 % formaldehyde. cells were permeabilized with 0. 5 % triton x - 100 in pbs for 20 min and then washed twice with pbs. the cells were blocked for 10 min at room temperature in 3 % bovine serum albumin in pbs. primary antibodies consisting of a veev capsid protein ( catalog number nr - 9403 ; bei resources ) diluted 1 : 600 and an egr1 antibody ( antibody 44d5 ; catalog number 4154 ; cell signaling ) diluted 1 : 400 were incubated in fresh blocking buffer at 37°c for 1 h and washed 3 times for 3 min each time in 300 mm nacl with 0. 1 % triton x - 100. alexa fluor 568 donkey anti - goat secondary antibody ( catalog number a11057 ; [SEP]\n",
            "20\n",
            "[CLS] what laboratory test can be used to monitor protein expression? [SEP] blocked for 10 min at room temperature in 3 % bovine serum albumin in pbs. primary antibodies consisting of a veev capsid protein ( catalog number nr - 9403 ; bei resources ) diluted 1 : 600 and an egr1 antibody ( antibody 44d5 ; catalog number 4154 ; cell signaling ) diluted 1 : 400 were incubated in fresh blocking buffer at 37°c for 1 h and washed 3 times for 3 min each time in 300 mm nacl with 0. 1 % triton x - 100. alexa fluor 568 donkey anti - goat secondary antibody ( catalog number a11057 ; invitrogen ) and alexa fluor 488 donkey anti - mouse secondary antibody ( catalog number a21202 ; invitrogen ) diluted 1 : 400 were used as secondary antibodies and treated in the same manner as the primary antibodies. dapi ( 4 =, 6 - di - amidino - 2 - phenylindole ) diluted 1 : 1, 000 was used to visualize the nuclei. coverslips were mounted onto glass slides using 10 l of fluoromount g mounting medium ( catalog number 0100 - 01 ; southern biotech ). a nikon eclipse te2000 - u fluorescence microscope was used for fluorescence microscopy. images were viewed using a [UNK] objective oil immersion lens. five images of each sample were obtained, and a representative image of each sample is shown below. all images were subjected to fourline averaging. the images were processed through nikon nis - elements ar analysis ( v3. 2 ) software. celltiter glo and caspase 3 / 7 glo assays. wild - type and egr1 [UNK] / [UNK] mouse embryonic fibroblasts ( mefs ) were infected with trd at various [SEP]\n",
            "21\n",
            "[CLS] what laboratory test can be used to monitor protein expression? [SEP] biotech ). a nikon eclipse te2000 - u fluorescence microscope was used for fluorescence microscopy. images were viewed using a [UNK] objective oil immersion lens. five images of each sample were obtained, and a representative image of each sample is shown below. all images were subjected to fourline averaging. the images were processed through nikon nis - elements ar analysis ( v3. 2 ) software. celltiter glo and caspase 3 / 7 glo assays. wild - type and egr1 [UNK] / [UNK] mouse embryonic fibroblasts ( mefs ) were infected with trd at various mois for an hour and then washed with pbs, and the medium was replaced. cell viability was measured at 24 h postinfection using a promega celltiter luminescent cell viability assay ( catalog number g7571 ) according to the manufacturer's protocol. luminescence was read using a beckman coulter dtx 880 multimode detector with an integration time of 100 ms per well. similarly, caspase activation in infected wildtype and egr1 [UNK] / [UNK] mefs was measured at 24 h postinfection using a promega caspase 3 / 7 glo assay ( catalog number g8090 ) according to the manufacturer's protocol. luminescence was read using the dtx 880 multimode detector with an integration time of 100 ms per well. nucleotide sequence accession numbers. the raw sequencing data for all rna - seq runs included in this work are publically available in the ncbi bioproject database under accession number prjna300864 ( http : / / www. ncbi. nlm. nih. gov / bioproject / prjna30086 [SEP]\n",
            "22\n",
            "[CLS] what laboratory test can be used to monitor protein expression? [SEP]fection using a promega caspase 3 / 7 glo assay ( catalog number g8090 ) according to the manufacturer's protocol. luminescence was read using the dtx 880 multimode detector with an integration time of 100 ms per well. nucleotide sequence accession numbers. the raw sequencing data for all rna - seq runs included in this work are publically available in the ncbi bioproject database under accession number prjna300864 ( http : / / www. ncbi. nlm. nih. gov / bioproject / prjna300864 ). veev replication kinetics in u87mg astrocytes. veev replicates in vivo in monocytes, macrophages, neurons, and astrocytes ( 14 ). common cell lines used to study veev infection include vero and bhk cells ; in this study, u87mg astrocytes were chosen as an in vitro model due to their physiological relevance and greater clinical significance. initial experiments were performed to characterize viral replication in u87mg cells. veev replication kinetics in u87mg cells were measured using plaque assays and by monitoring viral protein and rna expression levels and the cytopathic effect ( cpe ) on the infected cells ( fig. 1 ). viral release was observed as early as 4 hpi, with [UNK] log units of virus being observed, followed by a consistent increase in replication at 8 and 16 hpi ( fig. 1a ). viral replication peaked at 16 hpi, and no additional increase in viral titers was observed at 24 hpi. viral capsid expression followed a similar pattern, with protein being detected at 8 hpi and expression plateauing at 16 hpi ( fig. 1b ). among infected u [SEP]\n",
            "23\n",
            "[CLS] what laboratory test can be used to monitor protein expression? [SEP] plaque assays and by monitoring viral protein and rna expression levels and the cytopathic effect ( cpe ) on the infected cells ( fig. 1 ). viral release was observed as early as 4 hpi, with [UNK] log units of virus being observed, followed by a consistent increase in replication at 8 and 16 hpi ( fig. 1a ). viral replication peaked at 16 hpi, and no additional increase in viral titers was observed at 24 hpi. viral capsid expression followed a similar pattern, with protein being detected at 8 hpi and expression plateauing at 16 hpi ( fig. 1b ). among infected u87mg cells, a significant cpe was observed by microscopy at 24 hpi, with little to no cpe being detected at 16 hpi ( data not shown ). consistent with these observations, increased caspase 3 / 7 activity was observed only at 24 hpi ( fig. 1c ). on the basis of these data, times of 4, 8, and 16 hpi, reflecting the early, middle, and late stages of the viral life cycle, respectively, were selected for rna - seq analysis in order to provide a dynamic view of the host - pathogen transcriptome profile. rna sequencing analysis of veev - infected astrocytes. mrna from triplicate sets of mock - and veev - infected u87mg cell cultures was isolated, purified at 4, 8, and 16 hpi, and used to prepare cdna libraries for downstream rna - seq ( see materials and methods ). a high - level summary of the rna - seq results is shown in table 1. veev rna samples were assayed by quantitative rt - pcr at each time point as a control to demonstrate the increasing viral rna load over time ( fig. 1d ) [SEP]\n",
            "24\n",
            "[CLS] what laboratory test can be used to monitor protein expression? [SEP] the host - pathogen transcriptome profile. rna sequencing analysis of veev - infected astrocytes. mrna from triplicate sets of mock - and veev - infected u87mg cell cultures was isolated, purified at 4, 8, and 16 hpi, and used to prepare cdna libraries for downstream rna - seq ( see materials and methods ). a high - level summary of the rna - seq results is shown in table 1. veev rna samples were assayed by quantitative rt - pcr at each time point as a control to demonstrate the increasing viral rna load over time ( fig. 1d ), consistent with the increasing number of rna - seq reads mapped to the veev genome at later time points ( table 1 ). for rna - seq analysis, individual genes were expressed as the number of reads per kilobase of the exon model per million mapped reads ( rpkm ) ( 19 ). log 2 - normalized rpkm expression values for each experimental sample are shown in fig. 2a and can be found in data set s1 in the supplemental material. minimal sample - to - sample variation in expression values within biological replicates was consistently detected ( r 2 [UNK] 0. 89 for all replicates ; data not shown ). in addition, intersample variation was also found to be minimal when it was tested pairwise across the entire experiment by using rpkm values for ercc97 synthetic spike - in control rnas ( r 2 [UNK] 0. 90 for all comparisons ; data not shown ). as anticipated, two - component principal component analysis of the rna - seq data for mock - infected cells versus veev - infected cells showed a clear separation of the samples at 16 hpi from the samples at earlier time points ( fig. 2b ). [SEP]\n",
            "25\n",
            "[CLS] what laboratory test can be used to monitor protein expression? [SEP] consistently detected ( r 2 [UNK] 0. 89 for all replicates ; data not shown ). in addition, intersample variation was also found to be minimal when it was tested pairwise across the entire experiment by using rpkm values for ercc97 synthetic spike - in control rnas ( r 2 [UNK] 0. 90 for all comparisons ; data not shown ). as anticipated, two - component principal component analysis of the rna - seq data for mock - infected cells versus veev - infected cells showed a clear separation of the samples at 16 hpi from the samples at earlier time points ( fig. 2b ). however, the clustering of veev - infected samples with mock - infected samples at earlier time points suggested that the response to viral infection was limited to a narrow subset of early response genes, thus placing a higher burden of proof on identifying differentially expressed genes ( degs ) during the first few hours of infection. along these lines, two orthogonal methods were used to identify degs suitable for further characterization : the edger method ( 21 ) and the method developed by baggerly et al. ( 22 ). genes identified by one method were provisionally considered degs, and those identified by both methods were candidate degs to be confirmed by qrt - pcr. in addition to comparing individual gene expression values for mock - infected cells and veev - infected cells at each time point, gene expression values were also compared serially within each time series of veev - infected cells for genes that did not show any statistically significant changes in expression in mock - infected cells. a schematic of the comparative analysis is shown in fig. 2c. the number of statistically significant degs identified by each of these comparisons is shown in fig. 2d. furthermore, k - means clustering ( against [SEP]\n",
            "26\n",
            "[CLS] what laboratory test can be used to monitor protein expression? [SEP], and those identified by both methods were candidate degs to be confirmed by qrt - pcr. in addition to comparing individual gene expression values for mock - infected cells and veev - infected cells at each time point, gene expression values were also compared serially within each time series of veev - infected cells for genes that did not show any statistically significant changes in expression in mock - infected cells. a schematic of the comparative analysis is shown in fig. 2c. the number of statistically significant degs identified by each of these comparisons is shown in fig. 2d. furthermore, k - means clustering ( against normalized rpkm values ) was employed to identify gross changes in gene expression over time for cohorts of genes potentially sharing the same pathway or regulatory triggers ( fig. 3 ; see also data set s2 in the supplemental material ). gene set enrichment analysis ( gsea ; see material and methods and data set s3 in the supplemental material ) was carried out on each kmeans cluster. in particular, cluster 20 ( table 2 ) was significantly enriched for genes involved in translational control, the type i interferon - mediated signaling pathway, and the unfolded protein response ( upr ) pathway ( gsea p value [UNK] 0. 01 ). although there is a well - established connection between translational control and upr, a novel connection between upr and the type i interferonmediated response in response to viral replication was suggested by pathway analysis ( see materials and methods ), implicating early growth response 1 ( egr1 ) as a potential bridge between these two pathways ( fig. 4 ). egr1 belongs to cluster 20 and is strongly induced during veev infection, and several other genes associated with the interferon response belong to the same cluster : ir [SEP]\n",
            "27\n",
            "[CLS] what laboratory test can be used to monitor protein expression? [SEP] unfolded protein response ( upr ) pathway ( gsea p value [UNK] 0. 01 ). although there is a well - established connection between translational control and upr, a novel connection between upr and the type i interferonmediated response in response to viral replication was suggested by pathway analysis ( see materials and methods ), implicating early growth response 1 ( egr1 ) as a potential bridge between these two pathways ( fig. 4 ). egr1 belongs to cluster 20 and is strongly induced during veev infection, and several other genes associated with the interferon response belong to the same cluster : irf1, ifit1, ifit2, isg15, and ilf3. egr1 has been associated with increases in the expression of activating transcription factor 3 ( atf3 ) ( 28 ), which is a key component of the upr and which also belongs to cluster 20. this connection represented a potential a biological process annotations obtained from reactome for cluster 20. reactome annotation identifiers are indicated for each annotation. only traceable author submission ( tas ) - classified annotations are considered. tap, transporter associated with antigen processing ; srp, signal recognition particle. b full set, the total number of genes in the genome with an annotated biological process ; subset, total number of differentially expressed genes with an annotated biological process. network of type i interferon response - and upr - related genes. large circles, differentially expressed genes ; small circles, genes with no significant change in expression ; red circles, type i interferon response factors ; yellow circles, genes regulating dna transcription ; blue circles, unfolded protein response genes ; red lines, genes involved in physical protein - protein interactions ; [SEP]\n",
            "28\n",
            "[CLS] what laboratory test can be used to monitor protein expression? [SEP]. tap, transporter associated with antigen processing ; srp, signal recognition particle. b full set, the total number of genes in the genome with an annotated biological process ; subset, total number of differentially expressed genes with an annotated biological process. network of type i interferon response - and upr - related genes. large circles, differentially expressed genes ; small circles, genes with no significant change in expression ; red circles, type i interferon response factors ; yellow circles, genes regulating dna transcription ; blue circles, unfolded protein response genes ; red lines, genes involved in physical protein - protein interactions ; blue lines, genes involved in a common pathway. this network was seeded with k - means clusters 18 and 20, and many ribosomal protein genes were removed. bridge between the upr pathway and the interferon response pathway, with egr1 being one of the potential key transcription factors driving this connection. consequently, 15 genes from this analysis were selected for further characterization by qrt - pcr ( see below ) : atf3, activating transcription factor 4 ( atf4 ), cebpb, cebpd, ddit3 / chop, egr1, fos, ifi6, ifit1, ifit2, ifit3, isg15, isg20, jun, and oasl. the expression values of these genes, as measured by rna - seq, are shown in fig. 5a and b. confirmatory qrt - pcr analysis indicated concordant gene expression ( fig. 5c and d ). the interferon response genes induced are in agreement with those detected in previously published studies ( 11, 29, 30 ), and these genes served as an internal positive control. moreover, the link between egr [SEP]\n",
            "29\n",
            "[CLS] what laboratory test can be used to monitor protein expression? [SEP], egr1, fos, ifi6, ifit1, ifit2, ifit3, isg15, isg20, jun, and oasl. the expression values of these genes, as measured by rna - seq, are shown in fig. 5a and b. confirmatory qrt - pcr analysis indicated concordant gene expression ( fig. 5c and d ). the interferon response genes induced are in agreement with those detected in previously published studies ( 11, 29, 30 ), and these genes served as an internal positive control. moreover, the link between egr1 and the interferon pathway has been demonstrated ; egr1 is induced by ifn - [UNK] in mouse fibroblasts and by ifn - [UNK], - [UNK], and - [UNK] in human fibroblasts ( 31, 32 ). egr1 and the upr pathway were selected for further analysis, as their role in veev infection has not been elucidated. the rna - seq and pathway analysis data indicated that upr and stress response genes were induced after veev infection. during an infection, host cells respond to cellular stresses resulting from increased viral protein translation and secretion by triggering the onset of the upr pathway. the upr pathway is an adaptive cellular response activated by endoplasmic reticulum ( er ) stress due to protein misfolding. in order to regulate cellular homeostasis during protein folding and secretion, the upr pathway has developed three classes of sensors to ensure proper cellular regulation : inositolrequiring enzyme 1 ( ire1 ), protein kinase rna - like er kinase ( perk ), and activating transcription factor 6 ( atf6 ) ( 33, 34 ). during veev infection, [SEP]\n",
            "30\n",
            "[CLS] what laboratory test can be used to monitor protein expression? [SEP] stresses resulting from increased viral protein translation and secretion by triggering the onset of the upr pathway. the upr pathway is an adaptive cellular response activated by endoplasmic reticulum ( er ) stress due to protein misfolding. in order to regulate cellular homeostasis during protein folding and secretion, the upr pathway has developed three classes of sensors to ensure proper cellular regulation : inositolrequiring enzyme 1 ( ire1 ), protein kinase rna - like er kinase ( perk ), and activating transcription factor 6 ( atf6 ) ( 33, 34 ). during veev infection, the perk arm of the upr appeared to be altered, as two critical regulators of this pathway were differentially expressed : atf4 and chop ( ddit3 ) ( 35 ). to determine if degs altered subsequent protein expression, western blot analysis was performed for chop, atf4, and phosphorylated [UNK] ( p - [UNK] ). tunicamycin, a glycosylation inhibitor and inducer of upr ( 36 ), was included as a positive control. a time course analysis of u87mg cells treated with 1 m tunicamycin indicated that 8 h of treatment provided the most robust induction of upr proteins ( data not shown ). veev - infected but not mock - infected or uv - inactivated veev ( uv - veev ) - infected cells displayed a dramatic increase in p - [UNK] expression and a modest but consistent increase in chop and atf4 expression at 16 hpi ( fig. 6a ). no change in protein expression was observed at 4 hpi ( data not shown ). confocal microscopy confirmed chop and atf4 up - regulation, demonstrating a more robust and nuclear staining pattern in veev - [SEP]\n",
            "31\n",
            "[CLS] what laboratory test can be used to monitor protein expression? [SEP] with 1 m tunicamycin indicated that 8 h of treatment provided the most robust induction of upr proteins ( data not shown ). veev - infected but not mock - infected or uv - inactivated veev ( uv - veev ) - infected cells displayed a dramatic increase in p - [UNK] expression and a modest but consistent increase in chop and atf4 expression at 16 hpi ( fig. 6a ). no change in protein expression was observed at 4 hpi ( data not shown ). confocal microscopy confirmed chop and atf4 up - regulation, demonstrating a more robust and nuclear staining pattern in veev - infected cells than in mock - infected cells ( fig. 6c to e ). while atf4 protein expression levels increased, atf4 mrna abundances decreased following veev infection ( fig. 5b and d ). these results are consistent with the observation that atf4 expression is regulated at the translational level upon upr induction ( 37 ). as [UNK] can be phosphorylated by multiple kinases ( perk, protein kinase double - stranded rna dependent [ pkr ], general control nonderepressible - 2 [ gcn2 ], and hemeregulated inhibitor [ hri ] ) ( 38 ), the perk inhibitor ( perki ) gsk2606414 was used to determine if the observed phosphorylation was perk dependent. treatment of veev - infected cells with perki resulted in a marked decrease in [UNK] phosphorylation ( fig. 6b ). these results indicate that perk contributes to [UNK] phosphorylation but that there is likely an additional kinase contributing to the phosphorylation event. collectively, these findings indicate that the perk arm of the upr pathway is induced [SEP]\n",
            "32\n",
            "[CLS] what laboratory test can be used to monitor protein expression? [SEP]n2 ], and hemeregulated inhibitor [ hri ] ) ( 38 ), the perk inhibitor ( perki ) gsk2606414 was used to determine if the observed phosphorylation was perk dependent. treatment of veev - infected cells with perki resulted in a marked decrease in [UNK] phosphorylation ( fig. 6b ). these results indicate that perk contributes to [UNK] phosphorylation but that there is likely an additional kinase contributing to the phosphorylation event. collectively, these findings indicate that the perk arm of the upr pathway is induced at later time points following veev infection. egr1 is upregulated in infected cells and localizes to the nucleus. egr1 is a transcription factor that can be induced by numerous signals, including oxidative stress, hypoxemia, and growth factors ( 39, 40 ). it can also be activated upon infection by both dna and rna viruses, including epstein - barr virus, mouse hepatitis virus, murine coronavirus, and japanese encephalitis virus ( 41 ) ( 42 ) ( 43 ). treatment of mefs with the upr activator thapsigargin has been shown to induce egr1 expression in a perk - dependent manner ( 44 ). given the link between egr1 and upr and the robust induction of egr1 mrna expression following veev infection ( fig. 4 and 5 ), egr1 was chosen for further study. egr1 protein expression after veev infection was analyzed by western blot analysis. as previous studies have indicated that egr1 can be activated by mouse hepatitis virus independently of virus replication ( likely due to cellular membrane disruption following entry ) ( 41 ), a uv - inactivated virus [SEP]\n",
            "33\n",
            "[CLS] what laboratory test can be used to monitor protein expression? [SEP] the upr activator thapsigargin has been shown to induce egr1 expression in a perk - dependent manner ( 44 ). given the link between egr1 and upr and the robust induction of egr1 mrna expression following veev infection ( fig. 4 and 5 ), egr1 was chosen for further study. egr1 protein expression after veev infection was analyzed by western blot analysis. as previous studies have indicated that egr1 can be activated by mouse hepatitis virus independently of virus replication ( likely due to cellular membrane disruption following entry ) ( 41 ), a uv - inactivated virus control ( uv - veev ) was included. egr1 protein levels were increased following veev infection compared to those in mock - infected cells and uv - veev - infected cells ( fig. 7a ; compare lanes 3, 6, and 9 ). the most dramatic upregulation of egr1 occurred at 16 hpi ; this correlates with the highest levels of veev capsid production ( fig. 1b ). following induction, egr1 has been shown to translocate to the nucleus to induce gene expression through binding to the egr binding sequence ( ebs ) [ gcg ( g / t ) ggcg ] ( 40, 45 ). confocal microcopy revealed high levels of egr1 in the nuclei of infected cells, whereas only low levels of both nuclear and cytoplasmic egr1 were detected in mock - infected cells ( fig. 7b ). perki treatment of veev - infected cells resulted in a complete loss of egr1 induction ( fig. 7c ), indicating that egr1 was induced in a perk - dependent fashion. these results demonstrate that egr1 protein levels and nuclear [SEP]\n",
            "34\n",
            "[CLS] what laboratory test can be used to monitor protein expression? [SEP] egr binding sequence ( ebs ) [ gcg ( g / t ) ggcg ] ( 40, 45 ). confocal microcopy revealed high levels of egr1 in the nuclei of infected cells, whereas only low levels of both nuclear and cytoplasmic egr1 were detected in mock - infected cells ( fig. 7b ). perki treatment of veev - infected cells resulted in a complete loss of egr1 induction ( fig. 7c ), indicating that egr1 was induced in a perk - dependent fashion. these results demonstrate that egr1 protein levels and nuclear localization are increased following veev infection and that the induction of egr1 is dependent on perk. the loss of egr1 inhibits veev - induced apoptosis but does not alter veev replication kinetics. as egr1 influences cell survival and apoptosis ( 46 ), the impact of egr1 on veev - induced cell death was assessed. caspase 3 cleavage was observed in wt mefs at 24 hpi when they were infected at an moi of 0. 5 and started as early as 16 hpi when they were infected at an moi of 5 ( fig. 8a ). in contrast, egr1 [UNK] / [UNK] cells showed little to no detectable caspase cleavage following infection with veev. two sets of experiments were performed to quantitatively confirm these results : celltiter glo assays to measure total cell viability ( atp production ) and caspase 3 / 7 glo assays to measure caspase 3 / 7 activity. both wt and egr1 [UNK] / [UNK] mefs displayed dose - dependent decreases in cell viability following veev infection, with egr1 [UNK] / [UNK] cells having significantly [SEP]\n",
            "35\n",
            "[CLS] what laboratory test can be used to monitor protein expression? [SEP] they were infected at an moi of 5 ( fig. 8a ). in contrast, egr1 [UNK] / [UNK] cells showed little to no detectable caspase cleavage following infection with veev. two sets of experiments were performed to quantitatively confirm these results : celltiter glo assays to measure total cell viability ( atp production ) and caspase 3 / 7 glo assays to measure caspase 3 / 7 activity. both wt and egr1 [UNK] / [UNK] mefs displayed dose - dependent decreases in cell viability following veev infection, with egr1 [UNK] / [UNK] cells having significantly more viable cells at each moi examined ( fig. 8b ). concordantly, a dose - dependent increase in caspase 3 / 7 activity was observed following veev infection, with egr1 [UNK] / [UNK] cells demonstrating reduced caspase 3 activity at mois of 0. 5 and 5 ( fig. 8c ). these results were replicated in u87mg cells transfected with sirna targeting egr1 ( fig. 8d ). egr1 has been shown to negatively regulate the transcription of birc5 ( survivin ), an inhibitor of apoptosis ( iap ) family member ( 47 ). rna - seq data indicated that birc5 gene expression was decreased following veev infection : log 2 - transformed fold change values of normalized gene expression were [UNK]. 16, [UNK]. 18, and [UNK]. 50 at 4, 8, and 16 hpi, respectively ( see table s1 in the supplemental material and ncbi bioproject accession number prjna300864 ). wt and egr1 [UNK] / [UNK] mefs were used to determine if egr1 influenced birc5 gene expression following veev [SEP]\n",
            "36\n",
            "[CLS] what laboratory test can be used to monitor protein expression? [SEP]vin ), an inhibitor of apoptosis ( iap ) family member ( 47 ). rna - seq data indicated that birc5 gene expression was decreased following veev infection : log 2 - transformed fold change values of normalized gene expression were [UNK]. 16, [UNK]. 18, and [UNK]. 50 at 4, 8, and 16 hpi, respectively ( see table s1 in the supplemental material and ncbi bioproject accession number prjna300864 ). wt and egr1 [UNK] / [UNK] mefs were used to determine if egr1 influenced birc5 gene expression following veev infection. birc5 expression was significantly decreased at 16 hpi in veev - infected wt mefs, but this reduction was not observed in veev - infected egr1 [UNK] / [UNK] mefs ( fig. 8e ). ex - pression of the gene for the x - linked inhibitor of apoptosis ( xiap ), another iap family member, was not significantly differentially altered after infection ( data not shown ). collectively, these results demonstrate that egr1 contributes to veev - induced apoptosis. veev replication kinetics were determined for both egr1 [UNK] / [UNK] and wt mefs to determine the relevance of egr1 in viral replication. cells were infected at two different mois ( 0. 5 and 5 ), and viral supernatants were collected at 4, 8, 16, and 24 hpi and analyzed by plaque assay. the replication kinetics were similar between egr1 [UNK] / [UNK] and wt mefs at both mois, with titers peaking at 16 hpi ( fig. 9a ). a lack of egr1 expression was confirmed by western blotting ( fig. 9b ). [SEP]\n",
            "37\n",
            "[CLS] what laboratory test can be used to monitor protein expression? [SEP]s were determined for both egr1 [UNK] / [UNK] and wt mefs to determine the relevance of egr1 in viral replication. cells were infected at two different mois ( 0. 5 and 5 ), and viral supernatants were collected at 4, 8, 16, and 24 hpi and analyzed by plaque assay. the replication kinetics were similar between egr1 [UNK] / [UNK] and wt mefs at both mois, with titers peaking at 16 hpi ( fig. 9a ). a lack of egr1 expression was confirmed by western blotting ( fig. 9b ). these results were replicated in u87mg cells transfected with sirna targeting egr1. transfection of sirna targeting egr1 resulted in a [UNK] % decrease in egr1 protein expression ( fig. 9d ) without any significant effect on viral replication ( fig. 9c ). these results suggest that the decrease in apoptosis observed in egr1 [UNK] / [UNK] mefs was not due to altered veev replication kinetics. despite being recognized as an emerging threat, relatively little is known about the virulence mechanisms of alphaviruses, largely due to a knowledge gap in the host - pathogen interactome. veev infection often results in fatal encephalitis and is known to inhibit both cellular transcription and translation in order to downregulate the innate immune response ( 1, 48 ). in contrast, in the cns veev has been shown to upregulate numerous genes in both the inflammatory response and apoptotic pathways ( 1, 48 ). specifically, numerous proinflammatory cytokines, including interleu - kin - [UNK] ( il - [UNK] ), il - 6, il - 12, [SEP]\n",
            "38\n",
            "[CLS] what laboratory test can be used to monitor protein expression? [SEP] alphaviruses, largely due to a knowledge gap in the host - pathogen interactome. veev infection often results in fatal encephalitis and is known to inhibit both cellular transcription and translation in order to downregulate the innate immune response ( 1, 48 ). in contrast, in the cns veev has been shown to upregulate numerous genes in both the inflammatory response and apoptotic pathways ( 1, 48 ). specifically, numerous proinflammatory cytokines, including interleu - kin - [UNK] ( il - [UNK] ), il - 6, il - 12, glycogen synthase kinase [UNK], inducible nitric oxide synthase, and tumor necrosis factor alpha ( tnf - [UNK] ), have all been shown to play a role in veev pathogenesis ( 49 ) ( 50 ) ( 51 ) ( 52 ) ( 53 ). the use of high - throughput next - generation sequencing technologies, such as rna - seq, allows an in - depth and unbiased look into the virus - host transcriptome, thus enabling changes in the expression of specific mrnas to be connected with phenotypic outcomes. to this end, identification of critical differentially expressed transcripts among clinically relevant infected cells will help lead to a greater understanding of viral pathogenesis and may prove beneficial for the identification of therapeutic targets. in this study, network analysis / rna - seq data and the results of protein expression studies revealed that veev infection resulted in activation of the perk arm of the upr pathway, including the activation of atf4, chop, and [UNK] phosphorylation. several alphaviruses have previously been reported to hijack key components of the upr pathway in order to promote viral replication, as the reliance of enveloped [SEP]\n",
            "39\n",
            "[CLS] what laboratory test can be used to monitor protein expression? [SEP] outcomes. to this end, identification of critical differentially expressed transcripts among clinically relevant infected cells will help lead to a greater understanding of viral pathogenesis and may prove beneficial for the identification of therapeutic targets. in this study, network analysis / rna - seq data and the results of protein expression studies revealed that veev infection resulted in activation of the perk arm of the upr pathway, including the activation of atf4, chop, and [UNK] phosphorylation. several alphaviruses have previously been reported to hijack key components of the upr pathway in order to promote viral replication, as the reliance of enveloped viruses on the er for the synthesis of viral envelope - associated glycoproteins and their transport to the plasma membrane often stresses the er due to rapid viral protein production ( 54, 55 ). modulation of the upr is not unique to alphaviruses ; rather, it is a shared trait of many positive - sense rna viruses. dengue virus has been shown to suppress perk by inhibiting continued [UNK] phosphorylation in order to inhibit immediate apoptosis, increasing viral protein translation and extending the length of productive viral replication ( 34 ). studies with hepatitis e virus ( hev ) have demonstrated that expression of hev capsid protein open reading frame 2 ( orf2 ) activates the expression of chop and atf4 ( 56 ). in hev, orf2 was shown to stimulate chop through both er stressors and amino acid response elements ( aare ) through interaction with atf4 ( 56 ). the results shown here indicate that during veev infection, initiation of the upr pathway and subsequent activation of egr1 play a role in the outcome of virus - induced apoptosis. during the initial detection of er stress, perk is able [SEP]\n",
            "40\n",
            "[CLS] what laboratory test can be used to monitor protein expression? [SEP] studies with hepatitis e virus ( hev ) have demonstrated that expression of hev capsid protein open reading frame 2 ( orf2 ) activates the expression of chop and atf4 ( 56 ). in hev, orf2 was shown to stimulate chop through both er stressors and amino acid response elements ( aare ) through interaction with atf4 ( 56 ). the results shown here indicate that during veev infection, initiation of the upr pathway and subsequent activation of egr1 play a role in the outcome of virus - induced apoptosis. during the initial detection of er stress, perk is able to identify misfolded proteins in the lumen of the er and phosphorylates [UNK] in order to initiate prosurvival pathways in the upr through the general at 24 hpi caspase 3 / 7 activity was analyzed using the caspase 3 / 7 glo assay. the fold change values for mock - infected cells were set to a value of 1. * *, p [UNK] 0. 001. ( e ) egr1 [UNK] / [UNK] and wt mefs were mock or veev infected ( moi, 5 ). rna was prepared, and gene expression was determined by qrt - pcr using a taqman assays for birc5 ( survivin ). the data shown are the values of the fold change of normalized gene expression determined by the [UNK] t threshold cycle ( c t ) method. *, p [UNK] 0. 005 ( comparison of veev - infected wt and egr1 [UNK] / [UNK] cells ). inhibition of protein synthesis ( 33, 34 ). veev appears to induce the upr and promote increased [UNK] phosphorylation, which results in the translational inhibition of most mrnas, while [SEP]\n",
            "41\n",
            "[CLS] what laboratory test can be used to monitor protein expression? [SEP] rna was prepared, and gene expression was determined by qrt - pcr using a taqman assays for birc5 ( survivin ). the data shown are the values of the fold change of normalized gene expression determined by the [UNK] t threshold cycle ( c t ) method. *, p [UNK] 0. 005 ( comparison of veev - infected wt and egr1 [UNK] / [UNK] cells ). inhibition of protein synthesis ( 33, 34 ). veev appears to induce the upr and promote increased [UNK] phosphorylation, which results in the translational inhibition of most mrnas, while upr selectively increases the translation of atf4. atf4 is responsible for the expression of genes that encode proteins involved in apoptosis, redox processes, amino acid metabolism, and er chaperone recruitment and is a well - known mediator of the perk pathway and chop ( 33, 34 ). chop activation facilitates the increased expression of cellular chaperones in order to counteract the buildup of misfolded proteins ( 57 ). failure to suppress protein misfolding in persistently stressed cells, such as during a viral infection, can then result in activation of the proapoptotic transcription factor chop, leading to suppression of the antiapoptotic protein b cell lymphoma - 2 ( bcl - 2 ). chop can also function as a prosurvival transcription factor by dephosphorylating [UNK] through activation of the dna damage - inducible protein ( gadd34 ) in a self - regulating feedback look ( 33, 34 ). however, the data presented here support a model whereby veev infection leads chop to function in its proapoptotic role, as no change in gadd34 gene expression was detected by [SEP]\n",
            "42\n",
            "[CLS] what laboratory test can be used to monitor protein expression? [SEP] can then result in activation of the proapoptotic transcription factor chop, leading to suppression of the antiapoptotic protein b cell lymphoma - 2 ( bcl - 2 ). chop can also function as a prosurvival transcription factor by dephosphorylating [UNK] through activation of the dna damage - inducible protein ( gadd34 ) in a self - regulating feedback look ( 33, 34 ). however, the data presented here support a model whereby veev infection leads chop to function in its proapoptotic role, as no change in gadd34 gene expression was detected by rna - seq analysis. while the upr was induced following veev infection, robust activation was not observed until later time points after infection. this is somewhat surprising, as veev infection is expected to induce significant er stress due to the massive production of viral proteins during the course of an acute robust infection. the structural proteins of veev are translated from the viral subgenomic rna into polyproteins on the rough er. the e1 and pe2 precur - sor glycoproteins are then assembled as heterodimers in the er, undergoing conformational changes requiring numerous chaperones ( 1, 58 ). it is possible that veev has developed mechanisms to subvert the induction of the upr. in order to counteract the upr, the nonstructural proteins ( nsps ) of chikungunya virus ( chikv ) have been shown to inhibit expression of atf4 and other known upr target genes, including grp78 / bip, grp94, and chop ( 59 ). through nsp activity, chikv has developed a means of suppressing the upr activity resulting [SEP]\n",
            "43\n",
            "[CLS] what laboratory test can be used to monitor protein expression? [SEP] the er, undergoing conformational changes requiring numerous chaperones ( 1, 58 ). it is possible that veev has developed mechanisms to subvert the induction of the upr. in order to counteract the upr, the nonstructural proteins ( nsps ) of chikungunya virus ( chikv ) have been shown to inhibit expression of atf4 and other known upr target genes, including grp78 / bip, grp94, and chop ( 59 ). through nsp activity, chikv has developed a means of suppressing the upr activity resulting from viral glycoprotein - induced er stress, thus preventing immediate autophagy and apoptotic activation. the veev capsid is responsible for interfering with nucleocytoplasmic trafficking and inhibiting rrna and mrna transcription and has been implicated in the regulation of type i ifn signaling and the antiviral response through the regulation of both viral rna and protein production ( 1, 48, 60 ). therefore, we hypothesize that the ability of the veev capsid to inhibit cellular transcription and block nucleocytoplasmic trafficking results in delayed induction of the upr. the results of a detailed network analysis based on existing data in the literature, coupled with the temporal gene expression profiles obtained from this study, point toward egr1 being an important node in the novel link between veev activation of the type i interferon response and upr. egr1 is known to form a dna binding complex with c / ebpb, a critical dimerization partner of chop ( 61 ). previous studies have demonstrated that the nuclear localization of chop may act as an inducer of egr1 and that chop may act as a [SEP]\n",
            "44\n",
            "[CLS] what laboratory test can be used to monitor protein expression? [SEP]ytoplasmic trafficking results in delayed induction of the upr. the results of a detailed network analysis based on existing data in the literature, coupled with the temporal gene expression profiles obtained from this study, point toward egr1 being an important node in the novel link between veev activation of the type i interferon response and upr. egr1 is known to form a dna binding complex with c / ebpb, a critical dimerization partner of chop ( 61 ). previous studies have demonstrated that the nuclear localization of chop may act as an inducer of egr1 and that chop may act as a transcriptional cofactor for regulation of c / ebpb - egr1 target genes ( 61 ). the results of the western blot and microscopy analysis presented in this study support this model, as veev infection was found to increase both the overall levels and the nuclear distribution of chop along with those of egr1. previous studies demonstrated egr1 mrna induction by ifn - [UNK] in mouse fibroblasts and by tnf - [UNK], tnf - [UNK], il - 1, ifn - [UNK], ifn - [UNK], and ifn - [UNK] in human fibroblasts ( 31, 32 ). egr1, also known as zif268 and ngf1 - a, is a zinc finger protein and mammalian transcription factor. it has been implicated in cellular proliferation and differentiation, but it may also have proapoptotic functions, depending on the cell type and stimulus ( 62 ). of particular interest, egr1 directly controls proliferation when activated by the mitogen - activated protein kinase / extracellular signal - regulated kinase pathway in mitogen - stimulated astrocytes ( 63 ). virus - induced changes in egr1 expression have been observed [SEP]\n",
            "45\n",
            "[CLS] what laboratory test can be used to monitor protein expression? [SEP] ifn - [UNK] in human fibroblasts ( 31, 32 ). egr1, also known as zif268 and ngf1 - a, is a zinc finger protein and mammalian transcription factor. it has been implicated in cellular proliferation and differentiation, but it may also have proapoptotic functions, depending on the cell type and stimulus ( 62 ). of particular interest, egr1 directly controls proliferation when activated by the mitogen - activated protein kinase / extracellular signal - regulated kinase pathway in mitogen - stimulated astrocytes ( 63 ). virus - induced changes in egr1 expression have been observed in several in vitro systems. in hiv - 1 - infected astrocytes, egr1 upregulation was found to be induced by tat through transactivation of the egr1 promoter, leading to cellular dysfunction and tat - induced neurotoxicity ( 64 ). increased amounts of egr1 mrna have also been demonstrated to act in a region - specific manner, corresponding temporally with viral rna production in the brain tissues of rats infected with either rabies virus or borna disease virus ( 65 ). in summary, the current study demonstrates a potential link between upr activation and egr1. egr1 [UNK] / [UNK] mefs demonstrated lower levels of susceptibility to veev - induced cell death than wild - type mefs, indicating that egr1 modulates proapoptotic pathways following infection. studies are under way to determine if alteration of the upr through small molecule inhibitors or sirna interference influences veev replication and / or cell death. to date the mechanisms underlying veev pathogenesis and subsequent neuronal degeneration have been only partially elucidated. therefore, determining the role of egr1 and upr may play [SEP]\n",
            "46\n",
            "[CLS] what laboratory test can be used to monitor protein expression? [SEP] a potential link between upr activation and egr1. egr1 [UNK] / [UNK] mefs demonstrated lower levels of susceptibility to veev - induced cell death than wild - type mefs, indicating that egr1 modulates proapoptotic pathways following infection. studies are under way to determine if alteration of the upr through small molecule inhibitors or sirna interference influences veev replication and / or cell death. to date the mechanisms underlying veev pathogenesis and subsequent neuronal degeneration have been only partially elucidated. therefore, determining the role of egr1 and upr may play a significant role in the development of a novel therapeutic target resulting in decreased neuronal death and the subsequent neuronal sequelae that result from infection. [SEP]\n"
          ]
        }
      ],
      "source": [
        "tokenized_example = tokenizer(\n",
        "    examples[\"question\"],\n",
        "    examples[\"context\"],\n",
        "    max_length=max_length,\n",
        "    truncation=\"only_second\",\n",
        "    return_overflowing_tokens=True,\n",
        "    return_offsets_mapping=True,\n",
        "    stride=doc_stride\n",
        ")\n",
        "i=0\n",
        "for x in tokenized_example[\"input_ids\"]:\n",
        "    print(i)\n",
        "    i=i+1\n",
        "    print(tokenizer.decode(x))"
      ]
    },
    {
      "cell_type": "code",
      "execution_count": 16,
      "metadata": {
        "colab": {
          "base_uri": "https://localhost:8080/",
          "height": 1000
        },
        "id": "JMM4GNTm0TFI",
        "outputId": "470c9088-fb2d-45bc-fe19-0ca2ee4f6802"
      },
      "outputs": [
        {
          "output_type": "display_data",
          "data": {
            "text/plain": [
              "<IPython.core.display.HTML object>"
            ],
            "text/html": [
              "\n",
              "  <style>\n",
              "    pre {\n",
              "        white-space: pre-wrap;\n",
              "    }\n",
              "  </style>\n",
              "  "
            ]
          },
          "metadata": {}
        },
        {
          "output_type": "stream",
          "name": "stdout",
          "text": [
            "0\n",
            "preprocessing answer: [CLS]\n",
            "1\n",
            "preprocessing answer: [CLS]\n",
            "2\n",
            "preprocessing answer: [CLS]\n",
            "3\n",
            "preprocessing answer: [CLS]\n",
            "4\n",
            "preprocessing answer: [CLS]\n",
            "5\n",
            "preprocessing answer: [CLS]\n",
            "6\n",
            "preprocessing answer: [CLS]\n",
            "7\n",
            "preprocessing answer: [CLS]\n",
            "8\n",
            "preprocessing answer: [CLS]\n",
            "9\n",
            "preprocessing answer: [CLS]\n",
            "10\n",
            "preprocessing answer: [CLS]\n",
            "11\n",
            "preprocessing answer: [CLS]\n",
            "12\n",
            "preprocessing answer: [CLS]\n",
            "13\n",
            "preprocessing answer: [CLS]\n",
            "14\n",
            "preprocessing answer: [CLS]\n",
            "15\n",
            "preprocessing answer: [CLS]\n",
            "16\n",
            "preprocessing answer: [CLS]\n",
            "17\n",
            "preprocessing answer: [CLS]\n",
            "18\n",
            "preprocessing answer: [CLS]\n",
            "19\n",
            "preprocessing answer: [CLS]\n",
            "20\n",
            "preprocessing answer: [CLS]\n",
            "21\n",
            "preprocessing answer: [CLS]\n",
            "22\n",
            "preprocessing answer: [CLS]\n",
            "23\n",
            "preprocessing answer: [CLS]\n",
            "24\n",
            "preprocessing answer: [CLS]\n",
            "25\n",
            "preprocessing answer: [CLS]\n",
            "26\n",
            "preprocessing answer: [CLS]\n",
            "27\n",
            "preprocessing answer: [CLS]\n",
            "28\n",
            "preprocessing answer: [CLS]\n",
            "29\n",
            "preprocessing answer: [CLS]\n",
            "30\n",
            "preprocessing answer: western blot\n",
            "31\n",
            "preprocessing answer: [CLS]\n",
            "32\n",
            "preprocessing answer: [CLS]\n",
            "33\n",
            "preprocessing answer: [CLS]\n",
            "34\n",
            "preprocessing answer: [CLS]\n",
            "35\n",
            "preprocessing answer: [CLS]\n",
            "36\n",
            "preprocessing answer: [CLS]\n",
            "37\n",
            "preprocessing answer: [CLS]\n",
            "38\n",
            "preprocessing answer: [CLS]\n",
            "39\n",
            "preprocessing answer: [CLS]\n",
            "40\n",
            "preprocessing answer: [CLS]\n",
            "41\n",
            "preprocessing answer: [CLS]\n",
            "42\n",
            "preprocessing answer: [CLS]\n",
            "43\n",
            "preprocessing answer: [CLS]\n",
            "44\n",
            "preprocessing answer: [CLS]\n",
            "45\n",
            "preprocessing answer: [CLS]\n",
            "46\n",
            "preprocessing answer: [CLS]\n",
            "expected answer: Western blot\n"
          ]
        }
      ],
      "source": [
        "examples = ds[\"train\"][50:51]\n",
        "answers = examples[\"answers\"]\n",
        "\n",
        "tokenized_examples = prepare_qa_train(examples)\n",
        "\n",
        "start_positions = tokenized_examples[\"start_positions\"]\n",
        "end_positions = tokenized_examples[\"end_positions\"]\n",
        "for i, input_ids in enumerate(tokenized_examples[\"input_ids\"]):\n",
        "    start = start_positions[i]\n",
        "    end = end_positions[i] + 1\n",
        "    print(i)\n",
        "    string = tokenizer.decode(input_ids[start:end])\n",
        "    print(\"preprocessing answer:\", string)\n",
        "print(\"expected answer:\", answers[0][\"text\"][0])\n",
        "\n"
      ]
    },
    {
      "cell_type": "code",
      "execution_count": 17,
      "metadata": {
        "colab": {
          "base_uri": "https://localhost:8080/",
          "height": 289,
          "referenced_widgets": [
            "ce8e24561ec94e609a50410dc3b3b9bc",
            "8a24d87a1352497a8be6c4437b043c00",
            "c5e9a50087a542b5ab375d50b445e40f",
            "e37c123d786a4505bd150a2a8162c82d",
            "4707dbb09caf4790ac1e74d45a03041e",
            "f11e7244d2eb4b90ab444a878189d235",
            "147840dc2dbd4d809d15f64bfe435b8f",
            "cfb652866b5d4bb2887077493f4f9b2d",
            "68f5c502894a4d3db42bb3ef0a1009e3",
            "63c296639a9448949cd7ee5589fc4abd",
            "2ab850a53a4f4cb0bd7ac19c455ef916",
            "a95141335c2740949cc2b0902780cfa2",
            "ad1485ead3b142c0be2ddb588f2351ff",
            "3353d6f49744481eba6408f78a68f533",
            "7a69a9db21384719b4ef7fde3b3307a7",
            "5f48084bf502462cae17d1f09d5420ea",
            "4203a0b5492f4751afc230da82a962c9",
            "21f356369e13496abd7aab5bd612e828",
            "ab7771665f564500b4e68344e800d28e",
            "ac36bfa052b1499f81676666e444861c",
            "31829c34ddf24133ab5fa4185c1d5460",
            "12ac3249df124c4394fc94672421f47e"
          ]
        },
        "id": "YiXys2kV31Dg",
        "outputId": "6fa5ad25-f68f-4973-8d89-72feca7d7b03"
      },
      "outputs": [
        {
          "output_type": "display_data",
          "data": {
            "text/plain": [
              "<IPython.core.display.HTML object>"
            ],
            "text/html": [
              "\n",
              "  <style>\n",
              "    pre {\n",
              "        white-space: pre-wrap;\n",
              "    }\n",
              "  </style>\n",
              "  "
            ]
          },
          "metadata": {}
        },
        {
          "output_type": "display_data",
          "data": {
            "text/plain": [
              "Map (num_proc=8):   0%|          | 0/1413 [00:00<?, ? examples/s]"
            ],
            "application/vnd.jupyter.widget-view+json": {
              "version_major": 2,
              "version_minor": 0,
              "model_id": "ce8e24561ec94e609a50410dc3b3b9bc"
            }
          },
          "metadata": {}
        },
        {
          "output_type": "display_data",
          "data": {
            "text/plain": [
              "Map (num_proc=8):   0%|          | 0/606 [00:00<?, ? examples/s]"
            ],
            "application/vnd.jupyter.widget-view+json": {
              "version_major": 2,
              "version_minor": 0,
              "model_id": "a95141335c2740949cc2b0902780cfa2"
            }
          },
          "metadata": {}
        },
        {
          "output_type": "execute_result",
          "data": {
            "text/plain": [
              "DatasetDict({\n",
              "    train: Dataset({\n",
              "        features: ['input_ids', 'attention_mask', 'offset_mapping', 'overflow_to_sample_mapping', 'start_positions', 'end_positions'],\n",
              "        num_rows: 43457\n",
              "    })\n",
              "    test: Dataset({\n",
              "        features: ['input_ids', 'attention_mask', 'offset_mapping', 'overflow_to_sample_mapping', 'start_positions', 'end_positions'],\n",
              "        num_rows: 18616\n",
              "    })\n",
              "})"
            ]
          },
          "metadata": {},
          "execution_count": 17
        }
      ],
      "source": [
        "tokenized_datasets = ds.map(\n",
        "    prepare_qa_train,\n",
        "    batched=True,\n",
        "    remove_columns=ds[\"train\"].column_names,\n",
        "    num_proc=8\n",
        ")\n",
        "tokenized_datasets"
      ]
    },
    {
      "cell_type": "markdown",
      "metadata": {
        "id": "Nb-Q3dh4cpEC"
      },
      "source": [
        "##Fine tuning"
      ]
    },
    {
      "cell_type": "code",
      "execution_count": 18,
      "metadata": {
        "colab": {
          "base_uri": "https://localhost:8080/",
          "height": 69
        },
        "id": "MjtgqPuY4NNP",
        "outputId": "4c0146a5-ac87-4a94-8f90-93d8354ef168"
      },
      "outputs": [
        {
          "output_type": "display_data",
          "data": {
            "text/plain": [
              "<IPython.core.display.HTML object>"
            ],
            "text/html": [
              "\n",
              "  <style>\n",
              "    pre {\n",
              "        white-space: pre-wrap;\n",
              "    }\n",
              "  </style>\n",
              "  "
            ]
          },
          "metadata": {}
        },
        {
          "output_type": "stream",
          "name": "stderr",
          "text": [
            "Some weights of DistilBertForQuestionAnswering were not initialized from the model checkpoint at distilbert-base-uncased and are newly initialized: ['qa_outputs.bias', 'qa_outputs.weight']\n",
            "You should probably TRAIN this model on a down-stream task to be able to use it for predictions and inference.\n"
          ]
        }
      ],
      "source": [
        "from transformers import AutoModelForQuestionAnswering, TrainingArguments, Trainer\n",
        "\n",
        "model = AutoModelForQuestionAnswering.from_pretrained(model_ckpt)"
      ]
    },
    {
      "cell_type": "markdown",
      "metadata": {
        "id": "n3aSYEa-gU7o"
      },
      "source": []
    },
    {
      "cell_type": "code",
      "execution_count": null,
      "metadata": {
        "id": "mjhOfDWBgZG5"
      },
      "outputs": [],
      "source": [
        "pip install accelerate>=0.21.0"
      ]
    },
    {
      "cell_type": "code",
      "execution_count": 37,
      "metadata": {
        "colab": {
          "base_uri": "https://localhost:8080/",
          "height": 34
        },
        "id": "QQk1RVUYZ4qC",
        "outputId": "e5f95f3b-9248-4ef4-ec6b-81cb24667b71"
      },
      "outputs": [
        {
          "output_type": "display_data",
          "data": {
            "text/plain": [
              "<IPython.core.display.HTML object>"
            ],
            "text/html": [
              "\n",
              "  <style>\n",
              "    pre {\n",
              "        white-space: pre-wrap;\n",
              "    }\n",
              "  </style>\n",
              "  "
            ]
          },
          "metadata": {}
        },
        {
          "output_type": "stream",
          "name": "stdout",
          "text": [
            "distilbert-base-uncased-fine_tuned-covid_qa_deepset\n"
          ]
        }
      ],
      "source": [
        "model_name = model_ckpt.split(\"/\")[-1]\n",
        "fine_tuned_model_checkpoint = f\"{model_name}-fine_tuned-{ds_name}\"\n",
        "\n",
        "if os.path.isdir(fine_tuned_model_checkpoint):\n",
        "    do_train = False\n",
        "    model = AutoModelForQuestionAnswering.from_pretrained(fine_tuned_model_checkpoint, cache_dir=cache_dir)\n",
        "else:\n",
        "    do_train = True\n",
        "    model = AutoModelForQuestionAnswering.from_pretrained(model_ckpt, cache_dir=cache_dir)\n",
        "\n",
        "print(fine_tuned_model_checkpoint)\n",
        "args = TrainingArguments(\n",
        "    fine_tuned_model_checkpoint,\n",
        "    evaluation_strategy = \"epoch\",\n",
        "    learning_rate=2e-5,\n",
        "    per_device_train_batch_size=batch_size,\n",
        "    per_device_eval_batch_size=batch_size,\n",
        "    num_train_epochs=3,\n",
        "    weight_decay=0.01,\n",
        "    fp16=True,\n",
        "    logging_steps=1,\n",
        "    save_strategy=IntervalStrategy.EPOCH,\n",
        "    save_total_limit=2,\n",
        "    do_train=do_train\n",
        "\n",
        ")\n"
      ]
    },
    {
      "cell_type": "code",
      "execution_count": 21,
      "metadata": {
        "colab": {
          "base_uri": "https://localhost:8080/",
          "height": 17
        },
        "id": "jeWY6lB0aDq4",
        "outputId": "12206b00-9153-4fe6-b280-606f50fd94e5"
      },
      "outputs": [
        {
          "output_type": "display_data",
          "data": {
            "text/plain": [
              "<IPython.core.display.HTML object>"
            ],
            "text/html": [
              "\n",
              "  <style>\n",
              "    pre {\n",
              "        white-space: pre-wrap;\n",
              "    }\n",
              "  </style>\n",
              "  "
            ]
          },
          "metadata": {}
        }
      ],
      "source": [
        "data_collator = default_data_collator"
      ]
    },
    {
      "cell_type": "code",
      "execution_count": 22,
      "metadata": {
        "colab": {
          "base_uri": "https://localhost:8080/",
          "height": 34
        },
        "id": "yNi5IesJrX5w",
        "outputId": "4cf94ed5-8a56-44bf-a2ed-a7a674ad1a7c"
      },
      "outputs": [
        {
          "output_type": "display_data",
          "data": {
            "text/plain": [
              "<IPython.core.display.HTML object>"
            ],
            "text/html": [
              "\n",
              "  <style>\n",
              "    pre {\n",
              "        white-space: pre-wrap;\n",
              "    }\n",
              "  </style>\n",
              "  "
            ]
          },
          "metadata": {}
        },
        {
          "output_type": "execute_result",
          "data": {
            "text/plain": [
              "18616"
            ]
          },
          "metadata": {},
          "execution_count": 22
        }
      ],
      "source": [
        "len(tokenized_datasets[\"test\"])"
      ]
    },
    {
      "cell_type": "code",
      "execution_count": 23,
      "metadata": {
        "colab": {
          "base_uri": "https://localhost:8080/",
          "height": 121
        },
        "id": "qEao2iMjZ_L5",
        "outputId": "c015dbcc-5d3f-4068-8cb5-d9630316c872"
      },
      "outputs": [
        {
          "output_type": "display_data",
          "data": {
            "text/plain": [
              "<IPython.core.display.HTML object>"
            ],
            "text/html": [
              "\n",
              "  <style>\n",
              "    pre {\n",
              "        white-space: pre-wrap;\n",
              "    }\n",
              "  </style>\n",
              "  "
            ]
          },
          "metadata": {}
        },
        {
          "output_type": "stream",
          "name": "stderr",
          "text": [
            "/usr/local/lib/python3.10/dist-packages/accelerate/accelerator.py:432: FutureWarning: Passing the following arguments to `Accelerator` is deprecated and will be removed in version 1.0 of Accelerate: dict_keys(['dispatch_batches', 'split_batches', 'even_batches', 'use_seedable_sampler']). Please pass an `accelerate.DataLoaderConfiguration` instead: \n",
            "dataloader_config = DataLoaderConfiguration(dispatch_batches=None, split_batches=False, even_batches=True, use_seedable_sampler=True)\n",
            "  warnings.warn(\n"
          ]
        }
      ],
      "source": [
        "trainer = Trainer(\n",
        "    model,\n",
        "    args,\n",
        "    train_dataset=tokenized_datasets[\"train\"],\n",
        "    eval_dataset=tokenized_datasets[\"test\"],\n",
        "    data_collator=data_collator,\n",
        "    tokenizer=tokenizer,\n",
        ")"
      ]
    },
    {
      "cell_type": "code",
      "execution_count": 24,
      "metadata": {
        "colab": {
          "base_uri": "https://localhost:8080/",
          "height": 169
        },
        "id": "W75ZTItGaHZU",
        "outputId": "498a67b7-4a02-42fe-a124-1d2df238f0cd"
      },
      "outputs": [
        {
          "output_type": "display_data",
          "data": {
            "text/plain": [
              "<IPython.core.display.HTML object>"
            ],
            "text/html": [
              "\n",
              "  <style>\n",
              "    pre {\n",
              "        white-space: pre-wrap;\n",
              "    }\n",
              "  </style>\n",
              "  "
            ]
          },
          "metadata": {}
        },
        {
          "output_type": "display_data",
          "data": {
            "text/plain": [
              "<IPython.core.display.HTML object>"
            ],
            "text/html": [
              "\n",
              "    <div>\n",
              "      \n",
              "      <progress value='2040' max='2040' style='width:300px; height:20px; vertical-align: middle;'></progress>\n",
              "      [2040/2040 10:05, Epoch 3/3]\n",
              "    </div>\n",
              "    <table border=\"1\" class=\"dataframe\">\n",
              "  <thead>\n",
              " <tr style=\"text-align: left;\">\n",
              "      <th>Epoch</th>\n",
              "      <th>Training Loss</th>\n",
              "      <th>Validation Loss</th>\n",
              "    </tr>\n",
              "  </thead>\n",
              "  <tbody>\n",
              "    <tr>\n",
              "      <td>1</td>\n",
              "      <td>0.003100</td>\n",
              "      <td>0.332582</td>\n",
              "    </tr>\n",
              "    <tr>\n",
              "      <td>2</td>\n",
              "      <td>0.001400</td>\n",
              "      <td>0.245005</td>\n",
              "    </tr>\n",
              "    <tr>\n",
              "      <td>3</td>\n",
              "      <td>0.004100</td>\n",
              "      <td>0.250637</td>\n",
              "    </tr>\n",
              "  </tbody>\n",
              "</table><p>"
            ]
          },
          "metadata": {}
        }
      ],
      "source": [
        "if trainer.args.do_train:\n",
        "    train_output = trainer.train()\n",
        "    # saving the model which allows us to leverage\n",
        "    # .from_pretrained(model_path)\n",
        "    trainer.save_model(fine_tuned_model_checkpoint)"
      ]
    },
    {
      "cell_type": "markdown",
      "metadata": {
        "id": "lbAJA41InKCP"
      },
      "source": [
        "##Evaluation of Model"
      ]
    },
    {
      "cell_type": "code",
      "execution_count": 38,
      "metadata": {
        "colab": {
          "base_uri": "https://localhost:8080/",
          "height": 356
        },
        "id": "2q7QwBI1nJeP",
        "outputId": "ba7d28b0-c52b-4471-d8fb-c7bd4de0811d"
      },
      "outputs": [
        {
          "output_type": "display_data",
          "data": {
            "text/plain": [
              "<IPython.core.display.HTML object>"
            ],
            "text/html": [
              "\n",
              "  <style>\n",
              "    pre {\n",
              "        white-space: pre-wrap;\n",
              "    }\n",
              "  </style>\n",
              "  "
            ]
          },
          "metadata": {}
        },
        {
          "output_type": "error",
          "ename": "AttributeError",
          "evalue": "'AcceleratorState' object has no attribute 'distributed_type'",
          "traceback": [
            "\u001b[0;31m---------------------------------------------------------------------------\u001b[0m",
            "\u001b[0;31mAttributeError\u001b[0m                            Traceback (most recent call last)",
            "\u001b[0;32m<ipython-input-38-e8241f769d3f>\u001b[0m in \u001b[0;36m<cell line: 3>\u001b[0;34m()\u001b[0m\n\u001b[1;32m      1\u001b[0m \u001b[0;32mimport\u001b[0m \u001b[0mtorch\u001b[0m\u001b[0;34m\u001b[0m\u001b[0;34m\u001b[0m\u001b[0m\n\u001b[1;32m      2\u001b[0m \u001b[0;34m\u001b[0m\u001b[0m\n\u001b[0;32m----> 3\u001b[0;31m \u001b[0;32mfor\u001b[0m \u001b[0mbatch\u001b[0m \u001b[0;32min\u001b[0m \u001b[0mtrainer\u001b[0m\u001b[0;34m.\u001b[0m\u001b[0mget_eval_dataloader\u001b[0m\u001b[0;34m(\u001b[0m\u001b[0;34m)\u001b[0m\u001b[0;34m:\u001b[0m\u001b[0;34m\u001b[0m\u001b[0;34m\u001b[0m\u001b[0m\n\u001b[0m\u001b[1;32m      4\u001b[0m     \u001b[0;32mbreak\u001b[0m\u001b[0;34m\u001b[0m\u001b[0;34m\u001b[0m\u001b[0m\n\u001b[1;32m      5\u001b[0m \u001b[0mprint\u001b[0m\u001b[0;34m(\u001b[0m\u001b[0mbatch\u001b[0m\u001b[0;34m)\u001b[0m\u001b[0;34m\u001b[0m\u001b[0;34m\u001b[0m\u001b[0m\n",
            "\u001b[0;32m/usr/local/lib/python3.10/dist-packages/transformers/trainer.py\u001b[0m in \u001b[0;36mget_eval_dataloader\u001b[0;34m(self, eval_dataset)\u001b[0m\n\u001b[1;32m    925\u001b[0m             \u001b[0mself\u001b[0m\u001b[0;34m.\u001b[0m\u001b[0m_eval_dataloader\u001b[0m \u001b[0;34m=\u001b[0m \u001b[0meval_dataloader\u001b[0m\u001b[0;34m\u001b[0m\u001b[0;34m\u001b[0m\u001b[0m\n\u001b[1;32m    926\u001b[0m \u001b[0;34m\u001b[0m\u001b[0m\n\u001b[0;32m--> 927\u001b[0;31m         \u001b[0;32mreturn\u001b[0m \u001b[0mself\u001b[0m\u001b[0;34m.\u001b[0m\u001b[0maccelerator\u001b[0m\u001b[0;34m.\u001b[0m\u001b[0mprepare\u001b[0m\u001b[0;34m(\u001b[0m\u001b[0meval_dataloader\u001b[0m\u001b[0;34m)\u001b[0m\u001b[0;34m\u001b[0m\u001b[0;34m\u001b[0m\u001b[0m\n\u001b[0m\u001b[1;32m    928\u001b[0m \u001b[0;34m\u001b[0m\u001b[0m\n\u001b[1;32m    929\u001b[0m     \u001b[0;32mdef\u001b[0m \u001b[0mget_test_dataloader\u001b[0m\u001b[0;34m(\u001b[0m\u001b[0mself\u001b[0m\u001b[0;34m,\u001b[0m \u001b[0mtest_dataset\u001b[0m\u001b[0;34m:\u001b[0m \u001b[0mDataset\u001b[0m\u001b[0;34m)\u001b[0m \u001b[0;34m->\u001b[0m \u001b[0mDataLoader\u001b[0m\u001b[0;34m:\u001b[0m\u001b[0;34m\u001b[0m\u001b[0;34m\u001b[0m\u001b[0m\n",
            "\u001b[0;32m/usr/local/lib/python3.10/dist-packages/accelerate/accelerator.py\u001b[0m in \u001b[0;36mprepare\u001b[0;34m(self, device_placement, *args)\u001b[0m\n\u001b[1;32m   1217\u001b[0m                 )\n\u001b[1;32m   1218\u001b[0m \u001b[0;34m\u001b[0m\u001b[0m\n\u001b[0;32m-> 1219\u001b[0;31m         \u001b[0;32mif\u001b[0m \u001b[0mself\u001b[0m\u001b[0;34m.\u001b[0m\u001b[0mdistributed_type\u001b[0m \u001b[0;34m==\u001b[0m \u001b[0mDistributedType\u001b[0m\u001b[0;34m.\u001b[0m\u001b[0mDEEPSPEED\u001b[0m\u001b[0;34m:\u001b[0m\u001b[0;34m\u001b[0m\u001b[0;34m\u001b[0m\u001b[0m\n\u001b[0m\u001b[1;32m   1220\u001b[0m             \u001b[0mmodel_count\u001b[0m \u001b[0;34m=\u001b[0m \u001b[0;36m0\u001b[0m\u001b[0;34m\u001b[0m\u001b[0;34m\u001b[0m\u001b[0m\n\u001b[1;32m   1221\u001b[0m             \u001b[0;32mfor\u001b[0m \u001b[0mobj\u001b[0m \u001b[0;32min\u001b[0m \u001b[0margs\u001b[0m\u001b[0;34m:\u001b[0m\u001b[0;34m\u001b[0m\u001b[0;34m\u001b[0m\u001b[0m\n",
            "\u001b[0;32m/usr/local/lib/python3.10/dist-packages/accelerate/accelerator.py\u001b[0m in \u001b[0;36mdistributed_type\u001b[0;34m(self)\u001b[0m\n\u001b[1;32m    507\u001b[0m     \u001b[0;34m@\u001b[0m\u001b[0mproperty\u001b[0m\u001b[0;34m\u001b[0m\u001b[0;34m\u001b[0m\u001b[0m\n\u001b[1;32m    508\u001b[0m     \u001b[0;32mdef\u001b[0m \u001b[0mdistributed_type\u001b[0m\u001b[0;34m(\u001b[0m\u001b[0mself\u001b[0m\u001b[0;34m)\u001b[0m\u001b[0;34m:\u001b[0m\u001b[0;34m\u001b[0m\u001b[0;34m\u001b[0m\u001b[0m\n\u001b[0;32m--> 509\u001b[0;31m         \u001b[0;32mreturn\u001b[0m \u001b[0mself\u001b[0m\u001b[0;34m.\u001b[0m\u001b[0mstate\u001b[0m\u001b[0;34m.\u001b[0m\u001b[0mdistributed_type\u001b[0m\u001b[0;34m\u001b[0m\u001b[0;34m\u001b[0m\u001b[0m\n\u001b[0m\u001b[1;32m    510\u001b[0m \u001b[0;34m\u001b[0m\u001b[0m\n\u001b[1;32m    511\u001b[0m     \u001b[0;34m@\u001b[0m\u001b[0mproperty\u001b[0m\u001b[0;34m\u001b[0m\u001b[0;34m\u001b[0m\u001b[0m\n",
            "\u001b[0;31mAttributeError\u001b[0m: 'AcceleratorState' object has no attribute 'distributed_type'"
          ]
        }
      ],
      "source": [
        "import torch\n",
        "\n",
        "for batch in trainer.get_eval_dataloader():\n",
        "    break\n",
        "print(batch)\n",
        "print(len(batch))\n",
        "batch = {k: v.to(trainer.args.device) for k, v in batch.items()}\n",
        "with torch.no_grad():\n",
        "    output = trainer.model(**batch)\n",
        "output.keys()\n"
      ]
    },
    {
      "cell_type": "code",
      "execution_count": 26,
      "metadata": {
        "colab": {
          "base_uri": "https://localhost:8080/",
          "height": 34
        },
        "id": "1DSaInoVnJRZ",
        "outputId": "7c1e8eb6-4c62-4664-ba0f-3cab6939a990"
      },
      "outputs": [
        {
          "output_type": "display_data",
          "data": {
            "text/plain": [
              "<IPython.core.display.HTML object>"
            ],
            "text/html": [
              "\n",
              "  <style>\n",
              "    pre {\n",
              "        white-space: pre-wrap;\n",
              "    }\n",
              "  </style>\n",
              "  "
            ]
          },
          "metadata": {}
        },
        {
          "output_type": "execute_result",
          "data": {
            "text/plain": [
              "(torch.Size([64, 384]), torch.Size([64, 384]))"
            ]
          },
          "metadata": {},
          "execution_count": 26
        }
      ],
      "source": [
        "output.start_logits.shape, output.end_logits.shape"
      ]
    },
    {
      "cell_type": "code",
      "execution_count": 27,
      "metadata": {
        "colab": {
          "base_uri": "https://localhost:8080/",
          "height": 867
        },
        "id": "UoeTo6vktKJk",
        "outputId": "3a4d38ed-f593-4bbb-e5a0-1c52b6fd1e76"
      },
      "outputs": [
        {
          "output_type": "display_data",
          "data": {
            "text/plain": [
              "<IPython.core.display.HTML object>"
            ],
            "text/html": [
              "\n",
              "  <style>\n",
              "    pre {\n",
              "        white-space: pre-wrap;\n",
              "    }\n",
              "  </style>\n",
              "  "
            ]
          },
          "metadata": {}
        },
        {
          "output_type": "execute_result",
          "data": {
            "text/plain": [
              "tensor([ 4.8203, -6.0820, -6.2656, -6.1602, -6.3242, -6.4180, -6.1680, -6.5352,\n",
              "        -6.1445, -6.4297, -6.6133, -6.6875, -6.6367, -7.1484, -6.5273, -6.4297,\n",
              "        -6.5273, -5.3750, -6.3555, -6.5156, -7.1602, -6.9180, -6.3594, -6.5664,\n",
              "        -6.1133, -4.2344, -3.2227, -5.8516, -6.7344, -6.1953, -6.9805, -6.6875,\n",
              "        -6.5195, -6.6758, -6.4453, -6.3789, -7.3438, -7.1641, -6.4492, -6.4219,\n",
              "        -4.8633, -3.1504, -6.2461, -6.5430, -6.5117, -6.3789, -6.5391, -7.1406,\n",
              "        -6.7266, -6.7969, -6.3906, -6.1289, -6.4102, -7.1680, -7.1133, -7.0391,\n",
              "        -6.9219, -6.7422, -6.4883, -6.6953, -7.2695, -5.7617, -5.5938, -5.6445,\n",
              "        -6.0742, -5.9570, -6.3789, -6.4805, -6.2539, -6.5039, -6.8672, -7.5625,\n",
              "        -6.8086, -5.9844, -6.7109, -6.5742, -6.8633, -6.8086, -6.8125, -5.3828,\n",
              "        -3.5215, -4.0938, -6.0781, -6.8711, -6.3047, -5.9805, -5.1211, -6.3906,\n",
              "        -7.0781, -6.1016, -7.2227, -6.3359, -6.1875, -6.0430, -5.9922, -6.5078,\n",
              "        -6.4297, -5.9375, -6.6133, -6.8594, -6.8242, -7.3906, -6.7227, -6.3125,\n",
              "        -5.4883, -6.4180, -6.6250, -6.7734, -7.4922, -7.2695, -7.2148, -6.3789,\n",
              "        -6.6406, -7.0859, -5.4531, -4.6641, -1.3711, -4.6289, -6.5156, -6.3516,\n",
              "        -6.3672, -7.1133, -7.1953, -6.2383, -6.9062, -7.2070, -7.1055, -7.6992,\n",
              "        -6.0820, -4.7305, -5.9844, -6.3242, -6.1758, -5.8281, -6.1523, -6.8242,\n",
              "        -6.2266, -6.5039, -5.0391, -6.3320, -5.3750, -6.0039, -2.1543, -0.8032,\n",
              "        -3.6797, -2.8379, -5.9805, -5.7773, -5.4609, -6.3477, -5.5156, -6.2461,\n",
              "        -3.9980, -2.8828, -1.8193, -0.8540, -1.2666, -5.7812, -6.4336, -6.8125,\n",
              "        -5.7578, -6.3203, -6.5703, -2.8340, -3.5352, -3.8223, -4.9062, -5.5820,\n",
              "        -6.5898, -6.4883, -6.3984, -5.6914, -6.5469, -5.3789, -7.2461, -7.1094,\n",
              "        -6.6719, -4.9297, -4.7188, -4.3008, -5.6562, -5.3711, -1.8799, -7.1445,\n",
              "        -6.8320, -6.8164, -5.2656, -5.7578, -4.9531, -6.2773, -2.0156, -2.4492,\n",
              "        -5.2148, -2.7168, -5.9688, -6.5703, -6.7188, -6.4648, -6.4922, -6.0156,\n",
              "        -6.4961, -3.7949, -2.2891, -6.6250, -6.1406, -6.9141, -6.3125, -6.1602,\n",
              "        -5.3945, -6.8477, -7.3945, -6.7227, -6.2109, -7.2852, -7.6016, -6.8398,\n",
              "        -6.5273, -5.8008, -7.0938, -6.8633, -6.6875, -7.4961, -6.1680, -6.6875,\n",
              "        -6.1562, -6.7617, -7.0352, -7.3438, -7.4453, -6.9531, -6.8828, -6.6484,\n",
              "        -6.6211, -7.2422, -7.5547, -6.9219, -6.2852, -7.6211, -6.9297, -6.6680,\n",
              "        -6.2969, -6.7734, -7.0273, -7.3203, -7.4336, -7.5352, -7.0391, -6.4805,\n",
              "        -7.5195, -7.1328, -6.6641, -7.7773, -7.1016, -7.3086, -6.2969, -6.1875,\n",
              "        -6.6836, -6.3359, -7.5312, -7.2969, -6.3398, -6.8828, -6.5508, -6.7383,\n",
              "        -4.6250, -3.3867, -4.6602, -7.0625, -6.6133, -6.3867, -7.2812, -6.3711,\n",
              "        -6.3281, -5.2539, -6.5078, -6.8086, -7.0195, -6.2734, -6.7031, -6.9688,\n",
              "        -6.9414, -7.1328, -7.3750, -6.5938, -6.0586, -4.5234, -5.8555, -5.0625,\n",
              "        -5.1875, -5.8125, -5.9492, -5.8359, -6.1523, -5.9023, -5.6211, -6.1328,\n",
              "        -6.2852, -6.8320, -6.1875, -6.5625, -5.7969, -6.4062, -6.6602, -6.7148,\n",
              "        -6.9023, -6.9180, -7.0234, -7.3477, -7.5820, -7.3164, -6.6758, -6.5586,\n",
              "        -7.2305, -7.1289, -7.1367, -6.5156, -6.9297, -6.5625, -6.8281, -5.4688,\n",
              "        -5.2812, -4.6133, -3.7402, -4.5938, -6.1562, -6.8359, -6.8203, -5.4531,\n",
              "        -5.5352, -6.1992, -6.3320, -5.8750, -5.9922, -7.1406, -6.3125, -6.5000,\n",
              "        -6.7852, -6.0664, -6.2344, -6.7734, -6.3750, -7.3359, -6.5898, -5.3320,\n",
              "        -5.9336, -3.0312, -3.0547, -5.2305, -6.7539, -5.6016, -6.6875, -6.5312,\n",
              "        -5.8203, -4.7266, -6.8477, -6.5508, -6.6797, -7.0977, -7.1055, -6.9961,\n",
              "        -6.9883, -7.0039, -6.6055, -7.3516, -7.4375, -7.2852, -6.8086, -6.4688,\n",
              "        -7.3125, -7.6367, -7.0742, -6.8203, -6.3477, -6.6367, -6.6016, -6.1172,\n",
              "        -6.0000, -6.5703, -6.8984, -6.7500, -6.2344, -6.9336, -7.4844, -5.3750],\n",
              "       device='cuda:0')"
            ]
          },
          "metadata": {},
          "execution_count": 27
        }
      ],
      "source": [
        "output.start_logits[54]"
      ]
    },
    {
      "cell_type": "code",
      "execution_count": 28,
      "metadata": {
        "colab": {
          "base_uri": "https://localhost:8080/",
          "height": 34
        },
        "id": "T_alsI_5shv2",
        "outputId": "72412c6c-8086-4bd1-fdf9-b7b084d09931"
      },
      "outputs": [
        {
          "output_type": "display_data",
          "data": {
            "text/plain": [
              "<IPython.core.display.HTML object>"
            ],
            "text/html": [
              "\n",
              "  <style>\n",
              "    pre {\n",
              "        white-space: pre-wrap;\n",
              "    }\n",
              "  </style>\n",
              "  "
            ]
          },
          "metadata": {}
        },
        {
          "output_type": "execute_result",
          "data": {
            "text/plain": [
              "tensor(0, device='cuda:0')"
            ]
          },
          "metadata": {},
          "execution_count": 28
        }
      ],
      "source": [
        "output.start_logits[1].argmax()"
      ]
    },
    {
      "cell_type": "code",
      "execution_count": 46,
      "metadata": {
        "colab": {
          "base_uri": "https://localhost:8080/",
          "height": 1000
        },
        "id": "pK5_HHMCygPC",
        "outputId": "d2bc9684-406b-42a9-a70d-094e41eaf775"
      },
      "outputs": [
        {
          "output_type": "display_data",
          "data": {
            "text/plain": [
              "<IPython.core.display.HTML object>"
            ],
            "text/html": [
              "\n",
              "  <style>\n",
              "    pre {\n",
              "        white-space: pre-wrap;\n",
              "    }\n",
              "  </style>\n",
              "  "
            ]
          },
          "metadata": {}
        },
        {
          "output_type": "execute_result",
          "data": {
            "text/plain": [
              "{'document_id': 1741,\n",
              " 'context': 'MERS coronavirus: diagnostics, epidemiology and transmission\\n\\nhttps://www.ncbi.nlm.nih.gov/pmc/articles/PMC4687373/\\n\\nSHA: f6fcf1a99cbd073c5821d1c4ffa3f2c6daf8ae29\\n\\nAuthors: Mackay, Ian M.; Arden, Katherine E.\\nDate: 2015-12-22\\nDOI: 10.1186/s12985-015-0439-5\\nLicense: cc-by\\n\\nAbstract: The first known cases of Middle East respiratory syndrome (MERS), associated with infection by a novel coronavirus (CoV), occurred in 2012 in Jordan but were reported retrospectively. The case first to be publicly reported was from Jeddah, in the Kingdom of Saudi Arabia (KSA). Since then, MERS-CoV sequences have been found in a bat and in many dromedary camels (DC). MERS-CoV is enzootic in DC across the Arabian Peninsula and in parts of Africa, causing mild upper respiratory tract illness in its camel reservoir and sporadic, but relatively rare human infections. Precisely how virus transmits to humans remains unknown but close and lengthy exposure appears to be a requirement. The KSA is the focal point of MERS, with the majority of human cases. In humans, MERS is mostly known as a lower respiratory tract (LRT) disease involving fever, cough, breathing difficulties and pneumonia that may progress to acute respiratory distress syndrome, multiorgan failure and death in 20 % to 40 % of those infected. However, MERS-CoV has also been detected in mild and influenza-like illnesses and in those with no signs or symptoms. Older males most obviously suffer severe disease and MERS patients often have comorbidities. Compared to severe acute respiratory syndrome (SARS), another sometimes- fatal zoonotic coronavirus disease that has since disappeared, MERS progresses more rapidly to respiratory failure and acute kidney injury (it also has an affinity for growth in kidney cells under laboratory conditions), is more frequently reported in patients with underlying disease and is more often fatal. Most human cases of MERS have been linked to lapses in infection prevention and control (IPC) in healthcare settings, with approximately 20 % of all virus detections reported among healthcare workers (HCWs) and higher exposures in those with occupations that bring them into close contact with camels. Sero-surveys have found widespread evidence of past infection in adult camels and limited past exposure among humans. Sensitive, validated reverse transcriptase real-time polymerase chain reaction (RT-rtPCR)-based diagnostics have been available almost from the start of the emergence of MERS. While the basic virology of MERS-CoV has advanced over the past three years, understanding of the interplay between camel, environment, and human remains limited. ELECTRONIC SUPPLEMENTARY MATERIAL: The online version of this article (doi:10.1186/s12985-015-0439-5) contains supplementary material, which is available to authorized users.\\n\\nText: An email from Dr Ali Mohamed Zaki, an Egyptian virologist working at the Dr Soliman Fakeeh Hospital in Jeddah in the Kingdom of Saudi Arabia (KSA) announced the first culture of a new coronavirus to the world. The email was published on the website of the professional emerging diseases (ProMED) network on 20 th September 2012 [1] (Fig. 1) and described the first reported case, a 60 year old man from Bisha in the KSA. This information led to the rapid discovery of a second case of the virus, this time in an ill patient in the United Kingdom, who had been transferred from Qatar for care [2] . The new virus was initially called novel coronavirus (nCoV) and subsequentlty entitled the Middle East respiratoy syndrome coronavirus (MERS-CoV). As of 2 nd of September 2015, there have been 1,493 detections of viral RNA or virus-specific antibodies across 26 countries (Additional file 1: Figure S1 ) confirmed by the World Health Organization (WHO), with over a third of the positive people dying (at least 527, 35 %) [3] .\\n\\nSince that first report, a slow discovery process over the following two to three years revealed a virus that had infected over 90 % of adult dromedary camels (DC; Camelus dromedarius) in the KSA [4] , also DCs across the Arabian Peninsula and parts of Africa that are a source of DC imports for the KSA [5] . To date, MERS-CoV has not been detected in DCs tested in zoos or herds from other parts of the world [6] [7] [8] [9] . Occasionally, virus is transmitted from infected DCs to exposed humans. Subsequent transmission to other humans requires relatively close and prolonged exposure [10] .\\n\\nThe first viral isolate was patented and concerns were raised that this would restrict access to both the virus and to viral diagnostics [11, 12] . However, sensitive, validated reverse transcriptase real-time polymerase chain reaction (RT-rtPCR)-based diagnostics were quickly described and virus was made freely available subject to routine biosafety considerations [13] . Subsequent epidemiology and research has identified the cell receptor as exopeptidase dipeptidyl peptidase 4 (DPP4; also called CD26); that MERS-CoV has a broad tropism, replicating better in some cells lines and eliciting a more proinflammatory response than SARS-CoV; is widespread in DCs; has the potential to infect other animals and that MERS kills its human host more often than SARS did (20-40 % versus 9 % for SARS [14] ) [15] [16] [17] [18] [19] .\\n\\nIn humans, overt disease was given the name Middle East respiratory syndrome, with the acronym MERS. From intermittent animal-to-human spill-over events, the MERS-CoV spreads sporadically among people, causing more severe disease among older adults, especially males, with pre-existing diseases. The spread of MERS-CoV among humans has often been associated with outbreaks in hospitals, with around 20 % of all cases to date involving healthcare workers (HCWs).\\n\\nAlthough DCs appear to suffer the equivalent of a \\'common cold\\' from MERS-CoV infection, in humans, the virus can be a more serious and opportunistic pathogen associated with the death of up to 40 % of reported cases. It has yet to be established whether infections thought to have been acquired from an animal source produce a more severe outcome than those spread between humans [20] . Studies have established that the mean incubation period for MERS is five to six days, ranging from two to 16 days, with 13 to 14 days between when illness begins in one person and subsequently spreads to another [21] [22] [23] [24] . Among those with progressive illness, the median time to death is 11 to 13 days, ranging from five to 27 days [23, 24] . Fever and gastrointestinal symptoms may form a prodrome, after which symptoms decline, only to be followed by a more severe systemic and respiratory syndrome [25, 26] .\\n\\nThe first WHO case definition [27] defined probable cases of MERS based on the presence of febrile illness, cough and requirement for hospitalization with suspicion of lower respiratory tract (LRT) involvement. It also included roles for contact with a probable or confirmed case or for travel or residence within the Arabian Peninsula. If strictly adhered to, only the severe syndrome would be subject to laboratory testing, which was the paradigm early on [21] . From July 2013, the revised WHO case definition included the importance of seeking out and understanding the role of asymptomatic cases and from June 2014, the WHO definition more clearly stated that a confirmed case included any person whose sample was RT-PCR positive for MERS-CoV, or who produced a seroconversion, irrespective of clinical signs and symptoms. [28] [29] [30] Apart from the WHO and the KSA Ministry of Health reports, asymptomatic or subclinical cases of MERS-CoV infection were documented in the scientific literature although not always as often as occurred early on [31, 32] . The KSA definition of a case became more strict on 13 th May 2014, relying on the presence of both clinical features and laboratory confirmation [33] . Testing of asymptomatic people was recommended against from December 2014 [34] , reinforced by a case definition released by the KSA Ministry of Health in June 2015 [35] . The KSA has been the source of 79 % of human cases. Severe MERS is notable for its impact among older men with comorbid diseases including diabetes mellitus, cirrhosis and various lung, renal and cardiac conditions [36] [37] [38] . Interestingly in June 2015, an outbreak in South Korea followed a similar distribution [39, 40] . Among laboratory confirmed cases, fever, cough and upper respiratory tract (URT) signs and symptoms usually occur first, followed within a week by progressive LRT distress and lymphopaenia [37] . Patients often present to a hospital with pneumonia, or worse, and secondary bacterial infections have been reported [37, 41] . Disease can progress to acute respiratory distress syndrome and multiorgan system failure [37] . MERS has reportedly killed approximately 35 % of all reported cases, 42 % of cases in the KSA, yet only 19 % of cases in South Korea, where mortality ranged from 7 % among younger age groups to 40 % among those aged 60 years and above [42] ; all may be inflated values with asymptomatic or mild infections sometimes not sought or not reported [34] . General supportive care is key to managing severe cases [43] . Children under the age of 14 years are rarely reported to be positive for MERS-CoV, comprising only 1.1 % (n = 16) of total reported cases. Between 1 st September 2012 and 2 nd December 2013, a study described the then tally of paediatric cases in the KSA, which stood at 11 (two to 16 years of age; median 13 years); nine were asymptomatic (72 %) and one infant died [44] . In Amman, Jordan, 1,005 samples from hospitalized children under the age of two years with fever and/or respiratory signs and symptoms were tested but none were positive for MERS-CoV RNA, despite being collected at a similar time to the first known outbreak of MERS-CoV in the neighbouring town of Al-Zarqa [45] . A second trimester stillbirth occurred in a pregnant woman during an acute respiratory illness and while not RT-rtPCR positive, the mother did subsequently develop antibodies to MERS-CoV, suggestive of recent infection [46] . Her exposure history to a MERS-CoV RT-rtPCR positive relative and an antibody-reactive husband, her incubation period and her symptom history met the WHO criteria for being a probable MERS-CoV case [46] .\\n\\nDiagnostic methods were published within days of the ProMED email announcing the first MERS case [47] , including several now gold standard in-house RT-rtPCR assays (Fig. 2 ) as well as virus culture in Vero and LLC-MK2 cells [18, 47, 48] . A colorectal adenocarcinoma (Caco-2) epithelial cell line has since been recommended for isolation of infections MERS-CoV [49] . We previously [18] .). Open reading frames are indicated as yellow rectangles bracketed by terminal untranslated regions (UTR; grey rectangles). FS-frame-shift. Predicted regions encompassing recombination break-points are indicated by orange pills. Created using Geneious v8.1 [211] and annotated using Adobe Illustrator. Beneath this is a schematic depicting the location of RT-PCR primers (blue arrows indicate direction) and oligoprobes (green rectangles) used in the earliest RT-rtPCR screening assays and conventional, semi-nested (three primers) RT-PCR confirmatory sequencing assays [47, 48] . Publication order is noted by first [27 th September 2012; red] and second [6 th December 2012; orange] coloured rectangles; both from Corman et al. [47, 48] Those assays recommended by the WHO are highlighted underneath by yellow dots [53] . The NSeq reverse primer has consistently contained one sequence mismatch with some MERS-CoV variants. An altered version of that from Mackay IM, Arden KE. Middle East respiratory syndrome: An emerging coronavirus infection tracked by the crowd. Virus Res 2015 Vol 202:60-88 with permission from Elsevier [5] reviewed the broad tropism of MERS-CoV [5] . However, as is well described, cell culture is a slow, specialised and insensitive method [50] while PCR-based techniques are the preferred method for MERS-CoV detection.\\n\\nThe first open reading frames (ORF 1a and 1b; Fig. 2 ) have become a key diagnostic and taxonomic target for CoV species identification. With less than 80 % identity between the amino acid sequence of MERS ORF 1ab and betacoronavirus relatives, Tylonycteris bat HKU4 and Pipistrellus bat HKU5, it can be concluded that it is a novel and distinct virus. MERS-CoV is predicted to encode ten open reading frames with 5\\' and 3\\' untranslated regions [51] . The structural proteins include the spike (S), envelope (E), membrane (M) and nucleocapsid (N) [52] . The products of ORF1a and ORF1b are predicted to encode nonstructural proteins.\\n\\nThe majority of specimen testing to date has employed validated RT-rtPCR assays shown to be sensitive and specific [47, 48, 53] . The RealStar® kit uses these WHOrecommended assays [54] . The target sequences of these screening assays have not changed among genomes examined until at least mid-2015 (IMM observation). Other RT-rtPCR assays have been developed and validated for use as laboratory-based diagnostic tools [55] [56] [57] . Additionally, loop-mediated [58, 59] or recombinase polymerase [60] isothermal assays have been designed for field deployment.\\n\\nThe detection of MERS-CoV antigen has not been common to date but the combination of short turnaround time from test to result, high throughput and identification of viral proteins makes this an attractive option. Detection of viral proteins rather than viral RNA indicates the likely presence of infectious virus. The first rapid immunochromatographic tool described could detect recombinant MERS-CoV nucleocapsid protein from DC nasal swabs with 94 % sensitivity and 100 % specificity compared to RT-rtPCR [61] . A different approach used a monoclonal antibody-based capture ELISA targeting the MERS-CoV nucleocapsid protein with a sensitivity of 10 3 TCID 50 and 100 % specificity [62] .\\n\\nDemonstration of a seroconversion to a MERS-CoV infection meets the current WHO definition of a case so optimized and thoroughly validated sero-assays employed alongside good clinical histories are useful to both identify prior MERS-CoV infection and help support transmission studies. Because serology testing is, by its nature, retrospective, it is usual to detect a viral footprint, in the form of antibodies, in the absence of any signs or symptoms of disease and often in the absence of any viral RNA [63] .\\n\\nStrategic, widespread sero-surveys of humans using samples collected after 2012 are infrequent. Much of the Arabian Peninsula and all of the Horn of Africa lack baseline data describing the proportion of the community who may have been infected by a MERS-CoV. However, sero-surveys have had widespread use in elucidating the role of DCs as a transmission source for MERS-CoV. Because of the identity shared between DC and human MERS-CoV (see Molecular epidemiology: using genomes to understand outbreaks), serological assays for DC sero-surveys should be transferrable to human screening with minimal re-configuration. Also, no diagnostically relevant variation in neutralization activity have been found from among a range of circulating tested MERS-CoV isolates and sera, so whole virus or specific protein-based sero-assays should perform equivalently in detecting serological responses to the single MERS-CoV serotype [49] . The development of robust serological assays requires reliable panels of wellcharacterized animal or human sera, including those positive for antibodies specific to MERS-CoV, as well as to likely sources of cross-reaction [64] . Obtaining these materials was problematic and slowed the development and commercialization of antibody detection assays for human testing [64] . A number of commercial ELISA kits, immunofluorescent assays (IFA) kits, recombinant proteins and monoclonal antibodies have been released [31, [65] [66] [67] [68] . Initially, conventional IFAs were used for human sero-surveys. These relied on MERS-CoV-infected cell culture as an antigen source, detecting the presence of human anti-MERS-CoV IgG, IgM or neutralizing antibodies in human samples [18, 48, 69] . No sign of MERS-CoV antibodies was found among 2,400 sera from patients visiting Hospital in Jeddah, from 2010 through 2012, prior to the description of MERS-CoV [18] . Nor did IFA methods detect any sign of prior MERS-CoV infection among a small sample of 130 healthy blood donors from another Hospital in Jeddah (collected between Jan and Dec 2012) [70] . Of 226 slaughterhouse workers, only eight (3.5 %) were positive by IFA, and those sera could not be confirmed by virus neutralization (NT) test. The study indicated that HCoV-HKU1 was a likely source of crossreactive antigen in the whole virus IFA [70] . Whole virus MERS-CoV IFA also suffered from some cross-reactivity with convalescent SARS patient sera and this could not be resolved by an NT test which was also cross-reactive [71] . IFA using recombinant proteins instead of whole-virus IFA, has been shown to be a more specific tool [31] . Since asymptomatic zoonoses have been posited [72] , an absence of antibodies to MERS-CoV among some humans who have regular and close contact with camels may reflect the rarity of actively infected animals at butcheries, a limited transmission risk associated with slaughtering DCs [70] , a pre-existing cross-protective immune status or some other factor(s) resulting in a low risk of disease and concurrent seroconversion developing after exposure in this group. IFA using recombinant proteins instead.\\n\\nSome sero-assays have bypassed the risks of working with infectious virus by creating transfected cells expressing recombinant portions of the MERS-CoV nucleocapsid and spike proteins [48, 73] , or using a recombinant lentivirus expressing MERS-CoV spike protein and luciferase [74, 75] . A pseudo particle neutralization (ppNT) assay has seen widespread used in animal studies and was at least as sensitive as the traditional microneutralization (MNT) test. [10, 74, [76] [77] [78] ] Studies using small sample numbers and ppNT found no evidence of MERS-CoV neutralizing antibody in sera from 158 children with LRT infections between May 2010 and May 2011, 110 sera from 19 to 52 year old male blood donors and 300 selfidentified animal workers from the Jazan Region of the KSA during 2012 [79, 80] . Similarly, a study of four herdsmen in contact with an infected DC herd in Al-Ahsa, eight people who had intermittent contact with the herd, 30 veterinary surgeons and support staff who were not exposed to the herd, three unprotected abattoir workers in Al-Ahsa and 146 controls who were not exposed to DCs in any professional role, found none with serological evidence of past MERS-CoV infection using the ppNT assay [10] . A delay in the neutralizing antibody response to MERS-CoV infection was associated with increased disease severity in South Korea cases with most responses detectable by week three of illness while others, even though disease was severe, did not respond for four or more weeks [81] . The implications for our ability to detect any response in mild or asymptomatic cases was not explored but may be a signifcant factor in understanding exposure in the wider community.\\n\\nA Jordanian outbreak of acute LRT disease in a hospital in 2012 was retrospectively found to be associated with MERS-CoV infection, initially using RT-rtPCR, but subsequently, and on a larger scale, through positivity by ELISA and IFA or MNT test. [46, 82, 83] This outbreak predated the first case of MERS in the KSA. The ELISA used a recombinant nucleocapsid protein from the group 2 betacoronavirus bat-CoV HKU5 to identify antibodies against the equivalent crossreactive MERS-CoV protein [71] . It was validated using 545 sera collected from people with prior HCoV-OC43, HCoV-229E, SARS-CoV, HCoV-NL63, HRV, HMPV or influenza A(H1N1) infections but was reportedly less specific than the recombinant IFA discussed above. It was still considered an applicable tool for screening large sample numbers [82] . A protein microarray expressing the S1 protein subunit has also been validated and widely used for DC testing [5, 84] . Detection of MERS-CoV infection using ELISA or S1 subunit protein microarray [84] is usually followed by confirmatory IFA and/ or a plaque-reduction neutralization (PRNT) [69, 70, 85] or MNT test. [74, 85, 86] This confirmatory process aims toensure the antibodies detected are able to specifically neutralize the intended virus and are not more broadly reactive to other coronaviruses found in DCs (bovine CoV, BCoV) or humans (HCoV-OC43, HCoV-229E, HCoV-NL63, HCoV-HKU1, SARS-CoV). In the largest study of human sera, a tiered diagnostic process assigned both recombinant IFA and recombinant ELISA positive sera to \\'stage 1\\' seropositivity. A stage 2 seropositive result additionally required a suitably titred PRNT result [87] . The study found 15 sera collected in 2012 to 2013 from 10,009 (0.2 %) people in 13 KSA provinces contained MERS-CoV antibodies, but significantly higher proportions in occurred in camel shepherds (two of 87; 2.3 %) and slaughterhouse workers (five of 140; 3.6 %) [87] . Contemporary surveys are needed.\\n\\nMERS-CoV does not appear to be easily transmitted from DCs to humans, or perhaps it is [72] , but generally does not trigger a detectable immune response if only mild disease or asymptomatic infection results. Serology assays are in need of further validation in this area so care is required when moving newly developed diagnostic serology algorithms from a research setting to one that informs public health decisions. This was reinforced when a false positive US case, purported to have been infected after a handshake and two face-to-face meetings, did not withstand further confirmatory analysis using a more specific, NT assay and was subsequently retracted [88, 89] .\\n\\nThe WHO recommends sampling from the LRT for MERS-CoV RT-rtPCR testing, especially when sample collection is delayed by a week or more after onset of symptoms. [53] LRT samples are also best for attempting isolation of infectious virus, although the success of culture is reduced when disease persists [49] . Recommended sample types include bronchoalveolar lavage (BAL), tracheal/tracheobronchial aspirate, pleural fluid and sputum [53, 90] . Fresh samples yield better diagnostic results than refrigerated material [69] and if delays in testing of ≥72 h are likely, samples (except for blood) should be frozen at −70°C [90] . If available, lung biopsy or autopsy tissues can also be tested [53] . The URT is a less invasive and more convenient sampling site however, and an oropharyngeal and throat swab or a nasopharyngeal aspirate/wash are recommended when URT sampling is to be conducted [90] . Paired sera, collected two to three weeks apart are preferable for serological testing while a single sample is suggested to be sufficient if collected two weeks after onset of disease or a single serum collected during the first 10-12 days if conducting RT-rtPCR [53, 90] . Human urine and stool have been found to contain MERS-CoV RNA 12 to 26 days after symptom onset [25, 69, 91] and are listed as samples that should be considered [53, 90] . In two cases that arrived in the Netherlands, urine was RT-rtPCR negative but faeces was weakly positive and sera were RT-rtPCR positive for five days or more [25] . The finding of MERS-CoV viral RNA in serum provides an avenue for retrospective PCR-based studies if respiratory samples are unavailable [83] . RNAaemia may also correlate with disease severity; signs of virus were cleared from the serum of a recovered patient, yet lingered until the death of another [92] .\\n\\nClinically suspected MERS cases may return negative results by RT-rtPCR. Data have shown one or more negative URT samples may be contradicted by further URT sampling or the use of LRT samples, which is preferred [2, 43, 93] . Higher viral loads occur in the LRT compared to the URT. [22, 69, 88, 94] This fits with the observation that the majority of disease symptoms are reported to manifest as systemic and LRT disease [21] . However, on occasion, even LRT specimens from MERS cases may initially be negative, only to later become positive by RT-PCR [95] . This may be due to poor sampling when a cough is absent or non-productive or because the viral load is low [95] . Despite this both the largest human MERS-CoV studies [32, [96] [97] [98] and smaller ones [22, 25, 99] , use samples from the URT. It is then noteworthy that one study reported an association between higher loads in the URT and worse clinical outcome including intensive care and death [94] . At writing, no human data exist to define whether the virus replicates solely or preferentially in the LRT or URT, or replicates in other human tissues in vivo although MERS-CoV RNA has been detected from both the URT and LRT in a macaque monkey model [100] .The distribution of DPP4 in the human upper airways is also not well described.\\n\\nIndividual human case studies report long periods of viral shedding, sometimes intermittently and not necessarily linked to the presence of disease symptoms. [25, 69, 99, 101] In one instance, a HCW shed viral RNA for 42 days in the absence of disease [99] . It is an area of high priority to better understand whether such cases are able to infect others. Over three quarters of MERS cases shed viral RNA in their LRT specimens (tracheal aspirates and sputum) for at least 30 days, while only 30 % of contacts were still shedding RNA in their URT specimens [91, 102] .\\n\\nIn the only study to examine the effect of sample type on molecular analysis, 64 nasopharyngeal aspirates (NPA; an URT sample), 30 tracheal aspirates, 13 sputa and three BAL were examined. The tracheal aspirates and BAL returned the highest viral load values followed by NPA and sputum. Unsurprisingly, higher viral loads generally paralleled whole genome sequencing and culture success and, in NPA testing, were significantly correlated with severe disease and death [49, 94, 103] . This study demonstrated the importance of LRT sampling for whole genome sequencing.\\n\\nWhen tested, samples positive for MERS-CoV are often negative for other pathogens [2, 25, 93, 104] . However, many studies make no mention of additional testing for endemic human respiratory viruses [21, 23, 73, 105] . When viruses are sought, they have included human herpesvirus (HHV), rhinoviruses (HRV), enteroviruses (EV), respiratory syncytial virus (RSV), parainfluenzavirus types 1, 2 and 3 (PIVs),influenzaviruses (IFVs), endemic HCoVs, adenoviruses (AdVs) metapneumovirus (MPV) and influenza A\\\\H1N1 virus; co-detections with MERS-CoV have been found on occasion [2, 22, 37, 69, 97] . Bacterial testing is sometimes included (for example, for Legionella and Pneumococcus) but the impact of bacterial co-presence is also unclear [22, [104] [105] [106] . Further testing of the LRT sample from the first MERS case used IFA to screen for some viruses (negative for IFV, PIVs, RSV and AdVs) and RT-PCR for others (negative for AdV, EVs, MPV and HHVs) [18] . RT-PCR also detected MERS-CoV. The WHO strongly recommends testing for other respiratory pathogens [53] but with this recommendation often discounted, there are limited data to address the occurrence and impact of co-infections or alternative viral diagnoses among both MERS cases and their contacts. Little is known of other causes of MERS-like pneumonia in the KSA or of the general burden of disease due to the known classical respiratory viruses.\\n\\nTesting of adult pilgrims performing the Hajj in 2012 to 2014 has not detected any MERS-CoV. In 2012, nasal swabs from 154 pilgrims collected prior to leaving for or departing from the KSA were tested [47] . In 2013, testing was significantly scaled up with 5,235 nasopharyngeal swabs from 3,210 incoming pilgrims and 2,025 swabs from outgoing pilgrims tested [98] . It should be noted that most pilgrims arrived from MERS-free countries. A further 114 swabs were taken from pilgrims with influenza-like illness [96, 107] . In earlier Hajj gatherings, it was found that influenza viruses circulated widely, whilst other viruses, often rhinoviruses, circulated more selectively, interpreted as indicating their importation along with foreign pilgrims. [107] [108] [109] Over time, increased influenza vaccination has been credited for a fall in the prevalence of influenza like illnesses among Hajj pilgrims. [110] A LRT sample is often not collected for these studies [98, 107, 109] , so false negative findings are a possibility although little is known about the initial site of MERS-CoV infection and replication; it may have been assumed it was the LRT because disease was first noticed there but the URT may be the site of the earliest replication.\\n\\nIn Jeddah between March and July 2014 (hereafter called the Jeddah-2014 outbreak; Fig. 3 ), there was a rapid increase in MERS cases, accompanied by intense screening; approximately 5,000 samples from in and around the region were tested in a month yielding around 140 MERS-CoV detections (~3 % prevalence) [111] . Among 5,065 individuals sampled and tested across the KSA between October 2012 and September 2013,108 (2.1 %) detections were made in a hospital-centric population which included hospitalized cases (n = 2,908; 57.4 %), their families (n = 462; 9.1 %) and associated HCWs (n = 1,695; 33.5 %) [32] . Among the detections, 19 (17.8 %) were HCWs and 10 (9.3 %) were family contacts [32] .\\n\\nThe 2-3 % prevalence of active MERS-CoV infections is not dissimilar to the hospital-based prevalence of other human CoVs. [112] However, the proportion of deaths among those infected with MERS-CoV is much higher than that known for the HCoVs NL63, HKU1, 229E or OC43 in other countries, and even above that for SARS-CoV; it is not a virus that could reasonably be described as a \"storm in a teacup\". It is the low transmission rate that has prevented worldwide spread, despite many \"opportunities\".\\n\\nVery early in the MERS outbreak, some animals were highly regarded as either the reservoir or intermediate host(s) of MERS-CoV with three of the first five cases having contact with DCs [73, 113, 114] . Today, animal MERS-CoV infections must be reported to the world organization for animal health as an emerging disease [115] . A summary of the first MERS cases reported by the WHO defined animal contact with humans as being direct and within 10 days prior to symptom onset [20] . This definition made no specific allowance for acquisition from DCs through a droplet-based route, which is very likely route for acquisition of a virus that initially and predominantly causes respiratory disease [23] . Camels are known to produce high levels of MERS-CoV RNA in their URT and lungs [116] . Providing support for a droplet transmission route and perhaps indicating the presence of RNA in smaller, drier droplet nuclei, MERS-CoV RNA was identified in a high volume air sample collected from a barn housing an infected DC [117] . The precise source from which humans acquire MERS-CoV remains poorly studied but it seems likely that animal and human behavioural factors may play roles (Fig. 3) [118] . These factors may prove important for human cases who do not describe any DC contact [119] nor any contact with a confirmed case. Whether the WHO definition of animal contact is sufficient to identify exposure to this respiratory virus remains unclear. Wording focuses on consumption of DC products but does not specifically ascribe risk to a droplet route for acquisition of MERS-CoV from DC [120] . Some MERS patients are listed in WHO disease notices as being in proximity to DCs or farms, but the individuals have not described coming into contact with the animals. No alternative path for acquiring infection is reported in many of these instances. What constitutes a definition of \"contact\" during these interviews has been defined for one study [72] . Despite this lack of clarity, the WHO consider that evidence linking MERS-CoV transmission between DCs to humans is irrefutable (Fig. 4) [120] .\\n\\nThe possibility that bats were an animal host of MERS-CoV was initially widely discussed because of the existing diversity of coronaviruses known to reside among them [121] [122] [123] [124] . Conclusive evidence supporting bats as a source for human infections by MERS-CoV has yet to be found, but bats do appear to host ancestral representatives [53, 125] . However, these are not variants of the same virus nor always within the same phylogenetic lineage as MERS-CoV; they are each a genetically distinct virus. Bat-to-human infection by MERS-CoV is a purely speculative event. The only piece of MERS-CoV-specific evidence pointing to bats originates from amplification of a 190 nt fragment of the RNAdependent RNA polymerase gene of the MERS-CoV genome, identified in a faecal pellet from an insectivorous Emballonuridae bat, Taphozous perforatus found in Bisha, the KSA [121] . While very short, the sequence of the fragment defined it as a diagnostic discovery. Subsequently a link to DCs was reported [85] and that link has matured into a verified association [38, 126] (Fig. 4) .\\n\\n(See figure on previous page.) Fig. 3 Monthly detections of MERS-CoV (blue bars) and of cases who died (red bars) with some dates of interest marked for 2012 to 4 th September 2015. An approximation of when DC calving season [128] and when recently born DCs are weaned is indicated. Spring (green) and summer (orange) in the Arabian Peninsula are also shaded. Note the left-hand y-axis scale for 2014 and 2015 which is greater than for 2012/13. Sources of these public data include the WHO, Ministries of Health and FluTrackers [207] [208] [209] . Earlier and subsequent versions of this chart are maintained on a personal blog [210] . Modified and reprinted from Mackay IM, Arden KE. Middle East respiratory syndrome: An emerging coronavirus infection tracked by the crowd. Virus Res 2015 Vol 202:60-88 with permission from Elsevier [5] DCs, which make up 95 % of all camels, have a central presence in the Arabian Peninsula where human-DC contact ranges from little to close [119] . Contact may be commonplace and could occur in variety of ways (Fig. 4a) . There are several large well-attended festivals, races, sales and parades which feature DCs and DCs are also kept and bred close to populated areas in the KSA [127, 128] . DC milk and meat are widely consumed and the older DC is an animal of ritual significance after the Hajj pilgrimage [129] . However, MERS-CoV infection frequency is reportedly much lower than is the widespread and frequent habit of eating, drinking and preparing DC products. Daily ingestion of fresh unpasteurized DC milk is common among the desert Bedouin and many others in the KSA. DC urine is also consumed or used for supposed health benefits. Despite camel butchery being a local occupation, neither butchers nor other at-risk groups are identifiable among MERS cases; this may simply be a reporting issue rather than an unexplainable absence of MERS. A small case-control study published in 2015 identified direct DC contact, and not ingestion of products, to be associated with onset of MERS [38] .\\n\\nThe first sero-survey of livestock living in the Middle East region was conducted during 2012-2013 [85] . DCs were sampled from a mostly Canary Island-born herd and from Omani DCs (originally imported from the Horn of Africa) [85] . A neutralising antibody assay found only 10 % of strongly seropositive Canary Island [5] . b Camel-to-human infections appear to be infrequent, while human-to-human spread of infection is regularly facilitated by poor IPC in healthcare settings where transmission is amplified, accounting for the bulk of cases. There are human MERS cases that do not fall into either category of source and it is unclear if these acquired infection through some entirely separate route, or from cases that escaped diagnosis. c Hypothetical ways in which subclinical (when infection may not meet a previously defined clinical threshold of signs and/or symptoms) or asymptomatic (no obvious signs or measured, noticed or recalled symptoms of illness) MERS-CoV infection may be implicated in transmission DC sera could neutralise MERS-CoV while all Omani DC sera had high levels of specific MERS-CoV neutralizing antibody [85] . This indicated that DCs had in the past been infected by MERS-CoV, or a very similar virus.\\n\\nSince this study, a host of peer-reviewed reports have looked at both DCs and other animals, and the possibility that they may host MERS-CoV infection. Seropositive DCs have been found throughout the Arabian Peninsula including Oman, the KSA, Qatar, Jordan, the United Arab Emirates (UAE), Kuwait as well as Sudan, Somalia, Egypt, Tunisia, Nigeria, Kenya and Ethiopia in Africa and the Canary Islands [85, [130] [131] [132] [133] [134] . Other animals tested include sheep, cows, pigs, horses, donkeys, mules, birds, water buffalo, goats, Bactrian camels, llamas and guanaco (south American camelids) but none had detectable neutralising antibody against MERS-CoV [4, 74, 78, 85, 86, 135, 136] . No virology or serology studies of human samples from areas in Africa where there are camels with a history of MERS-CoV have been reported to date. However,an absence of unexplained pneumonia that may be attributable to MERS-CoV infection may not signal the absence of virus among humans in each country but simply reflect a lack of expensive epidemiology studies conducted by resource-poor countries. It is thus unclear whether MERS-CoV, or an antigenically related CoV, is an unrecognized pathogen in these regions, perhaps circulating for even longer than it has been known in the Arabian Peninsula [133] .\\n\\nMERS-CoV RNA has also been detected in DC samples, and recovery of infectious virus has also been achieved from DC samples [4, 77, 117, 132, [137] [138] [139] [140] [141] . From some of these, full or majority length genomes of MERS-CoV have been sequenced [77, 137, 138] . DC versions of MERS-CoV were found to be as similar to each other, as were variants detected from different humans over time and across distance.\\n\\nAntibody screening assays have also detected crossreactive antibodies in sera. These were identified as such by screening sera against similar viruses, for example BCoV or HCoV-OC43 (as an antigenic facsimile for BCoV). It is possible that other MERS-CoV-like viruses also reside within DCs, but this does not detract from the definitive finding of MERS-CoV genetic sequences in both DCs and humans [117, 142, 143] .\\n\\nScreening studies have shown that juvenile DCs are more often positive for virus or viral RNA while older DCs are more likely to be seropositive and RNA or virus negative [76, 77, 144] . In adult DCs, MERS-CoV RNA has been detected among animals with pre-existing antibody, suggesting re-infection is possible [77, 144] . Viral loads among positive DCs can be very high [4, 76, 77, 139, 144] and DCs have been found positive both when ill with URT respiratory signs [77, 117, 142, 145] or when apparently healthy [137] . These findings indicate DCs host natural MERS-CoV infections. Furthermore, stored DC sera have revealed signs of MERS-CoV in DCs which date back over three decades (the earliest collected in 1983) [4, 133, 135] . Older sera have not been tested and so precisely how long DCs have been afflicted by MERS-CoV, whether the virus is enzootic among them, introduced to them decades or centuries ago from bats in Africa or the Arabian Peninsula, or they are the subject of regular but short-lived viral incursions from an as yet unknown host, cannot be answered.\\n\\nResearchers sought to determine a direction for infection; were DCs transmitting virus to humans or were humans infecting DCs? At a Qatari site, a farm owner and his employee became ill in mid-October 2013 and tested positive for MERS-CoV RNA in a sputum and throat swab sample, respectively. RT-rtPCRs found MERS-CoV RNA in 11 of 14 positive DC nasal swabs at the farm; six (43 %) positive by two or more assays [138] . The results indicated a recent outbreak had occurred in this herd; the first indication of MERS-CoV RNA found within DCs with a temporal association to human infections. Three positive DC samples were confirmed by sequencing a 358 nt portion of the spike gene; these sequences were identical to each other, again with close homology to other human and DC MERS-CoV sequences [138] . The DCs and human contacts yielded ORF1a and ORF4b sequences differing by only a single nucleotide each, clustering closely with the Hafr-Al-Batin_1_2013 variant [138] . Subsequent case studies found evidence of a concurrent human and DC infection and the direction of that infection was inferred to be from the ill DCs and to their human owners [117, 142, 146] . Partial genome sequences indicated that a human and a MERS-CoV RT-rtPCR positive DC had been infected by a variant of the same virus, harbouring the same distinct pattern of nucleotide polymorphisms. [142] All nine DC in the owner\\'s herd, serially sampled, reacted in a recombinant S1 antigen ELISA, with the two animals that had been RT-rtPCR positive showing a small, verifiable rise in antibody titre [142] . A rise in titre theoretically begins 10 to 21 days after DC infection [142] . The authors suggested that the rise in titre in DC sera which occurred alongside a declining RNA load, while the patient was actively ill and hospitalized, indicated that the DCs were infected first followed by the owner [117, 142] . BCoV antibodies were also present, and rising in one of the two RT-rtPCR positive animals but no animal\\'s antibodies could neutralise BCoV infection [142] .\\n\\nCamel calving season occurs in the winter months (between late October and late February; Fig. 3 ) and this may be a time when there is increased risk to humans of spill-over due to new infections among naïve DC populations [128] . What role maternal camel antibody might play in delaying infection of calves remains unknown [128, 142] . Juvenile DCs appear to host active infection more often than adult DCs and thus the sacrificial slaughter of DCs, which must be five years of age or older (termed a thane), may not be accompanied by significant risk of exposure to infection. In contrast to earlier results, slaughterhouse workers who kill both younger and older DCs, may be an occupational group with significantly higher incidence of seropositivity to MERS-CoV when animals have active MERS-CoV infections [129, 139, [147] [148] [149] . Expanded virological investigations of African DCs may lead to more seropositive animals and geographic areas in which humans may be at risk. It is possible that there are areas where humans already harbour MERS-CoV infections that have not been identified because of an absence of laboratory surveillance. Virological investigations of bats may lead to findings of ancestral viruses and viral \\'missing links\\' and identifying any other animal sources of zoonotic spread is important to inform options for reducing human exposures [56, 76] .\\n\\nInfectious MERS-CoV added to DC, goat or cow milk and stored at 4°C could be recovered at least 72 h later and, if stored at 22°C, recovery was possible for up to 48 h [150] . MERS-CoV titre decreased somewhat when recovered from milk at 22°C but pasteurization completely ablated MERS-CoV infectivity [150] . In a subsequent study, MERS-CoV RNA was identified in the milk, nasal secretion and faeces of DCs from Qatar [151] .\\n\\nA single study has examined the ability of MERS-CoV to survive in the environment [150] . Plastic or steel surfaces were inoculated with 10 6 TCID 50 of MERS-CoV at different temperature and relative humidity (RH) and virus recovery was attempted in cell culture. At high ambient temperature (30°C) and low RH (30 %) MERS-CoV remained viable for 24 h [150] . By comparison, a well known and efficently transmitted respiratory virus, influenza A virus, could not be recovered in culture beyond four hours under any conditions [150] . Aerosol experiments found MERS-CoV viability only decreased 7 % at low RH at 20°C. In comparison, influenza A virus decreased by 95 % [150] . MERS-CoV survival is inferior to that previously demonstrated for SARS-CoV [152] . For context, pathogenic bacteria can remain viable and airborne for 45 min in a coughed aerosol and can spread 4 m. MERS-CoV\\'s ability to remain viable over long time periods gives it the capacity to thoroughly contaminate a room\\'s surfaces when occupied by an infected and symptomatic patient [153] . Whether MERS-CoV can remain adrift and infectious for extended periods (truly airborne) remains unknown. Such findings expand our understanding of the possibilities for droplets to transmit respiratory viruses in many settings, including hospital waiting rooms, emergency departments, treatment rooms, open intensive care facilities and private patient rooms. The nature and quality of air exchange, circulation and filtration are important variables in risk measurement and reduction as is the use of negative pressure rooms to contain known cases. Droplet spread between humans is considered the mechanism of human-to-human transmission and the need for droplet precautions was emphasized after the Al-Ahsa hospital, the KSA and the South Korean outbreaks [21, 23, 154, 155] . By extrapolation, aerosol-generating events involving DCs (urination, defecation, and preparation and consumption of DC products) should be factored into risk measurement and reduction efforts and messaged using appropriate context. The provision of evidence supporting the best formulation of personal protective equipment to be worn by HCWs who receive, manage or conduct procedures on infectious cases remains a priority.\\n\\nMERS-CoV was found and characterized because of its apparent association with severe, and therefore more obvious, illness in humans; we were the canaries in the coal mine. Sero-assays and prospective cohort studies have yet to determine the extent to which milder or asymptomatic cases contribute to MERS-CoV transmission chains. However, transmission of MERS-CoV is defined as sporadic (not sustained), intra-familial, often healthcare associated, inefficient and requiring close and prolonged contact [22, 31, 63, 93, 97, 102, 156] In a household study, 14 of 280 (5 %) contacts of 26 MERS-CoV positive index patients were RNA or antibody positive; the rate of general transmission, even in outbreaks is around 3 % [31] . It seems that the majority of human cases of MERS-CoV, even when numbers appear to increase suddenly, do not readily transmit to more than one other human so to date, the localized epidemic of MERS-CoV has not been self-sustaining [157] [158] [159] [160] [161] . That is to say, the basic reproduction number (R 0 ) -the average number of infections caused by one infected individual in a fully susceptible populationhas been close to one throughout various clusters and outbreaks. If R 0 was greater than 1, a sustained increase in case numbers would be expected. Some R o calculations may be affected by incomplete case contact tracing, limited community testing and how a case is defined. That MERS has had a constant presence in the Arabian Peninsula since 2012 is due to ongoing, sporadic spill-over events from DCs amplified by poorly controlled hospital outbreaks.\\n\\nThe first known MERS human-to-human transmission event was one characterized by acute LRT disease in a healthcare setting in Jordan. In stark contrast, a sero-survey of HCW who were sometimes in close and prolonged contact with the first, fatal MERS-CoV case in 2012 [162] , found none of the HCW had seroconverted four months later, despite an absence of eye protection and variable compliance with required PPE standards [162] .\\n\\nEarly on in the MERS story, samples for testing were mostly collected from patients with severe illness and not those with milder acute respiratory tract infections. Contacts of confirmed MERS cases were often observed for clinical illness, but not tested. These omissions may have confounded our understanding of MERS-CoV transmission and biased early data towards higher numbers of seriously ill and hospitalized patients, inflating the apparent proportion of fatal cases. Case-control studies were not a focus. As testing paradigms changed and contacts were increasingly tested, more asymptomatic and mild infections were recognized [163] .\\n\\nA rise in the cases termed asymptomatic (which enlarge the denominator for calculations of the proportion of fatal cases, defined in [164] ) resulted in a drop in the proportion of fatal cases during the Jeddah-2014 outbreak. Historically, such rises are consistent with changing definitions and laboratory responses and clinical management of a newly discovered virus infection that was first noted only among the severely ill. Upon follow-up, over three-quarters of such MERS-CoV RNA positive people did recall having one or more symptoms at the time, despite being reported as asymptomatic [165] raising some question over the reliability of other reported data.\\n\\nThe proportion of fatal MERS cases within the KSA compared to outside the KSA, as well as the age, and sex distribution change in different ways when comparing MERS outbreaks. Approximately 43 % of MERS cases (549 of 1277) in the KSA were fatal betwen 2012 and December 2015 while 21 % (72 of 330) died among those occurring outside of the KSA. The total number of male cases always outnumber females and the proportion of male deaths is always greater than the proportion of females who die. However the proportion of male deaths from total males with MERS is a similar figure to that for females. In the KSA, there is a greater proportion of younger males among cases and deaths than were observed from the 2015 South Korean or the Jeddah-2014 outbreaks (Additional file 2: Figure S2 ). Why these aspects have differed may be due to differences in the time to presentation and diagnosis, the nature and quality of supportive care, the way a person became infected (habits, exposure to a human or zoonotic source, viral load, route of infection) or the extent to which different populations are burdened by underlying diseases [40] .\\n\\nAs a group, HCWs comprised 16 % of MERS cases in the KSA and South Korea. It is apparent that the weekly proportion of infected HCWs increases alongside each steep rise in overall detections (Fig. 5) . In May 2013, the WHO published guidelines for IPC during care of probable or confirmed cases of MERS-CoV infection in a healthcare setting [166] . This is explainable because to date, each case rise has been intimately associated with healthcare-facility related outbreaks [118] . These rises in MERS-CoV detections can decrease the average age during each event because HCWs are usually younger than inpatients with MERS. Healthcare facilities have been a regular target for suggested improvements aimed at improving infection prevention and control (IPC) procedures [115, 118] .\\n\\nMost of the analysis of MERS-CoV genetics has been performed using high throughput or \"deep\" sequencing methods for complete genome deduction [167] [168] [169] . MERS-CoV was the first subject of such widespread use of deep sequencing to study an emerging viral outbreak with global reach. The technique can produce genomic [207] [208] [209] . Earlier and subsequent versions of this chart are maintained on a personal blog [210] length coverage in a single experiment with highly repetitious measurement of each nucleotide position [52, 140] . Despite assays having been published early on, subgenomic sequencing, once the mainstay of viral outbreak studies, has less often been published during MERS-CoV characterization [48] . As more genomes from both humans and DCs have been characterized, two clades have become apparent; A and B (Fig. 6) . Clade A contains only human-derived MERS-CoV genomes from Jordan, while Clade B comprises the majority of human and camel genomes deduced thus far [168] .\\n\\nTwo studies during 2015, one looking at Jeddah-2014 MERS-CoV variants and another looking at a variant exported from South Korea to China, have now identified signs of genetic recombination among MERS-CoV variants. While human and camel whole genome sequences have retained >99 % identity with each other, members of genetically distinct lineages can and do swap genetic material when suitable conditions and coinfections co-occur [170] [171] [172] . Shared identity implies that the major source for human acquisition is the DC, rather than another animal, although more testing of other animal species is needed to confirm that conclusion. Over a month, a DC virus sequenced on different occasions did not change at all indicating a degree of genomic stability in its host, supporting that DCs are the natural, rather than intermediate, host for the MERS-CoV we know today [77] . To date, recombination has been localised to breakpoints near the boundary between ORF1a and ORF1b regions, within the spike gene [170] and in the ORF1b region (Fig. 2) [172] . It is not unexpected that recombination should occur since it is well known among other CoVs [124] and because the majority of MERS-CoV whole genomes collected from samples spanning three years (2012-2015) and from humans, camels and different countries have shown close genetic identity to each other, with just enough subtle variation to support outbreak investigations so long as whole genome sequencing is applied [52, 77, 135, 138, 168, [173] [174] [175] .\\n\\nChanges in genome sequence may herald alterations to virus transmissibility, replication, persistence, lethality or response to future drugs. If we have prior knowledge of the impact of genetic changes because of thorough characterization studies, we can closely Fig. 6 The genetic relationship between MERS-CoV nucleotide sequences (downloaded from GenBank using the listed accession numbers and from virological.org [212] ). This neighbour joining tree was created in MEGA v6 using an alignment of human and DCderived MERS-CoV sequences (Geneious v8.1 [211] ). Clades are indicated next to dark (Clade A) or pale (Clade B) blue vertical bars. Camel icons denote genomes from DCs. Healthcare or community outbreaks are boxed and labelled using previously described schemes [212, 213] monitor the genomic regions and better understand any changes in transmission or disease patterns as they occur. Genetic mutations noted during the largest of human outbreaks, Jeddah-2014, did not impart any major replicative or immunomodulatory changes when compared to earlier viral variants in vitro [156, 176] . However, we understand very little of the phenotypic outcomes that result from subtle genetic change in MERS-CoV genomes. To date no clinical relevance or obvious in vivo changes to viral replication, shedding or transmission has been reported or attributed to mutations or to new recombinant viruses [156] . But vigilance and larger, more contemporary and in vivo studies are needed.\\n\\nGenome sequence located to a distinct clade were identified from an Egyptian DC that was probably imported from Sudan. This does not fit into either of the current clades [125, 168, 177] . A virus sequenced from a Neoromicia capensis bat was more closely related to MERS-CoV than other large bat-derived sequences had been to that point, but the genome of a variant of a MERS-CoV has yet to be discovered and deduced from any bat [125] .\\n\\nAnalyses of MERS-CoV genomes have shown that most single nucleotide differences among variants were located in the last third of the genome (Fig. 2) , which encodes the spike protein and accessory proteins [168] . At least nine MERS-CoV genomes contained amino acid substitutions in the receptor binding domain (RBD) of the spike protein and codons 158 (N-terminal region), 460 (RBD), 1020 (in heptad repeat 1), 1202 and 1208 bear investigation as markers of adaptive change [140, 169] . The spike protein had not changed in the recombinant MERS-CoV genome identified in China in 2015 but was reported to have varied at a higher rate than that for complete MERS-CoV genomes, among South Korean variants [172, 178] . This highlights that subgenomic regions may not always contain enough genetic diversity to prove useful for differentiating viral variants. Despite this, one assay amplifying a 615 nucleotide fragment of the spike S2 domain gene for Sanger sequencing agreed with the results generated by the sequencing of a some full genomes and was useful to define additional sequence groupings [177] .\\n\\nGenomic sequence can also be used to define the geographic boundaries of a cluster or outbreak and monitor its progress, based on the similarity of the variants found among infected humans and animals when occurring together, or between different sites and times (Fig. 6 ) [169] . This approach was employed when defining the geographically constrained MERS hospital outbreak in Al-Ahsa, which occurred between 1 st April and 23 rd May 2013, as well as clusters in Buraidah and a community outbreak in Hafr Al-Batin, the KSA. Genomic sequencing identified that approximately 12 MERS-CoV detections from a community outbreak in Hafr Al-Batin between June and August 2013 may have been triggered by an index case becoming infected through DC contact [175] . Sequencing MERS-CoV genomes from the 2013 Al-Ahsa hospital outbreak indicated that multiple viral variants contributed to the cases but that most were similar enough to each other to be consistent with human-tohuman transmission. Molecular epidemiology has revealed otherwise hidden links in transmission chains encompassing a period of up to five months [179] . However, most outbreaks have not continued for longer than two to three months and so opportunities for the virus to adapt further to humans through co-infection and sustained serial passage have been rare [169] . In Riyadh-2014, genetic evidence supported the likelihood of multiple external introductions of virus, implicating a range of healthcare facilities in an event that otherwise looked contiguous [23, 168, 179] . Riyadh is a nexus for camel and human travel and has had more MERS cases than any other region of the KSA to date but also harbours a wide range of MERS-CoV variants [128, 167, 179] . However the South Korean outbreak originated from a single infected person, resulting in three to four generations of cases [180, 181] . Studies of this apparently recombinant viral variant did not find an increased evolutionary rate and no sign of virus adaptation thus the outbreak seems to have been driven by circumstance rather than circumstance together with mutation [181] .\\n\\nFor many MERS cases detected outside the Arabian Peninsula, extensive contact tracing has been performed and the results described in detail. Contact tracing is essential to contain the emergence and transmission of a new virus and today it is supported by molecular epidemiology. Although it is an expensive and time consuming process, contact tracing can identify potential new infections and through active or passive monitoring, react more rapidly if disease does develop. Results of contact tracing to date have found that onward transmission among humans is an infrequent event. For example, there were 83 contacts, both symptomatic and asymptomatic, of a case treated in Germany who travelled from the UAE but no sign of virus or antibody were found in any of them [73] . The very first MERS case had made contact with 56 HCWs and 48 others, but none developed any indication of infection [162] . In a study of 123 contacts of a case treated in France, only seven matched the definition for a possible case and were tested; one who had shared a 20 m 2 hospital room while in a bed 1.5 m away from the index case for a prolonged period was positive [26] . None of the contacts of the first two MERS cases imported into the USA in 2014 contained any MERS-CoV footprint [182] and none of the 131 contacts of two travellers returning to the Netherlands developed MERS-CoV antibodies or tested RNA positive [25, 183] . Analyses of public data reveal many likely instances of nosocomial acquisition of infection in the Arabian Peninsula and these data may be accompanied by some details noting contact with a known case or facility. One example identified the likely role of a patient with a subclinical infection, present in a hospital during their admission for other reasons, as the likeliest index case triggering a family cluster [93] . Contact tracing was a significant factor in the termination of a 2015 outbreak involving multiple South Korean hospitals [184] . Such studies demonstrate the necessity of finding and understanding a role for mild and asymptomatic cases, together with restricting close contact or prolonged exposure of infected people to others, especially older family members and friends with underlying disease (Fig. 4c) .\\n\\nThe hospital-associated outbreak in Jeddah in 2014 was the largest and most rapid accumulation of MERS-CoV detections to date. The greatest number of MERS-CoV detections of any month on record occurred in Jeddah in April. The outbreak was mostly (>60 % of cases) associated with human-to-human spread within hospital environments and resulted from a lack of, or breakdown in, infection prevention and control [37, 185, 186] . A rise in fatalities followed the rapid increase in case numbers.\\n\\nIn 2015 two large outbreaks occurred. South Korea was the site of the first large scale outbreak outside the Arabian Peninsula and produced the first cases in both South Korea and China, occurring between May and July 2015. This was closely followed by a distinct outbreak in Ar Riyad province in the KSA which appeared to come under control in early November.\\n\\nAfter staying in Bahrain for two weeks, a 68 year old male (68 M) travelled home to South Korea via Qatar, arriving free of symptoms on the 4 th May 2015 [187] . He developed fever, myalgia and a cough nearly a week later (11 th ). He visited a clinic as an outpatient between the 12 th and 15 th of May and was admitted to Hospital A on the 15 th [188] . He was discharged from Hospital A on the 17 th then visited and was admitted to the emergency department of Hospital B on the 18 th . During this second stay, a sputum sample was taken and tested positive for MERS-CoV on the 20 th [187, 188] , triggering transfer to the designated isolation treatment facility. Over a period of 10 days, the index case was seen at three different hospitals, demonstrating a key feature of \"hospital shopping\" that shaped the South Korean outbreak. Approximately 34 people were infected during this time [187] . In total 186 cases were generated in this outbreak, all linked through a single transmission chain to 68 M; 37 cases died [189] . In South Korea, the national health insurance system provides for relatively low cost medical care, defraying some costs by making family members responsible for a portion of the ministration of the sick, resulting in them sometimes staying for long periods in the rooms that often have more than four beds in them [24] . Other factors thought to have enabled this outbreak included unfamiliarity of local clinicians with MERS, ease with which the public can visit and be treated by tertiary hospitals, the custom of visiting sick friends and relatives in hospitals, the hierarchical nature of Korean society, crowded emergency rooms, poor IPC measures, a lack of negative pressure isolation rooms and poor inter-hospital communication of patient disease histories [24, [190] [191] [192] . All of the reported transmission occurred across three or four generations and apart from one unknown source, were all hospital-acquired [24, 120, 181, [193] [194] [195] . Few clinical details about these cases have been reported to date and detail on transmission and contact tracing is minimal. The hospitals involved were initially not identified, governmental guidance and actions produced confusing messages and there was very limited communication at all early on which resulted in unnecessary concern, distrust and a distinct economic impact [191, [196] [197] [198] . Early in the outbreak, a infected traveller, the son of an identified case in South Korea, passed through Hong Kong on his way to China where he was located, isolated and cared for in China [91, 199, 200] . No contacts became ill. The outbreak was brought under control in late July/ early August [201] after improved IPC measures were employed, strong contact tracing monitoring and quarantine, expanded laboratory testing, hospitals were better secured, specialized personnel were dispatched to manage cases and international cooperation increased [202, 203] . A review of public data showed that, as for MERS in the KSA, older age and the presence of underlying disease were significantly associated with a fatal outcome in South Korea. [40] Even though R 0 is <1, super-spreading events facilitated by circumstances created in healthcare settings and characterized by cluster sizes over 150, such as this one, are not unexpected from MERS-CoV infection [204] . The dynamic of an outbreak depends on the R 0 and an individual\\'s viral shedding patterns, contact type and frequency, hospital procedures and population structure and density [204] .\\n\\nIn the region of Ar Riyad, including the capital city of Riyadh, a hospital based cluster began, within a single hospital, from late June 2015 [205] . By mid-September there had been approximately170 cases reported but the outbreak appeared to been brought under control in November.\\n\\nIt became apparent early on that MERS-CoV spread relatively ineffectively from human-to-human. Despite ongoing and possibly seasonal introduction of virus to the human population via infected DCs and perhaps other animals yet to be identified, the vast majority of MERS-CoV transmission has occurred from infected to uninfected humans in close and prolonged contact through circumstances created by poor infection control in health care settings. This opportunistic virus has had its greatest impact on those with underlying diseases and such vulnerable people, sometimes suffering multiple comorbidities, have been most often associated with hospitals, creating a perfect storm of exposure, transmission and mortality. It remains unclear if this group are uniquely affected by MERS-CoV or if other respiratory virus infections, including those from HCoVs, produce a similarly serious impact. In South Korea, a single imported case created an outbreak of 185 cases and 36 deaths that had a disproportionate impact on economic performance, community behaviour and trust in government and the health care system. Household human-to human transmission occurs but is also limited. Educational programs will be essential tools for combatting the spread of MERS-CoV both within urban and regional communities and for the health care setting.\\n\\nVigilance remains important for containment since MERS-CoV is a virus with a genetic makeup that has been observed for only three years and is not stable. Among all humans reported to be infected, nearly 40 % have died. Continued laboratory testing, sequencing, analysis, timely data sharing and clear communication are essential for such vigilance to be effective. Global alignment of case definitions would further aid accurate calculation of a case fatality ratio by including subclinical case numbers. Whole genome sequencing has been used extensively to study MERS-CoV travel and variation and although it remains a tool for experts, it appears to be the best tool for the job.\\n\\nMERS and SARS have some clinical similarities but they also diverge significantly [206] . Defining characteristics include the higher PFC among MERS cases (above 50 % in 2013 and currently at 30-40 %; well above the 9 % of SARS) and the higher association between fatal MERS and older males with underlying comorbidities. For the viruses, MERS-CoV has a broader tropism, grows more rapidly in vitro, more rapidly induces cytopathogenic change, triggers distinct transcriptional responses, makes use of a different receptor, induces a more proinflammatory state and has a delayed innate antiviral response compared to SARS-CoV.\\n\\nThere appears to be a 2-3 % prevalence of MERS-CoV in the KSA with a 5 % chance of secondary transmission within the household. There is an increased risk of infection through certain occupations at certain times and a much greater chance for spread to other humans during circumstances created by humans, which drives more effective transmission than any R 0 would predict on face value. Nonetheless, despite multiple mass gatherings that have afforded the virus many millions of opportunities to spread, there have remarkably been no reported outbreaks of MERS or MERS-CoV during or immediately after these events. There is no evidence that MERS-CoV is a virus of pandemic concern. Nonetheless, hospital settings continue to describe MERS cases and outbreaks in the Arabian Peninsula. As long as we facilitate the spread of MERS-CoV among our most vulnerable populations, the world must remain on alert for cases which may be exported more frequently when a host country with infected camel reservoirs is experiencing human clusters or outbreaks.\\n\\nThe MERS-CoV appears to be an enzootic virus infecting the DC URT with evidence of recent genetic recombination. It may once have had its origins among bats, but evidence is lacking and the relevance of that to today\\'s ongoing epidemic is academic. Thanks to quick action, the sensitive and rapid molecular diagnostic tools required to achieve rapid and sensitive detection goal have been in place and made widely available since the virus was reported in 2012. RT-PCR testing of LRT samples remains the gold standard for MERS-CoV confirmation. Serological tools continue to emerge but they are in need of further validation using samples from mild and asymptomatic infections and a densely sampled cohort study to follow contacts of new cases may address this need. Similarly, the important question of whether those who do shed MERS-CoV RNA for extended periods are infectious while appearing well, continues to go unanswered. It is even unclear just how many \\'asymptomatic\\' infections have been described and reported correctly which in turn raises questions about the reliability of other clinical data collection to date. While the basic virology of MERS-CoV has advanced over the course of the past three years, understanding what is happening in, and the interplay between, camel, environment and human is still in its infancy.\\n\\nAdditional file 1: Figure S1 . The',\n",
              " 'question': 'What does Clade A contain?',\n",
              " 'is_impossible': False,\n",
              " 'id': 4372,\n",
              " 'answers': {'text': ['only human-derived MERS-CoV genomes'],\n",
              "  'answer_start': [52035]}}"
            ]
          },
          "metadata": {},
          "execution_count": 46
        }
      ],
      "source": [
        "ds[\"test\"][24]"
      ]
    },
    {
      "cell_type": "code",
      "source": [
        "fine_tuned_model_checkpoint"
      ],
      "metadata": {
        "colab": {
          "base_uri": "https://localhost:8080/",
          "height": 36
        },
        "id": "Nhu5Nud7MsK9",
        "outputId": "e0adca23-450d-4ad2-81f6-5786ef4df8b3"
      },
      "execution_count": 40,
      "outputs": [
        {
          "output_type": "display_data",
          "data": {
            "text/plain": [
              "<IPython.core.display.HTML object>"
            ],
            "text/html": [
              "\n",
              "  <style>\n",
              "    pre {\n",
              "        white-space: pre-wrap;\n",
              "    }\n",
              "  </style>\n",
              "  "
            ]
          },
          "metadata": {}
        },
        {
          "output_type": "execute_result",
          "data": {
            "text/plain": [
              "'distilbert-base-uncased-fine_tuned-covid_qa_deepset'"
            ],
            "application/vnd.google.colaboratory.intrinsic+json": {
              "type": "string"
            }
          },
          "metadata": {},
          "execution_count": 40
        }
      ]
    },
    {
      "cell_type": "code",
      "execution_count": 45,
      "metadata": {
        "colab": {
          "base_uri": "https://localhost:8080/",
          "height": 104
        },
        "id": "pbrJoPcrw9Gj",
        "outputId": "39a5c247-60e3-4042-91e2-882798f752f3"
      },
      "outputs": [
        {
          "output_type": "display_data",
          "data": {
            "text/plain": [
              "<IPython.core.display.HTML object>"
            ],
            "text/html": [
              "\n",
              "  <style>\n",
              "    pre {\n",
              "        white-space: pre-wrap;\n",
              "    }\n",
              "  </style>\n",
              "  "
            ]
          },
          "metadata": {}
        },
        {
          "output_type": "stream",
          "name": "stdout",
          "text": [
            "output answer matches expected answer:  False\n"
          ]
        },
        {
          "output_type": "execute_result",
          "data": {
            "text/plain": [
              "{'score': 0.07641510665416718,\n",
              " 'start': 52035,\n",
              " 'end': 52082,\n",
              " 'answer': 'only human-derived MERS-CoV genomes from Jordan'}"
            ]
          },
          "metadata": {},
          "execution_count": 45
        }
      ],
      "source": [
        "example = ds[\"test\"][24]\n",
        "qa_pipeline = pipeline(\n",
        "    \"question-answering\",\n",
        "    model=fine_tuned_model_checkpoint,\n",
        "    tokenizer=fine_tuned_model_checkpoint\n",
        ")\n",
        "\n",
        "output = qa_pipeline({\n",
        "    \"question\": example[\"question\"],\n",
        "    \"context\": example[\"context\"]\n",
        "})\n",
        "answer_text = example[\"answers\"][\"text\"][0]\n",
        "print(\"output answer matches expected answer: \", output[\"answer\"] == answer_text)\n",
        "output"
      ]
    },
    {
      "cell_type": "markdown",
      "metadata": {
        "id": "wBVccgu6N9Z4"
      },
      "source": [
        "# Not Required"
      ]
    },
    {
      "cell_type": "code",
      "execution_count": null,
      "metadata": {
        "id": "hqLcraCPulDv"
      },
      "outputs": [],
      "source": [
        "n_best_size = 20"
      ]
    },
    {
      "cell_type": "code",
      "execution_count": null,
      "metadata": {
        "id": "4fJ1cNxnu6Zs"
      },
      "outputs": [],
      "source": [
        "import numpy as np\n",
        "\n",
        "start_logits = output.start_logits[0].cpu().numpy()\n",
        "end_logits = output.end_logits[0].cpu().numpy()\n",
        "# Gather the indices the best start/end logits:\n",
        "start_indexes = np.argsort(start_logits)[-1 : -n_best_size - 1 : -1].tolist()\n",
        "end_indexes = np.argsort(end_logits)[-1 : -n_best_size - 1 : -1].tolist()\n",
        "valid_answers = []\n",
        "for start_index in start_indexes:\n",
        "    for end_index in end_indexes:\n",
        "        if start_index <= end_index: # We need to refine that test to check the answer is inside the context\n",
        "            valid_answers.append(\n",
        "                {\n",
        "                    \"score\": start_logits[start_index] + end_logits[end_index],\n",
        "                    \"text\": \"\" # We need to find a way to get back the original substring corresponding to the answer in the context\n",
        "                }\n",
        "            )"
      ]
    },
    {
      "cell_type": "code",
      "execution_count": null,
      "metadata": {
        "colab": {
          "base_uri": "https://localhost:8080/"
        },
        "id": "xFC1oMa3u9Ry",
        "outputId": "7e1cbe82-ca80-4181-c919-6dae14e377a0"
      },
      "outputs": [
        {
          "data": {
            "text/plain": [
              "[{'score': 11.136719, 'text': ''},\n",
              " {'score': 7.6171875, 'text': ''},\n",
              " {'score': 7.4121094, 'text': ''},\n",
              " {'score': 7.303711, 'text': ''},\n",
              " {'score': 6.7753906, 'text': ''},\n",
              " {'score': 6.723633, 'text': ''},\n",
              " {'score': 6.5117188, 'text': ''},\n",
              " {'score': 6.3847656, 'text': ''},\n",
              " {'score': 6.2978516, 'text': ''},\n",
              " {'score': 6.114258, 'text': ''},\n",
              " {'score': 6.1035156, 'text': ''},\n",
              " {'score': 6.073242, 'text': ''},\n",
              " {'score': 5.9692383, 'text': ''},\n",
              " {'score': 5.760742, 'text': ''},\n",
              " {'score': 5.751709, 'text': ''},\n",
              " {'score': 5.6032104, 'text': ''},\n",
              " {'score': 5.5924683, 'text': ''},\n",
              " {'score': 5.5838013, 'text': ''},\n",
              " {'score': 5.514618, 'text': ''},\n",
              " {'score': 5.503296, 'text': ''},\n",
              " {'score': 4.9492188, 'text': ''},\n",
              " {'score': 4.7441406, 'text': ''},\n",
              " {'score': 4.635742, 'text': ''},\n",
              " {'score': 4.107422, 'text': ''},\n",
              " {'score': 4.055664, 'text': ''},\n",
              " {'score': 3.84375, 'text': ''},\n",
              " {'score': 3.7167969, 'text': ''},\n",
              " {'score': 3.6298828, 'text': ''},\n",
              " {'score': 3.446289, 'text': ''},\n",
              " {'score': 3.4355469, 'text': ''},\n",
              " {'score': 3.4052734, 'text': ''},\n",
              " {'score': 3.3012695, 'text': ''},\n",
              " {'score': 3.0927734, 'text': ''},\n",
              " {'score': 3.0837402, 'text': ''},\n",
              " {'score': 2.9352417, 'text': ''},\n",
              " {'score': 2.9244995, 'text': ''},\n",
              " {'score': 2.9158325, 'text': ''},\n",
              " {'score': 2.8466492, 'text': ''},\n",
              " {'score': 2.8353271, 'text': ''},\n",
              " {'score': 3.4609375, 'text': ''},\n",
              " {'score': 2.9326172, 'text': ''},\n",
              " {'score': 2.2714844, 'text': ''},\n",
              " {'score': 2.2607422, 'text': ''},\n",
              " {'score': 2.2304688, 'text': ''},\n",
              " {'score': 1.9089355, 'text': ''},\n",
              " {'score': 3.6894531, 'text': ''},\n",
              " {'score': 3.3759766, 'text': ''},\n",
              " {'score': 2.8476562, 'text': ''},\n",
              " {'score': 2.1865234, 'text': ''},\n",
              " {'score': 2.1757812, 'text': ''},\n",
              " {'score': 2.1455078, 'text': ''},\n",
              " {'score': 1.8239746, 'text': ''},\n",
              " {'score': 1.6647339, 'text': ''},\n",
              " {'score': 1.5868835, 'text': ''},\n",
              " {'score': 3.3769531, 'text': ''},\n",
              " {'score': 3.0634766, 'text': ''},\n",
              " {'score': 2.5351562, 'text': ''},\n",
              " {'score': 2.4833984, 'text': ''},\n",
              " {'score': 2.0576172, 'text': ''},\n",
              " {'score': 1.8740234, 'text': ''},\n",
              " {'score': 1.8632812, 'text': ''},\n",
              " {'score': 1.8330078, 'text': ''},\n",
              " {'score': 1.5114746, 'text': ''},\n",
              " {'score': 1.3522339, 'text': ''},\n",
              " {'score': 1.2743835, 'text': ''},\n",
              " {'score': 1.2630615, 'text': ''},\n",
              " {'score': 2.4482422, 'text': ''},\n",
              " {'score': 1.7871094, 'text': ''},\n",
              " {'score': 2.630371, 'text': ''},\n",
              " {'score': 2.1020508, 'text': ''},\n",
              " {'score': 1.440918, 'text': ''},\n",
              " {'score': 1.4301758, 'text': ''},\n",
              " {'score': 1.3999023, 'text': ''},\n",
              " {'score': 1.0783691, 'text': ''},\n",
              " {'score': 0.8412781, 'text': ''},\n",
              " {'score': 2.900879, 'text': ''},\n",
              " {'score': 2.5874023, 'text': ''},\n",
              " {'score': 2.059082, 'text': ''},\n",
              " {'score': 1.581543, 'text': ''},\n",
              " {'score': 1.3979492, 'text': ''},\n",
              " {'score': 1.387207, 'text': ''},\n",
              " {'score': 1.3569336, 'text': ''},\n",
              " {'score': 1.0354004, 'text': ''},\n",
              " {'score': 0.87615967, 'text': ''},\n",
              " {'score': 0.7983093, 'text': ''},\n",
              " {'score': 2.7143555, 'text': ''},\n",
              " {'score': 2.400879, 'text': ''},\n",
              " {'score': 1.8725586, 'text': ''},\n",
              " {'score': 1.2114258, 'text': ''},\n",
              " {'score': 1.2006836, 'text': ''},\n",
              " {'score': 1.1704102, 'text': ''},\n",
              " {'score': 0.84887695, 'text': ''},\n",
              " {'score': 0.68963623, 'text': ''},\n",
              " {'score': 0.6117859, 'text': ''},\n",
              " {'score': 2.3286133, 'text': ''},\n",
              " {'score': 1.800293, 'text': ''},\n",
              " {'score': 1.1391602, 'text': ''},\n",
              " {'score': 1.128418, 'text': ''},\n",
              " {'score': 1.0981445, 'text': ''},\n",
              " {'score': 0.7766113, 'text': ''},\n",
              " {'score': 2.1032715, 'text': ''},\n",
              " {'score': 1.5749512, 'text': ''},\n",
              " {'score': 0.91381836, 'text': ''},\n",
              " {'score': 0.9030762, 'text': ''},\n",
              " {'score': 0.87280273, 'text': ''},\n",
              " {'score': 0.55126953, 'text': ''},\n",
              " {'score': 0.31417847, 'text': ''},\n",
              " {'score': 1.2342224, 'text': ''},\n",
              " {'score': 0.5730896, 'text': ''},\n",
              " {'score': 1.762085, 'text': ''},\n",
              " {'score': 1.2337646, 'text': ''},\n",
              " {'score': 0.57263184, 'text': ''},\n",
              " {'score': 0.56188965, 'text': ''},\n",
              " {'score': 0.5316162, 'text': ''},\n",
              " {'score': 0.21008301, 'text': ''},\n",
              " {'score': -0.027008057, 'text': ''},\n",
              " {'score': 1.9296875, 'text': ''},\n",
              " {'score': 1.6162109, 'text': ''},\n",
              " {'score': 1.0878906, 'text': ''},\n",
              " {'score': 0.4267578, 'text': ''},\n",
              " {'score': 0.41601562, 'text': ''},\n",
              " {'score': 0.3857422, 'text': ''},\n",
              " {'score': 0.064208984, 'text': ''},\n",
              " {'score': -0.17288208, 'text': ''},\n",
              " {'score': 1.7141113, 'text': ''},\n",
              " {'score': 1.5090332, 'text': ''},\n",
              " {'score': 1.4006348, 'text': ''},\n",
              " {'score': 0.87231445, 'text': ''},\n",
              " {'score': 0.82055664, 'text': ''},\n",
              " {'score': 0.3947754, 'text': ''},\n",
              " {'score': 0.21118164, 'text': ''},\n",
              " {'score': 0.20043945, 'text': ''},\n",
              " {'score': 0.17016602, 'text': ''},\n",
              " {'score': -0.15136719, 'text': ''},\n",
              " {'score': -0.3106079, 'text': ''},\n",
              " {'score': -0.38845825, 'text': ''},\n",
              " {'score': -0.39978027, 'text': ''},\n",
              " {'score': 1.425293, 'text': ''},\n",
              " {'score': 1.1118164, 'text': ''},\n",
              " {'score': 0.5834961, 'text': ''},\n",
              " {'score': 0.5317383, 'text': ''},\n",
              " {'score': 0.10595703, 'text': ''},\n",
              " {'score': -0.07763672, 'text': ''},\n",
              " {'score': -0.088378906, 'text': ''},\n",
              " {'score': -0.118652344, 'text': ''},\n",
              " {'score': -0.44018555, 'text': ''},\n",
              " {'score': -0.59942627, 'text': ''},\n",
              " {'score': -0.6772766, 'text': ''},\n",
              " {'score': 1.4072266, 'text': ''},\n",
              " {'score': 1.2021484, 'text': ''},\n",
              " {'score': 1.09375, 'text': ''},\n",
              " {'score': 0.5654297, 'text': ''},\n",
              " {'score': 0.5136719, 'text': ''},\n",
              " {'score': 0.3017578, 'text': ''},\n",
              " {'score': 0.17480469, 'text': ''},\n",
              " {'score': 0.087890625, 'text': ''},\n",
              " {'score': -0.095703125, 'text': ''},\n",
              " {'score': -0.10644531, 'text': ''},\n",
              " {'score': -0.13671875, 'text': ''},\n",
              " {'score': -0.24072266, 'text': ''},\n",
              " {'score': -0.44921875, 'text': ''},\n",
              " {'score': -0.45825195, 'text': ''},\n",
              " {'score': -0.6067505, 'text': ''},\n",
              " {'score': -0.6174927, 'text': ''},\n",
              " {'score': -0.62615967, 'text': ''},\n",
              " {'score': -0.695343, 'text': ''},\n",
              " {'score': -0.70666504, 'text': ''},\n",
              " {'score': 1.3144531, 'text': ''},\n",
              " {'score': 1.0009766, 'text': ''},\n",
              " {'score': 0.47265625, 'text': ''},\n",
              " {'score': -0.18847656, 'text': ''},\n",
              " {'score': -0.19921875, 'text': ''},\n",
              " {'score': -0.22949219, 'text': ''},\n",
              " {'score': -0.5510254, 'text': ''},\n",
              " {'score': -0.78811646, 'text': ''},\n",
              " {'score': 0.4165039, 'text': ''},\n",
              " {'score': -0.2446289, 'text': ''},\n",
              " {'score': 1.1738281, 'text': ''},\n",
              " {'score': 0.86035156, 'text': ''},\n",
              " {'score': 0.33203125, 'text': ''},\n",
              " {'score': -0.32910156, 'text': ''},\n",
              " {'score': -0.33984375, 'text': ''},\n",
              " {'score': -0.3701172, 'text': ''},\n",
              " {'score': -0.6916504, 'text': ''},\n",
              " {'score': -0.8508911, 'text': ''},\n",
              " {'score': -0.92874146, 'text': ''}]"
            ]
          },
          "execution_count": 50,
          "metadata": {},
          "output_type": "execute_result"
        }
      ],
      "source": [
        "valid_answers"
      ]
    },
    {
      "cell_type": "code",
      "execution_count": null,
      "metadata": {
        "id": "hOuiSptt0Qsp"
      },
      "outputs": [],
      "source": [
        "def prepare_validation_features(examples):\n",
        "    # Some of the questions have lots of whitespace on the left, which is not useful and will make the\n",
        "    # truncation of the context fail (the tokenized question will take a lots of space). So we remove that\n",
        "    # left whitespace\n",
        "    examples[\"question\"] = [q.lstrip() for q in examples[\"question\"]]\n",
        "\n",
        "    # Tokenize our examples with truncation and maybe padding, but keep the overflows using a stride. This results\n",
        "    # in one example possible giving several features when a context is long, each of those features having a\n",
        "    # context that overlaps a bit the context of the previous feature.\n",
        "    tokenized_examples = tokenizer(\n",
        "        examples[\"question\" if pad_on_right else \"context\"],\n",
        "        examples[\"context\" if pad_on_right else \"question\"],\n",
        "        truncation=\"only_second\" if pad_on_right else \"only_first\",\n",
        "        max_length=max_length,\n",
        "        stride=doc_stride,\n",
        "        return_overflowing_tokens=True,\n",
        "        return_offsets_mapping=True,\n",
        "        padding=\"max_length\",\n",
        "    )\n",
        "\n",
        "    # Since one example might give us several features if it has a long context, we need a map from a feature to\n",
        "    # its corresponding example. This key gives us just that.\n",
        "    sample_mapping = tokenized_examples.pop(\"overflow_to_sample_mapping\")\n",
        "\n",
        "    # We keep the example_id that gave us this feature and we will store the offset mappings.\n",
        "    tokenized_examples[\"example_id\"] = []\n",
        "\n",
        "    for i in range(len(tokenized_examples[\"input_ids\"])):\n",
        "        # Grab the sequence corresponding to that example (to know what is the context and what is the question).\n",
        "        sequence_ids = tokenized_examples.sequence_ids(i)\n",
        "        context_index = 1 if pad_on_right else 0\n",
        "\n",
        "        # One example can give several spans, this is the index of the example containing this span of text.\n",
        "        sample_index = sample_mapping[i]\n",
        "        tokenized_examples[\"example_id\"].append(examples[\"id\"][sample_index])\n",
        "\n",
        "        # Set to None the offset_mapping that are not part of the context so it's easy to determine if a token\n",
        "        # position is part of the context or not.\n",
        "        tokenized_examples[\"offset_mapping\"][i] = [\n",
        "            (o if sequence_ids[k] == context_index else None)\n",
        "            for k, o in enumerate(tokenized_examples[\"offset_mapping\"][i])\n",
        "        ]\n",
        "\n",
        "    return tokenized_examples"
      ]
    },
    {
      "cell_type": "code",
      "execution_count": null,
      "metadata": {
        "colab": {
          "base_uri": "https://localhost:8080/",
          "height": 66,
          "referenced_widgets": [
            "b29401c6535f4c1499a7e9c5d501c4a1"
          ]
        },
        "id": "_0yz18B59VEw",
        "outputId": "495acea9-290c-4f97-863d-4c9342251904"
      },
      "outputs": [
        {
          "name": "stdout",
          "output_type": "stream",
          "text": [
            "Post-processing 255 example predictions split into 412 features.\n"
          ]
        },
        {
          "data": {
            "application/vnd.jupyter.widget-view+json": {
              "model_id": "b29401c6535f4c1499a7e9c5d501c4a1",
              "version_major": 2,
              "version_minor": 0
            },
            "text/plain": [
              "  0%|          | 0/255 [00:00<?, ?it/s]"
            ]
          },
          "metadata": {},
          "output_type": "display_data"
        }
      ],
      "source": [
        "final_predictions = postprocess_qa_predictions(ds[\"validation\"], validation_features, raw_predictions.predictions)"
      ]
    },
    {
      "cell_type": "code",
      "execution_count": null,
      "metadata": {
        "colab": {
          "base_uri": "https://localhost:8080/",
          "height": 49,
          "referenced_widgets": [
            "4e60f7e2fad94983ac00ba58e52273c1"
          ]
        },
        "id": "-V3b82yT2Q6_",
        "outputId": "10838871-d793-4d0b-cc67-fa856b3c1b00"
      },
      "outputs": [
        {
          "data": {
            "application/vnd.jupyter.widget-view+json": {
              "model_id": "4e60f7e2fad94983ac00ba58e52273c1",
              "version_major": 2,
              "version_minor": 0
            },
            "text/plain": [
              "Map:   0%|          | 0/255 [00:00<?, ? examples/s]"
            ]
          },
          "metadata": {},
          "output_type": "display_data"
        }
      ],
      "source": [
        "validation_features = ds[\"validation\"].map(\n",
        "    prepare_validation_features,\n",
        "    batched=True,\n",
        "    remove_columns=ds[\"validation\"].column_names\n",
        ")"
      ]
    },
    {
      "cell_type": "code",
      "execution_count": null,
      "metadata": {
        "colab": {
          "base_uri": "https://localhost:8080/",
          "height": 468
        },
        "id": "YyQXdoFq3GFj",
        "outputId": "df6cea92-d277-4ac0-a31c-0f2a02c2c770"
      },
      "outputs": [
        {
          "data": {
            "text/html": [],
            "text/plain": [
              "<IPython.core.display.HTML object>"
            ]
          },
          "metadata": {},
          "output_type": "display_data"
        },
        {
          "data": {
            "text/plain": [
              "(array([[ 4.8945312, -3.2148438, -3.8222656, ..., -4.6171875, -4.3515625,\n",
              "         -2.3964844],\n",
              "        [ 5.4765625, -2.9921875, -3.7363281, ..., -4.8320312, -4.7265625,\n",
              "         -4.7304688],\n",
              "        [ 4.9648438, -1.4609375, -2.6386719, ..., -3.9648438, -3.9746094,\n",
              "         -3.8476562],\n",
              "        ...,\n",
              "        [ 5.4375   , -3.5566406, -3.9160156, ..., -4.390625 , -4.7070312,\n",
              "         -2.4980469],\n",
              "        [ 5.5664062, -3.3300781, -3.7988281, ..., -4.8046875, -4.71875  ,\n",
              "         -4.71875  ],\n",
              "        [ 5.5625   , -2.8359375, -3.6894531, ..., -4.6210938, -4.5703125,\n",
              "         -4.5195312]], dtype=float32),\n",
              " array([[ 4.3515625, -4.3710938, -4.6484375, ..., -3.7128906, -2.5117188,\n",
              "         -2.3339844],\n",
              "        [ 5.1992188, -4.40625  , -4.671875 , ..., -5.2070312, -5.234375 ,\n",
              "         -5.3242188],\n",
              "        [ 4.7695312, -2.3847656, -3.6796875, ..., -3.8144531, -4.3984375,\n",
              "         -4.1523438],\n",
              "        ...,\n",
              "        [ 5.546875 , -4.5507812, -4.6875   , ..., -3.2226562, -4.546875 ,\n",
              "         -2.3828125],\n",
              "        [ 5.296875 , -4.3945312, -4.6445312, ..., -5.4648438, -5.546875 ,\n",
              "         -5.5898438],\n",
              "        [ 4.5898438, -3.6152344, -4.171875 , ..., -5.6328125, -5.5195312,\n",
              "         -5.4570312]], dtype=float32))"
            ]
          },
          "execution_count": 44,
          "metadata": {},
          "output_type": "execute_result"
        }
      ],
      "source": [
        "raw_predictions = trainer.predict(validation_features)\n",
        "raw_predictions.predictions\n"
      ]
    },
    {
      "cell_type": "code",
      "execution_count": null,
      "metadata": {
        "id": "M7PEOKql4Ka-"
      },
      "outputs": [],
      "source": [
        "def postprocess_qa_predictions(\n",
        "    examples,\n",
        "    features,\n",
        "    raw_predictions,\n",
        "    n_best_size = 20,\n",
        "    max_answer_length = 30,\n",
        "    no_answer = False\n",
        "):\n",
        "    print(f\"Post-processing {len(examples)} example predictions split into {len(features)} features.\")\n",
        "\n",
        "    all_start_logits, all_end_logits = raw_predictions\n",
        "\n",
        "    # build a dictionary that stores examples to features/chunks mapping\n",
        "    # key : example, value : list of features\n",
        "    example_id_to_index = {k: i for i, k in enumerate(examples[\"id\"])}\n",
        "    features_per_example = collections.defaultdict(list)\n",
        "    for i, feature in enumerate(features):\n",
        "        features_per_example[example_id_to_index[feature[\"example_id\"]]].append(i)\n",
        "\n",
        "    cls_index = 0\n",
        "    predictions = collections.OrderedDict()\n",
        "\n",
        "    # for each example, loop through all its features/chunks for finding the best one\n",
        "    for example_index, example in enumerate(tqdm(examples)):\n",
        "        feature_indices = features_per_example[example_index]\n",
        "\n",
        "        min_null_score = None\n",
        "        valid_answers = []\n",
        "        context = example[\"context\"]\n",
        "        for feature_index in feature_indices:\n",
        "            # model prediction for this feature\n",
        "            start_logits = all_start_logits[feature_index]\n",
        "            end_logits = all_end_logits[feature_index]\n",
        "\n",
        "            offset_mapping = features[feature_index][\"offset_mapping\"]\n",
        "\n",
        "            # update minimum null prediction's score\n",
        "            feature_null_score = start_logits[cls_index] + end_logits[cls_index]\n",
        "            if min_null_score is None or min_null_score < feature_null_score:\n",
        "                min_null_score = feature_null_score\n",
        "\n",
        "            # loop through all possibilities for `n_best_size` start and end logits.\n",
        "            start_indexes = np.argsort(start_logits)[-1:-n_best_size - 1:-1].tolist()\n",
        "            end_indexes = np.argsort(end_logits)[-1:-n_best_size - 1:-1].tolist()\n",
        "            for start_index in start_indexes:\n",
        "                for end_index in end_indexes:\n",
        "                    # Don't consider out-of-scope answers, either because indices\n",
        "                    # are out of bounds or correspond to input_ids that\n",
        "                    # are not part of the context section.\n",
        "                    if (\n",
        "                        start_index >= len(offset_mapping)\n",
        "                        or end_index >= len(offset_mapping)\n",
        "                        or offset_mapping[start_index] is None\n",
        "                        or len(offset_mapping[start_index]) < 2\n",
        "                        or offset_mapping[end_index] is None\n",
        "                        or len(offset_mapping[end_index]) < 2\n",
        "                    ):\n",
        "                        continue\n",
        "                    # Don't consider answers with a length that is either < 0 or > max_answer_length.\n",
        "                    if end_index < start_index or end_index - start_index + 1 > max_answer_length:\n",
        "                        continue\n",
        "\n",
        "                    start_char = offset_mapping[start_index][0]\n",
        "                    end_char = offset_mapping[end_index][1]\n",
        "                    valid_answers.append(\n",
        "                        {\n",
        "                            \"text\": context[start_char:end_char],\n",
        "                            \"score\": start_logits[start_index] + end_logits[end_index]\n",
        "                        }\n",
        "                    )\n",
        "\n",
        "        if len(valid_answers) > 0:\n",
        "            best_answer = max(valid_answers, key=lambda x: x[\"score\"])\n",
        "        else:\n",
        "            # In the very rare edge case we have not a single non-null prediction,\n",
        "            # we create a fake prediction to avoid failure.\n",
        "            best_answer = {\"text\": \"\", \"score\": 0.0}\n",
        "\n",
        "        example_id = example[\"id\"]\n",
        "        if no_answer:\n",
        "            answer = best_answer[\"text\"] if best_answer[\"score\"] > min_null_score else \"\"\n",
        "            predictions[example_id] = answer\n",
        "        else:\n",
        "            predictions[example_id] = best_answer[\"text\"]\n",
        "\n",
        "    return predictions"
      ]
    },
    {
      "cell_type": "code",
      "execution_count": null,
      "metadata": {
        "colab": {
          "base_uri": "https://localhost:8080/",
          "height": 84,
          "referenced_widgets": [
            "c61ee9df00364ea791698addc0ed8d16"
          ]
        },
        "id": "X_pMcbXA4l8u",
        "outputId": "5c65b6aa-d439-4d91-c405-83cf76a50fc5"
      },
      "outputs": [
        {
          "name": "stdout",
          "output_type": "stream",
          "text": [
            "Post-processing 255 example predictions split into 412 features.\n"
          ]
        },
        {
          "data": {
            "application/vnd.jupyter.widget-view+json": {
              "model_id": "c61ee9df00364ea791698addc0ed8d16",
              "version_major": 2,
              "version_minor": 0
            },
            "text/plain": [
              "  0%|          | 0/255 [00:00<?, ?it/s]"
            ]
          },
          "metadata": {},
          "output_type": "display_data"
        },
        {
          "name": "stdout",
          "output_type": "stream",
          "text": [
            "output answer matches expected answer:  True\n"
          ]
        }
      ],
      "source": [
        "final_predictions = postprocess_qa_predictions(\n",
        "    ds[\"validation\"],\n",
        "    validation_features,\n",
        "    raw_predictions.predictions\n",
        ")\n",
        "print(\"output answer matches expected answer: \", final_predictions[example[\"id\"]] == answer_text)"
      ]
    },
    {
      "cell_type": "code",
      "execution_count": null,
      "metadata": {
        "id": "UQdW1QwS5HId"
      },
      "outputs": [],
      "source": [
        "if squad_v2:\n",
        "    formatted_predictions = [{\"id\": k, \"prediction_text\": v, \"no_answer_probability\": 0.0} for k, v in final_predictions.items()]\n",
        "else:\n",
        "    formatted_predictions = [{\"id\": k, \"prediction_text\": v} for k, v in final_predictions.items()]\n",
        "references = [{\"id\": ex[\"id\"], \"answers\": ex[\"answers\"]} for ex in datasets[\"validation\"]]\n",
        "metric.compute(predictions=formatted_predictions, references=references)"
      ]
    },
    {
      "cell_type": "code",
      "execution_count": null,
      "metadata": {
        "colab": {
          "base_uri": "https://localhost:8080/"
        },
        "id": "KRv_leLG4lxB",
        "outputId": "dfb1fa48-f411-4aaf-d8f9-4b01a508c9a3"
      },
      "outputs": [
        {
          "data": {
            "text/plain": [
              "EvaluationModule(name: \"squad\", module_type: \"metric\", features: {'predictions': {'id': Value(dtype='string', id=None), 'prediction_text': Value(dtype='string', id=None)}, 'references': {'id': Value(dtype='string', id=None), 'answers': Sequence(feature={'text': Value(dtype='string', id=None), 'answer_start': Value(dtype='int32', id=None)}, length=-1, id=None)}}, usage: \"\"\"\n",
              "Computes SQuAD scores (F1 and EM).\n",
              "Args:\n",
              "    predictions: List of question-answers dictionaries with the following key-values:\n",
              "        - 'id': id of the question-answer pair as given in the references (see below)\n",
              "        - 'prediction_text': the text of the answer\n",
              "    references: List of question-answers dictionaries with the following key-values:\n",
              "        - 'id': id of the question-answer pair (see above),\n",
              "        - 'answers': a Dict in the SQuAD dataset format\n",
              "            {\n",
              "                'text': list of possible texts for the answer, as a list of strings\n",
              "                'answer_start': list of start positions for the answer, as a list of ints\n",
              "            }\n",
              "            Note that answer_start values are not taken into account to compute the metric.\n",
              "Returns:\n",
              "    'exact_match': Exact match (the normalized answer exactly match the gold answer)\n",
              "    'f1': The F-score of predicted tokens versus the gold answer\n",
              "Examples:\n",
              "\n",
              "    >>> predictions = [{'prediction_text': '1976', 'id': '56e10a3be3433e1400422b22'}]\n",
              "    >>> references = [{'answers': {'answer_start': [97], 'text': ['1976']}, 'id': '56e10a3be3433e1400422b22'}]\n",
              "    >>> squad_metric = evaluate.load(\"squad\")\n",
              "    >>> results = squad_metric.compute(predictions=predictions, references=references)\n",
              "    >>> print(results)\n",
              "    {'exact_match': 100.0, 'f1': 100.0}\n",
              "\"\"\", stored examples: 0)"
            ]
          },
          "execution_count": 41,
          "metadata": {},
          "output_type": "execute_result"
        }
      ],
      "source": [
        "squad_metric = evaluate.load('squad', cache_dir=cache_dir)\n",
        "squad_metric\n",
        "\n",
        "formatted_predictions = [\n",
        "    {\"id\": example_id, \"prediction_text\": answer}\n",
        "    for example_id, answer in final_predictions.items()\n",
        "]\n",
        "references = [{\"id\": example[\"id\"], \"answers\": example[\"answers\"]} for example in ds[\"validation\"]]\n",
        "squad_metric.compute(predictions=formatted_predictions, references=references)"
      ]
    }
  ],
  "metadata": {
    "accelerator": "GPU",
    "colab": {
      "collapsed_sections": [
        "wBVccgu6N9Z4"
      ],
      "gpuType": "V100",
      "provenance": [],
      "machine_shape": "hm"
    },
    "kernelspec": {
      "display_name": "Python 3",
      "name": "python3"
    },
    "language_info": {
      "name": "python"
    },
    "widgets": {
      "application/vnd.jupyter.widget-state+json": {
        "e1d0971508eb48b986a5cc715e242b1d": {
          "model_module": "@jupyter-widgets/controls",
          "model_name": "HBoxModel",
          "model_module_version": "1.5.0",
          "state": {
            "_dom_classes": [],
            "_model_module": "@jupyter-widgets/controls",
            "_model_module_version": "1.5.0",
            "_model_name": "HBoxModel",
            "_view_count": null,
            "_view_module": "@jupyter-widgets/controls",
            "_view_module_version": "1.5.0",
            "_view_name": "HBoxView",
            "box_style": "",
            "children": [
              "IPY_MODEL_5f6708bc4b8a448e8fcd844846dc0d40",
              "IPY_MODEL_816781ecf2234261bd645a0d34e4523e",
              "IPY_MODEL_38a0039301cf4920a23f6d31f72a4abf"
            ],
            "layout": "IPY_MODEL_515454e034a748808be852c31e4a8a66"
          }
        },
        "5f6708bc4b8a448e8fcd844846dc0d40": {
          "model_module": "@jupyter-widgets/controls",
          "model_name": "HTMLModel",
          "model_module_version": "1.5.0",
          "state": {
            "_dom_classes": [],
            "_model_module": "@jupyter-widgets/controls",
            "_model_module_version": "1.5.0",
            "_model_name": "HTMLModel",
            "_view_count": null,
            "_view_module": "@jupyter-widgets/controls",
            "_view_module_version": "1.5.0",
            "_view_name": "HTMLView",
            "description": "",
            "description_tooltip": null,
            "layout": "IPY_MODEL_a6aebee5c63046c8af7cff9cb8ff2e2f",
            "placeholder": "​",
            "style": "IPY_MODEL_745ab458cf6c443ebc38a69eb10f5478",
            "value": "Downloading data: 100%"
          }
        },
        "816781ecf2234261bd645a0d34e4523e": {
          "model_module": "@jupyter-widgets/controls",
          "model_name": "FloatProgressModel",
          "model_module_version": "1.5.0",
          "state": {
            "_dom_classes": [],
            "_model_module": "@jupyter-widgets/controls",
            "_model_module_version": "1.5.0",
            "_model_name": "FloatProgressModel",
            "_view_count": null,
            "_view_module": "@jupyter-widgets/controls",
            "_view_module_version": "1.5.0",
            "_view_name": "ProgressView",
            "bar_style": "success",
            "description": "",
            "description_tooltip": null,
            "layout": "IPY_MODEL_439672b8cda8435b93af8869f785a15a",
            "max": 2274275,
            "min": 0,
            "orientation": "horizontal",
            "style": "IPY_MODEL_e9a35ffabecf4ac2841ad09b23a7727b",
            "value": 2274275
          }
        },
        "38a0039301cf4920a23f6d31f72a4abf": {
          "model_module": "@jupyter-widgets/controls",
          "model_name": "HTMLModel",
          "model_module_version": "1.5.0",
          "state": {
            "_dom_classes": [],
            "_model_module": "@jupyter-widgets/controls",
            "_model_module_version": "1.5.0",
            "_model_name": "HTMLModel",
            "_view_count": null,
            "_view_module": "@jupyter-widgets/controls",
            "_view_module_version": "1.5.0",
            "_view_name": "HTMLView",
            "description": "",
            "description_tooltip": null,
            "layout": "IPY_MODEL_10928e58fe9a4a9b8fa251364406339e",
            "placeholder": "​",
            "style": "IPY_MODEL_b9e813ee690c45108620735dfa64e111",
            "value": " 2.27M/2.27M [00:01&lt;00:00, 1.72MB/s]"
          }
        },
        "515454e034a748808be852c31e4a8a66": {
          "model_module": "@jupyter-widgets/base",
          "model_name": "LayoutModel",
          "model_module_version": "1.2.0",
          "state": {
            "_model_module": "@jupyter-widgets/base",
            "_model_module_version": "1.2.0",
            "_model_name": "LayoutModel",
            "_view_count": null,
            "_view_module": "@jupyter-widgets/base",
            "_view_module_version": "1.2.0",
            "_view_name": "LayoutView",
            "align_content": null,
            "align_items": null,
            "align_self": null,
            "border": null,
            "bottom": null,
            "display": null,
            "flex": null,
            "flex_flow": null,
            "grid_area": null,
            "grid_auto_columns": null,
            "grid_auto_flow": null,
            "grid_auto_rows": null,
            "grid_column": null,
            "grid_gap": null,
            "grid_row": null,
            "grid_template_areas": null,
            "grid_template_columns": null,
            "grid_template_rows": null,
            "height": null,
            "justify_content": null,
            "justify_items": null,
            "left": null,
            "margin": null,
            "max_height": null,
            "max_width": null,
            "min_height": null,
            "min_width": null,
            "object_fit": null,
            "object_position": null,
            "order": null,
            "overflow": null,
            "overflow_x": null,
            "overflow_y": null,
            "padding": null,
            "right": null,
            "top": null,
            "visibility": null,
            "width": null
          }
        },
        "a6aebee5c63046c8af7cff9cb8ff2e2f": {
          "model_module": "@jupyter-widgets/base",
          "model_name": "LayoutModel",
          "model_module_version": "1.2.0",
          "state": {
            "_model_module": "@jupyter-widgets/base",
            "_model_module_version": "1.2.0",
            "_model_name": "LayoutModel",
            "_view_count": null,
            "_view_module": "@jupyter-widgets/base",
            "_view_module_version": "1.2.0",
            "_view_name": "LayoutView",
            "align_content": null,
            "align_items": null,
            "align_self": null,
            "border": null,
            "bottom": null,
            "display": null,
            "flex": null,
            "flex_flow": null,
            "grid_area": null,
            "grid_auto_columns": null,
            "grid_auto_flow": null,
            "grid_auto_rows": null,
            "grid_column": null,
            "grid_gap": null,
            "grid_row": null,
            "grid_template_areas": null,
            "grid_template_columns": null,
            "grid_template_rows": null,
            "height": null,
            "justify_content": null,
            "justify_items": null,
            "left": null,
            "margin": null,
            "max_height": null,
            "max_width": null,
            "min_height": null,
            "min_width": null,
            "object_fit": null,
            "object_position": null,
            "order": null,
            "overflow": null,
            "overflow_x": null,
            "overflow_y": null,
            "padding": null,
            "right": null,
            "top": null,
            "visibility": null,
            "width": null
          }
        },
        "745ab458cf6c443ebc38a69eb10f5478": {
          "model_module": "@jupyter-widgets/controls",
          "model_name": "DescriptionStyleModel",
          "model_module_version": "1.5.0",
          "state": {
            "_model_module": "@jupyter-widgets/controls",
            "_model_module_version": "1.5.0",
            "_model_name": "DescriptionStyleModel",
            "_view_count": null,
            "_view_module": "@jupyter-widgets/base",
            "_view_module_version": "1.2.0",
            "_view_name": "StyleView",
            "description_width": ""
          }
        },
        "439672b8cda8435b93af8869f785a15a": {
          "model_module": "@jupyter-widgets/base",
          "model_name": "LayoutModel",
          "model_module_version": "1.2.0",
          "state": {
            "_model_module": "@jupyter-widgets/base",
            "_model_module_version": "1.2.0",
            "_model_name": "LayoutModel",
            "_view_count": null,
            "_view_module": "@jupyter-widgets/base",
            "_view_module_version": "1.2.0",
            "_view_name": "LayoutView",
            "align_content": null,
            "align_items": null,
            "align_self": null,
            "border": null,
            "bottom": null,
            "display": null,
            "flex": null,
            "flex_flow": null,
            "grid_area": null,
            "grid_auto_columns": null,
            "grid_auto_flow": null,
            "grid_auto_rows": null,
            "grid_column": null,
            "grid_gap": null,
            "grid_row": null,
            "grid_template_areas": null,
            "grid_template_columns": null,
            "grid_template_rows": null,
            "height": null,
            "justify_content": null,
            "justify_items": null,
            "left": null,
            "margin": null,
            "max_height": null,
            "max_width": null,
            "min_height": null,
            "min_width": null,
            "object_fit": null,
            "object_position": null,
            "order": null,
            "overflow": null,
            "overflow_x": null,
            "overflow_y": null,
            "padding": null,
            "right": null,
            "top": null,
            "visibility": null,
            "width": null
          }
        },
        "e9a35ffabecf4ac2841ad09b23a7727b": {
          "model_module": "@jupyter-widgets/controls",
          "model_name": "ProgressStyleModel",
          "model_module_version": "1.5.0",
          "state": {
            "_model_module": "@jupyter-widgets/controls",
            "_model_module_version": "1.5.0",
            "_model_name": "ProgressStyleModel",
            "_view_count": null,
            "_view_module": "@jupyter-widgets/base",
            "_view_module_version": "1.2.0",
            "_view_name": "StyleView",
            "bar_color": null,
            "description_width": ""
          }
        },
        "10928e58fe9a4a9b8fa251364406339e": {
          "model_module": "@jupyter-widgets/base",
          "model_name": "LayoutModel",
          "model_module_version": "1.2.0",
          "state": {
            "_model_module": "@jupyter-widgets/base",
            "_model_module_version": "1.2.0",
            "_model_name": "LayoutModel",
            "_view_count": null,
            "_view_module": "@jupyter-widgets/base",
            "_view_module_version": "1.2.0",
            "_view_name": "LayoutView",
            "align_content": null,
            "align_items": null,
            "align_self": null,
            "border": null,
            "bottom": null,
            "display": null,
            "flex": null,
            "flex_flow": null,
            "grid_area": null,
            "grid_auto_columns": null,
            "grid_auto_flow": null,
            "grid_auto_rows": null,
            "grid_column": null,
            "grid_gap": null,
            "grid_row": null,
            "grid_template_areas": null,
            "grid_template_columns": null,
            "grid_template_rows": null,
            "height": null,
            "justify_content": null,
            "justify_items": null,
            "left": null,
            "margin": null,
            "max_height": null,
            "max_width": null,
            "min_height": null,
            "min_width": null,
            "object_fit": null,
            "object_position": null,
            "order": null,
            "overflow": null,
            "overflow_x": null,
            "overflow_y": null,
            "padding": null,
            "right": null,
            "top": null,
            "visibility": null,
            "width": null
          }
        },
        "b9e813ee690c45108620735dfa64e111": {
          "model_module": "@jupyter-widgets/controls",
          "model_name": "DescriptionStyleModel",
          "model_module_version": "1.5.0",
          "state": {
            "_model_module": "@jupyter-widgets/controls",
            "_model_module_version": "1.5.0",
            "_model_name": "DescriptionStyleModel",
            "_view_count": null,
            "_view_module": "@jupyter-widgets/base",
            "_view_module_version": "1.2.0",
            "_view_name": "StyleView",
            "description_width": ""
          }
        },
        "de1ce2f241a34ef2927b770e9b5b79eb": {
          "model_module": "@jupyter-widgets/controls",
          "model_name": "HBoxModel",
          "model_module_version": "1.5.0",
          "state": {
            "_dom_classes": [],
            "_model_module": "@jupyter-widgets/controls",
            "_model_module_version": "1.5.0",
            "_model_name": "HBoxModel",
            "_view_count": null,
            "_view_module": "@jupyter-widgets/controls",
            "_view_module_version": "1.5.0",
            "_view_name": "HBoxView",
            "box_style": "",
            "children": [
              "IPY_MODEL_4af1003a57f246e1bba0bc741240fa36",
              "IPY_MODEL_ca626efdab7d4f42855cc9538e59e1aa",
              "IPY_MODEL_f113d2771023493180e8c2b5e681e10e"
            ],
            "layout": "IPY_MODEL_edb20b2770ac4618a77d8d7d7abbe879"
          }
        },
        "4af1003a57f246e1bba0bc741240fa36": {
          "model_module": "@jupyter-widgets/controls",
          "model_name": "HTMLModel",
          "model_module_version": "1.5.0",
          "state": {
            "_dom_classes": [],
            "_model_module": "@jupyter-widgets/controls",
            "_model_module_version": "1.5.0",
            "_model_name": "HTMLModel",
            "_view_count": null,
            "_view_module": "@jupyter-widgets/controls",
            "_view_module_version": "1.5.0",
            "_view_name": "HTMLView",
            "description": "",
            "description_tooltip": null,
            "layout": "IPY_MODEL_0bcc8ee033e449b5b81371a319091179",
            "placeholder": "​",
            "style": "IPY_MODEL_65066424ca24417cb9a921cdafe7434c",
            "value": "Generating train split: 100%"
          }
        },
        "ca626efdab7d4f42855cc9538e59e1aa": {
          "model_module": "@jupyter-widgets/controls",
          "model_name": "FloatProgressModel",
          "model_module_version": "1.5.0",
          "state": {
            "_dom_classes": [],
            "_model_module": "@jupyter-widgets/controls",
            "_model_module_version": "1.5.0",
            "_model_name": "FloatProgressModel",
            "_view_count": null,
            "_view_module": "@jupyter-widgets/controls",
            "_view_module_version": "1.5.0",
            "_view_name": "ProgressView",
            "bar_style": "success",
            "description": "",
            "description_tooltip": null,
            "layout": "IPY_MODEL_0c929057be7b4a2b9e61381c15d595fd",
            "max": 2019,
            "min": 0,
            "orientation": "horizontal",
            "style": "IPY_MODEL_e0d437ab445a416cb10e4f1d04168647",
            "value": 2019
          }
        },
        "f113d2771023493180e8c2b5e681e10e": {
          "model_module": "@jupyter-widgets/controls",
          "model_name": "HTMLModel",
          "model_module_version": "1.5.0",
          "state": {
            "_dom_classes": [],
            "_model_module": "@jupyter-widgets/controls",
            "_model_module_version": "1.5.0",
            "_model_name": "HTMLModel",
            "_view_count": null,
            "_view_module": "@jupyter-widgets/controls",
            "_view_module_version": "1.5.0",
            "_view_name": "HTMLView",
            "description": "",
            "description_tooltip": null,
            "layout": "IPY_MODEL_60205dcced3a4998950200f2d84c2445",
            "placeholder": "​",
            "style": "IPY_MODEL_59c5cfedbe6d402e87b06ea55e284f0a",
            "value": " 2019/2019 [00:00&lt;00:00, 9181.21 examples/s]"
          }
        },
        "edb20b2770ac4618a77d8d7d7abbe879": {
          "model_module": "@jupyter-widgets/base",
          "model_name": "LayoutModel",
          "model_module_version": "1.2.0",
          "state": {
            "_model_module": "@jupyter-widgets/base",
            "_model_module_version": "1.2.0",
            "_model_name": "LayoutModel",
            "_view_count": null,
            "_view_module": "@jupyter-widgets/base",
            "_view_module_version": "1.2.0",
            "_view_name": "LayoutView",
            "align_content": null,
            "align_items": null,
            "align_self": null,
            "border": null,
            "bottom": null,
            "display": null,
            "flex": null,
            "flex_flow": null,
            "grid_area": null,
            "grid_auto_columns": null,
            "grid_auto_flow": null,
            "grid_auto_rows": null,
            "grid_column": null,
            "grid_gap": null,
            "grid_row": null,
            "grid_template_areas": null,
            "grid_template_columns": null,
            "grid_template_rows": null,
            "height": null,
            "justify_content": null,
            "justify_items": null,
            "left": null,
            "margin": null,
            "max_height": null,
            "max_width": null,
            "min_height": null,
            "min_width": null,
            "object_fit": null,
            "object_position": null,
            "order": null,
            "overflow": null,
            "overflow_x": null,
            "overflow_y": null,
            "padding": null,
            "right": null,
            "top": null,
            "visibility": null,
            "width": null
          }
        },
        "0bcc8ee033e449b5b81371a319091179": {
          "model_module": "@jupyter-widgets/base",
          "model_name": "LayoutModel",
          "model_module_version": "1.2.0",
          "state": {
            "_model_module": "@jupyter-widgets/base",
            "_model_module_version": "1.2.0",
            "_model_name": "LayoutModel",
            "_view_count": null,
            "_view_module": "@jupyter-widgets/base",
            "_view_module_version": "1.2.0",
            "_view_name": "LayoutView",
            "align_content": null,
            "align_items": null,
            "align_self": null,
            "border": null,
            "bottom": null,
            "display": null,
            "flex": null,
            "flex_flow": null,
            "grid_area": null,
            "grid_auto_columns": null,
            "grid_auto_flow": null,
            "grid_auto_rows": null,
            "grid_column": null,
            "grid_gap": null,
            "grid_row": null,
            "grid_template_areas": null,
            "grid_template_columns": null,
            "grid_template_rows": null,
            "height": null,
            "justify_content": null,
            "justify_items": null,
            "left": null,
            "margin": null,
            "max_height": null,
            "max_width": null,
            "min_height": null,
            "min_width": null,
            "object_fit": null,
            "object_position": null,
            "order": null,
            "overflow": null,
            "overflow_x": null,
            "overflow_y": null,
            "padding": null,
            "right": null,
            "top": null,
            "visibility": null,
            "width": null
          }
        },
        "65066424ca24417cb9a921cdafe7434c": {
          "model_module": "@jupyter-widgets/controls",
          "model_name": "DescriptionStyleModel",
          "model_module_version": "1.5.0",
          "state": {
            "_model_module": "@jupyter-widgets/controls",
            "_model_module_version": "1.5.0",
            "_model_name": "DescriptionStyleModel",
            "_view_count": null,
            "_view_module": "@jupyter-widgets/base",
            "_view_module_version": "1.2.0",
            "_view_name": "StyleView",
            "description_width": ""
          }
        },
        "0c929057be7b4a2b9e61381c15d595fd": {
          "model_module": "@jupyter-widgets/base",
          "model_name": "LayoutModel",
          "model_module_version": "1.2.0",
          "state": {
            "_model_module": "@jupyter-widgets/base",
            "_model_module_version": "1.2.0",
            "_model_name": "LayoutModel",
            "_view_count": null,
            "_view_module": "@jupyter-widgets/base",
            "_view_module_version": "1.2.0",
            "_view_name": "LayoutView",
            "align_content": null,
            "align_items": null,
            "align_self": null,
            "border": null,
            "bottom": null,
            "display": null,
            "flex": null,
            "flex_flow": null,
            "grid_area": null,
            "grid_auto_columns": null,
            "grid_auto_flow": null,
            "grid_auto_rows": null,
            "grid_column": null,
            "grid_gap": null,
            "grid_row": null,
            "grid_template_areas": null,
            "grid_template_columns": null,
            "grid_template_rows": null,
            "height": null,
            "justify_content": null,
            "justify_items": null,
            "left": null,
            "margin": null,
            "max_height": null,
            "max_width": null,
            "min_height": null,
            "min_width": null,
            "object_fit": null,
            "object_position": null,
            "order": null,
            "overflow": null,
            "overflow_x": null,
            "overflow_y": null,
            "padding": null,
            "right": null,
            "top": null,
            "visibility": null,
            "width": null
          }
        },
        "e0d437ab445a416cb10e4f1d04168647": {
          "model_module": "@jupyter-widgets/controls",
          "model_name": "ProgressStyleModel",
          "model_module_version": "1.5.0",
          "state": {
            "_model_module": "@jupyter-widgets/controls",
            "_model_module_version": "1.5.0",
            "_model_name": "ProgressStyleModel",
            "_view_count": null,
            "_view_module": "@jupyter-widgets/base",
            "_view_module_version": "1.2.0",
            "_view_name": "StyleView",
            "bar_color": null,
            "description_width": ""
          }
        },
        "60205dcced3a4998950200f2d84c2445": {
          "model_module": "@jupyter-widgets/base",
          "model_name": "LayoutModel",
          "model_module_version": "1.2.0",
          "state": {
            "_model_module": "@jupyter-widgets/base",
            "_model_module_version": "1.2.0",
            "_model_name": "LayoutModel",
            "_view_count": null,
            "_view_module": "@jupyter-widgets/base",
            "_view_module_version": "1.2.0",
            "_view_name": "LayoutView",
            "align_content": null,
            "align_items": null,
            "align_self": null,
            "border": null,
            "bottom": null,
            "display": null,
            "flex": null,
            "flex_flow": null,
            "grid_area": null,
            "grid_auto_columns": null,
            "grid_auto_flow": null,
            "grid_auto_rows": null,
            "grid_column": null,
            "grid_gap": null,
            "grid_row": null,
            "grid_template_areas": null,
            "grid_template_columns": null,
            "grid_template_rows": null,
            "height": null,
            "justify_content": null,
            "justify_items": null,
            "left": null,
            "margin": null,
            "max_height": null,
            "max_width": null,
            "min_height": null,
            "min_width": null,
            "object_fit": null,
            "object_position": null,
            "order": null,
            "overflow": null,
            "overflow_x": null,
            "overflow_y": null,
            "padding": null,
            "right": null,
            "top": null,
            "visibility": null,
            "width": null
          }
        },
        "59c5cfedbe6d402e87b06ea55e284f0a": {
          "model_module": "@jupyter-widgets/controls",
          "model_name": "DescriptionStyleModel",
          "model_module_version": "1.5.0",
          "state": {
            "_model_module": "@jupyter-widgets/controls",
            "_model_module_version": "1.5.0",
            "_model_name": "DescriptionStyleModel",
            "_view_count": null,
            "_view_module": "@jupyter-widgets/base",
            "_view_module_version": "1.2.0",
            "_view_name": "StyleView",
            "description_width": ""
          }
        },
        "9534d76b346e4629a20937eb956f477b": {
          "model_module": "@jupyter-widgets/controls",
          "model_name": "HBoxModel",
          "model_module_version": "1.5.0",
          "state": {
            "_dom_classes": [],
            "_model_module": "@jupyter-widgets/controls",
            "_model_module_version": "1.5.0",
            "_model_name": "HBoxModel",
            "_view_count": null,
            "_view_module": "@jupyter-widgets/controls",
            "_view_module_version": "1.5.0",
            "_view_name": "HBoxView",
            "box_style": "",
            "children": [
              "IPY_MODEL_ceba056e9e014cb8bfd35827d14afc00",
              "IPY_MODEL_b804570b151046e4a922af4ef8c9f7b4",
              "IPY_MODEL_259ecca82b0e4b1b94996e6f781d2467"
            ],
            "layout": "IPY_MODEL_d6ae9c50b81843ab936a4361c1061beb"
          }
        },
        "ceba056e9e014cb8bfd35827d14afc00": {
          "model_module": "@jupyter-widgets/controls",
          "model_name": "HTMLModel",
          "model_module_version": "1.5.0",
          "state": {
            "_dom_classes": [],
            "_model_module": "@jupyter-widgets/controls",
            "_model_module_version": "1.5.0",
            "_model_name": "HTMLModel",
            "_view_count": null,
            "_view_module": "@jupyter-widgets/controls",
            "_view_module_version": "1.5.0",
            "_view_name": "HTMLView",
            "description": "",
            "description_tooltip": null,
            "layout": "IPY_MODEL_8f9d9e7924274d9aa0edd5a930fd634a",
            "placeholder": "​",
            "style": "IPY_MODEL_de44dd163ca1412d99685ba17e6c5db8",
            "value": "model.safetensors: 100%"
          }
        },
        "b804570b151046e4a922af4ef8c9f7b4": {
          "model_module": "@jupyter-widgets/controls",
          "model_name": "FloatProgressModel",
          "model_module_version": "1.5.0",
          "state": {
            "_dom_classes": [],
            "_model_module": "@jupyter-widgets/controls",
            "_model_module_version": "1.5.0",
            "_model_name": "FloatProgressModel",
            "_view_count": null,
            "_view_module": "@jupyter-widgets/controls",
            "_view_module_version": "1.5.0",
            "_view_name": "ProgressView",
            "bar_style": "success",
            "description": "",
            "description_tooltip": null,
            "layout": "IPY_MODEL_fc358197d4434097b453317d411fbacb",
            "max": 267954768,
            "min": 0,
            "orientation": "horizontal",
            "style": "IPY_MODEL_a1b852887c2945caaf479958b9d816dd",
            "value": 267954768
          }
        },
        "259ecca82b0e4b1b94996e6f781d2467": {
          "model_module": "@jupyter-widgets/controls",
          "model_name": "HTMLModel",
          "model_module_version": "1.5.0",
          "state": {
            "_dom_classes": [],
            "_model_module": "@jupyter-widgets/controls",
            "_model_module_version": "1.5.0",
            "_model_name": "HTMLModel",
            "_view_count": null,
            "_view_module": "@jupyter-widgets/controls",
            "_view_module_version": "1.5.0",
            "_view_name": "HTMLView",
            "description": "",
            "description_tooltip": null,
            "layout": "IPY_MODEL_7b69546ec29d4346b1ba8bf1ed740808",
            "placeholder": "​",
            "style": "IPY_MODEL_fe75759a434244e8999ab5671677f2a6",
            "value": " 268M/268M [00:00&lt;00:00, 376MB/s]"
          }
        },
        "d6ae9c50b81843ab936a4361c1061beb": {
          "model_module": "@jupyter-widgets/base",
          "model_name": "LayoutModel",
          "model_module_version": "1.2.0",
          "state": {
            "_model_module": "@jupyter-widgets/base",
            "_model_module_version": "1.2.0",
            "_model_name": "LayoutModel",
            "_view_count": null,
            "_view_module": "@jupyter-widgets/base",
            "_view_module_version": "1.2.0",
            "_view_name": "LayoutView",
            "align_content": null,
            "align_items": null,
            "align_self": null,
            "border": null,
            "bottom": null,
            "display": null,
            "flex": null,
            "flex_flow": null,
            "grid_area": null,
            "grid_auto_columns": null,
            "grid_auto_flow": null,
            "grid_auto_rows": null,
            "grid_column": null,
            "grid_gap": null,
            "grid_row": null,
            "grid_template_areas": null,
            "grid_template_columns": null,
            "grid_template_rows": null,
            "height": null,
            "justify_content": null,
            "justify_items": null,
            "left": null,
            "margin": null,
            "max_height": null,
            "max_width": null,
            "min_height": null,
            "min_width": null,
            "object_fit": null,
            "object_position": null,
            "order": null,
            "overflow": null,
            "overflow_x": null,
            "overflow_y": null,
            "padding": null,
            "right": null,
            "top": null,
            "visibility": null,
            "width": null
          }
        },
        "8f9d9e7924274d9aa0edd5a930fd634a": {
          "model_module": "@jupyter-widgets/base",
          "model_name": "LayoutModel",
          "model_module_version": "1.2.0",
          "state": {
            "_model_module": "@jupyter-widgets/base",
            "_model_module_version": "1.2.0",
            "_model_name": "LayoutModel",
            "_view_count": null,
            "_view_module": "@jupyter-widgets/base",
            "_view_module_version": "1.2.0",
            "_view_name": "LayoutView",
            "align_content": null,
            "align_items": null,
            "align_self": null,
            "border": null,
            "bottom": null,
            "display": null,
            "flex": null,
            "flex_flow": null,
            "grid_area": null,
            "grid_auto_columns": null,
            "grid_auto_flow": null,
            "grid_auto_rows": null,
            "grid_column": null,
            "grid_gap": null,
            "grid_row": null,
            "grid_template_areas": null,
            "grid_template_columns": null,
            "grid_template_rows": null,
            "height": null,
            "justify_content": null,
            "justify_items": null,
            "left": null,
            "margin": null,
            "max_height": null,
            "max_width": null,
            "min_height": null,
            "min_width": null,
            "object_fit": null,
            "object_position": null,
            "order": null,
            "overflow": null,
            "overflow_x": null,
            "overflow_y": null,
            "padding": null,
            "right": null,
            "top": null,
            "visibility": null,
            "width": null
          }
        },
        "de44dd163ca1412d99685ba17e6c5db8": {
          "model_module": "@jupyter-widgets/controls",
          "model_name": "DescriptionStyleModel",
          "model_module_version": "1.5.0",
          "state": {
            "_model_module": "@jupyter-widgets/controls",
            "_model_module_version": "1.5.0",
            "_model_name": "DescriptionStyleModel",
            "_view_count": null,
            "_view_module": "@jupyter-widgets/base",
            "_view_module_version": "1.2.0",
            "_view_name": "StyleView",
            "description_width": ""
          }
        },
        "fc358197d4434097b453317d411fbacb": {
          "model_module": "@jupyter-widgets/base",
          "model_name": "LayoutModel",
          "model_module_version": "1.2.0",
          "state": {
            "_model_module": "@jupyter-widgets/base",
            "_model_module_version": "1.2.0",
            "_model_name": "LayoutModel",
            "_view_count": null,
            "_view_module": "@jupyter-widgets/base",
            "_view_module_version": "1.2.0",
            "_view_name": "LayoutView",
            "align_content": null,
            "align_items": null,
            "align_self": null,
            "border": null,
            "bottom": null,
            "display": null,
            "flex": null,
            "flex_flow": null,
            "grid_area": null,
            "grid_auto_columns": null,
            "grid_auto_flow": null,
            "grid_auto_rows": null,
            "grid_column": null,
            "grid_gap": null,
            "grid_row": null,
            "grid_template_areas": null,
            "grid_template_columns": null,
            "grid_template_rows": null,
            "height": null,
            "justify_content": null,
            "justify_items": null,
            "left": null,
            "margin": null,
            "max_height": null,
            "max_width": null,
            "min_height": null,
            "min_width": null,
            "object_fit": null,
            "object_position": null,
            "order": null,
            "overflow": null,
            "overflow_x": null,
            "overflow_y": null,
            "padding": null,
            "right": null,
            "top": null,
            "visibility": null,
            "width": null
          }
        },
        "a1b852887c2945caaf479958b9d816dd": {
          "model_module": "@jupyter-widgets/controls",
          "model_name": "ProgressStyleModel",
          "model_module_version": "1.5.0",
          "state": {
            "_model_module": "@jupyter-widgets/controls",
            "_model_module_version": "1.5.0",
            "_model_name": "ProgressStyleModel",
            "_view_count": null,
            "_view_module": "@jupyter-widgets/base",
            "_view_module_version": "1.2.0",
            "_view_name": "StyleView",
            "bar_color": null,
            "description_width": ""
          }
        },
        "7b69546ec29d4346b1ba8bf1ed740808": {
          "model_module": "@jupyter-widgets/base",
          "model_name": "LayoutModel",
          "model_module_version": "1.2.0",
          "state": {
            "_model_module": "@jupyter-widgets/base",
            "_model_module_version": "1.2.0",
            "_model_name": "LayoutModel",
            "_view_count": null,
            "_view_module": "@jupyter-widgets/base",
            "_view_module_version": "1.2.0",
            "_view_name": "LayoutView",
            "align_content": null,
            "align_items": null,
            "align_self": null,
            "border": null,
            "bottom": null,
            "display": null,
            "flex": null,
            "flex_flow": null,
            "grid_area": null,
            "grid_auto_columns": null,
            "grid_auto_flow": null,
            "grid_auto_rows": null,
            "grid_column": null,
            "grid_gap": null,
            "grid_row": null,
            "grid_template_areas": null,
            "grid_template_columns": null,
            "grid_template_rows": null,
            "height": null,
            "justify_content": null,
            "justify_items": null,
            "left": null,
            "margin": null,
            "max_height": null,
            "max_width": null,
            "min_height": null,
            "min_width": null,
            "object_fit": null,
            "object_position": null,
            "order": null,
            "overflow": null,
            "overflow_x": null,
            "overflow_y": null,
            "padding": null,
            "right": null,
            "top": null,
            "visibility": null,
            "width": null
          }
        },
        "fe75759a434244e8999ab5671677f2a6": {
          "model_module": "@jupyter-widgets/controls",
          "model_name": "DescriptionStyleModel",
          "model_module_version": "1.5.0",
          "state": {
            "_model_module": "@jupyter-widgets/controls",
            "_model_module_version": "1.5.0",
            "_model_name": "DescriptionStyleModel",
            "_view_count": null,
            "_view_module": "@jupyter-widgets/base",
            "_view_module_version": "1.2.0",
            "_view_name": "StyleView",
            "description_width": ""
          }
        },
        "ce8e24561ec94e609a50410dc3b3b9bc": {
          "model_module": "@jupyter-widgets/controls",
          "model_name": "HBoxModel",
          "model_module_version": "1.5.0",
          "state": {
            "_dom_classes": [],
            "_model_module": "@jupyter-widgets/controls",
            "_model_module_version": "1.5.0",
            "_model_name": "HBoxModel",
            "_view_count": null,
            "_view_module": "@jupyter-widgets/controls",
            "_view_module_version": "1.5.0",
            "_view_name": "HBoxView",
            "box_style": "",
            "children": [
              "IPY_MODEL_8a24d87a1352497a8be6c4437b043c00",
              "IPY_MODEL_c5e9a50087a542b5ab375d50b445e40f",
              "IPY_MODEL_e37c123d786a4505bd150a2a8162c82d"
            ],
            "layout": "IPY_MODEL_4707dbb09caf4790ac1e74d45a03041e"
          }
        },
        "8a24d87a1352497a8be6c4437b043c00": {
          "model_module": "@jupyter-widgets/controls",
          "model_name": "HTMLModel",
          "model_module_version": "1.5.0",
          "state": {
            "_dom_classes": [],
            "_model_module": "@jupyter-widgets/controls",
            "_model_module_version": "1.5.0",
            "_model_name": "HTMLModel",
            "_view_count": null,
            "_view_module": "@jupyter-widgets/controls",
            "_view_module_version": "1.5.0",
            "_view_name": "HTMLView",
            "description": "",
            "description_tooltip": null,
            "layout": "IPY_MODEL_f11e7244d2eb4b90ab444a878189d235",
            "placeholder": "​",
            "style": "IPY_MODEL_147840dc2dbd4d809d15f64bfe435b8f",
            "value": "Map (num_proc=8): 100%"
          }
        },
        "c5e9a50087a542b5ab375d50b445e40f": {
          "model_module": "@jupyter-widgets/controls",
          "model_name": "FloatProgressModel",
          "model_module_version": "1.5.0",
          "state": {
            "_dom_classes": [],
            "_model_module": "@jupyter-widgets/controls",
            "_model_module_version": "1.5.0",
            "_model_name": "FloatProgressModel",
            "_view_count": null,
            "_view_module": "@jupyter-widgets/controls",
            "_view_module_version": "1.5.0",
            "_view_name": "ProgressView",
            "bar_style": "success",
            "description": "",
            "description_tooltip": null,
            "layout": "IPY_MODEL_cfb652866b5d4bb2887077493f4f9b2d",
            "max": 1413,
            "min": 0,
            "orientation": "horizontal",
            "style": "IPY_MODEL_68f5c502894a4d3db42bb3ef0a1009e3",
            "value": 1413
          }
        },
        "e37c123d786a4505bd150a2a8162c82d": {
          "model_module": "@jupyter-widgets/controls",
          "model_name": "HTMLModel",
          "model_module_version": "1.5.0",
          "state": {
            "_dom_classes": [],
            "_model_module": "@jupyter-widgets/controls",
            "_model_module_version": "1.5.0",
            "_model_name": "HTMLModel",
            "_view_count": null,
            "_view_module": "@jupyter-widgets/controls",
            "_view_module_version": "1.5.0",
            "_view_name": "HTMLView",
            "description": "",
            "description_tooltip": null,
            "layout": "IPY_MODEL_63c296639a9448949cd7ee5589fc4abd",
            "placeholder": "​",
            "style": "IPY_MODEL_2ab850a53a4f4cb0bd7ac19c455ef916",
            "value": " 1413/1413 [00:15&lt;00:00, 286.39 examples/s]"
          }
        },
        "4707dbb09caf4790ac1e74d45a03041e": {
          "model_module": "@jupyter-widgets/base",
          "model_name": "LayoutModel",
          "model_module_version": "1.2.0",
          "state": {
            "_model_module": "@jupyter-widgets/base",
            "_model_module_version": "1.2.0",
            "_model_name": "LayoutModel",
            "_view_count": null,
            "_view_module": "@jupyter-widgets/base",
            "_view_module_version": "1.2.0",
            "_view_name": "LayoutView",
            "align_content": null,
            "align_items": null,
            "align_self": null,
            "border": null,
            "bottom": null,
            "display": null,
            "flex": null,
            "flex_flow": null,
            "grid_area": null,
            "grid_auto_columns": null,
            "grid_auto_flow": null,
            "grid_auto_rows": null,
            "grid_column": null,
            "grid_gap": null,
            "grid_row": null,
            "grid_template_areas": null,
            "grid_template_columns": null,
            "grid_template_rows": null,
            "height": null,
            "justify_content": null,
            "justify_items": null,
            "left": null,
            "margin": null,
            "max_height": null,
            "max_width": null,
            "min_height": null,
            "min_width": null,
            "object_fit": null,
            "object_position": null,
            "order": null,
            "overflow": null,
            "overflow_x": null,
            "overflow_y": null,
            "padding": null,
            "right": null,
            "top": null,
            "visibility": null,
            "width": null
          }
        },
        "f11e7244d2eb4b90ab444a878189d235": {
          "model_module": "@jupyter-widgets/base",
          "model_name": "LayoutModel",
          "model_module_version": "1.2.0",
          "state": {
            "_model_module": "@jupyter-widgets/base",
            "_model_module_version": "1.2.0",
            "_model_name": "LayoutModel",
            "_view_count": null,
            "_view_module": "@jupyter-widgets/base",
            "_view_module_version": "1.2.0",
            "_view_name": "LayoutView",
            "align_content": null,
            "align_items": null,
            "align_self": null,
            "border": null,
            "bottom": null,
            "display": null,
            "flex": null,
            "flex_flow": null,
            "grid_area": null,
            "grid_auto_columns": null,
            "grid_auto_flow": null,
            "grid_auto_rows": null,
            "grid_column": null,
            "grid_gap": null,
            "grid_row": null,
            "grid_template_areas": null,
            "grid_template_columns": null,
            "grid_template_rows": null,
            "height": null,
            "justify_content": null,
            "justify_items": null,
            "left": null,
            "margin": null,
            "max_height": null,
            "max_width": null,
            "min_height": null,
            "min_width": null,
            "object_fit": null,
            "object_position": null,
            "order": null,
            "overflow": null,
            "overflow_x": null,
            "overflow_y": null,
            "padding": null,
            "right": null,
            "top": null,
            "visibility": null,
            "width": null
          }
        },
        "147840dc2dbd4d809d15f64bfe435b8f": {
          "model_module": "@jupyter-widgets/controls",
          "model_name": "DescriptionStyleModel",
          "model_module_version": "1.5.0",
          "state": {
            "_model_module": "@jupyter-widgets/controls",
            "_model_module_version": "1.5.0",
            "_model_name": "DescriptionStyleModel",
            "_view_count": null,
            "_view_module": "@jupyter-widgets/base",
            "_view_module_version": "1.2.0",
            "_view_name": "StyleView",
            "description_width": ""
          }
        },
        "cfb652866b5d4bb2887077493f4f9b2d": {
          "model_module": "@jupyter-widgets/base",
          "model_name": "LayoutModel",
          "model_module_version": "1.2.0",
          "state": {
            "_model_module": "@jupyter-widgets/base",
            "_model_module_version": "1.2.0",
            "_model_name": "LayoutModel",
            "_view_count": null,
            "_view_module": "@jupyter-widgets/base",
            "_view_module_version": "1.2.0",
            "_view_name": "LayoutView",
            "align_content": null,
            "align_items": null,
            "align_self": null,
            "border": null,
            "bottom": null,
            "display": null,
            "flex": null,
            "flex_flow": null,
            "grid_area": null,
            "grid_auto_columns": null,
            "grid_auto_flow": null,
            "grid_auto_rows": null,
            "grid_column": null,
            "grid_gap": null,
            "grid_row": null,
            "grid_template_areas": null,
            "grid_template_columns": null,
            "grid_template_rows": null,
            "height": null,
            "justify_content": null,
            "justify_items": null,
            "left": null,
            "margin": null,
            "max_height": null,
            "max_width": null,
            "min_height": null,
            "min_width": null,
            "object_fit": null,
            "object_position": null,
            "order": null,
            "overflow": null,
            "overflow_x": null,
            "overflow_y": null,
            "padding": null,
            "right": null,
            "top": null,
            "visibility": null,
            "width": null
          }
        },
        "68f5c502894a4d3db42bb3ef0a1009e3": {
          "model_module": "@jupyter-widgets/controls",
          "model_name": "ProgressStyleModel",
          "model_module_version": "1.5.0",
          "state": {
            "_model_module": "@jupyter-widgets/controls",
            "_model_module_version": "1.5.0",
            "_model_name": "ProgressStyleModel",
            "_view_count": null,
            "_view_module": "@jupyter-widgets/base",
            "_view_module_version": "1.2.0",
            "_view_name": "StyleView",
            "bar_color": null,
            "description_width": ""
          }
        },
        "63c296639a9448949cd7ee5589fc4abd": {
          "model_module": "@jupyter-widgets/base",
          "model_name": "LayoutModel",
          "model_module_version": "1.2.0",
          "state": {
            "_model_module": "@jupyter-widgets/base",
            "_model_module_version": "1.2.0",
            "_model_name": "LayoutModel",
            "_view_count": null,
            "_view_module": "@jupyter-widgets/base",
            "_view_module_version": "1.2.0",
            "_view_name": "LayoutView",
            "align_content": null,
            "align_items": null,
            "align_self": null,
            "border": null,
            "bottom": null,
            "display": null,
            "flex": null,
            "flex_flow": null,
            "grid_area": null,
            "grid_auto_columns": null,
            "grid_auto_flow": null,
            "grid_auto_rows": null,
            "grid_column": null,
            "grid_gap": null,
            "grid_row": null,
            "grid_template_areas": null,
            "grid_template_columns": null,
            "grid_template_rows": null,
            "height": null,
            "justify_content": null,
            "justify_items": null,
            "left": null,
            "margin": null,
            "max_height": null,
            "max_width": null,
            "min_height": null,
            "min_width": null,
            "object_fit": null,
            "object_position": null,
            "order": null,
            "overflow": null,
            "overflow_x": null,
            "overflow_y": null,
            "padding": null,
            "right": null,
            "top": null,
            "visibility": null,
            "width": null
          }
        },
        "2ab850a53a4f4cb0bd7ac19c455ef916": {
          "model_module": "@jupyter-widgets/controls",
          "model_name": "DescriptionStyleModel",
          "model_module_version": "1.5.0",
          "state": {
            "_model_module": "@jupyter-widgets/controls",
            "_model_module_version": "1.5.0",
            "_model_name": "DescriptionStyleModel",
            "_view_count": null,
            "_view_module": "@jupyter-widgets/base",
            "_view_module_version": "1.2.0",
            "_view_name": "StyleView",
            "description_width": ""
          }
        },
        "a95141335c2740949cc2b0902780cfa2": {
          "model_module": "@jupyter-widgets/controls",
          "model_name": "HBoxModel",
          "model_module_version": "1.5.0",
          "state": {
            "_dom_classes": [],
            "_model_module": "@jupyter-widgets/controls",
            "_model_module_version": "1.5.0",
            "_model_name": "HBoxModel",
            "_view_count": null,
            "_view_module": "@jupyter-widgets/controls",
            "_view_module_version": "1.5.0",
            "_view_name": "HBoxView",
            "box_style": "",
            "children": [
              "IPY_MODEL_ad1485ead3b142c0be2ddb588f2351ff",
              "IPY_MODEL_3353d6f49744481eba6408f78a68f533",
              "IPY_MODEL_7a69a9db21384719b4ef7fde3b3307a7"
            ],
            "layout": "IPY_MODEL_5f48084bf502462cae17d1f09d5420ea"
          }
        },
        "ad1485ead3b142c0be2ddb588f2351ff": {
          "model_module": "@jupyter-widgets/controls",
          "model_name": "HTMLModel",
          "model_module_version": "1.5.0",
          "state": {
            "_dom_classes": [],
            "_model_module": "@jupyter-widgets/controls",
            "_model_module_version": "1.5.0",
            "_model_name": "HTMLModel",
            "_view_count": null,
            "_view_module": "@jupyter-widgets/controls",
            "_view_module_version": "1.5.0",
            "_view_name": "HTMLView",
            "description": "",
            "description_tooltip": null,
            "layout": "IPY_MODEL_4203a0b5492f4751afc230da82a962c9",
            "placeholder": "​",
            "style": "IPY_MODEL_21f356369e13496abd7aab5bd612e828",
            "value": "Map (num_proc=8): 100%"
          }
        },
        "3353d6f49744481eba6408f78a68f533": {
          "model_module": "@jupyter-widgets/controls",
          "model_name": "FloatProgressModel",
          "model_module_version": "1.5.0",
          "state": {
            "_dom_classes": [],
            "_model_module": "@jupyter-widgets/controls",
            "_model_module_version": "1.5.0",
            "_model_name": "FloatProgressModel",
            "_view_count": null,
            "_view_module": "@jupyter-widgets/controls",
            "_view_module_version": "1.5.0",
            "_view_name": "ProgressView",
            "bar_style": "success",
            "description": "",
            "description_tooltip": null,
            "layout": "IPY_MODEL_ab7771665f564500b4e68344e800d28e",
            "max": 606,
            "min": 0,
            "orientation": "horizontal",
            "style": "IPY_MODEL_ac36bfa052b1499f81676666e444861c",
            "value": 606
          }
        },
        "7a69a9db21384719b4ef7fde3b3307a7": {
          "model_module": "@jupyter-widgets/controls",
          "model_name": "HTMLModel",
          "model_module_version": "1.5.0",
          "state": {
            "_dom_classes": [],
            "_model_module": "@jupyter-widgets/controls",
            "_model_module_version": "1.5.0",
            "_model_name": "HTMLModel",
            "_view_count": null,
            "_view_module": "@jupyter-widgets/controls",
            "_view_module_version": "1.5.0",
            "_view_name": "HTMLView",
            "description": "",
            "description_tooltip": null,
            "layout": "IPY_MODEL_31829c34ddf24133ab5fa4185c1d5460",
            "placeholder": "​",
            "style": "IPY_MODEL_12ac3249df124c4394fc94672421f47e",
            "value": " 606/606 [00:07&lt;00:00, 127.44 examples/s]"
          }
        },
        "5f48084bf502462cae17d1f09d5420ea": {
          "model_module": "@jupyter-widgets/base",
          "model_name": "LayoutModel",
          "model_module_version": "1.2.0",
          "state": {
            "_model_module": "@jupyter-widgets/base",
            "_model_module_version": "1.2.0",
            "_model_name": "LayoutModel",
            "_view_count": null,
            "_view_module": "@jupyter-widgets/base",
            "_view_module_version": "1.2.0",
            "_view_name": "LayoutView",
            "align_content": null,
            "align_items": null,
            "align_self": null,
            "border": null,
            "bottom": null,
            "display": null,
            "flex": null,
            "flex_flow": null,
            "grid_area": null,
            "grid_auto_columns": null,
            "grid_auto_flow": null,
            "grid_auto_rows": null,
            "grid_column": null,
            "grid_gap": null,
            "grid_row": null,
            "grid_template_areas": null,
            "grid_template_columns": null,
            "grid_template_rows": null,
            "height": null,
            "justify_content": null,
            "justify_items": null,
            "left": null,
            "margin": null,
            "max_height": null,
            "max_width": null,
            "min_height": null,
            "min_width": null,
            "object_fit": null,
            "object_position": null,
            "order": null,
            "overflow": null,
            "overflow_x": null,
            "overflow_y": null,
            "padding": null,
            "right": null,
            "top": null,
            "visibility": null,
            "width": null
          }
        },
        "4203a0b5492f4751afc230da82a962c9": {
          "model_module": "@jupyter-widgets/base",
          "model_name": "LayoutModel",
          "model_module_version": "1.2.0",
          "state": {
            "_model_module": "@jupyter-widgets/base",
            "_model_module_version": "1.2.0",
            "_model_name": "LayoutModel",
            "_view_count": null,
            "_view_module": "@jupyter-widgets/base",
            "_view_module_version": "1.2.0",
            "_view_name": "LayoutView",
            "align_content": null,
            "align_items": null,
            "align_self": null,
            "border": null,
            "bottom": null,
            "display": null,
            "flex": null,
            "flex_flow": null,
            "grid_area": null,
            "grid_auto_columns": null,
            "grid_auto_flow": null,
            "grid_auto_rows": null,
            "grid_column": null,
            "grid_gap": null,
            "grid_row": null,
            "grid_template_areas": null,
            "grid_template_columns": null,
            "grid_template_rows": null,
            "height": null,
            "justify_content": null,
            "justify_items": null,
            "left": null,
            "margin": null,
            "max_height": null,
            "max_width": null,
            "min_height": null,
            "min_width": null,
            "object_fit": null,
            "object_position": null,
            "order": null,
            "overflow": null,
            "overflow_x": null,
            "overflow_y": null,
            "padding": null,
            "right": null,
            "top": null,
            "visibility": null,
            "width": null
          }
        },
        "21f356369e13496abd7aab5bd612e828": {
          "model_module": "@jupyter-widgets/controls",
          "model_name": "DescriptionStyleModel",
          "model_module_version": "1.5.0",
          "state": {
            "_model_module": "@jupyter-widgets/controls",
            "_model_module_version": "1.5.0",
            "_model_name": "DescriptionStyleModel",
            "_view_count": null,
            "_view_module": "@jupyter-widgets/base",
            "_view_module_version": "1.2.0",
            "_view_name": "StyleView",
            "description_width": ""
          }
        },
        "ab7771665f564500b4e68344e800d28e": {
          "model_module": "@jupyter-widgets/base",
          "model_name": "LayoutModel",
          "model_module_version": "1.2.0",
          "state": {
            "_model_module": "@jupyter-widgets/base",
            "_model_module_version": "1.2.0",
            "_model_name": "LayoutModel",
            "_view_count": null,
            "_view_module": "@jupyter-widgets/base",
            "_view_module_version": "1.2.0",
            "_view_name": "LayoutView",
            "align_content": null,
            "align_items": null,
            "align_self": null,
            "border": null,
            "bottom": null,
            "display": null,
            "flex": null,
            "flex_flow": null,
            "grid_area": null,
            "grid_auto_columns": null,
            "grid_auto_flow": null,
            "grid_auto_rows": null,
            "grid_column": null,
            "grid_gap": null,
            "grid_row": null,
            "grid_template_areas": null,
            "grid_template_columns": null,
            "grid_template_rows": null,
            "height": null,
            "justify_content": null,
            "justify_items": null,
            "left": null,
            "margin": null,
            "max_height": null,
            "max_width": null,
            "min_height": null,
            "min_width": null,
            "object_fit": null,
            "object_position": null,
            "order": null,
            "overflow": null,
            "overflow_x": null,
            "overflow_y": null,
            "padding": null,
            "right": null,
            "top": null,
            "visibility": null,
            "width": null
          }
        },
        "ac36bfa052b1499f81676666e444861c": {
          "model_module": "@jupyter-widgets/controls",
          "model_name": "ProgressStyleModel",
          "model_module_version": "1.5.0",
          "state": {
            "_model_module": "@jupyter-widgets/controls",
            "_model_module_version": "1.5.0",
            "_model_name": "ProgressStyleModel",
            "_view_count": null,
            "_view_module": "@jupyter-widgets/base",
            "_view_module_version": "1.2.0",
            "_view_name": "StyleView",
            "bar_color": null,
            "description_width": ""
          }
        },
        "31829c34ddf24133ab5fa4185c1d5460": {
          "model_module": "@jupyter-widgets/base",
          "model_name": "LayoutModel",
          "model_module_version": "1.2.0",
          "state": {
            "_model_module": "@jupyter-widgets/base",
            "_model_module_version": "1.2.0",
            "_model_name": "LayoutModel",
            "_view_count": null,
            "_view_module": "@jupyter-widgets/base",
            "_view_module_version": "1.2.0",
            "_view_name": "LayoutView",
            "align_content": null,
            "align_items": null,
            "align_self": null,
            "border": null,
            "bottom": null,
            "display": null,
            "flex": null,
            "flex_flow": null,
            "grid_area": null,
            "grid_auto_columns": null,
            "grid_auto_flow": null,
            "grid_auto_rows": null,
            "grid_column": null,
            "grid_gap": null,
            "grid_row": null,
            "grid_template_areas": null,
            "grid_template_columns": null,
            "grid_template_rows": null,
            "height": null,
            "justify_content": null,
            "justify_items": null,
            "left": null,
            "margin": null,
            "max_height": null,
            "max_width": null,
            "min_height": null,
            "min_width": null,
            "object_fit": null,
            "object_position": null,
            "order": null,
            "overflow": null,
            "overflow_x": null,
            "overflow_y": null,
            "padding": null,
            "right": null,
            "top": null,
            "visibility": null,
            "width": null
          }
        },
        "12ac3249df124c4394fc94672421f47e": {
          "model_module": "@jupyter-widgets/controls",
          "model_name": "DescriptionStyleModel",
          "model_module_version": "1.5.0",
          "state": {
            "_model_module": "@jupyter-widgets/controls",
            "_model_module_version": "1.5.0",
            "_model_name": "DescriptionStyleModel",
            "_view_count": null,
            "_view_module": "@jupyter-widgets/base",
            "_view_module_version": "1.2.0",
            "_view_name": "StyleView",
            "description_width": ""
          }
        }
      }
    }
  },
  "nbformat": 4,
  "nbformat_minor": 0
}